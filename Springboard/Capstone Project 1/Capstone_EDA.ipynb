{
 "cells": [
  {
   "cell_type": "markdown",
   "metadata": {},
   "source": [
    "Read the readme.md file first.\n",
    "EDA:"
   ]
  },
  {
   "cell_type": "code",
   "execution_count": 1,
   "metadata": {
    "collapsed": true
   },
   "outputs": [],
   "source": [
    "import pandas as pd\n",
    "import numpy as np\n",
    "#plotting and statistical packages\n",
    "import matplotlib as mpl\n",
    "import matplotlib.pyplot as plt\n",
    "import scipy as sp\n",
    "import seaborn as sns\n",
    "#display graphs in notebook\n",
    "%matplotlib inline\n",
    "#displays a load bar for tracking loop time processing\n",
    "from tqdm import tqdm\n"
   ]
  },
  {
   "cell_type": "code",
   "execution_count": 2,
   "metadata": {},
   "outputs": [
    {
     "data": {
      "text/html": [
       "<div>\n",
       "<style>\n",
       "    .dataframe thead tr:only-child th {\n",
       "        text-align: right;\n",
       "    }\n",
       "\n",
       "    .dataframe thead th {\n",
       "        text-align: left;\n",
       "    }\n",
       "\n",
       "    .dataframe tbody tr th {\n",
       "        vertical-align: top;\n",
       "    }\n",
       "</style>\n",
       "<table border=\"1\" class=\"dataframe\">\n",
       "  <thead>\n",
       "    <tr style=\"text-align: right;\">\n",
       "      <th></th>\n",
       "      <th>order_id</th>\n",
       "      <th>user_id</th>\n",
       "      <th>eval_set</th>\n",
       "      <th>order_number</th>\n",
       "      <th>order_dow</th>\n",
       "      <th>order_hour_of_day</th>\n",
       "      <th>days_since_prior_order</th>\n",
       "    </tr>\n",
       "  </thead>\n",
       "  <tbody>\n",
       "    <tr>\n",
       "      <th>0</th>\n",
       "      <td>2539329</td>\n",
       "      <td>1</td>\n",
       "      <td>prior</td>\n",
       "      <td>1</td>\n",
       "      <td>2</td>\n",
       "      <td>8</td>\n",
       "      <td>NaN</td>\n",
       "    </tr>\n",
       "    <tr>\n",
       "      <th>1</th>\n",
       "      <td>2398795</td>\n",
       "      <td>1</td>\n",
       "      <td>prior</td>\n",
       "      <td>2</td>\n",
       "      <td>3</td>\n",
       "      <td>7</td>\n",
       "      <td>15.0</td>\n",
       "    </tr>\n",
       "    <tr>\n",
       "      <th>2</th>\n",
       "      <td>473747</td>\n",
       "      <td>1</td>\n",
       "      <td>prior</td>\n",
       "      <td>3</td>\n",
       "      <td>3</td>\n",
       "      <td>12</td>\n",
       "      <td>21.0</td>\n",
       "    </tr>\n",
       "    <tr>\n",
       "      <th>3</th>\n",
       "      <td>2254736</td>\n",
       "      <td>1</td>\n",
       "      <td>prior</td>\n",
       "      <td>4</td>\n",
       "      <td>4</td>\n",
       "      <td>7</td>\n",
       "      <td>29.0</td>\n",
       "    </tr>\n",
       "    <tr>\n",
       "      <th>4</th>\n",
       "      <td>431534</td>\n",
       "      <td>1</td>\n",
       "      <td>prior</td>\n",
       "      <td>5</td>\n",
       "      <td>4</td>\n",
       "      <td>15</td>\n",
       "      <td>28.0</td>\n",
       "    </tr>\n",
       "    <tr>\n",
       "      <th>5</th>\n",
       "      <td>3367565</td>\n",
       "      <td>1</td>\n",
       "      <td>prior</td>\n",
       "      <td>6</td>\n",
       "      <td>2</td>\n",
       "      <td>7</td>\n",
       "      <td>19.0</td>\n",
       "    </tr>\n",
       "    <tr>\n",
       "      <th>6</th>\n",
       "      <td>550135</td>\n",
       "      <td>1</td>\n",
       "      <td>prior</td>\n",
       "      <td>7</td>\n",
       "      <td>1</td>\n",
       "      <td>9</td>\n",
       "      <td>20.0</td>\n",
       "    </tr>\n",
       "    <tr>\n",
       "      <th>7</th>\n",
       "      <td>3108588</td>\n",
       "      <td>1</td>\n",
       "      <td>prior</td>\n",
       "      <td>8</td>\n",
       "      <td>1</td>\n",
       "      <td>14</td>\n",
       "      <td>14.0</td>\n",
       "    </tr>\n",
       "    <tr>\n",
       "      <th>8</th>\n",
       "      <td>2295261</td>\n",
       "      <td>1</td>\n",
       "      <td>prior</td>\n",
       "      <td>9</td>\n",
       "      <td>1</td>\n",
       "      <td>16</td>\n",
       "      <td>0.0</td>\n",
       "    </tr>\n",
       "    <tr>\n",
       "      <th>9</th>\n",
       "      <td>2550362</td>\n",
       "      <td>1</td>\n",
       "      <td>prior</td>\n",
       "      <td>10</td>\n",
       "      <td>4</td>\n",
       "      <td>8</td>\n",
       "      <td>30.0</td>\n",
       "    </tr>\n",
       "    <tr>\n",
       "      <th>10</th>\n",
       "      <td>1187899</td>\n",
       "      <td>1</td>\n",
       "      <td>train</td>\n",
       "      <td>11</td>\n",
       "      <td>4</td>\n",
       "      <td>8</td>\n",
       "      <td>14.0</td>\n",
       "    </tr>\n",
       "    <tr>\n",
       "      <th>11</th>\n",
       "      <td>2168274</td>\n",
       "      <td>2</td>\n",
       "      <td>prior</td>\n",
       "      <td>1</td>\n",
       "      <td>2</td>\n",
       "      <td>11</td>\n",
       "      <td>NaN</td>\n",
       "    </tr>\n",
       "  </tbody>\n",
       "</table>\n",
       "</div>"
      ],
      "text/plain": [
       "    order_id  user_id eval_set  order_number  order_dow  order_hour_of_day  \\\n",
       "0    2539329        1    prior             1          2                  8   \n",
       "1    2398795        1    prior             2          3                  7   \n",
       "2     473747        1    prior             3          3                 12   \n",
       "3    2254736        1    prior             4          4                  7   \n",
       "4     431534        1    prior             5          4                 15   \n",
       "5    3367565        1    prior             6          2                  7   \n",
       "6     550135        1    prior             7          1                  9   \n",
       "7    3108588        1    prior             8          1                 14   \n",
       "8    2295261        1    prior             9          1                 16   \n",
       "9    2550362        1    prior            10          4                  8   \n",
       "10   1187899        1    train            11          4                  8   \n",
       "11   2168274        2    prior             1          2                 11   \n",
       "\n",
       "    days_since_prior_order  \n",
       "0                      NaN  \n",
       "1                     15.0  \n",
       "2                     21.0  \n",
       "3                     29.0  \n",
       "4                     28.0  \n",
       "5                     19.0  \n",
       "6                     20.0  \n",
       "7                     14.0  \n",
       "8                      0.0  \n",
       "9                     30.0  \n",
       "10                    14.0  \n",
       "11                     NaN  "
      ]
     },
     "execution_count": 2,
     "metadata": {},
     "output_type": "execute_result"
    }
   ],
   "source": [
    "#lets load the first chunk of data and look around\n",
    "instacart_file=pd.read_csv('Data/orders.csv')\n",
    "df_orders=pd.DataFrame(instacart_file,)\n",
    "df_orders.head(12)\n"
   ]
  },
  {
   "cell_type": "markdown",
   "metadata": {},
   "source": [
    "# Draft data set up below"
   ]
  },
  {
   "cell_type": "code",
   "execution_count": 3,
   "metadata": {
    "collapsed": true
   },
   "outputs": [],
   "source": [
    "#df_orders.pivot(index='user_id',columns='order_id',values='eval_set')"
   ]
  },
  {
   "cell_type": "markdown",
   "metadata": {},
   "source": [
    "# EDA follows"
   ]
  },
  {
   "cell_type": "code",
   "execution_count": 4,
   "metadata": {},
   "outputs": [
    {
     "name": "stdout",
     "output_type": "stream",
     "text": [
      "<class 'pandas.core.frame.DataFrame'>\n",
      "RangeIndex: 3421083 entries, 0 to 3421082\n",
      "Data columns (total 7 columns):\n",
      "order_id                  int64\n",
      "user_id                   int64\n",
      "eval_set                  object\n",
      "order_number              int64\n",
      "order_dow                 int64\n",
      "order_hour_of_day         int64\n",
      "days_since_prior_order    float64\n",
      "dtypes: float64(1), int64(5), object(1)\n",
      "memory usage: 182.7+ MB\n"
     ]
    }
   ],
   "source": [
    "df_orders.info()"
   ]
  },
  {
   "cell_type": "markdown",
   "metadata": {},
   "source": [
    "The eval_set has broken data down to a prior data set, a training set and a test set. (see data readme.md for more details data (column meaings, NaN useage, and data useage terms and conditions).\n",
    "\n",
    "Lets segregate our data in order to keep the test data fresh and uncontaminated. We'll explore around in the prior data set to get an idea about the data. Then look at setting up the mechanics for the recommendor."
   ]
  },
  {
   "cell_type": "code",
   "execution_count": 5,
   "metadata": {},
   "outputs": [
    {
     "data": {
      "text/html": [
       "<div>\n",
       "<style>\n",
       "    .dataframe thead tr:only-child th {\n",
       "        text-align: right;\n",
       "    }\n",
       "\n",
       "    .dataframe thead th {\n",
       "        text-align: left;\n",
       "    }\n",
       "\n",
       "    .dataframe tbody tr th {\n",
       "        vertical-align: top;\n",
       "    }\n",
       "</style>\n",
       "<table border=\"1\" class=\"dataframe\">\n",
       "  <thead>\n",
       "    <tr style=\"text-align: right;\">\n",
       "      <th></th>\n",
       "      <th>order_id</th>\n",
       "      <th>user_id</th>\n",
       "      <th>eval_set</th>\n",
       "      <th>order_number</th>\n",
       "      <th>order_dow</th>\n",
       "      <th>order_hour_of_day</th>\n",
       "      <th>days_since_prior_order</th>\n",
       "    </tr>\n",
       "  </thead>\n",
       "  <tbody>\n",
       "    <tr>\n",
       "      <th>0</th>\n",
       "      <td>2539329</td>\n",
       "      <td>1</td>\n",
       "      <td>prior</td>\n",
       "      <td>1</td>\n",
       "      <td>2</td>\n",
       "      <td>8</td>\n",
       "      <td>NaN</td>\n",
       "    </tr>\n",
       "    <tr>\n",
       "      <th>1</th>\n",
       "      <td>2398795</td>\n",
       "      <td>1</td>\n",
       "      <td>prior</td>\n",
       "      <td>2</td>\n",
       "      <td>3</td>\n",
       "      <td>7</td>\n",
       "      <td>15.0</td>\n",
       "    </tr>\n",
       "    <tr>\n",
       "      <th>2</th>\n",
       "      <td>473747</td>\n",
       "      <td>1</td>\n",
       "      <td>prior</td>\n",
       "      <td>3</td>\n",
       "      <td>3</td>\n",
       "      <td>12</td>\n",
       "      <td>21.0</td>\n",
       "    </tr>\n",
       "    <tr>\n",
       "      <th>3</th>\n",
       "      <td>2254736</td>\n",
       "      <td>1</td>\n",
       "      <td>prior</td>\n",
       "      <td>4</td>\n",
       "      <td>4</td>\n",
       "      <td>7</td>\n",
       "      <td>29.0</td>\n",
       "    </tr>\n",
       "    <tr>\n",
       "      <th>4</th>\n",
       "      <td>431534</td>\n",
       "      <td>1</td>\n",
       "      <td>prior</td>\n",
       "      <td>5</td>\n",
       "      <td>4</td>\n",
       "      <td>15</td>\n",
       "      <td>28.0</td>\n",
       "    </tr>\n",
       "  </tbody>\n",
       "</table>\n",
       "</div>"
      ],
      "text/plain": [
       "   order_id  user_id eval_set  order_number  order_dow  order_hour_of_day  \\\n",
       "0   2539329        1    prior             1          2                  8   \n",
       "1   2398795        1    prior             2          3                  7   \n",
       "2    473747        1    prior             3          3                 12   \n",
       "3   2254736        1    prior             4          4                  7   \n",
       "4    431534        1    prior             5          4                 15   \n",
       "\n",
       "   days_since_prior_order  \n",
       "0                     NaN  \n",
       "1                    15.0  \n",
       "2                    21.0  \n",
       "3                    29.0  \n",
       "4                    28.0  "
      ]
     },
     "execution_count": 5,
     "metadata": {},
     "output_type": "execute_result"
    }
   ],
   "source": [
    "df_prior_set=df_orders[df_orders['eval_set']=='prior']\n",
    "df_prior_set.head()"
   ]
  },
  {
   "cell_type": "code",
   "execution_count": 6,
   "metadata": {},
   "outputs": [
    {
     "data": {
      "text/html": [
       "<div>\n",
       "<style>\n",
       "    .dataframe thead tr:only-child th {\n",
       "        text-align: right;\n",
       "    }\n",
       "\n",
       "    .dataframe thead th {\n",
       "        text-align: left;\n",
       "    }\n",
       "\n",
       "    .dataframe tbody tr th {\n",
       "        vertical-align: top;\n",
       "    }\n",
       "</style>\n",
       "<table border=\"1\" class=\"dataframe\">\n",
       "  <thead>\n",
       "    <tr style=\"text-align: right;\">\n",
       "      <th></th>\n",
       "      <th>order_id</th>\n",
       "      <th>user_id</th>\n",
       "      <th>eval_set</th>\n",
       "      <th>order_number</th>\n",
       "      <th>order_dow</th>\n",
       "      <th>order_hour_of_day</th>\n",
       "      <th>days_since_prior_order</th>\n",
       "    </tr>\n",
       "  </thead>\n",
       "  <tbody>\n",
       "    <tr>\n",
       "      <th>10</th>\n",
       "      <td>1187899</td>\n",
       "      <td>1</td>\n",
       "      <td>train</td>\n",
       "      <td>11</td>\n",
       "      <td>4</td>\n",
       "      <td>8</td>\n",
       "      <td>14.0</td>\n",
       "    </tr>\n",
       "    <tr>\n",
       "      <th>25</th>\n",
       "      <td>1492625</td>\n",
       "      <td>2</td>\n",
       "      <td>train</td>\n",
       "      <td>15</td>\n",
       "      <td>1</td>\n",
       "      <td>11</td>\n",
       "      <td>30.0</td>\n",
       "    </tr>\n",
       "    <tr>\n",
       "      <th>49</th>\n",
       "      <td>2196797</td>\n",
       "      <td>5</td>\n",
       "      <td>train</td>\n",
       "      <td>5</td>\n",
       "      <td>0</td>\n",
       "      <td>11</td>\n",
       "      <td>6.0</td>\n",
       "    </tr>\n",
       "    <tr>\n",
       "      <th>74</th>\n",
       "      <td>525192</td>\n",
       "      <td>7</td>\n",
       "      <td>train</td>\n",
       "      <td>21</td>\n",
       "      <td>2</td>\n",
       "      <td>11</td>\n",
       "      <td>6.0</td>\n",
       "    </tr>\n",
       "    <tr>\n",
       "      <th>78</th>\n",
       "      <td>880375</td>\n",
       "      <td>8</td>\n",
       "      <td>train</td>\n",
       "      <td>4</td>\n",
       "      <td>1</td>\n",
       "      <td>14</td>\n",
       "      <td>10.0</td>\n",
       "    </tr>\n",
       "  </tbody>\n",
       "</table>\n",
       "</div>"
      ],
      "text/plain": [
       "    order_id  user_id eval_set  order_number  order_dow  order_hour_of_day  \\\n",
       "10   1187899        1    train            11          4                  8   \n",
       "25   1492625        2    train            15          1                 11   \n",
       "49   2196797        5    train             5          0                 11   \n",
       "74    525192        7    train            21          2                 11   \n",
       "78    880375        8    train             4          1                 14   \n",
       "\n",
       "    days_since_prior_order  \n",
       "10                    14.0  \n",
       "25                    30.0  \n",
       "49                     6.0  \n",
       "74                     6.0  \n",
       "78                    10.0  "
      ]
     },
     "execution_count": 6,
     "metadata": {},
     "output_type": "execute_result"
    }
   ],
   "source": [
    "df_train_set=df_orders[df_orders['eval_set']=='train']\n",
    "df_train_set.head()"
   ]
  },
  {
   "cell_type": "code",
   "execution_count": 7,
   "metadata": {},
   "outputs": [
    {
     "data": {
      "text/html": [
       "<div>\n",
       "<style>\n",
       "    .dataframe thead tr:only-child th {\n",
       "        text-align: right;\n",
       "    }\n",
       "\n",
       "    .dataframe thead th {\n",
       "        text-align: left;\n",
       "    }\n",
       "\n",
       "    .dataframe tbody tr th {\n",
       "        vertical-align: top;\n",
       "    }\n",
       "</style>\n",
       "<table border=\"1\" class=\"dataframe\">\n",
       "  <thead>\n",
       "    <tr style=\"text-align: right;\">\n",
       "      <th></th>\n",
       "      <th>order_id</th>\n",
       "      <th>user_id</th>\n",
       "      <th>eval_set</th>\n",
       "      <th>order_number</th>\n",
       "      <th>order_dow</th>\n",
       "      <th>order_hour_of_day</th>\n",
       "      <th>days_since_prior_order</th>\n",
       "    </tr>\n",
       "  </thead>\n",
       "  <tbody>\n",
       "    <tr>\n",
       "      <th>38</th>\n",
       "      <td>2774568</td>\n",
       "      <td>3</td>\n",
       "      <td>test</td>\n",
       "      <td>13</td>\n",
       "      <td>5</td>\n",
       "      <td>15</td>\n",
       "      <td>11.0</td>\n",
       "    </tr>\n",
       "    <tr>\n",
       "      <th>44</th>\n",
       "      <td>329954</td>\n",
       "      <td>4</td>\n",
       "      <td>test</td>\n",
       "      <td>6</td>\n",
       "      <td>3</td>\n",
       "      <td>12</td>\n",
       "      <td>30.0</td>\n",
       "    </tr>\n",
       "    <tr>\n",
       "      <th>53</th>\n",
       "      <td>1528013</td>\n",
       "      <td>6</td>\n",
       "      <td>test</td>\n",
       "      <td>4</td>\n",
       "      <td>3</td>\n",
       "      <td>16</td>\n",
       "      <td>22.0</td>\n",
       "    </tr>\n",
       "    <tr>\n",
       "      <th>96</th>\n",
       "      <td>1376945</td>\n",
       "      <td>11</td>\n",
       "      <td>test</td>\n",
       "      <td>8</td>\n",
       "      <td>6</td>\n",
       "      <td>11</td>\n",
       "      <td>8.0</td>\n",
       "    </tr>\n",
       "    <tr>\n",
       "      <th>102</th>\n",
       "      <td>1356845</td>\n",
       "      <td>12</td>\n",
       "      <td>test</td>\n",
       "      <td>6</td>\n",
       "      <td>1</td>\n",
       "      <td>20</td>\n",
       "      <td>30.0</td>\n",
       "    </tr>\n",
       "  </tbody>\n",
       "</table>\n",
       "</div>"
      ],
      "text/plain": [
       "     order_id  user_id eval_set  order_number  order_dow  order_hour_of_day  \\\n",
       "38    2774568        3     test            13          5                 15   \n",
       "44     329954        4     test             6          3                 12   \n",
       "53    1528013        6     test             4          3                 16   \n",
       "96    1376945       11     test             8          6                 11   \n",
       "102   1356845       12     test             6          1                 20   \n",
       "\n",
       "     days_since_prior_order  \n",
       "38                     11.0  \n",
       "44                     30.0  \n",
       "53                     22.0  \n",
       "96                      8.0  \n",
       "102                    30.0  "
      ]
     },
     "execution_count": 7,
     "metadata": {},
     "output_type": "execute_result"
    }
   ],
   "source": [
    "df_test_set=df_orders[df_orders['eval_set']=='test']\n",
    "df_test_set.head()"
   ]
  },
  {
   "cell_type": "code",
   "execution_count": 8,
   "metadata": {},
   "outputs": [
    {
     "name": "stdout",
     "output_type": "stream",
     "text": [
      "<class 'pandas.core.frame.DataFrame'>\n",
      "Int64Index: 3214874 entries, 0 to 3421081\n",
      "Data columns (total 7 columns):\n",
      "order_id                  int64\n",
      "user_id                   int64\n",
      "eval_set                  object\n",
      "order_number              int64\n",
      "order_dow                 int64\n",
      "order_hour_of_day         int64\n",
      "days_since_prior_order    float64\n",
      "dtypes: float64(1), int64(5), object(1)\n",
      "memory usage: 196.2+ MB\n"
     ]
    }
   ],
   "source": [
    "df_prior_set.info()"
   ]
  },
  {
   "cell_type": "code",
   "execution_count": 9,
   "metadata": {},
   "outputs": [
    {
     "data": {
      "text/html": [
       "<div>\n",
       "<style>\n",
       "    .dataframe thead tr:only-child th {\n",
       "        text-align: right;\n",
       "    }\n",
       "\n",
       "    .dataframe thead th {\n",
       "        text-align: left;\n",
       "    }\n",
       "\n",
       "    .dataframe tbody tr th {\n",
       "        vertical-align: top;\n",
       "    }\n",
       "</style>\n",
       "<table border=\"1\" class=\"dataframe\">\n",
       "  <thead>\n",
       "    <tr style=\"text-align: right;\">\n",
       "      <th></th>\n",
       "      <th>order_id</th>\n",
       "      <th>user_id</th>\n",
       "      <th>order_number</th>\n",
       "      <th>order_dow</th>\n",
       "      <th>order_hour_of_day</th>\n",
       "      <th>days_since_prior_order</th>\n",
       "    </tr>\n",
       "  </thead>\n",
       "  <tbody>\n",
       "    <tr>\n",
       "      <th>count</th>\n",
       "      <td>3.214874e+06</td>\n",
       "      <td>3.214874e+06</td>\n",
       "      <td>3.214874e+06</td>\n",
       "      <td>3.214874e+06</td>\n",
       "      <td>3.214874e+06</td>\n",
       "      <td>3.008665e+06</td>\n",
       "    </tr>\n",
       "    <tr>\n",
       "      <th>mean</th>\n",
       "      <td>1.710827e+06</td>\n",
       "      <td>1.029701e+05</td>\n",
       "      <td>1.719107e+01</td>\n",
       "      <td>2.776364e+00</td>\n",
       "      <td>1.344347e+01</td>\n",
       "      <td>1.070724e+01</td>\n",
       "    </tr>\n",
       "    <tr>\n",
       "      <th>std</th>\n",
       "      <td>9.875206e+05</td>\n",
       "      <td>5.953411e+04</td>\n",
       "      <td>1.779950e+01</td>\n",
       "      <td>2.041806e+00</td>\n",
       "      <td>4.226246e+00</td>\n",
       "      <td>8.954180e+00</td>\n",
       "    </tr>\n",
       "    <tr>\n",
       "      <th>min</th>\n",
       "      <td>2.000000e+00</td>\n",
       "      <td>1.000000e+00</td>\n",
       "      <td>1.000000e+00</td>\n",
       "      <td>0.000000e+00</td>\n",
       "      <td>0.000000e+00</td>\n",
       "      <td>0.000000e+00</td>\n",
       "    </tr>\n",
       "    <tr>\n",
       "      <th>25%</th>\n",
       "      <td>8.556832e+05</td>\n",
       "      <td>5.138500e+04</td>\n",
       "      <td>5.000000e+00</td>\n",
       "      <td>1.000000e+00</td>\n",
       "      <td>1.000000e+01</td>\n",
       "      <td>4.000000e+00</td>\n",
       "    </tr>\n",
       "    <tr>\n",
       "      <th>50%</th>\n",
       "      <td>1.711120e+06</td>\n",
       "      <td>1.026620e+05</td>\n",
       "      <td>1.100000e+01</td>\n",
       "      <td>3.000000e+00</td>\n",
       "      <td>1.300000e+01</td>\n",
       "      <td>7.000000e+00</td>\n",
       "    </tr>\n",
       "    <tr>\n",
       "      <th>75%</th>\n",
       "      <td>2.566034e+06</td>\n",
       "      <td>1.543720e+05</td>\n",
       "      <td>2.400000e+01</td>\n",
       "      <td>5.000000e+00</td>\n",
       "      <td>1.600000e+01</td>\n",
       "      <td>1.500000e+01</td>\n",
       "    </tr>\n",
       "    <tr>\n",
       "      <th>max</th>\n",
       "      <td>3.421083e+06</td>\n",
       "      <td>2.062090e+05</td>\n",
       "      <td>9.900000e+01</td>\n",
       "      <td>6.000000e+00</td>\n",
       "      <td>2.300000e+01</td>\n",
       "      <td>3.000000e+01</td>\n",
       "    </tr>\n",
       "  </tbody>\n",
       "</table>\n",
       "</div>"
      ],
      "text/plain": [
       "           order_id       user_id  order_number     order_dow  \\\n",
       "count  3.214874e+06  3.214874e+06  3.214874e+06  3.214874e+06   \n",
       "mean   1.710827e+06  1.029701e+05  1.719107e+01  2.776364e+00   \n",
       "std    9.875206e+05  5.953411e+04  1.779950e+01  2.041806e+00   \n",
       "min    2.000000e+00  1.000000e+00  1.000000e+00  0.000000e+00   \n",
       "25%    8.556832e+05  5.138500e+04  5.000000e+00  1.000000e+00   \n",
       "50%    1.711120e+06  1.026620e+05  1.100000e+01  3.000000e+00   \n",
       "75%    2.566034e+06  1.543720e+05  2.400000e+01  5.000000e+00   \n",
       "max    3.421083e+06  2.062090e+05  9.900000e+01  6.000000e+00   \n",
       "\n",
       "       order_hour_of_day  days_since_prior_order  \n",
       "count       3.214874e+06            3.008665e+06  \n",
       "mean        1.344347e+01            1.070724e+01  \n",
       "std         4.226246e+00            8.954180e+00  \n",
       "min         0.000000e+00            0.000000e+00  \n",
       "25%         1.000000e+01            4.000000e+00  \n",
       "50%         1.300000e+01            7.000000e+00  \n",
       "75%         1.600000e+01            1.500000e+01  \n",
       "max         2.300000e+01            3.000000e+01  "
      ]
     },
     "execution_count": 9,
     "metadata": {},
     "output_type": "execute_result"
    }
   ],
   "source": [
    "df_prior_set.describe()"
   ]
  },
  {
   "cell_type": "code",
   "execution_count": 10,
   "metadata": {},
   "outputs": [
    {
     "name": "stdout",
     "output_type": "stream",
     "text": [
      "<class 'pandas.core.frame.DataFrame'>\n",
      "Int64Index: 131209 entries, 10 to 3421082\n",
      "Data columns (total 7 columns):\n",
      "order_id                  131209 non-null int64\n",
      "user_id                   131209 non-null int64\n",
      "eval_set                  131209 non-null object\n",
      "order_number              131209 non-null int64\n",
      "order_dow                 131209 non-null int64\n",
      "order_hour_of_day         131209 non-null int64\n",
      "days_since_prior_order    131209 non-null float64\n",
      "dtypes: float64(1), int64(5), object(1)\n",
      "memory usage: 8.0+ MB\n"
     ]
    }
   ],
   "source": [
    "df_train_set.info()"
   ]
  },
  {
   "cell_type": "code",
   "execution_count": 11,
   "metadata": {},
   "outputs": [
    {
     "name": "stdout",
     "output_type": "stream",
     "text": [
      "<class 'pandas.core.frame.DataFrame'>\n",
      "Int64Index: 75000 entries, 38 to 3421068\n",
      "Data columns (total 7 columns):\n",
      "order_id                  75000 non-null int64\n",
      "user_id                   75000 non-null int64\n",
      "eval_set                  75000 non-null object\n",
      "order_number              75000 non-null int64\n",
      "order_dow                 75000 non-null int64\n",
      "order_hour_of_day         75000 non-null int64\n",
      "days_since_prior_order    75000 non-null float64\n",
      "dtypes: float64(1), int64(5), object(1)\n",
      "memory usage: 4.6+ MB\n"
     ]
    }
   ],
   "source": [
    "df_test_set.info()"
   ]
  },
  {
   "cell_type": "code",
   "execution_count": 12,
   "metadata": {},
   "outputs": [
    {
     "name": "stdout",
     "output_type": "stream",
     "text": [
      "False\n",
      "False\n",
      "False\n",
      "False\n",
      "False\n",
      "False\n",
      "True\n"
     ]
    }
   ],
   "source": [
    "# non-null is limited to the days_since_prior_order\n",
    "for col in df_prior_set.columns:\n",
    "    print(df_prior_set[col].isnull().any())"
   ]
  },
  {
   "cell_type": "markdown",
   "metadata": {},
   "source": [
    "Lets look at how users order. First by seeing how many orders each user has in the data set."
   ]
  },
  {
   "cell_type": "code",
   "execution_count": 13,
   "metadata": {
    "collapsed": true
   },
   "outputs": [],
   "source": [
    "#group prior data by user_id\n",
    "dfp_gp_user=df_prior_set.groupby('user_id')"
   ]
  },
  {
   "cell_type": "code",
   "execution_count": 14,
   "metadata": {},
   "outputs": [
    {
     "data": {
      "text/plain": [
       "user_id\n",
       "1    10\n",
       "2    14\n",
       "3    12\n",
       "4     5\n",
       "5     4\n",
       "Name: order_number, dtype: int64"
      ]
     },
     "execution_count": 14,
     "metadata": {},
     "output_type": "execute_result"
    }
   ],
   "source": [
    "#create pandas series for number of orders by user and plot\n",
    "user_order_count=dfp_gp_user.order_number.max()\n",
    "user_order_count.head()"
   ]
  },
  {
   "cell_type": "code",
   "execution_count": 15,
   "metadata": {},
   "outputs": [
    {
     "data": {
      "text/plain": [
       "<matplotlib.axes._subplots.AxesSubplot at 0x113f74310>"
      ]
     },
     "execution_count": 15,
     "metadata": {},
     "output_type": "execute_result"
    },
    {
     "data": {
      "image/png": "[encoded data removed]",
      "text/plain": [
       "<matplotlib.figure.Figure at 0x113f34dd0>"
      ]
     },
     "metadata": {},
     "output_type": "display_data"
    }
   ],
   "source": [
    "user_order_count.plot(kind='hist',edgecolor='black')"
   ]
  },
  {
   "cell_type": "markdown",
   "metadata": {},
   "source": [
    "Looking at order counts by users we wee that most users order between 1 and 20 orders."
   ]
  },
  {
   "cell_type": "code",
   "execution_count": 16,
   "metadata": {},
   "outputs": [
    {
     "data": {
      "text/plain": [
       "<matplotlib.axes._subplots.AxesSubplot at 0x117d1bb10>"
      ]
     },
     "execution_count": 16,
     "metadata": {},
     "output_type": "execute_result"
    },
    {
     "data": {
      "image/png": "[encoded data removed]",
      "text/plain": [
       "<matplotlib.figure.Figure at 0x10d450350>"
      ]
     },
     "metadata": {},
     "output_type": "display_data"
    }
   ],
   "source": [
    "# a closer look at orders between 0 to 50\n",
    "user_order_count.plot(kind='hist',bins=np.linspace(1,50),edgecolor='black')"
   ]
  },
  {
   "cell_type": "code",
   "execution_count": 17,
   "metadata": {},
   "outputs": [
    {
     "data": {
      "text/plain": [
       "9.0"
      ]
     },
     "execution_count": 17,
     "metadata": {},
     "output_type": "execute_result"
    }
   ],
   "source": [
    "user_order_count.median()"
   ]
  },
  {
   "cell_type": "code",
   "execution_count": 18,
   "metadata": {},
   "outputs": [
    {
     "data": {
      "text/plain": [
       "count    206209.000000\n",
       "mean         15.590367\n",
       "std          16.654774\n",
       "min           3.000000\n",
       "25%           5.000000\n",
       "50%           9.000000\n",
       "75%          19.000000\n",
       "max          99.000000\n",
       "Name: order_number, dtype: float64"
      ]
     },
     "execution_count": 18,
     "metadata": {},
     "output_type": "execute_result"
    }
   ],
   "source": [
    "user_order_count.describe()"
   ]
  },
  {
   "cell_type": "markdown",
   "metadata": {},
   "source": [
    "206 thousand orders. A range for users orders between 3 and 99 orders. An mean of 16 orders per user and a median of 9 orders. "
   ]
  },
  {
   "cell_type": "markdown",
   "metadata": {},
   "source": [
    "Lets look at Orders by Day of the Week. What day are people shopping?"
   ]
  },
  {
   "cell_type": "code",
   "execution_count": 19,
   "metadata": {},
   "outputs": [
    {
     "data": {
      "text/plain": [
       "Text(0.5,0,u'Orders by Day of the Week')"
      ]
     },
     "execution_count": 19,
     "metadata": {},
     "output_type": "execute_result"
    },
    {
     "data": {
      "image/png": "[encoded data removed]",
      "text/plain": [
       "<matplotlib.figure.Figure at 0x111980d10>"
      ]
     },
     "metadata": {},
     "output_type": "display_data"
    }
   ],
   "source": [
    "plt.hist(df_prior_set.order_dow, edgecolor='black')\n",
    "plt.xlabel(\"Orders by Day of the Week\")\n"
   ]
  },
  {
   "cell_type": "markdown",
   "metadata": {},
   "source": [
    "The data set is not clear on which day zero is. The beginning of Instacart week does see the most \n",
    "orders with he rest of the week being closely similiar. (It would be a logical assumption that 0 \n",
    "and 1 represent the weekend, however, we do not know this.)\n"
   ]
  },
  {
   "cell_type": "markdown",
   "metadata": {},
   "source": [
    "Lets look at hour of the day. When are most orders received?"
   ]
  },
  {
   "cell_type": "code",
   "execution_count": 20,
   "metadata": {},
   "outputs": [
    {
     "data": {
      "text/plain": [
       "Text(0.5,0,u'Orders by Hour of Day')"
      ]
     },
     "execution_count": 20,
     "metadata": {},
     "output_type": "execute_result"
    },
    {
     "data": {
      "image/png": "[encoded data removed]",
      "text/plain": [
       "<matplotlib.figure.Figure at 0x1174d7790>"
      ]
     },
     "metadata": {},
     "output_type": "display_data"
    }
   ],
   "source": [
    "plt.hist(df_prior_set.order_hour_of_day, bins=100 , edgecolor='black')\n",
    "plt.xlabel('Orders by Hour of Day')\n"
   ]
  },
  {
   "cell_type": "markdown",
   "metadata": {},
   "source": [
    "Hour of day indicates most orders between 8am and 8pm which makes sense. "
   ]
  },
  {
   "cell_type": "markdown",
   "metadata": {},
   "source": [
    "Looking at Days since prior order:"
   ]
  },
  {
   "cell_type": "code",
   "execution_count": 21,
   "metadata": {},
   "outputs": [
    {
     "data": {
      "text/plain": [
       "Text(0.5,0,u'Days since prior order')"
      ]
     },
     "execution_count": 21,
     "metadata": {},
     "output_type": "execute_result"
    },
    {
     "data": {
      "image/png": "[encoded data removed]",
      "text/plain": [
       "<matplotlib.figure.Figure at 0x113faab10>"
      ]
     },
     "metadata": {},
     "output_type": "display_data"
    }
   ],
   "source": [
    "plt.hist(df_prior_set.days_since_prior_order.dropna(),edgecolor='black')\n",
    "plt.xlabel(\"Days since prior order\")"
   ]
  },
  {
   "cell_type": "markdown",
   "metadata": {},
   "source": [
    "It looks like most orders are followed by another order with in the week. "
   ]
  },
  {
   "cell_type": "markdown",
   "metadata": {},
   "source": [
    "The previous data set did not have any describtion on the contents of the order. That information is contained in order_products csv files. Lets explore that for a minute. "
   ]
  },
  {
   "cell_type": "code",
   "execution_count": 22,
   "metadata": {},
   "outputs": [
    {
     "data": {
      "text/html": [
       "<div>\n",
       "<style>\n",
       "    .dataframe thead tr:only-child th {\n",
       "        text-align: right;\n",
       "    }\n",
       "\n",
       "    .dataframe thead th {\n",
       "        text-align: left;\n",
       "    }\n",
       "\n",
       "    .dataframe tbody tr th {\n",
       "        vertical-align: top;\n",
       "    }\n",
       "</style>\n",
       "<table border=\"1\" class=\"dataframe\">\n",
       "  <thead>\n",
       "    <tr style=\"text-align: right;\">\n",
       "      <th></th>\n",
       "      <th>order_id</th>\n",
       "      <th>product_id</th>\n",
       "      <th>add_to_cart_order</th>\n",
       "      <th>reordered</th>\n",
       "    </tr>\n",
       "  </thead>\n",
       "  <tbody>\n",
       "    <tr>\n",
       "      <th>0</th>\n",
       "      <td>2</td>\n",
       "      <td>33120</td>\n",
       "      <td>1</td>\n",
       "      <td>1</td>\n",
       "    </tr>\n",
       "    <tr>\n",
       "      <th>1</th>\n",
       "      <td>2</td>\n",
       "      <td>28985</td>\n",
       "      <td>2</td>\n",
       "      <td>1</td>\n",
       "    </tr>\n",
       "    <tr>\n",
       "      <th>2</th>\n",
       "      <td>2</td>\n",
       "      <td>9327</td>\n",
       "      <td>3</td>\n",
       "      <td>0</td>\n",
       "    </tr>\n",
       "    <tr>\n",
       "      <th>3</th>\n",
       "      <td>2</td>\n",
       "      <td>45918</td>\n",
       "      <td>4</td>\n",
       "      <td>1</td>\n",
       "    </tr>\n",
       "    <tr>\n",
       "      <th>4</th>\n",
       "      <td>2</td>\n",
       "      <td>30035</td>\n",
       "      <td>5</td>\n",
       "      <td>0</td>\n",
       "    </tr>\n",
       "    <tr>\n",
       "      <th>5</th>\n",
       "      <td>2</td>\n",
       "      <td>17794</td>\n",
       "      <td>6</td>\n",
       "      <td>1</td>\n",
       "    </tr>\n",
       "    <tr>\n",
       "      <th>6</th>\n",
       "      <td>2</td>\n",
       "      <td>40141</td>\n",
       "      <td>7</td>\n",
       "      <td>1</td>\n",
       "    </tr>\n",
       "    <tr>\n",
       "      <th>7</th>\n",
       "      <td>2</td>\n",
       "      <td>1819</td>\n",
       "      <td>8</td>\n",
       "      <td>1</td>\n",
       "    </tr>\n",
       "    <tr>\n",
       "      <th>8</th>\n",
       "      <td>2</td>\n",
       "      <td>43668</td>\n",
       "      <td>9</td>\n",
       "      <td>0</td>\n",
       "    </tr>\n",
       "    <tr>\n",
       "      <th>9</th>\n",
       "      <td>3</td>\n",
       "      <td>33754</td>\n",
       "      <td>1</td>\n",
       "      <td>1</td>\n",
       "    </tr>\n",
       "    <tr>\n",
       "      <th>10</th>\n",
       "      <td>3</td>\n",
       "      <td>24838</td>\n",
       "      <td>2</td>\n",
       "      <td>1</td>\n",
       "    </tr>\n",
       "    <tr>\n",
       "      <th>11</th>\n",
       "      <td>3</td>\n",
       "      <td>17704</td>\n",
       "      <td>3</td>\n",
       "      <td>1</td>\n",
       "    </tr>\n",
       "  </tbody>\n",
       "</table>\n",
       "</div>"
      ],
      "text/plain": [
       "    order_id  product_id  add_to_cart_order  reordered\n",
       "0          2       33120                  1          1\n",
       "1          2       28985                  2          1\n",
       "2          2        9327                  3          0\n",
       "3          2       45918                  4          1\n",
       "4          2       30035                  5          0\n",
       "5          2       17794                  6          1\n",
       "6          2       40141                  7          1\n",
       "7          2        1819                  8          1\n",
       "8          2       43668                  9          0\n",
       "9          3       33754                  1          1\n",
       "10         3       24838                  2          1\n",
       "11         3       17704                  3          1"
      ]
     },
     "execution_count": 22,
     "metadata": {},
     "output_type": "execute_result"
    }
   ],
   "source": [
    "#lets load another chunk of data and look around\n",
    "instacart_file2=pd.read_csv('Data/order_products__prior.csv')\n",
    "df_products_prior=pd.DataFrame(instacart_file2,)\n",
    "df_products_prior.head(12)"
   ]
  },
  {
   "cell_type": "markdown",
   "metadata": {},
   "source": [
    "We have each order uniquely identified by order id, each product uniquely identified by product_id, the order in which each product was added to the cart and if the product/item was a reorder."
   ]
  },
  {
   "cell_type": "code",
   "execution_count": 23,
   "metadata": {},
   "outputs": [
    {
     "name": "stdout",
     "output_type": "stream",
     "text": [
      "<class 'pandas.core.frame.DataFrame'>\n",
      "RangeIndex: 32434489 entries, 0 to 32434488\n",
      "Data columns (total 4 columns):\n",
      "order_id             int64\n",
      "product_id           int64\n",
      "add_to_cart_order    int64\n",
      "reordered            int64\n",
      "dtypes: int64(4)\n",
      "memory usage: 989.8 MB\n"
     ]
    }
   ],
   "source": [
    "df_products_prior.info()"
   ]
  },
  {
   "cell_type": "code",
   "execution_count": 24,
   "metadata": {},
   "outputs": [
    {
     "data": {
      "text/plain": [
       "order_id             3214874\n",
       "product_id             49677\n",
       "add_to_cart_order        145\n",
       "reordered                  2\n",
       "dtype: int64"
      ]
     },
     "execution_count": 24,
     "metadata": {},
     "output_type": "execute_result"
    }
   ],
   "source": [
    "df_products_prior.nunique()"
   ]
  },
  {
   "cell_type": "markdown",
   "metadata": {},
   "source": [
    "Lets explore reorders"
   ]
  },
  {
   "cell_type": "code",
   "execution_count": 25,
   "metadata": {
    "collapsed": true
   },
   "outputs": [],
   "source": [
    "#group by order_id for reorders\n",
    "reorders_by_order=df_products_prior['reordered'].groupby(df_products_prior['order_id']).sum()"
   ]
  },
  {
   "cell_type": "code",
   "execution_count": 26,
   "metadata": {},
   "outputs": [
    {
     "data": {
      "text/plain": [
       "count    3.214874e+06\n",
       "mean     5.949389e+00\n",
       "std      5.842059e+00\n",
       "min      0.000000e+00\n",
       "25%      2.000000e+00\n",
       "50%      4.000000e+00\n",
       "75%      8.000000e+00\n",
       "max      1.300000e+02\n",
       "Name: reordered, dtype: float64"
      ]
     },
     "execution_count": 26,
     "metadata": {},
     "output_type": "execute_result"
    }
   ],
   "source": [
    "reorders_by_order.describe()\n"
   ]
  },
  {
   "cell_type": "code",
   "execution_count": 27,
   "metadata": {},
   "outputs": [
    {
     "data": {
      "text/plain": [
       "4.0"
      ]
     },
     "execution_count": 27,
     "metadata": {},
     "output_type": "execute_result"
    }
   ],
   "source": [
    "reorders_by_order.median()"
   ]
  },
  {
   "cell_type": "markdown",
   "metadata": {
    "collapsed": true
   },
   "source": [
    "Reorders per order range from none to 130. Order average almost 6 reorders and a median of 4 reorders."
   ]
  },
  {
   "cell_type": "code",
   "execution_count": 28,
   "metadata": {},
   "outputs": [
    {
     "data": {
      "text/plain": [
       "Text(0.5,0,u'reorders by order')"
      ]
     },
     "execution_count": 28,
     "metadata": {},
     "output_type": "execute_result"
    },
    {
     "data": {
      "image/png": "[encoded data removed]",
      "text/plain": [
       "<matplotlib.figure.Figure at 0x117af2e10>"
      ]
     },
     "metadata": {},
     "output_type": "display_data"
    }
   ],
   "source": [
    "plt.hist(reorders_by_order,edgecolor='black')\n",
    "plt.xlabel(\"reorders by order\")\n"
   ]
  },
  {
   "cell_type": "markdown",
   "metadata": {},
   "source": [
    "The 130 reorder seems to appear to be an outlier. Most reorders are below 40 with the majority below 20."
   ]
  },
  {
   "cell_type": "markdown",
   "metadata": {},
   "source": [
    "Lets look at what portion of the order is reorders."
   ]
  },
  {
   "cell_type": "code",
   "execution_count": 29,
   "metadata": {
    "collapsed": true
   },
   "outputs": [],
   "source": [
    "#count reorders by grouping by order_id on the reordered column\n",
    "items_in_order=df_products_prior['reordered'].groupby(df_products_prior['order_id']).count()"
   ]
  },
  {
   "cell_type": "code",
   "execution_count": 30,
   "metadata": {},
   "outputs": [
    {
     "data": {
      "text/plain": [
       "([<matplotlib.patches.Wedge at 0x111799c90>,\n",
       "  <matplotlib.patches.Wedge at 0x1117a6710>],\n",
       " [Text(0.305886,1.05661,u'non-reorders'),\n",
       "  Text(-0.305886,-1.05661,u'reorders')],\n",
       " [Text(0.166847,0.576335,u'41.0%'), Text(-0.166847,-0.576335,u'59.0%')])"
      ]
     },
     "execution_count": 30,
     "metadata": {},
     "output_type": "execute_result"
    },
    {
     "data": {
      "image/png": "[encoded data removed]",
      "text/plain": [
       "<matplotlib.figure.Figure at 0x10f084b50>"
      ]
     },
     "metadata": {},
     "output_type": "display_data"
    }
   ],
   "source": [
    "#plot the portion\n",
    "plt.pie([(items_in_order.sum()-reorders_by_order.sum()),reorders_by_order.sum()],labels=['non-reorders','reorders'],autopct='%1.1f%%', shadow=True)"
   ]
  },
  {
   "cell_type": "code",
   "execution_count": 31,
   "metadata": {},
   "outputs": [
    {
     "name": "stdout",
     "output_type": "stream",
     "text": [
      "(19126536L, ':reordered items', 32434489L, ':items ordered')\n"
     ]
    }
   ],
   "source": [
    "print(reorders_by_order.sum(),\":reordered items\",items_in_order.sum(),\":items ordered\")"
   ]
  },
  {
   "cell_type": "markdown",
   "metadata": {},
   "source": [
    "Most orders contian around 60% reorders."
   ]
  },
  {
   "cell_type": "code",
   "execution_count": 32,
   "metadata": {},
   "outputs": [
    {
     "name": "stdout",
     "output_type": "stream",
     "text": [
      "(<class 'pandas.core.series.Series'>, <class 'pandas.core.series.Series'>)\n"
     ]
    }
   ],
   "source": [
    "print( type(items_in_order),type(reorders_by_order))"
   ]
  },
  {
   "cell_type": "code",
   "execution_count": 33,
   "metadata": {},
   "outputs": [
    {
     "data": {
      "text/html": [
       "<div>\n",
       "<style>\n",
       "    .dataframe thead tr:only-child th {\n",
       "        text-align: right;\n",
       "    }\n",
       "\n",
       "    .dataframe thead th {\n",
       "        text-align: left;\n",
       "    }\n",
       "\n",
       "    .dataframe tbody tr th {\n",
       "        vertical-align: top;\n",
       "    }\n",
       "</style>\n",
       "<table border=\"1\" class=\"dataframe\">\n",
       "  <thead>\n",
       "    <tr style=\"text-align: right;\">\n",
       "      <th></th>\n",
       "      <th>items_n_order</th>\n",
       "      <th>reorders_n_order</th>\n",
       "      <th>pct_reorders</th>\n",
       "    </tr>\n",
       "    <tr>\n",
       "      <th>order_id</th>\n",
       "      <th></th>\n",
       "      <th></th>\n",
       "      <th></th>\n",
       "    </tr>\n",
       "  </thead>\n",
       "  <tbody>\n",
       "    <tr>\n",
       "      <th>2</th>\n",
       "      <td>9</td>\n",
       "      <td>6</td>\n",
       "      <td>0.666667</td>\n",
       "    </tr>\n",
       "    <tr>\n",
       "      <th>3</th>\n",
       "      <td>8</td>\n",
       "      <td>8</td>\n",
       "      <td>1.000000</td>\n",
       "    </tr>\n",
       "    <tr>\n",
       "      <th>4</th>\n",
       "      <td>13</td>\n",
       "      <td>12</td>\n",
       "      <td>0.923077</td>\n",
       "    </tr>\n",
       "    <tr>\n",
       "      <th>5</th>\n",
       "      <td>26</td>\n",
       "      <td>21</td>\n",
       "      <td>0.807692</td>\n",
       "    </tr>\n",
       "    <tr>\n",
       "      <th>6</th>\n",
       "      <td>3</td>\n",
       "      <td>0</td>\n",
       "      <td>0.000000</td>\n",
       "    </tr>\n",
       "  </tbody>\n",
       "</table>\n",
       "</div>"
      ],
      "text/plain": [
       "          items_n_order  reorders_n_order  pct_reorders\n",
       "order_id                                               \n",
       "2                     9                 6      0.666667\n",
       "3                     8                 8      1.000000\n",
       "4                    13                12      0.923077\n",
       "5                    26                21      0.807692\n",
       "6                     3                 0      0.000000"
      ]
     },
     "execution_count": 33,
     "metadata": {},
     "output_type": "execute_result"
    }
   ],
   "source": [
    "#dataframe to easily see portion of reorders\n",
    "df_order_totals=pd.concat([items_in_order,reorders_by_order], axis=1, \n",
    "                          join='inner',keys=['items_n_order','reorders_n_order'])\n",
    "\n",
    "df_order_totals['pct_reorders']=df_order_totals.reorders_n_order/df_order_totals.items_n_order\n",
    "df_order_totals.head()"
   ]
  },
  {
   "cell_type": "code",
   "execution_count": 34,
   "metadata": {},
   "outputs": [
    {
     "data": {
      "text/plain": [
       "<seaborn.axisgrid.JointGrid at 0x10f0b5b50>"
      ]
     },
     "execution_count": 34,
     "metadata": {},
     "output_type": "execute_result"
    },
    {
     "data": {
      "image/png": "[encoded data removed]",
      "text/plain": [
       "<matplotlib.figure.Figure at 0x111780a50>"
      ]
     },
     "metadata": {},
     "output_type": "display_data"
    }
   ],
   "source": [
    "sns.jointplot('items_n_order','reorders_n_order', data=df_order_totals, kind='reg')"
   ]
  },
  {
   "cell_type": "code",
   "execution_count": 35,
   "metadata": {},
   "outputs": [
    {
     "data": {
      "text/html": [
       "<div>\n",
       "<style>\n",
       "    .dataframe thead tr:only-child th {\n",
       "        text-align: right;\n",
       "    }\n",
       "\n",
       "    .dataframe thead th {\n",
       "        text-align: left;\n",
       "    }\n",
       "\n",
       "    .dataframe tbody tr th {\n",
       "        vertical-align: top;\n",
       "    }\n",
       "</style>\n",
       "<table border=\"1\" class=\"dataframe\">\n",
       "  <thead>\n",
       "    <tr style=\"text-align: right;\">\n",
       "      <th></th>\n",
       "      <th>freq</th>\n",
       "      <th>reorders per order by count</th>\n",
       "    </tr>\n",
       "    <tr>\n",
       "      <th>reorders_n_order</th>\n",
       "      <th></th>\n",
       "      <th></th>\n",
       "    </tr>\n",
       "  </thead>\n",
       "  <tbody>\n",
       "    <tr>\n",
       "      <th>0</th>\n",
       "      <td>388513</td>\n",
       "      <td>388513</td>\n",
       "    </tr>\n",
       "    <tr>\n",
       "      <th>2</th>\n",
       "      <td>330770</td>\n",
       "      <td>330770</td>\n",
       "    </tr>\n",
       "    <tr>\n",
       "      <th>1</th>\n",
       "      <td>327898</td>\n",
       "      <td>327898</td>\n",
       "    </tr>\n",
       "    <tr>\n",
       "      <th>3</th>\n",
       "      <td>312493</td>\n",
       "      <td>312493</td>\n",
       "    </tr>\n",
       "    <tr>\n",
       "      <th>4</th>\n",
       "      <td>281704</td>\n",
       "      <td>281704</td>\n",
       "    </tr>\n",
       "    <tr>\n",
       "      <th>5</th>\n",
       "      <td>246626</td>\n",
       "      <td>246626</td>\n",
       "    </tr>\n",
       "    <tr>\n",
       "      <th>6</th>\n",
       "      <td>211744</td>\n",
       "      <td>211744</td>\n",
       "    </tr>\n",
       "    <tr>\n",
       "      <th>7</th>\n",
       "      <td>180083</td>\n",
       "      <td>180083</td>\n",
       "    </tr>\n",
       "    <tr>\n",
       "      <th>8</th>\n",
       "      <td>152229</td>\n",
       "      <td>152229</td>\n",
       "    </tr>\n",
       "    <tr>\n",
       "      <th>9</th>\n",
       "      <td>126646</td>\n",
       "      <td>126646</td>\n",
       "    </tr>\n",
       "  </tbody>\n",
       "</table>\n",
       "</div>"
      ],
      "text/plain": [
       "                    freq  reorders per order by count\n",
       "reorders_n_order                                     \n",
       "0                 388513                       388513\n",
       "2                 330770                       330770\n",
       "1                 327898                       327898\n",
       "3                 312493                       312493\n",
       "4                 281704                       281704\n",
       "5                 246626                       246626\n",
       "6                 211744                       211744\n",
       "7                 180083                       180083\n",
       "8                 152229                       152229\n",
       "9                 126646                       126646"
      ]
     },
     "execution_count": 35,
     "metadata": {},
     "output_type": "execute_result"
    }
   ],
   "source": [
    "reorders_n_orders=df_order_totals.groupby('reorders_n_order').count()\n",
    "reorders_n_orders.rename(columns={'items_n_order':'freq','pct_reorders':'reorders per order by count'},inplace=True)\n",
    "reorders_n_orders.sort_values('reorders per order by count',ascending=False).head(10)"
   ]
  },
  {
   "cell_type": "markdown",
   "metadata": {},
   "source": [
    "Not to surprising orders with 0 reorders are the most common. The only intersting point people seem to reorder 2 items more often then just one item. The likelihood of reorders diminshes with increasing order size after that.  "
   ]
  },
  {
   "cell_type": "code",
   "execution_count": 36,
   "metadata": {},
   "outputs": [
    {
     "data": {
      "text/html": [
       "<div>\n",
       "<style>\n",
       "    .dataframe thead tr:only-child th {\n",
       "        text-align: right;\n",
       "    }\n",
       "\n",
       "    .dataframe thead th {\n",
       "        text-align: left;\n",
       "    }\n",
       "\n",
       "    .dataframe tbody tr th {\n",
       "        vertical-align: top;\n",
       "    }\n",
       "</style>\n",
       "<table border=\"1\" class=\"dataframe\">\n",
       "  <thead>\n",
       "    <tr style=\"text-align: right;\">\n",
       "      <th></th>\n",
       "      <th>total_items_n_bracket</th>\n",
       "      <th>total_reorders_n_bracket</th>\n",
       "      <th>pct_reorders</th>\n",
       "      <th>order count per %</th>\n",
       "    </tr>\n",
       "    <tr>\n",
       "      <th>pct_reorders</th>\n",
       "      <th></th>\n",
       "      <th></th>\n",
       "      <th></th>\n",
       "      <th></th>\n",
       "    </tr>\n",
       "  </thead>\n",
       "  <tbody>\n",
       "    <tr>\n",
       "      <th>(0.7, 0.8]</th>\n",
       "      <td>4059070</td>\n",
       "      <td>3071363</td>\n",
       "      <td>0.756667</td>\n",
       "      <td>347881</td>\n",
       "    </tr>\n",
       "    <tr>\n",
       "      <th>(0.4, 0.5]</th>\n",
       "      <td>3172981</td>\n",
       "      <td>1482753</td>\n",
       "      <td>0.467306</td>\n",
       "      <td>316473</td>\n",
       "    </tr>\n",
       "    <tr>\n",
       "      <th>(0.8, 0.9]</th>\n",
       "      <td>3829141</td>\n",
       "      <td>3277139</td>\n",
       "      <td>0.855842</td>\n",
       "      <td>293627</td>\n",
       "    </tr>\n",
       "    <tr>\n",
       "      <th>(0.6, 0.7]</th>\n",
       "      <td>3369727</td>\n",
       "      <td>2212437</td>\n",
       "      <td>0.656563</td>\n",
       "      <td>284693</td>\n",
       "    </tr>\n",
       "    <tr>\n",
       "      <th>(0.3, 0.4]</th>\n",
       "      <td>2447176</td>\n",
       "      <td>875706</td>\n",
       "      <td>0.357843</td>\n",
       "      <td>229923</td>\n",
       "    </tr>\n",
       "    <tr>\n",
       "      <th>(0.5, 0.6]</th>\n",
       "      <td>2761974</td>\n",
       "      <td>1561753</td>\n",
       "      <td>0.565448</td>\n",
       "      <td>213822</td>\n",
       "    </tr>\n",
       "    <tr>\n",
       "      <th>(0.2, 0.3]</th>\n",
       "      <td>1787884</td>\n",
       "      <td>461661</td>\n",
       "      <td>0.258216</td>\n",
       "      <td>155163</td>\n",
       "    </tr>\n",
       "    <tr>\n",
       "      <th>(0.1, 0.2]</th>\n",
       "      <td>1511068</td>\n",
       "      <td>240899</td>\n",
       "      <td>0.159423</td>\n",
       "      <td>141139</td>\n",
       "    </tr>\n",
       "    <tr>\n",
       "      <th>(0.0, 0.1]</th>\n",
       "      <td>532566</td>\n",
       "      <td>40389</td>\n",
       "      <td>0.075838</td>\n",
       "      <td>35263</td>\n",
       "    </tr>\n",
       "  </tbody>\n",
       "</table>\n",
       "</div>"
      ],
      "text/plain": [
       "              total_items_n_bracket  total_reorders_n_bracket  pct_reorders  \\\n",
       "pct_reorders                                                                  \n",
       "(0.7, 0.8]                  4059070                   3071363      0.756667   \n",
       "(0.4, 0.5]                  3172981                   1482753      0.467306   \n",
       "(0.8, 0.9]                  3829141                   3277139      0.855842   \n",
       "(0.6, 0.7]                  3369727                   2212437      0.656563   \n",
       "(0.3, 0.4]                  2447176                    875706      0.357843   \n",
       "(0.5, 0.6]                  2761974                   1561753      0.565448   \n",
       "(0.2, 0.3]                  1787884                    461661      0.258216   \n",
       "(0.1, 0.2]                  1511068                    240899      0.159423   \n",
       "(0.0, 0.1]                   532566                     40389      0.075838   \n",
       "\n",
       "              order count per %  \n",
       "pct_reorders                     \n",
       "(0.7, 0.8]               347881  \n",
       "(0.4, 0.5]               316473  \n",
       "(0.8, 0.9]               293627  \n",
       "(0.6, 0.7]               284693  \n",
       "(0.3, 0.4]               229923  \n",
       "(0.5, 0.6]               213822  \n",
       "(0.2, 0.3]               155163  \n",
       "(0.1, 0.2]               141139  \n",
       "(0.0, 0.1]                35263  "
      ]
     },
     "execution_count": 36,
     "metadata": {},
     "output_type": "execute_result"
    }
   ],
   "source": [
    "high_pct_reorders=df_order_totals.groupby(pd.cut(df_order_totals[\"pct_reorders\"], np.arange(0, 1.0, 0.1))).sum()\n",
    "high_pct_reorders[\"order count per %\"]=df_order_totals['items_n_order'].groupby(pd.cut(df_order_totals[\"pct_reorders\"], np.arange(0, 1.0, 0.1))).count()\n",
    "high_pct_reorders[\"pct_reorders\"]=high_pct_reorders.reorders_n_order/high_pct_reorders['items_n_order']\n",
    "high_pct_reorders.rename(columns={'items_n_order':'total_items_n_bracket','reorders_n_order':'total_reorders_n_bracket'},inplace=True)\n",
    "high_pct_reorders.sort_values('order count per %',ascending=False)"
   ]
  },
  {
   "cell_type": "markdown",
   "metadata": {},
   "source": [
    "The above table show Orders with 70% to 80% reorders had the highest volume."
   ]
  },
  {
   "cell_type": "code",
   "execution_count": 37,
   "metadata": {},
   "outputs": [
    {
     "data": {
      "text/plain": [
       "product_id\n",
       "24852    472565\n",
       "13176    379450\n",
       "21137    264683\n",
       "21903    241921\n",
       "47209    213584\n",
       "47766    176815\n",
       "47626    152657\n",
       "16797    142951\n",
       "26209    140627\n",
       "27845    137905\n",
       "Name: order_id, dtype: int64"
      ]
     },
     "execution_count": 37,
     "metadata": {},
     "output_type": "execute_result"
    }
   ],
   "source": [
    "products_in_order=df_products_prior['order_id'].groupby(df_products_prior['product_id']).nunique()\n",
    "products_in_order=products_in_order.sort_values(ascending=False)\n",
    "products_in_order.head(10)"
   ]
  },
  {
   "cell_type": "code",
   "execution_count": 38,
   "metadata": {},
   "outputs": [
    {
     "data": {
      "text/html": [
       "<div>\n",
       "<style>\n",
       "    .dataframe thead tr:only-child th {\n",
       "        text-align: right;\n",
       "    }\n",
       "\n",
       "    .dataframe thead th {\n",
       "        text-align: left;\n",
       "    }\n",
       "\n",
       "    .dataframe tbody tr th {\n",
       "        vertical-align: top;\n",
       "    }\n",
       "</style>\n",
       "<table border=\"1\" class=\"dataframe\">\n",
       "  <thead>\n",
       "    <tr style=\"text-align: right;\">\n",
       "      <th></th>\n",
       "      <th>product_id</th>\n",
       "      <th>product_name</th>\n",
       "      <th>aisle_id</th>\n",
       "      <th>department_id</th>\n",
       "    </tr>\n",
       "  </thead>\n",
       "  <tbody>\n",
       "    <tr>\n",
       "      <th>0</th>\n",
       "      <td>1</td>\n",
       "      <td>Chocolate Sandwich Cookies</td>\n",
       "      <td>61</td>\n",
       "      <td>19</td>\n",
       "    </tr>\n",
       "    <tr>\n",
       "      <th>1</th>\n",
       "      <td>2</td>\n",
       "      <td>All-Seasons Salt</td>\n",
       "      <td>104</td>\n",
       "      <td>13</td>\n",
       "    </tr>\n",
       "    <tr>\n",
       "      <th>2</th>\n",
       "      <td>3</td>\n",
       "      <td>Robust Golden Unsweetened Oolong Tea</td>\n",
       "      <td>94</td>\n",
       "      <td>7</td>\n",
       "    </tr>\n",
       "    <tr>\n",
       "      <th>3</th>\n",
       "      <td>4</td>\n",
       "      <td>Smart Ones Classic Favorites Mini Rigatoni Wit...</td>\n",
       "      <td>38</td>\n",
       "      <td>1</td>\n",
       "    </tr>\n",
       "    <tr>\n",
       "      <th>4</th>\n",
       "      <td>5</td>\n",
       "      <td>Green Chile Anytime Sauce</td>\n",
       "      <td>5</td>\n",
       "      <td>13</td>\n",
       "    </tr>\n",
       "  </tbody>\n",
       "</table>\n",
       "</div>"
      ],
      "text/plain": [
       "   product_id                                       product_name  aisle_id  \\\n",
       "0           1                         Chocolate Sandwich Cookies        61   \n",
       "1           2                                   All-Seasons Salt       104   \n",
       "2           3               Robust Golden Unsweetened Oolong Tea        94   \n",
       "3           4  Smart Ones Classic Favorites Mini Rigatoni Wit...        38   \n",
       "4           5                          Green Chile Anytime Sauce         5   \n",
       "\n",
       "   department_id  \n",
       "0             19  \n",
       "1             13  \n",
       "2              7  \n",
       "3              1  \n",
       "4             13  "
      ]
     },
     "execution_count": 38,
     "metadata": {},
     "output_type": "execute_result"
    }
   ],
   "source": [
    "#lets load the product names\n",
    "instacart_products=pd.read_csv('Data/products.csv')\n",
    "df_ic_prod=pd.DataFrame(instacart_products,)\n",
    "df_ic_prod.head()"
   ]
  },
  {
   "cell_type": "code",
   "execution_count": 39,
   "metadata": {},
   "outputs": [
    {
     "data": {
      "text/html": [
       "<div>\n",
       "<style>\n",
       "    .dataframe thead tr:only-child th {\n",
       "        text-align: right;\n",
       "    }\n",
       "\n",
       "    .dataframe thead th {\n",
       "        text-align: left;\n",
       "    }\n",
       "\n",
       "    .dataframe tbody tr th {\n",
       "        vertical-align: top;\n",
       "    }\n",
       "</style>\n",
       "<table border=\"1\" class=\"dataframe\">\n",
       "  <thead>\n",
       "    <tr style=\"text-align: right;\">\n",
       "      <th></th>\n",
       "      <th>purchases</th>\n",
       "    </tr>\n",
       "    <tr>\n",
       "      <th>product_id</th>\n",
       "      <th></th>\n",
       "    </tr>\n",
       "  </thead>\n",
       "  <tbody>\n",
       "    <tr>\n",
       "      <th>24852</th>\n",
       "      <td>472565</td>\n",
       "    </tr>\n",
       "    <tr>\n",
       "      <th>13176</th>\n",
       "      <td>379450</td>\n",
       "    </tr>\n",
       "    <tr>\n",
       "      <th>21137</th>\n",
       "      <td>264683</td>\n",
       "    </tr>\n",
       "    <tr>\n",
       "      <th>21903</th>\n",
       "      <td>241921</td>\n",
       "    </tr>\n",
       "    <tr>\n",
       "      <th>47209</th>\n",
       "      <td>213584</td>\n",
       "    </tr>\n",
       "  </tbody>\n",
       "</table>\n",
       "</div>"
      ],
      "text/plain": [
       "            purchases\n",
       "product_id           \n",
       "24852          472565\n",
       "13176          379450\n",
       "21137          264683\n",
       "21903          241921\n",
       "47209          213584"
      ]
     },
     "execution_count": 39,
     "metadata": {},
     "output_type": "execute_result"
    }
   ],
   "source": [
    "products_in_order=pd.DataFrame(products_in_order)\n",
    "products_in_order.rename(columns={'order_id':'purchases'},inplace=True)\n",
    "products_in_order.head()"
   ]
  },
  {
   "cell_type": "code",
   "execution_count": 40,
   "metadata": {
    "collapsed": true
   },
   "outputs": [],
   "source": [
    "products_in_order=pd.merge(df_ic_prod,products_in_order, how= 'outer',left_on=\"product_id\" , right_index= True)\n"
   ]
  },
  {
   "cell_type": "code",
   "execution_count": 41,
   "metadata": {},
   "outputs": [
    {
     "data": {
      "text/html": [
       "<div>\n",
       "<style>\n",
       "    .dataframe thead tr:only-child th {\n",
       "        text-align: right;\n",
       "    }\n",
       "\n",
       "    .dataframe thead th {\n",
       "        text-align: left;\n",
       "    }\n",
       "\n",
       "    .dataframe tbody tr th {\n",
       "        vertical-align: top;\n",
       "    }\n",
       "</style>\n",
       "<table border=\"1\" class=\"dataframe\">\n",
       "  <thead>\n",
       "    <tr style=\"text-align: right;\">\n",
       "      <th></th>\n",
       "      <th>product_id</th>\n",
       "      <th>product_name</th>\n",
       "      <th>aisle_id</th>\n",
       "      <th>department_id</th>\n",
       "      <th>purchases</th>\n",
       "    </tr>\n",
       "  </thead>\n",
       "  <tbody>\n",
       "    <tr>\n",
       "      <th>0</th>\n",
       "      <td>1</td>\n",
       "      <td>Chocolate Sandwich Cookies</td>\n",
       "      <td>61</td>\n",
       "      <td>19</td>\n",
       "      <td>1852.0</td>\n",
       "    </tr>\n",
       "    <tr>\n",
       "      <th>1</th>\n",
       "      <td>2</td>\n",
       "      <td>All-Seasons Salt</td>\n",
       "      <td>104</td>\n",
       "      <td>13</td>\n",
       "      <td>90.0</td>\n",
       "    </tr>\n",
       "    <tr>\n",
       "      <th>2</th>\n",
       "      <td>3</td>\n",
       "      <td>Robust Golden Unsweetened Oolong Tea</td>\n",
       "      <td>94</td>\n",
       "      <td>7</td>\n",
       "      <td>277.0</td>\n",
       "    </tr>\n",
       "    <tr>\n",
       "      <th>3</th>\n",
       "      <td>4</td>\n",
       "      <td>Smart Ones Classic Favorites Mini Rigatoni Wit...</td>\n",
       "      <td>38</td>\n",
       "      <td>1</td>\n",
       "      <td>329.0</td>\n",
       "    </tr>\n",
       "    <tr>\n",
       "      <th>4</th>\n",
       "      <td>5</td>\n",
       "      <td>Green Chile Anytime Sauce</td>\n",
       "      <td>5</td>\n",
       "      <td>13</td>\n",
       "      <td>15.0</td>\n",
       "    </tr>\n",
       "  </tbody>\n",
       "</table>\n",
       "</div>"
      ],
      "text/plain": [
       "   product_id                                       product_name  aisle_id  \\\n",
       "0           1                         Chocolate Sandwich Cookies        61   \n",
       "1           2                                   All-Seasons Salt       104   \n",
       "2           3               Robust Golden Unsweetened Oolong Tea        94   \n",
       "3           4  Smart Ones Classic Favorites Mini Rigatoni Wit...        38   \n",
       "4           5                          Green Chile Anytime Sauce         5   \n",
       "\n",
       "   department_id  purchases  \n",
       "0             19     1852.0  \n",
       "1             13       90.0  \n",
       "2              7      277.0  \n",
       "3              1      329.0  \n",
       "4             13       15.0  "
      ]
     },
     "execution_count": 41,
     "metadata": {},
     "output_type": "execute_result"
    }
   ],
   "source": [
    "products_in_order.head()"
   ]
  },
  {
   "cell_type": "code",
   "execution_count": 42,
   "metadata": {
    "collapsed": true
   },
   "outputs": [],
   "source": [
    "top_sellers=products_in_order.set_index('product_name')\n"
   ]
  },
  {
   "cell_type": "code",
   "execution_count": 43,
   "metadata": {},
   "outputs": [
    {
     "data": {
      "text/html": [
       "<div>\n",
       "<style>\n",
       "    .dataframe thead tr:only-child th {\n",
       "        text-align: right;\n",
       "    }\n",
       "\n",
       "    .dataframe thead th {\n",
       "        text-align: left;\n",
       "    }\n",
       "\n",
       "    .dataframe tbody tr th {\n",
       "        vertical-align: top;\n",
       "    }\n",
       "</style>\n",
       "<table border=\"1\" class=\"dataframe\">\n",
       "  <thead>\n",
       "    <tr style=\"text-align: right;\">\n",
       "      <th></th>\n",
       "      <th>product_id</th>\n",
       "      <th>aisle_id</th>\n",
       "      <th>department_id</th>\n",
       "      <th>purchases</th>\n",
       "    </tr>\n",
       "    <tr>\n",
       "      <th>product_name</th>\n",
       "      <th></th>\n",
       "      <th></th>\n",
       "      <th></th>\n",
       "      <th></th>\n",
       "    </tr>\n",
       "  </thead>\n",
       "  <tbody>\n",
       "    <tr>\n",
       "      <th>Banana</th>\n",
       "      <td>24852</td>\n",
       "      <td>24</td>\n",
       "      <td>4</td>\n",
       "      <td>472565.0</td>\n",
       "    </tr>\n",
       "    <tr>\n",
       "      <th>Bag of Organic Bananas</th>\n",
       "      <td>13176</td>\n",
       "      <td>24</td>\n",
       "      <td>4</td>\n",
       "      <td>379450.0</td>\n",
       "    </tr>\n",
       "    <tr>\n",
       "      <th>Organic Strawberries</th>\n",
       "      <td>21137</td>\n",
       "      <td>24</td>\n",
       "      <td>4</td>\n",
       "      <td>264683.0</td>\n",
       "    </tr>\n",
       "    <tr>\n",
       "      <th>Organic Baby Spinach</th>\n",
       "      <td>21903</td>\n",
       "      <td>123</td>\n",
       "      <td>4</td>\n",
       "      <td>241921.0</td>\n",
       "    </tr>\n",
       "    <tr>\n",
       "      <th>Organic Hass Avocado</th>\n",
       "      <td>47209</td>\n",
       "      <td>24</td>\n",
       "      <td>4</td>\n",
       "      <td>213584.0</td>\n",
       "    </tr>\n",
       "    <tr>\n",
       "      <th>Organic Avocado</th>\n",
       "      <td>47766</td>\n",
       "      <td>24</td>\n",
       "      <td>4</td>\n",
       "      <td>176815.0</td>\n",
       "    </tr>\n",
       "    <tr>\n",
       "      <th>Large Lemon</th>\n",
       "      <td>47626</td>\n",
       "      <td>24</td>\n",
       "      <td>4</td>\n",
       "      <td>152657.0</td>\n",
       "    </tr>\n",
       "    <tr>\n",
       "      <th>Strawberries</th>\n",
       "      <td>16797</td>\n",
       "      <td>24</td>\n",
       "      <td>4</td>\n",
       "      <td>142951.0</td>\n",
       "    </tr>\n",
       "    <tr>\n",
       "      <th>Limes</th>\n",
       "      <td>26209</td>\n",
       "      <td>24</td>\n",
       "      <td>4</td>\n",
       "      <td>140627.0</td>\n",
       "    </tr>\n",
       "    <tr>\n",
       "      <th>Organic Whole Milk</th>\n",
       "      <td>27845</td>\n",
       "      <td>84</td>\n",
       "      <td>16</td>\n",
       "      <td>137905.0</td>\n",
       "    </tr>\n",
       "    <tr>\n",
       "      <th>Organic Raspberries</th>\n",
       "      <td>27966</td>\n",
       "      <td>123</td>\n",
       "      <td>4</td>\n",
       "      <td>137057.0</td>\n",
       "    </tr>\n",
       "    <tr>\n",
       "      <th>Organic Yellow Onion</th>\n",
       "      <td>22935</td>\n",
       "      <td>83</td>\n",
       "      <td>4</td>\n",
       "      <td>113426.0</td>\n",
       "    </tr>\n",
       "    <tr>\n",
       "      <th>Organic Garlic</th>\n",
       "      <td>24964</td>\n",
       "      <td>83</td>\n",
       "      <td>4</td>\n",
       "      <td>109778.0</td>\n",
       "    </tr>\n",
       "    <tr>\n",
       "      <th>Organic Zucchini</th>\n",
       "      <td>45007</td>\n",
       "      <td>83</td>\n",
       "      <td>4</td>\n",
       "      <td>104823.0</td>\n",
       "    </tr>\n",
       "    <tr>\n",
       "      <th>Organic Blueberries</th>\n",
       "      <td>39275</td>\n",
       "      <td>123</td>\n",
       "      <td>4</td>\n",
       "      <td>100060.0</td>\n",
       "    </tr>\n",
       "  </tbody>\n",
       "</table>\n",
       "</div>"
      ],
      "text/plain": [
       "                        product_id  aisle_id  department_id  purchases\n",
       "product_name                                                          \n",
       "Banana                       24852        24              4   472565.0\n",
       "Bag of Organic Bananas       13176        24              4   379450.0\n",
       "Organic Strawberries         21137        24              4   264683.0\n",
       "Organic Baby Spinach         21903       123              4   241921.0\n",
       "Organic Hass Avocado         47209        24              4   213584.0\n",
       "Organic Avocado              47766        24              4   176815.0\n",
       "Large Lemon                  47626        24              4   152657.0\n",
       "Strawberries                 16797        24              4   142951.0\n",
       "Limes                        26209        24              4   140627.0\n",
       "Organic Whole Milk           27845        84             16   137905.0\n",
       "Organic Raspberries          27966       123              4   137057.0\n",
       "Organic Yellow Onion         22935        83              4   113426.0\n",
       "Organic Garlic               24964        83              4   109778.0\n",
       "Organic Zucchini             45007        83              4   104823.0\n",
       "Organic Blueberries          39275       123              4   100060.0"
      ]
     },
     "execution_count": 43,
     "metadata": {},
     "output_type": "execute_result"
    }
   ],
   "source": [
    "top_sellers=top_sellers.sort_values(by='purchases',ascending=False).head(15)\n",
    "top_sellers\n"
   ]
  },
  {
   "cell_type": "code",
   "execution_count": 44,
   "metadata": {},
   "outputs": [
    {
     "data": {
      "text/plain": [
       "Text(0.5,1,u'best sellers')"
      ]
     },
     "execution_count": 44,
     "metadata": {},
     "output_type": "execute_result"
    },
    {
     "data": {
      "image/png": "[encoded data removed]",
      "text/plain": [
       "<matplotlib.figure.Figure at 0x116c259d0>"
      ]
     },
     "metadata": {},
     "output_type": "display_data"
    }
   ],
   "source": [
    "\n",
    "ax = top_sellers.purchases.plot(kind='bar',facecolor='#00AAAA')\n",
    "\n",
    "ax.patch.set_facecolor('#FFFFFF')\n",
    "ax.spines['bottom'].set_color('#CCCCCC')\n",
    "ax.spines['bottom'].set_linewidth(1)\n",
    "ax.spines['left'].set_color('#CCCCCC')\n",
    "ax.spines['left'].set_linewidth(1)\n",
    "ax.set_title('best sellers')\n"
   ]
  },
  {
   "cell_type": "code",
   "execution_count": null,
   "metadata": {
    "collapsed": true
   },
   "outputs": [],
   "source": []
  },
  {
   "cell_type": "markdown",
   "metadata": {},
   "source": [
    "Lets see which products get reordered the most."
   ]
  },
  {
   "cell_type": "code",
   "execution_count": 45,
   "metadata": {},
   "outputs": [
    {
     "data": {
      "text/plain": [
       "product_id\n",
       "24852    398609\n",
       "13176    315913\n",
       "21137    205845\n",
       "21903    186884\n",
       "47209    170131\n",
       "47766    134044\n",
       "27845    114510\n",
       "47626    106255\n",
       "27966    105409\n",
       "16797     99802\n",
       "26209     95768\n",
       "22935     79072\n",
       "24964     74663\n",
       "45007     72165\n",
       "49683     67313\n",
       "Name: reordered, dtype: int64"
      ]
     },
     "execution_count": 45,
     "metadata": {},
     "output_type": "execute_result"
    }
   ],
   "source": [
    "products_reordered=df_products_prior['reordered'].groupby(df_products_prior['product_id']).sum()\n",
    "products_reordered=products_reordered.sort_values(ascending=False)\n",
    "products_reordered.head(15)"
   ]
  },
  {
   "cell_type": "code",
   "execution_count": 46,
   "metadata": {
    "collapsed": true
   },
   "outputs": [],
   "source": [
    "products_reordered=pd.DataFrame(products_reordered)"
   ]
  },
  {
   "cell_type": "code",
   "execution_count": 47,
   "metadata": {},
   "outputs": [
    {
     "data": {
      "text/html": [
       "<div>\n",
       "<style>\n",
       "    .dataframe thead tr:only-child th {\n",
       "        text-align: right;\n",
       "    }\n",
       "\n",
       "    .dataframe thead th {\n",
       "        text-align: left;\n",
       "    }\n",
       "\n",
       "    .dataframe tbody tr th {\n",
       "        vertical-align: top;\n",
       "    }\n",
       "</style>\n",
       "<table border=\"1\" class=\"dataframe\">\n",
       "  <thead>\n",
       "    <tr style=\"text-align: right;\">\n",
       "      <th></th>\n",
       "      <th>reordered</th>\n",
       "    </tr>\n",
       "    <tr>\n",
       "      <th>product_id</th>\n",
       "      <th></th>\n",
       "    </tr>\n",
       "  </thead>\n",
       "  <tbody>\n",
       "    <tr>\n",
       "      <th>24852</th>\n",
       "      <td>398609</td>\n",
       "    </tr>\n",
       "    <tr>\n",
       "      <th>13176</th>\n",
       "      <td>315913</td>\n",
       "    </tr>\n",
       "    <tr>\n",
       "      <th>21137</th>\n",
       "      <td>205845</td>\n",
       "    </tr>\n",
       "    <tr>\n",
       "      <th>21903</th>\n",
       "      <td>186884</td>\n",
       "    </tr>\n",
       "    <tr>\n",
       "      <th>47209</th>\n",
       "      <td>170131</td>\n",
       "    </tr>\n",
       "  </tbody>\n",
       "</table>\n",
       "</div>"
      ],
      "text/plain": [
       "            reordered\n",
       "product_id           \n",
       "24852          398609\n",
       "13176          315913\n",
       "21137          205845\n",
       "21903          186884\n",
       "47209          170131"
      ]
     },
     "execution_count": 47,
     "metadata": {},
     "output_type": "execute_result"
    }
   ],
   "source": [
    "products_reordered.head()"
   ]
  },
  {
   "cell_type": "code",
   "execution_count": 48,
   "metadata": {},
   "outputs": [
    {
     "data": {
      "text/html": [
       "<div>\n",
       "<style>\n",
       "    .dataframe thead tr:only-child th {\n",
       "        text-align: right;\n",
       "    }\n",
       "\n",
       "    .dataframe thead th {\n",
       "        text-align: left;\n",
       "    }\n",
       "\n",
       "    .dataframe tbody tr th {\n",
       "        vertical-align: top;\n",
       "    }\n",
       "</style>\n",
       "<table border=\"1\" class=\"dataframe\">\n",
       "  <thead>\n",
       "    <tr style=\"text-align: right;\">\n",
       "      <th></th>\n",
       "      <th>product_id</th>\n",
       "      <th>product_name</th>\n",
       "      <th>aisle_id</th>\n",
       "      <th>department_id</th>\n",
       "      <th>purchases</th>\n",
       "      <th>reordered</th>\n",
       "    </tr>\n",
       "  </thead>\n",
       "  <tbody>\n",
       "    <tr>\n",
       "      <th>0</th>\n",
       "      <td>1</td>\n",
       "      <td>Chocolate Sandwich Cookies</td>\n",
       "      <td>61</td>\n",
       "      <td>19</td>\n",
       "      <td>1852.0</td>\n",
       "      <td>1136.0</td>\n",
       "    </tr>\n",
       "    <tr>\n",
       "      <th>1</th>\n",
       "      <td>2</td>\n",
       "      <td>All-Seasons Salt</td>\n",
       "      <td>104</td>\n",
       "      <td>13</td>\n",
       "      <td>90.0</td>\n",
       "      <td>12.0</td>\n",
       "    </tr>\n",
       "    <tr>\n",
       "      <th>2</th>\n",
       "      <td>3</td>\n",
       "      <td>Robust Golden Unsweetened Oolong Tea</td>\n",
       "      <td>94</td>\n",
       "      <td>7</td>\n",
       "      <td>277.0</td>\n",
       "      <td>203.0</td>\n",
       "    </tr>\n",
       "    <tr>\n",
       "      <th>3</th>\n",
       "      <td>4</td>\n",
       "      <td>Smart Ones Classic Favorites Mini Rigatoni Wit...</td>\n",
       "      <td>38</td>\n",
       "      <td>1</td>\n",
       "      <td>329.0</td>\n",
       "      <td>147.0</td>\n",
       "    </tr>\n",
       "    <tr>\n",
       "      <th>4</th>\n",
       "      <td>5</td>\n",
       "      <td>Green Chile Anytime Sauce</td>\n",
       "      <td>5</td>\n",
       "      <td>13</td>\n",
       "      <td>15.0</td>\n",
       "      <td>9.0</td>\n",
       "    </tr>\n",
       "  </tbody>\n",
       "</table>\n",
       "</div>"
      ],
      "text/plain": [
       "   product_id                                       product_name  aisle_id  \\\n",
       "0           1                         Chocolate Sandwich Cookies        61   \n",
       "1           2                                   All-Seasons Salt       104   \n",
       "2           3               Robust Golden Unsweetened Oolong Tea        94   \n",
       "3           4  Smart Ones Classic Favorites Mini Rigatoni Wit...        38   \n",
       "4           5                          Green Chile Anytime Sauce         5   \n",
       "\n",
       "   department_id  purchases  reordered  \n",
       "0             19     1852.0     1136.0  \n",
       "1             13       90.0       12.0  \n",
       "2              7      277.0      203.0  \n",
       "3              1      329.0      147.0  \n",
       "4             13       15.0        9.0  "
      ]
     },
     "execution_count": 48,
     "metadata": {},
     "output_type": "execute_result"
    }
   ],
   "source": [
    "products_in_order=pd.merge(products_in_order,products_reordered, how= 'outer',left_on=\"product_id\", right_index= True)\n",
    "products_in_order.head()\n"
   ]
  },
  {
   "cell_type": "code",
   "execution_count": 49,
   "metadata": {},
   "outputs": [
    {
     "data": {
      "text/html": [
       "<div>\n",
       "<style>\n",
       "    .dataframe thead tr:only-child th {\n",
       "        text-align: right;\n",
       "    }\n",
       "\n",
       "    .dataframe thead th {\n",
       "        text-align: left;\n",
       "    }\n",
       "\n",
       "    .dataframe tbody tr th {\n",
       "        vertical-align: top;\n",
       "    }\n",
       "</style>\n",
       "<table border=\"1\" class=\"dataframe\">\n",
       "  <thead>\n",
       "    <tr style=\"text-align: right;\">\n",
       "      <th></th>\n",
       "      <th>product_id</th>\n",
       "      <th>aisle_id</th>\n",
       "      <th>department_id</th>\n",
       "      <th>purchases</th>\n",
       "      <th>reordered</th>\n",
       "    </tr>\n",
       "    <tr>\n",
       "      <th>product_name</th>\n",
       "      <th></th>\n",
       "      <th></th>\n",
       "      <th></th>\n",
       "      <th></th>\n",
       "      <th></th>\n",
       "    </tr>\n",
       "  </thead>\n",
       "  <tbody>\n",
       "    <tr>\n",
       "      <th>Banana</th>\n",
       "      <td>24852</td>\n",
       "      <td>24</td>\n",
       "      <td>4</td>\n",
       "      <td>472565.0</td>\n",
       "      <td>398609.0</td>\n",
       "    </tr>\n",
       "    <tr>\n",
       "      <th>Bag of Organic Bananas</th>\n",
       "      <td>13176</td>\n",
       "      <td>24</td>\n",
       "      <td>4</td>\n",
       "      <td>379450.0</td>\n",
       "      <td>315913.0</td>\n",
       "    </tr>\n",
       "    <tr>\n",
       "      <th>Organic Strawberries</th>\n",
       "      <td>21137</td>\n",
       "      <td>24</td>\n",
       "      <td>4</td>\n",
       "      <td>264683.0</td>\n",
       "      <td>205845.0</td>\n",
       "    </tr>\n",
       "    <tr>\n",
       "      <th>Organic Baby Spinach</th>\n",
       "      <td>21903</td>\n",
       "      <td>123</td>\n",
       "      <td>4</td>\n",
       "      <td>241921.0</td>\n",
       "      <td>186884.0</td>\n",
       "    </tr>\n",
       "    <tr>\n",
       "      <th>Organic Hass Avocado</th>\n",
       "      <td>47209</td>\n",
       "      <td>24</td>\n",
       "      <td>4</td>\n",
       "      <td>213584.0</td>\n",
       "      <td>170131.0</td>\n",
       "    </tr>\n",
       "    <tr>\n",
       "      <th>Organic Avocado</th>\n",
       "      <td>47766</td>\n",
       "      <td>24</td>\n",
       "      <td>4</td>\n",
       "      <td>176815.0</td>\n",
       "      <td>134044.0</td>\n",
       "    </tr>\n",
       "    <tr>\n",
       "      <th>Organic Whole Milk</th>\n",
       "      <td>27845</td>\n",
       "      <td>84</td>\n",
       "      <td>16</td>\n",
       "      <td>137905.0</td>\n",
       "      <td>114510.0</td>\n",
       "    </tr>\n",
       "    <tr>\n",
       "      <th>Large Lemon</th>\n",
       "      <td>47626</td>\n",
       "      <td>24</td>\n",
       "      <td>4</td>\n",
       "      <td>152657.0</td>\n",
       "      <td>106255.0</td>\n",
       "    </tr>\n",
       "    <tr>\n",
       "      <th>Organic Raspberries</th>\n",
       "      <td>27966</td>\n",
       "      <td>123</td>\n",
       "      <td>4</td>\n",
       "      <td>137057.0</td>\n",
       "      <td>105409.0</td>\n",
       "    </tr>\n",
       "    <tr>\n",
       "      <th>Strawberries</th>\n",
       "      <td>16797</td>\n",
       "      <td>24</td>\n",
       "      <td>4</td>\n",
       "      <td>142951.0</td>\n",
       "      <td>99802.0</td>\n",
       "    </tr>\n",
       "    <tr>\n",
       "      <th>Limes</th>\n",
       "      <td>26209</td>\n",
       "      <td>24</td>\n",
       "      <td>4</td>\n",
       "      <td>140627.0</td>\n",
       "      <td>95768.0</td>\n",
       "    </tr>\n",
       "    <tr>\n",
       "      <th>Organic Yellow Onion</th>\n",
       "      <td>22935</td>\n",
       "      <td>83</td>\n",
       "      <td>4</td>\n",
       "      <td>113426.0</td>\n",
       "      <td>79072.0</td>\n",
       "    </tr>\n",
       "    <tr>\n",
       "      <th>Organic Garlic</th>\n",
       "      <td>24964</td>\n",
       "      <td>83</td>\n",
       "      <td>4</td>\n",
       "      <td>109778.0</td>\n",
       "      <td>74663.0</td>\n",
       "    </tr>\n",
       "    <tr>\n",
       "      <th>Organic Zucchini</th>\n",
       "      <td>45007</td>\n",
       "      <td>83</td>\n",
       "      <td>4</td>\n",
       "      <td>104823.0</td>\n",
       "      <td>72165.0</td>\n",
       "    </tr>\n",
       "    <tr>\n",
       "      <th>Cucumber Kirby</th>\n",
       "      <td>49683</td>\n",
       "      <td>83</td>\n",
       "      <td>4</td>\n",
       "      <td>97315.0</td>\n",
       "      <td>67313.0</td>\n",
       "    </tr>\n",
       "  </tbody>\n",
       "</table>\n",
       "</div>"
      ],
      "text/plain": [
       "                        product_id  aisle_id  department_id  purchases  \\\n",
       "product_name                                                             \n",
       "Banana                       24852        24              4   472565.0   \n",
       "Bag of Organic Bananas       13176        24              4   379450.0   \n",
       "Organic Strawberries         21137        24              4   264683.0   \n",
       "Organic Baby Spinach         21903       123              4   241921.0   \n",
       "Organic Hass Avocado         47209        24              4   213584.0   \n",
       "Organic Avocado              47766        24              4   176815.0   \n",
       "Organic Whole Milk           27845        84             16   137905.0   \n",
       "Large Lemon                  47626        24              4   152657.0   \n",
       "Organic Raspberries          27966       123              4   137057.0   \n",
       "Strawberries                 16797        24              4   142951.0   \n",
       "Limes                        26209        24              4   140627.0   \n",
       "Organic Yellow Onion         22935        83              4   113426.0   \n",
       "Organic Garlic               24964        83              4   109778.0   \n",
       "Organic Zucchini             45007        83              4   104823.0   \n",
       "Cucumber Kirby               49683        83              4    97315.0   \n",
       "\n",
       "                        reordered  \n",
       "product_name                       \n",
       "Banana                   398609.0  \n",
       "Bag of Organic Bananas   315913.0  \n",
       "Organic Strawberries     205845.0  \n",
       "Organic Baby Spinach     186884.0  \n",
       "Organic Hass Avocado     170131.0  \n",
       "Organic Avocado          134044.0  \n",
       "Organic Whole Milk       114510.0  \n",
       "Large Lemon              106255.0  \n",
       "Organic Raspberries      105409.0  \n",
       "Strawberries              99802.0  \n",
       "Limes                     95768.0  \n",
       "Organic Yellow Onion      79072.0  \n",
       "Organic Garlic            74663.0  \n",
       "Organic Zucchini          72165.0  \n",
       "Cucumber Kirby            67313.0  "
      ]
     },
     "execution_count": 49,
     "metadata": {},
     "output_type": "execute_result"
    }
   ],
   "source": [
    "top_reorders=products_in_order.set_index('product_name')\n",
    "top_reorders=top_reorders.sort_values(by='reordered',ascending=False).head(15)\n",
    "top_reorders\n"
   ]
  },
  {
   "cell_type": "code",
   "execution_count": 50,
   "metadata": {},
   "outputs": [
    {
     "data": {
      "text/plain": [
       "Text(0.5,1,u'top reorders')"
      ]
     },
     "execution_count": 50,
     "metadata": {},
     "output_type": "execute_result"
    },
    {
     "data": {
      "image/png": "[encoded data removed]",
      "text/plain": [
       "<matplotlib.figure.Figure at 0x1a1d29a1d0>"
      ]
     },
     "metadata": {},
     "output_type": "display_data"
    }
   ],
   "source": [
    "\n",
    "ax = top_reorders.purchases.plot(kind='bar',facecolor='#00AAAA')\n",
    "\n",
    "ax.patch.set_facecolor('#FFFFFF')\n",
    "ax.spines['bottom'].set_color('#CCCCCC')\n",
    "ax.spines['bottom'].set_linewidth(1)\n",
    "ax.spines['left'].set_color('#CCCCCC')\n",
    "ax.spines['left'].set_linewidth(1)\n",
    "ax.set_title('top reorders')\n"
   ]
  },
  {
   "cell_type": "markdown",
   "metadata": {},
   "source": [
    "Lets see what product has the highest chance of being reordered. We will use the empirecal data of reorders divided by purchases(oppurtunity to reorder) has the probability of reorder."
   ]
  },
  {
   "cell_type": "code",
   "execution_count": 51,
   "metadata": {},
   "outputs": [
    {
     "data": {
      "text/html": [
       "<div>\n",
       "<style>\n",
       "    .dataframe thead tr:only-child th {\n",
       "        text-align: right;\n",
       "    }\n",
       "\n",
       "    .dataframe thead th {\n",
       "        text-align: left;\n",
       "    }\n",
       "\n",
       "    .dataframe tbody tr th {\n",
       "        vertical-align: top;\n",
       "    }\n",
       "</style>\n",
       "<table border=\"1\" class=\"dataframe\">\n",
       "  <thead>\n",
       "    <tr style=\"text-align: right;\">\n",
       "      <th></th>\n",
       "      <th>product_id</th>\n",
       "      <th>product_name</th>\n",
       "      <th>aisle_id</th>\n",
       "      <th>department_id</th>\n",
       "      <th>purchases</th>\n",
       "      <th>reordered</th>\n",
       "      <th>portion</th>\n",
       "    </tr>\n",
       "  </thead>\n",
       "  <tbody>\n",
       "    <tr>\n",
       "      <th>0</th>\n",
       "      <td>1</td>\n",
       "      <td>Chocolate Sandwich Cookies</td>\n",
       "      <td>61</td>\n",
       "      <td>19</td>\n",
       "      <td>1852.0</td>\n",
       "      <td>1136.0</td>\n",
       "      <td>0.613391</td>\n",
       "    </tr>\n",
       "    <tr>\n",
       "      <th>1</th>\n",
       "      <td>2</td>\n",
       "      <td>All-Seasons Salt</td>\n",
       "      <td>104</td>\n",
       "      <td>13</td>\n",
       "      <td>90.0</td>\n",
       "      <td>12.0</td>\n",
       "      <td>0.133333</td>\n",
       "    </tr>\n",
       "    <tr>\n",
       "      <th>2</th>\n",
       "      <td>3</td>\n",
       "      <td>Robust Golden Unsweetened Oolong Tea</td>\n",
       "      <td>94</td>\n",
       "      <td>7</td>\n",
       "      <td>277.0</td>\n",
       "      <td>203.0</td>\n",
       "      <td>0.732852</td>\n",
       "    </tr>\n",
       "    <tr>\n",
       "      <th>3</th>\n",
       "      <td>4</td>\n",
       "      <td>Smart Ones Classic Favorites Mini Rigatoni Wit...</td>\n",
       "      <td>38</td>\n",
       "      <td>1</td>\n",
       "      <td>329.0</td>\n",
       "      <td>147.0</td>\n",
       "      <td>0.446809</td>\n",
       "    </tr>\n",
       "    <tr>\n",
       "      <th>4</th>\n",
       "      <td>5</td>\n",
       "      <td>Green Chile Anytime Sauce</td>\n",
       "      <td>5</td>\n",
       "      <td>13</td>\n",
       "      <td>15.0</td>\n",
       "      <td>9.0</td>\n",
       "      <td>0.600000</td>\n",
       "    </tr>\n",
       "  </tbody>\n",
       "</table>\n",
       "</div>"
      ],
      "text/plain": [
       "   product_id                                       product_name  aisle_id  \\\n",
       "0           1                         Chocolate Sandwich Cookies        61   \n",
       "1           2                                   All-Seasons Salt       104   \n",
       "2           3               Robust Golden Unsweetened Oolong Tea        94   \n",
       "3           4  Smart Ones Classic Favorites Mini Rigatoni Wit...        38   \n",
       "4           5                          Green Chile Anytime Sauce         5   \n",
       "\n",
       "   department_id  purchases  reordered   portion  \n",
       "0             19     1852.0     1136.0  0.613391  \n",
       "1             13       90.0       12.0  0.133333  \n",
       "2              7      277.0      203.0  0.732852  \n",
       "3              1      329.0      147.0  0.446809  \n",
       "4             13       15.0        9.0  0.600000  "
      ]
     },
     "execution_count": 51,
     "metadata": {},
     "output_type": "execute_result"
    }
   ],
   "source": [
    "#calculate portion of reorders and assign to new column\n",
    "products_in_order['portion']=products_in_order.reordered/products_in_order.purchases\n",
    "products_in_order.head()"
   ]
  },
  {
   "cell_type": "code",
   "execution_count": 52,
   "metadata": {},
   "outputs": [
    {
     "data": {
      "text/html": [
       "<div>\n",
       "<style>\n",
       "    .dataframe thead tr:only-child th {\n",
       "        text-align: right;\n",
       "    }\n",
       "\n",
       "    .dataframe thead th {\n",
       "        text-align: left;\n",
       "    }\n",
       "\n",
       "    .dataframe tbody tr th {\n",
       "        vertical-align: top;\n",
       "    }\n",
       "</style>\n",
       "<table border=\"1\" class=\"dataframe\">\n",
       "  <thead>\n",
       "    <tr style=\"text-align: right;\">\n",
       "      <th></th>\n",
       "      <th>product_id</th>\n",
       "      <th>aisle_id</th>\n",
       "      <th>department_id</th>\n",
       "      <th>purchases</th>\n",
       "      <th>reordered</th>\n",
       "      <th>portion</th>\n",
       "    </tr>\n",
       "    <tr>\n",
       "      <th>product_name</th>\n",
       "      <th></th>\n",
       "      <th></th>\n",
       "      <th></th>\n",
       "      <th></th>\n",
       "      <th></th>\n",
       "      <th></th>\n",
       "    </tr>\n",
       "  </thead>\n",
       "  <tbody>\n",
       "    <tr>\n",
       "      <th>Banana</th>\n",
       "      <td>24852</td>\n",
       "      <td>24</td>\n",
       "      <td>4</td>\n",
       "      <td>472565.0</td>\n",
       "      <td>398609.0</td>\n",
       "      <td>0.843501</td>\n",
       "    </tr>\n",
       "    <tr>\n",
       "      <th>Bag of Organic Bananas</th>\n",
       "      <td>13176</td>\n",
       "      <td>24</td>\n",
       "      <td>4</td>\n",
       "      <td>379450.0</td>\n",
       "      <td>315913.0</td>\n",
       "      <td>0.832555</td>\n",
       "    </tr>\n",
       "    <tr>\n",
       "      <th>Organic Strawberries</th>\n",
       "      <td>21137</td>\n",
       "      <td>24</td>\n",
       "      <td>4</td>\n",
       "      <td>264683.0</td>\n",
       "      <td>205845.0</td>\n",
       "      <td>0.777704</td>\n",
       "    </tr>\n",
       "    <tr>\n",
       "      <th>Organic Baby Spinach</th>\n",
       "      <td>21903</td>\n",
       "      <td>123</td>\n",
       "      <td>4</td>\n",
       "      <td>241921.0</td>\n",
       "      <td>186884.0</td>\n",
       "      <td>0.772500</td>\n",
       "    </tr>\n",
       "    <tr>\n",
       "      <th>Organic Hass Avocado</th>\n",
       "      <td>47209</td>\n",
       "      <td>24</td>\n",
       "      <td>4</td>\n",
       "      <td>213584.0</td>\n",
       "      <td>170131.0</td>\n",
       "      <td>0.796553</td>\n",
       "    </tr>\n",
       "    <tr>\n",
       "      <th>Organic Avocado</th>\n",
       "      <td>47766</td>\n",
       "      <td>24</td>\n",
       "      <td>4</td>\n",
       "      <td>176815.0</td>\n",
       "      <td>134044.0</td>\n",
       "      <td>0.758103</td>\n",
       "    </tr>\n",
       "    <tr>\n",
       "      <th>Large Lemon</th>\n",
       "      <td>47626</td>\n",
       "      <td>24</td>\n",
       "      <td>4</td>\n",
       "      <td>152657.0</td>\n",
       "      <td>106255.0</td>\n",
       "      <td>0.696038</td>\n",
       "    </tr>\n",
       "    <tr>\n",
       "      <th>Strawberries</th>\n",
       "      <td>16797</td>\n",
       "      <td>24</td>\n",
       "      <td>4</td>\n",
       "      <td>142951.0</td>\n",
       "      <td>99802.0</td>\n",
       "      <td>0.698155</td>\n",
       "    </tr>\n",
       "    <tr>\n",
       "      <th>Limes</th>\n",
       "      <td>26209</td>\n",
       "      <td>24</td>\n",
       "      <td>4</td>\n",
       "      <td>140627.0</td>\n",
       "      <td>95768.0</td>\n",
       "      <td>0.681007</td>\n",
       "    </tr>\n",
       "    <tr>\n",
       "      <th>Organic Whole Milk</th>\n",
       "      <td>27845</td>\n",
       "      <td>84</td>\n",
       "      <td>16</td>\n",
       "      <td>137905.0</td>\n",
       "      <td>114510.0</td>\n",
       "      <td>0.830354</td>\n",
       "    </tr>\n",
       "    <tr>\n",
       "      <th>Organic Raspberries</th>\n",
       "      <td>27966</td>\n",
       "      <td>123</td>\n",
       "      <td>4</td>\n",
       "      <td>137057.0</td>\n",
       "      <td>105409.0</td>\n",
       "      <td>0.769089</td>\n",
       "    </tr>\n",
       "    <tr>\n",
       "      <th>Organic Yellow Onion</th>\n",
       "      <td>22935</td>\n",
       "      <td>83</td>\n",
       "      <td>4</td>\n",
       "      <td>113426.0</td>\n",
       "      <td>79072.0</td>\n",
       "      <td>0.697124</td>\n",
       "    </tr>\n",
       "    <tr>\n",
       "      <th>Organic Garlic</th>\n",
       "      <td>24964</td>\n",
       "      <td>83</td>\n",
       "      <td>4</td>\n",
       "      <td>109778.0</td>\n",
       "      <td>74663.0</td>\n",
       "      <td>0.680127</td>\n",
       "    </tr>\n",
       "    <tr>\n",
       "      <th>Organic Zucchini</th>\n",
       "      <td>45007</td>\n",
       "      <td>83</td>\n",
       "      <td>4</td>\n",
       "      <td>104823.0</td>\n",
       "      <td>72165.0</td>\n",
       "      <td>0.688446</td>\n",
       "    </tr>\n",
       "    <tr>\n",
       "      <th>Organic Blueberries</th>\n",
       "      <td>39275</td>\n",
       "      <td>123</td>\n",
       "      <td>4</td>\n",
       "      <td>100060.0</td>\n",
       "      <td>62922.0</td>\n",
       "      <td>0.628843</td>\n",
       "    </tr>\n",
       "  </tbody>\n",
       "</table>\n",
       "</div>"
      ],
      "text/plain": [
       "                        product_id  aisle_id  department_id  purchases  \\\n",
       "product_name                                                             \n",
       "Banana                       24852        24              4   472565.0   \n",
       "Bag of Organic Bananas       13176        24              4   379450.0   \n",
       "Organic Strawberries         21137        24              4   264683.0   \n",
       "Organic Baby Spinach         21903       123              4   241921.0   \n",
       "Organic Hass Avocado         47209        24              4   213584.0   \n",
       "Organic Avocado              47766        24              4   176815.0   \n",
       "Large Lemon                  47626        24              4   152657.0   \n",
       "Strawberries                 16797        24              4   142951.0   \n",
       "Limes                        26209        24              4   140627.0   \n",
       "Organic Whole Milk           27845        84             16   137905.0   \n",
       "Organic Raspberries          27966       123              4   137057.0   \n",
       "Organic Yellow Onion         22935        83              4   113426.0   \n",
       "Organic Garlic               24964        83              4   109778.0   \n",
       "Organic Zucchini             45007        83              4   104823.0   \n",
       "Organic Blueberries          39275       123              4   100060.0   \n",
       "\n",
       "                        reordered   portion  \n",
       "product_name                                 \n",
       "Banana                   398609.0  0.843501  \n",
       "Bag of Organic Bananas   315913.0  0.832555  \n",
       "Organic Strawberries     205845.0  0.777704  \n",
       "Organic Baby Spinach     186884.0  0.772500  \n",
       "Organic Hass Avocado     170131.0  0.796553  \n",
       "Organic Avocado          134044.0  0.758103  \n",
       "Large Lemon              106255.0  0.696038  \n",
       "Strawberries              99802.0  0.698155  \n",
       "Limes                     95768.0  0.681007  \n",
       "Organic Whole Milk       114510.0  0.830354  \n",
       "Organic Raspberries      105409.0  0.769089  \n",
       "Organic Yellow Onion      79072.0  0.697124  \n",
       "Organic Garlic            74663.0  0.680127  \n",
       "Organic Zucchini          72165.0  0.688446  \n",
       "Organic Blueberries       62922.0  0.628843  "
      ]
     },
     "execution_count": 52,
     "metadata": {},
     "output_type": "execute_result"
    }
   ],
   "source": [
    "#set product name as index\n",
    "top_sellers=products_in_order.set_index('product_name')\n",
    "top_sellers=top_sellers.sort_values(by='purchases',ascending=False).head(15)\n",
    "top_sellers"
   ]
  },
  {
   "cell_type": "code",
   "execution_count": 53,
   "metadata": {},
   "outputs": [
    {
     "data": {
      "text/html": [
       "<div>\n",
       "<style>\n",
       "    .dataframe thead tr:only-child th {\n",
       "        text-align: right;\n",
       "    }\n",
       "\n",
       "    .dataframe thead th {\n",
       "        text-align: left;\n",
       "    }\n",
       "\n",
       "    .dataframe tbody tr th {\n",
       "        vertical-align: top;\n",
       "    }\n",
       "</style>\n",
       "<table border=\"1\" class=\"dataframe\">\n",
       "  <thead>\n",
       "    <tr style=\"text-align: right;\">\n",
       "      <th></th>\n",
       "      <th>product_id</th>\n",
       "      <th>aisle_id</th>\n",
       "      <th>department_id</th>\n",
       "      <th>purchases</th>\n",
       "      <th>reordered</th>\n",
       "      <th>portion</th>\n",
       "    </tr>\n",
       "    <tr>\n",
       "      <th>product_name</th>\n",
       "      <th></th>\n",
       "      <th></th>\n",
       "      <th></th>\n",
       "      <th></th>\n",
       "      <th></th>\n",
       "      <th></th>\n",
       "    </tr>\n",
       "  </thead>\n",
       "  <tbody>\n",
       "    <tr>\n",
       "      <th>Raw Veggie Wrappers</th>\n",
       "      <td>6433</td>\n",
       "      <td>13</td>\n",
       "      <td>20</td>\n",
       "      <td>68.0</td>\n",
       "      <td>64.0</td>\n",
       "      <td>0.941176</td>\n",
       "    </tr>\n",
       "    <tr>\n",
       "      <th>Serenity Ultimate Extrema Overnight Pads</th>\n",
       "      <td>2075</td>\n",
       "      <td>126</td>\n",
       "      <td>11</td>\n",
       "      <td>87.0</td>\n",
       "      <td>81.0</td>\n",
       "      <td>0.931034</td>\n",
       "    </tr>\n",
       "    <tr>\n",
       "      <th>Orange Energy Shots</th>\n",
       "      <td>43553</td>\n",
       "      <td>64</td>\n",
       "      <td>7</td>\n",
       "      <td>13.0</td>\n",
       "      <td>12.0</td>\n",
       "      <td>0.923077</td>\n",
       "    </tr>\n",
       "    <tr>\n",
       "      <th>Chocolate Love Bar</th>\n",
       "      <td>27740</td>\n",
       "      <td>45</td>\n",
       "      <td>19</td>\n",
       "      <td>101.0</td>\n",
       "      <td>93.0</td>\n",
       "      <td>0.920792</td>\n",
       "    </tr>\n",
       "    <tr>\n",
       "      <th>Soy Powder Infant Formula</th>\n",
       "      <td>14609</td>\n",
       "      <td>92</td>\n",
       "      <td>18</td>\n",
       "      <td>35.0</td>\n",
       "      <td>32.0</td>\n",
       "      <td>0.914286</td>\n",
       "    </tr>\n",
       "    <tr>\n",
       "      <th>Simply Sleep Nighttime Sleep Aid</th>\n",
       "      <td>13875</td>\n",
       "      <td>6</td>\n",
       "      <td>2</td>\n",
       "      <td>45.0</td>\n",
       "      <td>41.0</td>\n",
       "      <td>0.911111</td>\n",
       "    </tr>\n",
       "    <tr>\n",
       "      <th>Energy Shot, Grape Flavor</th>\n",
       "      <td>39992</td>\n",
       "      <td>64</td>\n",
       "      <td>7</td>\n",
       "      <td>22.0</td>\n",
       "      <td>20.0</td>\n",
       "      <td>0.909091</td>\n",
       "    </tr>\n",
       "    <tr>\n",
       "      <th>Russian River Valley Reserve Pinot Noir</th>\n",
       "      <td>5868</td>\n",
       "      <td>28</td>\n",
       "      <td>5</td>\n",
       "      <td>30.0</td>\n",
       "      <td>27.0</td>\n",
       "      <td>0.900000</td>\n",
       "    </tr>\n",
       "    <tr>\n",
       "      <th>Sparking Water</th>\n",
       "      <td>31418</td>\n",
       "      <td>115</td>\n",
       "      <td>7</td>\n",
       "      <td>60.0</td>\n",
       "      <td>54.0</td>\n",
       "      <td>0.900000</td>\n",
       "    </tr>\n",
       "    <tr>\n",
       "      <th>Maca Buttercups</th>\n",
       "      <td>35604</td>\n",
       "      <td>45</td>\n",
       "      <td>19</td>\n",
       "      <td>100.0</td>\n",
       "      <td>90.0</td>\n",
       "      <td>0.900000</td>\n",
       "    </tr>\n",
       "    <tr>\n",
       "      <th>Bars Peanut Butter</th>\n",
       "      <td>36543</td>\n",
       "      <td>88</td>\n",
       "      <td>13</td>\n",
       "      <td>67.0</td>\n",
       "      <td>60.0</td>\n",
       "      <td>0.895522</td>\n",
       "    </tr>\n",
       "    <tr>\n",
       "      <th>Soy Crisps Lightly Salted</th>\n",
       "      <td>26093</td>\n",
       "      <td>107</td>\n",
       "      <td>19</td>\n",
       "      <td>66.0</td>\n",
       "      <td>59.0</td>\n",
       "      <td>0.893939</td>\n",
       "    </tr>\n",
       "    <tr>\n",
       "      <th>Jet Fuel Dark Roast Whole Bean Coffee</th>\n",
       "      <td>700</td>\n",
       "      <td>26</td>\n",
       "      <td>7</td>\n",
       "      <td>28.0</td>\n",
       "      <td>25.0</td>\n",
       "      <td>0.892857</td>\n",
       "    </tr>\n",
       "    <tr>\n",
       "      <th>High Gravity Lager</th>\n",
       "      <td>4212</td>\n",
       "      <td>27</td>\n",
       "      <td>5</td>\n",
       "      <td>37.0</td>\n",
       "      <td>33.0</td>\n",
       "      <td>0.891892</td>\n",
       "    </tr>\n",
       "    <tr>\n",
       "      <th>Benchbreak Chardonnay</th>\n",
       "      <td>38251</td>\n",
       "      <td>62</td>\n",
       "      <td>5</td>\n",
       "      <td>111.0</td>\n",
       "      <td>99.0</td>\n",
       "      <td>0.891892</td>\n",
       "    </tr>\n",
       "  </tbody>\n",
       "</table>\n",
       "</div>"
      ],
      "text/plain": [
       "                                          product_id  aisle_id  department_id  \\\n",
       "product_name                                                                    \n",
       "Raw Veggie Wrappers                             6433        13             20   \n",
       "Serenity Ultimate Extrema Overnight Pads        2075       126             11   \n",
       "Orange Energy Shots                            43553        64              7   \n",
       "Chocolate Love Bar                             27740        45             19   \n",
       "Soy Powder Infant Formula                      14609        92             18   \n",
       "Simply Sleep Nighttime Sleep Aid               13875         6              2   \n",
       "Energy Shot, Grape Flavor                      39992        64              7   \n",
       "Russian River Valley Reserve Pinot Noir         5868        28              5   \n",
       "Sparking Water                                 31418       115              7   \n",
       "Maca Buttercups                                35604        45             19   \n",
       "Bars Peanut Butter                             36543        88             13   \n",
       "Soy Crisps Lightly Salted                      26093       107             19   \n",
       "Jet Fuel Dark Roast Whole Bean Coffee            700        26              7   \n",
       "High Gravity Lager                              4212        27              5   \n",
       "Benchbreak Chardonnay                          38251        62              5   \n",
       "\n",
       "                                          purchases  reordered   portion  \n",
       "product_name                                                              \n",
       "Raw Veggie Wrappers                            68.0       64.0  0.941176  \n",
       "Serenity Ultimate Extrema Overnight Pads       87.0       81.0  0.931034  \n",
       "Orange Energy Shots                            13.0       12.0  0.923077  \n",
       "Chocolate Love Bar                            101.0       93.0  0.920792  \n",
       "Soy Powder Infant Formula                      35.0       32.0  0.914286  \n",
       "Simply Sleep Nighttime Sleep Aid               45.0       41.0  0.911111  \n",
       "Energy Shot, Grape Flavor                      22.0       20.0  0.909091  \n",
       "Russian River Valley Reserve Pinot Noir        30.0       27.0  0.900000  \n",
       "Sparking Water                                 60.0       54.0  0.900000  \n",
       "Maca Buttercups                               100.0       90.0  0.900000  \n",
       "Bars Peanut Butter                             67.0       60.0  0.895522  \n",
       "Soy Crisps Lightly Salted                      66.0       59.0  0.893939  \n",
       "Jet Fuel Dark Roast Whole Bean Coffee          28.0       25.0  0.892857  \n",
       "High Gravity Lager                             37.0       33.0  0.891892  \n",
       "Benchbreak Chardonnay                         111.0       99.0  0.891892  "
      ]
     },
     "execution_count": 53,
     "metadata": {},
     "output_type": "execute_result"
    }
   ],
   "source": [
    "top_portion=products_in_order.set_index('product_name')\n",
    "top_portion=top_portion.sort_values(by='portion',ascending=False).head(15)\n",
    "top_portion"
   ]
  },
  {
   "cell_type": "code",
   "execution_count": 54,
   "metadata": {},
   "outputs": [
    {
     "data": {
      "text/plain": [
       "Text(0.5,1,u'top probability of reorder')"
      ]
     },
     "execution_count": 54,
     "metadata": {},
     "output_type": "execute_result"
    },
    {
     "data": {
      "image/png": "[encoded data removed]",
      "text/plain": [
       "<matplotlib.figure.Figure at 0x1180b9a90>"
      ]
     },
     "metadata": {},
     "output_type": "display_data"
    }
   ],
   "source": [
    "#plot portion column\n",
    "ax = top_portion.portion.plot(kind='bar',facecolor='#00AAAA')\n",
    "\n",
    "ax.patch.set_facecolor('#FFFFFF')\n",
    "ax.spines['bottom'].set_color('#CCCCCC')\n",
    "ax.spines['bottom'].set_linewidth(1)\n",
    "ax.spines['left'].set_color('#CCCCCC')\n",
    "ax.spines['left'].set_linewidth(1)\n",
    "ax.set_title('top probability of reorder')\n",
    "\n"
   ]
  },
  {
   "cell_type": "code",
   "execution_count": 55,
   "metadata": {
    "collapsed": true
   },
   "outputs": [],
   "source": [
    "#group features by departments and sum products bought by department sort departments by top reorders first\n",
    "departments=products_in_order.groupby('department_id').sum().sort_values('reordered',ascending=False)\n",
    "#drop columns that are useless now\n",
    "departments=departments.drop(['product_id','aisle_id'],axis=1)\n",
    "#assign portion column to reorder rate of department\n",
    "departments['portion']=departments['reordered']/departments['purchases']\n",
    "departments=departments.reset_index()"
   ]
  },
  {
   "cell_type": "code",
   "execution_count": 56,
   "metadata": {},
   "outputs": [
    {
     "data": {
      "text/html": [
       "<div>\n",
       "<style>\n",
       "    .dataframe thead tr:only-child th {\n",
       "        text-align: right;\n",
       "    }\n",
       "\n",
       "    .dataframe thead th {\n",
       "        text-align: left;\n",
       "    }\n",
       "\n",
       "    .dataframe tbody tr th {\n",
       "        vertical-align: top;\n",
       "    }\n",
       "</style>\n",
       "<table border=\"1\" class=\"dataframe\">\n",
       "  <thead>\n",
       "    <tr style=\"text-align: right;\">\n",
       "      <th></th>\n",
       "      <th>department_id</th>\n",
       "      <th>department</th>\n",
       "    </tr>\n",
       "  </thead>\n",
       "  <tbody>\n",
       "    <tr>\n",
       "      <th>0</th>\n",
       "      <td>1</td>\n",
       "      <td>frozen</td>\n",
       "    </tr>\n",
       "    <tr>\n",
       "      <th>1</th>\n",
       "      <td>2</td>\n",
       "      <td>other</td>\n",
       "    </tr>\n",
       "    <tr>\n",
       "      <th>2</th>\n",
       "      <td>3</td>\n",
       "      <td>bakery</td>\n",
       "    </tr>\n",
       "    <tr>\n",
       "      <th>3</th>\n",
       "      <td>4</td>\n",
       "      <td>produce</td>\n",
       "    </tr>\n",
       "    <tr>\n",
       "      <th>4</th>\n",
       "      <td>5</td>\n",
       "      <td>alcohol</td>\n",
       "    </tr>\n",
       "  </tbody>\n",
       "</table>\n",
       "</div>"
      ],
      "text/plain": [
       "   department_id department\n",
       "0              1     frozen\n",
       "1              2      other\n",
       "2              3     bakery\n",
       "3              4    produce\n",
       "4              5    alcohol"
      ]
     },
     "execution_count": 56,
     "metadata": {},
     "output_type": "execute_result"
    }
   ],
   "source": [
    "#lets load department names\n",
    "instacart_departments=pd.read_csv('/Users/luca/anaconda2/Springboard/Capstone Project 1/Data/departments.csv')\n",
    "df_departments=pd.DataFrame(instacart_departments)\n",
    "df_departments.head()"
   ]
  },
  {
   "cell_type": "code",
   "execution_count": 57,
   "metadata": {},
   "outputs": [
    {
     "data": {
      "text/html": [
       "<div>\n",
       "<style>\n",
       "    .dataframe thead tr:only-child th {\n",
       "        text-align: right;\n",
       "    }\n",
       "\n",
       "    .dataframe thead th {\n",
       "        text-align: left;\n",
       "    }\n",
       "\n",
       "    .dataframe tbody tr th {\n",
       "        vertical-align: top;\n",
       "    }\n",
       "</style>\n",
       "<table border=\"1\" class=\"dataframe\">\n",
       "  <thead>\n",
       "    <tr style=\"text-align: right;\">\n",
       "      <th></th>\n",
       "      <th>department_id</th>\n",
       "      <th>purchases</th>\n",
       "      <th>reordered</th>\n",
       "      <th>portion</th>\n",
       "      <th>department</th>\n",
       "    </tr>\n",
       "  </thead>\n",
       "  <tbody>\n",
       "    <tr>\n",
       "      <th>0</th>\n",
       "      <td>4</td>\n",
       "      <td>9479291.0</td>\n",
       "      <td>6160710.0</td>\n",
       "      <td>0.649913</td>\n",
       "      <td>produce</td>\n",
       "    </tr>\n",
       "    <tr>\n",
       "      <th>1</th>\n",
       "      <td>16</td>\n",
       "      <td>5414016.0</td>\n",
       "      <td>3627221.0</td>\n",
       "      <td>0.669969</td>\n",
       "      <td>dairy eggs</td>\n",
       "    </tr>\n",
       "    <tr>\n",
       "      <th>2</th>\n",
       "      <td>7</td>\n",
       "      <td>2690129.0</td>\n",
       "      <td>1757892.0</td>\n",
       "      <td>0.653460</td>\n",
       "      <td>beverages</td>\n",
       "    </tr>\n",
       "    <tr>\n",
       "      <th>3</th>\n",
       "      <td>19</td>\n",
       "      <td>2887550.0</td>\n",
       "      <td>1657973.0</td>\n",
       "      <td>0.574180</td>\n",
       "      <td>snacks</td>\n",
       "    </tr>\n",
       "    <tr>\n",
       "      <th>4</th>\n",
       "      <td>1</td>\n",
       "      <td>2236432.0</td>\n",
       "      <td>1211890.0</td>\n",
       "      <td>0.541885</td>\n",
       "      <td>frozen</td>\n",
       "    </tr>\n",
       "  </tbody>\n",
       "</table>\n",
       "</div>"
      ],
      "text/plain": [
       "   department_id  purchases  reordered   portion  department\n",
       "0              4  9479291.0  6160710.0  0.649913     produce\n",
       "1             16  5414016.0  3627221.0  0.669969  dairy eggs\n",
       "2              7  2690129.0  1757892.0  0.653460   beverages\n",
       "3             19  2887550.0  1657973.0  0.574180      snacks\n",
       "4              1  2236432.0  1211890.0  0.541885      frozen"
      ]
     },
     "execution_count": 57,
     "metadata": {},
     "output_type": "execute_result"
    }
   ],
   "source": [
    "#merge department names into data frame for graphing \n",
    "departments=pd.merge(departments,df_departments, how= 'outer',right_on=\"department_id\" , left_on=\"department_id\")\n",
    "departments.head()"
   ]
  },
  {
   "cell_type": "code",
   "execution_count": 58,
   "metadata": {
    "collapsed": true
   },
   "outputs": [],
   "source": [
    "#set index for graphing\n",
    "departments=departments.set_index('department')"
   ]
  },
  {
   "cell_type": "code",
   "execution_count": 59,
   "metadata": {},
   "outputs": [
    {
     "data": {
      "image/png": "[encoded data removed]",
      "text/plain": [
       "<matplotlib.figure.Figure at 0x1a1950b490>"
      ]
     },
     "metadata": {},
     "output_type": "display_data"
    }
   ],
   "source": [
    "#sort data frame by reorders\n",
    "departments=departments.sort_values('reordered', ascending=False)\n",
    "#create figure instance\n",
    "fig,ax=plt.subplots(figsize=(8,5))\n",
    "#plot reordered by department bar graph\n",
    "ax = departments.reordered.plot(kind='bar',facecolor='#00AAAA')\n",
    "#set x tick labels\n",
    "ax.set_xticklabels(departments.index)\n",
    "#set some formating \n",
    "ax.patch.set_facecolor('#FFFFFF')\n",
    "ax.spines['bottom'].set_color('#CCCCCC')\n",
    "ax.spines['bottom'].set_linewidth(1)\n",
    "ax.spines['left'].set_color('#CCCCCC')\n",
    "ax.spines['left'].set_linewidth(1)\n",
    "#set title for graph\n",
    "ax.set_title('top departments by total reorders')\n",
    "plt.show()\n",
    "#save figure for paper\n",
    "fig.savefig('top_dept_tot_reorder.png')"
   ]
  },
  {
   "cell_type": "code",
   "execution_count": 60,
   "metadata": {},
   "outputs": [
    {
     "data": {
      "image/png": "[encoded data removed]",
      "text/plain": [
       "<matplotlib.figure.Figure at 0x1185e6450>"
      ]
     },
     "metadata": {},
     "output_type": "display_data"
    }
   ],
   "source": [
    "#sort departments by portion of reorders to purchases\n",
    "departments=departments.sort_values('portion', ascending=False)\n",
    "#create figure instance\n",
    "fig,ax=plt.subplots(figsize=(8,5))\n",
    "#make a bar chart with a cool blue color\n",
    "ax = departments.portion.plot(kind='bar',facecolor='#00AAAA')\n",
    "#set names of department as x labels\n",
    "ax.set_xticklabels(departments.index)\n",
    "#some more formating\n",
    "ax.patch.set_facecolor('#FFFFFF')\n",
    "ax.spines['bottom'].set_color('#CCCCCC')\n",
    "ax.spines['bottom'].set_linewidth(1)\n",
    "ax.spines['left'].set_color('#CCCCCC')\n",
    "ax.spines['left'].set_linewidth(1)\n",
    "#set title for graph\n",
    "ax.set_title('top departments by percent reorders')\n",
    "#save figure for paper\n",
    "plt.show()\n",
    "fig.savefig('top_dept_perc_reorder.png')"
   ]
  },
  {
   "cell_type": "markdown",
   "metadata": {},
   "source": [
    "We see that perishable items are the leading reorders in volume and percent of purchases. Lets see if the aisle data provides any insight.\n"
   ]
  },
  {
   "cell_type": "code",
   "execution_count": 61,
   "metadata": {
    "collapsed": true
   },
   "outputs": [],
   "source": [
    "#group features by departments and sum products bought by department sort departments by top reorders first\n",
    "aisle=products_in_order.groupby('aisle_id').sum().sort_values('reordered',ascending=False)\n",
    "#drop columns that are useless now\n",
    "aisle=aisle.drop(['product_id','department_id'],axis=1)\n",
    "#assign portion column to reorder rate of department\n",
    "aisle['portion']=aisle['reordered']/aisle['purchases']\n",
    "aisle=aisle.reset_index()"
   ]
  },
  {
   "cell_type": "code",
   "execution_count": 62,
   "metadata": {},
   "outputs": [
    {
     "data": {
      "text/html": [
       "<div>\n",
       "<style>\n",
       "    .dataframe thead tr:only-child th {\n",
       "        text-align: right;\n",
       "    }\n",
       "\n",
       "    .dataframe thead th {\n",
       "        text-align: left;\n",
       "    }\n",
       "\n",
       "    .dataframe tbody tr th {\n",
       "        vertical-align: top;\n",
       "    }\n",
       "</style>\n",
       "<table border=\"1\" class=\"dataframe\">\n",
       "  <thead>\n",
       "    <tr style=\"text-align: right;\">\n",
       "      <th></th>\n",
       "      <th>aisle_id</th>\n",
       "      <th>aisle</th>\n",
       "    </tr>\n",
       "  </thead>\n",
       "  <tbody>\n",
       "    <tr>\n",
       "      <th>0</th>\n",
       "      <td>1</td>\n",
       "      <td>prepared soups salads</td>\n",
       "    </tr>\n",
       "    <tr>\n",
       "      <th>1</th>\n",
       "      <td>2</td>\n",
       "      <td>specialty cheeses</td>\n",
       "    </tr>\n",
       "    <tr>\n",
       "      <th>2</th>\n",
       "      <td>3</td>\n",
       "      <td>energy granola bars</td>\n",
       "    </tr>\n",
       "    <tr>\n",
       "      <th>3</th>\n",
       "      <td>4</td>\n",
       "      <td>instant foods</td>\n",
       "    </tr>\n",
       "    <tr>\n",
       "      <th>4</th>\n",
       "      <td>5</td>\n",
       "      <td>marinades meat preparation</td>\n",
       "    </tr>\n",
       "  </tbody>\n",
       "</table>\n",
       "</div>"
      ],
      "text/plain": [
       "   aisle_id                       aisle\n",
       "0         1       prepared soups salads\n",
       "1         2           specialty cheeses\n",
       "2         3         energy granola bars\n",
       "3         4               instant foods\n",
       "4         5  marinades meat preparation"
      ]
     },
     "execution_count": 62,
     "metadata": {},
     "output_type": "execute_result"
    }
   ],
   "source": [
    "#lets load aisles' names\n",
    "instacart_aisles=pd.read_csv('/Users/luca/anaconda2/Springboard/Capstone Project 1/Data/aisles.csv')\n",
    "df_aisles=pd.DataFrame(instacart_aisles)\n",
    "df_aisles.head()"
   ]
  },
  {
   "cell_type": "code",
   "execution_count": 63,
   "metadata": {},
   "outputs": [
    {
     "data": {
      "text/html": [
       "<div>\n",
       "<style>\n",
       "    .dataframe thead tr:only-child th {\n",
       "        text-align: right;\n",
       "    }\n",
       "\n",
       "    .dataframe thead th {\n",
       "        text-align: left;\n",
       "    }\n",
       "\n",
       "    .dataframe tbody tr th {\n",
       "        vertical-align: top;\n",
       "    }\n",
       "</style>\n",
       "<table border=\"1\" class=\"dataframe\">\n",
       "  <thead>\n",
       "    <tr style=\"text-align: right;\">\n",
       "      <th></th>\n",
       "      <th>aisle_id</th>\n",
       "      <th>purchases</th>\n",
       "      <th>reordered</th>\n",
       "      <th>portion</th>\n",
       "      <th>aisle</th>\n",
       "    </tr>\n",
       "  </thead>\n",
       "  <tbody>\n",
       "    <tr>\n",
       "      <th>0</th>\n",
       "      <td>24</td>\n",
       "      <td>3642188.0</td>\n",
       "      <td>2615469.0</td>\n",
       "      <td>0.718104</td>\n",
       "      <td>fresh fruits</td>\n",
       "    </tr>\n",
       "    <tr>\n",
       "      <th>1</th>\n",
       "      <td>83</td>\n",
       "      <td>3418021.0</td>\n",
       "      <td>2032172.0</td>\n",
       "      <td>0.594546</td>\n",
       "      <td>fresh vegetables</td>\n",
       "    </tr>\n",
       "    <tr>\n",
       "      <th>2</th>\n",
       "      <td>123</td>\n",
       "      <td>1765313.0</td>\n",
       "      <td>1127177.0</td>\n",
       "      <td>0.638514</td>\n",
       "      <td>packaged vegetables fruits</td>\n",
       "    </tr>\n",
       "    <tr>\n",
       "      <th>3</th>\n",
       "      <td>120</td>\n",
       "      <td>1452343.0</td>\n",
       "      <td>997018.0</td>\n",
       "      <td>0.686489</td>\n",
       "      <td>yogurt</td>\n",
       "    </tr>\n",
       "    <tr>\n",
       "      <th>4</th>\n",
       "      <td>84</td>\n",
       "      <td>891015.0</td>\n",
       "      <td>696264.0</td>\n",
       "      <td>0.781428</td>\n",
       "      <td>milk</td>\n",
       "    </tr>\n",
       "  </tbody>\n",
       "</table>\n",
       "</div>"
      ],
      "text/plain": [
       "   aisle_id  purchases  reordered   portion                       aisle\n",
       "0        24  3642188.0  2615469.0  0.718104                fresh fruits\n",
       "1        83  3418021.0  2032172.0  0.594546            fresh vegetables\n",
       "2       123  1765313.0  1127177.0  0.638514  packaged vegetables fruits\n",
       "3       120  1452343.0   997018.0  0.686489                      yogurt\n",
       "4        84   891015.0   696264.0  0.781428                        milk"
      ]
     },
     "execution_count": 63,
     "metadata": {},
     "output_type": "execute_result"
    }
   ],
   "source": [
    "#merge department names into data frame for graphing \n",
    "aisle=pd.merge(aisle,df_aisles, how= 'outer',right_on=\"aisle_id\" , left_on=\"aisle_id\")\n",
    "aisle.head()"
   ]
  },
  {
   "cell_type": "code",
   "execution_count": 64,
   "metadata": {
    "collapsed": true
   },
   "outputs": [],
   "source": [
    "#set index for graphing\n",
    "aisle=aisle.set_index('aisle')"
   ]
  },
  {
   "cell_type": "code",
   "execution_count": 65,
   "metadata": {},
   "outputs": [
    {
     "data": {
      "image/png": "[encoded data removed]",
      "text/plain": [
       "<matplotlib.figure.Figure at 0x118685dd0>"
      ]
     },
     "metadata": {},
     "output_type": "display_data"
    }
   ],
   "source": [
    "#sort departments by portion of reorders to purchases\n",
    "aisle_top=aisle.sort_values('reordered', ascending=False).head(20)\n",
    "#create figure instance\n",
    "fig,ax=plt.subplots(figsize=(8,5))\n",
    "#plot reordered by department bar graph\n",
    "ax = aisle_top.reordered.plot(kind='bar',facecolor='#00AAAA',)\n",
    "#set x tick labels\n",
    "ax.set_xticklabels(aisle_top.index)\n",
    "#set some formating \n",
    "ax.patch.set_facecolor('#FFFFFF')\n",
    "ax.spines['bottom'].set_color('#CCCCCC')\n",
    "ax.spines['bottom'].set_linewidth(1)\n",
    "ax.spines['left'].set_color('#CCCCCC')\n",
    "ax.spines['left'].set_linewidth(1)\n",
    "#set title for graph\n",
    "ax.set_title('top 20 aisles by total reorders')\n",
    "#save figure for paper\n",
    "fig.savefig('top_aisle_tot_reorder.png')\n"
   ]
  },
  {
   "cell_type": "code",
   "execution_count": 66,
   "metadata": {},
   "outputs": [
    {
     "data": {
      "image/png": "[encoded data removed]",
      "text/plain": [
       "<matplotlib.figure.Figure at 0x1a1a903bd0>"
      ]
     },
     "metadata": {},
     "output_type": "display_data"
    }
   ],
   "source": [
    "#sort departments by portion of reorders to purchases\n",
    "aisle_top=aisle.sort_values('portion', ascending=False).head(20)\n",
    "#create figure instance\n",
    "fig,ax=plt.subplots(figsize=(8,5))\n",
    "#make a bar chart with a cool blue color\n",
    "ax = aisle_top.portion.plot(kind='bar',facecolor='#00AAAA')\n",
    "#set names of department as x labels\n",
    "ax.set_xticklabels(aisle_top.index)\n",
    "#some more formating\n",
    "ax.patch.set_facecolor('#FFFFFF')\n",
    "ax.spines['bottom'].set_color('#CCCCCC')\n",
    "ax.spines['bottom'].set_linewidth(1)\n",
    "ax.spines['left'].set_color('#CCCCCC')\n",
    "ax.spines['left'].set_linewidth(1)\n",
    "#set title for graph\n",
    "ax.set_title('top 20 aisles by percent reorders')\n",
    "#save figure for paper\n",
    "fig.savefig('top_aisle_perc_reorder.png')"
   ]
  },
  {
   "cell_type": "code",
   "execution_count": 67,
   "metadata": {},
   "outputs": [
    {
     "data": {
      "image/png": "[encoded data removed]",
      "text/plain": [
       "<matplotlib.figure.Figure at 0x1a1abd1710>"
      ]
     },
     "metadata": {},
     "output_type": "display_data"
    }
   ],
   "source": [
    "#sort departments by portion of reorders to purchases\n",
    "aisle_bot=aisle.sort_values('reordered').head(20)\n",
    "#create figure instance\n",
    "fig,ax=plt.subplots(figsize=(8,5))\n",
    "#make a bar chart with a cool blue color\n",
    "ax = aisle_bot.reordered.plot(kind='bar',facecolor='#00AAAA')\n",
    "#set names of department as x labels\n",
    "ax.set_xticklabels(aisle_bot.index)\n",
    "#some more formating\n",
    "ax.patch.set_facecolor('#FFFFFF')\n",
    "ax.spines['bottom'].set_color('#CCCCCC')\n",
    "ax.spines['bottom'].set_linewidth(1)\n",
    "ax.spines['left'].set_color('#CCCCCC')\n",
    "ax.spines['left'].set_linewidth(1)\n",
    "#set title for graph\n",
    "ax.set_title('bottom 20 aisles by total reorders')\n",
    "#save figure for paper\n",
    "fig.savefig('bottom_aisle_total_reorders.png')"
   ]
  },
  {
   "cell_type": "code",
   "execution_count": 68,
   "metadata": {},
   "outputs": [
    {
     "data": {
      "image/png": "[encoded data removed]",
      "text/plain": [
       "<matplotlib.figure.Figure at 0x1a1a865a90>"
      ]
     },
     "metadata": {},
     "output_type": "display_data"
    }
   ],
   "source": [
    "#sort departments by portion of reorders to purchases\n",
    "aisle_bot=aisle.sort_values('portion').head(20)\n",
    "\n",
    "#make a bar chart with a cool blue color\n",
    "ax = aisle_bot.portion.plot(kind='bar',facecolor='#00AAAA')\n",
    "#set names of department as x labels\n",
    "ax.set_xticklabels(aisle_bot.index)\n",
    "#some more formating\n",
    "ax.patch.set_facecolor('#FFFFFF')\n",
    "ax.spines['bottom'].set_color('#CCCCCC')\n",
    "ax.spines['bottom'].set_linewidth(1)\n",
    "ax.spines['left'].set_color('#CCCCCC')\n",
    "ax.spines['left'].set_linewidth(1)\n",
    "#set title for graph\n",
    "ax.set_title('bottom 20 aisles by percent reorders')\n",
    "#save figure for paper\n",
    "fig.savefig('bottom_aisle_perc_reorders.png')"
   ]
  },
  {
   "cell_type": "code",
   "execution_count": 69,
   "metadata": {},
   "outputs": [
    {
     "name": "stdout",
     "output_type": "stream",
     "text": [
      "aisle\n",
      "milk                             0.781428\n",
      "water seltzer sparkling water    0.729593\n",
      "fresh fruits                     0.718104\n",
      "eggs                             0.705366\n",
      "soy lactosefree                  0.692551\n",
      "Name: portion, dtype: float64\n"
     ]
    }
   ],
   "source": [
    "print(aisle_top.portion.head(5))"
   ]
  },
  {
   "cell_type": "code",
   "execution_count": 70,
   "metadata": {},
   "outputs": [
    {
     "data": {
      "text/html": [
       "<div>\n",
       "<style>\n",
       "    .dataframe thead tr:only-child th {\n",
       "        text-align: right;\n",
       "    }\n",
       "\n",
       "    .dataframe thead th {\n",
       "        text-align: left;\n",
       "    }\n",
       "\n",
       "    .dataframe tbody tr th {\n",
       "        vertical-align: top;\n",
       "    }\n",
       "</style>\n",
       "<table border=\"1\" class=\"dataframe\">\n",
       "  <thead>\n",
       "    <tr style=\"text-align: right;\">\n",
       "      <th></th>\n",
       "      <th>product_id</th>\n",
       "      <th>aisle_id</th>\n",
       "      <th>department_id</th>\n",
       "      <th>purchases</th>\n",
       "      <th>reordered</th>\n",
       "      <th>portion</th>\n",
       "    </tr>\n",
       "    <tr>\n",
       "      <th>product_name</th>\n",
       "      <th></th>\n",
       "      <th></th>\n",
       "      <th></th>\n",
       "      <th></th>\n",
       "      <th></th>\n",
       "      <th></th>\n",
       "    </tr>\n",
       "  </thead>\n",
       "  <tbody>\n",
       "    <tr>\n",
       "      <th>Banana</th>\n",
       "      <td>24852</td>\n",
       "      <td>24</td>\n",
       "      <td>4</td>\n",
       "      <td>472565.0</td>\n",
       "      <td>398609.0</td>\n",
       "      <td>0.843501</td>\n",
       "    </tr>\n",
       "    <tr>\n",
       "      <th>Bag of Organic Bananas</th>\n",
       "      <td>13176</td>\n",
       "      <td>24</td>\n",
       "      <td>4</td>\n",
       "      <td>379450.0</td>\n",
       "      <td>315913.0</td>\n",
       "      <td>0.832555</td>\n",
       "    </tr>\n",
       "    <tr>\n",
       "      <th>Organic Strawberries</th>\n",
       "      <td>21137</td>\n",
       "      <td>24</td>\n",
       "      <td>4</td>\n",
       "      <td>264683.0</td>\n",
       "      <td>205845.0</td>\n",
       "      <td>0.777704</td>\n",
       "    </tr>\n",
       "    <tr>\n",
       "      <th>Organic Baby Spinach</th>\n",
       "      <td>21903</td>\n",
       "      <td>123</td>\n",
       "      <td>4</td>\n",
       "      <td>241921.0</td>\n",
       "      <td>186884.0</td>\n",
       "      <td>0.772500</td>\n",
       "    </tr>\n",
       "    <tr>\n",
       "      <th>Organic Hass Avocado</th>\n",
       "      <td>47209</td>\n",
       "      <td>24</td>\n",
       "      <td>4</td>\n",
       "      <td>213584.0</td>\n",
       "      <td>170131.0</td>\n",
       "      <td>0.796553</td>\n",
       "    </tr>\n",
       "  </tbody>\n",
       "</table>\n",
       "</div>"
      ],
      "text/plain": [
       "                        product_id  aisle_id  department_id  purchases  \\\n",
       "product_name                                                             \n",
       "Banana                       24852        24              4   472565.0   \n",
       "Bag of Organic Bananas       13176        24              4   379450.0   \n",
       "Organic Strawberries         21137        24              4   264683.0   \n",
       "Organic Baby Spinach         21903       123              4   241921.0   \n",
       "Organic Hass Avocado         47209        24              4   213584.0   \n",
       "\n",
       "                        reordered   portion  \n",
       "product_name                                 \n",
       "Banana                   398609.0  0.843501  \n",
       "Bag of Organic Bananas   315913.0  0.832555  \n",
       "Organic Strawberries     205845.0  0.777704  \n",
       "Organic Baby Spinach     186884.0  0.772500  \n",
       "Organic Hass Avocado     170131.0  0.796553  "
      ]
     },
     "execution_count": 70,
     "metadata": {},
     "output_type": "execute_result"
    }
   ],
   "source": [
    "top_sellers.head()"
   ]
  },
  {
   "cell_type": "code",
   "execution_count": 71,
   "metadata": {
    "collapsed": true
   },
   "outputs": [],
   "source": [
    "#function to plot empirical cumulative distribution\n",
    "def ecdf(data):\n",
    "    \"\"\" Compute Empirical Cumulative Distribution Functions for an array of 1 dimensional elements\n",
    "    \"\"\"\n",
    "    # Number of data points: n\n",
    "    n = len(data)\n",
    "\n",
    "    # x-data for the ECDF: x\n",
    "    x = np.sort(data)\n",
    "\n",
    "    # y-data for the ECDF: y\n",
    "    y = np.linspace(1./n,1,n)\n",
    "    return x,y"
   ]
  },
  {
   "cell_type": "code",
   "execution_count": 106,
   "metadata": {},
   "outputs": [
    {
     "data": {
      "image/png": "[encoded data removed]",
      "text/plain": [
       "<matplotlib.figure.Figure at 0x1a21833d90>"
      ]
     },
     "metadata": {},
     "output_type": "display_data"
    }
   ],
   "source": [
    "# plot data distribution against a similiar normal distribution\n",
    "\n",
    "# Sample out of a normal distribution with this mu and sigma: samples\n",
    "samples = np.random.exponential(16,size=10000)\n",
    "\n",
    "# Get the CDF of the samples and of the data\n",
    "x_theory , y_theory = ecdf(samples)\n",
    "x , y = ecdf(user_order_count)\n",
    "\n",
    "fig,ax=plt.subplots(figsize=(8,5))\n",
    "#make a bar chart with a cool blue color\n",
    "# Plot the CDFs and show the plot\n",
    "sns.set()\n",
    "_ = plt.plot(x_theory, y_theory,label='Theoritical Exp Dist.')\n",
    "_ = plt.plot(x, y, marker='.', linestyle='none',label='Data Set Dist.')\n",
    "\n",
    "plt.margins(0.02)\n",
    "\n",
    "_ = plt.xlabel('Purchases per Customer')\n",
    "_ = plt.ylabel('ECDF')\n",
    "_ = plt.legend(loc=4)\n",
    "plt.title('Empirical Cumulative Distribution Functions')\n",
    "\n",
    "#save figure for paper\n",
    "plt.savefig('ecdf_purchases.png')\n",
    "\n",
    "plt.show()\n"
   ]
  },
  {
   "cell_type": "markdown",
   "metadata": {},
   "source": [
    "We see that the customer purchase data is approximated by a exponential distribution with mean 16. If we want to know the number of purchases 95% of customers purchased, then \n",
    "P(x < k ) = .95 Using the exponential distribution, we then have (1/16)e^-(1/16)k = .95 The CDF gives us the area to the left then 1-P(x<K), hence our equation is 1-(1/16)e^-(1/16)k = 1-.95=.05 Solve for k. Take the natural log and divide, we end up with k =ln(0.5)/(-1/16) "
   ]
  },
  {
   "cell_type": "code",
   "execution_count": 73,
   "metadata": {},
   "outputs": [
    {
     "data": {
      "text/plain": [
       "count    206209.000000\n",
       "mean         15.590367\n",
       "std          16.654774\n",
       "min           3.000000\n",
       "25%           5.000000\n",
       "50%           9.000000\n",
       "75%          19.000000\n",
       "max          99.000000\n",
       "Name: order_number, dtype: float64"
      ]
     },
     "execution_count": 73,
     "metadata": {},
     "output_type": "execute_result"
    }
   ],
   "source": [
    "user_order_count.describe()"
   ]
  },
  {
   "cell_type": "markdown",
   "metadata": {},
   "source": [
    "lets set the mean to 16 to the exp distribution function and calculate "
   ]
  },
  {
   "cell_type": "code",
   "execution_count": 74,
   "metadata": {},
   "outputs": [
    {
     "name": "stdout",
     "output_type": "stream",
     "text": [
      "95% of customers purchased 48 items or less\n"
     ]
    }
   ],
   "source": [
    "#set the mean to 16\n",
    "mean=16.0\n",
    "#calculate the purchused items or less number for 95% of customers\n",
    "k= np.log(0.05)/(-1/mean)\n",
    "print('95% of customers purchased {:.00f} items or less'.format(k))"
   ]
  },
  {
   "cell_type": "code",
   "execution_count": 75,
   "metadata": {
    "collapsed": true
   },
   "outputs": [],
   "source": [
    "def prob_items(prob,mean):\n",
    "    '''prob is the probability to the left of the CDF,\n",
    "    mean is the mean of the exp distibution to use\n",
    "    returns float of items purchased at the probability level '''\n",
    "    prob1=1-prob\n",
    "    k=np.log(prob1)/(-1/mean)\n",
    "    prob=prob*100\n",
    "    print('{:.00f}% of customers purchased {:.00f} items or less'.format(prob,k))\n",
    "    k=int('{:.00f}'.format(k))\n",
    "    return k"
   ]
  },
  {
   "cell_type": "code",
   "execution_count": 76,
   "metadata": {},
   "outputs": [
    {
     "name": "stdout",
     "output_type": "stream",
     "text": [
      "66% of customers purchased 17 items or less\n",
      "95% of customers purchased 48 items or less\n",
      "99% of customers purchased 74 items or less\n"
     ]
    },
    {
     "data": {
      "text/plain": [
       "74"
      ]
     },
     "execution_count": 76,
     "metadata": {},
     "output_type": "execute_result"
    }
   ],
   "source": [
    "#lets compare \n",
    "prob_items(.66, 16.0)\n",
    "prob_items(.95, 16.0)\n",
    "prob_items(.99, 16.0)"
   ]
  },
  {
   "cell_type": "code",
   "execution_count": 77,
   "metadata": {},
   "outputs": [
    {
     "data": {
      "text/plain": [
       "user_id\n",
       "1    10\n",
       "2    14\n",
       "3    12\n",
       "4     5\n",
       "5     4\n",
       "Name: order_number, dtype: int64"
      ]
     },
     "execution_count": 77,
     "metadata": {},
     "output_type": "execute_result"
    }
   ],
   "source": [
    "user_order_count.head()"
   ]
  },
  {
   "cell_type": "code",
   "execution_count": 78,
   "metadata": {},
   "outputs": [
    {
     "name": "stdout",
     "output_type": "stream",
     "text": [
      "66% of customers purchased 17 items or less\n",
      "there were 148888 customers that purchased this many\n",
      "\n",
      "95% of customers purchased 48 items or less\n",
      "there were 194745 customers that purchased this many\n",
      "\n",
      "99% of customers purchased 74 items or less\n",
      "there were 202756 customers that purchased this many\n",
      "\n"
     ]
    }
   ],
   "source": [
    "prob_range=[.66,.95,.99]\n",
    "\n",
    "for i in prob_range:\n",
    "    \n",
    "    items_=prob_items(i,16.0)\n",
    "    users_=user_order_count[user_order_count<=items_].count()\n",
    "    print(\"there were {} customers that purchased this many\\n\".format(users_))"
   ]
  },
  {
   "cell_type": "markdown",
   "metadata": {},
   "source": [
    "We see that most of our customers purchased less than 74 items at a visit. We could use these numbers to reduce the data since are data is so large. However, we would be excluding some of the most lucrative customers from the reorder prediction model. Of course these outlier customers might be using InstaCart differently than the typical customer and could warrant special consideration.  "
   ]
  },
  {
   "cell_type": "code",
   "execution_count": 79,
   "metadata": {},
   "outputs": [
    {
     "data": {
      "text/html": [
       "<div>\n",
       "<style>\n",
       "    .dataframe thead tr:only-child th {\n",
       "        text-align: right;\n",
       "    }\n",
       "\n",
       "    .dataframe thead th {\n",
       "        text-align: left;\n",
       "    }\n",
       "\n",
       "    .dataframe tbody tr th {\n",
       "        vertical-align: top;\n",
       "    }\n",
       "</style>\n",
       "<table border=\"1\" class=\"dataframe\">\n",
       "  <thead>\n",
       "    <tr style=\"text-align: right;\">\n",
       "      <th></th>\n",
       "      <th>product_id</th>\n",
       "      <th>aisle_id</th>\n",
       "      <th>department_id</th>\n",
       "      <th>purchases</th>\n",
       "      <th>reordered</th>\n",
       "      <th>portion</th>\n",
       "    </tr>\n",
       "    <tr>\n",
       "      <th>product_name</th>\n",
       "      <th></th>\n",
       "      <th></th>\n",
       "      <th></th>\n",
       "      <th></th>\n",
       "      <th></th>\n",
       "      <th></th>\n",
       "    </tr>\n",
       "  </thead>\n",
       "  <tbody>\n",
       "    <tr>\n",
       "      <th>Raw Veggie Wrappers</th>\n",
       "      <td>6433</td>\n",
       "      <td>13</td>\n",
       "      <td>20</td>\n",
       "      <td>68.0</td>\n",
       "      <td>64.0</td>\n",
       "      <td>0.941176</td>\n",
       "    </tr>\n",
       "    <tr>\n",
       "      <th>Serenity Ultimate Extrema Overnight Pads</th>\n",
       "      <td>2075</td>\n",
       "      <td>126</td>\n",
       "      <td>11</td>\n",
       "      <td>87.0</td>\n",
       "      <td>81.0</td>\n",
       "      <td>0.931034</td>\n",
       "    </tr>\n",
       "    <tr>\n",
       "      <th>Orange Energy Shots</th>\n",
       "      <td>43553</td>\n",
       "      <td>64</td>\n",
       "      <td>7</td>\n",
       "      <td>13.0</td>\n",
       "      <td>12.0</td>\n",
       "      <td>0.923077</td>\n",
       "    </tr>\n",
       "    <tr>\n",
       "      <th>Chocolate Love Bar</th>\n",
       "      <td>27740</td>\n",
       "      <td>45</td>\n",
       "      <td>19</td>\n",
       "      <td>101.0</td>\n",
       "      <td>93.0</td>\n",
       "      <td>0.920792</td>\n",
       "    </tr>\n",
       "    <tr>\n",
       "      <th>Soy Powder Infant Formula</th>\n",
       "      <td>14609</td>\n",
       "      <td>92</td>\n",
       "      <td>18</td>\n",
       "      <td>35.0</td>\n",
       "      <td>32.0</td>\n",
       "      <td>0.914286</td>\n",
       "    </tr>\n",
       "  </tbody>\n",
       "</table>\n",
       "</div>"
      ],
      "text/plain": [
       "                                          product_id  aisle_id  department_id  \\\n",
       "product_name                                                                    \n",
       "Raw Veggie Wrappers                             6433        13             20   \n",
       "Serenity Ultimate Extrema Overnight Pads        2075       126             11   \n",
       "Orange Energy Shots                            43553        64              7   \n",
       "Chocolate Love Bar                             27740        45             19   \n",
       "Soy Powder Infant Formula                      14609        92             18   \n",
       "\n",
       "                                          purchases  reordered   portion  \n",
       "product_name                                                              \n",
       "Raw Veggie Wrappers                            68.0       64.0  0.941176  \n",
       "Serenity Ultimate Extrema Overnight Pads       87.0       81.0  0.931034  \n",
       "Orange Energy Shots                            13.0       12.0  0.923077  \n",
       "Chocolate Love Bar                            101.0       93.0  0.920792  \n",
       "Soy Powder Infant Formula                      35.0       32.0  0.914286  "
      ]
     },
     "execution_count": 79,
     "metadata": {},
     "output_type": "execute_result"
    }
   ],
   "source": [
    "top_portion.head()"
   ]
  },
  {
   "cell_type": "code",
   "execution_count": 80,
   "metadata": {},
   "outputs": [
    {
     "data": {
      "text/plain": [
       "Text(0.5,1,u'top sellers frequency of reorders binned')"
      ]
     },
     "execution_count": 80,
     "metadata": {},
     "output_type": "execute_result"
    },
    {
     "data": {
      "image/png": "[encoded data removed]",
      "text/plain": [
       "<matplotlib.figure.Figure at 0x1a1abda0d0>"
      ]
     },
     "metadata": {},
     "output_type": "display_data"
    }
   ],
   "source": [
    "top_portion['reordered'].plot(kind='hist',edgecolor='black',rwidth=.9,align='mid')\n",
    "plt.xlabel('reorderds bined by tens')\n",
    "plt.title(\"top sellers frequency of reorders binned\")\n"
   ]
  },
  {
   "cell_type": "code",
   "execution_count": 81,
   "metadata": {},
   "outputs": [
    {
     "data": {
      "image/png": "[encoded data removed]",
      "text/plain": [
       "<matplotlib.figure.Figure at 0x1a1aeea610>"
      ]
     },
     "metadata": {},
     "output_type": "display_data"
    }
   ],
   "source": [
    "sns.set()\n",
    "n_data=len(reorders_by_order)\n",
    "\n",
    "# Number of bins is the square root of number of data points: n_bins\n",
    "n_bins=np.sqrt(n_data)\n",
    "n_bins=int(n_bins)\n",
    "\n",
    "# Plot the histogram\n",
    "_= plt.hist(reorders_by_order,bins=n_bins,normed=True,edgecolor='black')\n",
    "_= plt.xlabel('reorders per order')\n",
    "_= plt.ylabel('freq')\n",
    "_= plt.title('Reorders per Order Distribution')\n",
    "\n",
    " #Show histogram\n",
    "plt.show()\n",
    "\n"
   ]
  },
  {
   "cell_type": "code",
   "execution_count": 82,
   "metadata": {},
   "outputs": [
    {
     "data": {
      "text/plain": [
       "count    3.214874e+06\n",
       "mean     5.949389e+00\n",
       "std      5.842059e+00\n",
       "min      0.000000e+00\n",
       "25%      2.000000e+00\n",
       "50%      4.000000e+00\n",
       "75%      8.000000e+00\n",
       "max      1.300000e+02\n",
       "Name: reordered, dtype: float64"
      ]
     },
     "execution_count": 82,
     "metadata": {},
     "output_type": "execute_result"
    }
   ],
   "source": [
    "reorders_by_order.describe()"
   ]
  },
  {
   "cell_type": "code",
   "execution_count": 107,
   "metadata": {},
   "outputs": [
    {
     "data": {
      "image/png": "[encoded data removed]",
      "text/plain": [
       "<matplotlib.figure.Figure at 0x1a217dd4d0>"
      ]
     },
     "metadata": {},
     "output_type": "display_data"
    }
   ],
   "source": [
    "# plot data distribution against a similiar normal distribution\n",
    "\n",
    "# Sample out of a normal distribution with this mu and sigma: samples\n",
    "samples = np.random.exponential(6,size=10000)\n",
    "\n",
    "# Get the CDF of the samples and of the data\n",
    "x_theory , y_theory = ecdf(samples)\n",
    "x , y = ecdf(reorders_by_order)\n",
    "\n",
    "\n",
    "# Plot the CDFs and show the plot\n",
    "sns.set()\n",
    "_ = plt.plot(x_theory, y_theory,label='Theoritical Exp Dist.')\n",
    "_ = plt.plot(x, y, marker='.', linestyle='none',label='Data Set Dist.')\n",
    "\n",
    "plt.margins(0.02)\n",
    "\n",
    "_ = plt.xlabel('Reorders per Customer')\n",
    "_ = plt.ylabel('ECDF')\n",
    "_ = plt.legend(loc=4)\n",
    "_ = plt.title('Empirical Cumulative Distribution Functions')\n",
    "\n",
    "#save figure for paper\n",
    "plt.savefig('ecdf_reorders.png')\n",
    "\n",
    "\n",
    "plt.show()"
   ]
  },
  {
   "cell_type": "code",
   "execution_count": 84,
   "metadata": {},
   "outputs": [
    {
     "data": {
      "text/plain": [
       "Text(0,0.5,u'reorder count')"
      ]
     },
     "execution_count": 84,
     "metadata": {},
     "output_type": "execute_result"
    },
    {
     "data": {
      "image/png": "[encoded data removed]",
      "text/plain": [
       "<matplotlib.figure.Figure at 0x1a1cfc0250>"
      ]
     },
     "metadata": {},
     "output_type": "display_data"
    }
   ],
   "source": [
    "plt.hist(reorders_by_order,edgecolor='black')\n",
    "plt.xlabel(\"reorders by order\")\n",
    "plt.ylabel(\"reorder count\")"
   ]
  },
  {
   "cell_type": "code",
   "execution_count": 85,
   "metadata": {},
   "outputs": [
    {
     "data": {
      "text/plain": [
       "Counter({0: 388513,\n",
       "         1: 327898,\n",
       "         2: 330770,\n",
       "         3: 312493,\n",
       "         4: 281704,\n",
       "         5: 246626,\n",
       "         6: 211744,\n",
       "         7: 180083,\n",
       "         8: 152229,\n",
       "         9: 126646,\n",
       "         10: 106154,\n",
       "         11: 88972,\n",
       "         12: 74583,\n",
       "         13: 62460,\n",
       "         14: 52783,\n",
       "         15: 43953,\n",
       "         16: 37105,\n",
       "         17: 30915,\n",
       "         18: 25906,\n",
       "         19: 21563,\n",
       "         20: 18177,\n",
       "         21: 15206,\n",
       "         22: 12746,\n",
       "         23: 10761,\n",
       "         24: 9121,\n",
       "         25: 7534,\n",
       "         26: 6419,\n",
       "         27: 5342,\n",
       "         28: 4381,\n",
       "         29: 3632,\n",
       "         30: 3000,\n",
       "         31: 2491,\n",
       "         32: 2073,\n",
       "         33: 1786,\n",
       "         34: 1474,\n",
       "         35: 1260,\n",
       "         36: 975,\n",
       "         37: 855,\n",
       "         38: 728,\n",
       "         39: 620,\n",
       "         40: 477,\n",
       "         41: 417,\n",
       "         42: 345,\n",
       "         43: 295,\n",
       "         44: 224,\n",
       "         45: 219,\n",
       "         46: 147,\n",
       "         47: 153,\n",
       "         48: 132,\n",
       "         49: 96,\n",
       "         50: 89,\n",
       "         51: 80,\n",
       "         52: 66,\n",
       "         53: 58,\n",
       "         54: 47,\n",
       "         55: 43,\n",
       "         56: 30,\n",
       "         57: 43,\n",
       "         58: 28,\n",
       "         59: 25,\n",
       "         60: 18,\n",
       "         61: 19,\n",
       "         62: 11,\n",
       "         63: 15,\n",
       "         64: 11,\n",
       "         65: 14,\n",
       "         66: 10,\n",
       "         67: 6,\n",
       "         68: 10,\n",
       "         69: 4,\n",
       "         70: 2,\n",
       "         71: 5,\n",
       "         72: 2,\n",
       "         73: 3,\n",
       "         74: 3,\n",
       "         75: 3,\n",
       "         76: 3,\n",
       "         77: 1,\n",
       "         78: 3,\n",
       "         79: 1,\n",
       "         80: 2,\n",
       "         81: 1,\n",
       "         82: 5,\n",
       "         84: 3,\n",
       "         85: 2,\n",
       "         86: 3,\n",
       "         87: 1,\n",
       "         88: 4,\n",
       "         91: 2,\n",
       "         93: 2,\n",
       "         97: 2,\n",
       "         98: 2,\n",
       "         100: 1,\n",
       "         101: 1,\n",
       "         102: 1,\n",
       "         107: 1,\n",
       "         114: 1,\n",
       "         130: 1})"
      ]
     },
     "execution_count": 85,
     "metadata": {},
     "output_type": "execute_result"
    }
   ],
   "source": [
    "from collections import Counter\n",
    "reordered_freq=Counter(reorders_by_order)\n",
    "reordered_freq"
   ]
  },
  {
   "cell_type": "code",
   "execution_count": 86,
   "metadata": {},
   "outputs": [
    {
     "data": {
      "text/plain": [
       "order_id\n",
       "790903    130\n",
       "Name: reordered, dtype: int64"
      ]
     },
     "execution_count": 86,
     "metadata": {},
     "output_type": "execute_result"
    }
   ],
   "source": [
    "reorders_by_order[reorders_by_order==130]"
   ]
  },
  {
   "cell_type": "code",
   "execution_count": 87,
   "metadata": {},
   "outputs": [
    {
     "data": {
      "text/html": [
       "<div>\n",
       "<style>\n",
       "    .dataframe thead tr:only-child th {\n",
       "        text-align: right;\n",
       "    }\n",
       "\n",
       "    .dataframe thead th {\n",
       "        text-align: left;\n",
       "    }\n",
       "\n",
       "    .dataframe tbody tr th {\n",
       "        vertical-align: top;\n",
       "    }\n",
       "</style>\n",
       "<table border=\"1\" class=\"dataframe\">\n",
       "  <thead>\n",
       "    <tr style=\"text-align: right;\">\n",
       "      <th></th>\n",
       "      <th>order_id</th>\n",
       "      <th>user_id</th>\n",
       "      <th>eval_set</th>\n",
       "      <th>order_number</th>\n",
       "      <th>order_dow</th>\n",
       "      <th>order_hour_of_day</th>\n",
       "      <th>days_since_prior_order</th>\n",
       "    </tr>\n",
       "  </thead>\n",
       "  <tbody>\n",
       "    <tr>\n",
       "      <th>2159899</th>\n",
       "      <td>790903</td>\n",
       "      <td>129928</td>\n",
       "      <td>prior</td>\n",
       "      <td>38</td>\n",
       "      <td>6</td>\n",
       "      <td>23</td>\n",
       "      <td>5.0</td>\n",
       "    </tr>\n",
       "  </tbody>\n",
       "</table>\n",
       "</div>"
      ],
      "text/plain": [
       "         order_id  user_id eval_set  order_number  order_dow  \\\n",
       "2159899    790903   129928    prior            38          6   \n",
       "\n",
       "         order_hour_of_day  days_since_prior_order  \n",
       "2159899                 23                     5.0  "
      ]
     },
     "execution_count": 87,
     "metadata": {},
     "output_type": "execute_result"
    }
   ],
   "source": [
    "df_prior_set[df_prior_set['order_id']==790903]"
   ]
  },
  {
   "cell_type": "code",
   "execution_count": 88,
   "metadata": {},
   "outputs": [
    {
     "data": {
      "text/plain": [
       "order_id             108353711\n",
       "product_id             3466547\n",
       "add_to_cart_order         9453\n",
       "reordered                  130\n",
       "dtype: int64"
      ]
     },
     "execution_count": 88,
     "metadata": {},
     "output_type": "execute_result"
    }
   ],
   "source": [
    "df_products_prior[df_products_prior['order_id']==790903].sum()"
   ]
  },
  {
   "cell_type": "code",
   "execution_count": 89,
   "metadata": {},
   "outputs": [
    {
     "data": {
      "text/plain": [
       "order_id             137\n",
       "product_id           137\n",
       "add_to_cart_order    137\n",
       "reordered            137\n",
       "dtype: int64"
      ]
     },
     "execution_count": 89,
     "metadata": {},
     "output_type": "execute_result"
    }
   ],
   "source": [
    "df_products_prior[df_products_prior['order_id']==790903].count()"
   ]
  },
  {
   "cell_type": "code",
   "execution_count": 90,
   "metadata": {},
   "outputs": [
    {
     "data": {
      "text/html": [
       "<div>\n",
       "<style>\n",
       "    .dataframe thead tr:only-child th {\n",
       "        text-align: right;\n",
       "    }\n",
       "\n",
       "    .dataframe thead th {\n",
       "        text-align: left;\n",
       "    }\n",
       "\n",
       "    .dataframe tbody tr th {\n",
       "        vertical-align: top;\n",
       "    }\n",
       "</style>\n",
       "<table border=\"1\" class=\"dataframe\">\n",
       "  <thead>\n",
       "    <tr style=\"text-align: right;\">\n",
       "      <th></th>\n",
       "      <th>order_id</th>\n",
       "      <th>product_id</th>\n",
       "      <th>add_to_cart_order</th>\n",
       "      <th>reordered</th>\n",
       "    </tr>\n",
       "  </thead>\n",
       "  <tbody>\n",
       "    <tr>\n",
       "      <th>7492419</th>\n",
       "      <td>790903</td>\n",
       "      <td>34281</td>\n",
       "      <td>1</td>\n",
       "      <td>0</td>\n",
       "    </tr>\n",
       "    <tr>\n",
       "      <th>7492420</th>\n",
       "      <td>790903</td>\n",
       "      <td>3957</td>\n",
       "      <td>2</td>\n",
       "      <td>1</td>\n",
       "    </tr>\n",
       "    <tr>\n",
       "      <th>7492421</th>\n",
       "      <td>790903</td>\n",
       "      <td>43193</td>\n",
       "      <td>3</td>\n",
       "      <td>0</td>\n",
       "    </tr>\n",
       "    <tr>\n",
       "      <th>7492422</th>\n",
       "      <td>790903</td>\n",
       "      <td>13176</td>\n",
       "      <td>4</td>\n",
       "      <td>1</td>\n",
       "    </tr>\n",
       "    <tr>\n",
       "      <th>7492423</th>\n",
       "      <td>790903</td>\n",
       "      <td>45840</td>\n",
       "      <td>5</td>\n",
       "      <td>1</td>\n",
       "    </tr>\n",
       "    <tr>\n",
       "      <th>7492424</th>\n",
       "      <td>790903</td>\n",
       "      <td>25718</td>\n",
       "      <td>6</td>\n",
       "      <td>1</td>\n",
       "    </tr>\n",
       "    <tr>\n",
       "      <th>7492425</th>\n",
       "      <td>790903</td>\n",
       "      <td>22159</td>\n",
       "      <td>7</td>\n",
       "      <td>1</td>\n",
       "    </tr>\n",
       "    <tr>\n",
       "      <th>7492426</th>\n",
       "      <td>790903</td>\n",
       "      <td>9421</td>\n",
       "      <td>8</td>\n",
       "      <td>1</td>\n",
       "    </tr>\n",
       "    <tr>\n",
       "      <th>7492427</th>\n",
       "      <td>790903</td>\n",
       "      <td>35121</td>\n",
       "      <td>9</td>\n",
       "      <td>1</td>\n",
       "    </tr>\n",
       "    <tr>\n",
       "      <th>7492428</th>\n",
       "      <td>790903</td>\n",
       "      <td>20084</td>\n",
       "      <td>10</td>\n",
       "      <td>1</td>\n",
       "    </tr>\n",
       "    <tr>\n",
       "      <th>7492429</th>\n",
       "      <td>790903</td>\n",
       "      <td>33370</td>\n",
       "      <td>11</td>\n",
       "      <td>1</td>\n",
       "    </tr>\n",
       "    <tr>\n",
       "      <th>7492430</th>\n",
       "      <td>790903</td>\n",
       "      <td>26909</td>\n",
       "      <td>12</td>\n",
       "      <td>1</td>\n",
       "    </tr>\n",
       "    <tr>\n",
       "      <th>7492431</th>\n",
       "      <td>790903</td>\n",
       "      <td>41970</td>\n",
       "      <td>13</td>\n",
       "      <td>1</td>\n",
       "    </tr>\n",
       "    <tr>\n",
       "      <th>7492432</th>\n",
       "      <td>790903</td>\n",
       "      <td>25518</td>\n",
       "      <td>14</td>\n",
       "      <td>1</td>\n",
       "    </tr>\n",
       "    <tr>\n",
       "      <th>7492433</th>\n",
       "      <td>790903</td>\n",
       "      <td>26911</td>\n",
       "      <td>15</td>\n",
       "      <td>1</td>\n",
       "    </tr>\n",
       "    <tr>\n",
       "      <th>7492434</th>\n",
       "      <td>790903</td>\n",
       "      <td>29270</td>\n",
       "      <td>16</td>\n",
       "      <td>1</td>\n",
       "    </tr>\n",
       "    <tr>\n",
       "      <th>7492435</th>\n",
       "      <td>790903</td>\n",
       "      <td>22124</td>\n",
       "      <td>17</td>\n",
       "      <td>1</td>\n",
       "    </tr>\n",
       "    <tr>\n",
       "      <th>7492436</th>\n",
       "      <td>790903</td>\n",
       "      <td>24838</td>\n",
       "      <td>18</td>\n",
       "      <td>1</td>\n",
       "    </tr>\n",
       "    <tr>\n",
       "      <th>7492437</th>\n",
       "      <td>790903</td>\n",
       "      <td>13292</td>\n",
       "      <td>19</td>\n",
       "      <td>1</td>\n",
       "    </tr>\n",
       "    <tr>\n",
       "      <th>7492438</th>\n",
       "      <td>790903</td>\n",
       "      <td>19156</td>\n",
       "      <td>20</td>\n",
       "      <td>1</td>\n",
       "    </tr>\n",
       "    <tr>\n",
       "      <th>7492439</th>\n",
       "      <td>790903</td>\n",
       "      <td>25</td>\n",
       "      <td>21</td>\n",
       "      <td>1</td>\n",
       "    </tr>\n",
       "    <tr>\n",
       "      <th>7492440</th>\n",
       "      <td>790903</td>\n",
       "      <td>47114</td>\n",
       "      <td>22</td>\n",
       "      <td>1</td>\n",
       "    </tr>\n",
       "    <tr>\n",
       "      <th>7492441</th>\n",
       "      <td>790903</td>\n",
       "      <td>9637</td>\n",
       "      <td>23</td>\n",
       "      <td>1</td>\n",
       "    </tr>\n",
       "    <tr>\n",
       "      <th>7492442</th>\n",
       "      <td>790903</td>\n",
       "      <td>47990</td>\n",
       "      <td>24</td>\n",
       "      <td>1</td>\n",
       "    </tr>\n",
       "    <tr>\n",
       "      <th>7492443</th>\n",
       "      <td>790903</td>\n",
       "      <td>33754</td>\n",
       "      <td>25</td>\n",
       "      <td>1</td>\n",
       "    </tr>\n",
       "    <tr>\n",
       "      <th>7492444</th>\n",
       "      <td>790903</td>\n",
       "      <td>39448</td>\n",
       "      <td>26</td>\n",
       "      <td>1</td>\n",
       "    </tr>\n",
       "    <tr>\n",
       "      <th>7492445</th>\n",
       "      <td>790903</td>\n",
       "      <td>30776</td>\n",
       "      <td>27</td>\n",
       "      <td>1</td>\n",
       "    </tr>\n",
       "    <tr>\n",
       "      <th>7492446</th>\n",
       "      <td>790903</td>\n",
       "      <td>39322</td>\n",
       "      <td>28</td>\n",
       "      <td>1</td>\n",
       "    </tr>\n",
       "    <tr>\n",
       "      <th>7492447</th>\n",
       "      <td>790903</td>\n",
       "      <td>11707</td>\n",
       "      <td>29</td>\n",
       "      <td>1</td>\n",
       "    </tr>\n",
       "    <tr>\n",
       "      <th>7492448</th>\n",
       "      <td>790903</td>\n",
       "      <td>611</td>\n",
       "      <td>30</td>\n",
       "      <td>1</td>\n",
       "    </tr>\n",
       "    <tr>\n",
       "      <th>...</th>\n",
       "      <td>...</td>\n",
       "      <td>...</td>\n",
       "      <td>...</td>\n",
       "      <td>...</td>\n",
       "    </tr>\n",
       "    <tr>\n",
       "      <th>7492526</th>\n",
       "      <td>790903</td>\n",
       "      <td>25146</td>\n",
       "      <td>108</td>\n",
       "      <td>1</td>\n",
       "    </tr>\n",
       "    <tr>\n",
       "      <th>7492527</th>\n",
       "      <td>790903</td>\n",
       "      <td>37029</td>\n",
       "      <td>109</td>\n",
       "      <td>1</td>\n",
       "    </tr>\n",
       "    <tr>\n",
       "      <th>7492528</th>\n",
       "      <td>790903</td>\n",
       "      <td>7677</td>\n",
       "      <td>110</td>\n",
       "      <td>1</td>\n",
       "    </tr>\n",
       "    <tr>\n",
       "      <th>7492529</th>\n",
       "      <td>790903</td>\n",
       "      <td>24236</td>\n",
       "      <td>111</td>\n",
       "      <td>1</td>\n",
       "    </tr>\n",
       "    <tr>\n",
       "      <th>7492530</th>\n",
       "      <td>790903</td>\n",
       "      <td>45223</td>\n",
       "      <td>112</td>\n",
       "      <td>1</td>\n",
       "    </tr>\n",
       "    <tr>\n",
       "      <th>7492531</th>\n",
       "      <td>790903</td>\n",
       "      <td>14766</td>\n",
       "      <td>113</td>\n",
       "      <td>0</td>\n",
       "    </tr>\n",
       "    <tr>\n",
       "      <th>7492532</th>\n",
       "      <td>790903</td>\n",
       "      <td>42265</td>\n",
       "      <td>114</td>\n",
       "      <td>1</td>\n",
       "    </tr>\n",
       "    <tr>\n",
       "      <th>7492533</th>\n",
       "      <td>790903</td>\n",
       "      <td>41805</td>\n",
       "      <td>115</td>\n",
       "      <td>1</td>\n",
       "    </tr>\n",
       "    <tr>\n",
       "      <th>7492534</th>\n",
       "      <td>790903</td>\n",
       "      <td>1017</td>\n",
       "      <td>116</td>\n",
       "      <td>1</td>\n",
       "    </tr>\n",
       "    <tr>\n",
       "      <th>7492535</th>\n",
       "      <td>790903</td>\n",
       "      <td>38374</td>\n",
       "      <td>117</td>\n",
       "      <td>1</td>\n",
       "    </tr>\n",
       "    <tr>\n",
       "      <th>7492536</th>\n",
       "      <td>790903</td>\n",
       "      <td>34590</td>\n",
       "      <td>118</td>\n",
       "      <td>1</td>\n",
       "    </tr>\n",
       "    <tr>\n",
       "      <th>7492537</th>\n",
       "      <td>790903</td>\n",
       "      <td>16290</td>\n",
       "      <td>119</td>\n",
       "      <td>0</td>\n",
       "    </tr>\n",
       "    <tr>\n",
       "      <th>7492538</th>\n",
       "      <td>790903</td>\n",
       "      <td>21019</td>\n",
       "      <td>120</td>\n",
       "      <td>1</td>\n",
       "    </tr>\n",
       "    <tr>\n",
       "      <th>7492539</th>\n",
       "      <td>790903</td>\n",
       "      <td>29238</td>\n",
       "      <td>121</td>\n",
       "      <td>1</td>\n",
       "    </tr>\n",
       "    <tr>\n",
       "      <th>7492540</th>\n",
       "      <td>790903</td>\n",
       "      <td>31635</td>\n",
       "      <td>122</td>\n",
       "      <td>0</td>\n",
       "    </tr>\n",
       "    <tr>\n",
       "      <th>7492541</th>\n",
       "      <td>790903</td>\n",
       "      <td>6013</td>\n",
       "      <td>123</td>\n",
       "      <td>1</td>\n",
       "    </tr>\n",
       "    <tr>\n",
       "      <th>7492542</th>\n",
       "      <td>790903</td>\n",
       "      <td>6489</td>\n",
       "      <td>124</td>\n",
       "      <td>1</td>\n",
       "    </tr>\n",
       "    <tr>\n",
       "      <th>7492543</th>\n",
       "      <td>790903</td>\n",
       "      <td>16911</td>\n",
       "      <td>125</td>\n",
       "      <td>1</td>\n",
       "    </tr>\n",
       "    <tr>\n",
       "      <th>7492544</th>\n",
       "      <td>790903</td>\n",
       "      <td>48946</td>\n",
       "      <td>126</td>\n",
       "      <td>1</td>\n",
       "    </tr>\n",
       "    <tr>\n",
       "      <th>7492545</th>\n",
       "      <td>790903</td>\n",
       "      <td>18859</td>\n",
       "      <td>127</td>\n",
       "      <td>1</td>\n",
       "    </tr>\n",
       "    <tr>\n",
       "      <th>7492546</th>\n",
       "      <td>790903</td>\n",
       "      <td>48220</td>\n",
       "      <td>128</td>\n",
       "      <td>1</td>\n",
       "    </tr>\n",
       "    <tr>\n",
       "      <th>7492547</th>\n",
       "      <td>790903</td>\n",
       "      <td>11777</td>\n",
       "      <td>129</td>\n",
       "      <td>1</td>\n",
       "    </tr>\n",
       "    <tr>\n",
       "      <th>7492548</th>\n",
       "      <td>790903</td>\n",
       "      <td>28398</td>\n",
       "      <td>130</td>\n",
       "      <td>0</td>\n",
       "    </tr>\n",
       "    <tr>\n",
       "      <th>7492549</th>\n",
       "      <td>790903</td>\n",
       "      <td>1935</td>\n",
       "      <td>131</td>\n",
       "      <td>1</td>\n",
       "    </tr>\n",
       "    <tr>\n",
       "      <th>7492550</th>\n",
       "      <td>790903</td>\n",
       "      <td>17638</td>\n",
       "      <td>132</td>\n",
       "      <td>0</td>\n",
       "    </tr>\n",
       "    <tr>\n",
       "      <th>7492551</th>\n",
       "      <td>790903</td>\n",
       "      <td>31663</td>\n",
       "      <td>133</td>\n",
       "      <td>1</td>\n",
       "    </tr>\n",
       "    <tr>\n",
       "      <th>7492552</th>\n",
       "      <td>790903</td>\n",
       "      <td>33975</td>\n",
       "      <td>134</td>\n",
       "      <td>1</td>\n",
       "    </tr>\n",
       "    <tr>\n",
       "      <th>7492553</th>\n",
       "      <td>790903</td>\n",
       "      <td>23029</td>\n",
       "      <td>135</td>\n",
       "      <td>1</td>\n",
       "    </tr>\n",
       "    <tr>\n",
       "      <th>7492554</th>\n",
       "      <td>790903</td>\n",
       "      <td>23765</td>\n",
       "      <td>136</td>\n",
       "      <td>1</td>\n",
       "    </tr>\n",
       "    <tr>\n",
       "      <th>7492555</th>\n",
       "      <td>790903</td>\n",
       "      <td>33572</td>\n",
       "      <td>137</td>\n",
       "      <td>1</td>\n",
       "    </tr>\n",
       "  </tbody>\n",
       "</table>\n",
       "<p>137 rows × 4 columns</p>\n",
       "</div>"
      ],
      "text/plain": [
       "         order_id  product_id  add_to_cart_order  reordered\n",
       "7492419    790903       34281                  1          0\n",
       "7492420    790903        3957                  2          1\n",
       "7492421    790903       43193                  3          0\n",
       "7492422    790903       13176                  4          1\n",
       "7492423    790903       45840                  5          1\n",
       "7492424    790903       25718                  6          1\n",
       "7492425    790903       22159                  7          1\n",
       "7492426    790903        9421                  8          1\n",
       "7492427    790903       35121                  9          1\n",
       "7492428    790903       20084                 10          1\n",
       "7492429    790903       33370                 11          1\n",
       "7492430    790903       26909                 12          1\n",
       "7492431    790903       41970                 13          1\n",
       "7492432    790903       25518                 14          1\n",
       "7492433    790903       26911                 15          1\n",
       "7492434    790903       29270                 16          1\n",
       "7492435    790903       22124                 17          1\n",
       "7492436    790903       24838                 18          1\n",
       "7492437    790903       13292                 19          1\n",
       "7492438    790903       19156                 20          1\n",
       "7492439    790903          25                 21          1\n",
       "7492440    790903       47114                 22          1\n",
       "7492441    790903        9637                 23          1\n",
       "7492442    790903       47990                 24          1\n",
       "7492443    790903       33754                 25          1\n",
       "7492444    790903       39448                 26          1\n",
       "7492445    790903       30776                 27          1\n",
       "7492446    790903       39322                 28          1\n",
       "7492447    790903       11707                 29          1\n",
       "7492448    790903         611                 30          1\n",
       "...           ...         ...                ...        ...\n",
       "7492526    790903       25146                108          1\n",
       "7492527    790903       37029                109          1\n",
       "7492528    790903        7677                110          1\n",
       "7492529    790903       24236                111          1\n",
       "7492530    790903       45223                112          1\n",
       "7492531    790903       14766                113          0\n",
       "7492532    790903       42265                114          1\n",
       "7492533    790903       41805                115          1\n",
       "7492534    790903        1017                116          1\n",
       "7492535    790903       38374                117          1\n",
       "7492536    790903       34590                118          1\n",
       "7492537    790903       16290                119          0\n",
       "7492538    790903       21019                120          1\n",
       "7492539    790903       29238                121          1\n",
       "7492540    790903       31635                122          0\n",
       "7492541    790903        6013                123          1\n",
       "7492542    790903        6489                124          1\n",
       "7492543    790903       16911                125          1\n",
       "7492544    790903       48946                126          1\n",
       "7492545    790903       18859                127          1\n",
       "7492546    790903       48220                128          1\n",
       "7492547    790903       11777                129          1\n",
       "7492548    790903       28398                130          0\n",
       "7492549    790903        1935                131          1\n",
       "7492550    790903       17638                132          0\n",
       "7492551    790903       31663                133          1\n",
       "7492552    790903       33975                134          1\n",
       "7492553    790903       23029                135          1\n",
       "7492554    790903       23765                136          1\n",
       "7492555    790903       33572                137          1\n",
       "\n",
       "[137 rows x 4 columns]"
      ]
     },
     "execution_count": 90,
     "metadata": {},
     "output_type": "execute_result"
    }
   ],
   "source": [
    "df_products_prior[df_products_prior['order_id']==790903]"
   ]
  },
  {
   "cell_type": "code",
   "execution_count": 91,
   "metadata": {},
   "outputs": [
    {
     "data": {
      "text/plain": [
       "3214874"
      ]
     },
     "execution_count": 91,
     "metadata": {},
     "output_type": "execute_result"
    }
   ],
   "source": [
    "sum(reordered_freq.values())"
   ]
  },
  {
   "cell_type": "code",
   "execution_count": 92,
   "metadata": {},
   "outputs": [
    {
     "data": {
      "text/plain": [
       "count        98.000000\n",
       "mean      32804.836735\n",
       "std       82152.951015\n",
       "min           1.000000\n",
       "25%           3.250000\n",
       "50%         114.000000\n",
       "75%        8724.250000\n",
       "max      388513.000000\n",
       "dtype: float64"
      ]
     },
     "execution_count": 92,
     "metadata": {},
     "output_type": "execute_result"
    }
   ],
   "source": [
    "pd.Series(reordered_freq.values()).describe()"
   ]
  },
  {
   "cell_type": "code",
   "execution_count": 93,
   "metadata": {},
   "outputs": [
    {
     "data": {
      "image/png": "[encoded data removed]",
      "text/plain": [
       "<matplotlib.figure.Figure at 0x1a1d000b10>"
      ]
     },
     "metadata": {},
     "output_type": "display_data"
    }
   ],
   "source": [
    "#plot the barchart of points per cluster\n",
    "\n",
    "#get x-axis range from len and make a list of the dict values\n",
    "#plt.bar(range(len(reordered_freq)),list(reordered_freq.values()))\n",
    "_= plt.hist(x=reordered_freq.values(),normed=True,edgecolor='black')\n",
    "#match score with key value and label x-axis appropriately\n",
    "#plt.xticks(range(len(reordered_freq)),list(reordered_freq.keys()),rotation='vertical')\n",
    "\n",
    "#add labels and title\n",
    "_ = plt.xlabel('number of reorders')\n",
    "_ = plt.ylabel('freq of reorder')\n",
    "_ = plt.title('freq vs number of reorders')\n",
    "\n",
    "plt.show()"
   ]
  },
  {
   "cell_type": "markdown",
   "metadata": {},
   "source": [
    "Reorders which is a subset of purchases also follow the exponential distribution. However, this might give us a better look at predicting orders for the typical customer. The mean is "
   ]
  },
  {
   "cell_type": "code",
   "execution_count": 94,
   "metadata": {},
   "outputs": [
    {
     "data": {
      "text/plain": [
       "product_name\n",
       "Banana                    472565.0\n",
       "Bag of Organic Bananas    379450.0\n",
       "Organic Strawberries      264683.0\n",
       "Organic Baby Spinach      241921.0\n",
       "Organic Hass Avocado      213584.0\n",
       "Organic Avocado           176815.0\n",
       "Large Lemon               152657.0\n",
       "Strawberries              142951.0\n",
       "Limes                     140627.0\n",
       "Organic Whole Milk        137905.0\n",
       "Organic Raspberries       137057.0\n",
       "Organic Yellow Onion      113426.0\n",
       "Organic Garlic            109778.0\n",
       "Organic Zucchini          104823.0\n",
       "Organic Blueberries       100060.0\n",
       "Name: purchases, dtype: float64"
      ]
     },
     "execution_count": 94,
     "metadata": {},
     "output_type": "execute_result"
    }
   ],
   "source": [
    "top_sellers.purchases"
   ]
  },
  {
   "cell_type": "code",
   "execution_count": 95,
   "metadata": {},
   "outputs": [
    {
     "data": {
      "text/plain": [
       "product_name\n",
       "Banana                    398609.0\n",
       "Bag of Organic Bananas    315913.0\n",
       "Organic Strawberries      205845.0\n",
       "Organic Baby Spinach      186884.0\n",
       "Organic Hass Avocado      170131.0\n",
       "Organic Avocado           134044.0\n",
       "Organic Whole Milk        114510.0\n",
       "Large Lemon               106255.0\n",
       "Organic Raspberries       105409.0\n",
       "Strawberries               99802.0\n",
       "Limes                      95768.0\n",
       "Organic Yellow Onion       79072.0\n",
       "Organic Garlic             74663.0\n",
       "Organic Zucchini           72165.0\n",
       "Cucumber Kirby             67313.0\n",
       "Name: reordered, dtype: float64"
      ]
     },
     "execution_count": 95,
     "metadata": {},
     "output_type": "execute_result"
    }
   ],
   "source": [
    "top_reorders.reordered"
   ]
  },
  {
   "cell_type": "code",
   "execution_count": 96,
   "metadata": {},
   "outputs": [
    {
     "data": {
      "text/plain": [
       "<seaborn.axisgrid.JointGrid at 0x1a40b27550>"
      ]
     },
     "execution_count": 96,
     "metadata": {},
     "output_type": "execute_result"
    },
    {
     "data": {
      "image/png": "[encoded data removed]",
      "text/plain": [
       "<matplotlib.figure.Figure at 0x1a40b27710>"
      ]
     },
     "metadata": {},
     "output_type": "display_data"
    }
   ],
   "source": [
    "sns.jointplot('purchases','reordered', data=top_portion, kind='reg')\n",
    "\n"
   ]
  },
  {
   "cell_type": "code",
   "execution_count": 97,
   "metadata": {},
   "outputs": [
    {
     "data": {
      "text/plain": [
       "<seaborn.axisgrid.JointGrid at 0x1a1ac03490>"
      ]
     },
     "execution_count": 97,
     "metadata": {},
     "output_type": "execute_result"
    },
    {
     "data": {
      "image/png": "[encoded data removed]",
      "text/plain": [
       "<matplotlib.figure.Figure at 0x1a1ac03310>"
      ]
     },
     "metadata": {},
     "output_type": "display_data"
    }
   ],
   "source": [
    "sns.jointplot('purchases','reordered', data=top_portion, kind='reg')\n",
    "\n"
   ]
  },
  {
   "cell_type": "code",
   "execution_count": 98,
   "metadata": {},
   "outputs": [
    {
     "data": {
      "text/html": [
       "<div>\n",
       "<style>\n",
       "    .dataframe thead tr:only-child th {\n",
       "        text-align: right;\n",
       "    }\n",
       "\n",
       "    .dataframe thead th {\n",
       "        text-align: left;\n",
       "    }\n",
       "\n",
       "    .dataframe tbody tr th {\n",
       "        vertical-align: top;\n",
       "    }\n",
       "</style>\n",
       "<table border=\"1\" class=\"dataframe\">\n",
       "  <thead>\n",
       "    <tr style=\"text-align: right;\">\n",
       "      <th></th>\n",
       "      <th>product_id</th>\n",
       "      <th>aisle_id</th>\n",
       "      <th>department_id</th>\n",
       "      <th>purchases</th>\n",
       "      <th>reordered</th>\n",
       "      <th>portion</th>\n",
       "    </tr>\n",
       "    <tr>\n",
       "      <th>product_name</th>\n",
       "      <th></th>\n",
       "      <th></th>\n",
       "      <th></th>\n",
       "      <th></th>\n",
       "      <th></th>\n",
       "      <th></th>\n",
       "    </tr>\n",
       "  </thead>\n",
       "  <tbody>\n",
       "    <tr>\n",
       "      <th>Raw Veggie Wrappers</th>\n",
       "      <td>6433</td>\n",
       "      <td>13</td>\n",
       "      <td>20</td>\n",
       "      <td>68.0</td>\n",
       "      <td>64.0</td>\n",
       "      <td>0.941176</td>\n",
       "    </tr>\n",
       "    <tr>\n",
       "      <th>Serenity Ultimate Extrema Overnight Pads</th>\n",
       "      <td>2075</td>\n",
       "      <td>126</td>\n",
       "      <td>11</td>\n",
       "      <td>87.0</td>\n",
       "      <td>81.0</td>\n",
       "      <td>0.931034</td>\n",
       "    </tr>\n",
       "    <tr>\n",
       "      <th>Orange Energy Shots</th>\n",
       "      <td>43553</td>\n",
       "      <td>64</td>\n",
       "      <td>7</td>\n",
       "      <td>13.0</td>\n",
       "      <td>12.0</td>\n",
       "      <td>0.923077</td>\n",
       "    </tr>\n",
       "    <tr>\n",
       "      <th>Chocolate Love Bar</th>\n",
       "      <td>27740</td>\n",
       "      <td>45</td>\n",
       "      <td>19</td>\n",
       "      <td>101.0</td>\n",
       "      <td>93.0</td>\n",
       "      <td>0.920792</td>\n",
       "    </tr>\n",
       "    <tr>\n",
       "      <th>Soy Powder Infant Formula</th>\n",
       "      <td>14609</td>\n",
       "      <td>92</td>\n",
       "      <td>18</td>\n",
       "      <td>35.0</td>\n",
       "      <td>32.0</td>\n",
       "      <td>0.914286</td>\n",
       "    </tr>\n",
       "    <tr>\n",
       "      <th>Simply Sleep Nighttime Sleep Aid</th>\n",
       "      <td>13875</td>\n",
       "      <td>6</td>\n",
       "      <td>2</td>\n",
       "      <td>45.0</td>\n",
       "      <td>41.0</td>\n",
       "      <td>0.911111</td>\n",
       "    </tr>\n",
       "    <tr>\n",
       "      <th>Energy Shot, Grape Flavor</th>\n",
       "      <td>39992</td>\n",
       "      <td>64</td>\n",
       "      <td>7</td>\n",
       "      <td>22.0</td>\n",
       "      <td>20.0</td>\n",
       "      <td>0.909091</td>\n",
       "    </tr>\n",
       "    <tr>\n",
       "      <th>Russian River Valley Reserve Pinot Noir</th>\n",
       "      <td>5868</td>\n",
       "      <td>28</td>\n",
       "      <td>5</td>\n",
       "      <td>30.0</td>\n",
       "      <td>27.0</td>\n",
       "      <td>0.900000</td>\n",
       "    </tr>\n",
       "    <tr>\n",
       "      <th>Sparking Water</th>\n",
       "      <td>31418</td>\n",
       "      <td>115</td>\n",
       "      <td>7</td>\n",
       "      <td>60.0</td>\n",
       "      <td>54.0</td>\n",
       "      <td>0.900000</td>\n",
       "    </tr>\n",
       "    <tr>\n",
       "      <th>Maca Buttercups</th>\n",
       "      <td>35604</td>\n",
       "      <td>45</td>\n",
       "      <td>19</td>\n",
       "      <td>100.0</td>\n",
       "      <td>90.0</td>\n",
       "      <td>0.900000</td>\n",
       "    </tr>\n",
       "    <tr>\n",
       "      <th>Bars Peanut Butter</th>\n",
       "      <td>36543</td>\n",
       "      <td>88</td>\n",
       "      <td>13</td>\n",
       "      <td>67.0</td>\n",
       "      <td>60.0</td>\n",
       "      <td>0.895522</td>\n",
       "    </tr>\n",
       "    <tr>\n",
       "      <th>Soy Crisps Lightly Salted</th>\n",
       "      <td>26093</td>\n",
       "      <td>107</td>\n",
       "      <td>19</td>\n",
       "      <td>66.0</td>\n",
       "      <td>59.0</td>\n",
       "      <td>0.893939</td>\n",
       "    </tr>\n",
       "    <tr>\n",
       "      <th>Jet Fuel Dark Roast Whole Bean Coffee</th>\n",
       "      <td>700</td>\n",
       "      <td>26</td>\n",
       "      <td>7</td>\n",
       "      <td>28.0</td>\n",
       "      <td>25.0</td>\n",
       "      <td>0.892857</td>\n",
       "    </tr>\n",
       "    <tr>\n",
       "      <th>High Gravity Lager</th>\n",
       "      <td>4212</td>\n",
       "      <td>27</td>\n",
       "      <td>5</td>\n",
       "      <td>37.0</td>\n",
       "      <td>33.0</td>\n",
       "      <td>0.891892</td>\n",
       "    </tr>\n",
       "    <tr>\n",
       "      <th>Benchbreak Chardonnay</th>\n",
       "      <td>38251</td>\n",
       "      <td>62</td>\n",
       "      <td>5</td>\n",
       "      <td>111.0</td>\n",
       "      <td>99.0</td>\n",
       "      <td>0.891892</td>\n",
       "    </tr>\n",
       "  </tbody>\n",
       "</table>\n",
       "</div>"
      ],
      "text/plain": [
       "                                          product_id  aisle_id  department_id  \\\n",
       "product_name                                                                    \n",
       "Raw Veggie Wrappers                             6433        13             20   \n",
       "Serenity Ultimate Extrema Overnight Pads        2075       126             11   \n",
       "Orange Energy Shots                            43553        64              7   \n",
       "Chocolate Love Bar                             27740        45             19   \n",
       "Soy Powder Infant Formula                      14609        92             18   \n",
       "Simply Sleep Nighttime Sleep Aid               13875         6              2   \n",
       "Energy Shot, Grape Flavor                      39992        64              7   \n",
       "Russian River Valley Reserve Pinot Noir         5868        28              5   \n",
       "Sparking Water                                 31418       115              7   \n",
       "Maca Buttercups                                35604        45             19   \n",
       "Bars Peanut Butter                             36543        88             13   \n",
       "Soy Crisps Lightly Salted                      26093       107             19   \n",
       "Jet Fuel Dark Roast Whole Bean Coffee            700        26              7   \n",
       "High Gravity Lager                              4212        27              5   \n",
       "Benchbreak Chardonnay                          38251        62              5   \n",
       "\n",
       "                                          purchases  reordered   portion  \n",
       "product_name                                                              \n",
       "Raw Veggie Wrappers                            68.0       64.0  0.941176  \n",
       "Serenity Ultimate Extrema Overnight Pads       87.0       81.0  0.931034  \n",
       "Orange Energy Shots                            13.0       12.0  0.923077  \n",
       "Chocolate Love Bar                            101.0       93.0  0.920792  \n",
       "Soy Powder Infant Formula                      35.0       32.0  0.914286  \n",
       "Simply Sleep Nighttime Sleep Aid               45.0       41.0  0.911111  \n",
       "Energy Shot, Grape Flavor                      22.0       20.0  0.909091  \n",
       "Russian River Valley Reserve Pinot Noir        30.0       27.0  0.900000  \n",
       "Sparking Water                                 60.0       54.0  0.900000  \n",
       "Maca Buttercups                               100.0       90.0  0.900000  \n",
       "Bars Peanut Butter                             67.0       60.0  0.895522  \n",
       "Soy Crisps Lightly Salted                      66.0       59.0  0.893939  \n",
       "Jet Fuel Dark Roast Whole Bean Coffee          28.0       25.0  0.892857  \n",
       "High Gravity Lager                             37.0       33.0  0.891892  \n",
       "Benchbreak Chardonnay                         111.0       99.0  0.891892  "
      ]
     },
     "execution_count": 98,
     "metadata": {},
     "output_type": "execute_result"
    }
   ],
   "source": [
    "top_portion"
   ]
  },
  {
   "cell_type": "code",
   "execution_count": null,
   "metadata": {
    "collapsed": true
   },
   "outputs": [],
   "source": []
  }
 ],
 "metadata": {
  "kernelspec": {
   "display_name": "Python 2",
   "language": "python",
   "name": "python2"
  },
  "language_info": {
   "codemirror_mode": {
    "name": "ipython",
    "version": 2
   },
   "file_extension": ".py",
   "mimetype": "text/x-python",
   "name": "python",
   "nbconvert_exporter": "python",
   "pygments_lexer": "ipython2",
   "version": "2.7.14"
  }
 },
 "nbformat": 4,
 "nbformat_minor": 2
}
