{
 "cells": [
  {
   "cell_type": "markdown",
   "metadata": {},
   "source": [
    "Read the readme.md file first.\n",
    "EDA:"
   ]
  },
  {
   "cell_type": "code",
   "execution_count": 5,
   "metadata": {
    "collapsed": true
   },
   "outputs": [],
   "source": [
    "import pandas as pd\n",
    "import numpy as np\n",
    "#plotting and statistical packages\n",
    "import matplotlib as mpl\n",
    "import matplotlib.pyplot as plt\n",
    "import scipy as sp\n",
    "import seaborn as sns\n",
    "#display graphs in notebook\n",
    "%matplotlib inline\n",
    "#displays a load bar for tracking loop time processing\n",
    "from tqdm import tqdm\n"
   ]
  },
  {
   "cell_type": "code",
   "execution_count": 6,
   "metadata": {},
   "outputs": [
    {
     "data": {
      "text/html": [
       "<div>\n",
       "<style>\n",
       "    .dataframe thead tr:only-child th {\n",
       "        text-align: right;\n",
       "    }\n",
       "\n",
       "    .dataframe thead th {\n",
       "        text-align: left;\n",
       "    }\n",
       "\n",
       "    .dataframe tbody tr th {\n",
       "        vertical-align: top;\n",
       "    }\n",
       "</style>\n",
       "<table border=\"1\" class=\"dataframe\">\n",
       "  <thead>\n",
       "    <tr style=\"text-align: right;\">\n",
       "      <th></th>\n",
       "      <th>order_id</th>\n",
       "      <th>user_id</th>\n",
       "      <th>eval_set</th>\n",
       "      <th>order_number</th>\n",
       "      <th>order_dow</th>\n",
       "      <th>order_hour_of_day</th>\n",
       "      <th>days_since_prior_order</th>\n",
       "    </tr>\n",
       "  </thead>\n",
       "  <tbody>\n",
       "    <tr>\n",
       "      <th>0</th>\n",
       "      <td>2539329</td>\n",
       "      <td>1</td>\n",
       "      <td>prior</td>\n",
       "      <td>1</td>\n",
       "      <td>2</td>\n",
       "      <td>8</td>\n",
       "      <td>NaN</td>\n",
       "    </tr>\n",
       "    <tr>\n",
       "      <th>1</th>\n",
       "      <td>2398795</td>\n",
       "      <td>1</td>\n",
       "      <td>prior</td>\n",
       "      <td>2</td>\n",
       "      <td>3</td>\n",
       "      <td>7</td>\n",
       "      <td>15.0</td>\n",
       "    </tr>\n",
       "    <tr>\n",
       "      <th>2</th>\n",
       "      <td>473747</td>\n",
       "      <td>1</td>\n",
       "      <td>prior</td>\n",
       "      <td>3</td>\n",
       "      <td>3</td>\n",
       "      <td>12</td>\n",
       "      <td>21.0</td>\n",
       "    </tr>\n",
       "    <tr>\n",
       "      <th>3</th>\n",
       "      <td>2254736</td>\n",
       "      <td>1</td>\n",
       "      <td>prior</td>\n",
       "      <td>4</td>\n",
       "      <td>4</td>\n",
       "      <td>7</td>\n",
       "      <td>29.0</td>\n",
       "    </tr>\n",
       "    <tr>\n",
       "      <th>4</th>\n",
       "      <td>431534</td>\n",
       "      <td>1</td>\n",
       "      <td>prior</td>\n",
       "      <td>5</td>\n",
       "      <td>4</td>\n",
       "      <td>15</td>\n",
       "      <td>28.0</td>\n",
       "    </tr>\n",
       "    <tr>\n",
       "      <th>5</th>\n",
       "      <td>3367565</td>\n",
       "      <td>1</td>\n",
       "      <td>prior</td>\n",
       "      <td>6</td>\n",
       "      <td>2</td>\n",
       "      <td>7</td>\n",
       "      <td>19.0</td>\n",
       "    </tr>\n",
       "    <tr>\n",
       "      <th>6</th>\n",
       "      <td>550135</td>\n",
       "      <td>1</td>\n",
       "      <td>prior</td>\n",
       "      <td>7</td>\n",
       "      <td>1</td>\n",
       "      <td>9</td>\n",
       "      <td>20.0</td>\n",
       "    </tr>\n",
       "    <tr>\n",
       "      <th>7</th>\n",
       "      <td>3108588</td>\n",
       "      <td>1</td>\n",
       "      <td>prior</td>\n",
       "      <td>8</td>\n",
       "      <td>1</td>\n",
       "      <td>14</td>\n",
       "      <td>14.0</td>\n",
       "    </tr>\n",
       "    <tr>\n",
       "      <th>8</th>\n",
       "      <td>2295261</td>\n",
       "      <td>1</td>\n",
       "      <td>prior</td>\n",
       "      <td>9</td>\n",
       "      <td>1</td>\n",
       "      <td>16</td>\n",
       "      <td>0.0</td>\n",
       "    </tr>\n",
       "    <tr>\n",
       "      <th>9</th>\n",
       "      <td>2550362</td>\n",
       "      <td>1</td>\n",
       "      <td>prior</td>\n",
       "      <td>10</td>\n",
       "      <td>4</td>\n",
       "      <td>8</td>\n",
       "      <td>30.0</td>\n",
       "    </tr>\n",
       "    <tr>\n",
       "      <th>10</th>\n",
       "      <td>1187899</td>\n",
       "      <td>1</td>\n",
       "      <td>train</td>\n",
       "      <td>11</td>\n",
       "      <td>4</td>\n",
       "      <td>8</td>\n",
       "      <td>14.0</td>\n",
       "    </tr>\n",
       "    <tr>\n",
       "      <th>11</th>\n",
       "      <td>2168274</td>\n",
       "      <td>2</td>\n",
       "      <td>prior</td>\n",
       "      <td>1</td>\n",
       "      <td>2</td>\n",
       "      <td>11</td>\n",
       "      <td>NaN</td>\n",
       "    </tr>\n",
       "  </tbody>\n",
       "</table>\n",
       "</div>"
      ],
      "text/plain": [
       "    order_id  user_id eval_set  order_number  order_dow  order_hour_of_day  \\\n",
       "0    2539329        1    prior             1          2                  8   \n",
       "1    2398795        1    prior             2          3                  7   \n",
       "2     473747        1    prior             3          3                 12   \n",
       "3    2254736        1    prior             4          4                  7   \n",
       "4     431534        1    prior             5          4                 15   \n",
       "5    3367565        1    prior             6          2                  7   \n",
       "6     550135        1    prior             7          1                  9   \n",
       "7    3108588        1    prior             8          1                 14   \n",
       "8    2295261        1    prior             9          1                 16   \n",
       "9    2550362        1    prior            10          4                  8   \n",
       "10   1187899        1    train            11          4                  8   \n",
       "11   2168274        2    prior             1          2                 11   \n",
       "\n",
       "    days_since_prior_order  \n",
       "0                      NaN  \n",
       "1                     15.0  \n",
       "2                     21.0  \n",
       "3                     29.0  \n",
       "4                     28.0  \n",
       "5                     19.0  \n",
       "6                     20.0  \n",
       "7                     14.0  \n",
       "8                      0.0  \n",
       "9                     30.0  \n",
       "10                    14.0  \n",
       "11                     NaN  "
      ]
     },
     "execution_count": 6,
     "metadata": {},
     "output_type": "execute_result"
    }
   ],
   "source": [
    "#lets load the first chunk of data and look around\n",
    "instacart_file=pd.read_csv('Data/orders.csv')\n",
    "df_orders=pd.DataFrame(instacart_file,)\n",
    "df_orders.head(12)\n"
   ]
  },
  {
   "cell_type": "markdown",
   "metadata": {},
   "source": [
    "# Draft data set up below"
   ]
  },
  {
   "cell_type": "code",
   "execution_count": null,
   "metadata": {
    "collapsed": true
   },
   "outputs": [],
   "source": [
    "df_orders.pivot(index='user_id',columns='order_id',values='eval_set')"
   ]
  },
  {
   "cell_type": "markdown",
   "metadata": {},
   "source": [
    "# EDA follows"
   ]
  },
  {
   "cell_type": "code",
   "execution_count": null,
   "metadata": {},
   "outputs": [],
   "source": [
    "df_orders.info()"
   ]
  },
  {
   "cell_type": "markdown",
   "metadata": {},
   "source": [
    "The eval_set has broken data down to a prior data set, a training set and a test set. (see data readme.md for more details data (column meaings, NaN useage, and data useage terms and conditions).\n",
    "\n",
    "Lets segregate our data in order to keep the test data fresh and uncontaminated. We'll explore around in the prior data set to get an idea about the data. Then look at setting up the mechanics for the recommendor."
   ]
  },
  {
   "cell_type": "code",
   "execution_count": 4,
   "metadata": {},
   "outputs": [
    {
     "data": {
      "text/html": [
       "<div>\n",
       "<style>\n",
       "    .dataframe thead tr:only-child th {\n",
       "        text-align: right;\n",
       "    }\n",
       "\n",
       "    .dataframe thead th {\n",
       "        text-align: left;\n",
       "    }\n",
       "\n",
       "    .dataframe tbody tr th {\n",
       "        vertical-align: top;\n",
       "    }\n",
       "</style>\n",
       "<table border=\"1\" class=\"dataframe\">\n",
       "  <thead>\n",
       "    <tr style=\"text-align: right;\">\n",
       "      <th></th>\n",
       "      <th>order_id</th>\n",
       "      <th>user_id</th>\n",
       "      <th>eval_set</th>\n",
       "      <th>order_number</th>\n",
       "      <th>order_dow</th>\n",
       "      <th>order_hour_of_day</th>\n",
       "      <th>days_since_prior_order</th>\n",
       "    </tr>\n",
       "  </thead>\n",
       "  <tbody>\n",
       "    <tr>\n",
       "      <th>0</th>\n",
       "      <td>2539329</td>\n",
       "      <td>1</td>\n",
       "      <td>prior</td>\n",
       "      <td>1</td>\n",
       "      <td>2</td>\n",
       "      <td>8</td>\n",
       "      <td>NaN</td>\n",
       "    </tr>\n",
       "    <tr>\n",
       "      <th>1</th>\n",
       "      <td>2398795</td>\n",
       "      <td>1</td>\n",
       "      <td>prior</td>\n",
       "      <td>2</td>\n",
       "      <td>3</td>\n",
       "      <td>7</td>\n",
       "      <td>15.0</td>\n",
       "    </tr>\n",
       "    <tr>\n",
       "      <th>2</th>\n",
       "      <td>473747</td>\n",
       "      <td>1</td>\n",
       "      <td>prior</td>\n",
       "      <td>3</td>\n",
       "      <td>3</td>\n",
       "      <td>12</td>\n",
       "      <td>21.0</td>\n",
       "    </tr>\n",
       "    <tr>\n",
       "      <th>3</th>\n",
       "      <td>2254736</td>\n",
       "      <td>1</td>\n",
       "      <td>prior</td>\n",
       "      <td>4</td>\n",
       "      <td>4</td>\n",
       "      <td>7</td>\n",
       "      <td>29.0</td>\n",
       "    </tr>\n",
       "    <tr>\n",
       "      <th>4</th>\n",
       "      <td>431534</td>\n",
       "      <td>1</td>\n",
       "      <td>prior</td>\n",
       "      <td>5</td>\n",
       "      <td>4</td>\n",
       "      <td>15</td>\n",
       "      <td>28.0</td>\n",
       "    </tr>\n",
       "  </tbody>\n",
       "</table>\n",
       "</div>"
      ],
      "text/plain": [
       "   order_id  user_id eval_set  order_number  order_dow  order_hour_of_day  \\\n",
       "0   2539329        1    prior             1          2                  8   \n",
       "1   2398795        1    prior             2          3                  7   \n",
       "2    473747        1    prior             3          3                 12   \n",
       "3   2254736        1    prior             4          4                  7   \n",
       "4    431534        1    prior             5          4                 15   \n",
       "\n",
       "   days_since_prior_order  \n",
       "0                     NaN  \n",
       "1                    15.0  \n",
       "2                    21.0  \n",
       "3                    29.0  \n",
       "4                    28.0  "
      ]
     },
     "execution_count": 4,
     "metadata": {},
     "output_type": "execute_result"
    }
   ],
   "source": [
    "df_prior_set=df_orders[df_orders['eval_set']=='prior']\n",
    "df_prior_set.head()"
   ]
  },
  {
   "cell_type": "code",
   "execution_count": 5,
   "metadata": {},
   "outputs": [
    {
     "data": {
      "text/html": [
       "<div>\n",
       "<style>\n",
       "    .dataframe thead tr:only-child th {\n",
       "        text-align: right;\n",
       "    }\n",
       "\n",
       "    .dataframe thead th {\n",
       "        text-align: left;\n",
       "    }\n",
       "\n",
       "    .dataframe tbody tr th {\n",
       "        vertical-align: top;\n",
       "    }\n",
       "</style>\n",
       "<table border=\"1\" class=\"dataframe\">\n",
       "  <thead>\n",
       "    <tr style=\"text-align: right;\">\n",
       "      <th></th>\n",
       "      <th>order_id</th>\n",
       "      <th>user_id</th>\n",
       "      <th>eval_set</th>\n",
       "      <th>order_number</th>\n",
       "      <th>order_dow</th>\n",
       "      <th>order_hour_of_day</th>\n",
       "      <th>days_since_prior_order</th>\n",
       "    </tr>\n",
       "  </thead>\n",
       "  <tbody>\n",
       "    <tr>\n",
       "      <th>10</th>\n",
       "      <td>1187899</td>\n",
       "      <td>1</td>\n",
       "      <td>train</td>\n",
       "      <td>11</td>\n",
       "      <td>4</td>\n",
       "      <td>8</td>\n",
       "      <td>14.0</td>\n",
       "    </tr>\n",
       "    <tr>\n",
       "      <th>25</th>\n",
       "      <td>1492625</td>\n",
       "      <td>2</td>\n",
       "      <td>train</td>\n",
       "      <td>15</td>\n",
       "      <td>1</td>\n",
       "      <td>11</td>\n",
       "      <td>30.0</td>\n",
       "    </tr>\n",
       "    <tr>\n",
       "      <th>49</th>\n",
       "      <td>2196797</td>\n",
       "      <td>5</td>\n",
       "      <td>train</td>\n",
       "      <td>5</td>\n",
       "      <td>0</td>\n",
       "      <td>11</td>\n",
       "      <td>6.0</td>\n",
       "    </tr>\n",
       "    <tr>\n",
       "      <th>74</th>\n",
       "      <td>525192</td>\n",
       "      <td>7</td>\n",
       "      <td>train</td>\n",
       "      <td>21</td>\n",
       "      <td>2</td>\n",
       "      <td>11</td>\n",
       "      <td>6.0</td>\n",
       "    </tr>\n",
       "    <tr>\n",
       "      <th>78</th>\n",
       "      <td>880375</td>\n",
       "      <td>8</td>\n",
       "      <td>train</td>\n",
       "      <td>4</td>\n",
       "      <td>1</td>\n",
       "      <td>14</td>\n",
       "      <td>10.0</td>\n",
       "    </tr>\n",
       "  </tbody>\n",
       "</table>\n",
       "</div>"
      ],
      "text/plain": [
       "    order_id  user_id eval_set  order_number  order_dow  order_hour_of_day  \\\n",
       "10   1187899        1    train            11          4                  8   \n",
       "25   1492625        2    train            15          1                 11   \n",
       "49   2196797        5    train             5          0                 11   \n",
       "74    525192        7    train            21          2                 11   \n",
       "78    880375        8    train             4          1                 14   \n",
       "\n",
       "    days_since_prior_order  \n",
       "10                    14.0  \n",
       "25                    30.0  \n",
       "49                     6.0  \n",
       "74                     6.0  \n",
       "78                    10.0  "
      ]
     },
     "execution_count": 5,
     "metadata": {},
     "output_type": "execute_result"
    }
   ],
   "source": [
    "df_train_set=df_orders[df_orders['eval_set']=='train']\n",
    "df_train_set.head()"
   ]
  },
  {
   "cell_type": "code",
   "execution_count": 6,
   "metadata": {},
   "outputs": [
    {
     "data": {
      "text/html": [
       "<div>\n",
       "<style>\n",
       "    .dataframe thead tr:only-child th {\n",
       "        text-align: right;\n",
       "    }\n",
       "\n",
       "    .dataframe thead th {\n",
       "        text-align: left;\n",
       "    }\n",
       "\n",
       "    .dataframe tbody tr th {\n",
       "        vertical-align: top;\n",
       "    }\n",
       "</style>\n",
       "<table border=\"1\" class=\"dataframe\">\n",
       "  <thead>\n",
       "    <tr style=\"text-align: right;\">\n",
       "      <th></th>\n",
       "      <th>order_id</th>\n",
       "      <th>user_id</th>\n",
       "      <th>eval_set</th>\n",
       "      <th>order_number</th>\n",
       "      <th>order_dow</th>\n",
       "      <th>order_hour_of_day</th>\n",
       "      <th>days_since_prior_order</th>\n",
       "    </tr>\n",
       "  </thead>\n",
       "  <tbody>\n",
       "    <tr>\n",
       "      <th>38</th>\n",
       "      <td>2774568</td>\n",
       "      <td>3</td>\n",
       "      <td>test</td>\n",
       "      <td>13</td>\n",
       "      <td>5</td>\n",
       "      <td>15</td>\n",
       "      <td>11.0</td>\n",
       "    </tr>\n",
       "    <tr>\n",
       "      <th>44</th>\n",
       "      <td>329954</td>\n",
       "      <td>4</td>\n",
       "      <td>test</td>\n",
       "      <td>6</td>\n",
       "      <td>3</td>\n",
       "      <td>12</td>\n",
       "      <td>30.0</td>\n",
       "    </tr>\n",
       "    <tr>\n",
       "      <th>53</th>\n",
       "      <td>1528013</td>\n",
       "      <td>6</td>\n",
       "      <td>test</td>\n",
       "      <td>4</td>\n",
       "      <td>3</td>\n",
       "      <td>16</td>\n",
       "      <td>22.0</td>\n",
       "    </tr>\n",
       "    <tr>\n",
       "      <th>96</th>\n",
       "      <td>1376945</td>\n",
       "      <td>11</td>\n",
       "      <td>test</td>\n",
       "      <td>8</td>\n",
       "      <td>6</td>\n",
       "      <td>11</td>\n",
       "      <td>8.0</td>\n",
       "    </tr>\n",
       "    <tr>\n",
       "      <th>102</th>\n",
       "      <td>1356845</td>\n",
       "      <td>12</td>\n",
       "      <td>test</td>\n",
       "      <td>6</td>\n",
       "      <td>1</td>\n",
       "      <td>20</td>\n",
       "      <td>30.0</td>\n",
       "    </tr>\n",
       "  </tbody>\n",
       "</table>\n",
       "</div>"
      ],
      "text/plain": [
       "     order_id  user_id eval_set  order_number  order_dow  order_hour_of_day  \\\n",
       "38    2774568        3     test            13          5                 15   \n",
       "44     329954        4     test             6          3                 12   \n",
       "53    1528013        6     test             4          3                 16   \n",
       "96    1376945       11     test             8          6                 11   \n",
       "102   1356845       12     test             6          1                 20   \n",
       "\n",
       "     days_since_prior_order  \n",
       "38                     11.0  \n",
       "44                     30.0  \n",
       "53                     22.0  \n",
       "96                      8.0  \n",
       "102                    30.0  "
      ]
     },
     "execution_count": 6,
     "metadata": {},
     "output_type": "execute_result"
    }
   ],
   "source": [
    "df_test_set=df_orders[df_orders['eval_set']=='test']\n",
    "df_test_set.head()"
   ]
  },
  {
   "cell_type": "code",
   "execution_count": 7,
   "metadata": {},
   "outputs": [
    {
     "name": "stdout",
     "output_type": "stream",
     "text": [
      "<class 'pandas.core.frame.DataFrame'>\n",
      "Int64Index: 3214874 entries, 0 to 3421081\n",
      "Data columns (total 7 columns):\n",
      "order_id                  int64\n",
      "user_id                   int64\n",
      "eval_set                  object\n",
      "order_number              int64\n",
      "order_dow                 int64\n",
      "order_hour_of_day         int64\n",
      "days_since_prior_order    float64\n",
      "dtypes: float64(1), int64(5), object(1)\n",
      "memory usage: 196.2+ MB\n"
     ]
    }
   ],
   "source": [
    "df_prior_set.info()"
   ]
  },
  {
   "cell_type": "code",
   "execution_count": 8,
   "metadata": {},
   "outputs": [
    {
     "name": "stdout",
     "output_type": "stream",
     "text": [
      "<class 'pandas.core.frame.DataFrame'>\n",
      "Int64Index: 131209 entries, 10 to 3421082\n",
      "Data columns (total 7 columns):\n",
      "order_id                  131209 non-null int64\n",
      "user_id                   131209 non-null int64\n",
      "eval_set                  131209 non-null object\n",
      "order_number              131209 non-null int64\n",
      "order_dow                 131209 non-null int64\n",
      "order_hour_of_day         131209 non-null int64\n",
      "days_since_prior_order    131209 non-null float64\n",
      "dtypes: float64(1), int64(5), object(1)\n",
      "memory usage: 8.0+ MB\n"
     ]
    }
   ],
   "source": [
    "df_train_set.info()"
   ]
  },
  {
   "cell_type": "code",
   "execution_count": 9,
   "metadata": {},
   "outputs": [
    {
     "name": "stdout",
     "output_type": "stream",
     "text": [
      "<class 'pandas.core.frame.DataFrame'>\n",
      "Int64Index: 75000 entries, 38 to 3421068\n",
      "Data columns (total 7 columns):\n",
      "order_id                  75000 non-null int64\n",
      "user_id                   75000 non-null int64\n",
      "eval_set                  75000 non-null object\n",
      "order_number              75000 non-null int64\n",
      "order_dow                 75000 non-null int64\n",
      "order_hour_of_day         75000 non-null int64\n",
      "days_since_prior_order    75000 non-null float64\n",
      "dtypes: float64(1), int64(5), object(1)\n",
      "memory usage: 4.6+ MB\n"
     ]
    }
   ],
   "source": [
    "df_test_set.info()"
   ]
  },
  {
   "cell_type": "code",
   "execution_count": 10,
   "metadata": {},
   "outputs": [
    {
     "name": "stdout",
     "output_type": "stream",
     "text": [
      "False\n",
      "False\n",
      "False\n",
      "False\n",
      "False\n",
      "False\n",
      "True\n"
     ]
    }
   ],
   "source": [
    "# non-null is limited to the days_since_prior_order\n",
    "for col in df_prior_set.columns:\n",
    "    print(df_prior_set[col].isnull().any())"
   ]
  },
  {
   "cell_type": "markdown",
   "metadata": {},
   "source": [
    "Lets look at how users order. First by seeing how many orders each user has in the data set."
   ]
  },
  {
   "cell_type": "code",
   "execution_count": 11,
   "metadata": {
    "collapsed": true
   },
   "outputs": [],
   "source": [
    "#group prior data by user_id\n",
    "dfp_gp_user=df_prior_set.groupby('user_id')"
   ]
  },
  {
   "cell_type": "code",
   "execution_count": 12,
   "metadata": {},
   "outputs": [
    {
     "data": {
      "text/plain": [
       "user_id\n",
       "1    10\n",
       "2    14\n",
       "3    12\n",
       "4     5\n",
       "5     4\n",
       "Name: order_number, dtype: int64"
      ]
     },
     "execution_count": 12,
     "metadata": {},
     "output_type": "execute_result"
    }
   ],
   "source": [
    "#create pandas series for number of orders by user and plot\n",
    "user_order_count=dfp_gp_user.order_number.max()\n",
    "user_order_count.head()"
   ]
  },
  {
   "cell_type": "code",
   "execution_count": 13,
   "metadata": {},
   "outputs": [
    {
     "data": {
      "text/plain": [
       "<matplotlib.axes._subplots.AxesSubplot at 0x111489410>"
      ]
     },
     "execution_count": 13,
     "metadata": {},
     "output_type": "execute_result"
    },
    {
     "data": {
      "image/png": "[encoded data removed]",
      "text/plain": [
       "<matplotlib.figure.Figure at 0x1161e4590>"
      ]
     },
     "metadata": {},
     "output_type": "display_data"
    }
   ],
   "source": [
    "user_order_count.plot(kind='hist')"
   ]
  },
  {
   "cell_type": "markdown",
   "metadata": {},
   "source": [
    "Looking at order counts by users we wee that most users order between 1 and 20 orders."
   ]
  },
  {
   "cell_type": "code",
   "execution_count": 14,
   "metadata": {},
   "outputs": [
    {
     "data": {
      "text/plain": [
       "<matplotlib.axes._subplots.AxesSubplot at 0x10f720150>"
      ]
     },
     "execution_count": 14,
     "metadata": {},
     "output_type": "execute_result"
    },
    {
     "data": {
      "image/png": "[encoded data removed]",
      "text/plain": [
       "<matplotlib.figure.Figure at 0x1161cdfd0>"
      ]
     },
     "metadata": {},
     "output_type": "display_data"
    }
   ],
   "source": [
    "# a closer look at orders between 0 to 50\n",
    "user_order_count.plot(kind='hist',bins=np.linspace(1,50))"
   ]
  },
  {
   "cell_type": "code",
   "execution_count": 15,
   "metadata": {},
   "outputs": [
    {
     "data": {
      "text/plain": [
       "9.0"
      ]
     },
     "execution_count": 15,
     "metadata": {},
     "output_type": "execute_result"
    }
   ],
   "source": [
    "user_order_count.median()"
   ]
  },
  {
   "cell_type": "code",
   "execution_count": 16,
   "metadata": {},
   "outputs": [
    {
     "data": {
      "text/plain": [
       "count    206209.000000\n",
       "mean         15.590367\n",
       "std          16.654774\n",
       "min           3.000000\n",
       "25%           5.000000\n",
       "50%           9.000000\n",
       "75%          19.000000\n",
       "max          99.000000\n",
       "Name: order_number, dtype: float64"
      ]
     },
     "execution_count": 16,
     "metadata": {},
     "output_type": "execute_result"
    }
   ],
   "source": [
    "user_order_count.describe()"
   ]
  },
  {
   "cell_type": "markdown",
   "metadata": {},
   "source": [
    "206 thousand orders. A range for users orders between 3 and 99 orders. An mean of 16 orders per user and a median of 9 orders. "
   ]
  },
  {
   "cell_type": "code",
   "execution_count": 17,
   "metadata": {},
   "outputs": [
    {
     "data": {
      "text/plain": [
       "<matplotlib.axes._subplots.AxesSubplot at 0x11bfd4690>"
      ]
     },
     "execution_count": 17,
     "metadata": {},
     "output_type": "execute_result"
    },
    {
     "data": {
      "image/png": "[encoded data removed]",
      "text/plain": [
       "<matplotlib.figure.Figure at 0x10f712810>"
      ]
     },
     "metadata": {},
     "output_type": "display_data"
    }
   ],
   "source": [
    "df_prior_set.order_dow.plot(kind='hist')"
   ]
  },
  {
   "cell_type": "markdown",
   "metadata": {},
   "source": [
    "Lets look at Orders by Day of the Week. What day are people shopping?"
   ]
  },
  {
   "cell_type": "code",
   "execution_count": 18,
   "metadata": {},
   "outputs": [
    {
     "data": {
      "text/plain": [
       "Text(0.5,0,u'Orders by Day of the Week')"
      ]
     },
     "execution_count": 18,
     "metadata": {},
     "output_type": "execute_result"
    },
    {
     "data": {
      "image/png": "[encoded data removed]",
      "text/plain": [
       "<matplotlib.figure.Figure at 0x119d0fe90>"
      ]
     },
     "metadata": {},
     "output_type": "display_data"
    }
   ],
   "source": [
    "plt.hist(df_prior_set.order_dow)\n",
    "plt.xlabel(\"Orders by Day of the Week\")"
   ]
  },
  {
   "cell_type": "markdown",
   "metadata": {},
   "source": [
    "The data set is not clear on which day zero is. The beginning of Instacart week does see the most \n",
    "orders with he rest of the week being closely similiar. (It would be a logical assumption that 0 \n",
    "and 1 represent the weekend, however, we do not know this.)\n"
   ]
  },
  {
   "cell_type": "markdown",
   "metadata": {},
   "source": [
    "Lets look at hour of the day. When are most orders received?"
   ]
  },
  {
   "cell_type": "code",
   "execution_count": 19,
   "metadata": {},
   "outputs": [
    {
     "data": {
      "text/plain": [
       "Text(0.5,0,u'Orders by Hour of Day')"
      ]
     },
     "execution_count": 19,
     "metadata": {},
     "output_type": "execute_result"
    },
    {
     "data": {
      "image/png": "[encoded data removed]",
      "text/plain": [
       "<matplotlib.figure.Figure at 0x1a461bd610>"
      ]
     },
     "metadata": {},
     "output_type": "display_data"
    }
   ],
   "source": [
    "plt.hist(df_prior_set.order_hour_of_day, bins=100)\n",
    "plt.xlabel('Orders by Hour of Day')\n"
   ]
  },
  {
   "cell_type": "markdown",
   "metadata": {},
   "source": [
    "Hour of day indicates most orders between 8am and 8pm which makes sense. "
   ]
  },
  {
   "cell_type": "markdown",
   "metadata": {},
   "source": [
    "Looking at Days since prior order:"
   ]
  },
  {
   "cell_type": "code",
   "execution_count": 20,
   "metadata": {},
   "outputs": [
    {
     "data": {
      "text/plain": [
       "Text(0.5,0,u'Days since prior order')"
      ]
     },
     "execution_count": 20,
     "metadata": {},
     "output_type": "execute_result"
    },
    {
     "data": {
      "image/png": "[encoded data removed]",
      "text/plain": [
       "<matplotlib.figure.Figure at 0x1a4614df10>"
      ]
     },
     "metadata": {},
     "output_type": "display_data"
    }
   ],
   "source": [
    "plt.hist(df_prior_set.days_since_prior_order.dropna(),)\n",
    "plt.xlabel(\"Days since prior order\")"
   ]
  },
  {
   "cell_type": "markdown",
   "metadata": {},
   "source": [
    "It looks like most orders are followed by another order with in the week. "
   ]
  },
  {
   "cell_type": "markdown",
   "metadata": {},
   "source": [
    "The previous data set did not have any describtion on the contents of the order. That information is contained in order_products csv files. Lets explore that for a minute. "
   ]
  },
  {
   "cell_type": "code",
   "execution_count": 21,
   "metadata": {},
   "outputs": [
    {
     "data": {
      "text/html": [
       "<div>\n",
       "<style>\n",
       "    .dataframe thead tr:only-child th {\n",
       "        text-align: right;\n",
       "    }\n",
       "\n",
       "    .dataframe thead th {\n",
       "        text-align: left;\n",
       "    }\n",
       "\n",
       "    .dataframe tbody tr th {\n",
       "        vertical-align: top;\n",
       "    }\n",
       "</style>\n",
       "<table border=\"1\" class=\"dataframe\">\n",
       "  <thead>\n",
       "    <tr style=\"text-align: right;\">\n",
       "      <th></th>\n",
       "      <th>order_id</th>\n",
       "      <th>product_id</th>\n",
       "      <th>add_to_cart_order</th>\n",
       "      <th>reordered</th>\n",
       "    </tr>\n",
       "  </thead>\n",
       "  <tbody>\n",
       "    <tr>\n",
       "      <th>0</th>\n",
       "      <td>2</td>\n",
       "      <td>33120</td>\n",
       "      <td>1</td>\n",
       "      <td>1</td>\n",
       "    </tr>\n",
       "    <tr>\n",
       "      <th>1</th>\n",
       "      <td>2</td>\n",
       "      <td>28985</td>\n",
       "      <td>2</td>\n",
       "      <td>1</td>\n",
       "    </tr>\n",
       "    <tr>\n",
       "      <th>2</th>\n",
       "      <td>2</td>\n",
       "      <td>9327</td>\n",
       "      <td>3</td>\n",
       "      <td>0</td>\n",
       "    </tr>\n",
       "    <tr>\n",
       "      <th>3</th>\n",
       "      <td>2</td>\n",
       "      <td>45918</td>\n",
       "      <td>4</td>\n",
       "      <td>1</td>\n",
       "    </tr>\n",
       "    <tr>\n",
       "      <th>4</th>\n",
       "      <td>2</td>\n",
       "      <td>30035</td>\n",
       "      <td>5</td>\n",
       "      <td>0</td>\n",
       "    </tr>\n",
       "    <tr>\n",
       "      <th>5</th>\n",
       "      <td>2</td>\n",
       "      <td>17794</td>\n",
       "      <td>6</td>\n",
       "      <td>1</td>\n",
       "    </tr>\n",
       "    <tr>\n",
       "      <th>6</th>\n",
       "      <td>2</td>\n",
       "      <td>40141</td>\n",
       "      <td>7</td>\n",
       "      <td>1</td>\n",
       "    </tr>\n",
       "    <tr>\n",
       "      <th>7</th>\n",
       "      <td>2</td>\n",
       "      <td>1819</td>\n",
       "      <td>8</td>\n",
       "      <td>1</td>\n",
       "    </tr>\n",
       "    <tr>\n",
       "      <th>8</th>\n",
       "      <td>2</td>\n",
       "      <td>43668</td>\n",
       "      <td>9</td>\n",
       "      <td>0</td>\n",
       "    </tr>\n",
       "    <tr>\n",
       "      <th>9</th>\n",
       "      <td>3</td>\n",
       "      <td>33754</td>\n",
       "      <td>1</td>\n",
       "      <td>1</td>\n",
       "    </tr>\n",
       "    <tr>\n",
       "      <th>10</th>\n",
       "      <td>3</td>\n",
       "      <td>24838</td>\n",
       "      <td>2</td>\n",
       "      <td>1</td>\n",
       "    </tr>\n",
       "    <tr>\n",
       "      <th>11</th>\n",
       "      <td>3</td>\n",
       "      <td>17704</td>\n",
       "      <td>3</td>\n",
       "      <td>1</td>\n",
       "    </tr>\n",
       "  </tbody>\n",
       "</table>\n",
       "</div>"
      ],
      "text/plain": [
       "    order_id  product_id  add_to_cart_order  reordered\n",
       "0          2       33120                  1          1\n",
       "1          2       28985                  2          1\n",
       "2          2        9327                  3          0\n",
       "3          2       45918                  4          1\n",
       "4          2       30035                  5          0\n",
       "5          2       17794                  6          1\n",
       "6          2       40141                  7          1\n",
       "7          2        1819                  8          1\n",
       "8          2       43668                  9          0\n",
       "9          3       33754                  1          1\n",
       "10         3       24838                  2          1\n",
       "11         3       17704                  3          1"
      ]
     },
     "execution_count": 21,
     "metadata": {},
     "output_type": "execute_result"
    }
   ],
   "source": [
    "#lets load another chunk of data and look around\n",
    "instacart_file2=pd.read_csv('Data/order_products__prior.csv')\n",
    "df_products_prior=pd.DataFrame(instacart_file2,)\n",
    "df_products_prior.head(12)"
   ]
  },
  {
   "cell_type": "markdown",
   "metadata": {},
   "source": [
    "We have each order uniquely identified by order id, each product uniquely identified by product_id, the order in which each product was added to the cart and if the product/item was a reorder."
   ]
  },
  {
   "cell_type": "code",
   "execution_count": 22,
   "metadata": {},
   "outputs": [
    {
     "name": "stdout",
     "output_type": "stream",
     "text": [
      "<class 'pandas.core.frame.DataFrame'>\n",
      "RangeIndex: 32434489 entries, 0 to 32434488\n",
      "Data columns (total 4 columns):\n",
      "order_id             int64\n",
      "product_id           int64\n",
      "add_to_cart_order    int64\n",
      "reordered            int64\n",
      "dtypes: int64(4)\n",
      "memory usage: 989.8 MB\n"
     ]
    }
   ],
   "source": [
    "df_products_prior.info()"
   ]
  },
  {
   "cell_type": "markdown",
   "metadata": {},
   "source": [
    "Lets explore reorders"
   ]
  },
  {
   "cell_type": "code",
   "execution_count": 23,
   "metadata": {
    "collapsed": true
   },
   "outputs": [],
   "source": [
    "#group by order_id for reorders\n",
    "reorders_by_order=df_products_prior['reordered'].groupby(df_products_prior['order_id']).sum()"
   ]
  },
  {
   "cell_type": "code",
   "execution_count": 24,
   "metadata": {},
   "outputs": [
    {
     "data": {
      "text/plain": [
       "count    3.214874e+06\n",
       "mean     5.949389e+00\n",
       "std      5.842059e+00\n",
       "min      0.000000e+00\n",
       "25%      2.000000e+00\n",
       "50%      4.000000e+00\n",
       "75%      8.000000e+00\n",
       "max      1.300000e+02\n",
       "Name: reordered, dtype: float64"
      ]
     },
     "execution_count": 24,
     "metadata": {},
     "output_type": "execute_result"
    }
   ],
   "source": [
    "reorders_by_order.describe()\n"
   ]
  },
  {
   "cell_type": "code",
   "execution_count": 25,
   "metadata": {},
   "outputs": [
    {
     "data": {
      "text/plain": [
       "4.0"
      ]
     },
     "execution_count": 25,
     "metadata": {},
     "output_type": "execute_result"
    }
   ],
   "source": [
    "reorders_by_order.median()"
   ]
  },
  {
   "cell_type": "markdown",
   "metadata": {
    "collapsed": true
   },
   "source": [
    "Reorders per order range from none to 130. Order average almost 6 reorders and a median of 4 reorders."
   ]
  },
  {
   "cell_type": "code",
   "execution_count": 26,
   "metadata": {},
   "outputs": [
    {
     "data": {
      "text/plain": [
       "Text(0.5,0,u'reorders by order')"
      ]
     },
     "execution_count": 26,
     "metadata": {},
     "output_type": "execute_result"
    },
    {
     "data": {
      "image/png": "[encoded data removed]",
      "text/plain": [
       "<matplotlib.figure.Figure at 0x1a45fd6410>"
      ]
     },
     "metadata": {},
     "output_type": "display_data"
    }
   ],
   "source": [
    "plt.hist(reorders_by_order)\n",
    "plt.xlabel(\"reorders by order\")\n"
   ]
  },
  {
   "cell_type": "markdown",
   "metadata": {},
   "source": [
    "The 130 reorder seems to appear to be an outlier. Most reorders are below 40 with the majority below 20."
   ]
  },
  {
   "cell_type": "markdown",
   "metadata": {},
   "source": [
    "Lets look at what portion of the order is reorders."
   ]
  },
  {
   "cell_type": "code",
   "execution_count": 27,
   "metadata": {
    "collapsed": true
   },
   "outputs": [],
   "source": [
    "#count reorders by grouping by order_id on the reordered column\n",
    "items_in_order=df_products_prior['reordered'].groupby(df_products_prior['order_id']).count()"
   ]
  },
  {
   "cell_type": "code",
   "execution_count": 28,
   "metadata": {},
   "outputs": [
    {
     "data": {
      "text/plain": [
       "([<matplotlib.patches.Wedge at 0x113cb5850>,\n",
       "  <matplotlib.patches.Wedge at 0x118be92d0>],\n",
       " [Text(0.305886,1.05661,u'non-reorders'),\n",
       "  Text(-0.305886,-1.05661,u'reorders')],\n",
       " [Text(0.166847,0.576335,u'41.0%'), Text(-0.166847,-0.576335,u'59.0%')])"
      ]
     },
     "execution_count": 28,
     "metadata": {},
     "output_type": "execute_result"
    },
    {
     "data": {
      "image/png": "[encoded data removed]",
      "text/plain": [
       "<matplotlib.figure.Figure at 0x1a4600d590>"
      ]
     },
     "metadata": {},
     "output_type": "display_data"
    }
   ],
   "source": [
    "#plot the portion\n",
    "plt.pie([(items_in_order.sum()-reorders_by_order.sum()),reorders_by_order.sum()],labels=['non-reorders','reorders'],autopct='%1.1f%%', shadow=True)"
   ]
  },
  {
   "cell_type": "code",
   "execution_count": 29,
   "metadata": {},
   "outputs": [
    {
     "name": "stdout",
     "output_type": "stream",
     "text": [
      "(19126536L, ':reordered items', 32434489L, ':items ordered')\n"
     ]
    }
   ],
   "source": [
    "print(reorders_by_order.sum(),\":reordered items\",items_in_order.sum(),\":items ordered\")"
   ]
  },
  {
   "cell_type": "markdown",
   "metadata": {},
   "source": [
    "Most orders contian around 60% reorders."
   ]
  },
  {
   "cell_type": "code",
   "execution_count": 30,
   "metadata": {},
   "outputs": [
    {
     "name": "stdout",
     "output_type": "stream",
     "text": [
      "(<class 'pandas.core.series.Series'>, <class 'pandas.core.series.Series'>)\n"
     ]
    }
   ],
   "source": [
    "print( type(items_in_order),type(reorders_by_order))"
   ]
  },
  {
   "cell_type": "code",
   "execution_count": 31,
   "metadata": {},
   "outputs": [
    {
     "data": {
      "text/html": [
       "<div>\n",
       "<style>\n",
       "    .dataframe thead tr:only-child th {\n",
       "        text-align: right;\n",
       "    }\n",
       "\n",
       "    .dataframe thead th {\n",
       "        text-align: left;\n",
       "    }\n",
       "\n",
       "    .dataframe tbody tr th {\n",
       "        vertical-align: top;\n",
       "    }\n",
       "</style>\n",
       "<table border=\"1\" class=\"dataframe\">\n",
       "  <thead>\n",
       "    <tr style=\"text-align: right;\">\n",
       "      <th></th>\n",
       "      <th>items_n_order</th>\n",
       "      <th>reorders_n_order</th>\n",
       "      <th>pct_reorders</th>\n",
       "    </tr>\n",
       "    <tr>\n",
       "      <th>order_id</th>\n",
       "      <th></th>\n",
       "      <th></th>\n",
       "      <th></th>\n",
       "    </tr>\n",
       "  </thead>\n",
       "  <tbody>\n",
       "    <tr>\n",
       "      <th>2</th>\n",
       "      <td>9</td>\n",
       "      <td>6</td>\n",
       "      <td>0.666667</td>\n",
       "    </tr>\n",
       "    <tr>\n",
       "      <th>3</th>\n",
       "      <td>8</td>\n",
       "      <td>8</td>\n",
       "      <td>1.000000</td>\n",
       "    </tr>\n",
       "    <tr>\n",
       "      <th>4</th>\n",
       "      <td>13</td>\n",
       "      <td>12</td>\n",
       "      <td>0.923077</td>\n",
       "    </tr>\n",
       "    <tr>\n",
       "      <th>5</th>\n",
       "      <td>26</td>\n",
       "      <td>21</td>\n",
       "      <td>0.807692</td>\n",
       "    </tr>\n",
       "    <tr>\n",
       "      <th>6</th>\n",
       "      <td>3</td>\n",
       "      <td>0</td>\n",
       "      <td>0.000000</td>\n",
       "    </tr>\n",
       "  </tbody>\n",
       "</table>\n",
       "</div>"
      ],
      "text/plain": [
       "          items_n_order  reorders_n_order  pct_reorders\n",
       "order_id                                               \n",
       "2                     9                 6      0.666667\n",
       "3                     8                 8      1.000000\n",
       "4                    13                12      0.923077\n",
       "5                    26                21      0.807692\n",
       "6                     3                 0      0.000000"
      ]
     },
     "execution_count": 31,
     "metadata": {},
     "output_type": "execute_result"
    }
   ],
   "source": [
    "#dataframe to easily see portion of reorders\n",
    "df_order_totals=pd.concat([items_in_order,reorders_by_order], axis=1, \n",
    "                          join='inner',keys=['items_n_order','reorders_n_order'])\n",
    "\n",
    "df_order_totals['pct_reorders']=df_order_totals.reorders_n_order/df_order_totals.items_n_order\n",
    "df_order_totals.head()"
   ]
  },
  {
   "cell_type": "code",
   "execution_count": 32,
   "metadata": {},
   "outputs": [
    {
     "data": {
      "text/html": [
       "<div>\n",
       "<style>\n",
       "    .dataframe thead tr:only-child th {\n",
       "        text-align: right;\n",
       "    }\n",
       "\n",
       "    .dataframe thead th {\n",
       "        text-align: left;\n",
       "    }\n",
       "\n",
       "    .dataframe tbody tr th {\n",
       "        vertical-align: top;\n",
       "    }\n",
       "</style>\n",
       "<table border=\"1\" class=\"dataframe\">\n",
       "  <thead>\n",
       "    <tr style=\"text-align: right;\">\n",
       "      <th></th>\n",
       "      <th>freq</th>\n",
       "      <th>reorders per order by count</th>\n",
       "    </tr>\n",
       "    <tr>\n",
       "      <th>reorders_n_order</th>\n",
       "      <th></th>\n",
       "      <th></th>\n",
       "    </tr>\n",
       "  </thead>\n",
       "  <tbody>\n",
       "    <tr>\n",
       "      <th>0</th>\n",
       "      <td>388513</td>\n",
       "      <td>388513</td>\n",
       "    </tr>\n",
       "    <tr>\n",
       "      <th>2</th>\n",
       "      <td>330770</td>\n",
       "      <td>330770</td>\n",
       "    </tr>\n",
       "    <tr>\n",
       "      <th>1</th>\n",
       "      <td>327898</td>\n",
       "      <td>327898</td>\n",
       "    </tr>\n",
       "    <tr>\n",
       "      <th>3</th>\n",
       "      <td>312493</td>\n",
       "      <td>312493</td>\n",
       "    </tr>\n",
       "    <tr>\n",
       "      <th>4</th>\n",
       "      <td>281704</td>\n",
       "      <td>281704</td>\n",
       "    </tr>\n",
       "    <tr>\n",
       "      <th>5</th>\n",
       "      <td>246626</td>\n",
       "      <td>246626</td>\n",
       "    </tr>\n",
       "    <tr>\n",
       "      <th>6</th>\n",
       "      <td>211744</td>\n",
       "      <td>211744</td>\n",
       "    </tr>\n",
       "    <tr>\n",
       "      <th>7</th>\n",
       "      <td>180083</td>\n",
       "      <td>180083</td>\n",
       "    </tr>\n",
       "    <tr>\n",
       "      <th>8</th>\n",
       "      <td>152229</td>\n",
       "      <td>152229</td>\n",
       "    </tr>\n",
       "    <tr>\n",
       "      <th>9</th>\n",
       "      <td>126646</td>\n",
       "      <td>126646</td>\n",
       "    </tr>\n",
       "  </tbody>\n",
       "</table>\n",
       "</div>"
      ],
      "text/plain": [
       "                    freq  reorders per order by count\n",
       "reorders_n_order                                     \n",
       "0                 388513                       388513\n",
       "2                 330770                       330770\n",
       "1                 327898                       327898\n",
       "3                 312493                       312493\n",
       "4                 281704                       281704\n",
       "5                 246626                       246626\n",
       "6                 211744                       211744\n",
       "7                 180083                       180083\n",
       "8                 152229                       152229\n",
       "9                 126646                       126646"
      ]
     },
     "execution_count": 32,
     "metadata": {},
     "output_type": "execute_result"
    }
   ],
   "source": [
    "reorders_n_orders=df_order_totals.groupby('reorders_n_order').count()\n",
    "reorders_n_orders.rename(columns={'items_n_order':'freq','pct_reorders':'reorders per order by count'},inplace=True)\n",
    "reorders_n_orders.sort_values('reorders per order by count',ascending=False).head(10)"
   ]
  },
  {
   "cell_type": "markdown",
   "metadata": {},
   "source": [
    "Not to surprising orders with 0 reorders are the most common. The only intersting point people seem to reorder 2 items more often then just one item. The likelihood of reorders diminshes with increasing order size after that.  "
   ]
  },
  {
   "cell_type": "code",
   "execution_count": 33,
   "metadata": {},
   "outputs": [
    {
     "data": {
      "text/html": [
       "<div>\n",
       "<style>\n",
       "    .dataframe thead tr:only-child th {\n",
       "        text-align: right;\n",
       "    }\n",
       "\n",
       "    .dataframe thead th {\n",
       "        text-align: left;\n",
       "    }\n",
       "\n",
       "    .dataframe tbody tr th {\n",
       "        vertical-align: top;\n",
       "    }\n",
       "</style>\n",
       "<table border=\"1\" class=\"dataframe\">\n",
       "  <thead>\n",
       "    <tr style=\"text-align: right;\">\n",
       "      <th></th>\n",
       "      <th>total_items_n_bracket</th>\n",
       "      <th>total_reorders_n_bracket</th>\n",
       "      <th>pct_reorders</th>\n",
       "      <th>order count per %</th>\n",
       "    </tr>\n",
       "    <tr>\n",
       "      <th>pct_reorders</th>\n",
       "      <th></th>\n",
       "      <th></th>\n",
       "      <th></th>\n",
       "      <th></th>\n",
       "    </tr>\n",
       "  </thead>\n",
       "  <tbody>\n",
       "    <tr>\n",
       "      <th>(0.7, 0.8]</th>\n",
       "      <td>4059070</td>\n",
       "      <td>3071363</td>\n",
       "      <td>0.756667</td>\n",
       "      <td>347881</td>\n",
       "    </tr>\n",
       "    <tr>\n",
       "      <th>(0.4, 0.5]</th>\n",
       "      <td>3172981</td>\n",
       "      <td>1482753</td>\n",
       "      <td>0.467306</td>\n",
       "      <td>316473</td>\n",
       "    </tr>\n",
       "    <tr>\n",
       "      <th>(0.8, 0.9]</th>\n",
       "      <td>3829141</td>\n",
       "      <td>3277139</td>\n",
       "      <td>0.855842</td>\n",
       "      <td>293627</td>\n",
       "    </tr>\n",
       "    <tr>\n",
       "      <th>(0.6, 0.7]</th>\n",
       "      <td>3369727</td>\n",
       "      <td>2212437</td>\n",
       "      <td>0.656563</td>\n",
       "      <td>284693</td>\n",
       "    </tr>\n",
       "    <tr>\n",
       "      <th>(0.3, 0.4]</th>\n",
       "      <td>2447176</td>\n",
       "      <td>875706</td>\n",
       "      <td>0.357843</td>\n",
       "      <td>229923</td>\n",
       "    </tr>\n",
       "    <tr>\n",
       "      <th>(0.5, 0.6]</th>\n",
       "      <td>2761974</td>\n",
       "      <td>1561753</td>\n",
       "      <td>0.565448</td>\n",
       "      <td>213822</td>\n",
       "    </tr>\n",
       "    <tr>\n",
       "      <th>(0.2, 0.3]</th>\n",
       "      <td>1787884</td>\n",
       "      <td>461661</td>\n",
       "      <td>0.258216</td>\n",
       "      <td>155163</td>\n",
       "    </tr>\n",
       "    <tr>\n",
       "      <th>(0.1, 0.2]</th>\n",
       "      <td>1511068</td>\n",
       "      <td>240899</td>\n",
       "      <td>0.159423</td>\n",
       "      <td>141139</td>\n",
       "    </tr>\n",
       "    <tr>\n",
       "      <th>(0.0, 0.1]</th>\n",
       "      <td>532566</td>\n",
       "      <td>40389</td>\n",
       "      <td>0.075838</td>\n",
       "      <td>35263</td>\n",
       "    </tr>\n",
       "  </tbody>\n",
       "</table>\n",
       "</div>"
      ],
      "text/plain": [
       "               total_items_n_bracket  total_reorders_n_bracket  pct_reorders  \\\n",
       "pct_reorders                                                                   \n",
       "(0.7, 0.8]                   4059070                   3071363      0.756667   \n",
       "(0.4, 0.5]                   3172981                   1482753      0.467306   \n",
       "(0.8, 0.9]                   3829141                   3277139      0.855842   \n",
       "(0.6, 0.7]                   3369727                   2212437      0.656563   \n",
       "(0.3, 0.4]                   2447176                    875706      0.357843   \n",
       "(0.5, 0.6]                   2761974                   1561753      0.565448   \n",
       "(0.2, 0.3]                   1787884                    461661      0.258216   \n",
       "(0.1, 0.2]                   1511068                    240899      0.159423   \n",
       "(0.0, 0.1]                    532566                     40389      0.075838   \n",
       "\n",
       "              order count per %  \n",
       "pct_reorders                     \n",
       "(0.7, 0.8]               347881  \n",
       "(0.4, 0.5]               316473  \n",
       "(0.8, 0.9]               293627  \n",
       "(0.6, 0.7]               284693  \n",
       "(0.3, 0.4]               229923  \n",
       "(0.5, 0.6]               213822  \n",
       "(0.2, 0.3]               155163  \n",
       "(0.1, 0.2]               141139  \n",
       "(0.0, 0.1]                35263  "
      ]
     },
     "execution_count": 33,
     "metadata": {},
     "output_type": "execute_result"
    }
   ],
   "source": [
    "high_pct_reorders=df_order_totals.groupby(pd.cut(df_order_totals[\"pct_reorders\"], np.arange(0, 1.0, 0.1))).sum()\n",
    "high_pct_reorders[\"order count per %\"]=df_order_totals['items_n_order'].groupby(pd.cut(df_order_totals[\"pct_reorders\"], np.arange(0, 1.0, 0.1))).count()\n",
    "high_pct_reorders[\"pct_reorders\"]=high_pct_reorders.reorders_n_order/high_pct_reorders['items_n_order']\n",
    "high_pct_reorders.rename(columns={'items_n_order':' total_items_n_bracket','reorders_n_order':'total_reorders_n_bracket'},inplace=True)\n",
    "high_pct_reorders.sort_values('order count per %',ascending=False)"
   ]
  },
  {
   "cell_type": "markdown",
   "metadata": {},
   "source": [
    "The above table show Orders with 70% to 80% reorders had the highest volume."
   ]
  },
  {
   "cell_type": "code",
   "execution_count": 34,
   "metadata": {},
   "outputs": [
    {
     "data": {
      "text/plain": [
       "product_id\n",
       "24852    472565\n",
       "13176    379450\n",
       "21137    264683\n",
       "21903    241921\n",
       "47209    213584\n",
       "47766    176815\n",
       "47626    152657\n",
       "16797    142951\n",
       "26209    140627\n",
       "27845    137905\n",
       "Name: order_id, dtype: int64"
      ]
     },
     "execution_count": 34,
     "metadata": {},
     "output_type": "execute_result"
    }
   ],
   "source": [
    "products_in_order=df_products_prior['order_id'].groupby(df_products_prior['product_id']).nunique()\n",
    "products_in_order=products_in_order.sort_values(ascending=False)\n",
    "products_in_order.head(10)"
   ]
  },
  {
   "cell_type": "code",
   "execution_count": 35,
   "metadata": {},
   "outputs": [
    {
     "data": {
      "text/html": [
       "<div>\n",
       "<style>\n",
       "    .dataframe thead tr:only-child th {\n",
       "        text-align: right;\n",
       "    }\n",
       "\n",
       "    .dataframe thead th {\n",
       "        text-align: left;\n",
       "    }\n",
       "\n",
       "    .dataframe tbody tr th {\n",
       "        vertical-align: top;\n",
       "    }\n",
       "</style>\n",
       "<table border=\"1\" class=\"dataframe\">\n",
       "  <thead>\n",
       "    <tr style=\"text-align: right;\">\n",
       "      <th></th>\n",
       "      <th>product_id</th>\n",
       "      <th>product_name</th>\n",
       "      <th>aisle_id</th>\n",
       "      <th>department_id</th>\n",
       "    </tr>\n",
       "  </thead>\n",
       "  <tbody>\n",
       "    <tr>\n",
       "      <th>0</th>\n",
       "      <td>1</td>\n",
       "      <td>Chocolate Sandwich Cookies</td>\n",
       "      <td>61</td>\n",
       "      <td>19</td>\n",
       "    </tr>\n",
       "    <tr>\n",
       "      <th>1</th>\n",
       "      <td>2</td>\n",
       "      <td>All-Seasons Salt</td>\n",
       "      <td>104</td>\n",
       "      <td>13</td>\n",
       "    </tr>\n",
       "    <tr>\n",
       "      <th>2</th>\n",
       "      <td>3</td>\n",
       "      <td>Robust Golden Unsweetened Oolong Tea</td>\n",
       "      <td>94</td>\n",
       "      <td>7</td>\n",
       "    </tr>\n",
       "    <tr>\n",
       "      <th>3</th>\n",
       "      <td>4</td>\n",
       "      <td>Smart Ones Classic Favorites Mini Rigatoni Wit...</td>\n",
       "      <td>38</td>\n",
       "      <td>1</td>\n",
       "    </tr>\n",
       "    <tr>\n",
       "      <th>4</th>\n",
       "      <td>5</td>\n",
       "      <td>Green Chile Anytime Sauce</td>\n",
       "      <td>5</td>\n",
       "      <td>13</td>\n",
       "    </tr>\n",
       "  </tbody>\n",
       "</table>\n",
       "</div>"
      ],
      "text/plain": [
       "   product_id                                       product_name  aisle_id  \\\n",
       "0           1                         Chocolate Sandwich Cookies        61   \n",
       "1           2                                   All-Seasons Salt       104   \n",
       "2           3               Robust Golden Unsweetened Oolong Tea        94   \n",
       "3           4  Smart Ones Classic Favorites Mini Rigatoni Wit...        38   \n",
       "4           5                          Green Chile Anytime Sauce         5   \n",
       "\n",
       "   department_id  \n",
       "0             19  \n",
       "1             13  \n",
       "2              7  \n",
       "3              1  \n",
       "4             13  "
      ]
     },
     "execution_count": 35,
     "metadata": {},
     "output_type": "execute_result"
    }
   ],
   "source": [
    "#lets load the product names\n",
    "instacart_products=pd.read_csv('Data/products.csv')\n",
    "df_ic_prod=pd.DataFrame(instacart_products,)\n",
    "df_ic_prod.head()"
   ]
  },
  {
   "cell_type": "code",
   "execution_count": 36,
   "metadata": {},
   "outputs": [
    {
     "data": {
      "text/html": [
       "<div>\n",
       "<style>\n",
       "    .dataframe thead tr:only-child th {\n",
       "        text-align: right;\n",
       "    }\n",
       "\n",
       "    .dataframe thead th {\n",
       "        text-align: left;\n",
       "    }\n",
       "\n",
       "    .dataframe tbody tr th {\n",
       "        vertical-align: top;\n",
       "    }\n",
       "</style>\n",
       "<table border=\"1\" class=\"dataframe\">\n",
       "  <thead>\n",
       "    <tr style=\"text-align: right;\">\n",
       "      <th></th>\n",
       "      <th>purchases</th>\n",
       "    </tr>\n",
       "    <tr>\n",
       "      <th>product_id</th>\n",
       "      <th></th>\n",
       "    </tr>\n",
       "  </thead>\n",
       "  <tbody>\n",
       "    <tr>\n",
       "      <th>24852</th>\n",
       "      <td>472565</td>\n",
       "    </tr>\n",
       "    <tr>\n",
       "      <th>13176</th>\n",
       "      <td>379450</td>\n",
       "    </tr>\n",
       "    <tr>\n",
       "      <th>21137</th>\n",
       "      <td>264683</td>\n",
       "    </tr>\n",
       "    <tr>\n",
       "      <th>21903</th>\n",
       "      <td>241921</td>\n",
       "    </tr>\n",
       "    <tr>\n",
       "      <th>47209</th>\n",
       "      <td>213584</td>\n",
       "    </tr>\n",
       "  </tbody>\n",
       "</table>\n",
       "</div>"
      ],
      "text/plain": [
       "            purchases\n",
       "product_id           \n",
       "24852          472565\n",
       "13176          379450\n",
       "21137          264683\n",
       "21903          241921\n",
       "47209          213584"
      ]
     },
     "execution_count": 36,
     "metadata": {},
     "output_type": "execute_result"
    }
   ],
   "source": [
    "products_in_order=pd.DataFrame(products_in_order)\n",
    "products_in_order.rename(columns={'order_id':'purchases'},inplace=True)\n",
    "products_in_order.head()"
   ]
  },
  {
   "cell_type": "code",
   "execution_count": 37,
   "metadata": {
    "collapsed": true
   },
   "outputs": [],
   "source": [
    "products_in_order=pd.merge(df_ic_prod,products_in_order, how= 'outer',left_on=\"product_id\" , right_index= True)\n"
   ]
  },
  {
   "cell_type": "code",
   "execution_count": 38,
   "metadata": {},
   "outputs": [
    {
     "data": {
      "text/html": [
       "<div>\n",
       "<style>\n",
       "    .dataframe thead tr:only-child th {\n",
       "        text-align: right;\n",
       "    }\n",
       "\n",
       "    .dataframe thead th {\n",
       "        text-align: left;\n",
       "    }\n",
       "\n",
       "    .dataframe tbody tr th {\n",
       "        vertical-align: top;\n",
       "    }\n",
       "</style>\n",
       "<table border=\"1\" class=\"dataframe\">\n",
       "  <thead>\n",
       "    <tr style=\"text-align: right;\">\n",
       "      <th></th>\n",
       "      <th>product_id</th>\n",
       "      <th>product_name</th>\n",
       "      <th>aisle_id</th>\n",
       "      <th>department_id</th>\n",
       "      <th>purchases</th>\n",
       "    </tr>\n",
       "  </thead>\n",
       "  <tbody>\n",
       "    <tr>\n",
       "      <th>0</th>\n",
       "      <td>1</td>\n",
       "      <td>Chocolate Sandwich Cookies</td>\n",
       "      <td>61</td>\n",
       "      <td>19</td>\n",
       "      <td>1852.0</td>\n",
       "    </tr>\n",
       "    <tr>\n",
       "      <th>1</th>\n",
       "      <td>2</td>\n",
       "      <td>All-Seasons Salt</td>\n",
       "      <td>104</td>\n",
       "      <td>13</td>\n",
       "      <td>90.0</td>\n",
       "    </tr>\n",
       "    <tr>\n",
       "      <th>2</th>\n",
       "      <td>3</td>\n",
       "      <td>Robust Golden Unsweetened Oolong Tea</td>\n",
       "      <td>94</td>\n",
       "      <td>7</td>\n",
       "      <td>277.0</td>\n",
       "    </tr>\n",
       "    <tr>\n",
       "      <th>3</th>\n",
       "      <td>4</td>\n",
       "      <td>Smart Ones Classic Favorites Mini Rigatoni Wit...</td>\n",
       "      <td>38</td>\n",
       "      <td>1</td>\n",
       "      <td>329.0</td>\n",
       "    </tr>\n",
       "    <tr>\n",
       "      <th>4</th>\n",
       "      <td>5</td>\n",
       "      <td>Green Chile Anytime Sauce</td>\n",
       "      <td>5</td>\n",
       "      <td>13</td>\n",
       "      <td>15.0</td>\n",
       "    </tr>\n",
       "  </tbody>\n",
       "</table>\n",
       "</div>"
      ],
      "text/plain": [
       "   product_id                                       product_name  aisle_id  \\\n",
       "0           1                         Chocolate Sandwich Cookies        61   \n",
       "1           2                                   All-Seasons Salt       104   \n",
       "2           3               Robust Golden Unsweetened Oolong Tea        94   \n",
       "3           4  Smart Ones Classic Favorites Mini Rigatoni Wit...        38   \n",
       "4           5                          Green Chile Anytime Sauce         5   \n",
       "\n",
       "   department_id  purchases  \n",
       "0             19     1852.0  \n",
       "1             13       90.0  \n",
       "2              7      277.0  \n",
       "3              1      329.0  \n",
       "4             13       15.0  "
      ]
     },
     "execution_count": 38,
     "metadata": {},
     "output_type": "execute_result"
    }
   ],
   "source": [
    "products_in_order.head()"
   ]
  },
  {
   "cell_type": "code",
   "execution_count": 39,
   "metadata": {
    "collapsed": true
   },
   "outputs": [],
   "source": [
    "top_sellers=products_in_order.set_index('product_name')\n"
   ]
  },
  {
   "cell_type": "code",
   "execution_count": 40,
   "metadata": {},
   "outputs": [
    {
     "data": {
      "text/html": [
       "<div>\n",
       "<style>\n",
       "    .dataframe thead tr:only-child th {\n",
       "        text-align: right;\n",
       "    }\n",
       "\n",
       "    .dataframe thead th {\n",
       "        text-align: left;\n",
       "    }\n",
       "\n",
       "    .dataframe tbody tr th {\n",
       "        vertical-align: top;\n",
       "    }\n",
       "</style>\n",
       "<table border=\"1\" class=\"dataframe\">\n",
       "  <thead>\n",
       "    <tr style=\"text-align: right;\">\n",
       "      <th></th>\n",
       "      <th>product_id</th>\n",
       "      <th>aisle_id</th>\n",
       "      <th>department_id</th>\n",
       "      <th>purchases</th>\n",
       "    </tr>\n",
       "    <tr>\n",
       "      <th>product_name</th>\n",
       "      <th></th>\n",
       "      <th></th>\n",
       "      <th></th>\n",
       "      <th></th>\n",
       "    </tr>\n",
       "  </thead>\n",
       "  <tbody>\n",
       "    <tr>\n",
       "      <th>Banana</th>\n",
       "      <td>24852</td>\n",
       "      <td>24</td>\n",
       "      <td>4</td>\n",
       "      <td>472565.0</td>\n",
       "    </tr>\n",
       "    <tr>\n",
       "      <th>Bag of Organic Bananas</th>\n",
       "      <td>13176</td>\n",
       "      <td>24</td>\n",
       "      <td>4</td>\n",
       "      <td>379450.0</td>\n",
       "    </tr>\n",
       "    <tr>\n",
       "      <th>Organic Strawberries</th>\n",
       "      <td>21137</td>\n",
       "      <td>24</td>\n",
       "      <td>4</td>\n",
       "      <td>264683.0</td>\n",
       "    </tr>\n",
       "    <tr>\n",
       "      <th>Organic Baby Spinach</th>\n",
       "      <td>21903</td>\n",
       "      <td>123</td>\n",
       "      <td>4</td>\n",
       "      <td>241921.0</td>\n",
       "    </tr>\n",
       "    <tr>\n",
       "      <th>Organic Hass Avocado</th>\n",
       "      <td>47209</td>\n",
       "      <td>24</td>\n",
       "      <td>4</td>\n",
       "      <td>213584.0</td>\n",
       "    </tr>\n",
       "    <tr>\n",
       "      <th>Organic Avocado</th>\n",
       "      <td>47766</td>\n",
       "      <td>24</td>\n",
       "      <td>4</td>\n",
       "      <td>176815.0</td>\n",
       "    </tr>\n",
       "    <tr>\n",
       "      <th>Large Lemon</th>\n",
       "      <td>47626</td>\n",
       "      <td>24</td>\n",
       "      <td>4</td>\n",
       "      <td>152657.0</td>\n",
       "    </tr>\n",
       "    <tr>\n",
       "      <th>Strawberries</th>\n",
       "      <td>16797</td>\n",
       "      <td>24</td>\n",
       "      <td>4</td>\n",
       "      <td>142951.0</td>\n",
       "    </tr>\n",
       "    <tr>\n",
       "      <th>Limes</th>\n",
       "      <td>26209</td>\n",
       "      <td>24</td>\n",
       "      <td>4</td>\n",
       "      <td>140627.0</td>\n",
       "    </tr>\n",
       "    <tr>\n",
       "      <th>Organic Whole Milk</th>\n",
       "      <td>27845</td>\n",
       "      <td>84</td>\n",
       "      <td>16</td>\n",
       "      <td>137905.0</td>\n",
       "    </tr>\n",
       "    <tr>\n",
       "      <th>Organic Raspberries</th>\n",
       "      <td>27966</td>\n",
       "      <td>123</td>\n",
       "      <td>4</td>\n",
       "      <td>137057.0</td>\n",
       "    </tr>\n",
       "    <tr>\n",
       "      <th>Organic Yellow Onion</th>\n",
       "      <td>22935</td>\n",
       "      <td>83</td>\n",
       "      <td>4</td>\n",
       "      <td>113426.0</td>\n",
       "    </tr>\n",
       "    <tr>\n",
       "      <th>Organic Garlic</th>\n",
       "      <td>24964</td>\n",
       "      <td>83</td>\n",
       "      <td>4</td>\n",
       "      <td>109778.0</td>\n",
       "    </tr>\n",
       "    <tr>\n",
       "      <th>Organic Zucchini</th>\n",
       "      <td>45007</td>\n",
       "      <td>83</td>\n",
       "      <td>4</td>\n",
       "      <td>104823.0</td>\n",
       "    </tr>\n",
       "    <tr>\n",
       "      <th>Organic Blueberries</th>\n",
       "      <td>39275</td>\n",
       "      <td>123</td>\n",
       "      <td>4</td>\n",
       "      <td>100060.0</td>\n",
       "    </tr>\n",
       "  </tbody>\n",
       "</table>\n",
       "</div>"
      ],
      "text/plain": [
       "                        product_id  aisle_id  department_id  purchases\n",
       "product_name                                                          \n",
       "Banana                       24852        24              4   472565.0\n",
       "Bag of Organic Bananas       13176        24              4   379450.0\n",
       "Organic Strawberries         21137        24              4   264683.0\n",
       "Organic Baby Spinach         21903       123              4   241921.0\n",
       "Organic Hass Avocado         47209        24              4   213584.0\n",
       "Organic Avocado              47766        24              4   176815.0\n",
       "Large Lemon                  47626        24              4   152657.0\n",
       "Strawberries                 16797        24              4   142951.0\n",
       "Limes                        26209        24              4   140627.0\n",
       "Organic Whole Milk           27845        84             16   137905.0\n",
       "Organic Raspberries          27966       123              4   137057.0\n",
       "Organic Yellow Onion         22935        83              4   113426.0\n",
       "Organic Garlic               24964        83              4   109778.0\n",
       "Organic Zucchini             45007        83              4   104823.0\n",
       "Organic Blueberries          39275       123              4   100060.0"
      ]
     },
     "execution_count": 40,
     "metadata": {},
     "output_type": "execute_result"
    }
   ],
   "source": [
    "top_sellers=top_sellers.sort_values(by='purchases',ascending=False).head(15)\n",
    "top_sellers\n"
   ]
  },
  {
   "cell_type": "code",
   "execution_count": 41,
   "metadata": {},
   "outputs": [
    {
     "data": {
      "text/plain": [
       "Text(0.5,1,u'best sellers')"
      ]
     },
     "execution_count": 41,
     "metadata": {},
     "output_type": "execute_result"
    },
    {
     "data": {
      "image/png": "[encoded data removed]",
      "text/plain": [
       "<matplotlib.figure.Figure at 0x113c8a850>"
      ]
     },
     "metadata": {},
     "output_type": "display_data"
    }
   ],
   "source": [
    "\n",
    "ax = top_sellers.purchases.plot(kind='bar',facecolor='#00AAAA')\n",
    "\n",
    "ax.patch.set_facecolor('#FFFFFF')\n",
    "ax.spines['bottom'].set_color('#CCCCCC')\n",
    "ax.spines['bottom'].set_linewidth(1)\n",
    "ax.spines['left'].set_color('#CCCCCC')\n",
    "ax.spines['left'].set_linewidth(1)\n",
    "ax.set_title('best sellers')\n"
   ]
  },
  {
   "cell_type": "markdown",
   "metadata": {},
   "source": [
    "Lets see which products get reordered the most."
   ]
  },
  {
   "cell_type": "code",
   "execution_count": 42,
   "metadata": {},
   "outputs": [
    {
     "data": {
      "text/plain": [
       "product_id\n",
       "24852    398609\n",
       "13176    315913\n",
       "21137    205845\n",
       "21903    186884\n",
       "47209    170131\n",
       "47766    134044\n",
       "27845    114510\n",
       "47626    106255\n",
       "27966    105409\n",
       "16797     99802\n",
       "26209     95768\n",
       "22935     79072\n",
       "24964     74663\n",
       "45007     72165\n",
       "49683     67313\n",
       "Name: reordered, dtype: int64"
      ]
     },
     "execution_count": 42,
     "metadata": {},
     "output_type": "execute_result"
    }
   ],
   "source": [
    "products_reordered=df_products_prior['reordered'].groupby(df_products_prior['product_id']).sum()\n",
    "products_reordered=products_reordered.sort_values(ascending=False)\n",
    "products_reordered.head(15)"
   ]
  },
  {
   "cell_type": "code",
   "execution_count": 43,
   "metadata": {
    "collapsed": true
   },
   "outputs": [],
   "source": [
    "products_reordered=pd.DataFrame(products_reordered)"
   ]
  },
  {
   "cell_type": "code",
   "execution_count": 44,
   "metadata": {},
   "outputs": [
    {
     "data": {
      "text/html": [
       "<div>\n",
       "<style>\n",
       "    .dataframe thead tr:only-child th {\n",
       "        text-align: right;\n",
       "    }\n",
       "\n",
       "    .dataframe thead th {\n",
       "        text-align: left;\n",
       "    }\n",
       "\n",
       "    .dataframe tbody tr th {\n",
       "        vertical-align: top;\n",
       "    }\n",
       "</style>\n",
       "<table border=\"1\" class=\"dataframe\">\n",
       "  <thead>\n",
       "    <tr style=\"text-align: right;\">\n",
       "      <th></th>\n",
       "      <th>reordered</th>\n",
       "    </tr>\n",
       "    <tr>\n",
       "      <th>product_id</th>\n",
       "      <th></th>\n",
       "    </tr>\n",
       "  </thead>\n",
       "  <tbody>\n",
       "    <tr>\n",
       "      <th>24852</th>\n",
       "      <td>398609</td>\n",
       "    </tr>\n",
       "    <tr>\n",
       "      <th>13176</th>\n",
       "      <td>315913</td>\n",
       "    </tr>\n",
       "    <tr>\n",
       "      <th>21137</th>\n",
       "      <td>205845</td>\n",
       "    </tr>\n",
       "    <tr>\n",
       "      <th>21903</th>\n",
       "      <td>186884</td>\n",
       "    </tr>\n",
       "    <tr>\n",
       "      <th>47209</th>\n",
       "      <td>170131</td>\n",
       "    </tr>\n",
       "  </tbody>\n",
       "</table>\n",
       "</div>"
      ],
      "text/plain": [
       "            reordered\n",
       "product_id           \n",
       "24852          398609\n",
       "13176          315913\n",
       "21137          205845\n",
       "21903          186884\n",
       "47209          170131"
      ]
     },
     "execution_count": 44,
     "metadata": {},
     "output_type": "execute_result"
    }
   ],
   "source": [
    "products_reordered.head()"
   ]
  },
  {
   "cell_type": "code",
   "execution_count": 45,
   "metadata": {},
   "outputs": [
    {
     "data": {
      "text/html": [
       "<div>\n",
       "<style>\n",
       "    .dataframe thead tr:only-child th {\n",
       "        text-align: right;\n",
       "    }\n",
       "\n",
       "    .dataframe thead th {\n",
       "        text-align: left;\n",
       "    }\n",
       "\n",
       "    .dataframe tbody tr th {\n",
       "        vertical-align: top;\n",
       "    }\n",
       "</style>\n",
       "<table border=\"1\" class=\"dataframe\">\n",
       "  <thead>\n",
       "    <tr style=\"text-align: right;\">\n",
       "      <th></th>\n",
       "      <th>product_id</th>\n",
       "      <th>product_name</th>\n",
       "      <th>aisle_id</th>\n",
       "      <th>department_id</th>\n",
       "      <th>purchases</th>\n",
       "      <th>reordered</th>\n",
       "    </tr>\n",
       "  </thead>\n",
       "  <tbody>\n",
       "    <tr>\n",
       "      <th>0</th>\n",
       "      <td>1</td>\n",
       "      <td>Chocolate Sandwich Cookies</td>\n",
       "      <td>61</td>\n",
       "      <td>19</td>\n",
       "      <td>1852.0</td>\n",
       "      <td>1136.0</td>\n",
       "    </tr>\n",
       "    <tr>\n",
       "      <th>1</th>\n",
       "      <td>2</td>\n",
       "      <td>All-Seasons Salt</td>\n",
       "      <td>104</td>\n",
       "      <td>13</td>\n",
       "      <td>90.0</td>\n",
       "      <td>12.0</td>\n",
       "    </tr>\n",
       "    <tr>\n",
       "      <th>2</th>\n",
       "      <td>3</td>\n",
       "      <td>Robust Golden Unsweetened Oolong Tea</td>\n",
       "      <td>94</td>\n",
       "      <td>7</td>\n",
       "      <td>277.0</td>\n",
       "      <td>203.0</td>\n",
       "    </tr>\n",
       "    <tr>\n",
       "      <th>3</th>\n",
       "      <td>4</td>\n",
       "      <td>Smart Ones Classic Favorites Mini Rigatoni Wit...</td>\n",
       "      <td>38</td>\n",
       "      <td>1</td>\n",
       "      <td>329.0</td>\n",
       "      <td>147.0</td>\n",
       "    </tr>\n",
       "    <tr>\n",
       "      <th>4</th>\n",
       "      <td>5</td>\n",
       "      <td>Green Chile Anytime Sauce</td>\n",
       "      <td>5</td>\n",
       "      <td>13</td>\n",
       "      <td>15.0</td>\n",
       "      <td>9.0</td>\n",
       "    </tr>\n",
       "  </tbody>\n",
       "</table>\n",
       "</div>"
      ],
      "text/plain": [
       "   product_id                                       product_name  aisle_id  \\\n",
       "0           1                         Chocolate Sandwich Cookies        61   \n",
       "1           2                                   All-Seasons Salt       104   \n",
       "2           3               Robust Golden Unsweetened Oolong Tea        94   \n",
       "3           4  Smart Ones Classic Favorites Mini Rigatoni Wit...        38   \n",
       "4           5                          Green Chile Anytime Sauce         5   \n",
       "\n",
       "   department_id  purchases  reordered  \n",
       "0             19     1852.0     1136.0  \n",
       "1             13       90.0       12.0  \n",
       "2              7      277.0      203.0  \n",
       "3              1      329.0      147.0  \n",
       "4             13       15.0        9.0  "
      ]
     },
     "execution_count": 45,
     "metadata": {},
     "output_type": "execute_result"
    }
   ],
   "source": [
    "products_in_order=pd.merge(products_in_order,products_reordered, how= 'outer',left_on=\"product_id\", right_index= True)\n",
    "products_in_order.head()\n"
   ]
  },
  {
   "cell_type": "code",
   "execution_count": 46,
   "metadata": {},
   "outputs": [
    {
     "data": {
      "text/html": [
       "<div>\n",
       "<style>\n",
       "    .dataframe thead tr:only-child th {\n",
       "        text-align: right;\n",
       "    }\n",
       "\n",
       "    .dataframe thead th {\n",
       "        text-align: left;\n",
       "    }\n",
       "\n",
       "    .dataframe tbody tr th {\n",
       "        vertical-align: top;\n",
       "    }\n",
       "</style>\n",
       "<table border=\"1\" class=\"dataframe\">\n",
       "  <thead>\n",
       "    <tr style=\"text-align: right;\">\n",
       "      <th></th>\n",
       "      <th>product_id</th>\n",
       "      <th>aisle_id</th>\n",
       "      <th>department_id</th>\n",
       "      <th>purchases</th>\n",
       "      <th>reordered</th>\n",
       "    </tr>\n",
       "    <tr>\n",
       "      <th>product_name</th>\n",
       "      <th></th>\n",
       "      <th></th>\n",
       "      <th></th>\n",
       "      <th></th>\n",
       "      <th></th>\n",
       "    </tr>\n",
       "  </thead>\n",
       "  <tbody>\n",
       "    <tr>\n",
       "      <th>Banana</th>\n",
       "      <td>24852</td>\n",
       "      <td>24</td>\n",
       "      <td>4</td>\n",
       "      <td>472565.0</td>\n",
       "      <td>398609.0</td>\n",
       "    </tr>\n",
       "    <tr>\n",
       "      <th>Bag of Organic Bananas</th>\n",
       "      <td>13176</td>\n",
       "      <td>24</td>\n",
       "      <td>4</td>\n",
       "      <td>379450.0</td>\n",
       "      <td>315913.0</td>\n",
       "    </tr>\n",
       "    <tr>\n",
       "      <th>Organic Strawberries</th>\n",
       "      <td>21137</td>\n",
       "      <td>24</td>\n",
       "      <td>4</td>\n",
       "      <td>264683.0</td>\n",
       "      <td>205845.0</td>\n",
       "    </tr>\n",
       "    <tr>\n",
       "      <th>Organic Baby Spinach</th>\n",
       "      <td>21903</td>\n",
       "      <td>123</td>\n",
       "      <td>4</td>\n",
       "      <td>241921.0</td>\n",
       "      <td>186884.0</td>\n",
       "    </tr>\n",
       "    <tr>\n",
       "      <th>Organic Hass Avocado</th>\n",
       "      <td>47209</td>\n",
       "      <td>24</td>\n",
       "      <td>4</td>\n",
       "      <td>213584.0</td>\n",
       "      <td>170131.0</td>\n",
       "    </tr>\n",
       "    <tr>\n",
       "      <th>Organic Avocado</th>\n",
       "      <td>47766</td>\n",
       "      <td>24</td>\n",
       "      <td>4</td>\n",
       "      <td>176815.0</td>\n",
       "      <td>134044.0</td>\n",
       "    </tr>\n",
       "    <tr>\n",
       "      <th>Organic Whole Milk</th>\n",
       "      <td>27845</td>\n",
       "      <td>84</td>\n",
       "      <td>16</td>\n",
       "      <td>137905.0</td>\n",
       "      <td>114510.0</td>\n",
       "    </tr>\n",
       "    <tr>\n",
       "      <th>Large Lemon</th>\n",
       "      <td>47626</td>\n",
       "      <td>24</td>\n",
       "      <td>4</td>\n",
       "      <td>152657.0</td>\n",
       "      <td>106255.0</td>\n",
       "    </tr>\n",
       "    <tr>\n",
       "      <th>Organic Raspberries</th>\n",
       "      <td>27966</td>\n",
       "      <td>123</td>\n",
       "      <td>4</td>\n",
       "      <td>137057.0</td>\n",
       "      <td>105409.0</td>\n",
       "    </tr>\n",
       "    <tr>\n",
       "      <th>Strawberries</th>\n",
       "      <td>16797</td>\n",
       "      <td>24</td>\n",
       "      <td>4</td>\n",
       "      <td>142951.0</td>\n",
       "      <td>99802.0</td>\n",
       "    </tr>\n",
       "    <tr>\n",
       "      <th>Limes</th>\n",
       "      <td>26209</td>\n",
       "      <td>24</td>\n",
       "      <td>4</td>\n",
       "      <td>140627.0</td>\n",
       "      <td>95768.0</td>\n",
       "    </tr>\n",
       "    <tr>\n",
       "      <th>Organic Yellow Onion</th>\n",
       "      <td>22935</td>\n",
       "      <td>83</td>\n",
       "      <td>4</td>\n",
       "      <td>113426.0</td>\n",
       "      <td>79072.0</td>\n",
       "    </tr>\n",
       "    <tr>\n",
       "      <th>Organic Garlic</th>\n",
       "      <td>24964</td>\n",
       "      <td>83</td>\n",
       "      <td>4</td>\n",
       "      <td>109778.0</td>\n",
       "      <td>74663.0</td>\n",
       "    </tr>\n",
       "    <tr>\n",
       "      <th>Organic Zucchini</th>\n",
       "      <td>45007</td>\n",
       "      <td>83</td>\n",
       "      <td>4</td>\n",
       "      <td>104823.0</td>\n",
       "      <td>72165.0</td>\n",
       "    </tr>\n",
       "    <tr>\n",
       "      <th>Cucumber Kirby</th>\n",
       "      <td>49683</td>\n",
       "      <td>83</td>\n",
       "      <td>4</td>\n",
       "      <td>97315.0</td>\n",
       "      <td>67313.0</td>\n",
       "    </tr>\n",
       "  </tbody>\n",
       "</table>\n",
       "</div>"
      ],
      "text/plain": [
       "                        product_id  aisle_id  department_id  purchases  \\\n",
       "product_name                                                             \n",
       "Banana                       24852        24              4   472565.0   \n",
       "Bag of Organic Bananas       13176        24              4   379450.0   \n",
       "Organic Strawberries         21137        24              4   264683.0   \n",
       "Organic Baby Spinach         21903       123              4   241921.0   \n",
       "Organic Hass Avocado         47209        24              4   213584.0   \n",
       "Organic Avocado              47766        24              4   176815.0   \n",
       "Organic Whole Milk           27845        84             16   137905.0   \n",
       "Large Lemon                  47626        24              4   152657.0   \n",
       "Organic Raspberries          27966       123              4   137057.0   \n",
       "Strawberries                 16797        24              4   142951.0   \n",
       "Limes                        26209        24              4   140627.0   \n",
       "Organic Yellow Onion         22935        83              4   113426.0   \n",
       "Organic Garlic               24964        83              4   109778.0   \n",
       "Organic Zucchini             45007        83              4   104823.0   \n",
       "Cucumber Kirby               49683        83              4    97315.0   \n",
       "\n",
       "                        reordered  \n",
       "product_name                       \n",
       "Banana                   398609.0  \n",
       "Bag of Organic Bananas   315913.0  \n",
       "Organic Strawberries     205845.0  \n",
       "Organic Baby Spinach     186884.0  \n",
       "Organic Hass Avocado     170131.0  \n",
       "Organic Avocado          134044.0  \n",
       "Organic Whole Milk       114510.0  \n",
       "Large Lemon              106255.0  \n",
       "Organic Raspberries      105409.0  \n",
       "Strawberries              99802.0  \n",
       "Limes                     95768.0  \n",
       "Organic Yellow Onion      79072.0  \n",
       "Organic Garlic            74663.0  \n",
       "Organic Zucchini          72165.0  \n",
       "Cucumber Kirby            67313.0  "
      ]
     },
     "execution_count": 46,
     "metadata": {},
     "output_type": "execute_result"
    }
   ],
   "source": [
    "top_reorders=products_in_order.set_index('product_name')\n",
    "top_reorders=top_reorders.sort_values(by='reordered',ascending=False).head(15)\n",
    "top_reorders\n"
   ]
  },
  {
   "cell_type": "code",
   "execution_count": 47,
   "metadata": {},
   "outputs": [
    {
     "data": {
      "text/plain": [
       "Text(0.5,1,u'top reorders')"
      ]
     },
     "execution_count": 47,
     "metadata": {},
     "output_type": "execute_result"
    },
    {
     "data": {
      "image/png": "[encoded data removed]",
      "text/plain": [
       "<matplotlib.figure.Figure at 0x111344e50>"
      ]
     },
     "metadata": {},
     "output_type": "display_data"
    }
   ],
   "source": [
    "\n",
    "ax = top_reorders.purchases.plot(kind='bar',facecolor='#00AAAA')\n",
    "\n",
    "ax.patch.set_facecolor('#FFFFFF')\n",
    "ax.spines['bottom'].set_color('#CCCCCC')\n",
    "ax.spines['bottom'].set_linewidth(1)\n",
    "ax.spines['left'].set_color('#CCCCCC')\n",
    "ax.spines['left'].set_linewidth(1)\n",
    "ax.set_title('top reorders')\n"
   ]
  },
  {
   "cell_type": "markdown",
   "metadata": {},
   "source": [
    "Lets see what product has the highest chance of being reordered. We will use the empirecal data of reorders divided by purchases(oppurtunity to reorder) has the probability of reorder."
   ]
  },
  {
   "cell_type": "code",
   "execution_count": 48,
   "metadata": {},
   "outputs": [
    {
     "data": {
      "text/html": [
       "<div>\n",
       "<style>\n",
       "    .dataframe thead tr:only-child th {\n",
       "        text-align: right;\n",
       "    }\n",
       "\n",
       "    .dataframe thead th {\n",
       "        text-align: left;\n",
       "    }\n",
       "\n",
       "    .dataframe tbody tr th {\n",
       "        vertical-align: top;\n",
       "    }\n",
       "</style>\n",
       "<table border=\"1\" class=\"dataframe\">\n",
       "  <thead>\n",
       "    <tr style=\"text-align: right;\">\n",
       "      <th></th>\n",
       "      <th>product_id</th>\n",
       "      <th>product_name</th>\n",
       "      <th>aisle_id</th>\n",
       "      <th>department_id</th>\n",
       "      <th>purchases</th>\n",
       "      <th>reordered</th>\n",
       "      <th>portion</th>\n",
       "    </tr>\n",
       "  </thead>\n",
       "  <tbody>\n",
       "    <tr>\n",
       "      <th>0</th>\n",
       "      <td>1</td>\n",
       "      <td>Chocolate Sandwich Cookies</td>\n",
       "      <td>61</td>\n",
       "      <td>19</td>\n",
       "      <td>1852.0</td>\n",
       "      <td>1136.0</td>\n",
       "      <td>0.613391</td>\n",
       "    </tr>\n",
       "    <tr>\n",
       "      <th>1</th>\n",
       "      <td>2</td>\n",
       "      <td>All-Seasons Salt</td>\n",
       "      <td>104</td>\n",
       "      <td>13</td>\n",
       "      <td>90.0</td>\n",
       "      <td>12.0</td>\n",
       "      <td>0.133333</td>\n",
       "    </tr>\n",
       "    <tr>\n",
       "      <th>2</th>\n",
       "      <td>3</td>\n",
       "      <td>Robust Golden Unsweetened Oolong Tea</td>\n",
       "      <td>94</td>\n",
       "      <td>7</td>\n",
       "      <td>277.0</td>\n",
       "      <td>203.0</td>\n",
       "      <td>0.732852</td>\n",
       "    </tr>\n",
       "    <tr>\n",
       "      <th>3</th>\n",
       "      <td>4</td>\n",
       "      <td>Smart Ones Classic Favorites Mini Rigatoni Wit...</td>\n",
       "      <td>38</td>\n",
       "      <td>1</td>\n",
       "      <td>329.0</td>\n",
       "      <td>147.0</td>\n",
       "      <td>0.446809</td>\n",
       "    </tr>\n",
       "    <tr>\n",
       "      <th>4</th>\n",
       "      <td>5</td>\n",
       "      <td>Green Chile Anytime Sauce</td>\n",
       "      <td>5</td>\n",
       "      <td>13</td>\n",
       "      <td>15.0</td>\n",
       "      <td>9.0</td>\n",
       "      <td>0.600000</td>\n",
       "    </tr>\n",
       "  </tbody>\n",
       "</table>\n",
       "</div>"
      ],
      "text/plain": [
       "   product_id                                       product_name  aisle_id  \\\n",
       "0           1                         Chocolate Sandwich Cookies        61   \n",
       "1           2                                   All-Seasons Salt       104   \n",
       "2           3               Robust Golden Unsweetened Oolong Tea        94   \n",
       "3           4  Smart Ones Classic Favorites Mini Rigatoni Wit...        38   \n",
       "4           5                          Green Chile Anytime Sauce         5   \n",
       "\n",
       "   department_id  purchases  reordered   portion  \n",
       "0             19     1852.0     1136.0  0.613391  \n",
       "1             13       90.0       12.0  0.133333  \n",
       "2              7      277.0      203.0  0.732852  \n",
       "3              1      329.0      147.0  0.446809  \n",
       "4             13       15.0        9.0  0.600000  "
      ]
     },
     "execution_count": 48,
     "metadata": {},
     "output_type": "execute_result"
    }
   ],
   "source": [
    "#calculate portion of reorders and assign to new column\n",
    "products_in_order['portion']=products_in_order.reordered/products_in_order.purchases\n",
    "products_in_order.head()"
   ]
  },
  {
   "cell_type": "code",
   "execution_count": 49,
   "metadata": {},
   "outputs": [
    {
     "data": {
      "text/html": [
       "<div>\n",
       "<style>\n",
       "    .dataframe thead tr:only-child th {\n",
       "        text-align: right;\n",
       "    }\n",
       "\n",
       "    .dataframe thead th {\n",
       "        text-align: left;\n",
       "    }\n",
       "\n",
       "    .dataframe tbody tr th {\n",
       "        vertical-align: top;\n",
       "    }\n",
       "</style>\n",
       "<table border=\"1\" class=\"dataframe\">\n",
       "  <thead>\n",
       "    <tr style=\"text-align: right;\">\n",
       "      <th></th>\n",
       "      <th>product_id</th>\n",
       "      <th>aisle_id</th>\n",
       "      <th>department_id</th>\n",
       "      <th>purchases</th>\n",
       "      <th>reordered</th>\n",
       "      <th>portion</th>\n",
       "    </tr>\n",
       "    <tr>\n",
       "      <th>product_name</th>\n",
       "      <th></th>\n",
       "      <th></th>\n",
       "      <th></th>\n",
       "      <th></th>\n",
       "      <th></th>\n",
       "      <th></th>\n",
       "    </tr>\n",
       "  </thead>\n",
       "  <tbody>\n",
       "    <tr>\n",
       "      <th>Banana</th>\n",
       "      <td>24852</td>\n",
       "      <td>24</td>\n",
       "      <td>4</td>\n",
       "      <td>472565.0</td>\n",
       "      <td>398609.0</td>\n",
       "      <td>0.843501</td>\n",
       "    </tr>\n",
       "    <tr>\n",
       "      <th>Bag of Organic Bananas</th>\n",
       "      <td>13176</td>\n",
       "      <td>24</td>\n",
       "      <td>4</td>\n",
       "      <td>379450.0</td>\n",
       "      <td>315913.0</td>\n",
       "      <td>0.832555</td>\n",
       "    </tr>\n",
       "    <tr>\n",
       "      <th>Organic Strawberries</th>\n",
       "      <td>21137</td>\n",
       "      <td>24</td>\n",
       "      <td>4</td>\n",
       "      <td>264683.0</td>\n",
       "      <td>205845.0</td>\n",
       "      <td>0.777704</td>\n",
       "    </tr>\n",
       "    <tr>\n",
       "      <th>Organic Baby Spinach</th>\n",
       "      <td>21903</td>\n",
       "      <td>123</td>\n",
       "      <td>4</td>\n",
       "      <td>241921.0</td>\n",
       "      <td>186884.0</td>\n",
       "      <td>0.772500</td>\n",
       "    </tr>\n",
       "    <tr>\n",
       "      <th>Organic Hass Avocado</th>\n",
       "      <td>47209</td>\n",
       "      <td>24</td>\n",
       "      <td>4</td>\n",
       "      <td>213584.0</td>\n",
       "      <td>170131.0</td>\n",
       "      <td>0.796553</td>\n",
       "    </tr>\n",
       "    <tr>\n",
       "      <th>Organic Avocado</th>\n",
       "      <td>47766</td>\n",
       "      <td>24</td>\n",
       "      <td>4</td>\n",
       "      <td>176815.0</td>\n",
       "      <td>134044.0</td>\n",
       "      <td>0.758103</td>\n",
       "    </tr>\n",
       "    <tr>\n",
       "      <th>Large Lemon</th>\n",
       "      <td>47626</td>\n",
       "      <td>24</td>\n",
       "      <td>4</td>\n",
       "      <td>152657.0</td>\n",
       "      <td>106255.0</td>\n",
       "      <td>0.696038</td>\n",
       "    </tr>\n",
       "    <tr>\n",
       "      <th>Strawberries</th>\n",
       "      <td>16797</td>\n",
       "      <td>24</td>\n",
       "      <td>4</td>\n",
       "      <td>142951.0</td>\n",
       "      <td>99802.0</td>\n",
       "      <td>0.698155</td>\n",
       "    </tr>\n",
       "    <tr>\n",
       "      <th>Limes</th>\n",
       "      <td>26209</td>\n",
       "      <td>24</td>\n",
       "      <td>4</td>\n",
       "      <td>140627.0</td>\n",
       "      <td>95768.0</td>\n",
       "      <td>0.681007</td>\n",
       "    </tr>\n",
       "    <tr>\n",
       "      <th>Organic Whole Milk</th>\n",
       "      <td>27845</td>\n",
       "      <td>84</td>\n",
       "      <td>16</td>\n",
       "      <td>137905.0</td>\n",
       "      <td>114510.0</td>\n",
       "      <td>0.830354</td>\n",
       "    </tr>\n",
       "    <tr>\n",
       "      <th>Organic Raspberries</th>\n",
       "      <td>27966</td>\n",
       "      <td>123</td>\n",
       "      <td>4</td>\n",
       "      <td>137057.0</td>\n",
       "      <td>105409.0</td>\n",
       "      <td>0.769089</td>\n",
       "    </tr>\n",
       "    <tr>\n",
       "      <th>Organic Yellow Onion</th>\n",
       "      <td>22935</td>\n",
       "      <td>83</td>\n",
       "      <td>4</td>\n",
       "      <td>113426.0</td>\n",
       "      <td>79072.0</td>\n",
       "      <td>0.697124</td>\n",
       "    </tr>\n",
       "    <tr>\n",
       "      <th>Organic Garlic</th>\n",
       "      <td>24964</td>\n",
       "      <td>83</td>\n",
       "      <td>4</td>\n",
       "      <td>109778.0</td>\n",
       "      <td>74663.0</td>\n",
       "      <td>0.680127</td>\n",
       "    </tr>\n",
       "    <tr>\n",
       "      <th>Organic Zucchini</th>\n",
       "      <td>45007</td>\n",
       "      <td>83</td>\n",
       "      <td>4</td>\n",
       "      <td>104823.0</td>\n",
       "      <td>72165.0</td>\n",
       "      <td>0.688446</td>\n",
       "    </tr>\n",
       "    <tr>\n",
       "      <th>Organic Blueberries</th>\n",
       "      <td>39275</td>\n",
       "      <td>123</td>\n",
       "      <td>4</td>\n",
       "      <td>100060.0</td>\n",
       "      <td>62922.0</td>\n",
       "      <td>0.628843</td>\n",
       "    </tr>\n",
       "  </tbody>\n",
       "</table>\n",
       "</div>"
      ],
      "text/plain": [
       "                        product_id  aisle_id  department_id  purchases  \\\n",
       "product_name                                                             \n",
       "Banana                       24852        24              4   472565.0   \n",
       "Bag of Organic Bananas       13176        24              4   379450.0   \n",
       "Organic Strawberries         21137        24              4   264683.0   \n",
       "Organic Baby Spinach         21903       123              4   241921.0   \n",
       "Organic Hass Avocado         47209        24              4   213584.0   \n",
       "Organic Avocado              47766        24              4   176815.0   \n",
       "Large Lemon                  47626        24              4   152657.0   \n",
       "Strawberries                 16797        24              4   142951.0   \n",
       "Limes                        26209        24              4   140627.0   \n",
       "Organic Whole Milk           27845        84             16   137905.0   \n",
       "Organic Raspberries          27966       123              4   137057.0   \n",
       "Organic Yellow Onion         22935        83              4   113426.0   \n",
       "Organic Garlic               24964        83              4   109778.0   \n",
       "Organic Zucchini             45007        83              4   104823.0   \n",
       "Organic Blueberries          39275       123              4   100060.0   \n",
       "\n",
       "                        reordered   portion  \n",
       "product_name                                 \n",
       "Banana                   398609.0  0.843501  \n",
       "Bag of Organic Bananas   315913.0  0.832555  \n",
       "Organic Strawberries     205845.0  0.777704  \n",
       "Organic Baby Spinach     186884.0  0.772500  \n",
       "Organic Hass Avocado     170131.0  0.796553  \n",
       "Organic Avocado          134044.0  0.758103  \n",
       "Large Lemon              106255.0  0.696038  \n",
       "Strawberries              99802.0  0.698155  \n",
       "Limes                     95768.0  0.681007  \n",
       "Organic Whole Milk       114510.0  0.830354  \n",
       "Organic Raspberries      105409.0  0.769089  \n",
       "Organic Yellow Onion      79072.0  0.697124  \n",
       "Organic Garlic            74663.0  0.680127  \n",
       "Organic Zucchini          72165.0  0.688446  \n",
       "Organic Blueberries       62922.0  0.628843  "
      ]
     },
     "execution_count": 49,
     "metadata": {},
     "output_type": "execute_result"
    }
   ],
   "source": [
    "#set product name as index\n",
    "top_sellers=products_in_order.set_index('product_name')\n",
    "top_sellers=top_sellers.sort_values(by='purchases',ascending=False).head(15)\n",
    "top_sellers"
   ]
  },
  {
   "cell_type": "code",
   "execution_count": 50,
   "metadata": {},
   "outputs": [
    {
     "data": {
      "text/html": [
       "<div>\n",
       "<style>\n",
       "    .dataframe thead tr:only-child th {\n",
       "        text-align: right;\n",
       "    }\n",
       "\n",
       "    .dataframe thead th {\n",
       "        text-align: left;\n",
       "    }\n",
       "\n",
       "    .dataframe tbody tr th {\n",
       "        vertical-align: top;\n",
       "    }\n",
       "</style>\n",
       "<table border=\"1\" class=\"dataframe\">\n",
       "  <thead>\n",
       "    <tr style=\"text-align: right;\">\n",
       "      <th></th>\n",
       "      <th>product_id</th>\n",
       "      <th>aisle_id</th>\n",
       "      <th>department_id</th>\n",
       "      <th>purchases</th>\n",
       "      <th>reordered</th>\n",
       "      <th>portion</th>\n",
       "    </tr>\n",
       "    <tr>\n",
       "      <th>product_name</th>\n",
       "      <th></th>\n",
       "      <th></th>\n",
       "      <th></th>\n",
       "      <th></th>\n",
       "      <th></th>\n",
       "      <th></th>\n",
       "    </tr>\n",
       "  </thead>\n",
       "  <tbody>\n",
       "    <tr>\n",
       "      <th>Banana</th>\n",
       "      <td>24852</td>\n",
       "      <td>24</td>\n",
       "      <td>4</td>\n",
       "      <td>472565.0</td>\n",
       "      <td>398609.0</td>\n",
       "      <td>0.843501</td>\n",
       "    </tr>\n",
       "    <tr>\n",
       "      <th>Bag of Organic Bananas</th>\n",
       "      <td>13176</td>\n",
       "      <td>24</td>\n",
       "      <td>4</td>\n",
       "      <td>379450.0</td>\n",
       "      <td>315913.0</td>\n",
       "      <td>0.832555</td>\n",
       "    </tr>\n",
       "    <tr>\n",
       "      <th>Organic Strawberries</th>\n",
       "      <td>21137</td>\n",
       "      <td>24</td>\n",
       "      <td>4</td>\n",
       "      <td>264683.0</td>\n",
       "      <td>205845.0</td>\n",
       "      <td>0.777704</td>\n",
       "    </tr>\n",
       "    <tr>\n",
       "      <th>Organic Baby Spinach</th>\n",
       "      <td>21903</td>\n",
       "      <td>123</td>\n",
       "      <td>4</td>\n",
       "      <td>241921.0</td>\n",
       "      <td>186884.0</td>\n",
       "      <td>0.772500</td>\n",
       "    </tr>\n",
       "    <tr>\n",
       "      <th>Organic Hass Avocado</th>\n",
       "      <td>47209</td>\n",
       "      <td>24</td>\n",
       "      <td>4</td>\n",
       "      <td>213584.0</td>\n",
       "      <td>170131.0</td>\n",
       "      <td>0.796553</td>\n",
       "    </tr>\n",
       "    <tr>\n",
       "      <th>Organic Avocado</th>\n",
       "      <td>47766</td>\n",
       "      <td>24</td>\n",
       "      <td>4</td>\n",
       "      <td>176815.0</td>\n",
       "      <td>134044.0</td>\n",
       "      <td>0.758103</td>\n",
       "    </tr>\n",
       "    <tr>\n",
       "      <th>Large Lemon</th>\n",
       "      <td>47626</td>\n",
       "      <td>24</td>\n",
       "      <td>4</td>\n",
       "      <td>152657.0</td>\n",
       "      <td>106255.0</td>\n",
       "      <td>0.696038</td>\n",
       "    </tr>\n",
       "    <tr>\n",
       "      <th>Strawberries</th>\n",
       "      <td>16797</td>\n",
       "      <td>24</td>\n",
       "      <td>4</td>\n",
       "      <td>142951.0</td>\n",
       "      <td>99802.0</td>\n",
       "      <td>0.698155</td>\n",
       "    </tr>\n",
       "    <tr>\n",
       "      <th>Limes</th>\n",
       "      <td>26209</td>\n",
       "      <td>24</td>\n",
       "      <td>4</td>\n",
       "      <td>140627.0</td>\n",
       "      <td>95768.0</td>\n",
       "      <td>0.681007</td>\n",
       "    </tr>\n",
       "    <tr>\n",
       "      <th>Organic Whole Milk</th>\n",
       "      <td>27845</td>\n",
       "      <td>84</td>\n",
       "      <td>16</td>\n",
       "      <td>137905.0</td>\n",
       "      <td>114510.0</td>\n",
       "      <td>0.830354</td>\n",
       "    </tr>\n",
       "    <tr>\n",
       "      <th>Organic Raspberries</th>\n",
       "      <td>27966</td>\n",
       "      <td>123</td>\n",
       "      <td>4</td>\n",
       "      <td>137057.0</td>\n",
       "      <td>105409.0</td>\n",
       "      <td>0.769089</td>\n",
       "    </tr>\n",
       "    <tr>\n",
       "      <th>Organic Yellow Onion</th>\n",
       "      <td>22935</td>\n",
       "      <td>83</td>\n",
       "      <td>4</td>\n",
       "      <td>113426.0</td>\n",
       "      <td>79072.0</td>\n",
       "      <td>0.697124</td>\n",
       "    </tr>\n",
       "    <tr>\n",
       "      <th>Organic Garlic</th>\n",
       "      <td>24964</td>\n",
       "      <td>83</td>\n",
       "      <td>4</td>\n",
       "      <td>109778.0</td>\n",
       "      <td>74663.0</td>\n",
       "      <td>0.680127</td>\n",
       "    </tr>\n",
       "    <tr>\n",
       "      <th>Organic Zucchini</th>\n",
       "      <td>45007</td>\n",
       "      <td>83</td>\n",
       "      <td>4</td>\n",
       "      <td>104823.0</td>\n",
       "      <td>72165.0</td>\n",
       "      <td>0.688446</td>\n",
       "    </tr>\n",
       "    <tr>\n",
       "      <th>Organic Blueberries</th>\n",
       "      <td>39275</td>\n",
       "      <td>123</td>\n",
       "      <td>4</td>\n",
       "      <td>100060.0</td>\n",
       "      <td>62922.0</td>\n",
       "      <td>0.628843</td>\n",
       "    </tr>\n",
       "  </tbody>\n",
       "</table>\n",
       "</div>"
      ],
      "text/plain": [
       "                        product_id  aisle_id  department_id  purchases  \\\n",
       "product_name                                                             \n",
       "Banana                       24852        24              4   472565.0   \n",
       "Bag of Organic Bananas       13176        24              4   379450.0   \n",
       "Organic Strawberries         21137        24              4   264683.0   \n",
       "Organic Baby Spinach         21903       123              4   241921.0   \n",
       "Organic Hass Avocado         47209        24              4   213584.0   \n",
       "Organic Avocado              47766        24              4   176815.0   \n",
       "Large Lemon                  47626        24              4   152657.0   \n",
       "Strawberries                 16797        24              4   142951.0   \n",
       "Limes                        26209        24              4   140627.0   \n",
       "Organic Whole Milk           27845        84             16   137905.0   \n",
       "Organic Raspberries          27966       123              4   137057.0   \n",
       "Organic Yellow Onion         22935        83              4   113426.0   \n",
       "Organic Garlic               24964        83              4   109778.0   \n",
       "Organic Zucchini             45007        83              4   104823.0   \n",
       "Organic Blueberries          39275       123              4   100060.0   \n",
       "\n",
       "                        reordered   portion  \n",
       "product_name                                 \n",
       "Banana                   398609.0  0.843501  \n",
       "Bag of Organic Bananas   315913.0  0.832555  \n",
       "Organic Strawberries     205845.0  0.777704  \n",
       "Organic Baby Spinach     186884.0  0.772500  \n",
       "Organic Hass Avocado     170131.0  0.796553  \n",
       "Organic Avocado          134044.0  0.758103  \n",
       "Large Lemon              106255.0  0.696038  \n",
       "Strawberries              99802.0  0.698155  \n",
       "Limes                     95768.0  0.681007  \n",
       "Organic Whole Milk       114510.0  0.830354  \n",
       "Organic Raspberries      105409.0  0.769089  \n",
       "Organic Yellow Onion      79072.0  0.697124  \n",
       "Organic Garlic            74663.0  0.680127  \n",
       "Organic Zucchini          72165.0  0.688446  \n",
       "Organic Blueberries       62922.0  0.628843  "
      ]
     },
     "execution_count": 50,
     "metadata": {},
     "output_type": "execute_result"
    }
   ],
   "source": [
    "top_portion=products_in_order.set_index('product_name')\n",
    "top_portion=top_portion.sort_values(by='purchases',ascending=False).head(15)\n",
    "top_portion"
   ]
  },
  {
   "cell_type": "code",
   "execution_count": 51,
   "metadata": {},
   "outputs": [
    {
     "data": {
      "text/plain": [
       "Text(0.5,1,u'top probability of reorder')"
      ]
     },
     "execution_count": 51,
     "metadata": {},
     "output_type": "execute_result"
    },
    {
     "data": {
      "image/png": "[encoded data removed]",
      "text/plain": [
       "<matplotlib.figure.Figure at 0x118e7f4d0>"
      ]
     },
     "metadata": {},
     "output_type": "display_data"
    }
   ],
   "source": [
    "#plot portion column\n",
    "ax = top_portion.purchases.plot(kind='bar',facecolor='#00AAAA')\n",
    "\n",
    "ax.patch.set_facecolor('#FFFFFF')\n",
    "ax.spines['bottom'].set_color('#CCCCCC')\n",
    "ax.spines['bottom'].set_linewidth(1)\n",
    "ax.spines['left'].set_color('#CCCCCC')\n",
    "ax.spines['left'].set_linewidth(1)\n",
    "ax.set_title('top probability of reorder')\n",
    "\n"
   ]
  },
  {
   "cell_type": "code",
   "execution_count": 52,
   "metadata": {},
   "outputs": [
    {
     "data": {
      "text/html": [
       "<div>\n",
       "<style>\n",
       "    .dataframe thead tr:only-child th {\n",
       "        text-align: right;\n",
       "    }\n",
       "\n",
       "    .dataframe thead th {\n",
       "        text-align: left;\n",
       "    }\n",
       "\n",
       "    .dataframe tbody tr th {\n",
       "        vertical-align: top;\n",
       "    }\n",
       "</style>\n",
       "<table border=\"1\" class=\"dataframe\">\n",
       "  <thead>\n",
       "    <tr style=\"text-align: right;\">\n",
       "      <th></th>\n",
       "      <th>order_id</th>\n",
       "      <th>product_id</th>\n",
       "      <th>add_to_cart_order</th>\n",
       "      <th>reordered</th>\n",
       "    </tr>\n",
       "  </thead>\n",
       "  <tbody>\n",
       "    <tr>\n",
       "      <th>0</th>\n",
       "      <td>2</td>\n",
       "      <td>33120</td>\n",
       "      <td>1</td>\n",
       "      <td>1</td>\n",
       "    </tr>\n",
       "    <tr>\n",
       "      <th>1</th>\n",
       "      <td>2</td>\n",
       "      <td>28985</td>\n",
       "      <td>2</td>\n",
       "      <td>1</td>\n",
       "    </tr>\n",
       "    <tr>\n",
       "      <th>2</th>\n",
       "      <td>2</td>\n",
       "      <td>9327</td>\n",
       "      <td>3</td>\n",
       "      <td>0</td>\n",
       "    </tr>\n",
       "    <tr>\n",
       "      <th>3</th>\n",
       "      <td>2</td>\n",
       "      <td>45918</td>\n",
       "      <td>4</td>\n",
       "      <td>1</td>\n",
       "    </tr>\n",
       "    <tr>\n",
       "      <th>4</th>\n",
       "      <td>2</td>\n",
       "      <td>30035</td>\n",
       "      <td>5</td>\n",
       "      <td>0</td>\n",
       "    </tr>\n",
       "  </tbody>\n",
       "</table>\n",
       "</div>"
      ],
      "text/plain": [
       "   order_id  product_id  add_to_cart_order  reordered\n",
       "0         2       33120                  1          1\n",
       "1         2       28985                  2          1\n",
       "2         2        9327                  3          0\n",
       "3         2       45918                  4          1\n",
       "4         2       30035                  5          0"
      ]
     },
     "execution_count": 52,
     "metadata": {},
     "output_type": "execute_result"
    }
   ],
   "source": [
    "df_products_prior.head()"
   ]
  },
  {
   "cell_type": "code",
   "execution_count": null,
   "metadata": {
    "collapsed": true
   },
   "outputs": [],
   "source": []
  }
 ],
 "metadata": {
  "kernelspec": {
   "display_name": "Python 2",
   "language": "python",
   "name": "python2"
  },
  "language_info": {
   "codemirror_mode": {
    "name": "ipython",
    "version": 2
   },
   "file_extension": ".py",
   "mimetype": "text/x-python",
   "name": "python",
   "nbconvert_exporter": "python",
   "pygments_lexer": "ipython2",
   "version": "2.7.14"
  }
 },
 "nbformat": 4,
 "nbformat_minor": 2
}
