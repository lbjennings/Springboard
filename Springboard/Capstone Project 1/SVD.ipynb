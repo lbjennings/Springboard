{
 "cells": [
  {
   "cell_type": "markdown",
   "metadata": {},
   "source": [
    "Should run ML_grocery_basket notebook first. It will tell you when to come back here to run this notebook. "
   ]
  },
  {
   "cell_type": "code",
   "execution_count": 1,
   "metadata": {},
   "outputs": [
    {
     "name": "stdout",
     "output_type": "stream",
     "text": [
      "2018-04-23T12:23:59\n",
      "\n",
      "CPython 2.7.14\n",
      "IPython 5.4.1\n",
      "\n",
      "compiler   : GCC 4.2.1 Compatible Clang 4.0.1 (tags/RELEASE_401/final)\n",
      "system     : Darwin\n",
      "release    : 17.3.0\n",
      "machine    : x86_64\n",
      "processor  : i386\n",
      "CPU cores  : 8\n",
      "interpreter: 64bit\n"
     ]
    }
   ],
   "source": [
    "#load watermark extension\n",
    "%load_ext watermark\n",
    "#print watermark for notebook\n",
    "%watermark"
   ]
  },
  {
   "cell_type": "code",
   "execution_count": 2,
   "metadata": {},
   "outputs": [
    {
     "data": {
      "application/json": {
       "Software versions": [
        {
         "module": "Python",
         "version": "2.7.14 64bit [GCC 4.2.1 Compatible Clang 4.0.1 (tags/RELEASE_401/final)]"
        },
        {
         "module": "IPython",
         "version": "5.4.1"
        },
        {
         "module": "OS",
         "version": "Darwin 17.3.0 x86_64 i386 64bit"
        },
        {
         "module": "Cython",
         "version": "0.26.1"
        },
        {
         "module": "matplotlib",
         "version": "2.1.0"
        },
        {
         "module": "numpy",
         "version": "1.13.3"
        },
        {
         "module": "pandas",
         "version": "0.20.3"
        },
        {
         "module": "qutip",
         "version": "The 'qutip' distribution was not found and is required by the application"
        },
        {
         "module": "seaborn",
         "version": "0.8.0"
        },
        {
         "module": "scipy",
         "version": "0.19.1"
        },
        {
         "module": "sklearn",
         "version": "0.19.1"
        },
        {
         "module": "tqdm",
         "version": "4.19.5"
        },
        {
         "module": "version_information",
         "version": "1.0.3"
        }
       ]
      },
      "text/html": [
       "<table><tr><th>Software</th><th>Version</th></tr><tr><td>Python</td><td>2.7.14 64bit [GCC 4.2.1 Compatible Clang 4.0.1 (tags/RELEASE_401/final)]</td></tr><tr><td>IPython</td><td>5.4.1</td></tr><tr><td>OS</td><td>Darwin 17.3.0 x86_64 i386 64bit</td></tr><tr><td>Cython</td><td>0.26.1</td></tr><tr><td>matplotlib</td><td>2.1.0</td></tr><tr><td>numpy</td><td>1.13.3</td></tr><tr><td>pandas</td><td>0.20.3</td></tr><tr><td>qutip</td><td>The 'qutip' distribution was not found and is required by the application</td></tr><tr><td>seaborn</td><td>0.8.0</td></tr><tr><td>scipy</td><td>0.19.1</td></tr><tr><td>sklearn</td><td>0.19.1</td></tr><tr><td>tqdm</td><td>4.19.5</td></tr><tr><td>version_information</td><td>1.0.3</td></tr><tr><td colspan='2'>Mon Apr 23 12:24:00 2018 PDT</td></tr></table>"
      ],
      "text/latex": [
       "\\begin{tabular}{|l|l|}\\hline\n",
       "{\\bf Software} & {\\bf Version} \\\\ \\hline\\hline\n",
       "Python & 2.7.14 64bit [GCC 4.2.1 Compatible Clang 4.0.1 (tags/RELEASE\\_401/final)] \\\\ \\hline\n",
       "IPython & 5.4.1 \\\\ \\hline\n",
       "OS & Darwin 17.3.0 x86\\_64 i386 64bit \\\\ \\hline\n",
       "Cython & 0.26.1 \\\\ \\hline\n",
       "matplotlib & 2.1.0 \\\\ \\hline\n",
       "numpy & 1.13.3 \\\\ \\hline\n",
       "pandas & 0.20.3 \\\\ \\hline\n",
       "qutip & The 'qutip' distribution was not found and is required by the application \\\\ \\hline\n",
       "seaborn & 0.8.0 \\\\ \\hline\n",
       "scipy & 0.19.1 \\\\ \\hline\n",
       "sklearn & 0.19.1 \\\\ \\hline\n",
       "tqdm & 4.19.5 \\\\ \\hline\n",
       "version_information & 1.0.3 \\\\ \\hline\n",
       "\\hline \\multicolumn{2}{|l|}{Mon Apr 23 12:24:00 2018 PDT} \\\\ \\hline\n",
       "\\end{tabular}\n"
      ],
      "text/plain": [
       "Software versions\n",
       "Python 2.7.14 64bit [GCC 4.2.1 Compatible Clang 4.0.1 (tags/RELEASE_401/final)]\n",
       "IPython 5.4.1\n",
       "OS Darwin 17.3.0 x86_64 i386 64bit\n",
       "Cython 0.26.1\n",
       "matplotlib 2.1.0\n",
       "numpy 1.13.3\n",
       "pandas 0.20.3\n",
       "qutip The 'qutip' distribution was not found and is required by the application\n",
       "seaborn 0.8.0\n",
       "scipy 0.19.1\n",
       "sklearn 0.19.1\n",
       "tqdm 4.19.5\n",
       "version_information 1.0.3\n",
       "Mon Apr 23 12:24:00 2018 PDT"
      ]
     },
     "execution_count": 2,
     "metadata": {},
     "output_type": "execute_result"
    }
   ],
   "source": [
    "#https://ipyton.org/ipython-docdex/config/extsions/autoreload.html\n",
    "%reload_ext autoreload\n",
    "%autoreload 2\n",
    "\n",
    "#version information\n",
    "%reload_ext version_information\n",
    "%version_information Cython, matplotlib, numpy, pandas,  qutip, seaborn, scipy, sklearn, tqdm, version_information,\n",
    "\n"
   ]
  },
  {
   "cell_type": "code",
   "execution_count": 3,
   "metadata": {
    "collapsed": true
   },
   "outputs": [],
   "source": [
    "import pandas as pd\n",
    "import numpy as np\n",
    "from tqdm import tqdm\n",
    "import scipy as sp"
   ]
  },
  {
   "cell_type": "markdown",
   "metadata": {},
   "source": [
    "Lets do some data wraggling. We will need to set up martrices to execute a SVD, R=UΣV^T. Normally this is associated with a recommender based on ratings. Here, we will be using the reorder proportions inplace of ratings to predict future reorders. R will be the user reorder matrix. U is user product feature matrix.  Σ is the singular value matrix. V^T is the product feature matrix. "
   ]
  },
  {
   "cell_type": "code",
   "execution_count": 4,
   "metadata": {},
   "outputs": [
    {
     "data": {
      "text/html": [
       "<div>\n",
       "<style>\n",
       "    .dataframe thead tr:only-child th {\n",
       "        text-align: right;\n",
       "    }\n",
       "\n",
       "    .dataframe thead th {\n",
       "        text-align: left;\n",
       "    }\n",
       "\n",
       "    .dataframe tbody tr th {\n",
       "        vertical-align: top;\n",
       "    }\n",
       "</style>\n",
       "<table border=\"1\" class=\"dataframe\">\n",
       "  <thead>\n",
       "    <tr style=\"text-align: right;\">\n",
       "      <th></th>\n",
       "      <th>order_id</th>\n",
       "      <th>user_id</th>\n",
       "      <th>eval_set</th>\n",
       "      <th>order_number</th>\n",
       "      <th>order_dow</th>\n",
       "      <th>order_hour_of_day</th>\n",
       "      <th>days_since_prior_order</th>\n",
       "    </tr>\n",
       "  </thead>\n",
       "  <tbody>\n",
       "    <tr>\n",
       "      <th>0</th>\n",
       "      <td>2539329</td>\n",
       "      <td>1</td>\n",
       "      <td>prior</td>\n",
       "      <td>1</td>\n",
       "      <td>2</td>\n",
       "      <td>8</td>\n",
       "      <td>NaN</td>\n",
       "    </tr>\n",
       "    <tr>\n",
       "      <th>1</th>\n",
       "      <td>2398795</td>\n",
       "      <td>1</td>\n",
       "      <td>prior</td>\n",
       "      <td>2</td>\n",
       "      <td>3</td>\n",
       "      <td>7</td>\n",
       "      <td>15.0</td>\n",
       "    </tr>\n",
       "    <tr>\n",
       "      <th>2</th>\n",
       "      <td>473747</td>\n",
       "      <td>1</td>\n",
       "      <td>prior</td>\n",
       "      <td>3</td>\n",
       "      <td>3</td>\n",
       "      <td>12</td>\n",
       "      <td>21.0</td>\n",
       "    </tr>\n",
       "    <tr>\n",
       "      <th>3</th>\n",
       "      <td>2254736</td>\n",
       "      <td>1</td>\n",
       "      <td>prior</td>\n",
       "      <td>4</td>\n",
       "      <td>4</td>\n",
       "      <td>7</td>\n",
       "      <td>29.0</td>\n",
       "    </tr>\n",
       "    <tr>\n",
       "      <th>4</th>\n",
       "      <td>431534</td>\n",
       "      <td>1</td>\n",
       "      <td>prior</td>\n",
       "      <td>5</td>\n",
       "      <td>4</td>\n",
       "      <td>15</td>\n",
       "      <td>28.0</td>\n",
       "    </tr>\n",
       "    <tr>\n",
       "      <th>5</th>\n",
       "      <td>3367565</td>\n",
       "      <td>1</td>\n",
       "      <td>prior</td>\n",
       "      <td>6</td>\n",
       "      <td>2</td>\n",
       "      <td>7</td>\n",
       "      <td>19.0</td>\n",
       "    </tr>\n",
       "    <tr>\n",
       "      <th>6</th>\n",
       "      <td>550135</td>\n",
       "      <td>1</td>\n",
       "      <td>prior</td>\n",
       "      <td>7</td>\n",
       "      <td>1</td>\n",
       "      <td>9</td>\n",
       "      <td>20.0</td>\n",
       "    </tr>\n",
       "    <tr>\n",
       "      <th>7</th>\n",
       "      <td>3108588</td>\n",
       "      <td>1</td>\n",
       "      <td>prior</td>\n",
       "      <td>8</td>\n",
       "      <td>1</td>\n",
       "      <td>14</td>\n",
       "      <td>14.0</td>\n",
       "    </tr>\n",
       "    <tr>\n",
       "      <th>8</th>\n",
       "      <td>2295261</td>\n",
       "      <td>1</td>\n",
       "      <td>prior</td>\n",
       "      <td>9</td>\n",
       "      <td>1</td>\n",
       "      <td>16</td>\n",
       "      <td>0.0</td>\n",
       "    </tr>\n",
       "    <tr>\n",
       "      <th>9</th>\n",
       "      <td>2550362</td>\n",
       "      <td>1</td>\n",
       "      <td>prior</td>\n",
       "      <td>10</td>\n",
       "      <td>4</td>\n",
       "      <td>8</td>\n",
       "      <td>30.0</td>\n",
       "    </tr>\n",
       "    <tr>\n",
       "      <th>10</th>\n",
       "      <td>1187899</td>\n",
       "      <td>1</td>\n",
       "      <td>train</td>\n",
       "      <td>11</td>\n",
       "      <td>4</td>\n",
       "      <td>8</td>\n",
       "      <td>14.0</td>\n",
       "    </tr>\n",
       "    <tr>\n",
       "      <th>11</th>\n",
       "      <td>2168274</td>\n",
       "      <td>2</td>\n",
       "      <td>prior</td>\n",
       "      <td>1</td>\n",
       "      <td>2</td>\n",
       "      <td>11</td>\n",
       "      <td>NaN</td>\n",
       "    </tr>\n",
       "    <tr>\n",
       "      <th>12</th>\n",
       "      <td>1501582</td>\n",
       "      <td>2</td>\n",
       "      <td>prior</td>\n",
       "      <td>2</td>\n",
       "      <td>5</td>\n",
       "      <td>10</td>\n",
       "      <td>10.0</td>\n",
       "    </tr>\n",
       "    <tr>\n",
       "      <th>13</th>\n",
       "      <td>1901567</td>\n",
       "      <td>2</td>\n",
       "      <td>prior</td>\n",
       "      <td>3</td>\n",
       "      <td>1</td>\n",
       "      <td>10</td>\n",
       "      <td>3.0</td>\n",
       "    </tr>\n",
       "    <tr>\n",
       "      <th>14</th>\n",
       "      <td>738281</td>\n",
       "      <td>2</td>\n",
       "      <td>prior</td>\n",
       "      <td>4</td>\n",
       "      <td>2</td>\n",
       "      <td>10</td>\n",
       "      <td>8.0</td>\n",
       "    </tr>\n",
       "  </tbody>\n",
       "</table>\n",
       "</div>"
      ],
      "text/plain": [
       "    order_id  user_id eval_set  order_number  order_dow  order_hour_of_day  \\\n",
       "0    2539329        1    prior             1          2                  8   \n",
       "1    2398795        1    prior             2          3                  7   \n",
       "2     473747        1    prior             3          3                 12   \n",
       "3    2254736        1    prior             4          4                  7   \n",
       "4     431534        1    prior             5          4                 15   \n",
       "5    3367565        1    prior             6          2                  7   \n",
       "6     550135        1    prior             7          1                  9   \n",
       "7    3108588        1    prior             8          1                 14   \n",
       "8    2295261        1    prior             9          1                 16   \n",
       "9    2550362        1    prior            10          4                  8   \n",
       "10   1187899        1    train            11          4                  8   \n",
       "11   2168274        2    prior             1          2                 11   \n",
       "12   1501582        2    prior             2          5                 10   \n",
       "13   1901567        2    prior             3          1                 10   \n",
       "14    738281        2    prior             4          2                 10   \n",
       "\n",
       "    days_since_prior_order  \n",
       "0                      NaN  \n",
       "1                     15.0  \n",
       "2                     21.0  \n",
       "3                     29.0  \n",
       "4                     28.0  \n",
       "5                     19.0  \n",
       "6                     20.0  \n",
       "7                     14.0  \n",
       "8                      0.0  \n",
       "9                     30.0  \n",
       "10                    14.0  \n",
       "11                     NaN  \n",
       "12                    10.0  \n",
       "13                     3.0  \n",
       "14                     8.0  "
      ]
     },
     "execution_count": 4,
     "metadata": {},
     "output_type": "execute_result"
    }
   ],
   "source": [
    "#loading user order information\n",
    "instacart_file=pd.read_csv('Data/orders.csv')\n",
    "df_orders=pd.DataFrame(instacart_file,)\n",
    "df_orders.head(15)\n"
   ]
  },
  {
   "cell_type": "markdown",
   "metadata": {},
   "source": [
    "Note that the column 'eval_set' breaks down the data into three sets. Details in readme file. What is important to note is that reorders is not provided for the test set (loading into the next dataframe). We there will not be using that set of data. We will add data from the prior set into the train set for are data set. The augmented data set will then be feed into scikit learn model to segregate data into a new train set,cross-validation set, and test set. "
   ]
  },
  {
   "cell_type": "code",
   "execution_count": 5,
   "metadata": {},
   "outputs": [
    {
     "data": {
      "text/plain": [
       "user_id\n",
       "1    11\n",
       "2    15\n",
       "3    13\n",
       "4     6\n",
       "5     5\n",
       "Name: order_number, dtype: int64"
      ]
     },
     "execution_count": 5,
     "metadata": {},
     "output_type": "execute_result"
    }
   ],
   "source": [
    "#build data set \n",
    "user_order_max=df_orders['order_number'].groupby(df_orders['user_id']).max()\n",
    "user_order_max.head()"
   ]
  },
  {
   "cell_type": "code",
   "execution_count": 6,
   "metadata": {},
   "outputs": [
    {
     "data": {
      "text/plain": [
       "206209"
      ]
     },
     "execution_count": 6,
     "metadata": {},
     "output_type": "execute_result"
    }
   ],
   "source": [
    "user_order_max.size"
   ]
  },
  {
   "cell_type": "code",
   "execution_count": 7,
   "metadata": {},
   "outputs": [
    {
     "data": {
      "text/plain": [
       "order_id                  3421083\n",
       "user_id                    206209\n",
       "eval_set                        3\n",
       "order_number                  100\n",
       "order_dow                       7\n",
       "order_hour_of_day              24\n",
       "days_since_prior_order         31\n",
       "dtype: int64"
      ]
     },
     "execution_count": 7,
     "metadata": {},
     "output_type": "execute_result"
    }
   ],
   "source": [
    "df_orders.nunique()"
   ]
  },
  {
   "cell_type": "code",
   "execution_count": 8,
   "metadata": {
    "collapsed": true
   },
   "outputs": [],
   "source": [
    "#capture the last order information for each user\n",
    "g = df_orders.groupby('user_id')\n",
    "data_p1=g.last()"
   ]
  },
  {
   "cell_type": "code",
   "execution_count": 9,
   "metadata": {
    "collapsed": true
   },
   "outputs": [],
   "source": [
    "#capture the second to last order information for each user\n",
    "data_p2=g.nth(-2)\n",
    "test_set=data_p2"
   ]
  },
  {
   "cell_type": "code",
   "execution_count": 10,
   "metadata": {
    "collapsed": true
   },
   "outputs": [],
   "source": [
    "#capture the third to last order information for each user\n",
    "data_p3=g.nth(-3)\n",
    "train_set=data_p3"
   ]
  },
  {
   "cell_type": "markdown",
   "metadata": {},
   "source": [
    "#capture the fourth to last order information for each user\n",
    "data_p4=g.nth(-4)"
   ]
  },
  {
   "cell_type": "markdown",
   "metadata": {},
   "source": [
    "#join all information into one data set\n",
    "data_set=pd.concat([data_p2,data_p3])"
   ]
  },
  {
   "cell_type": "markdown",
   "metadata": {},
   "source": [
    "data_set.groupby(['user_id','order_number','eval_set','order_id']).count()"
   ]
  },
  {
   "cell_type": "markdown",
   "metadata": {},
   "source": [
    "#remove test set from data\n",
    "data_set=data_set[data_set.eval_set != 'test']"
   ]
  },
  {
   "cell_type": "markdown",
   "metadata": {},
   "source": [
    "#set aside new test set\n",
    "test_set=data_set[data_set.eval_set == 'train']\n",
    "test_set.nunique()"
   ]
  },
  {
   "cell_type": "markdown",
   "metadata": {},
   "source": [
    "#assign training set\n",
    "train_set=data_set[data_set.eval_set == 'prior']\n",
    "train_set.reset_index(inplace=True)\n",
    "train_set.nunique()"
   ]
  },
  {
   "cell_type": "code",
   "execution_count": 11,
   "metadata": {
    "collapsed": true
   },
   "outputs": [],
   "source": [
    "## pull in trains set from SVM and Random Forest to train SVD"
   ]
  },
  {
   "cell_type": "code",
   "execution_count": 12,
   "metadata": {},
   "outputs": [
    {
     "data": {
      "text/html": [
       "<div>\n",
       "<style>\n",
       "    .dataframe thead tr:only-child th {\n",
       "        text-align: right;\n",
       "    }\n",
       "\n",
       "    .dataframe thead th {\n",
       "        text-align: left;\n",
       "    }\n",
       "\n",
       "    .dataframe tbody tr th {\n",
       "        vertical-align: top;\n",
       "    }\n",
       "</style>\n",
       "<table border=\"1\" class=\"dataframe\">\n",
       "  <thead>\n",
       "    <tr style=\"text-align: right;\">\n",
       "      <th></th>\n",
       "      <th>user_id</th>\n",
       "    </tr>\n",
       "  </thead>\n",
       "  <tbody>\n",
       "    <tr>\n",
       "      <th>189032</th>\n",
       "      <td>189033</td>\n",
       "    </tr>\n",
       "    <tr>\n",
       "      <th>113006</th>\n",
       "      <td>113007</td>\n",
       "    </tr>\n",
       "    <tr>\n",
       "      <th>40368</th>\n",
       "      <td>40369</td>\n",
       "    </tr>\n",
       "    <tr>\n",
       "      <th>2152</th>\n",
       "      <td>2153</td>\n",
       "    </tr>\n",
       "    <tr>\n",
       "      <th>194849</th>\n",
       "      <td>194850</td>\n",
       "    </tr>\n",
       "  </tbody>\n",
       "</table>\n",
       "</div>"
      ],
      "text/plain": [
       "        user_id\n",
       "189032   189033\n",
       "113006   113007\n",
       "40368     40369\n",
       "2152       2153\n",
       "194849   194850"
      ]
     },
     "execution_count": 12,
     "metadata": {},
     "output_type": "execute_result"
    }
   ],
   "source": [
    "#import user_id for comparision between models in basket notebook\n",
    "%store -r data_svd\n",
    "data_svd.head()"
   ]
  },
  {
   "cell_type": "code",
   "execution_count": 13,
   "metadata": {},
   "outputs": [
    {
     "data": {
      "text/plain": [
       "user_id    50\n",
       "dtype: int64"
      ]
     },
     "execution_count": 13,
     "metadata": {},
     "output_type": "execute_result"
    }
   ],
   "source": [
    "#verify import\n",
    "data_svd.nunique()"
   ]
  },
  {
   "cell_type": "code",
   "execution_count": 14,
   "metadata": {},
   "outputs": [
    {
     "data": {
      "text/plain": [
       "days_since_prior_order    False\n",
       "eval_set                  False\n",
       "order_dow                 False\n",
       "order_hour_of_day         False\n",
       "order_id                  False\n",
       "order_number              False\n",
       "dtype: bool"
      ]
     },
     "execution_count": 14,
     "metadata": {},
     "output_type": "execute_result"
    }
   ],
   "source": [
    "train_set.isnull().any()"
   ]
  },
  {
   "cell_type": "code",
   "execution_count": 15,
   "metadata": {},
   "outputs": [],
   "source": [
    "train_set=train_set.reset_index()"
   ]
  },
  {
   "cell_type": "code",
   "execution_count": 16,
   "metadata": {},
   "outputs": [],
   "source": [
    "#merge training notebook and user_ids from basket notebook\n",
    "train_set_svd= pd.merge( data_svd, train_set, how= 'inner',left_on=\"user_id\", right_on='user_id')"
   ]
  },
  {
   "cell_type": "code",
   "execution_count": 17,
   "metadata": {},
   "outputs": [
    {
     "name": "stdout",
     "output_type": "stream",
     "text": [
      "<class 'pandas.core.frame.DataFrame'>\n",
      "Int64Index: 50 entries, 0 to 49\n",
      "Data columns (total 7 columns):\n",
      "user_id                   50 non-null int64\n",
      "days_since_prior_order    50 non-null float64\n",
      "eval_set                  50 non-null object\n",
      "order_dow                 50 non-null int64\n",
      "order_hour_of_day         50 non-null int64\n",
      "order_id                  50 non-null int64\n",
      "order_number              50 non-null int64\n",
      "dtypes: float64(1), int64(5), object(1)\n",
      "memory usage: 3.1+ KB\n"
     ]
    }
   ],
   "source": [
    "#verify the merge done completely\n",
    "train_set_svd.info()"
   ]
  },
  {
   "cell_type": "code",
   "execution_count": 18,
   "metadata": {},
   "outputs": [
    {
     "data": {
      "text/html": [
       "<div>\n",
       "<style>\n",
       "    .dataframe thead tr:only-child th {\n",
       "        text-align: right;\n",
       "    }\n",
       "\n",
       "    .dataframe thead th {\n",
       "        text-align: left;\n",
       "    }\n",
       "\n",
       "    .dataframe tbody tr th {\n",
       "        vertical-align: top;\n",
       "    }\n",
       "</style>\n",
       "<table border=\"1\" class=\"dataframe\">\n",
       "  <thead>\n",
       "    <tr style=\"text-align: right;\">\n",
       "      <th></th>\n",
       "      <th>user_id</th>\n",
       "      <th>days_since_prior_order</th>\n",
       "      <th>eval_set</th>\n",
       "      <th>order_dow</th>\n",
       "      <th>order_hour_of_day</th>\n",
       "      <th>order_id</th>\n",
       "      <th>order_number</th>\n",
       "    </tr>\n",
       "  </thead>\n",
       "  <tbody>\n",
       "    <tr>\n",
       "      <th>0</th>\n",
       "      <td>189033</td>\n",
       "      <td>7.0</td>\n",
       "      <td>prior</td>\n",
       "      <td>3</td>\n",
       "      <td>9</td>\n",
       "      <td>457273</td>\n",
       "      <td>7</td>\n",
       "    </tr>\n",
       "    <tr>\n",
       "      <th>1</th>\n",
       "      <td>113007</td>\n",
       "      <td>3.0</td>\n",
       "      <td>prior</td>\n",
       "      <td>2</td>\n",
       "      <td>18</td>\n",
       "      <td>2700094</td>\n",
       "      <td>2</td>\n",
       "    </tr>\n",
       "    <tr>\n",
       "      <th>2</th>\n",
       "      <td>40369</td>\n",
       "      <td>30.0</td>\n",
       "      <td>prior</td>\n",
       "      <td>5</td>\n",
       "      <td>18</td>\n",
       "      <td>2746838</td>\n",
       "      <td>15</td>\n",
       "    </tr>\n",
       "    <tr>\n",
       "      <th>3</th>\n",
       "      <td>2153</td>\n",
       "      <td>0.0</td>\n",
       "      <td>prior</td>\n",
       "      <td>4</td>\n",
       "      <td>19</td>\n",
       "      <td>1407512</td>\n",
       "      <td>16</td>\n",
       "    </tr>\n",
       "    <tr>\n",
       "      <th>4</th>\n",
       "      <td>194850</td>\n",
       "      <td>6.0</td>\n",
       "      <td>prior</td>\n",
       "      <td>2</td>\n",
       "      <td>14</td>\n",
       "      <td>69123</td>\n",
       "      <td>63</td>\n",
       "    </tr>\n",
       "  </tbody>\n",
       "</table>\n",
       "</div>"
      ],
      "text/plain": [
       "   user_id  days_since_prior_order eval_set  order_dow  order_hour_of_day  \\\n",
       "0   189033                     7.0    prior          3                  9   \n",
       "1   113007                     3.0    prior          2                 18   \n",
       "2    40369                    30.0    prior          5                 18   \n",
       "3     2153                     0.0    prior          4                 19   \n",
       "4   194850                     6.0    prior          2                 14   \n",
       "\n",
       "   order_id  order_number  \n",
       "0    457273             7  \n",
       "1   2700094             2  \n",
       "2   2746838            15  \n",
       "3   1407512            16  \n",
       "4     69123            63  "
      ]
     },
     "execution_count": 18,
     "metadata": {},
     "output_type": "execute_result"
    }
   ],
   "source": [
    "train_set_svd.head()"
   ]
  },
  {
   "cell_type": "code",
   "execution_count": 19,
   "metadata": {},
   "outputs": [
    {
     "data": {
      "text/plain": [
       "user_id                   50\n",
       "days_since_prior_order    19\n",
       "eval_set                   1\n",
       "order_dow                  7\n",
       "order_hour_of_day         15\n",
       "order_id                  50\n",
       "order_number              23\n",
       "dtype: int64"
      ]
     },
     "execution_count": 19,
     "metadata": {},
     "output_type": "execute_result"
    }
   ],
   "source": [
    "train_set_svd.nunique()"
   ]
  },
  {
   "cell_type": "markdown",
   "metadata": {},
   "source": [
    "# SVD\n",
    "Now that the data is set up. Lets set up the mechanics for SVD. In short we will need to wraggle our data into dataframes to feed into scripy model. Recall the basic set up is   R=UΣV^T. R we want to be user_id as the index, product_id as the column and reorder rates for users by product as the value.  "
   ]
  },
  {
   "cell_type": "code",
   "execution_count": 20,
   "metadata": {},
   "outputs": [
    {
     "data": {
      "text/html": [
       "<div>\n",
       "<style>\n",
       "    .dataframe thead tr:only-child th {\n",
       "        text-align: right;\n",
       "    }\n",
       "\n",
       "    .dataframe thead th {\n",
       "        text-align: left;\n",
       "    }\n",
       "\n",
       "    .dataframe tbody tr th {\n",
       "        vertical-align: top;\n",
       "    }\n",
       "</style>\n",
       "<table border=\"1\" class=\"dataframe\">\n",
       "  <thead>\n",
       "    <tr style=\"text-align: right;\">\n",
       "      <th></th>\n",
       "      <th>order_id</th>\n",
       "      <th>product_id</th>\n",
       "      <th>add_to_cart_order</th>\n",
       "      <th>reordered</th>\n",
       "    </tr>\n",
       "  </thead>\n",
       "  <tbody>\n",
       "    <tr>\n",
       "      <th>0</th>\n",
       "      <td>2</td>\n",
       "      <td>33120</td>\n",
       "      <td>1</td>\n",
       "      <td>1</td>\n",
       "    </tr>\n",
       "    <tr>\n",
       "      <th>1</th>\n",
       "      <td>2</td>\n",
       "      <td>28985</td>\n",
       "      <td>2</td>\n",
       "      <td>1</td>\n",
       "    </tr>\n",
       "    <tr>\n",
       "      <th>2</th>\n",
       "      <td>2</td>\n",
       "      <td>9327</td>\n",
       "      <td>3</td>\n",
       "      <td>0</td>\n",
       "    </tr>\n",
       "    <tr>\n",
       "      <th>3</th>\n",
       "      <td>2</td>\n",
       "      <td>45918</td>\n",
       "      <td>4</td>\n",
       "      <td>1</td>\n",
       "    </tr>\n",
       "    <tr>\n",
       "      <th>4</th>\n",
       "      <td>2</td>\n",
       "      <td>30035</td>\n",
       "      <td>5</td>\n",
       "      <td>0</td>\n",
       "    </tr>\n",
       "  </tbody>\n",
       "</table>\n",
       "</div>"
      ],
      "text/plain": [
       "   order_id  product_id  add_to_cart_order  reordered\n",
       "0         2       33120                  1          1\n",
       "1         2       28985                  2          1\n",
       "2         2        9327                  3          0\n",
       "3         2       45918                  4          1\n",
       "4         2       30035                  5          0"
      ]
     },
     "execution_count": 20,
     "metadata": {},
     "output_type": "execute_result"
    }
   ],
   "source": [
    "#loading product reorder information\n",
    "instacart_file2=pd.read_csv('Data/order_products__prior.csv')\n",
    "df_prod_orders=pd.DataFrame(instacart_file2,)\n",
    "df_prod_orders.head()\n"
   ]
  },
  {
   "cell_type": "code",
   "execution_count": 21,
   "metadata": {
    "scrolled": true
   },
   "outputs": [
    {
     "data": {
      "text/html": [
       "<div>\n",
       "<style>\n",
       "    .dataframe thead tr:only-child th {\n",
       "        text-align: right;\n",
       "    }\n",
       "\n",
       "    .dataframe thead th {\n",
       "        text-align: left;\n",
       "    }\n",
       "\n",
       "    .dataframe tbody tr th {\n",
       "        vertical-align: top;\n",
       "    }\n",
       "</style>\n",
       "<table border=\"1\" class=\"dataframe\">\n",
       "  <thead>\n",
       "    <tr style=\"text-align: right;\">\n",
       "      <th></th>\n",
       "      <th>product_id</th>\n",
       "      <th>product_name</th>\n",
       "      <th>aisle_id</th>\n",
       "      <th>department_id</th>\n",
       "    </tr>\n",
       "  </thead>\n",
       "  <tbody>\n",
       "    <tr>\n",
       "      <th>0</th>\n",
       "      <td>1</td>\n",
       "      <td>Chocolate Sandwich Cookies</td>\n",
       "      <td>61</td>\n",
       "      <td>19</td>\n",
       "    </tr>\n",
       "    <tr>\n",
       "      <th>1</th>\n",
       "      <td>2</td>\n",
       "      <td>All-Seasons Salt</td>\n",
       "      <td>104</td>\n",
       "      <td>13</td>\n",
       "    </tr>\n",
       "    <tr>\n",
       "      <th>2</th>\n",
       "      <td>3</td>\n",
       "      <td>Robust Golden Unsweetened Oolong Tea</td>\n",
       "      <td>94</td>\n",
       "      <td>7</td>\n",
       "    </tr>\n",
       "    <tr>\n",
       "      <th>3</th>\n",
       "      <td>4</td>\n",
       "      <td>Smart Ones Classic Favorites Mini Rigatoni Wit...</td>\n",
       "      <td>38</td>\n",
       "      <td>1</td>\n",
       "    </tr>\n",
       "    <tr>\n",
       "      <th>4</th>\n",
       "      <td>5</td>\n",
       "      <td>Green Chile Anytime Sauce</td>\n",
       "      <td>5</td>\n",
       "      <td>13</td>\n",
       "    </tr>\n",
       "  </tbody>\n",
       "</table>\n",
       "</div>"
      ],
      "text/plain": [
       "   product_id                                       product_name  aisle_id  \\\n",
       "0           1                         Chocolate Sandwich Cookies        61   \n",
       "1           2                                   All-Seasons Salt       104   \n",
       "2           3               Robust Golden Unsweetened Oolong Tea        94   \n",
       "3           4  Smart Ones Classic Favorites Mini Rigatoni Wit...        38   \n",
       "4           5                          Green Chile Anytime Sauce         5   \n",
       "\n",
       "   department_id  \n",
       "0             19  \n",
       "1             13  \n",
       "2              7  \n",
       "3              1  \n",
       "4             13  "
      ]
     },
     "execution_count": 21,
     "metadata": {},
     "output_type": "execute_result"
    }
   ],
   "source": [
    "#loading information for product names\n",
    "instacart_products=pd.read_csv('Data/products.csv')\n",
    "df_prod=pd.DataFrame(instacart_products,)\n",
    "df_prod.head()"
   ]
  },
  {
   "cell_type": "code",
   "execution_count": 22,
   "metadata": {
    "collapsed": true
   },
   "outputs": [],
   "source": [
    "#merge dataframes to get user_id with product_id and reorder in same dataframe\n",
    "#use inner to get the intersection in order to preserve test set\n",
    "df_user_order_prod=pd.merge( df_prod_orders, train_set_svd, how= 'inner',left_on=\"order_id\", right_on='order_id')"
   ]
  },
  {
   "cell_type": "code",
   "execution_count": 23,
   "metadata": {},
   "outputs": [
    {
     "data": {
      "text/plain": [
       "order_id                   50\n",
       "product_id                403\n",
       "add_to_cart_order          25\n",
       "reordered                   2\n",
       "user_id                    50\n",
       "days_since_prior_order     19\n",
       "eval_set                    1\n",
       "order_dow                   7\n",
       "order_hour_of_day          15\n",
       "order_number               23\n",
       "dtype: int64"
      ]
     },
     "execution_count": 23,
     "metadata": {},
     "output_type": "execute_result"
    }
   ],
   "source": [
    "df_user_order_prod.nunique()"
   ]
  },
  {
   "cell_type": "markdown",
   "metadata": {},
   "source": [
    "We will want to get reorder rates for user by product."
   ]
  },
  {
   "cell_type": "code",
   "execution_count": 24,
   "metadata": {},
   "outputs": [
    {
     "data": {
      "text/plain": [
       "user_id  product_id\n",
       "206054   35504         1\n",
       "65387    1463          1\n",
       "62267    9839          1\n",
       "         14992         1\n",
       "         16349         1\n",
       "dtype: int64"
      ]
     },
     "execution_count": 24,
     "metadata": {},
     "output_type": "execute_result"
    }
   ],
   "source": [
    "#count number of product purchases by user\n",
    "user_products_total=df_user_order_prod.groupby(['user_id','product_id']).size().sort_values(ascending=False)\n",
    "user_products_total.head()"
   ]
  },
  {
   "cell_type": "code",
   "execution_count": 25,
   "metadata": {},
   "outputs": [
    {
     "data": {
      "text/plain": [
       "user_id  product_id\n",
       "206054   35504         1\n",
       "65387    29311         1\n",
       "74630    11520         1\n",
       "75527    5750          1\n",
       "         20842         1\n",
       "Name: reordered, dtype: int64"
      ]
     },
     "execution_count": 25,
     "metadata": {},
     "output_type": "execute_result"
    }
   ],
   "source": [
    "#count number of reorders for user by product\n",
    "user_item_reorders=df_user_order_prod['reordered'].groupby([df_user_order_prod['user_id'],df_user_order_prod['product_id']]).sum().sort_values(ascending=False)\n",
    "user_item_reorders.head()"
   ]
  },
  {
   "cell_type": "code",
   "execution_count": 26,
   "metadata": {},
   "outputs": [
    {
     "data": {
      "text/plain": [
       "user_id  product_id\n",
       "2153     4066          1.0\n",
       "         27796         1.0\n",
       "         34668         1.0\n",
       "13131    3321          1.0\n",
       "         5258          0.0\n",
       "dtype: float64"
      ]
     },
     "execution_count": 26,
     "metadata": {},
     "output_type": "execute_result"
    }
   ],
   "source": [
    "#calculate reorder rate for user by product\n",
    "user_item_reorder_rate=user_item_reorders/user_products_total\n",
    "user_item_reorder_rate.rename(columns={0:'reorder_rate'})\n",
    "user_item_reorder_rate.head()"
   ]
  },
  {
   "cell_type": "code",
   "execution_count": 27,
   "metadata": {},
   "outputs": [
    {
     "name": "stdout",
     "output_type": "stream",
     "text": [
      "                    prod_order_count\n",
      "user_id product_id                  \n",
      "206054  35504                      1\n",
      "65387   1463                       1\n",
      "62267   9839                       1\n",
      "        14992                      1\n",
      "        16349                      1\n",
      "                    prod_reorder_rate\n",
      "user_id product_id                   \n",
      "2153    4066                      1.0\n",
      "        27796                     1.0\n",
      "        34668                     1.0\n",
      "13131   3321                      1.0\n",
      "        5258                      0.0\n"
     ]
    }
   ],
   "source": [
    "#move series into dataframe and rename columns\n",
    "df_upr=pd.DataFrame(user_products_total,columns=['prod_order_count'])\n",
    "df_ur=pd.DataFrame(user_item_reorder_rate,columns=['prod_reorder_rate'])\n",
    "print(df_upr.head())\n",
    "print(df_ur.head())\n",
    "#pd.merge(df_upr.reset_index(), df_ur.reset_index(), on=['user_id'], how='inner').set_index(['user_id','product_id'])"
   ]
  },
  {
   "cell_type": "code",
   "execution_count": 28,
   "metadata": {
    "collapsed": true
   },
   "outputs": [],
   "source": [
    "#join into singe dataframe\n",
    "df_rates=pd.concat([df_upr, df_ur], axis=1)\n"
   ]
  },
  {
   "cell_type": "code",
   "execution_count": 29,
   "metadata": {},
   "outputs": [
    {
     "data": {
      "text/html": [
       "<div>\n",
       "<style>\n",
       "    .dataframe thead tr:only-child th {\n",
       "        text-align: right;\n",
       "    }\n",
       "\n",
       "    .dataframe thead th {\n",
       "        text-align: left;\n",
       "    }\n",
       "\n",
       "    .dataframe tbody tr th {\n",
       "        vertical-align: top;\n",
       "    }\n",
       "</style>\n",
       "<table border=\"1\" class=\"dataframe\">\n",
       "  <thead>\n",
       "    <tr style=\"text-align: right;\">\n",
       "      <th></th>\n",
       "      <th></th>\n",
       "      <th>prod_order_count</th>\n",
       "      <th>prod_reorder_rate</th>\n",
       "    </tr>\n",
       "    <tr>\n",
       "      <th>user_id</th>\n",
       "      <th>product_id</th>\n",
       "      <th></th>\n",
       "      <th></th>\n",
       "    </tr>\n",
       "  </thead>\n",
       "  <tbody>\n",
       "    <tr>\n",
       "      <th rowspan=\"3\" valign=\"top\">2153</th>\n",
       "      <th>4066</th>\n",
       "      <td>1</td>\n",
       "      <td>1.0</td>\n",
       "    </tr>\n",
       "    <tr>\n",
       "      <th>27796</th>\n",
       "      <td>1</td>\n",
       "      <td>1.0</td>\n",
       "    </tr>\n",
       "    <tr>\n",
       "      <th>34668</th>\n",
       "      <td>1</td>\n",
       "      <td>1.0</td>\n",
       "    </tr>\n",
       "    <tr>\n",
       "      <th rowspan=\"15\" valign=\"top\">13131</th>\n",
       "      <th>3321</th>\n",
       "      <td>1</td>\n",
       "      <td>1.0</td>\n",
       "    </tr>\n",
       "    <tr>\n",
       "      <th>5258</th>\n",
       "      <td>1</td>\n",
       "      <td>0.0</td>\n",
       "    </tr>\n",
       "    <tr>\n",
       "      <th>9766</th>\n",
       "      <td>1</td>\n",
       "      <td>0.0</td>\n",
       "    </tr>\n",
       "    <tr>\n",
       "      <th>9839</th>\n",
       "      <td>1</td>\n",
       "      <td>1.0</td>\n",
       "    </tr>\n",
       "    <tr>\n",
       "      <th>14141</th>\n",
       "      <td>1</td>\n",
       "      <td>1.0</td>\n",
       "    </tr>\n",
       "    <tr>\n",
       "      <th>14947</th>\n",
       "      <td>1</td>\n",
       "      <td>1.0</td>\n",
       "    </tr>\n",
       "    <tr>\n",
       "      <th>19660</th>\n",
       "      <td>1</td>\n",
       "      <td>1.0</td>\n",
       "    </tr>\n",
       "    <tr>\n",
       "      <th>21903</th>\n",
       "      <td>1</td>\n",
       "      <td>1.0</td>\n",
       "    </tr>\n",
       "    <tr>\n",
       "      <th>23126</th>\n",
       "      <td>1</td>\n",
       "      <td>1.0</td>\n",
       "    </tr>\n",
       "    <tr>\n",
       "      <th>28020</th>\n",
       "      <td>1</td>\n",
       "      <td>1.0</td>\n",
       "    </tr>\n",
       "    <tr>\n",
       "      <th>41950</th>\n",
       "      <td>1</td>\n",
       "      <td>0.0</td>\n",
       "    </tr>\n",
       "    <tr>\n",
       "      <th>45303</th>\n",
       "      <td>1</td>\n",
       "      <td>1.0</td>\n",
       "    </tr>\n",
       "    <tr>\n",
       "      <th>47766</th>\n",
       "      <td>1</td>\n",
       "      <td>1.0</td>\n",
       "    </tr>\n",
       "    <tr>\n",
       "      <th>48238</th>\n",
       "      <td>1</td>\n",
       "      <td>1.0</td>\n",
       "    </tr>\n",
       "    <tr>\n",
       "      <th>48848</th>\n",
       "      <td>1</td>\n",
       "      <td>1.0</td>\n",
       "    </tr>\n",
       "    <tr>\n",
       "      <th rowspan=\"2\" valign=\"top\">16354</th>\n",
       "      <th>432</th>\n",
       "      <td>1</td>\n",
       "      <td>1.0</td>\n",
       "    </tr>\n",
       "    <tr>\n",
       "      <th>1360</th>\n",
       "      <td>1</td>\n",
       "      <td>1.0</td>\n",
       "    </tr>\n",
       "  </tbody>\n",
       "</table>\n",
       "</div>"
      ],
      "text/plain": [
       "                    prod_order_count  prod_reorder_rate\n",
       "user_id product_id                                     \n",
       "2153    4066                       1                1.0\n",
       "        27796                      1                1.0\n",
       "        34668                      1                1.0\n",
       "13131   3321                       1                1.0\n",
       "        5258                       1                0.0\n",
       "        9766                       1                0.0\n",
       "        9839                       1                1.0\n",
       "        14141                      1                1.0\n",
       "        14947                      1                1.0\n",
       "        19660                      1                1.0\n",
       "        21903                      1                1.0\n",
       "        23126                      1                1.0\n",
       "        28020                      1                1.0\n",
       "        41950                      1                0.0\n",
       "        45303                      1                1.0\n",
       "        47766                      1                1.0\n",
       "        48238                      1                1.0\n",
       "        48848                      1                1.0\n",
       "16354   432                        1                1.0\n",
       "        1360                       1                1.0"
      ]
     },
     "execution_count": 29,
     "metadata": {},
     "output_type": "execute_result"
    }
   ],
   "source": [
    "df_rates.head(20)"
   ]
  },
  {
   "cell_type": "markdown",
   "metadata": {},
   "source": [
    "We want products to be the columns, user_id the rows, and the values to be the reorder rate. This will be R, user reorder matrix, for SVD. (after we normalize)"
   ]
  },
  {
   "cell_type": "code",
   "execution_count": 30,
   "metadata": {},
   "outputs": [
    {
     "data": {
      "text/html": [
       "<div>\n",
       "<style>\n",
       "    .dataframe thead tr:only-child th {\n",
       "        text-align: right;\n",
       "    }\n",
       "\n",
       "    .dataframe thead th {\n",
       "        text-align: left;\n",
       "    }\n",
       "\n",
       "    .dataframe tbody tr th {\n",
       "        vertical-align: top;\n",
       "    }\n",
       "</style>\n",
       "<table border=\"1\" class=\"dataframe\">\n",
       "  <thead>\n",
       "    <tr style=\"text-align: right;\">\n",
       "      <th>product_id</th>\n",
       "      <th>20</th>\n",
       "      <th>264</th>\n",
       "      <th>432</th>\n",
       "      <th>630</th>\n",
       "      <th>940</th>\n",
       "      <th>1227</th>\n",
       "      <th>1360</th>\n",
       "      <th>1463</th>\n",
       "      <th>1722</th>\n",
       "      <th>1858</th>\n",
       "      <th>...</th>\n",
       "      <th>48716</th>\n",
       "      <th>48848</th>\n",
       "      <th>48857</th>\n",
       "      <th>49044</th>\n",
       "      <th>49175</th>\n",
       "      <th>49191</th>\n",
       "      <th>49198</th>\n",
       "      <th>49215</th>\n",
       "      <th>49318</th>\n",
       "      <th>49383</th>\n",
       "    </tr>\n",
       "    <tr>\n",
       "      <th>user_id</th>\n",
       "      <th></th>\n",
       "      <th></th>\n",
       "      <th></th>\n",
       "      <th></th>\n",
       "      <th></th>\n",
       "      <th></th>\n",
       "      <th></th>\n",
       "      <th></th>\n",
       "      <th></th>\n",
       "      <th></th>\n",
       "      <th></th>\n",
       "      <th></th>\n",
       "      <th></th>\n",
       "      <th></th>\n",
       "      <th></th>\n",
       "      <th></th>\n",
       "      <th></th>\n",
       "      <th></th>\n",
       "      <th></th>\n",
       "      <th></th>\n",
       "      <th></th>\n",
       "    </tr>\n",
       "  </thead>\n",
       "  <tbody>\n",
       "    <tr>\n",
       "      <th>2153</th>\n",
       "      <td>NaN</td>\n",
       "      <td>NaN</td>\n",
       "      <td>NaN</td>\n",
       "      <td>NaN</td>\n",
       "      <td>NaN</td>\n",
       "      <td>NaN</td>\n",
       "      <td>NaN</td>\n",
       "      <td>NaN</td>\n",
       "      <td>NaN</td>\n",
       "      <td>NaN</td>\n",
       "      <td>...</td>\n",
       "      <td>NaN</td>\n",
       "      <td>NaN</td>\n",
       "      <td>NaN</td>\n",
       "      <td>NaN</td>\n",
       "      <td>NaN</td>\n",
       "      <td>NaN</td>\n",
       "      <td>NaN</td>\n",
       "      <td>NaN</td>\n",
       "      <td>NaN</td>\n",
       "      <td>NaN</td>\n",
       "    </tr>\n",
       "    <tr>\n",
       "      <th>13131</th>\n",
       "      <td>NaN</td>\n",
       "      <td>NaN</td>\n",
       "      <td>NaN</td>\n",
       "      <td>NaN</td>\n",
       "      <td>NaN</td>\n",
       "      <td>NaN</td>\n",
       "      <td>NaN</td>\n",
       "      <td>NaN</td>\n",
       "      <td>NaN</td>\n",
       "      <td>NaN</td>\n",
       "      <td>...</td>\n",
       "      <td>NaN</td>\n",
       "      <td>1.0</td>\n",
       "      <td>NaN</td>\n",
       "      <td>NaN</td>\n",
       "      <td>NaN</td>\n",
       "      <td>NaN</td>\n",
       "      <td>NaN</td>\n",
       "      <td>NaN</td>\n",
       "      <td>NaN</td>\n",
       "      <td>NaN</td>\n",
       "    </tr>\n",
       "    <tr>\n",
       "      <th>16354</th>\n",
       "      <td>NaN</td>\n",
       "      <td>NaN</td>\n",
       "      <td>1.0</td>\n",
       "      <td>NaN</td>\n",
       "      <td>NaN</td>\n",
       "      <td>NaN</td>\n",
       "      <td>1.0</td>\n",
       "      <td>NaN</td>\n",
       "      <td>NaN</td>\n",
       "      <td>NaN</td>\n",
       "      <td>...</td>\n",
       "      <td>NaN</td>\n",
       "      <td>NaN</td>\n",
       "      <td>NaN</td>\n",
       "      <td>NaN</td>\n",
       "      <td>NaN</td>\n",
       "      <td>1.0</td>\n",
       "      <td>NaN</td>\n",
       "      <td>NaN</td>\n",
       "      <td>NaN</td>\n",
       "      <td>NaN</td>\n",
       "    </tr>\n",
       "    <tr>\n",
       "      <th>21414</th>\n",
       "      <td>NaN</td>\n",
       "      <td>NaN</td>\n",
       "      <td>NaN</td>\n",
       "      <td>NaN</td>\n",
       "      <td>NaN</td>\n",
       "      <td>NaN</td>\n",
       "      <td>NaN</td>\n",
       "      <td>NaN</td>\n",
       "      <td>NaN</td>\n",
       "      <td>NaN</td>\n",
       "      <td>...</td>\n",
       "      <td>NaN</td>\n",
       "      <td>NaN</td>\n",
       "      <td>NaN</td>\n",
       "      <td>NaN</td>\n",
       "      <td>NaN</td>\n",
       "      <td>NaN</td>\n",
       "      <td>NaN</td>\n",
       "      <td>NaN</td>\n",
       "      <td>NaN</td>\n",
       "      <td>NaN</td>\n",
       "    </tr>\n",
       "    <tr>\n",
       "      <th>28328</th>\n",
       "      <td>NaN</td>\n",
       "      <td>NaN</td>\n",
       "      <td>NaN</td>\n",
       "      <td>NaN</td>\n",
       "      <td>NaN</td>\n",
       "      <td>NaN</td>\n",
       "      <td>NaN</td>\n",
       "      <td>NaN</td>\n",
       "      <td>NaN</td>\n",
       "      <td>NaN</td>\n",
       "      <td>...</td>\n",
       "      <td>NaN</td>\n",
       "      <td>NaN</td>\n",
       "      <td>NaN</td>\n",
       "      <td>NaN</td>\n",
       "      <td>NaN</td>\n",
       "      <td>NaN</td>\n",
       "      <td>NaN</td>\n",
       "      <td>NaN</td>\n",
       "      <td>NaN</td>\n",
       "      <td>NaN</td>\n",
       "    </tr>\n",
       "  </tbody>\n",
       "</table>\n",
       "<p>5 rows × 403 columns</p>\n",
       "</div>"
      ],
      "text/plain": [
       "product_id  20     264    432    630    940    1227   1360   1463   1722   \\\n",
       "user_id                                                                     \n",
       "2153          NaN    NaN    NaN    NaN    NaN    NaN    NaN    NaN    NaN   \n",
       "13131         NaN    NaN    NaN    NaN    NaN    NaN    NaN    NaN    NaN   \n",
       "16354         NaN    NaN    1.0    NaN    NaN    NaN    1.0    NaN    NaN   \n",
       "21414         NaN    NaN    NaN    NaN    NaN    NaN    NaN    NaN    NaN   \n",
       "28328         NaN    NaN    NaN    NaN    NaN    NaN    NaN    NaN    NaN   \n",
       "\n",
       "product_id  1858   ...    48716  48848  48857  49044  49175  49191  49198  \\\n",
       "user_id            ...                                                      \n",
       "2153          NaN  ...      NaN    NaN    NaN    NaN    NaN    NaN    NaN   \n",
       "13131         NaN  ...      NaN    1.0    NaN    NaN    NaN    NaN    NaN   \n",
       "16354         NaN  ...      NaN    NaN    NaN    NaN    NaN    1.0    NaN   \n",
       "21414         NaN  ...      NaN    NaN    NaN    NaN    NaN    NaN    NaN   \n",
       "28328         NaN  ...      NaN    NaN    NaN    NaN    NaN    NaN    NaN   \n",
       "\n",
       "product_id  49215  49318  49383  \n",
       "user_id                          \n",
       "2153          NaN    NaN    NaN  \n",
       "13131         NaN    NaN    NaN  \n",
       "16354         NaN    NaN    NaN  \n",
       "21414         NaN    NaN    NaN  \n",
       "28328         NaN    NaN    NaN  \n",
       "\n",
       "[5 rows x 403 columns]"
      ]
     },
     "execution_count": 30,
     "metadata": {},
     "output_type": "execute_result"
    }
   ],
   "source": [
    "#reset dataframe in order to pivot product_id to columns, user_id to index, and reorder rate to values.\n",
    "df_reorders=df_rates.reset_index().pivot(index='user_id', columns='product_id', values='prod_reorder_rate')\n",
    "df_reorders.head()"
   ]
  },
  {
   "cell_type": "code",
   "execution_count": 31,
   "metadata": {
    "collapsed": true
   },
   "outputs": [],
   "source": [
    "#fill NaN with 0 \n",
    "df_reorders=df_reorders.fillna(0)"
   ]
  },
  {
   "cell_type": "code",
   "execution_count": 32,
   "metadata": {},
   "outputs": [
    {
     "data": {
      "text/plain": [
       "<bound method DataFrame.info of product_id  20     264    432    630    940    1227   1360   1463   1722   \\\n",
       "user_id                                                                     \n",
       "2153          0.0    0.0    0.0    0.0    0.0    0.0    0.0    0.0    0.0   \n",
       "13131         0.0    0.0    0.0    0.0    0.0    0.0    0.0    0.0    0.0   \n",
       "16354         0.0    0.0    1.0    0.0    0.0    0.0    1.0    0.0    0.0   \n",
       "21414         0.0    0.0    0.0    0.0    0.0    0.0    0.0    0.0    0.0   \n",
       "28328         0.0    0.0    0.0    0.0    0.0    0.0    0.0    0.0    0.0   \n",
       "30124         0.0    0.0    0.0    0.0    0.0    0.0    0.0    0.0    0.0   \n",
       "35942         0.0    0.0    0.0    0.0    0.0    0.0    0.0    0.0    0.0   \n",
       "36449         0.0    0.0    0.0    0.0    0.0    0.0    0.0    0.0    0.0   \n",
       "37301         0.0    0.0    0.0    0.0    0.0    0.0    0.0    0.0    0.0   \n",
       "40369         0.0    0.0    0.0    0.0    0.0    0.0    0.0    0.0    0.0   \n",
       "51578         0.0    0.0    0.0    0.0    0.0    0.0    0.0    0.0    0.0   \n",
       "53702         0.0    0.0    0.0    0.0    0.0    0.0    0.0    1.0    0.0   \n",
       "55419         0.0    0.0    0.0    1.0    0.0    0.0    0.0    0.0    0.0   \n",
       "58648         0.0    0.0    0.0    0.0    0.0    0.0    0.0    0.0    0.0   \n",
       "62267         0.0    0.0    0.0    0.0    0.0    0.0    0.0    0.0    0.0   \n",
       "65387         0.0    0.0    0.0    0.0    0.0    0.0    0.0    1.0    1.0   \n",
       "74630         0.0    0.0    0.0    0.0    0.0    0.0    0.0    0.0    0.0   \n",
       "75527         0.0    0.0    0.0    0.0    0.0    0.0    0.0    0.0    0.0   \n",
       "75779         0.0    0.0    0.0    0.0    0.0    0.0    0.0    0.0    0.0   \n",
       "92090         0.0    0.0    0.0    0.0    0.0    0.0    0.0    0.0    0.0   \n",
       "94506         0.0    0.0    0.0    0.0    0.0    0.0    0.0    0.0    0.0   \n",
       "105795        0.0    0.0    0.0    0.0    0.0    0.0    0.0    0.0    0.0   \n",
       "105969        0.0    0.0    0.0    0.0    0.0    0.0    0.0    0.0    0.0   \n",
       "112460        0.0    0.0    0.0    0.0    0.0    0.0    0.0    0.0    0.0   \n",
       "112585        0.0    0.0    0.0    0.0    0.0    0.0    0.0    0.0    0.0   \n",
       "113007        0.0    0.0    0.0    0.0    0.0    0.0    0.0    0.0    0.0   \n",
       "118532        0.0    0.0    0.0    0.0    0.0    0.0    0.0    0.0    0.0   \n",
       "118698        0.0    0.0    0.0    0.0    0.0    0.0    0.0    0.0    0.0   \n",
       "122019        0.0    0.0    0.0    0.0    0.0    0.0    0.0    0.0    0.0   \n",
       "126360        0.0    0.0    0.0    0.0    0.0    0.0    0.0    0.0    0.0   \n",
       "130039        0.0    0.0    0.0    0.0    1.0    0.0    0.0    0.0    0.0   \n",
       "134009        0.0    0.0    0.0    0.0    0.0    0.0    0.0    0.0    0.0   \n",
       "134789        0.0    0.0    0.0    0.0    0.0    0.0    0.0    0.0    0.0   \n",
       "139707        0.0    0.0    0.0    0.0    0.0    0.0    0.0    0.0    0.0   \n",
       "148324        0.0    0.0    0.0    0.0    0.0    0.0    0.0    0.0    0.0   \n",
       "149179        0.0    0.0    0.0    0.0    0.0    0.0    0.0    0.0    0.0   \n",
       "149720        0.0    0.0    0.0    0.0    0.0    0.0    0.0    0.0    0.0   \n",
       "151683        0.0    0.0    0.0    0.0    0.0    0.0    0.0    0.0    0.0   \n",
       "152083        0.0    0.0    0.0    0.0    0.0    0.0    0.0    0.0    0.0   \n",
       "168326        0.0    0.0    0.0    0.0    0.0    0.0    0.0    0.0    0.0   \n",
       "170667        0.0    0.0    0.0    0.0    0.0    0.0    0.0    0.0    0.0   \n",
       "187455        0.0    0.0    0.0    0.0    0.0    0.0    0.0    0.0    0.0   \n",
       "187888        0.0    0.0    0.0    0.0    0.0    0.0    0.0    0.0    0.0   \n",
       "189033        0.0    0.0    0.0    0.0    0.0    0.0    0.0    0.0    0.0   \n",
       "193107        0.0    0.0    0.0    0.0    0.0    0.0    0.0    0.0    0.0   \n",
       "194202        0.0    0.0    0.0    0.0    0.0    0.0    0.0    1.0    0.0   \n",
       "194850        0.0    0.0    0.0    0.0    0.0    0.0    0.0    0.0    0.0   \n",
       "203190        0.0    0.0    0.0    0.0    0.0    0.0    0.0    0.0    0.0   \n",
       "204656        0.0    0.0    0.0    0.0    0.0    0.0    0.0    0.0    0.0   \n",
       "206054        0.0    0.0    0.0    0.0    0.0    0.0    0.0    0.0    0.0   \n",
       "\n",
       "product_id  1858   ...    48716  48848  48857  49044  49175  49191  49198  \\\n",
       "user_id            ...                                                      \n",
       "2153          0.0  ...      0.0    0.0    0.0    0.0    0.0    0.0    0.0   \n",
       "13131         0.0  ...      0.0    1.0    0.0    0.0    0.0    0.0    0.0   \n",
       "16354         0.0  ...      0.0    0.0    0.0    0.0    0.0    1.0    0.0   \n",
       "21414         0.0  ...      0.0    0.0    0.0    0.0    0.0    0.0    0.0   \n",
       "28328         0.0  ...      0.0    0.0    0.0    0.0    0.0    0.0    0.0   \n",
       "30124         0.0  ...      0.0    0.0    0.0    0.0    0.0    0.0    0.0   \n",
       "35942         0.0  ...      0.0    0.0    0.0    0.0    0.0    0.0    0.0   \n",
       "36449         0.0  ...      0.0    0.0    0.0    0.0    0.0    0.0    0.0   \n",
       "37301         0.0  ...      0.0    0.0    0.0    0.0    0.0    0.0    0.0   \n",
       "40369         0.0  ...      1.0    0.0    0.0    0.0    0.0    0.0    0.0   \n",
       "51578         0.0  ...      0.0    0.0    0.0    0.0    0.0    0.0    0.0   \n",
       "53702         0.0  ...      0.0    0.0    0.0    0.0    0.0    0.0    0.0   \n",
       "55419         0.0  ...      0.0    0.0    0.0    0.0    0.0    0.0    0.0   \n",
       "58648         0.0  ...      0.0    0.0    0.0    0.0    0.0    0.0    0.0   \n",
       "62267         0.0  ...      0.0    0.0    0.0    0.0    0.0    0.0    0.0   \n",
       "65387         0.0  ...      0.0    0.0    1.0    0.0    0.0    0.0    0.0   \n",
       "74630         0.0  ...      0.0    0.0    0.0    0.0    0.0    0.0    0.0   \n",
       "75527         0.0  ...      0.0    0.0    0.0    0.0    0.0    0.0    0.0   \n",
       "75779         0.0  ...      0.0    0.0    0.0    0.0    0.0    0.0    0.0   \n",
       "92090         0.0  ...      0.0    0.0    0.0    0.0    0.0    0.0    0.0   \n",
       "94506         0.0  ...      0.0    0.0    0.0    0.0    0.0    0.0    0.0   \n",
       "105795        0.0  ...      0.0    0.0    0.0    0.0    0.0    0.0    0.0   \n",
       "105969        0.0  ...      0.0    0.0    0.0    0.0    0.0    0.0    0.0   \n",
       "112460        0.0  ...      0.0    0.0    0.0    0.0    0.0    0.0    0.0   \n",
       "112585        0.0  ...      0.0    0.0    0.0    0.0    0.0    0.0    0.0   \n",
       "113007        0.0  ...      0.0    0.0    0.0    0.0    0.0    0.0    0.0   \n",
       "118532        0.0  ...      0.0    0.0    0.0    0.0    0.0    0.0    0.0   \n",
       "118698        0.0  ...      0.0    0.0    0.0    0.0    0.0    0.0    0.0   \n",
       "122019        0.0  ...      0.0    0.0    0.0    0.0    0.0    0.0    0.0   \n",
       "126360        0.0  ...      0.0    0.0    0.0    0.0    0.0    0.0    0.0   \n",
       "130039        0.0  ...      0.0    0.0    0.0    0.0    0.0    0.0    0.0   \n",
       "134009        0.0  ...      0.0    0.0    0.0    0.0    0.0    0.0    0.0   \n",
       "134789        0.0  ...      0.0    0.0    0.0    0.0    0.0    0.0    0.0   \n",
       "139707        0.0  ...      0.0    0.0    0.0    0.0    0.0    0.0    0.0   \n",
       "148324        0.0  ...      0.0    0.0    0.0    0.0    0.0    0.0    0.0   \n",
       "149179        0.0  ...      0.0    0.0    0.0    0.0    0.0    0.0    0.0   \n",
       "149720        0.0  ...      0.0    0.0    0.0    0.0    0.0    0.0    0.0   \n",
       "151683        0.0  ...      0.0    0.0    0.0    0.0    0.0    0.0    0.0   \n",
       "152083        0.0  ...      0.0    0.0    0.0    0.0    0.0    0.0    0.0   \n",
       "168326        0.0  ...      0.0    0.0    0.0    0.0    0.0    0.0    0.0   \n",
       "170667        0.0  ...      0.0    0.0    0.0    0.0    0.0    0.0    0.0   \n",
       "187455        0.0  ...      0.0    0.0    0.0    0.0    1.0    0.0    0.0   \n",
       "187888        0.0  ...      0.0    0.0    0.0    0.0    0.0    0.0    0.0   \n",
       "189033        0.0  ...      0.0    0.0    0.0    0.0    0.0    0.0    0.0   \n",
       "193107        0.0  ...      0.0    0.0    0.0    0.0    0.0    0.0    0.0   \n",
       "194202        0.0  ...      0.0    0.0    0.0    0.0    0.0    0.0    0.0   \n",
       "194850        0.0  ...      0.0    0.0    0.0    0.0    0.0    0.0    0.0   \n",
       "203190        0.0  ...      0.0    0.0    0.0    0.0    0.0    0.0    0.0   \n",
       "204656        0.0  ...      0.0    0.0    0.0    0.0    0.0    0.0    0.0   \n",
       "206054        0.0  ...      0.0    0.0    0.0    0.0    0.0    0.0    0.0   \n",
       "\n",
       "product_id  49215  49318  49383  \n",
       "user_id                          \n",
       "2153          0.0    0.0    0.0  \n",
       "13131         0.0    0.0    0.0  \n",
       "16354         0.0    0.0    0.0  \n",
       "21414         0.0    0.0    0.0  \n",
       "28328         0.0    0.0    0.0  \n",
       "30124         0.0    0.0    0.0  \n",
       "35942         0.0    0.0    0.0  \n",
       "36449         0.0    0.0    0.0  \n",
       "37301         0.0    0.0    0.0  \n",
       "40369         0.0    1.0    0.0  \n",
       "51578         0.0    0.0    0.0  \n",
       "53702         0.0    0.0    0.0  \n",
       "55419         0.0    0.0    0.0  \n",
       "58648         0.0    0.0    0.0  \n",
       "62267         0.0    0.0    0.0  \n",
       "65387         0.0    0.0    0.0  \n",
       "74630         0.0    0.0    0.0  \n",
       "75527         0.0    0.0    0.0  \n",
       "75779         0.0    0.0    0.0  \n",
       "92090         0.0    0.0    0.0  \n",
       "94506         0.0    0.0    0.0  \n",
       "105795        0.0    0.0    0.0  \n",
       "105969        0.0    0.0    0.0  \n",
       "112460        0.0    0.0    0.0  \n",
       "112585        0.0    0.0    0.0  \n",
       "113007        0.0    0.0    0.0  \n",
       "118532        0.0    0.0    0.0  \n",
       "118698        0.0    0.0    0.0  \n",
       "122019        0.0    0.0    0.0  \n",
       "126360        0.0    0.0    0.0  \n",
       "130039        0.0    0.0    0.0  \n",
       "134009        0.0    0.0    0.0  \n",
       "134789        0.0    0.0    0.0  \n",
       "139707        0.0    0.0    0.0  \n",
       "148324        0.0    0.0    0.0  \n",
       "149179        0.0    0.0    0.0  \n",
       "149720        0.0    0.0    0.0  \n",
       "151683        0.0    0.0    0.0  \n",
       "152083        0.0    0.0    0.0  \n",
       "168326        0.0    0.0    0.0  \n",
       "170667        0.0    0.0    0.0  \n",
       "187455        1.0    0.0    0.0  \n",
       "187888        0.0    0.0    0.0  \n",
       "189033        0.0    0.0    0.0  \n",
       "193107        0.0    0.0    0.0  \n",
       "194202        0.0    0.0    0.0  \n",
       "194850        0.0    0.0    0.0  \n",
       "203190        0.0    0.0    0.0  \n",
       "204656        0.0    0.0    0.0  \n",
       "206054        0.0    0.0    0.0  \n",
       "\n",
       "[50 rows x 403 columns]>"
      ]
     },
     "execution_count": 32,
     "metadata": {},
     "output_type": "execute_result"
    }
   ],
   "source": [
    "df_reorders.info"
   ]
  },
  {
   "cell_type": "code",
   "execution_count": 33,
   "metadata": {
    "scrolled": true
   },
   "outputs": [
    {
     "data": {
      "text/html": [
       "<div>\n",
       "<style>\n",
       "    .dataframe thead tr:only-child th {\n",
       "        text-align: right;\n",
       "    }\n",
       "\n",
       "    .dataframe thead th {\n",
       "        text-align: left;\n",
       "    }\n",
       "\n",
       "    .dataframe tbody tr th {\n",
       "        vertical-align: top;\n",
       "    }\n",
       "</style>\n",
       "<table border=\"1\" class=\"dataframe\">\n",
       "  <thead>\n",
       "    <tr style=\"text-align: right;\">\n",
       "      <th>product_id</th>\n",
       "      <th>20</th>\n",
       "      <th>264</th>\n",
       "      <th>432</th>\n",
       "      <th>630</th>\n",
       "      <th>940</th>\n",
       "      <th>1227</th>\n",
       "      <th>1360</th>\n",
       "      <th>1463</th>\n",
       "      <th>1722</th>\n",
       "      <th>1858</th>\n",
       "      <th>...</th>\n",
       "      <th>48716</th>\n",
       "      <th>48848</th>\n",
       "      <th>48857</th>\n",
       "      <th>49044</th>\n",
       "      <th>49175</th>\n",
       "      <th>49191</th>\n",
       "      <th>49198</th>\n",
       "      <th>49215</th>\n",
       "      <th>49318</th>\n",
       "      <th>49383</th>\n",
       "    </tr>\n",
       "    <tr>\n",
       "      <th>user_id</th>\n",
       "      <th></th>\n",
       "      <th></th>\n",
       "      <th></th>\n",
       "      <th></th>\n",
       "      <th></th>\n",
       "      <th></th>\n",
       "      <th></th>\n",
       "      <th></th>\n",
       "      <th></th>\n",
       "      <th></th>\n",
       "      <th></th>\n",
       "      <th></th>\n",
       "      <th></th>\n",
       "      <th></th>\n",
       "      <th></th>\n",
       "      <th></th>\n",
       "      <th></th>\n",
       "      <th></th>\n",
       "      <th></th>\n",
       "      <th></th>\n",
       "      <th></th>\n",
       "    </tr>\n",
       "  </thead>\n",
       "  <tbody>\n",
       "    <tr>\n",
       "      <th>2153</th>\n",
       "      <td>0.0</td>\n",
       "      <td>0.0</td>\n",
       "      <td>0.0</td>\n",
       "      <td>0.0</td>\n",
       "      <td>0.0</td>\n",
       "      <td>0.0</td>\n",
       "      <td>0.0</td>\n",
       "      <td>0.0</td>\n",
       "      <td>0.0</td>\n",
       "      <td>0.0</td>\n",
       "      <td>...</td>\n",
       "      <td>0.0</td>\n",
       "      <td>0.0</td>\n",
       "      <td>0.0</td>\n",
       "      <td>0.0</td>\n",
       "      <td>0.0</td>\n",
       "      <td>0.0</td>\n",
       "      <td>0.0</td>\n",
       "      <td>0.0</td>\n",
       "      <td>0.0</td>\n",
       "      <td>0.0</td>\n",
       "    </tr>\n",
       "    <tr>\n",
       "      <th>13131</th>\n",
       "      <td>0.0</td>\n",
       "      <td>0.0</td>\n",
       "      <td>0.0</td>\n",
       "      <td>0.0</td>\n",
       "      <td>0.0</td>\n",
       "      <td>0.0</td>\n",
       "      <td>0.0</td>\n",
       "      <td>0.0</td>\n",
       "      <td>0.0</td>\n",
       "      <td>0.0</td>\n",
       "      <td>...</td>\n",
       "      <td>0.0</td>\n",
       "      <td>1.0</td>\n",
       "      <td>0.0</td>\n",
       "      <td>0.0</td>\n",
       "      <td>0.0</td>\n",
       "      <td>0.0</td>\n",
       "      <td>0.0</td>\n",
       "      <td>0.0</td>\n",
       "      <td>0.0</td>\n",
       "      <td>0.0</td>\n",
       "    </tr>\n",
       "    <tr>\n",
       "      <th>16354</th>\n",
       "      <td>0.0</td>\n",
       "      <td>0.0</td>\n",
       "      <td>1.0</td>\n",
       "      <td>0.0</td>\n",
       "      <td>0.0</td>\n",
       "      <td>0.0</td>\n",
       "      <td>1.0</td>\n",
       "      <td>0.0</td>\n",
       "      <td>0.0</td>\n",
       "      <td>0.0</td>\n",
       "      <td>...</td>\n",
       "      <td>0.0</td>\n",
       "      <td>0.0</td>\n",
       "      <td>0.0</td>\n",
       "      <td>0.0</td>\n",
       "      <td>0.0</td>\n",
       "      <td>1.0</td>\n",
       "      <td>0.0</td>\n",
       "      <td>0.0</td>\n",
       "      <td>0.0</td>\n",
       "      <td>0.0</td>\n",
       "    </tr>\n",
       "    <tr>\n",
       "      <th>21414</th>\n",
       "      <td>0.0</td>\n",
       "      <td>0.0</td>\n",
       "      <td>0.0</td>\n",
       "      <td>0.0</td>\n",
       "      <td>0.0</td>\n",
       "      <td>0.0</td>\n",
       "      <td>0.0</td>\n",
       "      <td>0.0</td>\n",
       "      <td>0.0</td>\n",
       "      <td>0.0</td>\n",
       "      <td>...</td>\n",
       "      <td>0.0</td>\n",
       "      <td>0.0</td>\n",
       "      <td>0.0</td>\n",
       "      <td>0.0</td>\n",
       "      <td>0.0</td>\n",
       "      <td>0.0</td>\n",
       "      <td>0.0</td>\n",
       "      <td>0.0</td>\n",
       "      <td>0.0</td>\n",
       "      <td>0.0</td>\n",
       "    </tr>\n",
       "    <tr>\n",
       "      <th>28328</th>\n",
       "      <td>0.0</td>\n",
       "      <td>0.0</td>\n",
       "      <td>0.0</td>\n",
       "      <td>0.0</td>\n",
       "      <td>0.0</td>\n",
       "      <td>0.0</td>\n",
       "      <td>0.0</td>\n",
       "      <td>0.0</td>\n",
       "      <td>0.0</td>\n",
       "      <td>0.0</td>\n",
       "      <td>...</td>\n",
       "      <td>0.0</td>\n",
       "      <td>0.0</td>\n",
       "      <td>0.0</td>\n",
       "      <td>0.0</td>\n",
       "      <td>0.0</td>\n",
       "      <td>0.0</td>\n",
       "      <td>0.0</td>\n",
       "      <td>0.0</td>\n",
       "      <td>0.0</td>\n",
       "      <td>0.0</td>\n",
       "    </tr>\n",
       "  </tbody>\n",
       "</table>\n",
       "<p>5 rows × 403 columns</p>\n",
       "</div>"
      ],
      "text/plain": [
       "product_id  20     264    432    630    940    1227   1360   1463   1722   \\\n",
       "user_id                                                                     \n",
       "2153          0.0    0.0    0.0    0.0    0.0    0.0    0.0    0.0    0.0   \n",
       "13131         0.0    0.0    0.0    0.0    0.0    0.0    0.0    0.0    0.0   \n",
       "16354         0.0    0.0    1.0    0.0    0.0    0.0    1.0    0.0    0.0   \n",
       "21414         0.0    0.0    0.0    0.0    0.0    0.0    0.0    0.0    0.0   \n",
       "28328         0.0    0.0    0.0    0.0    0.0    0.0    0.0    0.0    0.0   \n",
       "\n",
       "product_id  1858   ...    48716  48848  48857  49044  49175  49191  49198  \\\n",
       "user_id            ...                                                      \n",
       "2153          0.0  ...      0.0    0.0    0.0    0.0    0.0    0.0    0.0   \n",
       "13131         0.0  ...      0.0    1.0    0.0    0.0    0.0    0.0    0.0   \n",
       "16354         0.0  ...      0.0    0.0    0.0    0.0    0.0    1.0    0.0   \n",
       "21414         0.0  ...      0.0    0.0    0.0    0.0    0.0    0.0    0.0   \n",
       "28328         0.0  ...      0.0    0.0    0.0    0.0    0.0    0.0    0.0   \n",
       "\n",
       "product_id  49215  49318  49383  \n",
       "user_id                          \n",
       "2153          0.0    0.0    0.0  \n",
       "13131         0.0    0.0    0.0  \n",
       "16354         0.0    0.0    0.0  \n",
       "21414         0.0    0.0    0.0  \n",
       "28328         0.0    0.0    0.0  \n",
       "\n",
       "[5 rows x 403 columns]"
      ]
     },
     "execution_count": 33,
     "metadata": {},
     "output_type": "execute_result"
    }
   ],
   "source": [
    "df_reorders.head()"
   ]
  },
  {
   "cell_type": "code",
   "execution_count": 34,
   "metadata": {},
   "outputs": [
    {
     "name": "stdout",
     "output_type": "stream",
     "text": [
      "<class 'pandas.core.frame.DataFrame'>\n",
      "Int64Index: 50 entries, 2153 to 206054\n",
      "Columns: 403 entries, 20 to 49383\n",
      "dtypes: float64(403)\n",
      "memory usage: 157.8 KB\n"
     ]
    }
   ],
   "source": [
    "df_reorders.info()"
   ]
  },
  {
   "cell_type": "markdown",
   "metadata": {},
   "source": [
    "We will turn that dataframe into a matrix, normalize, optimize the parameters, and make some predictions. "
   ]
  },
  {
   "cell_type": "code",
   "execution_count": 35,
   "metadata": {
    "collapsed": true
   },
   "outputs": [],
   "source": [
    "#normalize reorders in order to feed into scipy\n",
    "reorders= df_reorders.as_matrix()\n",
    "reorder_mean = np.mean(reorders, axis = 1)\n",
    "reordered_normalized = reorders - reorder_mean.reshape(-1, 1)"
   ]
  },
  {
   "cell_type": "code",
   "execution_count": 36,
   "metadata": {
    "collapsed": true
   },
   "outputs": [],
   "source": [
    "#break down reorder matrix (R) into unitary matices \n",
    "# k picked at random will need to cross validate later\n",
    "from scipy.sparse.linalg import svds\n",
    "U, sigma, Vt = svds(reordered_normalized, k = 10)"
   ]
  },
  {
   "cell_type": "code",
   "execution_count": 37,
   "metadata": {
    "collapsed": true
   },
   "outputs": [],
   "source": [
    "#make sigma a diagonal matrix for muliplication next\n",
    "sigma = np.diag(sigma)"
   ]
  },
  {
   "cell_type": "code",
   "execution_count": 38,
   "metadata": {
    "collapsed": true
   },
   "outputs": [],
   "source": [
    "#multiple U by sigma then by V^t add means back in to get reconstruction of orginal matrix \n",
    "#then convert matrix to dataframe assigning columns and index\n",
    "reconstructed_reorders = np.dot(np.dot(U, sigma), Vt) + reorder_mean.reshape(-1, 1)\n",
    "df_predictions = pd.DataFrame(reconstructed_reorders, columns = df_reorders.columns,index=df_reorders.index)"
   ]
  },
  {
   "cell_type": "code",
   "execution_count": 39,
   "metadata": {},
   "outputs": [
    {
     "name": "stdout",
     "output_type": "stream",
     "text": [
      "Int64Index([  2153,  13131,  16354,  21414,  28328,  30124,  35942,  36449,\n",
      "             37301,  40369,  51578,  53702,  55419,  58648,  62267,  65387,\n",
      "             74630,  75527,  75779,  92090,  94506, 105795, 105969, 112460,\n",
      "            112585, 113007, 118532, 118698, 122019, 126360, 130039, 134009,\n",
      "            134789, 139707, 148324, 149179, 149720, 151683, 152083, 168326,\n",
      "            170667, 187455, 187888, 189033, 193107, 194202, 194850, 203190,\n",
      "            204656, 206054],\n",
      "           dtype='int64', name=u'user_id')\n"
     ]
    }
   ],
   "source": [
    "print(df_predictions.index)"
   ]
  },
  {
   "cell_type": "code",
   "execution_count": 40,
   "metadata": {
    "collapsed": true
   },
   "outputs": [],
   "source": [
    "#save user list\n",
    "users=list(df_predictions.index)"
   ]
  },
  {
   "cell_type": "code",
   "execution_count": 41,
   "metadata": {},
   "outputs": [
    {
     "name": "stdout",
     "output_type": "stream",
     "text": [
      "<class 'pandas.core.frame.DataFrame'>\n",
      "Int64Index: 50 entries, 2153 to 206054\n",
      "Columns: 403 entries, 20 to 49383\n",
      "dtypes: float64(403)\n",
      "memory usage: 157.8 KB\n"
     ]
    }
   ],
   "source": [
    "df_predictions.info()"
   ]
  },
  {
   "cell_type": "code",
   "execution_count": 42,
   "metadata": {},
   "outputs": [
    {
     "data": {
      "text/plain": [
       "product_id\n",
       "5991     0.016980\n",
       "25890    0.016980\n",
       "28985    0.016980\n",
       "35535    0.016980\n",
       "18234    0.016980\n",
       "23165    0.016980\n",
       "31869    0.016980\n",
       "16349    0.016980\n",
       "8277     0.016146\n",
       "43713    0.016146\n",
       "41329    0.016146\n",
       "28576    0.016146\n",
       "28535    0.016146\n",
       "47209    0.016146\n",
       "24373    0.016146\n",
       "3520     0.016146\n",
       "17906    0.011042\n",
       "42342    0.011042\n",
       "8385     0.011042\n",
       "41846    0.011042\n",
       "15392    0.011042\n",
       "23452    0.010891\n",
       "14715    0.010891\n",
       "16283    0.010891\n",
       "22900    0.010891\n",
       "37317    0.010891\n",
       "20955    0.010891\n",
       "21131    0.010891\n",
       "29503    0.010891\n",
       "34024    0.010891\n",
       "           ...   \n",
       "17949    0.001633\n",
       "33198    0.001166\n",
       "24838    0.001031\n",
       "22825    0.000820\n",
       "24489   -0.000493\n",
       "32864   -0.000493\n",
       "30122   -0.000493\n",
       "41950   -0.000493\n",
       "20520   -0.000493\n",
       "14084   -0.000493\n",
       "38777   -0.000493\n",
       "29388   -0.000493\n",
       "48179   -0.000493\n",
       "3252    -0.000493\n",
       "44359   -0.000493\n",
       "46979   -0.000493\n",
       "22720   -0.000493\n",
       "14074   -0.000493\n",
       "26128   -0.000493\n",
       "30391   -0.000493\n",
       "47626   -0.000833\n",
       "43643   -0.001128\n",
       "13380   -0.001708\n",
       "42585   -0.002577\n",
       "14947   -0.004516\n",
       "46906   -0.004773\n",
       "24852   -0.007597\n",
       "13176   -0.008607\n",
       "21903   -0.011756\n",
       "47766   -0.019019\n",
       "Name: 2153, Length: 403, dtype: float64"
      ]
     },
     "execution_count": 42,
     "metadata": {},
     "output_type": "execute_result"
    }
   ],
   "source": [
    "#look  to see how predictions look\n",
    "df_predictions.loc[users[0]].sort_values(ascending=False)"
   ]
  },
  {
   "cell_type": "code",
   "execution_count": 43,
   "metadata": {},
   "outputs": [
    {
     "data": {
      "text/plain": [
       "Series([], Name: 2153, dtype: object)"
      ]
     },
     "execution_count": 43,
     "metadata": {},
     "output_type": "execute_result"
    }
   ],
   "source": [
    "#pick only high predictons\n",
    "prediction_thresholds=df_predictions.loc[users[0]].apply(lambda x: x if x > 0.05 else None)\n",
    "prediction_thresholds.dropna().sort_values(ascending=False)"
   ]
  },
  {
   "cell_type": "code",
   "execution_count": 44,
   "metadata": {
    "collapsed": true
   },
   "outputs": [],
   "source": [
    "def predicted_reorders(predictions_df, user_id, df_prod, df_rates, threshold=0.0):\n",
    "    \"\"\" Function takes 5 parameters: prediction dataframe, user to predict reorders for, product dataframe,\n",
    "        reorders rate per user dataframe, threshold from prediction dataframe to reach to make\n",
    "        recommendation. \n",
    "        \n",
    "        Function returns two:  user_purchased: items users has purchased in last three orders,\n",
    "        prediction: items from user_purchased list that surpass prediction rate \n",
    "        \n",
    "        note: threshold default is zero (returns product that SVD show to have any positive cosine similiarity). \n",
    "        Higher threshold settings will return more likely reorders.\n",
    "    \"\"\"\n",
    "    \n",
    "    # for user get products that surpass prediction theshold\n",
    "    prediction_thresholds=df_predictions.loc[user_id].apply(lambda x: x if x > threshold else None)\n",
    "    user_predictions = prediction_thresholds.dropna().sort_values(ascending=False)\n",
    "    \n",
    "    # dataframe for items user has purchased previously (last three orders) with name and reorder rate\n",
    "    df_rates=df_rates.reset_index()\n",
    "    user_data = df_rates[df_rates.user_id == (user_id)]\n",
    "    user_purchased = (user_data.merge(df_prod, how = 'left', left_on = 'product_id', right_on = 'product_id').\n",
    "                     sort_values(['prod_reorder_rate'], ascending=False))\n",
    "\n",
    "    # Predict reorders by returning items from from previous purchases that surpass prediction rate\n",
    "    prediction = user_purchased.merge(pd.DataFrame(user_predictions).reset_index(), how = 'inner',left_on = 'product_id',\n",
    "               right_on = 'product_id')\n",
    "    \n",
    "    #format prediction dataframe to see prediction rate and sort by rate\n",
    "    prediction=prediction.rename(columns = {user_id: 'Prediction'}).sort_values('Prediction', ascending = False)\n",
    "    \n",
    "    return user_purchased, prediction\n",
    "\n"
   ]
  },
  {
   "cell_type": "code",
   "execution_count": 45,
   "metadata": {
    "collapsed": true
   },
   "outputs": [],
   "source": [
    "#test the defined function with first user_id\n",
    "user_purchased, prediction = predicted_reorders(df_predictions,users[0], df_prod, df_rates,.0)"
   ]
  },
  {
   "cell_type": "code",
   "execution_count": 46,
   "metadata": {},
   "outputs": [
    {
     "data": {
      "text/html": [
       "<div>\n",
       "<style>\n",
       "    .dataframe thead tr:only-child th {\n",
       "        text-align: right;\n",
       "    }\n",
       "\n",
       "    .dataframe thead th {\n",
       "        text-align: left;\n",
       "    }\n",
       "\n",
       "    .dataframe tbody tr th {\n",
       "        vertical-align: top;\n",
       "    }\n",
       "</style>\n",
       "<table border=\"1\" class=\"dataframe\">\n",
       "  <thead>\n",
       "    <tr style=\"text-align: right;\">\n",
       "      <th></th>\n",
       "      <th>user_id</th>\n",
       "      <th>product_id</th>\n",
       "      <th>prod_order_count</th>\n",
       "      <th>prod_reorder_rate</th>\n",
       "      <th>product_name</th>\n",
       "      <th>aisle_id</th>\n",
       "      <th>department_id</th>\n",
       "    </tr>\n",
       "  </thead>\n",
       "  <tbody>\n",
       "    <tr>\n",
       "      <th>0</th>\n",
       "      <td>2153</td>\n",
       "      <td>4066</td>\n",
       "      <td>1</td>\n",
       "      <td>1.0</td>\n",
       "      <td>Organic Red Heirloom Pasta Sauce</td>\n",
       "      <td>9</td>\n",
       "      <td>9</td>\n",
       "    </tr>\n",
       "    <tr>\n",
       "      <th>1</th>\n",
       "      <td>2153</td>\n",
       "      <td>27796</td>\n",
       "      <td>1</td>\n",
       "      <td>1.0</td>\n",
       "      <td>Real Mayonnaise</td>\n",
       "      <td>72</td>\n",
       "      <td>13</td>\n",
       "    </tr>\n",
       "    <tr>\n",
       "      <th>2</th>\n",
       "      <td>2153</td>\n",
       "      <td>34668</td>\n",
       "      <td>1</td>\n",
       "      <td>1.0</td>\n",
       "      <td>Organic Large Grade AA Omega-3 Eggs</td>\n",
       "      <td>86</td>\n",
       "      <td>16</td>\n",
       "    </tr>\n",
       "  </tbody>\n",
       "</table>\n",
       "</div>"
      ],
      "text/plain": [
       "   user_id  product_id  prod_order_count  prod_reorder_rate  \\\n",
       "0     2153        4066                 1                1.0   \n",
       "1     2153       27796                 1                1.0   \n",
       "2     2153       34668                 1                1.0   \n",
       "\n",
       "                          product_name  aisle_id  department_id  \n",
       "0     Organic Red Heirloom Pasta Sauce         9              9  \n",
       "1                      Real Mayonnaise        72             13  \n",
       "2  Organic Large Grade AA Omega-3 Eggs        86             16  "
      ]
     },
     "execution_count": 46,
     "metadata": {},
     "output_type": "execute_result"
    }
   ],
   "source": [
    "#see items purchased\n",
    "user_purchased\n"
   ]
  },
  {
   "cell_type": "code",
   "execution_count": 47,
   "metadata": {},
   "outputs": [
    {
     "data": {
      "text/html": [
       "<div>\n",
       "<style>\n",
       "    .dataframe thead tr:only-child th {\n",
       "        text-align: right;\n",
       "    }\n",
       "\n",
       "    .dataframe thead th {\n",
       "        text-align: left;\n",
       "    }\n",
       "\n",
       "    .dataframe tbody tr th {\n",
       "        vertical-align: top;\n",
       "    }\n",
       "</style>\n",
       "<table border=\"1\" class=\"dataframe\">\n",
       "  <thead>\n",
       "    <tr style=\"text-align: right;\">\n",
       "      <th></th>\n",
       "      <th>user_id</th>\n",
       "      <th>product_id</th>\n",
       "      <th>prod_order_count</th>\n",
       "      <th>prod_reorder_rate</th>\n",
       "      <th>product_name</th>\n",
       "      <th>aisle_id</th>\n",
       "      <th>department_id</th>\n",
       "      <th>Prediction</th>\n",
       "    </tr>\n",
       "  </thead>\n",
       "  <tbody>\n",
       "    <tr>\n",
       "      <th>0</th>\n",
       "      <td>2153</td>\n",
       "      <td>4066</td>\n",
       "      <td>1</td>\n",
       "      <td>1.0</td>\n",
       "      <td>Organic Red Heirloom Pasta Sauce</td>\n",
       "      <td>9</td>\n",
       "      <td>9</td>\n",
       "      <td>0.010068</td>\n",
       "    </tr>\n",
       "    <tr>\n",
       "      <th>1</th>\n",
       "      <td>2153</td>\n",
       "      <td>27796</td>\n",
       "      <td>1</td>\n",
       "      <td>1.0</td>\n",
       "      <td>Real Mayonnaise</td>\n",
       "      <td>72</td>\n",
       "      <td>13</td>\n",
       "      <td>0.010068</td>\n",
       "    </tr>\n",
       "    <tr>\n",
       "      <th>2</th>\n",
       "      <td>2153</td>\n",
       "      <td>34668</td>\n",
       "      <td>1</td>\n",
       "      <td>1.0</td>\n",
       "      <td>Organic Large Grade AA Omega-3 Eggs</td>\n",
       "      <td>86</td>\n",
       "      <td>16</td>\n",
       "      <td>0.010068</td>\n",
       "    </tr>\n",
       "  </tbody>\n",
       "</table>\n",
       "</div>"
      ],
      "text/plain": [
       "   user_id  product_id  prod_order_count  prod_reorder_rate  \\\n",
       "0     2153        4066                 1                1.0   \n",
       "1     2153       27796                 1                1.0   \n",
       "2     2153       34668                 1                1.0   \n",
       "\n",
       "                          product_name  aisle_id  department_id  Prediction  \n",
       "0     Organic Red Heirloom Pasta Sauce         9              9    0.010068  \n",
       "1                      Real Mayonnaise        72             13    0.010068  \n",
       "2  Organic Large Grade AA Omega-3 Eggs        86             16    0.010068  "
      ]
     },
     "execution_count": 47,
     "metadata": {},
     "output_type": "execute_result"
    }
   ],
   "source": [
    "#see prediction for user\n",
    "prediction"
   ]
  },
  {
   "cell_type": "code",
   "execution_count": 48,
   "metadata": {},
   "outputs": [],
   "source": [
    "#prepare dataframe for merge -- set index\n",
    "df_user_order_prod = df_user_order_prod.set_index('user_id','product_id')"
   ]
  },
  {
   "cell_type": "code",
   "execution_count": 49,
   "metadata": {},
   "outputs": [],
   "source": [
    "#prepare dataframe for merge -- set indexr\n",
    "prediction=prediction.set_index('user_id','product_id')"
   ]
  },
  {
   "cell_type": "code",
   "execution_count": 50,
   "metadata": {},
   "outputs": [
    {
     "data": {
      "text/html": [
       "<div>\n",
       "<style>\n",
       "    .dataframe thead tr:only-child th {\n",
       "        text-align: right;\n",
       "    }\n",
       "\n",
       "    .dataframe thead th {\n",
       "        text-align: left;\n",
       "    }\n",
       "\n",
       "    .dataframe tbody tr th {\n",
       "        vertical-align: top;\n",
       "    }\n",
       "</style>\n",
       "<table border=\"1\" class=\"dataframe\">\n",
       "  <thead>\n",
       "    <tr style=\"text-align: right;\">\n",
       "      <th></th>\n",
       "      <th>product_id_x</th>\n",
       "      <th>prod_order_count</th>\n",
       "      <th>prod_reorder_rate</th>\n",
       "      <th>product_name</th>\n",
       "      <th>aisle_id</th>\n",
       "      <th>department_id</th>\n",
       "      <th>Prediction</th>\n",
       "      <th>order_id</th>\n",
       "      <th>product_id_y</th>\n",
       "      <th>add_to_cart_order</th>\n",
       "      <th>reordered</th>\n",
       "      <th>days_since_prior_order</th>\n",
       "      <th>eval_set</th>\n",
       "      <th>order_dow</th>\n",
       "      <th>order_hour_of_day</th>\n",
       "      <th>order_number</th>\n",
       "    </tr>\n",
       "    <tr>\n",
       "      <th>user_id</th>\n",
       "      <th></th>\n",
       "      <th></th>\n",
       "      <th></th>\n",
       "      <th></th>\n",
       "      <th></th>\n",
       "      <th></th>\n",
       "      <th></th>\n",
       "      <th></th>\n",
       "      <th></th>\n",
       "      <th></th>\n",
       "      <th></th>\n",
       "      <th></th>\n",
       "      <th></th>\n",
       "      <th></th>\n",
       "      <th></th>\n",
       "      <th></th>\n",
       "    </tr>\n",
       "  </thead>\n",
       "  <tbody>\n",
       "    <tr>\n",
       "      <th>2153</th>\n",
       "      <td>4066</td>\n",
       "      <td>1</td>\n",
       "      <td>1.0</td>\n",
       "      <td>Organic Red Heirloom Pasta Sauce</td>\n",
       "      <td>9</td>\n",
       "      <td>9</td>\n",
       "      <td>0.010068</td>\n",
       "      <td>1407512</td>\n",
       "      <td>4066</td>\n",
       "      <td>1</td>\n",
       "      <td>1</td>\n",
       "      <td>0.0</td>\n",
       "      <td>prior</td>\n",
       "      <td>4</td>\n",
       "      <td>19</td>\n",
       "      <td>16</td>\n",
       "    </tr>\n",
       "    <tr>\n",
       "      <th>2153</th>\n",
       "      <td>4066</td>\n",
       "      <td>1</td>\n",
       "      <td>1.0</td>\n",
       "      <td>Organic Red Heirloom Pasta Sauce</td>\n",
       "      <td>9</td>\n",
       "      <td>9</td>\n",
       "      <td>0.010068</td>\n",
       "      <td>1407512</td>\n",
       "      <td>34668</td>\n",
       "      <td>2</td>\n",
       "      <td>1</td>\n",
       "      <td>0.0</td>\n",
       "      <td>prior</td>\n",
       "      <td>4</td>\n",
       "      <td>19</td>\n",
       "      <td>16</td>\n",
       "    </tr>\n",
       "    <tr>\n",
       "      <th>2153</th>\n",
       "      <td>4066</td>\n",
       "      <td>1</td>\n",
       "      <td>1.0</td>\n",
       "      <td>Organic Red Heirloom Pasta Sauce</td>\n",
       "      <td>9</td>\n",
       "      <td>9</td>\n",
       "      <td>0.010068</td>\n",
       "      <td>1407512</td>\n",
       "      <td>27796</td>\n",
       "      <td>3</td>\n",
       "      <td>1</td>\n",
       "      <td>0.0</td>\n",
       "      <td>prior</td>\n",
       "      <td>4</td>\n",
       "      <td>19</td>\n",
       "      <td>16</td>\n",
       "    </tr>\n",
       "    <tr>\n",
       "      <th>2153</th>\n",
       "      <td>27796</td>\n",
       "      <td>1</td>\n",
       "      <td>1.0</td>\n",
       "      <td>Real Mayonnaise</td>\n",
       "      <td>72</td>\n",
       "      <td>13</td>\n",
       "      <td>0.010068</td>\n",
       "      <td>1407512</td>\n",
       "      <td>4066</td>\n",
       "      <td>1</td>\n",
       "      <td>1</td>\n",
       "      <td>0.0</td>\n",
       "      <td>prior</td>\n",
       "      <td>4</td>\n",
       "      <td>19</td>\n",
       "      <td>16</td>\n",
       "    </tr>\n",
       "    <tr>\n",
       "      <th>2153</th>\n",
       "      <td>27796</td>\n",
       "      <td>1</td>\n",
       "      <td>1.0</td>\n",
       "      <td>Real Mayonnaise</td>\n",
       "      <td>72</td>\n",
       "      <td>13</td>\n",
       "      <td>0.010068</td>\n",
       "      <td>1407512</td>\n",
       "      <td>34668</td>\n",
       "      <td>2</td>\n",
       "      <td>1</td>\n",
       "      <td>0.0</td>\n",
       "      <td>prior</td>\n",
       "      <td>4</td>\n",
       "      <td>19</td>\n",
       "      <td>16</td>\n",
       "    </tr>\n",
       "    <tr>\n",
       "      <th>2153</th>\n",
       "      <td>27796</td>\n",
       "      <td>1</td>\n",
       "      <td>1.0</td>\n",
       "      <td>Real Mayonnaise</td>\n",
       "      <td>72</td>\n",
       "      <td>13</td>\n",
       "      <td>0.010068</td>\n",
       "      <td>1407512</td>\n",
       "      <td>27796</td>\n",
       "      <td>3</td>\n",
       "      <td>1</td>\n",
       "      <td>0.0</td>\n",
       "      <td>prior</td>\n",
       "      <td>4</td>\n",
       "      <td>19</td>\n",
       "      <td>16</td>\n",
       "    </tr>\n",
       "    <tr>\n",
       "      <th>2153</th>\n",
       "      <td>34668</td>\n",
       "      <td>1</td>\n",
       "      <td>1.0</td>\n",
       "      <td>Organic Large Grade AA Omega-3 Eggs</td>\n",
       "      <td>86</td>\n",
       "      <td>16</td>\n",
       "      <td>0.010068</td>\n",
       "      <td>1407512</td>\n",
       "      <td>4066</td>\n",
       "      <td>1</td>\n",
       "      <td>1</td>\n",
       "      <td>0.0</td>\n",
       "      <td>prior</td>\n",
       "      <td>4</td>\n",
       "      <td>19</td>\n",
       "      <td>16</td>\n",
       "    </tr>\n",
       "    <tr>\n",
       "      <th>2153</th>\n",
       "      <td>34668</td>\n",
       "      <td>1</td>\n",
       "      <td>1.0</td>\n",
       "      <td>Organic Large Grade AA Omega-3 Eggs</td>\n",
       "      <td>86</td>\n",
       "      <td>16</td>\n",
       "      <td>0.010068</td>\n",
       "      <td>1407512</td>\n",
       "      <td>34668</td>\n",
       "      <td>2</td>\n",
       "      <td>1</td>\n",
       "      <td>0.0</td>\n",
       "      <td>prior</td>\n",
       "      <td>4</td>\n",
       "      <td>19</td>\n",
       "      <td>16</td>\n",
       "    </tr>\n",
       "    <tr>\n",
       "      <th>2153</th>\n",
       "      <td>34668</td>\n",
       "      <td>1</td>\n",
       "      <td>1.0</td>\n",
       "      <td>Organic Large Grade AA Omega-3 Eggs</td>\n",
       "      <td>86</td>\n",
       "      <td>16</td>\n",
       "      <td>0.010068</td>\n",
       "      <td>1407512</td>\n",
       "      <td>27796</td>\n",
       "      <td>3</td>\n",
       "      <td>1</td>\n",
       "      <td>0.0</td>\n",
       "      <td>prior</td>\n",
       "      <td>4</td>\n",
       "      <td>19</td>\n",
       "      <td>16</td>\n",
       "    </tr>\n",
       "  </tbody>\n",
       "</table>\n",
       "</div>"
      ],
      "text/plain": [
       "         product_id_x  prod_order_count  prod_reorder_rate  \\\n",
       "user_id                                                      \n",
       "2153             4066                 1                1.0   \n",
       "2153             4066                 1                1.0   \n",
       "2153             4066                 1                1.0   \n",
       "2153            27796                 1                1.0   \n",
       "2153            27796                 1                1.0   \n",
       "2153            27796                 1                1.0   \n",
       "2153            34668                 1                1.0   \n",
       "2153            34668                 1                1.0   \n",
       "2153            34668                 1                1.0   \n",
       "\n",
       "                                product_name  aisle_id  department_id  \\\n",
       "user_id                                                                 \n",
       "2153        Organic Red Heirloom Pasta Sauce         9              9   \n",
       "2153        Organic Red Heirloom Pasta Sauce         9              9   \n",
       "2153        Organic Red Heirloom Pasta Sauce         9              9   \n",
       "2153                         Real Mayonnaise        72             13   \n",
       "2153                         Real Mayonnaise        72             13   \n",
       "2153                         Real Mayonnaise        72             13   \n",
       "2153     Organic Large Grade AA Omega-3 Eggs        86             16   \n",
       "2153     Organic Large Grade AA Omega-3 Eggs        86             16   \n",
       "2153     Organic Large Grade AA Omega-3 Eggs        86             16   \n",
       "\n",
       "         Prediction  order_id  product_id_y  add_to_cart_order  reordered  \\\n",
       "user_id                                                                     \n",
       "2153       0.010068   1407512          4066                  1          1   \n",
       "2153       0.010068   1407512         34668                  2          1   \n",
       "2153       0.010068   1407512         27796                  3          1   \n",
       "2153       0.010068   1407512          4066                  1          1   \n",
       "2153       0.010068   1407512         34668                  2          1   \n",
       "2153       0.010068   1407512         27796                  3          1   \n",
       "2153       0.010068   1407512          4066                  1          1   \n",
       "2153       0.010068   1407512         34668                  2          1   \n",
       "2153       0.010068   1407512         27796                  3          1   \n",
       "\n",
       "         days_since_prior_order eval_set  order_dow  order_hour_of_day  \\\n",
       "user_id                                                                  \n",
       "2153                        0.0    prior          4                 19   \n",
       "2153                        0.0    prior          4                 19   \n",
       "2153                        0.0    prior          4                 19   \n",
       "2153                        0.0    prior          4                 19   \n",
       "2153                        0.0    prior          4                 19   \n",
       "2153                        0.0    prior          4                 19   \n",
       "2153                        0.0    prior          4                 19   \n",
       "2153                        0.0    prior          4                 19   \n",
       "2153                        0.0    prior          4                 19   \n",
       "\n",
       "         order_number  \n",
       "user_id                \n",
       "2153               16  \n",
       "2153               16  \n",
       "2153               16  \n",
       "2153               16  \n",
       "2153               16  \n",
       "2153               16  \n",
       "2153               16  \n",
       "2153               16  \n",
       "2153               16  "
      ]
     },
     "execution_count": 50,
     "metadata": {},
     "output_type": "execute_result"
    }
   ],
   "source": [
    "#merge dataframe\n",
    "pred_set=pd.merge(prediction , df_user_order_prod, how='inner', left_index=True, right_index=True)\n",
    "pred_set"
   ]
  },
  {
   "cell_type": "code",
   "execution_count": 51,
   "metadata": {},
   "outputs": [
    {
     "data": {
      "text/html": [
       "<div>\n",
       "<style>\n",
       "    .dataframe thead tr:only-child th {\n",
       "        text-align: right;\n",
       "    }\n",
       "\n",
       "    .dataframe thead th {\n",
       "        text-align: left;\n",
       "    }\n",
       "\n",
       "    .dataframe tbody tr th {\n",
       "        vertical-align: top;\n",
       "    }\n",
       "</style>\n",
       "<table border=\"1\" class=\"dataframe\">\n",
       "  <thead>\n",
       "    <tr style=\"text-align: right;\">\n",
       "      <th></th>\n",
       "      <th>order_id</th>\n",
       "      <th>product_id</th>\n",
       "      <th>add_to_cart_order</th>\n",
       "      <th>reordered</th>\n",
       "      <th>user_id</th>\n",
       "      <th>days_since_prior_order</th>\n",
       "      <th>eval_set</th>\n",
       "      <th>order_dow</th>\n",
       "      <th>order_hour_of_day</th>\n",
       "      <th>order_number</th>\n",
       "      <th>order_from_last</th>\n",
       "    </tr>\n",
       "  </thead>\n",
       "  <tbody>\n",
       "    <tr>\n",
       "      <th>0</th>\n",
       "      <td>81267</td>\n",
       "      <td>30776</td>\n",
       "      <td>1</td>\n",
       "      <td>1</td>\n",
       "      <td>53702</td>\n",
       "      <td>7.0</td>\n",
       "      <td>prior</td>\n",
       "      <td>6</td>\n",
       "      <td>13</td>\n",
       "      <td>63</td>\n",
       "      <td>2</td>\n",
       "    </tr>\n",
       "    <tr>\n",
       "      <th>1</th>\n",
       "      <td>81267</td>\n",
       "      <td>1463</td>\n",
       "      <td>2</td>\n",
       "      <td>1</td>\n",
       "      <td>53702</td>\n",
       "      <td>7.0</td>\n",
       "      <td>prior</td>\n",
       "      <td>6</td>\n",
       "      <td>13</td>\n",
       "      <td>63</td>\n",
       "      <td>2</td>\n",
       "    </tr>\n",
       "    <tr>\n",
       "      <th>2</th>\n",
       "      <td>81267</td>\n",
       "      <td>34943</td>\n",
       "      <td>3</td>\n",
       "      <td>1</td>\n",
       "      <td>53702</td>\n",
       "      <td>7.0</td>\n",
       "      <td>prior</td>\n",
       "      <td>6</td>\n",
       "      <td>13</td>\n",
       "      <td>63</td>\n",
       "      <td>2</td>\n",
       "    </tr>\n",
       "    <tr>\n",
       "      <th>3</th>\n",
       "      <td>81267</td>\n",
       "      <td>3952</td>\n",
       "      <td>4</td>\n",
       "      <td>1</td>\n",
       "      <td>53702</td>\n",
       "      <td>7.0</td>\n",
       "      <td>prior</td>\n",
       "      <td>6</td>\n",
       "      <td>13</td>\n",
       "      <td>63</td>\n",
       "      <td>2</td>\n",
       "    </tr>\n",
       "    <tr>\n",
       "      <th>4</th>\n",
       "      <td>81267</td>\n",
       "      <td>13779</td>\n",
       "      <td>5</td>\n",
       "      <td>1</td>\n",
       "      <td>53702</td>\n",
       "      <td>7.0</td>\n",
       "      <td>prior</td>\n",
       "      <td>6</td>\n",
       "      <td>13</td>\n",
       "      <td>63</td>\n",
       "      <td>2</td>\n",
       "    </tr>\n",
       "  </tbody>\n",
       "</table>\n",
       "</div>"
      ],
      "text/plain": [
       "   order_id  product_id  add_to_cart_order  reordered  user_id  \\\n",
       "0     81267       30776                  1          1    53702   \n",
       "1     81267        1463                  2          1    53702   \n",
       "2     81267       34943                  3          1    53702   \n",
       "3     81267        3952                  4          1    53702   \n",
       "4     81267       13779                  5          1    53702   \n",
       "\n",
       "   days_since_prior_order eval_set  order_dow  order_hour_of_day  \\\n",
       "0                     7.0    prior          6                 13   \n",
       "1                     7.0    prior          6                 13   \n",
       "2                     7.0    prior          6                 13   \n",
       "3                     7.0    prior          6                 13   \n",
       "4                     7.0    prior          6                 13   \n",
       "\n",
       "   order_number  order_from_last  \n",
       "0            63                2  \n",
       "1            63                2  \n",
       "2            63                2  \n",
       "3            63                2  \n",
       "4            63                2  "
      ]
     },
     "execution_count": 51,
     "metadata": {},
     "output_type": "execute_result"
    }
   ],
   "source": [
    "#train_set_svd=train_set_svd.reset_index()\n",
    "sample=pd.DataFrame(train_set_svd['user_id'])\n",
    "\n",
    "#capture the second to last order information for each user as a test set\n",
    "data_p2=g.nth(-2)\n",
    "data_p2['order_from_last']=2\n",
    "data_p2=data_p2.reset_index()\n",
    "\n",
    "#for test set add in reorder information\n",
    "df_test=pd.merge(df_prod_orders,data_p2, how= 'inner',left_on=\"order_id\", right_on='order_id')\n",
    "\n",
    "#since we have train and test data broken apart by user previous order we can ensure we test only the users we trained for\n",
    "small_test=pd.merge(df_test,sample, how= 'inner',left_on=\"user_id\", right_on='user_id')\n",
    "small_test.head()"
   ]
  },
  {
   "cell_type": "code",
   "execution_count": 52,
   "metadata": {},
   "outputs": [],
   "source": [
    "#reset index in order to loop across index\n",
    "prediction=prediction.reset_index()"
   ]
  },
  {
   "cell_type": "code",
   "execution_count": 53,
   "metadata": {},
   "outputs": [
    {
     "name": "stderr",
     "output_type": "stream",
     "text": [
      "/Users/luca/anaconda2/lib/python2.7/site-packages/ipykernel_launcher.py:11: SettingWithCopyWarning: \n",
      "A value is trying to be set on a copy of a slice from a DataFrame\n",
      "\n",
      "See the caveats in the documentation: http://pandas.pydata.org/pandas-docs/stable/indexing.html#indexing-view-versus-copy\n",
      "  # This is added back by InteractiveShellApp.init_path()\n"
     ]
    },
    {
     "data": {
      "text/html": [
       "<div>\n",
       "<style>\n",
       "    .dataframe thead tr:only-child th {\n",
       "        text-align: right;\n",
       "    }\n",
       "\n",
       "    .dataframe thead th {\n",
       "        text-align: left;\n",
       "    }\n",
       "\n",
       "    .dataframe tbody tr th {\n",
       "        vertical-align: top;\n",
       "    }\n",
       "</style>\n",
       "<table border=\"1\" class=\"dataframe\">\n",
       "  <thead>\n",
       "    <tr style=\"text-align: right;\">\n",
       "      <th></th>\n",
       "      <th>user_id</th>\n",
       "      <th>product_id</th>\n",
       "      <th>prod_order_count</th>\n",
       "      <th>prod_reorder_rate</th>\n",
       "      <th>product_name</th>\n",
       "      <th>aisle_id</th>\n",
       "      <th>department_id</th>\n",
       "      <th>Prediction</th>\n",
       "      <th>ypred</th>\n",
       "    </tr>\n",
       "  </thead>\n",
       "  <tbody>\n",
       "    <tr>\n",
       "      <th>0</th>\n",
       "      <td>2153</td>\n",
       "      <td>4066</td>\n",
       "      <td>1</td>\n",
       "      <td>1.0</td>\n",
       "      <td>Organic Red Heirloom Pasta Sauce</td>\n",
       "      <td>9</td>\n",
       "      <td>9</td>\n",
       "      <td>0.010068</td>\n",
       "      <td>0</td>\n",
       "    </tr>\n",
       "    <tr>\n",
       "      <th>1</th>\n",
       "      <td>2153</td>\n",
       "      <td>27796</td>\n",
       "      <td>1</td>\n",
       "      <td>1.0</td>\n",
       "      <td>Real Mayonnaise</td>\n",
       "      <td>72</td>\n",
       "      <td>13</td>\n",
       "      <td>0.010068</td>\n",
       "      <td>0</td>\n",
       "    </tr>\n",
       "    <tr>\n",
       "      <th>2</th>\n",
       "      <td>2153</td>\n",
       "      <td>34668</td>\n",
       "      <td>1</td>\n",
       "      <td>1.0</td>\n",
       "      <td>Organic Large Grade AA Omega-3 Eggs</td>\n",
       "      <td>86</td>\n",
       "      <td>16</td>\n",
       "      <td>0.010068</td>\n",
       "      <td>0</td>\n",
       "    </tr>\n",
       "  </tbody>\n",
       "</table>\n",
       "</div>"
      ],
      "text/plain": [
       "   user_id  product_id  prod_order_count  prod_reorder_rate  \\\n",
       "0     2153        4066                 1                1.0   \n",
       "1     2153       27796                 1                1.0   \n",
       "2     2153       34668                 1                1.0   \n",
       "\n",
       "                          product_name  aisle_id  department_id  Prediction  \\\n",
       "0     Organic Red Heirloom Pasta Sauce         9              9    0.010068   \n",
       "1                      Real Mayonnaise        72             13    0.010068   \n",
       "2  Organic Large Grade AA Omega-3 Eggs        86             16    0.010068   \n",
       "\n",
       "   ypred  \n",
       "0      0  \n",
       "1      0  \n",
       "2      0  "
      ]
     },
     "execution_count": 53,
     "metadata": {},
     "output_type": "execute_result"
    }
   ],
   "source": [
    "#set rate at which to predict positive label one in classification\n",
    "rate=.05\n",
    "# create column and set column default value to negative label\n",
    "prediction['ypred']=0\n",
    "\n",
    "#loop over rows add change prediction column value to 1 if rate is surpassed\n",
    "for i in prediction.index:\n",
    "    if float(prediction['Prediction'][i]) >rate:\n",
    "        prediction['ypred'][i]=1\n",
    "    else:\n",
    "        prediction['ypred'][i]=0\n",
    "#check dataframe\n",
    "prediction"
   ]
  },
  {
   "cell_type": "markdown",
   "metadata": {},
   "source": [
    "# Now to get the predictions for all the user's next product order"
   ]
  },
  {
   "cell_type": "code",
   "execution_count": 54,
   "metadata": {},
   "outputs": [
    {
     "name": "stdout",
     "output_type": "stream",
     "text": [
      "(488, 11)\n",
      "(488, 10)\n"
     ]
    }
   ],
   "source": [
    "#reset index \n",
    "prediction.set_index('user_id','product_id')\n",
    "#check shape of small_test dataframe\n",
    "print (small_test.shape)\n",
    "#drop duplicates (might need to change axis)\n",
    "small_test=small_test.set_index('user_id','product_id').sort_index().drop_duplicates()\n",
    "print (small_test.shape)"
   ]
  },
  {
   "cell_type": "code",
   "execution_count": 55,
   "metadata": {},
   "outputs": [
    {
     "data": {
      "text/plain": [
       "(3, 9)"
      ]
     },
     "execution_count": 55,
     "metadata": {},
     "output_type": "execute_result"
    }
   ],
   "source": [
    "prediction.shape"
   ]
  },
  {
   "cell_type": "code",
   "execution_count": 56,
   "metadata": {},
   "outputs": [
    {
     "data": {
      "text/html": [
       "<div>\n",
       "<style>\n",
       "    .dataframe thead tr:only-child th {\n",
       "        text-align: right;\n",
       "    }\n",
       "\n",
       "    .dataframe thead th {\n",
       "        text-align: left;\n",
       "    }\n",
       "\n",
       "    .dataframe tbody tr th {\n",
       "        vertical-align: top;\n",
       "    }\n",
       "</style>\n",
       "<table border=\"1\" class=\"dataframe\">\n",
       "  <thead>\n",
       "    <tr style=\"text-align: right;\">\n",
       "      <th></th>\n",
       "      <th>user_id</th>\n",
       "      <th>product_id</th>\n",
       "      <th>prod_order_count</th>\n",
       "      <th>prod_reorder_rate</th>\n",
       "      <th>product_name</th>\n",
       "      <th>aisle_id</th>\n",
       "      <th>department_id</th>\n",
       "      <th>Prediction</th>\n",
       "      <th>ypred</th>\n",
       "    </tr>\n",
       "  </thead>\n",
       "  <tbody>\n",
       "    <tr>\n",
       "      <th>0</th>\n",
       "      <td>2153</td>\n",
       "      <td>4066</td>\n",
       "      <td>1</td>\n",
       "      <td>1.0</td>\n",
       "      <td>Organic Red Heirloom Pasta Sauce</td>\n",
       "      <td>9</td>\n",
       "      <td>9</td>\n",
       "      <td>0.010068</td>\n",
       "      <td>0</td>\n",
       "    </tr>\n",
       "    <tr>\n",
       "      <th>1</th>\n",
       "      <td>2153</td>\n",
       "      <td>27796</td>\n",
       "      <td>1</td>\n",
       "      <td>1.0</td>\n",
       "      <td>Real Mayonnaise</td>\n",
       "      <td>72</td>\n",
       "      <td>13</td>\n",
       "      <td>0.010068</td>\n",
       "      <td>0</td>\n",
       "    </tr>\n",
       "    <tr>\n",
       "      <th>2</th>\n",
       "      <td>2153</td>\n",
       "      <td>34668</td>\n",
       "      <td>1</td>\n",
       "      <td>1.0</td>\n",
       "      <td>Organic Large Grade AA Omega-3 Eggs</td>\n",
       "      <td>86</td>\n",
       "      <td>16</td>\n",
       "      <td>0.010068</td>\n",
       "      <td>0</td>\n",
       "    </tr>\n",
       "  </tbody>\n",
       "</table>\n",
       "</div>"
      ],
      "text/plain": [
       "   user_id  product_id  prod_order_count  prod_reorder_rate  \\\n",
       "0     2153        4066                 1                1.0   \n",
       "1     2153       27796                 1                1.0   \n",
       "2     2153       34668                 1                1.0   \n",
       "\n",
       "                          product_name  aisle_id  department_id  Prediction  \\\n",
       "0     Organic Red Heirloom Pasta Sauce         9              9    0.010068   \n",
       "1                      Real Mayonnaise        72             13    0.010068   \n",
       "2  Organic Large Grade AA Omega-3 Eggs        86             16    0.010068   \n",
       "\n",
       "   ypred  \n",
       "0      0  \n",
       "1      0  \n",
       "2      0  "
      ]
     },
     "execution_count": 56,
     "metadata": {},
     "output_type": "execute_result"
    }
   ],
   "source": [
    "prediction.head()"
   ]
  },
  {
   "cell_type": "code",
   "execution_count": 57,
   "metadata": {
    "collapsed": true
   },
   "outputs": [],
   "source": [
    "#reset both dataframes and set to same index\n",
    "prediction = prediction.reset_index()\n",
    "small_test = small_test.reset_index()\n",
    "prediction = prediction.set_index('user_id','product_id')\n",
    "small_test = small_test.set_index('user_id','product_id')\n",
    "\n",
    "#check difference in index"
   ]
  },
  {
   "cell_type": "code",
   "execution_count": 58,
   "metadata": {},
   "outputs": [
    {
     "data": {
      "text/plain": [
       "Int64Index([  2153,   2153,   2153,  13131,  13131,  13131,  13131,  13131,\n",
       "             13131,  13131,\n",
       "            ...\n",
       "            203190, 203190, 203190, 203190, 203190, 204656, 206054, 206054,\n",
       "            206054, 206054],\n",
       "           dtype='int64', name=u'user_id', length=488)"
      ]
     },
     "execution_count": 58,
     "metadata": {},
     "output_type": "execute_result"
    }
   ],
   "source": [
    "small_test.index"
   ]
  },
  {
   "cell_type": "code",
   "execution_count": 59,
   "metadata": {},
   "outputs": [
    {
     "data": {
      "text/plain": [
       "Int64Index([2153, 2153, 2153], dtype='int64', name=u'user_id')"
      ]
     },
     "execution_count": 59,
     "metadata": {},
     "output_type": "execute_result"
    }
   ],
   "source": [
    "prediction.index"
   ]
  },
  {
   "cell_type": "code",
   "execution_count": 60,
   "metadata": {
    "collapsed": true
   },
   "outputs": [],
   "source": [
    "#create dataframe to get predictions for\n",
    "pred_set=small_test.drop (labels=['add_to_cart_order','days_since_prior_order','reordered' ,'eval_set','order_number', 'order_from_last','order_dow','order_hour_of_day'], axis=1 )"
   ]
  },
  {
   "cell_type": "code",
   "execution_count": 61,
   "metadata": {},
   "outputs": [
    {
     "data": {
      "text/html": [
       "<div>\n",
       "<style>\n",
       "    .dataframe thead tr:only-child th {\n",
       "        text-align: right;\n",
       "    }\n",
       "\n",
       "    .dataframe thead th {\n",
       "        text-align: left;\n",
       "    }\n",
       "\n",
       "    .dataframe tbody tr th {\n",
       "        vertical-align: top;\n",
       "    }\n",
       "</style>\n",
       "<table border=\"1\" class=\"dataframe\">\n",
       "  <thead>\n",
       "    <tr style=\"text-align: right;\">\n",
       "      <th></th>\n",
       "      <th>order_id</th>\n",
       "      <th>product_id</th>\n",
       "    </tr>\n",
       "    <tr>\n",
       "      <th>user_id</th>\n",
       "      <th></th>\n",
       "      <th></th>\n",
       "    </tr>\n",
       "  </thead>\n",
       "  <tbody>\n",
       "    <tr>\n",
       "      <th>2153</th>\n",
       "      <td>2335713</td>\n",
       "      <td>4066</td>\n",
       "    </tr>\n",
       "    <tr>\n",
       "      <th>2153</th>\n",
       "      <td>2335713</td>\n",
       "      <td>10798</td>\n",
       "    </tr>\n",
       "    <tr>\n",
       "      <th>2153</th>\n",
       "      <td>2335713</td>\n",
       "      <td>14875</td>\n",
       "    </tr>\n",
       "    <tr>\n",
       "      <th>13131</th>\n",
       "      <td>1510877</td>\n",
       "      <td>48679</td>\n",
       "    </tr>\n",
       "    <tr>\n",
       "      <th>13131</th>\n",
       "      <td>1510877</td>\n",
       "      <td>6332</td>\n",
       "    </tr>\n",
       "    <tr>\n",
       "      <th>13131</th>\n",
       "      <td>1510877</td>\n",
       "      <td>30391</td>\n",
       "    </tr>\n",
       "  </tbody>\n",
       "</table>\n",
       "</div>"
      ],
      "text/plain": [
       "         order_id  product_id\n",
       "user_id                      \n",
       "2153      2335713        4066\n",
       "2153      2335713       10798\n",
       "2153      2335713       14875\n",
       "13131     1510877       48679\n",
       "13131     1510877        6332\n",
       "13131     1510877       30391"
      ]
     },
     "execution_count": 61,
     "metadata": {},
     "output_type": "execute_result"
    }
   ],
   "source": [
    "#all users and products in test set need to get prediction for each\n",
    "pred_set.head(6)"
   ]
  },
  {
   "cell_type": "code",
   "execution_count": null,
   "metadata": {
    "collapsed": true
   },
   "outputs": [],
   "source": []
  },
  {
   "cell_type": "markdown",
   "metadata": {},
   "source": [
    "prediction['ypred']=0\n",
    "    for j in prediction.index:\n",
    "        if float(prediction['Prediction'][i]) >rate:\n",
    "            prediction['ypred'][j]=1\n",
    "        else:\n",
    "            prediction['ypred'][j]=0"
   ]
  },
  {
   "cell_type": "code",
   "execution_count": 62,
   "metadata": {},
   "outputs": [
    {
     "name": "stderr",
     "output_type": "stream",
     "text": [
      "100%|██████████| 50/50 [00:00<00:00, 64.60it/s]\n"
     ]
    }
   ],
   "source": [
    "#create dictionary to track user predictions\n",
    "svd_user_pred={}\n",
    "\n",
    "# rate for postive label\n",
    "rate=.05\n",
    "\n",
    "#call prediction defined function fro each user and save to dictionary\n",
    "for i in tqdm (xrange(len(users))):\n",
    "    user_purchased, prediction = predicted_reorders(df_predictions, users[i], df_prod, df_rates,.0) \n",
    "    svd_user_pred[i]=prediction\n",
    "    "
   ]
  },
  {
   "cell_type": "code",
   "execution_count": 63,
   "metadata": {},
   "outputs": [
    {
     "name": "stderr",
     "output_type": "stream",
     "text": [
      "  0%|          | 0/50 [00:00<?, ?it/s]\n"
     ]
    },
    {
     "ename": "NameError",
     "evalue": "name 'svd_model' is not defined",
     "output_type": "error",
     "traceback": [
      "\u001b[0;31m---------------------------------------------------------------------------\u001b[0m",
      "\u001b[0;31mNameError\u001b[0m                                 Traceback (most recent call last)",
      "\u001b[0;32m<ipython-input-63-47f211e0a212>\u001b[0m in \u001b[0;36m<module>\u001b[0;34m()\u001b[0m\n\u001b[1;32m      4\u001b[0m \u001b[0;31m#loop over users and build one dataframe of all user predictions\u001b[0m\u001b[0;34m\u001b[0m\u001b[0;34m\u001b[0m\u001b[0m\n\u001b[1;32m      5\u001b[0m \u001b[0;32mfor\u001b[0m \u001b[0mi\u001b[0m \u001b[0;32min\u001b[0m \u001b[0mtqdm\u001b[0m \u001b[0;34m(\u001b[0m\u001b[0mxrange\u001b[0m\u001b[0;34m(\u001b[0m\u001b[0mlen\u001b[0m\u001b[0;34m(\u001b[0m\u001b[0musers\u001b[0m\u001b[0;34m)\u001b[0m\u001b[0;34m)\u001b[0m\u001b[0;34m)\u001b[0m\u001b[0;34m:\u001b[0m\u001b[0;34m\u001b[0m\u001b[0m\n\u001b[0;32m----> 6\u001b[0;31m     \u001b[0msvd_model\u001b[0m \u001b[0;34m=\u001b[0m \u001b[0mpd\u001b[0m\u001b[0;34m.\u001b[0m\u001b[0mconcat\u001b[0m\u001b[0;34m(\u001b[0m\u001b[0;34m[\u001b[0m\u001b[0msvd_model\u001b[0m\u001b[0;34m,\u001b[0m \u001b[0msvd_user_pred\u001b[0m\u001b[0;34m[\u001b[0m\u001b[0mi\u001b[0m\u001b[0;34m]\u001b[0m\u001b[0;34m]\u001b[0m\u001b[0;34m,\u001b[0m\u001b[0mignore_index\u001b[0m\u001b[0;34m=\u001b[0m\u001b[0mTrue\u001b[0m\u001b[0;34m)\u001b[0m\u001b[0;34m\u001b[0m\u001b[0m\n\u001b[0m",
      "\u001b[0;31mNameError\u001b[0m: name 'svd_model' is not defined"
     ]
    }
   ],
   "source": [
    "#\n",
    "#svd_model=svd_user_pred[i]\n",
    "\n",
    "#loop over users and build one dataframe of all user predictions\n",
    "for i in tqdm (xrange(len(users))):\n",
    "    svd_model = pd.concat([svd_model, svd_user_pred[i]],ignore_index=True)"
   ]
  },
  {
   "cell_type": "code",
   "execution_count": null,
   "metadata": {},
   "outputs": [],
   "source": [
    "#Create a prediction column for all users \n",
    "svd_model['ypred']=0\n",
    "\n",
    "#loop over all users and  label positive ir rate surpassed\n",
    "for j in tqdm (svd_model.index):\n",
    "    if float(svd_model['Prediction'][j]) >rate:\n",
    "        svd_model['ypred'][j]=1\n",
    "    else:\n",
    "        svd_model['ypred'][j]=0\n"
   ]
  },
  {
   "cell_type": "code",
   "execution_count": null,
   "metadata": {
    "collapsed": true
   },
   "outputs": [],
   "source": [
    "#drop unnecessary columns\n",
    "svd_model=svd_model.drop(labels=['aisle_id','department_id' ,'prod_order_count','prod_reorder_rate'], axis=1 )"
   ]
  },
  {
   "cell_type": "code",
   "execution_count": null,
   "metadata": {},
   "outputs": [],
   "source": [
    "#dataframe of all products predicted by svd (missing new products from test set need to include)\n",
    "#show example of first user \n",
    "svd_model[svd_model['user_id']==users[0]]"
   ]
  },
  {
   "cell_type": "markdown",
   "metadata": {},
   "source": [
    "Decision point. We did not predict any new product purchases. We will give a negative label to all of these below. The above example show the products that are model predicted for with prediction value and label (ypred)\n",
    "\n",
    "The prediction above only is trained by the previous oreder (previous oreder number 3 for all customers). We will need to keep only product prediction that are in the test set (previous order number 2). "
   ]
  },
  {
   "cell_type": "code",
   "execution_count": null,
   "metadata": {
    "collapsed": true
   },
   "outputs": [],
   "source": [
    "#test_set['ypred']=iset['ypred'].fillna(0)"
   ]
  },
  {
   "cell_type": "code",
   "execution_count": null,
   "metadata": {},
   "outputs": [],
   "source": [
    "#get size of prediction set(test set sized down to our sample users) needed\n",
    "pred_set.shape"
   ]
  },
  {
   "cell_type": "code",
   "execution_count": null,
   "metadata": {},
   "outputs": [],
   "source": [
    "#get size of model predictions (larger we predicted for all orders in previous order)\n",
    "svd_model.shape"
   ]
  },
  {
   "cell_type": "code",
   "execution_count": null,
   "metadata": {
    "collapsed": true
   },
   "outputs": [],
   "source": [
    "#check only user products from test set in new dataframe\n",
    "svd_predicted = pd.merge(svd_model , pred_set.reset_index(),how='right', left_on=['user_id','product_id'], right_on = ['user_id','product_id'])"
   ]
  },
  {
   "cell_type": "code",
   "execution_count": null,
   "metadata": {},
   "outputs": [],
   "source": [
    "svd_predicted.shape"
   ]
  },
  {
   "cell_type": "code",
   "execution_count": null,
   "metadata": {
    "collapsed": true
   },
   "outputs": [],
   "source": [
    "#drop duplicaates\n",
    "svd_predicted= svd_predicted.drop_duplicates()"
   ]
  },
  {
   "cell_type": "code",
   "execution_count": null,
   "metadata": {},
   "outputs": [],
   "source": [
    "#size is correct now (should match pred_set size number of rows)\n",
    "svd_predicted.shape"
   ]
  },
  {
   "cell_type": "code",
   "execution_count": null,
   "metadata": {},
   "outputs": [],
   "source": [
    "#sort by user_id and product_id (in order to match ML_grocery_basket test sets)\n",
    "svd_predicted.sort_values('user_id')"
   ]
  },
  {
   "cell_type": "code",
   "execution_count": null,
   "metadata": {},
   "outputs": [],
   "source": [
    "#see label predicted total\n",
    "svd_predicted['ypred'].sum()"
   ]
  },
  {
   "cell_type": "code",
   "execution_count": null,
   "metadata": {},
   "outputs": [],
   "source": [
    "#fill in NaN values for lables\n",
    "#products we did not train on or predict for get a negative label\n",
    "svd_predicted['ypred']=svd_predicted['ypred'].fillna(0)\n",
    "\n",
    "#should not affect sum above\n",
    "svd_predicted['ypred'].sum()"
   ]
  },
  {
   "cell_type": "code",
   "execution_count": null,
   "metadata": {},
   "outputs": [],
   "source": [
    "#Should not affect sahpe\n",
    "svd_predicted.shape"
   ]
  },
  {
   "cell_type": "code",
   "execution_count": null,
   "metadata": {},
   "outputs": [],
   "source": [
    "#set index to make ML_grocery_basket test index\n",
    "svd_predicted=svd_predicted.sort_values(['user_id','product_id'])\n",
    "svd_predicted"
   ]
  },
  {
   "cell_type": "code",
   "execution_count": null,
   "metadata": {},
   "outputs": [],
   "source": [
    "#save data to pass to ML_grocery notebook to run predictions against other models\n",
    "data_svd = svd_predicted\n",
    "%store svd_predicted\n",
    "#del data # This has deleted the variable"
   ]
  },
  {
   "cell_type": "markdown",
   "metadata": {
    "collapsed": true
   },
   "source": [
    "Can now run ML_grocery_basket last few cells to compare all models"
   ]
  }
 ],
 "metadata": {
  "kernelspec": {
   "display_name": "Python 2",
   "language": "python",
   "name": "python2"
  },
  "language_info": {
   "codemirror_mode": {
    "name": "ipython",
    "version": 2
   },
   "file_extension": ".py",
   "mimetype": "text/x-python",
   "name": "python",
   "nbconvert_exporter": "python",
   "pygments_lexer": "ipython2",
   "version": "2.7.14"
  }
 },
 "nbformat": 4,
 "nbformat_minor": 2
}
