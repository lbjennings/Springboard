{
 "cells": [
  {
   "cell_type": "code",
   "execution_count": 1,
   "metadata": {},
   "outputs": [],
   "source": [
    "#standard packages\n",
    "import pandas as pd\n",
    "import numpy as np\n",
    "#package for loop load time bar\n",
    "from tqdm import tqdm\n",
    "#statistical and machine learning packages\n",
    "import scipy as sp\n",
    "from sklearn.preprocessing import OneHotEncoder\n",
    "\n",
    "#import scoring for machine learning\n",
    "from sklearn import metrics\n",
    "from sklearn.metrics import roc_curve,roc_auc_score, auc,precision_recall_curve,classification_report, confusion_matrix\n",
    "from sklearn.model_selection import RandomizedSearchCV, cross_val_score\n",
    "from sklearn.ensemble import RandomForestClassifier\n",
    "from sklearn import svm\n",
    "\n",
    "\n",
    "\n",
    "#imports for preparing data for sklearn\n",
    "from sklearn.pipeline import Pipeline\n",
    "from sklearn.preprocessing import OneHotEncoder\n",
    "from sklearn. preprocessing import LabelEncoder\n",
    "\n",
    "# packages for plotting \n",
    "import matplotlib.pyplot as plt\n",
    "import seaborn as sns\n",
    "#command to have graphs display in notebook\n",
    "%matplotlib inline"
   ]
  },
  {
   "cell_type": "code",
   "execution_count": 2,
   "metadata": {},
   "outputs": [
    {
     "data": {
      "text/html": [
       "<div>\n",
       "<style>\n",
       "    .dataframe thead tr:only-child th {\n",
       "        text-align: right;\n",
       "    }\n",
       "\n",
       "    .dataframe thead th {\n",
       "        text-align: left;\n",
       "    }\n",
       "\n",
       "    .dataframe tbody tr th {\n",
       "        vertical-align: top;\n",
       "    }\n",
       "</style>\n",
       "<table border=\"1\" class=\"dataframe\">\n",
       "  <thead>\n",
       "    <tr style=\"text-align: right;\">\n",
       "      <th></th>\n",
       "      <th>order_id</th>\n",
       "      <th>user_id</th>\n",
       "      <th>eval_set</th>\n",
       "      <th>order_number</th>\n",
       "      <th>order_dow</th>\n",
       "      <th>order_hour_of_day</th>\n",
       "      <th>days_since_prior_order</th>\n",
       "    </tr>\n",
       "  </thead>\n",
       "  <tbody>\n",
       "    <tr>\n",
       "      <th>0</th>\n",
       "      <td>2539329</td>\n",
       "      <td>1</td>\n",
       "      <td>prior</td>\n",
       "      <td>1</td>\n",
       "      <td>2</td>\n",
       "      <td>8</td>\n",
       "      <td>NaN</td>\n",
       "    </tr>\n",
       "    <tr>\n",
       "      <th>1</th>\n",
       "      <td>2398795</td>\n",
       "      <td>1</td>\n",
       "      <td>prior</td>\n",
       "      <td>2</td>\n",
       "      <td>3</td>\n",
       "      <td>7</td>\n",
       "      <td>15.0</td>\n",
       "    </tr>\n",
       "    <tr>\n",
       "      <th>2</th>\n",
       "      <td>473747</td>\n",
       "      <td>1</td>\n",
       "      <td>prior</td>\n",
       "      <td>3</td>\n",
       "      <td>3</td>\n",
       "      <td>12</td>\n",
       "      <td>21.0</td>\n",
       "    </tr>\n",
       "    <tr>\n",
       "      <th>3</th>\n",
       "      <td>2254736</td>\n",
       "      <td>1</td>\n",
       "      <td>prior</td>\n",
       "      <td>4</td>\n",
       "      <td>4</td>\n",
       "      <td>7</td>\n",
       "      <td>29.0</td>\n",
       "    </tr>\n",
       "    <tr>\n",
       "      <th>4</th>\n",
       "      <td>431534</td>\n",
       "      <td>1</td>\n",
       "      <td>prior</td>\n",
       "      <td>5</td>\n",
       "      <td>4</td>\n",
       "      <td>15</td>\n",
       "      <td>28.0</td>\n",
       "    </tr>\n",
       "  </tbody>\n",
       "</table>\n",
       "</div>"
      ],
      "text/plain": [
       "   order_id  user_id eval_set  order_number  order_dow  order_hour_of_day  \\\n",
       "0   2539329        1    prior             1          2                  8   \n",
       "1   2398795        1    prior             2          3                  7   \n",
       "2    473747        1    prior             3          3                 12   \n",
       "3   2254736        1    prior             4          4                  7   \n",
       "4    431534        1    prior             5          4                 15   \n",
       "\n",
       "   days_since_prior_order  \n",
       "0                     NaN  \n",
       "1                    15.0  \n",
       "2                    21.0  \n",
       "3                    29.0  \n",
       "4                    28.0  "
      ]
     },
     "execution_count": 2,
     "metadata": {},
     "output_type": "execute_result"
    }
   ],
   "source": [
    "#loading user order information\n",
    "instacart_file=pd.read_csv('/Users/luca/anaconda2/Springboard/Capstone Project 1/Data/orders.csv')\n",
    "df_orders=pd.DataFrame(instacart_file,)\n",
    "df_orders.head(5)\n"
   ]
  },
  {
   "cell_type": "code",
   "execution_count": 3,
   "metadata": {},
   "outputs": [
    {
     "data": {
      "text/plain": [
       "order_id                  3421083\n",
       "user_id                    206209\n",
       "eval_set                        3\n",
       "order_number                  100\n",
       "order_dow                       7\n",
       "order_hour_of_day              24\n",
       "days_since_prior_order         31\n",
       "dtype: int64"
      ]
     },
     "execution_count": 3,
     "metadata": {},
     "output_type": "execute_result"
    }
   ],
   "source": [
    "df_orders.nunique()"
   ]
  },
  {
   "cell_type": "code",
   "execution_count": 4,
   "metadata": {
    "collapsed": true
   },
   "outputs": [],
   "source": [
    "#capture the last order information for each user\n",
    "g = df_orders.groupby('user_id')\n",
    "data_p1=g.last()\n",
    "data_p1['order_from_last']=1"
   ]
  },
  {
   "cell_type": "code",
   "execution_count": 5,
   "metadata": {
    "collapsed": true
   },
   "outputs": [],
   "source": [
    "#capture the second to last order information for each user\n",
    "data_p2=g.nth(-2)\n",
    "data_p2['order_from_last']=2"
   ]
  },
  {
   "cell_type": "code",
   "execution_count": 6,
   "metadata": {
    "collapsed": true
   },
   "outputs": [],
   "source": [
    "#capture the third to last order information for each user\n",
    "data_p3=g.nth(-3)\n",
    "data_p3['order_from_last']=3"
   ]
  },
  {
   "cell_type": "code",
   "execution_count": 7,
   "metadata": {
    "collapsed": true
   },
   "outputs": [],
   "source": [
    "#capture the fourth to last order information for each user\n",
    "data_p4=g.nth(-4)\n",
    "data_p4['order_from_last']=4"
   ]
  },
  {
   "cell_type": "markdown",
   "metadata": {},
   "source": [
    "In an effort to save computation time, we will work first with a much smaller portion of the data. At the end of the notebook we will attempt to use as much as our system will allow.\n",
    "\n",
    "## Concern: \n",
    "An issue with data wrangling is deciding how to preserve the time component of order history of the customer. I originally sought to segregate the data by breaking it into chunks by order: the test data is the customer's 2nd previous order, the training data the customer’s the 3rd and 4th previous orders together then splitting on it to cross validate. I then test on the 2nd to previous order as the test set. This was taking way to much time to run. I've adjust to a small test run below. The training data is only a small portion 150 cutomer orders from the 3rd previous order they made. The test set is the customers 2nd previous order. ( The most current previous order did not have lavels for all customers, hence, I choose to move to the customers 2nd previous order).\n",
    "\n",
    "I feel like this should work on a much larger set. This data come from a kaggle competition so I feel like I shouldn't have to reduce as much as I am. Thoughts on how I'm approaching the data set up wrong? Insights in how to reduce run time to maximize data usage? \n",
    "\n",
    "# The small set test drive"
   ]
  },
  {
   "cell_type": "code",
   "execution_count": 8,
   "metadata": {},
   "outputs": [
    {
     "data": {
      "text/html": [
       "<div>\n",
       "<style>\n",
       "    .dataframe thead tr:only-child th {\n",
       "        text-align: right;\n",
       "    }\n",
       "\n",
       "    .dataframe thead th {\n",
       "        text-align: left;\n",
       "    }\n",
       "\n",
       "    .dataframe tbody tr th {\n",
       "        vertical-align: top;\n",
       "    }\n",
       "</style>\n",
       "<table border=\"1\" class=\"dataframe\">\n",
       "  <thead>\n",
       "    <tr style=\"text-align: right;\">\n",
       "      <th></th>\n",
       "      <th>order_id</th>\n",
       "      <th>product_id</th>\n",
       "      <th>add_to_cart_order</th>\n",
       "      <th>reordered</th>\n",
       "    </tr>\n",
       "  </thead>\n",
       "  <tbody>\n",
       "    <tr>\n",
       "      <th>0</th>\n",
       "      <td>2</td>\n",
       "      <td>33120</td>\n",
       "      <td>1</td>\n",
       "      <td>1</td>\n",
       "    </tr>\n",
       "    <tr>\n",
       "      <th>1</th>\n",
       "      <td>2</td>\n",
       "      <td>28985</td>\n",
       "      <td>2</td>\n",
       "      <td>1</td>\n",
       "    </tr>\n",
       "    <tr>\n",
       "      <th>2</th>\n",
       "      <td>2</td>\n",
       "      <td>9327</td>\n",
       "      <td>3</td>\n",
       "      <td>0</td>\n",
       "    </tr>\n",
       "    <tr>\n",
       "      <th>3</th>\n",
       "      <td>2</td>\n",
       "      <td>45918</td>\n",
       "      <td>4</td>\n",
       "      <td>1</td>\n",
       "    </tr>\n",
       "    <tr>\n",
       "      <th>4</th>\n",
       "      <td>2</td>\n",
       "      <td>30035</td>\n",
       "      <td>5</td>\n",
       "      <td>0</td>\n",
       "    </tr>\n",
       "  </tbody>\n",
       "</table>\n",
       "</div>"
      ],
      "text/plain": [
       "   order_id  product_id  add_to_cart_order  reordered\n",
       "0         2       33120                  1          1\n",
       "1         2       28985                  2          1\n",
       "2         2        9327                  3          0\n",
       "3         2       45918                  4          1\n",
       "4         2       30035                  5          0"
      ]
     },
     "execution_count": 8,
     "metadata": {},
     "output_type": "execute_result"
    }
   ],
   "source": [
    "#capture the third to last order information for each user\n",
    "data_p3=data_p3.reset_index()\n",
    "\n",
    "#loading product reorder information\n",
    "instacart_file2=pd.read_csv('/Users/luca/anaconda2/Springboard/Capstone Project 1/Data/order_products__prior.csv')\n",
    "df_prod_orders=pd.DataFrame(instacart_file2,)\n",
    "df_prod_orders.head()"
   ]
  },
  {
   "cell_type": "code",
   "execution_count": 9,
   "metadata": {},
   "outputs": [
    {
     "data": {
      "text/html": [
       "<div>\n",
       "<style>\n",
       "    .dataframe thead tr:only-child th {\n",
       "        text-align: right;\n",
       "    }\n",
       "\n",
       "    .dataframe thead th {\n",
       "        text-align: left;\n",
       "    }\n",
       "\n",
       "    .dataframe tbody tr th {\n",
       "        vertical-align: top;\n",
       "    }\n",
       "</style>\n",
       "<table border=\"1\" class=\"dataframe\">\n",
       "  <thead>\n",
       "    <tr style=\"text-align: right;\">\n",
       "      <th></th>\n",
       "      <th>product_id</th>\n",
       "      <th>product_name</th>\n",
       "      <th>aisle_id</th>\n",
       "      <th>department_id</th>\n",
       "    </tr>\n",
       "  </thead>\n",
       "  <tbody>\n",
       "    <tr>\n",
       "      <th>0</th>\n",
       "      <td>1</td>\n",
       "      <td>Chocolate Sandwich Cookies</td>\n",
       "      <td>61</td>\n",
       "      <td>19</td>\n",
       "    </tr>\n",
       "    <tr>\n",
       "      <th>1</th>\n",
       "      <td>2</td>\n",
       "      <td>All-Seasons Salt</td>\n",
       "      <td>104</td>\n",
       "      <td>13</td>\n",
       "    </tr>\n",
       "    <tr>\n",
       "      <th>2</th>\n",
       "      <td>3</td>\n",
       "      <td>Robust Golden Unsweetened Oolong Tea</td>\n",
       "      <td>94</td>\n",
       "      <td>7</td>\n",
       "    </tr>\n",
       "    <tr>\n",
       "      <th>3</th>\n",
       "      <td>4</td>\n",
       "      <td>Smart Ones Classic Favorites Mini Rigatoni Wit...</td>\n",
       "      <td>38</td>\n",
       "      <td>1</td>\n",
       "    </tr>\n",
       "    <tr>\n",
       "      <th>4</th>\n",
       "      <td>5</td>\n",
       "      <td>Green Chile Anytime Sauce</td>\n",
       "      <td>5</td>\n",
       "      <td>13</td>\n",
       "    </tr>\n",
       "  </tbody>\n",
       "</table>\n",
       "</div>"
      ],
      "text/plain": [
       "   product_id                                       product_name  aisle_id  \\\n",
       "0           1                         Chocolate Sandwich Cookies        61   \n",
       "1           2                                   All-Seasons Salt       104   \n",
       "2           3               Robust Golden Unsweetened Oolong Tea        94   \n",
       "3           4  Smart Ones Classic Favorites Mini Rigatoni Wit...        38   \n",
       "4           5                          Green Chile Anytime Sauce         5   \n",
       "\n",
       "   department_id  \n",
       "0             19  \n",
       "1             13  \n",
       "2              7  \n",
       "3              1  \n",
       "4             13  "
      ]
     },
     "execution_count": 9,
     "metadata": {},
     "output_type": "execute_result"
    }
   ],
   "source": [
    "#loading information for product names\n",
    "instacart_products=pd.read_csv('/Users/luca/anaconda2/Springboard/Capstone Project 1/Data/products.csv')\n",
    "df_prod=pd.DataFrame(instacart_products,)\n",
    "df_prod.head()"
   ]
  },
  {
   "cell_type": "code",
   "execution_count": 10,
   "metadata": {},
   "outputs": [
    {
     "data": {
      "text/html": [
       "<div>\n",
       "<style>\n",
       "    .dataframe thead tr:only-child th {\n",
       "        text-align: right;\n",
       "    }\n",
       "\n",
       "    .dataframe thead th {\n",
       "        text-align: left;\n",
       "    }\n",
       "\n",
       "    .dataframe tbody tr th {\n",
       "        vertical-align: top;\n",
       "    }\n",
       "</style>\n",
       "<table border=\"1\" class=\"dataframe\">\n",
       "  <thead>\n",
       "    <tr style=\"text-align: right;\">\n",
       "      <th></th>\n",
       "      <th>order_id</th>\n",
       "      <th>product_id</th>\n",
       "      <th>add_to_cart_order</th>\n",
       "      <th>reordered</th>\n",
       "      <th>user_id</th>\n",
       "      <th>days_since_prior_order</th>\n",
       "      <th>eval_set</th>\n",
       "      <th>order_dow</th>\n",
       "      <th>order_hour_of_day</th>\n",
       "      <th>order_number</th>\n",
       "      <th>order_from_last</th>\n",
       "    </tr>\n",
       "  </thead>\n",
       "  <tbody>\n",
       "    <tr>\n",
       "      <th>0</th>\n",
       "      <td>7</td>\n",
       "      <td>34050</td>\n",
       "      <td>1</td>\n",
       "      <td>0</td>\n",
       "      <td>142903</td>\n",
       "      <td>30.0</td>\n",
       "      <td>prior</td>\n",
       "      <td>2</td>\n",
       "      <td>14</td>\n",
       "      <td>11</td>\n",
       "      <td>3</td>\n",
       "    </tr>\n",
       "    <tr>\n",
       "      <th>1</th>\n",
       "      <td>7</td>\n",
       "      <td>46802</td>\n",
       "      <td>2</td>\n",
       "      <td>0</td>\n",
       "      <td>142903</td>\n",
       "      <td>30.0</td>\n",
       "      <td>prior</td>\n",
       "      <td>2</td>\n",
       "      <td>14</td>\n",
       "      <td>11</td>\n",
       "      <td>3</td>\n",
       "    </tr>\n",
       "    <tr>\n",
       "      <th>2</th>\n",
       "      <td>16</td>\n",
       "      <td>9755</td>\n",
       "      <td>1</td>\n",
       "      <td>1</td>\n",
       "      <td>174840</td>\n",
       "      <td>13.0</td>\n",
       "      <td>prior</td>\n",
       "      <td>3</td>\n",
       "      <td>12</td>\n",
       "      <td>18</td>\n",
       "      <td>3</td>\n",
       "    </tr>\n",
       "    <tr>\n",
       "      <th>3</th>\n",
       "      <td>16</td>\n",
       "      <td>25466</td>\n",
       "      <td>2</td>\n",
       "      <td>0</td>\n",
       "      <td>174840</td>\n",
       "      <td>13.0</td>\n",
       "      <td>prior</td>\n",
       "      <td>3</td>\n",
       "      <td>12</td>\n",
       "      <td>18</td>\n",
       "      <td>3</td>\n",
       "    </tr>\n",
       "    <tr>\n",
       "      <th>4</th>\n",
       "      <td>16</td>\n",
       "      <td>45437</td>\n",
       "      <td>3</td>\n",
       "      <td>0</td>\n",
       "      <td>174840</td>\n",
       "      <td>13.0</td>\n",
       "      <td>prior</td>\n",
       "      <td>3</td>\n",
       "      <td>12</td>\n",
       "      <td>18</td>\n",
       "      <td>3</td>\n",
       "    </tr>\n",
       "  </tbody>\n",
       "</table>\n",
       "</div>"
      ],
      "text/plain": [
       "   order_id  product_id  add_to_cart_order  reordered  user_id  \\\n",
       "0         7       34050                  1          0   142903   \n",
       "1         7       46802                  2          0   142903   \n",
       "2        16        9755                  1          1   174840   \n",
       "3        16       25466                  2          0   174840   \n",
       "4        16       45437                  3          0   174840   \n",
       "\n",
       "   days_since_prior_order eval_set  order_dow  order_hour_of_day  \\\n",
       "0                    30.0    prior          2                 14   \n",
       "1                    30.0    prior          2                 14   \n",
       "2                    13.0    prior          3                 12   \n",
       "3                    13.0    prior          3                 12   \n",
       "4                    13.0    prior          3                 12   \n",
       "\n",
       "   order_number  order_from_last  \n",
       "0            11                3  \n",
       "1            11                3  \n",
       "2            18                3  \n",
       "3            18                3  \n",
       "4            18                3  "
      ]
     },
     "execution_count": 10,
     "metadata": {},
     "output_type": "execute_result"
    }
   ],
   "source": [
    "#add reorder information to training data\n",
    "df_train=pd.merge(df_prod_orders,data_p3, how= 'inner',left_on=\"order_id\", right_on='order_id')\n",
    "df_train.head()"
   ]
  },
  {
   "cell_type": "code",
   "execution_count": 11,
   "metadata": {},
   "outputs": [
    {
     "data": {
      "text/plain": [
       "order_id                  False\n",
       "product_id                False\n",
       "add_to_cart_order         False\n",
       "reordered                 False\n",
       "user_id                   False\n",
       "days_since_prior_order    False\n",
       "eval_set                  False\n",
       "order_dow                 False\n",
       "order_hour_of_day         False\n",
       "order_number              False\n",
       "order_from_last           False\n",
       "dtype: bool"
      ]
     },
     "execution_count": 11,
     "metadata": {},
     "output_type": "execute_result"
    }
   ],
   "source": [
    "#check to make sure NaN is taken care of \n",
    "df_train.isnull().any()"
   ]
  },
  {
   "cell_type": "code",
   "execution_count": 12,
   "metadata": {},
   "outputs": [
    {
     "data": {
      "text/plain": [
       "order_id                  206209\n",
       "product_id                 42505\n",
       "add_to_cart_order            100\n",
       "reordered                      2\n",
       "user_id                   206209\n",
       "days_since_prior_order        31\n",
       "eval_set                       1\n",
       "order_dow                      7\n",
       "order_hour_of_day             24\n",
       "order_number                  97\n",
       "order_from_last                1\n",
       "dtype: int64"
      ]
     },
     "execution_count": 12,
     "metadata": {},
     "output_type": "execute_result"
    }
   ],
   "source": [
    "#see how many products and users we have \n",
    "df_train.nunique()"
   ]
  },
  {
   "cell_type": "code",
   "execution_count": 13,
   "metadata": {},
   "outputs": [
    {
     "data": {
      "text/plain": [
       "order_id                  548\n",
       "product_id                455\n",
       "add_to_cart_order          31\n",
       "reordered                   2\n",
       "user_id                   548\n",
       "days_since_prior_order     30\n",
       "eval_set                    1\n",
       "order_dow                   7\n",
       "order_hour_of_day          22\n",
       "order_number               66\n",
       "order_from_last             1\n",
       "dtype: int64"
      ]
     },
     "execution_count": 13,
     "metadata": {},
     "output_type": "execute_result"
    }
   ],
   "source": [
    "#sample 150 customers to make predictions for \n",
    "small_train=df_train.sample(550)\n",
    "small_train.nunique()"
   ]
  },
  {
   "cell_type": "code",
   "execution_count": 14,
   "metadata": {},
   "outputs": [
    {
     "data": {
      "text/html": [
       "<div>\n",
       "<style>\n",
       "    .dataframe thead tr:only-child th {\n",
       "        text-align: right;\n",
       "    }\n",
       "\n",
       "    .dataframe thead th {\n",
       "        text-align: left;\n",
       "    }\n",
       "\n",
       "    .dataframe tbody tr th {\n",
       "        vertical-align: top;\n",
       "    }\n",
       "</style>\n",
       "<table border=\"1\" class=\"dataframe\">\n",
       "  <thead>\n",
       "    <tr style=\"text-align: right;\">\n",
       "      <th></th>\n",
       "      <th>order_id</th>\n",
       "      <th>product_id</th>\n",
       "      <th>add_to_cart_order</th>\n",
       "      <th>reordered</th>\n",
       "      <th>user_id</th>\n",
       "      <th>days_since_prior_order</th>\n",
       "      <th>eval_set</th>\n",
       "      <th>order_dow</th>\n",
       "      <th>order_hour_of_day</th>\n",
       "      <th>order_number</th>\n",
       "      <th>order_from_last</th>\n",
       "    </tr>\n",
       "  </thead>\n",
       "  <tbody>\n",
       "    <tr>\n",
       "      <th>0</th>\n",
       "      <td>3657</td>\n",
       "      <td>35921</td>\n",
       "      <td>1</td>\n",
       "      <td>1</td>\n",
       "      <td>89471</td>\n",
       "      <td>3.0</td>\n",
       "      <td>prior</td>\n",
       "      <td>6</td>\n",
       "      <td>8</td>\n",
       "      <td>36</td>\n",
       "      <td>2</td>\n",
       "    </tr>\n",
       "    <tr>\n",
       "      <th>1</th>\n",
       "      <td>3657</td>\n",
       "      <td>46979</td>\n",
       "      <td>2</td>\n",
       "      <td>1</td>\n",
       "      <td>89471</td>\n",
       "      <td>3.0</td>\n",
       "      <td>prior</td>\n",
       "      <td>6</td>\n",
       "      <td>8</td>\n",
       "      <td>36</td>\n",
       "      <td>2</td>\n",
       "    </tr>\n",
       "    <tr>\n",
       "      <th>2</th>\n",
       "      <td>3657</td>\n",
       "      <td>42736</td>\n",
       "      <td>3</td>\n",
       "      <td>1</td>\n",
       "      <td>89471</td>\n",
       "      <td>3.0</td>\n",
       "      <td>prior</td>\n",
       "      <td>6</td>\n",
       "      <td>8</td>\n",
       "      <td>36</td>\n",
       "      <td>2</td>\n",
       "    </tr>\n",
       "    <tr>\n",
       "      <th>3</th>\n",
       "      <td>3657</td>\n",
       "      <td>27845</td>\n",
       "      <td>4</td>\n",
       "      <td>1</td>\n",
       "      <td>89471</td>\n",
       "      <td>3.0</td>\n",
       "      <td>prior</td>\n",
       "      <td>6</td>\n",
       "      <td>8</td>\n",
       "      <td>36</td>\n",
       "      <td>2</td>\n",
       "    </tr>\n",
       "    <tr>\n",
       "      <th>4</th>\n",
       "      <td>4012</td>\n",
       "      <td>21616</td>\n",
       "      <td>1</td>\n",
       "      <td>1</td>\n",
       "      <td>87882</td>\n",
       "      <td>23.0</td>\n",
       "      <td>prior</td>\n",
       "      <td>5</td>\n",
       "      <td>10</td>\n",
       "      <td>5</td>\n",
       "      <td>2</td>\n",
       "    </tr>\n",
       "  </tbody>\n",
       "</table>\n",
       "</div>"
      ],
      "text/plain": [
       "   order_id  product_id  add_to_cart_order  reordered  user_id  \\\n",
       "0      3657       35921                  1          1    89471   \n",
       "1      3657       46979                  2          1    89471   \n",
       "2      3657       42736                  3          1    89471   \n",
       "3      3657       27845                  4          1    89471   \n",
       "4      4012       21616                  1          1    87882   \n",
       "\n",
       "   days_since_prior_order eval_set  order_dow  order_hour_of_day  \\\n",
       "0                     3.0    prior          6                  8   \n",
       "1                     3.0    prior          6                  8   \n",
       "2                     3.0    prior          6                  8   \n",
       "3                     3.0    prior          6                  8   \n",
       "4                    23.0    prior          5                 10   \n",
       "\n",
       "   order_number  order_from_last  \n",
       "0            36                2  \n",
       "1            36                2  \n",
       "2            36                2  \n",
       "3            36                2  \n",
       "4             5                2  "
      ]
     },
     "execution_count": 14,
     "metadata": {},
     "output_type": "execute_result"
    }
   ],
   "source": [
    "#data frame to ensure we have the same users in the test set\n",
    "sample=pd.DataFrame(small_train['user_id'])\n",
    "\n",
    "#capture the second to last order information for each user as a test set\n",
    "data_p2=g.nth(-2)\n",
    "data_p2['order_from_last']=2\n",
    "data_p2=data_p2.reset_index()\n",
    "\n",
    "#for test set add in reorder information\n",
    "df_test=pd.merge(df_prod_orders,data_p2, how= 'inner',left_on=\"order_id\", right_on='order_id')\n",
    "\n",
    "#since we have train and test data broken apart by user previous order we can ensure we test only the users we trained for\n",
    "small_test=pd.merge(df_test,sample, how= 'inner',left_on=\"user_id\", right_on='user_id')\n",
    "small_test.head()"
   ]
  },
  {
   "cell_type": "code",
   "execution_count": 15,
   "metadata": {},
   "outputs": [
    {
     "data": {
      "text/plain": [
       "order_id                   548\n",
       "product_id                3847\n",
       "add_to_cart_order           50\n",
       "reordered                    2\n",
       "user_id                    548\n",
       "days_since_prior_order      31\n",
       "eval_set                     1\n",
       "order_dow                    7\n",
       "order_hour_of_day           22\n",
       "order_number                66\n",
       "order_from_last              1\n",
       "dtype: int64"
      ]
     },
     "execution_count": 15,
     "metadata": {},
     "output_type": "execute_result"
    }
   ],
   "source": [
    "#small_test=df_test.sample(150)\n",
    "small_test.nunique()"
   ]
  },
  {
   "cell_type": "markdown",
   "metadata": {},
   "source": [
    "## Now we prep the feature columns to be in an appropriate format to utilize sklearn api "
   ]
  },
  {
   "cell_type": "code",
   "execution_count": 16,
   "metadata": {},
   "outputs": [
    {
     "data": {
      "text/html": [
       "<div>\n",
       "<style>\n",
       "    .dataframe thead tr:only-child th {\n",
       "        text-align: right;\n",
       "    }\n",
       "\n",
       "    .dataframe thead th {\n",
       "        text-align: left;\n",
       "    }\n",
       "\n",
       "    .dataframe tbody tr th {\n",
       "        vertical-align: top;\n",
       "    }\n",
       "</style>\n",
       "<table border=\"1\" class=\"dataframe\">\n",
       "  <thead>\n",
       "    <tr style=\"text-align: right;\">\n",
       "      <th></th>\n",
       "      <th>order_id</th>\n",
       "      <th>product_id</th>\n",
       "      <th>add_to_cart_order</th>\n",
       "      <th>reordered</th>\n",
       "      <th>user_id</th>\n",
       "      <th>days_since_prior_order</th>\n",
       "      <th>eval_set</th>\n",
       "      <th>order_dow</th>\n",
       "      <th>order_hour_of_day</th>\n",
       "      <th>order_number</th>\n",
       "      <th>order_from_last</th>\n",
       "      <th>day_0</th>\n",
       "      <th>day_1</th>\n",
       "      <th>day_2</th>\n",
       "      <th>day_3</th>\n",
       "      <th>day_4</th>\n",
       "      <th>day_5</th>\n",
       "      <th>day_6</th>\n",
       "    </tr>\n",
       "  </thead>\n",
       "  <tbody>\n",
       "    <tr>\n",
       "      <th>620519</th>\n",
       "      <td>1010474</td>\n",
       "      <td>24852</td>\n",
       "      <td>1</td>\n",
       "      <td>1</td>\n",
       "      <td>74128</td>\n",
       "      <td>30.0</td>\n",
       "      <td>prior</td>\n",
       "      <td>1</td>\n",
       "      <td>10</td>\n",
       "      <td>3</td>\n",
       "      <td>3</td>\n",
       "      <td>0</td>\n",
       "      <td>1</td>\n",
       "      <td>0</td>\n",
       "      <td>0</td>\n",
       "      <td>0</td>\n",
       "      <td>0</td>\n",
       "      <td>0</td>\n",
       "    </tr>\n",
       "    <tr>\n",
       "      <th>1840033</th>\n",
       "      <td>2978823</td>\n",
       "      <td>33754</td>\n",
       "      <td>7</td>\n",
       "      <td>1</td>\n",
       "      <td>50916</td>\n",
       "      <td>13.0</td>\n",
       "      <td>prior</td>\n",
       "      <td>3</td>\n",
       "      <td>17</td>\n",
       "      <td>10</td>\n",
       "      <td>3</td>\n",
       "      <td>0</td>\n",
       "      <td>0</td>\n",
       "      <td>0</td>\n",
       "      <td>1</td>\n",
       "      <td>0</td>\n",
       "      <td>0</td>\n",
       "      <td>0</td>\n",
       "    </tr>\n",
       "    <tr>\n",
       "      <th>578973</th>\n",
       "      <td>942081</td>\n",
       "      <td>31526</td>\n",
       "      <td>13</td>\n",
       "      <td>0</td>\n",
       "      <td>128612</td>\n",
       "      <td>7.0</td>\n",
       "      <td>prior</td>\n",
       "      <td>6</td>\n",
       "      <td>14</td>\n",
       "      <td>9</td>\n",
       "      <td>3</td>\n",
       "      <td>0</td>\n",
       "      <td>0</td>\n",
       "      <td>0</td>\n",
       "      <td>0</td>\n",
       "      <td>0</td>\n",
       "      <td>0</td>\n",
       "      <td>1</td>\n",
       "    </tr>\n",
       "    <tr>\n",
       "      <th>1961723</th>\n",
       "      <td>3174297</td>\n",
       "      <td>17094</td>\n",
       "      <td>5</td>\n",
       "      <td>0</td>\n",
       "      <td>94255</td>\n",
       "      <td>2.0</td>\n",
       "      <td>prior</td>\n",
       "      <td>2</td>\n",
       "      <td>17</td>\n",
       "      <td>8</td>\n",
       "      <td>3</td>\n",
       "      <td>0</td>\n",
       "      <td>0</td>\n",
       "      <td>1</td>\n",
       "      <td>0</td>\n",
       "      <td>0</td>\n",
       "      <td>0</td>\n",
       "      <td>0</td>\n",
       "    </tr>\n",
       "    <tr>\n",
       "      <th>702138</th>\n",
       "      <td>1143686</td>\n",
       "      <td>13176</td>\n",
       "      <td>2</td>\n",
       "      <td>1</td>\n",
       "      <td>176895</td>\n",
       "      <td>8.0</td>\n",
       "      <td>prior</td>\n",
       "      <td>0</td>\n",
       "      <td>10</td>\n",
       "      <td>6</td>\n",
       "      <td>3</td>\n",
       "      <td>1</td>\n",
       "      <td>0</td>\n",
       "      <td>0</td>\n",
       "      <td>0</td>\n",
       "      <td>0</td>\n",
       "      <td>0</td>\n",
       "      <td>0</td>\n",
       "    </tr>\n",
       "  </tbody>\n",
       "</table>\n",
       "</div>"
      ],
      "text/plain": [
       "         order_id  product_id  add_to_cart_order  reordered  user_id  \\\n",
       "620519    1010474       24852                  1          1    74128   \n",
       "1840033   2978823       33754                  7          1    50916   \n",
       "578973     942081       31526                 13          0   128612   \n",
       "1961723   3174297       17094                  5          0    94255   \n",
       "702138    1143686       13176                  2          1   176895   \n",
       "\n",
       "         days_since_prior_order eval_set  order_dow  order_hour_of_day  \\\n",
       "620519                     30.0    prior          1                 10   \n",
       "1840033                    13.0    prior          3                 17   \n",
       "578973                      7.0    prior          6                 14   \n",
       "1961723                     2.0    prior          2                 17   \n",
       "702138                      8.0    prior          0                 10   \n",
       "\n",
       "         order_number  order_from_last  day_0  day_1  day_2  day_3  day_4  \\\n",
       "620519              3                3      0      1      0      0      0   \n",
       "1840033            10                3      0      0      0      1      0   \n",
       "578973              9                3      0      0      0      0      0   \n",
       "1961723             8                3      0      0      1      0      0   \n",
       "702138              6                3      1      0      0      0      0   \n",
       "\n",
       "         day_5  day_6  \n",
       "620519       0      0  \n",
       "1840033      0      0  \n",
       "578973       0      1  \n",
       "1961723      0      0  \n",
       "702138       0      0  "
      ]
     },
     "execution_count": 16,
     "metadata": {},
     "output_type": "execute_result"
    }
   ],
   "source": [
    "#use pandas one hot encoder on training data's order_dow with added 'day' to column name\n",
    "df_dow=pd.get_dummies(small_train['order_dow'],prefix='day')\n",
    "#add reorder information to training data\n",
    "train=pd.merge(small_train,df_dow, how= 'inner',left_index= True, right_index=True)\n",
    "train.head()"
   ]
  },
  {
   "cell_type": "code",
   "execution_count": 17,
   "metadata": {},
   "outputs": [
    {
     "data": {
      "text/html": [
       "<div>\n",
       "<style>\n",
       "    .dataframe thead tr:only-child th {\n",
       "        text-align: right;\n",
       "    }\n",
       "\n",
       "    .dataframe thead th {\n",
       "        text-align: left;\n",
       "    }\n",
       "\n",
       "    .dataframe tbody tr th {\n",
       "        vertical-align: top;\n",
       "    }\n",
       "</style>\n",
       "<table border=\"1\" class=\"dataframe\">\n",
       "  <thead>\n",
       "    <tr style=\"text-align: right;\">\n",
       "      <th></th>\n",
       "      <th>order_id</th>\n",
       "      <th>product_id</th>\n",
       "      <th>add_to_cart_order</th>\n",
       "      <th>reordered</th>\n",
       "      <th>user_id</th>\n",
       "      <th>days_since_prior_order</th>\n",
       "      <th>eval_set</th>\n",
       "      <th>order_dow</th>\n",
       "      <th>order_hour_of_day</th>\n",
       "      <th>order_number</th>\n",
       "      <th>order_from_last</th>\n",
       "      <th>day_0</th>\n",
       "      <th>day_1</th>\n",
       "      <th>day_2</th>\n",
       "      <th>day_3</th>\n",
       "      <th>day_4</th>\n",
       "      <th>day_5</th>\n",
       "      <th>day_6</th>\n",
       "    </tr>\n",
       "  </thead>\n",
       "  <tbody>\n",
       "    <tr>\n",
       "      <th>0</th>\n",
       "      <td>3657</td>\n",
       "      <td>35921</td>\n",
       "      <td>1</td>\n",
       "      <td>1</td>\n",
       "      <td>89471</td>\n",
       "      <td>3.0</td>\n",
       "      <td>prior</td>\n",
       "      <td>6</td>\n",
       "      <td>8</td>\n",
       "      <td>36</td>\n",
       "      <td>2</td>\n",
       "      <td>0</td>\n",
       "      <td>0</td>\n",
       "      <td>0</td>\n",
       "      <td>0</td>\n",
       "      <td>0</td>\n",
       "      <td>0</td>\n",
       "      <td>1</td>\n",
       "    </tr>\n",
       "    <tr>\n",
       "      <th>1</th>\n",
       "      <td>3657</td>\n",
       "      <td>46979</td>\n",
       "      <td>2</td>\n",
       "      <td>1</td>\n",
       "      <td>89471</td>\n",
       "      <td>3.0</td>\n",
       "      <td>prior</td>\n",
       "      <td>6</td>\n",
       "      <td>8</td>\n",
       "      <td>36</td>\n",
       "      <td>2</td>\n",
       "      <td>0</td>\n",
       "      <td>0</td>\n",
       "      <td>0</td>\n",
       "      <td>0</td>\n",
       "      <td>0</td>\n",
       "      <td>0</td>\n",
       "      <td>1</td>\n",
       "    </tr>\n",
       "    <tr>\n",
       "      <th>2</th>\n",
       "      <td>3657</td>\n",
       "      <td>42736</td>\n",
       "      <td>3</td>\n",
       "      <td>1</td>\n",
       "      <td>89471</td>\n",
       "      <td>3.0</td>\n",
       "      <td>prior</td>\n",
       "      <td>6</td>\n",
       "      <td>8</td>\n",
       "      <td>36</td>\n",
       "      <td>2</td>\n",
       "      <td>0</td>\n",
       "      <td>0</td>\n",
       "      <td>0</td>\n",
       "      <td>0</td>\n",
       "      <td>0</td>\n",
       "      <td>0</td>\n",
       "      <td>1</td>\n",
       "    </tr>\n",
       "    <tr>\n",
       "      <th>3</th>\n",
       "      <td>3657</td>\n",
       "      <td>27845</td>\n",
       "      <td>4</td>\n",
       "      <td>1</td>\n",
       "      <td>89471</td>\n",
       "      <td>3.0</td>\n",
       "      <td>prior</td>\n",
       "      <td>6</td>\n",
       "      <td>8</td>\n",
       "      <td>36</td>\n",
       "      <td>2</td>\n",
       "      <td>0</td>\n",
       "      <td>0</td>\n",
       "      <td>0</td>\n",
       "      <td>0</td>\n",
       "      <td>0</td>\n",
       "      <td>0</td>\n",
       "      <td>1</td>\n",
       "    </tr>\n",
       "    <tr>\n",
       "      <th>4</th>\n",
       "      <td>4012</td>\n",
       "      <td>21616</td>\n",
       "      <td>1</td>\n",
       "      <td>1</td>\n",
       "      <td>87882</td>\n",
       "      <td>23.0</td>\n",
       "      <td>prior</td>\n",
       "      <td>5</td>\n",
       "      <td>10</td>\n",
       "      <td>5</td>\n",
       "      <td>2</td>\n",
       "      <td>0</td>\n",
       "      <td>0</td>\n",
       "      <td>0</td>\n",
       "      <td>0</td>\n",
       "      <td>0</td>\n",
       "      <td>1</td>\n",
       "      <td>0</td>\n",
       "    </tr>\n",
       "  </tbody>\n",
       "</table>\n",
       "</div>"
      ],
      "text/plain": [
       "   order_id  product_id  add_to_cart_order  reordered  user_id  \\\n",
       "0      3657       35921                  1          1    89471   \n",
       "1      3657       46979                  2          1    89471   \n",
       "2      3657       42736                  3          1    89471   \n",
       "3      3657       27845                  4          1    89471   \n",
       "4      4012       21616                  1          1    87882   \n",
       "\n",
       "   days_since_prior_order eval_set  order_dow  order_hour_of_day  \\\n",
       "0                     3.0    prior          6                  8   \n",
       "1                     3.0    prior          6                  8   \n",
       "2                     3.0    prior          6                  8   \n",
       "3                     3.0    prior          6                  8   \n",
       "4                    23.0    prior          5                 10   \n",
       "\n",
       "   order_number  order_from_last  day_0  day_1  day_2  day_3  day_4  day_5  \\\n",
       "0            36                2      0      0      0      0      0      0   \n",
       "1            36                2      0      0      0      0      0      0   \n",
       "2            36                2      0      0      0      0      0      0   \n",
       "3            36                2      0      0      0      0      0      0   \n",
       "4             5                2      0      0      0      0      0      1   \n",
       "\n",
       "   day_6  \n",
       "0      1  \n",
       "1      1  \n",
       "2      1  \n",
       "3      1  \n",
       "4      0  "
      ]
     },
     "execution_count": 17,
     "metadata": {},
     "output_type": "execute_result"
    }
   ],
   "source": [
    "#use pandas one hot encoder on test data's order_dow with added 'day' to column name \n",
    "df_dow=pd.get_dummies(small_test['order_dow'],prefix='day')\n",
    "#add reorder information to training data\n",
    "test=pd.merge(small_test,df_dow, how= 'inner',left_index= True, right_index=True)\n",
    "test.head()"
   ]
  },
  {
   "cell_type": "code",
   "execution_count": 18,
   "metadata": {
    "collapsed": true
   },
   "outputs": [],
   "source": [
    "#capture feature names and make a list\n",
    "features=train[['add_to_cart_order', 'days_since_prior_order', 'order_dow','order_hour_of_day', 'order_number', 'order_from_last', 'day_0','day_1', 'day_2', 'day_3', 'day_4', 'day_5', 'day_6']]\n",
    "feature_list = list(features.columns)\n",
    "features=features.columns\n",
    "\n",
    "\n",
    "#make a training set for sklearn features\n",
    "xtrain = train[features]\n",
    "\n",
    "#make a test set for sklearn features\n",
    "xtest = test[features]\n",
    "\n",
    "#convert target column into array for training set\n",
    "ytrain = pd.factorize(small_train['reordered'])[0]\n",
    "\n",
    "#convert target column into array for test set \n",
    "ytest = pd.factorize(small_test['reordered'])[0]\n"
   ]
  },
  {
   "cell_type": "code",
   "execution_count": 19,
   "metadata": {},
   "outputs": [
    {
     "name": "stdout",
     "output_type": "stream",
     "text": [
      "% reorders in training set 0.414545\n",
      "% reorders in test set 0.390753\n"
     ]
    }
   ],
   "source": [
    "#see if the training data has the proper balance of reorders \n",
    "print ('% reorders in training set {:2f}'.format(float(ytrain.sum())/ytrain.size))\n",
    "print ('% reorders in test set {:2f}'.format(float(ytest.sum())/ytest.size))"
   ]
  },
  {
   "cell_type": "markdown",
   "metadata": {},
   "source": [
    "# Question\n",
    "Should I be concerned about the difference here in imbalance here? The EDA of all the data showed that reorders occured at 60% overall. Here in the training set, which is all the 3rd previous orders for customers the reorder rate  and the test set are also different. \n",
    "\n",
    "# Question:\n",
    "What is to long for a runtime? This one, the randomized grid search, takes a few hours in the full set I would like to run.\n"
   ]
  },
  {
   "cell_type": "markdown",
   "metadata": {},
   "source": [
    "## Now we use svm with rbf kernel on the data to make predictions for reorders"
   ]
  },
  {
   "cell_type": "code",
   "execution_count": 20,
   "metadata": {},
   "outputs": [
    {
     "name": "stdout",
     "output_type": "stream",
     "text": [
      "Accuracy on training data: 0.94\n",
      "Accuracy on test data: 0.62\n",
      "F1 Score on train data: 0.9310\n",
      "F1 Score on validation (train-test set) data: 0.3250\n",
      "             precision    recall  f1-score   support\n",
      "\n",
      "          0       0.64      0.86      0.73      4612\n",
      "          1       0.52      0.24      0.32      2958\n",
      "\n",
      "avg / total       0.59      0.62      0.57      7570\n",
      "\n"
     ]
    }
   ],
   "source": [
    "#to tune parameters \n",
    "clf=svm.SVC(kernel='rbf')\n",
    "\n",
    "#fit classifier to validation set\n",
    "clf.fit( xtrain , ytrain )\n",
    "\n",
    "#get the prediction set for the validation \n",
    "preds_train_svm = clf.predict( xtrain )\n",
    "\n",
    "#make some predictions\n",
    "preds_svm = clf.predict( xtest )\n",
    "\n",
    "\n",
    "#print the accuracy score for the training data\n",
    "training_accuracy = clf.score( xtrain , ytrain )\n",
    "print(\"Accuracy on training data: {:0.2f}\".format( training_accuracy ) )\n",
    "\n",
    "#print the accuracy score for the test data\n",
    "test_accuracy = clf.score(xtest , ytest)\n",
    "print(\"Accuracy on test data: {:0.2f}\".format( test_accuracy ) )\n",
    "\n",
    "#print training f1 score\n",
    "fscore_train = metrics.f1_score( ytrain , preds_train_svm )\n",
    "print(\"F1 Score on train data: {:0.4f}\".format(fscore_train))\n",
    "\n",
    "#print testing f1 score\n",
    "fscore = metrics.f1_score( ytest , preds_svm , pos_label=1 )\n",
    "print(\"F1 Score on validation (train-test set) data: {:0.4f}\".format( fscore ) )\n",
    "\n",
    "print (classification_report( ytest , preds_svm ))"
   ]
  },
  {
   "cell_type": "markdown",
   "metadata": {},
   "source": [
    "   # I should tune parametes here. Definitely overfitting\n",
    "   \n",
    "   SVM does not have predict_proba module. We can instead plot the distance from the decision line.\n",
    "   Can plot a histogram od the decision function. Need to work on making plot of the decision function on the plane. \n",
    "   See if I can plot the support vectors as well.\n"
   ]
  },
  {
   "cell_type": "code",
   "execution_count": 21,
   "metadata": {},
   "outputs": [
    {
     "name": "stdout",
     "output_type": "stream",
     "text": [
      "<class 'pandas.core.frame.DataFrame'>\n",
      "RangeIndex: 49688 entries, 0 to 49687\n",
      "Data columns (total 4 columns):\n",
      "product_id       49688 non-null int64\n",
      "product_name     49688 non-null object\n",
      "aisle_id         49688 non-null int64\n",
      "department_id    49688 non-null int64\n",
      "dtypes: int64(3), object(1)\n",
      "memory usage: 1.5+ MB\n"
     ]
    }
   ],
   "source": [
    "df_prod.info()"
   ]
  },
  {
   "cell_type": "code",
   "execution_count": 22,
   "metadata": {},
   "outputs": [
    {
     "data": {
      "text/plain": [
       "array([[3957,  655],\n",
       "       [2257,  701]])"
      ]
     },
     "execution_count": 22,
     "metadata": {},
     "output_type": "execute_result"
    }
   ],
   "source": [
    "#look at confusion matrix\n",
    "confusion_matrix( ytest , preds_svm )"
   ]
  },
  {
   "cell_type": "code",
   "execution_count": 23,
   "metadata": {},
   "outputs": [
    {
     "data": {
      "image/png": "[encoded data removed]",
      "text/plain": [
       "<matplotlib.figure.Figure at 0x1a0ef82c50>"
      ]
     },
     "metadata": {},
     "output_type": "display_data"
    }
   ],
   "source": [
    "#can look at decision line \n",
    "clf.decision_function(xtest)\n",
    "\n",
    "#plot the histogram of distance from boundry\n",
    "plt.hist(clf.decision_function(xtest),edgecolor='k')\n",
    "#add labels and title\n",
    "plt.xlabel(\"Distance from Decistion Line\", {'fontsize': 14})\n",
    "plt.ylabel(\"Number of Points\", {'fontsize': 14})\n",
    "\n",
    "plt.title(\"SVM Data Points Distance from Decision Line\", {'fontsize': 14})\n",
    "#save figure for papers\n",
    "plt.tight_layout()\n",
    "plt.savefig('svm_distance.png')\n",
    "#show figure in notebook\n",
    "plt.show()"
   ]
  },
  {
   "cell_type": "markdown",
   "metadata": {},
   "source": [
    "## Now look at model measurements: ROC Curve, Precision-Recall Curves and AUC "
   ]
  },
  {
   "cell_type": "code",
   "execution_count": 24,
   "metadata": {},
   "outputs": [
    {
     "data": {
      "image/png": "[encoded data removed]",
      "text/plain": [
       "<matplotlib.figure.Figure at 0x1a0e3eddd0>"
      ]
     },
     "metadata": {},
     "output_type": "display_data"
    }
   ],
   "source": [
    "#predict the probabilities for each observation in training set\n",
    "#pred_train_prob_svm = clf.decision_function(xtrain)[:,1]\n",
    "\n",
    "#predict the probabilities for each observation in test set\n",
    "#pred_prob_svm = clf.predict_proba(xtest)[:,1]\n",
    "\n",
    "#get false positive rate, true positive rate, and thresholds for training data\n",
    "xfpr , xtpr , xthres = roc_curve(ytrain , clf.decision_function(xtrain) )\n",
    "\n",
    "#get false positive rate, true positive rate, and thresholds for test data\n",
    "fpr , tpr , thres = roc_curve( ytest , clf.decision_function(xtest))\n",
    "\n",
    "#plot base line at .5 probability\n",
    "plt.plot([0,1],[0,1],'k--')\n",
    "#plot model train and test\n",
    "plt.plot(fpr,tpr,label='testing data')\n",
    "plt.plot(xfpr,xtpr, 'g-',label='training data')\n",
    "#add labels\n",
    "plt.xlabel(\"False Positive Rate\")\n",
    "plt.ylabel(\"True Positive Rate\")\n",
    "plt.title('ROC Curve')\n",
    "plt.legend(loc=4)\n",
    "plt.show()"
   ]
  },
  {
   "cell_type": "code",
   "execution_count": 25,
   "metadata": {},
   "outputs": [
    {
     "data": {
      "image/png": "[encoded data removed]",
      "text/plain": [
       "<matplotlib.figure.Figure at 0x1a0ef716d0>"
      ]
     },
     "metadata": {},
     "output_type": "display_data"
    }
   ],
   "source": [
    "xprec_score,xrecall_score,xthresholds=precision_recall_curve( ytrain , clf.decision_function(xtrain) )\n",
    "\n",
    "prec_score,recall_score,thresholds=precision_recall_curve( ytest , clf.decision_function(xtest))\n",
    "\n",
    "plt.plot([1,0],[0,1],'k--')\n",
    "plt.plot(recall_score,prec_score,label='testing data')\n",
    "plt.plot(xrecall_score,xprec_score,'g-',label='training data')\n",
    "#plt.plot(xfpr,xtpr, 'g-',label='training data')\n",
    "plt.xlabel(\"Recall\")\n",
    "plt.ylabel(\"Precision\")\n",
    "plt.title('Precision-Recall Curve')\n",
    "plt.legend(loc=3)\n",
    "plt.show()"
   ]
  },
  {
   "cell_type": "code",
   "execution_count": 26,
   "metadata": {},
   "outputs": [
    {
     "data": {
      "text/plain": [
       "0.5949719534013922"
      ]
     },
     "execution_count": 26,
     "metadata": {},
     "output_type": "execute_result"
    }
   ],
   "source": [
    "roc_auc_score(ytest , clf.decision_function(xtest))"
   ]
  },
  {
   "cell_type": "code",
   "execution_count": 27,
   "metadata": {},
   "outputs": [
    {
     "name": "stdout",
     "output_type": "stream",
     "text": [
      "[ 0.58795987  0.62374582  0.66372283  0.578125    0.61180556]\n"
     ]
    }
   ],
   "source": [
    "cv_auc_scores=cross_val_score(clf, xtrain , ytrain, cv=5, scoring='roc_auc')\n",
    "print(cv_auc_scores)"
   ]
  },
  {
   "cell_type": "markdown",
   "metadata": {},
   "source": [
    "## The above was with default settings lets tune the model and see if we can imporve."
   ]
  },
  {
   "cell_type": "code",
   "execution_count": 28,
   "metadata": {},
   "outputs": [
    {
     "name": "stderr",
     "output_type": "stream",
     "text": [
      "/Users/luca/anaconda2/lib/python2.7/site-packages/sklearn/metrics/classification.py:1135: UndefinedMetricWarning: F-score is ill-defined and being set to 0.0 due to no predicted samples.\n",
      "  'precision', 'predicted', average, warn_for)\n",
      "/Users/luca/anaconda2/lib/python2.7/site-packages/sklearn/metrics/classification.py:1135: UndefinedMetricWarning: F-score is ill-defined and being set to 0.0 due to no predicted samples.\n",
      "  'precision', 'predicted', average, warn_for)\n"
     ]
    },
    {
     "data": {
      "text/plain": [
       "RandomizedSearchCV(cv=StratifiedShuffleSplit(n_splits=5, random_state=42, test_size=0.2,\n",
       "            train_size=None),\n",
       "          error_score='raise',\n",
       "          estimator=SVC(C=1.0, cache_size=200, class_weight=None, coef0=0.0,\n",
       "  decision_function_shape='ovr', degree=3, gamma='auto', kernel='rbf',\n",
       "  max_iter=-1, probability=False, random_state=None, shrinking=True,\n",
       "  tol=0.001, verbose=False),\n",
       "          fit_params=None, iid=True, n_iter=10, n_jobs=2,\n",
       "          param_distributions={'C': array([  1.00000e-02,   1.00000e-01,   1.00000e+00,   1.00000e+01,\n",
       "         1.00000e+02,   1.00000e+03,   1.00000e+04,   1.00000e+05,\n",
       "         1.00000e+06,   1.00000e+07,   1.00000e+08,   1.00000e+09,\n",
       "         1.00000e+10]), 'gamma': array([  1.00000e-09,   1.00000e-08,   1.00000e-07,   1.00000e-06,\n",
       "         1.00000e-05,   1.00000e-04,   1.00000e-03,   1.00000e-02,\n",
       "         1.00000e-01,   1.00000e+00,   1.00000e+01,   1.00000e+02,\n",
       "         1.00000e+03])},\n",
       "          pre_dispatch='2*n_jobs', random_state=42, refit=True,\n",
       "          return_train_score='warn', scoring='f1', verbose=0)"
      ]
     },
     "execution_count": 28,
     "metadata": {},
     "output_type": "execute_result"
    }
   ],
   "source": [
    "#know lets tune the parameters for the svm \n",
    "from sklearn.model_selection import StratifiedShuffleSplit\n",
    "\n",
    "# Sklearn recommends for an initial search, a logarithmic grid with basis 10 is often helpful. Using a basis \n",
    "# of 2, a finer tuning can be achieved but at a much higher cost.\n",
    "\n",
    "C_range = np.logspace(-2, 10, 13)\n",
    "gamma_range = np.logspace(-9, 3, 13)\n",
    "#param_grid = dict(gamma=gamma_range, C=C_range)\n",
    "\n",
    "parameters = {'C': C_range , 'gamma' : gamma_range }\n",
    "cv = StratifiedShuffleSplit(n_splits=5, test_size=0.2, random_state=42)\n",
    "#grid = GridSearchCV(SVC(), param_grid=param_grid, cv=cv)\n",
    "            \n",
    "\n",
    "#randomize grid search for parameters with cross validation and refit on entire training set\n",
    "#spread across two jobs and seed a random state\n",
    "rs = RandomizedSearchCV(clf,  param_distributions= parameters ,cv= cv, refit= True, n_jobs= 2, random_state= 42, scoring='f1')\n",
    "\n",
    "#fit grid search on random forest over grid\n",
    "rs.fit( xtrain ,  ytrain )"
   ]
  },
  {
   "cell_type": "markdown",
   "metadata": {},
   "source": [
    "# Question:\n",
    "Does my approach at cross-validation voilate any principles? Do you see anything wrong here? Can I do it better?"
   ]
  },
  {
   "cell_type": "code",
   "execution_count": 29,
   "metadata": {},
   "outputs": [
    {
     "name": "stdout",
     "output_type": "stream",
     "text": [
      "the best regulization C is 10000000000.0 and the best gamma, radius of influence of support vectors is 0.001\n",
      "the best f1 score with these is 0.522164702437\n"
     ]
    }
   ],
   "source": [
    "#save best parameters to use on test set\n",
    "best_c = rs.best_params_['C'] \n",
    "best_gamma=rs.best_params_['gamma'] \n",
    "\n",
    "#print best parameter results\n",
    "print(\"the best regulization C is {} and the best gamma, radius of influence of support vectors is {}\".format(best_c,best_gamma))\n",
    "print(\"the best f1 score with these is {}\".format(rs.best_score_))"
   ]
  },
  {
   "cell_type": "code",
   "execution_count": 30,
   "metadata": {},
   "outputs": [
    {
     "name": "stdout",
     "output_type": "stream",
     "text": [
      "Accuracy on training data: 0.85\n",
      "Accuracy on test data: 0.53\n",
      "F1 Score on train data: 0.8243\n",
      "F1 Score on validation (train-test set) data: 0.4266\n",
      "             precision    recall  f1-score   support\n",
      "\n",
      "          0       0.62      0.59      0.61      4612\n",
      "          1       0.41      0.45      0.43      2958\n",
      "\n",
      "avg / total       0.54      0.53      0.54      7570\n",
      "\n"
     ]
    }
   ],
   "source": [
    "#to tune parameters \n",
    "clf_svm=svm.SVC( kernel='rbf', C= best_c , gamma= best_gamma )\n",
    "\n",
    "#fit classifier to validation set\n",
    "clf_svm.fit( xtrain , ytrain )\n",
    "\n",
    "#get the prediction set for the validation \n",
    "preds_train_svm = clf_svm.predict( xtrain )\n",
    "\n",
    "#make some predictions\n",
    "preds_svm = clf_svm.predict( xtest )\n",
    "\n",
    "\n",
    "#print the accuracy score for the training data\n",
    "training_accuracy = clf_svm.score( xtrain , ytrain )\n",
    "print(\"Accuracy on training data: {:0.2f}\".format( training_accuracy ) )\n",
    "\n",
    "#print the accuracy score for the test data\n",
    "test_accuracy = clf_svm.score(xtest , ytest)\n",
    "print(\"Accuracy on test data: {:0.2f}\".format( test_accuracy ) )\n",
    "\n",
    "#print training f1 score\n",
    "fscore_train = metrics.f1_score( ytrain , preds_train_svm )\n",
    "print(\"F1 Score on train data: {:0.4f}\".format(fscore_train))\n",
    "\n",
    "#print testing f1 score\n",
    "fscore = metrics.f1_score( ytest , preds_svm , pos_label=1 )\n",
    "print(\"F1 Score on validation (train-test set) data: {:0.4f}\".format( fscore ) )\n",
    "\n",
    "print (classification_report( ytest , preds_svm ))"
   ]
  },
  {
   "cell_type": "code",
   "execution_count": 31,
   "metadata": {},
   "outputs": [
    {
     "data": {
      "image/png": "[encoded data removed]",
      "text/plain": [
       "<matplotlib.figure.Figure at 0x10749b9d0>"
      ]
     },
     "metadata": {},
     "output_type": "display_data"
    },
    {
     "data": {
      "image/png": "[encoded data removed]",
      "text/plain": [
       "<matplotlib.figure.Figure at 0x1a11306690>"
      ]
     },
     "metadata": {},
     "output_type": "display_data"
    },
    {
     "data": {
      "image/png": "[encoded data removed]",
      "text/plain": [
       "<matplotlib.figure.Figure at 0x1a112e8f90>"
      ]
     },
     "metadata": {},
     "output_type": "display_data"
    },
    {
     "name": "stdout",
     "output_type": "stream",
     "text": [
      "The Area Under the Curve foe the Support Vector Machine is 0.53\n"
     ]
    }
   ],
   "source": [
    "#can look at decision line \n",
    "clf_svm.decision_function(xtest)\n",
    "\n",
    "#plot the histogram of distance from boundry\n",
    "plt.hist(clf_svm.decision_function(xtest),edgecolor='k' )\n",
    "#add labels\n",
    "plt.xlabel(\"Distance from Boundry Line\")\n",
    "plt.ylabel(\"Samples\")\n",
    "plt.title('SVM Decision Funciton Histogram')\n",
    "plt.legend(loc=3)\n",
    "plt.show()\n",
    "\n",
    "\n",
    "#plot ROC curve \n",
    "#get false positive rate, true positive rate, and thresholds for training data\n",
    "xfpr_svm , xtpr_svm , xthres_svm = roc_curve(ytrain , clf_svm.decision_function(xtrain) )\n",
    "\n",
    "#get false positive rate, true positive rate, and thresholds for test data\n",
    "fpr_svm , tpr_svm , thres_svm = roc_curve( ytest , clf_svm.decision_function(xtest) )\n",
    "\n",
    "#plot base line at .5 probability\n",
    "plt.plot( [0,1] , [0,1] , 'k--' )\n",
    "#plot model train and test\n",
    "plt.plot( fpr_svm , tpr_svm , label= 'testing data')\n",
    "plt.plot( xfpr_svm , xtpr_svm , 'g-', label= 'training data')\n",
    "#add labels\n",
    "plt.xlabel(\"False Positive Rate\")\n",
    "plt.ylabel(\"True Positive Rate\")\n",
    "plt.title('SVM ROC Curve')\n",
    "plt.legend(loc=4)\n",
    "plt.show()\n",
    "\n",
    "#plot the precision-recall curve for tuned model\n",
    "#get values for training set\n",
    "xprec_score_svm , xrecall_score_svm ,xthresholds_svm =precision_recall_curve( ytrain , clf_svm.decision_function(xtrain) )\n",
    "#get values for test set\n",
    "prec_score_svm , recall_score_svm , thresholds_svm = precision_recall_curve( ytest , clf_svm.decision_function(xtest))\n",
    "\n",
    "#plot lines\n",
    "plt.plot( [1,0] , [0,1] , 'k--' )\n",
    "plt.plot( recall_score_svm , prec_score_svm , label= 'testing data')\n",
    "plt.plot( xrecall_score_svm , xprec_score_svm , 'g-' , label= 'training data')\n",
    "#add labels\n",
    "plt.xlabel(\"Recall\")\n",
    "plt.ylabel(\"Precision\")\n",
    "plt.title('SVM Precision-Recall Curve')\n",
    "plt.legend(loc=3)\n",
    "plt.show()\n",
    "         \n",
    "svm_test_auc=roc_auc_score(ytest , clf_svm.decision_function(xtest))  \n",
    "print(\"The Area Under the Curve foe the Support Vector Machine is {:.2f}\".format(svm_test_auc))"
   ]
  },
  {
   "cell_type": "markdown",
   "metadata": {},
   "source": [
    "## Improvements to make later: add one hot encode to hod column, scale/normalize all features, cross validate the auc scores, plot decision boundry on plane, add feature engineering...\n",
    "\n",
    "# Next Random Forest \n",
    "the mini version"
   ]
  },
  {
   "cell_type": "code",
   "execution_count": 32,
   "metadata": {},
   "outputs": [
    {
     "data": {
      "text/plain": [
       "RandomizedSearchCV(cv=5, error_score='raise',\n",
       "          estimator=RandomForestClassifier(bootstrap=True, class_weight=None, criterion='gini',\n",
       "            max_depth=None, max_features='auto', max_leaf_nodes=None,\n",
       "            min_impurity_decrease=0.0, min_impurity_split=None,\n",
       "            min_samples_leaf=1, min_samples_split=2,\n",
       "            min_weight_fraction_leaf=0.0, n_estimators=10, n_jobs=1,\n",
       "            oob_score=False, random_state=None, verbose=0,\n",
       "            warm_start=False),\n",
       "          fit_params=None, iid=True, n_iter=10, n_jobs=2,\n",
       "          param_distributions={'n_estimators': [20, 21, 22, 23, 24, 25, 26, 27, 28, 29, 30, 31, 32, 33, 34, 35, 36, 37, 38, 39], 'max_features': ['auto', 1, 2, 3, 4, 5]},\n",
       "          pre_dispatch='2*n_jobs', random_state=42, refit=True,\n",
       "          return_train_score='warn', scoring='f1', verbose=0)"
      ]
     },
     "execution_count": 32,
     "metadata": {},
     "output_type": "execute_result"
    }
   ],
   "source": [
    "#know lets tune the parameters for the random forest\n",
    "\n",
    "#set parametets to tune in Random Grid Search (# trees in forest and # of features per tree)\n",
    "parameters={'n_estimators':range(20,40),'max_features':['auto',1,2,3,4,5]}\n",
    "\n",
    "#create an instance of the random forest classifier\n",
    "rf=RandomForestClassifier()\n",
    "\n",
    "#randomize grid search for parameters with cross validation and refit on entire training set\n",
    "#spread across two jobs and seed a random state\n",
    "rs = RandomizedSearchCV(rf, param_distributions=parameters,cv=5,refit=True,n_jobs=2,random_state=42,scoring='f1')\n",
    "\n",
    "#fit grid search on random forest over grid\n",
    "rs.fit( xtrain ,  ytrain )"
   ]
  },
  {
   "cell_type": "markdown",
   "metadata": {},
   "source": [
    "## Question\n",
    "How do you pick the appropriate range for # of trees? The best # of trees was at the top range of trees. I’m thinking the model will always want the top number (its overfitting).  Should I also tune the gini purity or the minimum leaf node parameter? What all do you recommend to tune in the random forest? \n",
    "\n",
    "Model is overfitting on training data (.86 compared to .61). Could look at tuning the gini-index (or leaf node min).\n"
   ]
  },
  {
   "cell_type": "code",
   "execution_count": 33,
   "metadata": {},
   "outputs": [
    {
     "name": "stdout",
     "output_type": "stream",
     "text": [
      "the best number of trees is 33 with a maximum number of features of 3\n",
      "the best f1 score with these is 0.52751742144\n"
     ]
    }
   ],
   "source": [
    "#save best parameters to use on test set\n",
    "best_n = rs.best_params_['n_estimators'] \n",
    "best_features=rs.best_params_['max_features'] \n",
    "\n",
    "#print best parameter results\n",
    "print(\"the best number of trees is {} with a maximum number of features of {}\".format(best_n,best_features))\n",
    "print(\"the best f1 score with these is {}\".format(rs.best_score_))"
   ]
  },
  {
   "cell_type": "code",
   "execution_count": 34,
   "metadata": {},
   "outputs": [
    {
     "name": "stdout",
     "output_type": "stream",
     "text": [
      "Accuracy on training data: 1.00\n",
      "Accuracy on test data: 0.63\n",
      "F1 Score on train data: 0.9978\n",
      "F1 Score on validation (train-test set) data: 0.4831\n",
      "             precision    recall  f1-score   support\n",
      "\n",
      "          0       0.68      0.75      0.71      4612\n",
      "          1       0.53      0.44      0.48      2958\n",
      "\n",
      "avg / total       0.62      0.63      0.62      7570\n",
      "\n"
     ]
    }
   ],
   "source": [
    "#create classifier from best parameters out of grid search\n",
    "clf_rf=rs.best_estimator_\n",
    "#fit classifier to validation set\n",
    "clf_rf.fit(xtrain,ytrain)\n",
    "\n",
    "#get the prediction set for the validation \n",
    "preds_train_rf = clf_rf.predict(xtrain)\n",
    "\n",
    "#make some predictions\n",
    "preds_rf = clf_rf.predict(xtest)\n",
    "\n",
    "\n",
    "#print the accuracy score for the training data\n",
    "training_accuracy = clf_rf.score( xtrain , ytrain )\n",
    "print(\"Accuracy on training data: {:0.2f}\".format( training_accuracy ) )\n",
    "\n",
    "#print the accuracy score for the test data\n",
    "test_accuracy = clf_rf.score(xtest , ytest)\n",
    "print(\"Accuracy on test data: {:0.2f}\".format( test_accuracy ) )\n",
    "\n",
    "#print training f1 score\n",
    "fscore_train = metrics.f1_score( ytrain , preds_train_rf )\n",
    "print(\"F1 Score on train data: {:0.4f}\".format(fscore_train))\n",
    "\n",
    "#print testing f1 score\n",
    "fscore = metrics.f1_score( ytest , preds_rf , pos_label=1 )\n",
    "print(\"F1 Score on validation (train-test set) data: {:0.4f}\".format( fscore ) )\n",
    "\n",
    "\n",
    "print ( classification_report ( ytest , preds_rf ))"
   ]
  },
  {
   "cell_type": "code",
   "execution_count": 35,
   "metadata": {},
   "outputs": [
    {
     "data": {
      "text/plain": [
       "array([[3444, 1168],\n",
       "       [1644, 1314]])"
      ]
     },
     "execution_count": 35,
     "metadata": {},
     "output_type": "execute_result"
    }
   ],
   "source": [
    "#look at confusion matrix\n",
    "confusion_matrix( ytest , preds_rf )"
   ]
  },
  {
   "cell_type": "code",
   "execution_count": 36,
   "metadata": {
    "collapsed": true
   },
   "outputs": [],
   "source": [
    "#Capture model feature importance \n",
    "importances=clf_rf.feature_importances_"
   ]
  },
  {
   "cell_type": "code",
   "execution_count": 37,
   "metadata": {},
   "outputs": [
    {
     "data": {
      "image/png": "[encoded data removed]",
      "text/plain": [
       "<matplotlib.figure.Figure at 0x1a11333b50>"
      ]
     },
     "metadata": {},
     "output_type": "display_data"
    }
   ],
   "source": [
    "#plot the variable importances\n",
    "# Set the style\n",
    "plt.style.use('fivethirtyeight')\n",
    "# list of x locations for plotting\n",
    "x_values = list(range(len(importances)))\n",
    "# Make a bar chart\n",
    "plt.bar(x_values, importances, orientation = 'vertical')\n",
    "# Tick labels for x axis\n",
    "plt.xticks(x_values, feature_list, rotation='vertical')\n",
    "# Axis labels and title\n",
    "plt.ylabel('Importance'); plt.xlabel('Variable'); plt.title('Random Forest Variable Importances');\n",
    "\n",
    "#save figure\n",
    "plt.savefig('feature_importance.png')\n",
    "#show figure in notebook\n",
    "plt.show()"
   ]
  },
  {
   "cell_type": "code",
   "execution_count": 38,
   "metadata": {},
   "outputs": [
    {
     "data": {
      "image/png": "[encoded data removed]",
      "text/plain": [
       "<matplotlib.figure.Figure at 0x109b42690>"
      ]
     },
     "metadata": {},
     "output_type": "display_data"
    }
   ],
   "source": [
    "#predict the probabilities for each observation in training set\n",
    "pred_train_prob_rf = clf_rf.predict_proba(xtrain)[:,1]\n",
    "\n",
    "#predict the probabilities for each observation in test set\n",
    "pred_prob_rf = clf_rf.predict_proba(xtest)[:,1]\n",
    "\n",
    "#get false positive rate, true positive rate, and thresholds for training data\n",
    "xfpr_rf , xtpr_rf , xthres_rf = roc_curve(ytrain , pred_train_prob_rf )\n",
    "\n",
    "#get false positive rate, true positive rate, and thresholds for test data\n",
    "fpr_rf , tpr_rf , thres_rf = roc_curve( ytest , pred_prob_rf )\n",
    "\n",
    "#plot base line at .5 probability\n",
    "plt.plot([0,1],[0,1],'k--')\n",
    "#plot model train and test\n",
    "plt.plot( fpr_rf , tpr_rf ,label='testing data')\n",
    "plt.plot( xfpr_rf , xtpr_rf , 'g-',label='training data')\n",
    "#add labels\n",
    "plt.xlabel(\"False Positive Rate\")\n",
    "plt.ylabel(\"True Positive Rate\")\n",
    "plt.title('Random Forest ROC Curve')\n",
    "plt.legend(loc=4)\n",
    "plt.show()"
   ]
  },
  {
   "cell_type": "code",
   "execution_count": 39,
   "metadata": {},
   "outputs": [
    {
     "data": {
      "image/png": "[encoded data removed]",
      "text/plain": [
       "<matplotlib.figure.Figure at 0x1a11333b10>"
      ]
     },
     "metadata": {},
     "output_type": "display_data"
    }
   ],
   "source": [
    "\n",
    "xprec_score_rf , xrecall_score_rf ,xthresholds_rf = precision_recall_curve( ytrain , pred_train_prob_rf )\n",
    "\n",
    "prec_score_rf , recall_score_rf ,thresholds_rf = precision_recall_curve( ytest , pred_prob_rf)\n",
    "\n",
    "plt.plot([1,0],[0,1],'k--')\n",
    "plt.plot( recall_score_rf , prec_score_rf ,label='testing data')\n",
    "plt.plot( xrecall_score_rf , xprec_score_rf ,'g-',label='training data')\n",
    "\n",
    "#plt.plot(xfpr,xtpr, 'g-',label='training data')\n",
    "plt.xlabel(\"Recall\")\n",
    "plt.ylabel(\"Precision\")\n",
    "plt.title('Random Forest Precision-Recall Curve')\n",
    "plt.legend(loc=3)\n",
    "plt.show()"
   ]
  },
  {
   "cell_type": "code",
   "execution_count": 40,
   "metadata": {},
   "outputs": [
    {
     "name": "stdout",
     "output_type": "stream",
     "text": [
      "The Area Under the Curve foe the Randam Forest is 0.64\n"
     ]
    }
   ],
   "source": [
    "rf_test_auc=roc_auc_score(ytest , pred_prob_rf)\n",
    "print(\"The Area Under the Curve foe the Randam Forest is {:.2f}\".format(rf_test_auc))"
   ]
  },
  {
   "cell_type": "code",
   "execution_count": 41,
   "metadata": {},
   "outputs": [
    {
     "name": "stdout",
     "output_type": "stream",
     "text": [
      "[ 0.58795987  0.62374582  0.66372283  0.578125    0.61180556]\n"
     ]
    }
   ],
   "source": [
    "# cross validate on scoring of auc (20 min to run) \n",
    "cv_auc_scores=cross_val_score(clf, xtrain , ytrain , cv=5, scoring='roc_auc')\n",
    "print(cv_auc_scores)"
   ]
  },
  {
   "cell_type": "code",
   "execution_count": 42,
   "metadata": {},
   "outputs": [
    {
     "data": {
      "image/png": "[encoded data removed]",
      "text/plain": [
       "<matplotlib.figure.Figure at 0x1a0e853150>"
      ]
     },
     "metadata": {},
     "output_type": "display_data"
    },
    {
     "data": {
      "image/png": "[encoded data removed]",
      "text/plain": [
       "<matplotlib.figure.Figure at 0x1a0e883310>"
      ]
     },
     "metadata": {},
     "output_type": "display_data"
    }
   ],
   "source": [
    "#Plot both models together\n",
    "\n",
    "#plot base line at .5 probability\n",
    "plt.plot([0,1],[0,1],'k--')\n",
    "#plot model train and test for each model\n",
    "plt.plot(xfpr_rf , xtpr_rf , c='chocolate', label='Training RF Data')\n",
    "plt.plot(fpr_rf , tpr_rf , c='sandybrown', label='Testing RF Data')\n",
    "plt.plot(xfpr_svm , xtpr_svm , c='yellowgreen' , label='Training SVM Data')\n",
    "plt.plot(fpr_svm , tpr_svm ,c='lightgreen' , label='Testing SVM Data')\n",
    "#add labels\n",
    "plt.xlabel(\"False Positive Rate\")\n",
    "plt.ylabel(\"True Positive Rate\")\n",
    "plt.title(' ROC Curve')\n",
    "plt.legend(loc=4)\n",
    "#save figure for papers\n",
    "plt.tight_layout()\n",
    "plt.savefig('models_roc.png')\n",
    "#show figure in notebook\n",
    "plt.show()\n",
    "\n",
    "#plot both Precision_Recall models on one\n",
    "plt.plot([1,0],[0,1],'k--')\n",
    "plt.plot(xrecall_score_rf , xprec_score_rf, c='chocolate',label='Training RF Data')\n",
    "plt.plot(recall_score_rf , prec_score_rf,  c='sandybrown' ,label='Testing RF Data')\n",
    "\n",
    "plt.plot( xrecall_score_svm , xprec_score_svm , c='yellowgreen' , label= 'Training SVM Data')\n",
    "plt.plot( recall_score_svm , prec_score_svm , c='lightgreen', label= 'Testing SVM Data')\n",
    "\n",
    "#plt.plot(xfpr,xtpr, 'g-',label='training data')\n",
    "plt.xlabel(\"Recall\")\n",
    "plt.ylabel(\"Precision\")\n",
    "plt.title(' Precision-Recall Curve')\n",
    "plt.legend(loc=4)\n",
    "#save figure for papers\n",
    "plt.tight_layout()\n",
    "plt.savefig('models_PR-curve.png')\n",
    "#show figure in notebook\n",
    "plt.show()"
   ]
  },
  {
   "cell_type": "code",
   "execution_count": 82,
   "metadata": {},
   "outputs": [
    {
     "data": {
      "image/png": "[encoded data removed]",
      "text/plain": [
       "<matplotlib.figure.Figure at 0x1a11f84f10>"
      ]
     },
     "metadata": {},
     "output_type": "display_data"
    }
   ],
   "source": [
    "#dictionary to hold auc scores form tuned models\n",
    "plot_model={'RF':rf_test_auc ,'SVM':svm_test_auc}\n",
    "\n",
    "#make an instance for plotting figures\n",
    "fig, ax = plt.subplots()\n",
    "\n",
    "#set parameters for bar chart\n",
    "N = 2\n",
    "ind = np.arange(N)  # the x locations for the groups\n",
    "width = 0.35       # the width of the bars\n",
    "\n",
    "#plot bar for chart\n",
    "rects1 = ax.bar(ind, plot_model.values(), color= ['sandybrown','lightgreen'])\n",
    "\n",
    "#define a function to add bar chart labels to bars (straight from matplotlib docs)\n",
    "def autolabel(rects):\n",
    "    \"\"\"\n",
    "    Attach a text label above each bar displaying its height\n",
    "    \"\"\"\n",
    "    for rect in rects:\n",
    "        height = rect.get_height()\n",
    "        ax.text(rect.get_x() + rect.get_width()/2., 1.05*float(height),'%.3f' % float(height),ha='center', va='bottom')\n",
    "        \n",
    "#call function to add bar char labels to bars\n",
    "autolabel(rects1)\n",
    "\n",
    "\n",
    "# add some text for axes ticks\n",
    "ax.set_xticks(ind)\n",
    "ax.set_xticklabels(plot_model.keys())\n",
    "\n",
    "ax.legend()\n",
    "\n",
    "#add label and title\n",
    "plt.title(\"Comparison of the different models\",y = 1.08)\n",
    "plt.xlabel(\"Models\")\n",
    "plt.ylabel(\"AUC Score on Test Set\")\n",
    "#save figure for papers\n",
    "plt.tight_layout()\n",
    "plt.savefig('models_auc.png')\n",
    "#show figure in notebook\n",
    "plt.show()\n"
   ]
  },
  {
   "cell_type": "code",
   "execution_count": null,
   "metadata": {
    "collapsed": true
   },
   "outputs": [],
   "source": []
  },
  {
   "cell_type": "markdown",
   "metadata": {},
   "source": [
    "# Concern:\n",
    "The Kaggle competition best f1 score was around .409. I have my output slightly different. How can I be doing so much better with such little feature engineering? I feel like I must be doing something wrong here. "
   ]
  },
  {
   "cell_type": "code",
   "execution_count": null,
   "metadata": {
    "collapsed": true
   },
   "outputs": [],
   "source": [
    "plot_model={'RF':rf_test_auc ,'SVM':svm_test_auc}\n",
    "\n",
    "fig, ax = plt.subplots()\n",
    "rects1 = ax.bar(ind, men_means, width, color='r', yerr=men_std)\n",
    "\n",
    "plt.bar(plot_model.keys(), plot_model.values(), color= ['sandybrown','lightgreen'])\n",
    "\n",
    "\n",
    "#add label and title\n",
    "plt.title(\"Comparison of the different models\")\n",
    "plt.xlabel(\"Models\")\n",
    "plt.ylabel(\"AUC Score on Test Set\")\n",
    "#save figure for papers\n",
    "plt.tight_layout()\n",
    "plt.savefig('models_auc.png')\n",
    "#show figure in notebook\n",
    "plt.show()\n",
    "\n"
   ]
  },
  {
   "cell_type": "code",
   "execution_count": null,
   "metadata": {
    "collapsed": true
   },
   "outputs": [],
   "source": []
  },
  {
   "cell_type": "code",
   "execution_count": null,
   "metadata": {
    "collapsed": true
   },
   "outputs": [],
   "source": []
  },
  {
   "cell_type": "code",
   "execution_count": null,
   "metadata": {
    "collapsed": true
   },
   "outputs": [],
   "source": []
  },
  {
   "cell_type": "code",
   "execution_count": null,
   "metadata": {
    "collapsed": true
   },
   "outputs": [],
   "source": []
  },
  {
   "cell_type": "markdown",
   "metadata": {},
   "source": [
    "# ignore below. Mostly larger sets that was taking to much computation time."
   ]
  },
  {
   "cell_type": "markdown",
   "metadata": {},
   "source": [
    "## Concern:\n",
    "\n",
    "I've been trying to make a good decision on how to handle the data. If I want to one hot encode all the product_ids then I need to reduce the customer base for memory limit uses. My reason for thinking this is to compare the against the single vector decomposition I started with. I'm thinking now, I should disregard that line of evaluation and build on this random forest with better feature columns. I would then have to adjust the SVM to be similiar.\n",
    "\n",
    "Another issue with data wrangling is deciding how to preserve the time component of order history of the customer. I originally sought to segregate the data by breaking it into chunks by order: the test data the last order the validation set the customer's 2nd previous order, and the training data the customer's 3rd previous order (you see that above). Below you see my final decision, lumping the 3rd and 4th previous orders together into the training set, spliting on it to cross validate. Then testing on the 2nd to previous order as the test set. (The last order for each customer did not all contain labels to test against, hence I choose to move a step further down the customer's order history timeline.) \n",
    " \n",
    "This is one reason my data wrangling paper has been delayed. I've been trying to decide how to set up the RF, and SVM to handle it. \n",
    "\n",
    "## Question:\n",
    "\n",
    "Does my approach at cross-validation voilate any principles? Do you see anything wrong here? Can I do it better?\n"
   ]
  },
  {
   "cell_type": "markdown",
   "metadata": {
    "collapsed": true
   },
   "source": [
    "#set the training data to just the 4th and 3rd previous orders\n",
    "data_set_train=pd.concat([data_p3,data_p4])"
   ]
  },
  {
   "cell_type": "markdown",
   "metadata": {
    "collapsed": true
   },
   "source": [
    "#reset index \n",
    "data_set_train=data_set.reset_index()"
   ]
  },
  {
   "cell_type": "markdown",
   "metadata": {},
   "source": [
    "#add reorder information to training data\n",
    "df_train=pd.merge(df_prod_orders,data_set_train, how= 'inner',left_on=\"order_id\", right_on='order_id')\n",
    "df_train.head()"
   ]
  },
  {
   "cell_type": "markdown",
   "metadata": {
    "collapsed": true
   },
   "source": [
    "# fill in Nan with zero\n",
    "df_train=df_train.fillna(0)"
   ]
  },
  {
   "cell_type": "markdown",
   "metadata": {},
   "source": [
    "#check to make sure NaN is taken care of \n",
    "df_train.isnull().any()"
   ]
  },
  {
   "cell_type": "markdown",
   "metadata": {},
   "source": [
    "Data is now in the format wrangling is complete. We shall set up the data for use in sklearn. We will need to choose the features to consider and separate the labels. "
   ]
  },
  {
   "cell_type": "markdown",
   "metadata": {},
   "source": [
    "#capture feature names and make a list\n",
    "features=df_train[['add_to_cart_order','days_since_prior_order','order_dow','order_from_last','order_hour_of_day','order_number']]\n",
    "feature_list = list(features.columns)\n",
    "features=features.columns\n",
    "features"
   ]
  },
  {
   "cell_type": "markdown",
   "metadata": {},
   "source": [
    "#convert target column into array for training set\n",
    "ytrain = pd.factorize(df_train['reordered'])[0]\n",
    "ytrain"
   ]
  },
  {
   "cell_type": "markdown",
   "metadata": {},
   "source": [
    "#create test set and add reorder information \n",
    "df_test=pd.merge(df_prod_orders,data_p2, how= 'inner',left_on=\"order_id\", right_on='order_id')\n",
    "df_test.head()"
   ]
  },
  {
   "cell_type": "markdown",
   "metadata": {},
   "source": [
    "#convert target column into array for test set \n",
    "ytest = pd.factorize(df_test['reordered'])[0]\n",
    "ytest"
   ]
  },
  {
   "cell_type": "markdown",
   "metadata": {},
   "source": [
    "#see if the training data has the proper balance of reorders \n",
    "print ('% reorders in training set {:2f}'.format(float(ytrain.sum())/ytrain.size))\n",
    "print ('% reorders in test set {:2f}'.format(float(ytest.sum())/ytest.size))"
   ]
  },
  {
   "cell_type": "code",
   "execution_count": null,
   "metadata": {
    "collapsed": true
   },
   "outputs": [],
   "source": []
  },
  {
   "cell_type": "markdown",
   "metadata": {},
   "source": [
    "## Question\n",
    "Should I be concerned about the difference here in imbalance here? The EDA of all the data showed that reorders occured at 60% overall. Here in the training set, which is all the 3rd and 4th previous orders for customers the reorder rate is around 50% and the test set close to 40%. \n",
    "\n",
    "Below the grid search that bit to run. What is to long for a runtime? This one takes a few hours"
   ]
  },
  {
   "cell_type": "markdown",
   "metadata": {
    "collapsed": true
   },
   "source": [
    "#make a training set for sklearn features\n",
    "xtrain = df_train[features]"
   ]
  },
  {
   "cell_type": "markdown",
   "metadata": {
    "collapsed": true
   },
   "source": [
    "#make a test set for sklearn features\n",
    "xtest = df_test[features]"
   ]
  },
  {
   "cell_type": "markdown",
   "metadata": {},
   "source": [
    "We have the data set up for sklearn lets do some machine learning. First will shall tune the parameters of the random forest classifier. Using the best parameters from cross validation, retrain the model on the training data and predict on the test data."
   ]
  },
  {
   "cell_type": "markdown",
   "metadata": {},
   "source": [
    "#know lets tune the parameters for the random forest\n",
    "\n",
    "#set parametets to tune in Random Grid Search (# trees in forest and # of features per tree)\n",
    "parameters={'n_estimators':range(20,40),'max_features':['auto',1,2,3,4,5]}\n",
    "\n",
    "#create an instance of the random forest classifier\n",
    "rf=RandomForestClassifier()\n",
    "\n",
    "#randomize grid search for parameters with cross validation and refit on entire training set\n",
    "#spread across two jobs and seed a random state\n",
    "rs = RandomizedSearchCV(rf, param_distributions=parameters,cv=5,refit=True,n_jobs=2,random_state=42,scoring='f1')\n",
    "\n",
    "#fit grid search on random forest over grid\n",
    "rs.fit( xtrain ,  ytrain )"
   ]
  },
  {
   "cell_type": "markdown",
   "metadata": {},
   "source": [
    "## Question: \n",
    "What is to long for a runtime? This one, the randomized grid search, takes a few hours.\n",
    "How do you pick the appropriate range for # of trees? The best # of trees was at the top range of trees. I’m thinking the model will always want the top number (its overfitting).  I understand the range how to pick the range of max_features. Should I also tune the gini purity or the minimum leaf node parameter? What all do you recommend to tune in the random forest? \n",
    "\n",
    "## Concern:\n",
    "Need to expand range on number of trees since best result was at the boundry of test ranges. (Will it always take the max here? Is it overfitting? )"
   ]
  },
  {
   "cell_type": "markdown",
   "metadata": {},
   "source": [
    "#save best parameters to use on test set\n",
    "best_n = rs.best_params_['n_estimators'] \n",
    "best_features=rs.best_params_['max_features'] \n",
    "\n",
    "#print best parameter results\n",
    "print(\"the best number of trees is {} with a maximum number of features of {}\".format(best_n,best_features))\n",
    "print(\"the best f1 score with these is {}\".format(rs.best_score_))"
   ]
  },
  {
   "cell_type": "markdown",
   "metadata": {},
   "source": [
    "Parameters are tuned. We have 29 trees in the forest each using 4 out of the 6 features to learn. (need to expand in future). Next we will retrain on the training data with these parameters and predict on the test data. "
   ]
  },
  {
   "cell_type": "markdown",
   "metadata": {},
   "source": [
    "#create classifier from best parameters out of grid search\n",
    "clf=rs.best_estimator_\n",
    "#fit classifier to validation set\n",
    "clf.fit(xtrain,ytrain)\n",
    "\n",
    "#get the prediction set for the validation \n",
    "preds_train_rf = clf.predict(xtrain)\n",
    "\n",
    "#make some predictions\n",
    "preds_rf = clf.predict(xtest)\n",
    "\n",
    "\n",
    "#print the accuracy score for the training data\n",
    "training_accuracy = clf.score( xtrain , ytrain )\n",
    "print(\"Accuracy on training data: {:0.2f}\".format( training_accuracy ) )\n",
    "\n",
    "#print the accuracy score for the test data\n",
    "test_accuracy = clf.score(xtest , ytest)\n",
    "print(\"Accuracy on test data: {:0.2f}\".format( test_accuracy ) )\n",
    "\n",
    "#print training f1 score\n",
    "fscore_train = metrics.f1_score( ytrain , preds_train_rf )\n",
    "print(\"F1 Score on train data: {:0.4f}\".format(fscore_train))\n",
    "\n",
    "#print testing f1 score\n",
    "fscore = metrics.f1_score( ytest , preds_rf , pos_label=1 )\n",
    "print(\"F1 Score on validation (train-test set) data: {:0.4f}\".format( fscore ) )\n",
    "\n",
    "\n",
    "print ( classification_report ( ytest , preds_rf ))"
   ]
  },
  {
   "cell_type": "markdown",
   "metadata": {},
   "source": [
    "## Concern:\n",
    "The Kaggle competition best score was around .409. I have my output slightly different. How can I be doing so much better with such little feature engineering?\n",
    "\n",
    "Model is overfitting on training data (.86 compared to .61). Could look at tuning the gini-index (or leaf node min). "
   ]
  },
  {
   "cell_type": "markdown",
   "metadata": {
    "collapsed": true
   },
   "source": [
    "#look at confusion matrix\n",
    "confusion_matrix( ytest , preds_rf )"
   ]
  },
  {
   "cell_type": "markdown",
   "metadata": {},
   "source": [
    "Next lets take a look at which features the model used for prediciton the most. "
   ]
  },
  {
   "cell_type": "markdown",
   "metadata": {
    "collapsed": true
   },
   "source": [
    "#make a list of feature and feature importance\n",
    "list(zip(df_train[features], clf.feature_importances_))"
   ]
  },
  {
   "cell_type": "markdown",
   "metadata": {
    "collapsed": true
   },
   "source": [
    "#Capture model feature importance \n",
    "importances=clf.feature_importances_"
   ]
  },
  {
   "cell_type": "markdown",
   "metadata": {
    "collapsed": true
   },
   "source": [
    "#plot the variable importances\n",
    "# Set the style\n",
    "plt.style.use('fivethirtyeight')\n",
    "# list of x locations for plotting\n",
    "x_values = list(range(len(importances)))\n",
    "# Make a bar chart\n",
    "plt.bar(x_values, importances, orientation = 'vertical')\n",
    "# Tick labels for x axis\n",
    "plt.xticks(x_values, feature_list, rotation='vertical')\n",
    "# Axis labels and title\n",
    "plt.ylabel('Importance'); plt.xlabel('Variable'); plt.title('Variable Importances');\n",
    "plt.tight_layout"
   ]
  },
  {
   "cell_type": "markdown",
   "metadata": {},
   "source": [
    "Now lets look at the ROC and evaluations of our model"
   ]
  },
  {
   "cell_type": "markdown",
   "metadata": {
    "collapsed": true
   },
   "source": [
    "#predict the probabilities for each observation in training set\n",
    "pred_train_prob_rf = clf.predict_proba(xtrain)[:,1]\n",
    "\n",
    "#predict the probabilities for each observation in test set\n",
    "pred_prob_rf = clf.predict_proba(xtest)[:,1]\n",
    "\n",
    "#get false positive rate, true positive rate, and thresholds for training data\n",
    "xfpr , xtpr , xthres = roc_curve(ytrain , pred_train_prob_rf )\n",
    "\n",
    "#get false positive rate, true positive rate, and thresholds for test data\n",
    "fpr , tpr , thres = roc_curve( ytest , pred_prob_rf )\n",
    "\n",
    "#plot base line at .5 probability\n",
    "plt.plot([0,1],[0,1],'k--')\n",
    "#plot model train and test\n",
    "plt.plot(fpr,tpr,label='testing data')\n",
    "plt.plot(xfpr,xtpr, 'g-',label='training data')\n",
    "#add labels\n",
    "plt.xlabel(\"False Positive Rate\")\n",
    "plt.ylabel(\"True Positive Rate\")\n",
    "plt.title('ROC Curve')\n",
    "plt.legend(loc=4)\n",
    "plt.show()"
   ]
  },
  {
   "cell_type": "markdown",
   "metadata": {
    "collapsed": true
   },
   "source": [
    "\n",
    "xprec_score,xrecall_score,xthresholds=precision_recall_curve( ytrain , pred_train_prob_rf )\n",
    "\n",
    "prec_score,recall_score,thresholds=precision_recall_curve( ytest , pred_prob_rf)\n",
    "\n",
    "plt.plot([1,0],[0,1],'k--')\n",
    "plt.plot(recall_score,prec_score,label='testing data')\n",
    "plt.plot(xrecall_score,xprec_score,'g-',label='training data')\n",
    "#plt.plot(xfpr,xtpr, 'g-',label='training data')\n",
    "plt.xlabel(\"Recall\")\n",
    "plt.ylabel(\"Precision\")\n",
    "plt.title('Precision-Recall Curve')\n",
    "plt.legend(loc=3)\n",
    "plt.show()"
   ]
  },
  {
   "cell_type": "markdown",
   "metadata": {
    "collapsed": true
   },
   "source": [
    "roc_auc_score(ytest , pred_prob_rf)"
   ]
  },
  {
   "cell_type": "markdown",
   "metadata": {
    "collapsed": true
   },
   "source": [
    "# cross validate on scoring of auc (20 min to run) \n",
    "cv_auc_scores=cross_val_score(clf, xtrain , ytrain , cv=5, scoring='roc_auc')\n",
    "print(cv_auc_scores)"
   ]
  },
  {
   "cell_type": "code",
   "execution_count": null,
   "metadata": {
    "collapsed": true
   },
   "outputs": [],
   "source": []
  },
  {
   "cell_type": "markdown",
   "metadata": {
    "collapsed": true
   },
   "source": [
    "  # Now lets loow at the SVM model\n",
    "  \n",
    "  ## Question:\n",
    "  \n",
    "  Should a do a mask on the train test set?\n",
    "  \n",
    "  Come back and scale the features"
   ]
  },
  {
   "cell_type": "markdown",
   "metadata": {
    "collapsed": true
   },
   "source": [
    "scaler = StandardScaler()\n",
    "X = scaler.fit_transform(X)\n",
    "X_2d = scaler.fit_transform(X_2d)"
   ]
  },
  {
   "cell_type": "markdown",
   "metadata": {
    "collapsed": true
   },
   "source": [
    "rbf: \\exp(-\\gamma \\|x-x'\\|^2). \\gamma is specified by keyword gamma, must be greater than 0.\n",
    "\n",
    "\n",
    "When training an SVM with the Radial Basis Function (RBF) kernel, two parameters must be considered: C and gamma. The parameter C, common to all SVM kernels, trades off misclassification of training examples against simplicity of the decision surface. A low C makes the decision surface smooth, while a high C aims at classifying all training examples correctly. gamma defines how much influence a single training example has. The larger gamma is, the closer other examples must be to be affected.\n",
    "Proper choice of C and gamma is critical to the SVM’s performance. One is advised to use sklearn.model_selection.GridSearchCV with C and gamma spaced exponentially far apart to choose good values.\n",
    "\n",
    "If gamma is too large, the radius of the area of influence of the support vectors only includes the support vector itself and no amount of regularization with C will be able to prevent overfitting.When gamma is very small, the model is too constrained and cannot capture the complexity or “shape” of the data. The region of influence of any selected support vector would include the whole training set. The resulting model will behave similarly to a linear model with a set of hyperplanes that separate the centers of high density of any pair of two classes.\n",
    "\n",
    "Smooth models (lower gamma values) can be made more complex by selecting a larger number of support vectors (larger C values) hence the diagonal of good performing models.\n",
    "\n",
    "The radius of the RBF kernel alone acts as a good structural regularizer. In practice though it might still be interesting to limit the number of support vectors with a lower value of C so as to favor models that use less memory and that are faster to predict."
   ]
  },
  {
   "cell_type": "markdown",
   "metadata": {
    "collapsed": true
   },
   "source": [
    "#know lets tune the parameters for the random forest\n",
    "\n",
    "#set parametets to tune in Random Grid Search (# trees in forest and # of features per tree)\n",
    "parameters={'n_estimators':range(1,30),'max_features':['auto',1,2,3,4,5]}\n",
    "\n",
    "#create an instance of the random forest classifier\n",
    "rf=RandomForestClassifier()\n",
    "\n",
    "#randomize grid search for parameters with cross validation and refit on entire training set\n",
    "#spread across two jobs and seed a random state\n",
    "rs = RandomizedSearchCV(rf, param_distributions=parameters,cv=5,refit=True,n_jobs=2,random_state=42,scoring='f1')\n",
    "\n",
    "#fit grid search on random forest over grid\n",
    "rs.fit(xtrain_rf,ytrain_rf)"
   ]
  },
  {
   "cell_type": "markdown",
   "metadata": {},
   "source": [
    "from sklearn.pipeline import Pipeline\n",
    "from sklearn import svm\n",
    "\n",
    "#to tune parameters \n",
    "clf=svm.SVC(kernel='rbf')\n",
    "\n",
    "#fit classifier to validation set\n",
    "clf.fit( xtrain , ytrain )\n",
    "\n",
    "#get the prediction set for the validation \n",
    "preds_train_svm = clf.predict( xtrain )\n",
    "\n",
    "#make some predictions\n",
    "preds_svm = clf.predict( xtest )\n",
    "\n",
    "\n",
    "#print the accuracy score for the training data\n",
    "training_accuracy = clf.score( xtrain , ytrain )\n",
    "print(\"Accuracy on training data: {:0.2f}\".format( training_accuracy ) )\n",
    "\n",
    "#print the accuracy score for the test data\n",
    "test_accuracy = clf.score(xtest , ytest)\n",
    "print(\"Accuracy on test data: {:0.2f}\".format( test_accuracy ) )\n",
    "\n",
    "#print training f1 score\n",
    "fscore_train = metrics.f1_score( ytrain , preds_train_svm )\n",
    "print(\"F1 Score on train data: {:0.4f}\".format(fscore_train))\n",
    "\n",
    "#print testing f1 score\n",
    "fscore = metrics.f1_score( ytest , preds_svm , pos_label=1 )\n",
    "print(\"F1 Score on validation (train-test set) data: {:0.4f}\".format( fscore ) )\n",
    "\n",
    "print (classification_report( ytest , preds_svm ))"
   ]
  },
  {
   "cell_type": "markdown",
   "metadata": {
    "collapsed": true
   },
   "source": [
    "from sklearn.pipeline import Pipeline\n",
    "from sklearn import svm\n",
    "\n",
    "#create classifier from best parameters out of grid search\n",
    "#clf=rs.best_estimator_\n",
    "\n",
    "clf=svm.SVC(kernel='rbf')\n",
    "\n",
    "#fit classifier to validation set\n",
    "clf.fit( xtrain , ytrain )\n",
    "\n",
    "#get the prediction set for the validation \n",
    "preds_train_svm = clf.predict( xtrain )\n",
    "\n",
    "#make some predictions\n",
    "preds_svm = clf.predict( xtest )\n",
    "\n",
    "\n",
    "#print the accuracy score for the training data\n",
    "training_accuracy = clf.score( xtrain , ytrain )\n",
    "print(\"Accuracy on training data: {:0.2f}\".format( training_accuracy ) )\n",
    "\n",
    "#print the accuracy score for the test data\n",
    "test_accuracy = clf.score(xtest , ytest)\n",
    "print(\"Accuracy on test data: {:0.2f}\".format( test_accuracy ) )\n",
    "\n",
    "#print training f1 score\n",
    "fscore_train = metrics.f1_score( ytrain , preds_train_svm )\n",
    "print(\"F1 Score on train data: {:0.4f}\".format(fscore_train))\n",
    "\n",
    "#print testing f1 score\n",
    "fscore = metrics.f1_score( ytest , preds_svm , pos_label=1 )\n",
    "print(\"F1 Score on validation (train-test set) data: {:0.4f}\".format( fscore ) )\n",
    "\n",
    "print (classification_report( ytest , preds_svm ))"
   ]
  },
  {
   "cell_type": "markdown",
   "metadata": {},
   "source": [
    "# should i do a pipeline\n",
    "\n",
    "#setup steps for pipeline\n",
    "steps=[('SVM',clf)] #add scale function\n",
    "\n",
    "pipeline = Pipeline(steps)\n",
    "\n",
    "pipeline.fit( xtrain , ytrain )\n",
    "\n",
    "preds_svm = pipeline.predict( xtest )\n",
    "\n",
    "print (classification_report( ytest , preds_svm ))\n",
    "\n"
   ]
  },
  {
   "cell_type": "markdown",
   "metadata": {
    "collapsed": true
   },
   "source": [
    "#look at confusion matrix\n",
    "confusion_matrix( ytest , preds_svm )"
   ]
  },
  {
   "cell_type": "markdown",
   "metadata": {
    "collapsed": true
   },
   "source": [
    "#make a list of feature and feature importance\n",
    "list(zip(df_train[features], clf.feature_importances_))"
   ]
  },
  {
   "cell_type": "markdown",
   "metadata": {
    "collapsed": true
   },
   "source": [
    "#Capture model feature importance \n",
    "importances=clf.feature_importances_"
   ]
  },
  {
   "cell_type": "markdown",
   "metadata": {
    "collapsed": true
   },
   "source": [
    "#plot the variable importances\n",
    "# Set the style\n",
    "plt.style.use('fivethirtyeight')\n",
    "# list of x locations for plotting\n",
    "x_values = list(range(len(importances)))\n",
    "# Make a bar chart\n",
    "plt.bar(x_values, importances, orientation = 'vertical')\n",
    "# Tick labels for x axis\n",
    "plt.xticks(x_values, feature_list, rotation='vertical')\n",
    "# Axis labels and title\n",
    "plt.ylabel('Importance'); plt.xlabel('Variable'); plt.title('Variable Importances');\n",
    "plt.tight_layout"
   ]
  },
  {
   "cell_type": "markdown",
   "metadata": {
    "collapsed": true
   },
   "source": [
    "#predict the probabilities for each observation in training set\n",
    "pred_train_prob_svm = clf.predict_proba(xtrain)[:,1]\n",
    "\n",
    "#predict the probabilities for each observation in test set\n",
    "pred_prob_svm = clf.predict_proba(xtest)[:,1]\n",
    "\n",
    "#get false positive rate, true positive rate, and thresholds for training data\n",
    "xfpr , xtpr , xthres = roc_curve(y train , pred_train_prob_svm )\n",
    "\n",
    "#get false positive rate, true positive rate, and thresholds for test data\n",
    "fpr , tpr , thres = roc_curve( ytest , pred_prob_svm )\n",
    "\n",
    "#plot base line at .5 probability\n",
    "plt.plot([0,1],[0,1],'k--')\n",
    "#plot model train and test\n",
    "plt.plot(fpr,tpr,label='testing data')\n",
    "plt.plot(xfpr,xtpr, 'g-',label='training data')\n",
    "#add labels\n",
    "plt.xlabel(\"False Positive Rate\")\n",
    "plt.ylabel(\"True Positive Rate\")\n",
    "plt.title('ROC Curve')\n",
    "plt.legend(loc=4)\n",
    "plt.show()"
   ]
  },
  {
   "cell_type": "markdown",
   "metadata": {
    "collapsed": true
   },
   "source": [
    "xprec_score,xrecall_score,xthresholds=precision_recall_curve( ytrain , pred_train_prob_svm )\n",
    "\n",
    "prec_score,recall_score,thresholds=precision_recall_curve( ytest , pred_prob_svm)\n",
    "\n",
    "plt.plot([1,0],[0,1],'k--')\n",
    "plt.plot(recall_score,prec_score,label='testing data')\n",
    "plt.plot(xrecall_score,xprec_score,'g-',label='training data')\n",
    "#plt.plot(xfpr,xtpr, 'g-',label='training data')\n",
    "plt.xlabel(\"Recall\")\n",
    "plt.ylabel(\"Precision\")\n",
    "plt.title('Precision-Recall Curve')\n",
    "plt.legend(loc=3)\n",
    "plt.show()"
   ]
  },
  {
   "cell_type": "markdown",
   "metadata": {
    "collapsed": true
   },
   "source": [
    "roc_auc_score(ytest , pred_prob_svm)"
   ]
  },
  {
   "cell_type": "markdown",
   "metadata": {
    "collapsed": true
   },
   "source": [
    "cv_auc_scores=cross_val_score(clf, xtrain , ytrain, cv=5, scoring='roc_auc')\n",
    "print(cv_auc_scores)"
   ]
  },
  {
   "cell_type": "markdown",
   "metadata": {
    "collapsed": true
   },
   "source": [
    " Train classifiers\n",
    "# notes from sklearn\n",
    "# For an initial search, a logarithmic grid with basis\n",
    "# 10 is often helpful. Using a basis of 2, a finer\n",
    "# tuning can be achieved but at a much higher cost.\n",
    "\n",
    "C_range = np.logspace(-2, 10, 13)\n",
    "gamma_range = np.logspace(-9, 3, 13)\n",
    "param_grid = dict(gamma=gamma_range, C=C_range)\n",
    "cv = StratifiedShuffleSplit(n_splits=5, test_size=0.2, random_state=42)\n",
    "grid = GridSearchCV(SVC(), param_grid=param_grid, cv=cv)\n",
    "grid.fit(X, y)\n",
    "\n",
    "print(\"The best parameters are %s with a score of %0.2f\"\n",
    "      % (grid.best_params_, grid.best_score_))"
   ]
  },
  {
   "cell_type": "code",
   "execution_count": null,
   "metadata": {
    "collapsed": true
   },
   "outputs": [],
   "source": []
  },
  {
   "cell_type": "markdown",
   "metadata": {},
   "source": [
    "# can ignore stuff below. \n",
    "working on the how to split data differently."
   ]
  },
  {
   "cell_type": "code",
   "execution_count": 44,
   "metadata": {
    "collapsed": true
   },
   "outputs": [],
   "source": [
    "#### below is spliting data in "
   ]
  },
  {
   "cell_type": "markdown",
   "metadata": {},
   "source": [
    "##### below if I need to reduce the data size"
   ]
  },
  {
   "cell_type": "markdown",
   "metadata": {
    "collapsed": true
   },
   "source": [
    "rf_small_train=df_rf_train.sample(750)"
   ]
  },
  {
   "cell_type": "markdown",
   "metadata": {
    "collapsed": true
   },
   "source": [
    "rf_small_table=rf_small_train.pivot(index='user_id', columns='product_id', values='reordered')"
   ]
  },
  {
   "cell_type": "markdown",
   "metadata": {},
   "source": [
    "rf_small_table=rf_small_table.replace(0, 1, regex=True)\n",
    "rf_small_table=rf_small_table.fillna(0)"
   ]
  },
  {
   "cell_type": "markdown",
   "metadata": {},
   "source": [
    "rf_small_train=rf_small_train.set_index('user_id')"
   ]
  },
  {
   "cell_type": "markdown",
   "metadata": {},
   "source": [
    "rf_small_train.head()"
   ]
  },
  {
   "cell_type": "markdown",
   "metadata": {},
   "source": [
    "rf_small_sample=pd.merge(rf_small_train,rf_small_table, how= 'inner',left_index=True, right_index=True)"
   ]
  },
  {
   "cell_type": "markdown",
   "metadata": {},
   "source": [
    "rf_small_sample.isnull().any()"
   ]
  },
  {
   "cell_type": "markdown",
   "metadata": {},
   "source": [
    "rf_small_sample['reordered'].size"
   ]
  },
  {
   "cell_type": "markdown",
   "metadata": {},
   "source": [
    "small_features=rf_small_sample.drop(['reordered','eval_set'],axis=1)\n",
    "sm_feature_list = list(small_features.columns)\n",
    "sm_features=small_features.columns\n",
    "len(sm_feature_list)"
   ]
  },
  {
   "cell_type": "markdown",
   "metadata": {},
   "source": [
    "small_features['order_id'].size"
   ]
  },
  {
   "cell_type": "markdown",
   "metadata": {},
   "source": [
    "#convert target column into array\n",
    "target= pd.factorize(rf_small_sample['reordered'])[0]"
   ]
  },
  {
   "cell_type": "markdown",
   "metadata": {},
   "source": [
    "small_features.head()"
   ]
  },
  {
   "cell_type": "markdown",
   "metadata": {},
   "source": [
    "small_features.size"
   ]
  },
  {
   "cell_type": "markdown",
   "metadata": {},
   "source": [
    "clf.fit(small_features, target)"
   ]
  },
  {
   "cell_type": "markdown",
   "metadata": {},
   "source": [
    "small_features.nunique()"
   ]
  },
  {
   "cell_type": "markdown",
   "metadata": {},
   "source": [
    "small_features=small_features.reset_index()\n",
    "small_users=pd.DataFrame(small_features['user_id'])"
   ]
  },
  {
   "cell_type": "markdown",
   "metadata": {},
   "source": [
    "small_users.nunique()"
   ]
  },
  {
   "cell_type": "markdown",
   "metadata": {},
   "source": [
    "small_products=pd.DataFrame(small_features['product_id'])\n",
    "small_products.head()"
   ]
  },
  {
   "cell_type": "markdown",
   "metadata": {},
   "source": [
    "## work on test data for predict\n",
    "should i just do a train test split"
   ]
  },
  {
   "cell_type": "markdown",
   "metadata": {},
   "source": [
    "need to one hotencode here for predict to be the same as model features"
   ]
  },
  {
   "cell_type": "markdown",
   "metadata": {},
   "source": [
    "rf_small_sample=pd.merge(df_rf_test,small_users, how= 'inner',on='user_id')"
   ]
  },
  {
   "cell_type": "markdown",
   "metadata": {},
   "source": [
    "rf_small_sample=pd.merge(rf_small_sample,small_products, how= 'inner',on='product_id')"
   ]
  },
  {
   "cell_type": "markdown",
   "metadata": {},
   "source": [
    "rf_small_sample.head()"
   ]
  },
  {
   "cell_type": "markdown",
   "metadata": {},
   "source": [
    "rf_small_sample.isnull().any()"
   ]
  },
  {
   "cell_type": "markdown",
   "metadata": {},
   "source": [
    "rf_small_sample=rf_small_sample.reset_index('user_id')"
   ]
  },
  {
   "cell_type": "markdown",
   "metadata": {},
   "source": [
    "rf_small_sample.product_id.size"
   ]
  },
  {
   "cell_type": "markdown",
   "metadata": {},
   "source": [
    "rf_small_sample.nunique()"
   ]
  },
  {
   "cell_type": "markdown",
   "metadata": {},
   "source": [
    "test_small_table=rf_small_sample.pivot(index='user_id',columns='product_id', values='reordered')"
   ]
  },
  {
   "cell_type": "markdown",
   "metadata": {},
   "source": [
    "test_small_table=test_small_table.replace(0, 1, regex=True)\n",
    "test_small_table=rf_small_table.fillna(0)"
   ]
  },
  {
   "cell_type": "markdown",
   "metadata": {},
   "source": [
    "test_small_table.head()"
   ]
  },
  {
   "cell_type": "markdown",
   "metadata": {},
   "source": [
    "#rf_small_train=rf_small_train.set_index('user_id')"
   ]
  },
  {
   "cell_type": "markdown",
   "metadata": {},
   "source": [
    "#join one hot encode back with other features\n",
    "df_rf_test"
   ]
  },
  {
   "cell_type": "code",
   "execution_count": 45,
   "metadata": {
    "collapsed": true
   },
   "outputs": [],
   "source": [
    "#get data from test set on user_ids\n",
    "#small_test=df_rf_test.merge(small_users, how='inner', on='user_id')"
   ]
  },
  {
   "cell_type": "code",
   "execution_count": null,
   "metadata": {
    "collapsed": true
   },
   "outputs": [],
   "source": []
  },
  {
   "cell_type": "markdown",
   "metadata": {},
   "source": [
    "sm_test_features=small_test.drop(['reordered','eval_set'],axis=1)\n",
    "sm_test_features.columns"
   ]
  },
  {
   "cell_type": "markdown",
   "metadata": {},
   "source": [
    "small_test[small_test['user_id']==71]"
   ]
  },
  {
   "cell_type": "markdown",
   "metadata": {},
   "source": [
    "sm_preds=clf.predict(sm_test_features)"
   ]
  },
  {
   "cell_type": "markdown",
   "metadata": {},
   "source": [
    "clf.predict_proba(df_rf_test[features])[0:10]"
   ]
  },
  {
   "cell_type": "markdown",
   "metadata": {},
   "source": [
    "#make a table of the predictions vs. the actual reorders\n",
    "pd.crosstab(df_rf_test['reordered'], preds, rownames=['Actual reorder'], colnames=['Predicted reorder'])"
   ]
  },
  {
   "cell_type": "markdown",
   "metadata": {},
   "source": [
    "#make a list of feature and feature importance\n",
    "list(zip(df_rf_train[features], clf.feature_importances_))"
   ]
  },
  {
   "cell_type": "markdown",
   "metadata": {},
   "source": [
    "importances=clf.feature_importances_"
   ]
  },
  {
   "cell_type": "markdown",
   "metadata": {},
   "source": [
    "#plot the variable importances\n",
    "# Set the style\n",
    "plt.style.use('fivethirtyeight')\n",
    "# list of x locations for plotting\n",
    "x_values = list(range(len(importances)))\n",
    "# Make a bar chart\n",
    "plt.bar(x_values, importances, orientation = 'vertical')\n",
    "# Tick labels for x axis\n",
    "plt.xticks(x_values, feature_list, rotation='vertical')\n",
    "# Axis labels and title\n",
    "plt.ylabel('Importance'); plt.xlabel('Variable'); plt.title('Variable Importances');\n",
    "plt.tight_layout"
   ]
  },
  {
   "cell_type": "code",
   "execution_count": null,
   "metadata": {
    "collapsed": true
   },
   "outputs": [],
   "source": []
  }
 ],
 "metadata": {
  "kernelspec": {
   "display_name": "Python 2",
   "language": "python",
   "name": "python2"
  },
  "language_info": {
   "codemirror_mode": {
    "name": "ipython",
    "version": 2
   },
   "file_extension": ".py",
   "mimetype": "text/x-python",
   "name": "python",
   "nbconvert_exporter": "python",
   "pygments_lexer": "ipython2",
   "version": "2.7.14"
  }
 },
 "nbformat": 4,
 "nbformat_minor": 2
}
