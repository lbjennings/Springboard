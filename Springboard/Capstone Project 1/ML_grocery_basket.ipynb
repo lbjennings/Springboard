{
 "cells": [
  {
   "cell_type": "code",
   "execution_count": 35,
   "metadata": {},
   "outputs": [
    {
     "name": "stdout",
     "output_type": "stream",
     "text": [
      "The watermark extension is already loaded. To reload it, use:\n",
      "  %reload_ext watermark\n",
      "2018-04-22T09:36:03\n",
      "\n",
      "CPython 2.7.14\n",
      "IPython 5.4.1\n",
      "\n",
      "compiler   : GCC 4.2.1 Compatible Clang 4.0.1 (tags/RELEASE_401/final)\n",
      "system     : Darwin\n",
      "release    : 17.3.0\n",
      "machine    : x86_64\n",
      "processor  : i386\n",
      "CPU cores  : 8\n",
      "interpreter: 64bit\n"
     ]
    }
   ],
   "source": [
    "#load watermark extension\n",
    "%load_ext watermark\n",
    "#print watermark for notebook\n",
    "%watermark"
   ]
  },
  {
   "cell_type": "code",
   "execution_count": 2,
   "metadata": {},
   "outputs": [
    {
     "data": {
      "application/json": {
       "Software versions": [
        {
         "module": "Python",
         "version": "2.7.14 64bit [GCC 4.2.1 Compatible Clang 4.0.1 (tags/RELEASE_401/final)]"
        },
        {
         "module": "IPython",
         "version": "5.4.1"
        },
        {
         "module": "OS",
         "version": "Darwin 17.3.0 x86_64 i386 64bit"
        },
        {
         "module": "Cython",
         "version": "0.26.1"
        },
        {
         "module": "matplotlib",
         "version": "2.1.0"
        },
        {
         "module": "numpy",
         "version": "1.13.3"
        },
        {
         "module": "pandas",
         "version": "0.20.3"
        },
        {
         "module": "qutip",
         "version": "The 'qutip' distribution was not found and is required by the application"
        },
        {
         "module": "seaborn",
         "version": "0.8.0"
        },
        {
         "module": "scipy",
         "version": "0.19.1"
        },
        {
         "module": "sklearn",
         "version": "0.19.1"
        },
        {
         "module": "tqdm",
         "version": "4.19.5"
        },
        {
         "module": "version_information",
         "version": "1.0.3"
        }
       ]
      },
      "text/html": [
       "<table><tr><th>Software</th><th>Version</th></tr><tr><td>Python</td><td>2.7.14 64bit [GCC 4.2.1 Compatible Clang 4.0.1 (tags/RELEASE_401/final)]</td></tr><tr><td>IPython</td><td>5.4.1</td></tr><tr><td>OS</td><td>Darwin 17.3.0 x86_64 i386 64bit</td></tr><tr><td>Cython</td><td>0.26.1</td></tr><tr><td>matplotlib</td><td>2.1.0</td></tr><tr><td>numpy</td><td>1.13.3</td></tr><tr><td>pandas</td><td>0.20.3</td></tr><tr><td>qutip</td><td>The 'qutip' distribution was not found and is required by the application</td></tr><tr><td>seaborn</td><td>0.8.0</td></tr><tr><td>scipy</td><td>0.19.1</td></tr><tr><td>sklearn</td><td>0.19.1</td></tr><tr><td>tqdm</td><td>4.19.5</td></tr><tr><td>version_information</td><td>1.0.3</td></tr><tr><td colspan='2'>Thu Apr 19 19:43:56 2018 PDT</td></tr></table>"
      ],
      "text/latex": [
       "\\begin{tabular}{|l|l|}\\hline\n",
       "{\\bf Software} & {\\bf Version} \\\\ \\hline\\hline\n",
       "Python & 2.7.14 64bit [GCC 4.2.1 Compatible Clang 4.0.1 (tags/RELEASE\\_401/final)] \\\\ \\hline\n",
       "IPython & 5.4.1 \\\\ \\hline\n",
       "OS & Darwin 17.3.0 x86\\_64 i386 64bit \\\\ \\hline\n",
       "Cython & 0.26.1 \\\\ \\hline\n",
       "matplotlib & 2.1.0 \\\\ \\hline\n",
       "numpy & 1.13.3 \\\\ \\hline\n",
       "pandas & 0.20.3 \\\\ \\hline\n",
       "qutip & The 'qutip' distribution was not found and is required by the application \\\\ \\hline\n",
       "seaborn & 0.8.0 \\\\ \\hline\n",
       "scipy & 0.19.1 \\\\ \\hline\n",
       "sklearn & 0.19.1 \\\\ \\hline\n",
       "tqdm & 4.19.5 \\\\ \\hline\n",
       "version_information & 1.0.3 \\\\ \\hline\n",
       "\\hline \\multicolumn{2}{|l|}{Thu Apr 19 19:43:56 2018 PDT} \\\\ \\hline\n",
       "\\end{tabular}\n"
      ],
      "text/plain": [
       "Software versions\n",
       "Python 2.7.14 64bit [GCC 4.2.1 Compatible Clang 4.0.1 (tags/RELEASE_401/final)]\n",
       "IPython 5.4.1\n",
       "OS Darwin 17.3.0 x86_64 i386 64bit\n",
       "Cython 0.26.1\n",
       "matplotlib 2.1.0\n",
       "numpy 1.13.3\n",
       "pandas 0.20.3\n",
       "qutip The 'qutip' distribution was not found and is required by the application\n",
       "seaborn 0.8.0\n",
       "scipy 0.19.1\n",
       "sklearn 0.19.1\n",
       "tqdm 4.19.5\n",
       "version_information 1.0.3\n",
       "Thu Apr 19 19:43:56 2018 PDT"
      ]
     },
     "execution_count": 2,
     "metadata": {},
     "output_type": "execute_result"
    }
   ],
   "source": [
    "#https://ipyton.org/ipython-docdex/config/extsions/autoreload.html\n",
    "%reload_ext autoreload\n",
    "%autoreload 2\n",
    "\n",
    "#version information\n",
    "%reload_ext version_information\n",
    "%version_information Cython, matplotlib, numpy, pandas,  qutip, seaborn, scipy, sklearn, tqdm, version_information,\n"
   ]
  },
  {
   "cell_type": "code",
   "execution_count": 3,
   "metadata": {
    "collapsed": true
   },
   "outputs": [],
   "source": [
    "#standard packages\n",
    "import pandas as pd\n",
    "import numpy as np\n",
    "#package for loop load time bar\n",
    "from tqdm import tqdm\n",
    "#statistical and machine learning packages\n",
    "import scipy as sp\n",
    "from sklearn.preprocessing import OneHotEncoder\n",
    "\n",
    "#import scoring for machine learning\n",
    "from sklearn import metrics\n",
    "from sklearn.metrics import roc_curve,roc_auc_score, auc,precision_recall_curve,classification_report, confusion_matrix\n",
    "from sklearn.model_selection import RandomizedSearchCV, cross_val_score\n",
    "from sklearn.ensemble import RandomForestClassifier\n",
    "from sklearn import svm\n",
    "\n",
    "\n",
    "\n",
    "#imports for preparing data for sklearn\n",
    "from sklearn.pipeline import Pipeline\n",
    "from sklearn.preprocessing import OneHotEncoder\n",
    "from sklearn. preprocessing import LabelEncoder\n",
    "\n",
    "# packages for plotting \n",
    "import matplotlib.pyplot as plt\n",
    "import seaborn as sns\n",
    "#command to have graphs display in notebook\n",
    "%matplotlib inline"
   ]
  },
  {
   "cell_type": "code",
   "execution_count": 4,
   "metadata": {},
   "outputs": [
    {
     "data": {
      "text/html": [
       "<div>\n",
       "<style>\n",
       "    .dataframe thead tr:only-child th {\n",
       "        text-align: right;\n",
       "    }\n",
       "\n",
       "    .dataframe thead th {\n",
       "        text-align: left;\n",
       "    }\n",
       "\n",
       "    .dataframe tbody tr th {\n",
       "        vertical-align: top;\n",
       "    }\n",
       "</style>\n",
       "<table border=\"1\" class=\"dataframe\">\n",
       "  <thead>\n",
       "    <tr style=\"text-align: right;\">\n",
       "      <th></th>\n",
       "      <th>order_id</th>\n",
       "      <th>user_id</th>\n",
       "      <th>eval_set</th>\n",
       "      <th>order_number</th>\n",
       "      <th>order_dow</th>\n",
       "      <th>order_hour_of_day</th>\n",
       "      <th>days_since_prior_order</th>\n",
       "    </tr>\n",
       "  </thead>\n",
       "  <tbody>\n",
       "    <tr>\n",
       "      <th>0</th>\n",
       "      <td>2539329</td>\n",
       "      <td>1</td>\n",
       "      <td>prior</td>\n",
       "      <td>1</td>\n",
       "      <td>2</td>\n",
       "      <td>8</td>\n",
       "      <td>NaN</td>\n",
       "    </tr>\n",
       "    <tr>\n",
       "      <th>1</th>\n",
       "      <td>2398795</td>\n",
       "      <td>1</td>\n",
       "      <td>prior</td>\n",
       "      <td>2</td>\n",
       "      <td>3</td>\n",
       "      <td>7</td>\n",
       "      <td>15.0</td>\n",
       "    </tr>\n",
       "    <tr>\n",
       "      <th>2</th>\n",
       "      <td>473747</td>\n",
       "      <td>1</td>\n",
       "      <td>prior</td>\n",
       "      <td>3</td>\n",
       "      <td>3</td>\n",
       "      <td>12</td>\n",
       "      <td>21.0</td>\n",
       "    </tr>\n",
       "    <tr>\n",
       "      <th>3</th>\n",
       "      <td>2254736</td>\n",
       "      <td>1</td>\n",
       "      <td>prior</td>\n",
       "      <td>4</td>\n",
       "      <td>4</td>\n",
       "      <td>7</td>\n",
       "      <td>29.0</td>\n",
       "    </tr>\n",
       "    <tr>\n",
       "      <th>4</th>\n",
       "      <td>431534</td>\n",
       "      <td>1</td>\n",
       "      <td>prior</td>\n",
       "      <td>5</td>\n",
       "      <td>4</td>\n",
       "      <td>15</td>\n",
       "      <td>28.0</td>\n",
       "    </tr>\n",
       "  </tbody>\n",
       "</table>\n",
       "</div>"
      ],
      "text/plain": [
       "   order_id  user_id eval_set  order_number  order_dow  order_hour_of_day  \\\n",
       "0   2539329        1    prior             1          2                  8   \n",
       "1   2398795        1    prior             2          3                  7   \n",
       "2    473747        1    prior             3          3                 12   \n",
       "3   2254736        1    prior             4          4                  7   \n",
       "4    431534        1    prior             5          4                 15   \n",
       "\n",
       "   days_since_prior_order  \n",
       "0                     NaN  \n",
       "1                    15.0  \n",
       "2                    21.0  \n",
       "3                    29.0  \n",
       "4                    28.0  "
      ]
     },
     "execution_count": 4,
     "metadata": {},
     "output_type": "execute_result"
    }
   ],
   "source": [
    "#loading user order information\n",
    "instacart_file=pd.read_csv('/Users/luca/anaconda2/Springboard/Capstone Project 1/Data/orders.csv')\n",
    "df_orders=pd.DataFrame(instacart_file,)\n",
    "df_orders.head(5)\n"
   ]
  },
  {
   "cell_type": "code",
   "execution_count": 5,
   "metadata": {},
   "outputs": [
    {
     "data": {
      "text/plain": [
       "order_id                  3421083\n",
       "user_id                    206209\n",
       "eval_set                        3\n",
       "order_number                  100\n",
       "order_dow                       7\n",
       "order_hour_of_day              24\n",
       "days_since_prior_order         31\n",
       "dtype: int64"
      ]
     },
     "execution_count": 5,
     "metadata": {},
     "output_type": "execute_result"
    }
   ],
   "source": [
    "df_orders.nunique()"
   ]
  },
  {
   "cell_type": "code",
   "execution_count": 6,
   "metadata": {
    "collapsed": true
   },
   "outputs": [],
   "source": [
    "#capture the last order information for each user\n",
    "g = df_orders.groupby('user_id')\n",
    "data_p1=g.last()\n",
    "data_p1['order_from_last']=1"
   ]
  },
  {
   "cell_type": "code",
   "execution_count": 7,
   "metadata": {
    "collapsed": true
   },
   "outputs": [],
   "source": [
    "#capture the second to last order information for each user\n",
    "data_p2=g.nth(-2)\n",
    "data_p2['order_from_last']=2"
   ]
  },
  {
   "cell_type": "code",
   "execution_count": 8,
   "metadata": {
    "collapsed": true
   },
   "outputs": [],
   "source": [
    "#capture the third to last order information for each user\n",
    "data_p3=g.nth(-3)\n",
    "data_p3['order_from_last']=3"
   ]
  },
  {
   "cell_type": "code",
   "execution_count": 9,
   "metadata": {
    "collapsed": true
   },
   "outputs": [],
   "source": [
    "#capture the fourth to last order information for each user\n",
    "data_p4=g.nth(-4)\n",
    "data_p4['order_from_last']=4"
   ]
  },
  {
   "cell_type": "markdown",
   "metadata": {},
   "source": [
    "In an effort to save computation time, we will work first with a much smaller portion of the data. At the end of the notebook we will attempt to use as much as our system will allow.\n",
    "\n",
    "## Concern: \n",
    "An issue with data wrangling is deciding how to preserve the time component of order history of the customer. I originally sought to segregate the data by breaking it into chunks by order: the test data is the customer's 2nd previous order, the training data the customer’s the 3rd and 4th previous orders together then splitting on it to cross validate. I then test on the 2nd to previous order as the test set. This was taking way to much time to run. I've adjust to a small test run below. The training data is only a small portion 150 cutomer orders from the 3rd previous order they made. The test set is the customers 2nd previous order. ( The most current previous order did not have lavels for all customers, hence, I choose to move to the customers 2nd previous order).\n",
    "\n",
    "I feel like this should work on a much larger set. This data come from a kaggle competition so I feel like I shouldn't have to reduce as much as I am. Thoughts on how I'm approaching the data set up wrong? Insights in how to reduce run time to maximize data usage? \n",
    "\n",
    "# The small set test drive"
   ]
  },
  {
   "cell_type": "code",
   "execution_count": 10,
   "metadata": {
    "collapsed": true
   },
   "outputs": [],
   "source": [
    "#capture the third to last order information for each user\n",
    "data_p3=data_p3.reset_index()\n",
    "#sample 150 customers to make predictions for \n",
    "np.random.seed(42)\n",
    "#reduce data size \n",
    "small=data_p3.sample(50)"
   ]
  },
  {
   "cell_type": "code",
   "execution_count": 11,
   "metadata": {},
   "outputs": [
    {
     "data": {
      "text/html": [
       "<div>\n",
       "<style>\n",
       "    .dataframe thead tr:only-child th {\n",
       "        text-align: right;\n",
       "    }\n",
       "\n",
       "    .dataframe thead th {\n",
       "        text-align: left;\n",
       "    }\n",
       "\n",
       "    .dataframe tbody tr th {\n",
       "        vertical-align: top;\n",
       "    }\n",
       "</style>\n",
       "<table border=\"1\" class=\"dataframe\">\n",
       "  <thead>\n",
       "    <tr style=\"text-align: right;\">\n",
       "      <th></th>\n",
       "      <th>order_id</th>\n",
       "      <th>product_id</th>\n",
       "      <th>add_to_cart_order</th>\n",
       "      <th>reordered</th>\n",
       "    </tr>\n",
       "  </thead>\n",
       "  <tbody>\n",
       "    <tr>\n",
       "      <th>0</th>\n",
       "      <td>2</td>\n",
       "      <td>33120</td>\n",
       "      <td>1</td>\n",
       "      <td>1</td>\n",
       "    </tr>\n",
       "    <tr>\n",
       "      <th>1</th>\n",
       "      <td>2</td>\n",
       "      <td>28985</td>\n",
       "      <td>2</td>\n",
       "      <td>1</td>\n",
       "    </tr>\n",
       "    <tr>\n",
       "      <th>2</th>\n",
       "      <td>2</td>\n",
       "      <td>9327</td>\n",
       "      <td>3</td>\n",
       "      <td>0</td>\n",
       "    </tr>\n",
       "    <tr>\n",
       "      <th>3</th>\n",
       "      <td>2</td>\n",
       "      <td>45918</td>\n",
       "      <td>4</td>\n",
       "      <td>1</td>\n",
       "    </tr>\n",
       "    <tr>\n",
       "      <th>4</th>\n",
       "      <td>2</td>\n",
       "      <td>30035</td>\n",
       "      <td>5</td>\n",
       "      <td>0</td>\n",
       "    </tr>\n",
       "  </tbody>\n",
       "</table>\n",
       "</div>"
      ],
      "text/plain": [
       "   order_id  product_id  add_to_cart_order  reordered\n",
       "0         2       33120                  1          1\n",
       "1         2       28985                  2          1\n",
       "2         2        9327                  3          0\n",
       "3         2       45918                  4          1\n",
       "4         2       30035                  5          0"
      ]
     },
     "execution_count": 11,
     "metadata": {},
     "output_type": "execute_result"
    }
   ],
   "source": [
    "#loading product reorder information\n",
    "instacart_file2=pd.read_csv('/Users/luca/anaconda2/Springboard/Capstone Project 1/Data/order_products__prior.csv')\n",
    "df_prod_orders=pd.DataFrame(instacart_file2,)\n",
    "df_prod_orders.head()"
   ]
  },
  {
   "cell_type": "code",
   "execution_count": 12,
   "metadata": {},
   "outputs": [
    {
     "data": {
      "text/html": [
       "<div>\n",
       "<style>\n",
       "    .dataframe thead tr:only-child th {\n",
       "        text-align: right;\n",
       "    }\n",
       "\n",
       "    .dataframe thead th {\n",
       "        text-align: left;\n",
       "    }\n",
       "\n",
       "    .dataframe tbody tr th {\n",
       "        vertical-align: top;\n",
       "    }\n",
       "</style>\n",
       "<table border=\"1\" class=\"dataframe\">\n",
       "  <thead>\n",
       "    <tr style=\"text-align: right;\">\n",
       "      <th></th>\n",
       "      <th>product_id</th>\n",
       "      <th>product_name</th>\n",
       "      <th>aisle_id</th>\n",
       "      <th>department_id</th>\n",
       "    </tr>\n",
       "  </thead>\n",
       "  <tbody>\n",
       "    <tr>\n",
       "      <th>0</th>\n",
       "      <td>1</td>\n",
       "      <td>Chocolate Sandwich Cookies</td>\n",
       "      <td>61</td>\n",
       "      <td>19</td>\n",
       "    </tr>\n",
       "    <tr>\n",
       "      <th>1</th>\n",
       "      <td>2</td>\n",
       "      <td>All-Seasons Salt</td>\n",
       "      <td>104</td>\n",
       "      <td>13</td>\n",
       "    </tr>\n",
       "    <tr>\n",
       "      <th>2</th>\n",
       "      <td>3</td>\n",
       "      <td>Robust Golden Unsweetened Oolong Tea</td>\n",
       "      <td>94</td>\n",
       "      <td>7</td>\n",
       "    </tr>\n",
       "    <tr>\n",
       "      <th>3</th>\n",
       "      <td>4</td>\n",
       "      <td>Smart Ones Classic Favorites Mini Rigatoni Wit...</td>\n",
       "      <td>38</td>\n",
       "      <td>1</td>\n",
       "    </tr>\n",
       "    <tr>\n",
       "      <th>4</th>\n",
       "      <td>5</td>\n",
       "      <td>Green Chile Anytime Sauce</td>\n",
       "      <td>5</td>\n",
       "      <td>13</td>\n",
       "    </tr>\n",
       "  </tbody>\n",
       "</table>\n",
       "</div>"
      ],
      "text/plain": [
       "   product_id                                       product_name  aisle_id  \\\n",
       "0           1                         Chocolate Sandwich Cookies        61   \n",
       "1           2                                   All-Seasons Salt       104   \n",
       "2           3               Robust Golden Unsweetened Oolong Tea        94   \n",
       "3           4  Smart Ones Classic Favorites Mini Rigatoni Wit...        38   \n",
       "4           5                          Green Chile Anytime Sauce         5   \n",
       "\n",
       "   department_id  \n",
       "0             19  \n",
       "1             13  \n",
       "2              7  \n",
       "3              1  \n",
       "4             13  "
      ]
     },
     "execution_count": 12,
     "metadata": {},
     "output_type": "execute_result"
    }
   ],
   "source": [
    "#loading information for product names\n",
    "instacart_products=pd.read_csv('/Users/luca/anaconda2/Springboard/Capstone Project 1/Data/products.csv')\n",
    "df_prod=pd.DataFrame(instacart_products,)\n",
    "df_prod.head()"
   ]
  },
  {
   "cell_type": "code",
   "execution_count": 13,
   "metadata": {},
   "outputs": [
    {
     "data": {
      "text/html": [
       "<div>\n",
       "<style>\n",
       "    .dataframe thead tr:only-child th {\n",
       "        text-align: right;\n",
       "    }\n",
       "\n",
       "    .dataframe thead th {\n",
       "        text-align: left;\n",
       "    }\n",
       "\n",
       "    .dataframe tbody tr th {\n",
       "        vertical-align: top;\n",
       "    }\n",
       "</style>\n",
       "<table border=\"1\" class=\"dataframe\">\n",
       "  <thead>\n",
       "    <tr style=\"text-align: right;\">\n",
       "      <th></th>\n",
       "      <th>order_id</th>\n",
       "      <th>product_id</th>\n",
       "      <th>add_to_cart_order</th>\n",
       "      <th>reordered</th>\n",
       "      <th>user_id</th>\n",
       "      <th>days_since_prior_order</th>\n",
       "      <th>eval_set</th>\n",
       "      <th>order_dow</th>\n",
       "      <th>order_hour_of_day</th>\n",
       "      <th>order_number</th>\n",
       "      <th>order_from_last</th>\n",
       "    </tr>\n",
       "  </thead>\n",
       "  <tbody>\n",
       "    <tr>\n",
       "      <th>0</th>\n",
       "      <td>32900</td>\n",
       "      <td>15040</td>\n",
       "      <td>1</td>\n",
       "      <td>0</td>\n",
       "      <td>206054</td>\n",
       "      <td>11.0</td>\n",
       "      <td>prior</td>\n",
       "      <td>2</td>\n",
       "      <td>18</td>\n",
       "      <td>30</td>\n",
       "      <td>3</td>\n",
       "    </tr>\n",
       "    <tr>\n",
       "      <th>1</th>\n",
       "      <td>32900</td>\n",
       "      <td>21043</td>\n",
       "      <td>2</td>\n",
       "      <td>0</td>\n",
       "      <td>206054</td>\n",
       "      <td>11.0</td>\n",
       "      <td>prior</td>\n",
       "      <td>2</td>\n",
       "      <td>18</td>\n",
       "      <td>30</td>\n",
       "      <td>3</td>\n",
       "    </tr>\n",
       "    <tr>\n",
       "      <th>2</th>\n",
       "      <td>32900</td>\n",
       "      <td>35504</td>\n",
       "      <td>3</td>\n",
       "      <td>1</td>\n",
       "      <td>206054</td>\n",
       "      <td>11.0</td>\n",
       "      <td>prior</td>\n",
       "      <td>2</td>\n",
       "      <td>18</td>\n",
       "      <td>30</td>\n",
       "      <td>3</td>\n",
       "    </tr>\n",
       "    <tr>\n",
       "      <th>3</th>\n",
       "      <td>32900</td>\n",
       "      <td>22491</td>\n",
       "      <td>4</td>\n",
       "      <td>1</td>\n",
       "      <td>206054</td>\n",
       "      <td>11.0</td>\n",
       "      <td>prior</td>\n",
       "      <td>2</td>\n",
       "      <td>18</td>\n",
       "      <td>30</td>\n",
       "      <td>3</td>\n",
       "    </tr>\n",
       "    <tr>\n",
       "      <th>4</th>\n",
       "      <td>59409</td>\n",
       "      <td>12212</td>\n",
       "      <td>1</td>\n",
       "      <td>0</td>\n",
       "      <td>105969</td>\n",
       "      <td>30.0</td>\n",
       "      <td>prior</td>\n",
       "      <td>3</td>\n",
       "      <td>20</td>\n",
       "      <td>4</td>\n",
       "      <td>3</td>\n",
       "    </tr>\n",
       "  </tbody>\n",
       "</table>\n",
       "</div>"
      ],
      "text/plain": [
       "   order_id  product_id  add_to_cart_order  reordered  user_id  \\\n",
       "0     32900       15040                  1          0   206054   \n",
       "1     32900       21043                  2          0   206054   \n",
       "2     32900       35504                  3          1   206054   \n",
       "3     32900       22491                  4          1   206054   \n",
       "4     59409       12212                  1          0   105969   \n",
       "\n",
       "   days_since_prior_order eval_set  order_dow  order_hour_of_day  \\\n",
       "0                    11.0    prior          2                 18   \n",
       "1                    11.0    prior          2                 18   \n",
       "2                    11.0    prior          2                 18   \n",
       "3                    11.0    prior          2                 18   \n",
       "4                    30.0    prior          3                 20   \n",
       "\n",
       "   order_number  order_from_last  \n",
       "0            30                3  \n",
       "1            30                3  \n",
       "2            30                3  \n",
       "3            30                3  \n",
       "4             4                3  "
      ]
     },
     "execution_count": 13,
     "metadata": {},
     "output_type": "execute_result"
    }
   ],
   "source": [
    "#add reorder information to training data\n",
    "small_train=pd.merge(df_prod_orders,small, how= 'inner',left_on=\"order_id\", right_on='order_id')\n",
    "small_train.head()"
   ]
  },
  {
   "cell_type": "code",
   "execution_count": 14,
   "metadata": {},
   "outputs": [
    {
     "data": {
      "text/plain": [
       "order_id                  False\n",
       "product_id                False\n",
       "add_to_cart_order         False\n",
       "reordered                 False\n",
       "user_id                   False\n",
       "days_since_prior_order    False\n",
       "eval_set                  False\n",
       "order_dow                 False\n",
       "order_hour_of_day         False\n",
       "order_number              False\n",
       "order_from_last           False\n",
       "dtype: bool"
      ]
     },
     "execution_count": 14,
     "metadata": {},
     "output_type": "execute_result"
    }
   ],
   "source": [
    "#check to make sure NaN is taken care of \n",
    "small_train.isnull().any()"
   ]
  },
  {
   "cell_type": "code",
   "execution_count": 15,
   "metadata": {},
   "outputs": [
    {
     "data": {
      "text/plain": [
       "order_id                   50\n",
       "product_id                403\n",
       "add_to_cart_order          25\n",
       "reordered                   2\n",
       "user_id                    50\n",
       "days_since_prior_order     19\n",
       "eval_set                    1\n",
       "order_dow                   7\n",
       "order_hour_of_day          15\n",
       "order_number               23\n",
       "order_from_last             1\n",
       "dtype: int64"
      ]
     },
     "execution_count": 15,
     "metadata": {},
     "output_type": "execute_result"
    }
   ],
   "source": [
    "#see how many products and users we have \n",
    "small_train.nunique()"
   ]
  },
  {
   "cell_type": "code",
   "execution_count": 16,
   "metadata": {},
   "outputs": [
    {
     "data": {
      "text/html": [
       "<div>\n",
       "<style>\n",
       "    .dataframe thead tr:only-child th {\n",
       "        text-align: right;\n",
       "    }\n",
       "\n",
       "    .dataframe thead th {\n",
       "        text-align: left;\n",
       "    }\n",
       "\n",
       "    .dataframe tbody tr th {\n",
       "        vertical-align: top;\n",
       "    }\n",
       "</style>\n",
       "<table border=\"1\" class=\"dataframe\">\n",
       "  <thead>\n",
       "    <tr style=\"text-align: right;\">\n",
       "      <th></th>\n",
       "      <th>order_id</th>\n",
       "      <th>product_id</th>\n",
       "      <th>add_to_cart_order</th>\n",
       "      <th>reordered</th>\n",
       "      <th>user_id</th>\n",
       "      <th>days_since_prior_order</th>\n",
       "      <th>eval_set</th>\n",
       "      <th>order_dow</th>\n",
       "      <th>order_hour_of_day</th>\n",
       "      <th>order_number</th>\n",
       "      <th>order_from_last</th>\n",
       "    </tr>\n",
       "  </thead>\n",
       "  <tbody>\n",
       "    <tr>\n",
       "      <th>0</th>\n",
       "      <td>81267</td>\n",
       "      <td>30776</td>\n",
       "      <td>1</td>\n",
       "      <td>1</td>\n",
       "      <td>53702</td>\n",
       "      <td>7.0</td>\n",
       "      <td>prior</td>\n",
       "      <td>6</td>\n",
       "      <td>13</td>\n",
       "      <td>63</td>\n",
       "      <td>2</td>\n",
       "    </tr>\n",
       "    <tr>\n",
       "      <th>1</th>\n",
       "      <td>81267</td>\n",
       "      <td>30776</td>\n",
       "      <td>1</td>\n",
       "      <td>1</td>\n",
       "      <td>53702</td>\n",
       "      <td>7.0</td>\n",
       "      <td>prior</td>\n",
       "      <td>6</td>\n",
       "      <td>13</td>\n",
       "      <td>63</td>\n",
       "      <td>2</td>\n",
       "    </tr>\n",
       "    <tr>\n",
       "      <th>2</th>\n",
       "      <td>81267</td>\n",
       "      <td>30776</td>\n",
       "      <td>1</td>\n",
       "      <td>1</td>\n",
       "      <td>53702</td>\n",
       "      <td>7.0</td>\n",
       "      <td>prior</td>\n",
       "      <td>6</td>\n",
       "      <td>13</td>\n",
       "      <td>63</td>\n",
       "      <td>2</td>\n",
       "    </tr>\n",
       "    <tr>\n",
       "      <th>3</th>\n",
       "      <td>81267</td>\n",
       "      <td>30776</td>\n",
       "      <td>1</td>\n",
       "      <td>1</td>\n",
       "      <td>53702</td>\n",
       "      <td>7.0</td>\n",
       "      <td>prior</td>\n",
       "      <td>6</td>\n",
       "      <td>13</td>\n",
       "      <td>63</td>\n",
       "      <td>2</td>\n",
       "    </tr>\n",
       "    <tr>\n",
       "      <th>4</th>\n",
       "      <td>81267</td>\n",
       "      <td>30776</td>\n",
       "      <td>1</td>\n",
       "      <td>1</td>\n",
       "      <td>53702</td>\n",
       "      <td>7.0</td>\n",
       "      <td>prior</td>\n",
       "      <td>6</td>\n",
       "      <td>13</td>\n",
       "      <td>63</td>\n",
       "      <td>2</td>\n",
       "    </tr>\n",
       "  </tbody>\n",
       "</table>\n",
       "</div>"
      ],
      "text/plain": [
       "   order_id  product_id  add_to_cart_order  reordered  user_id  \\\n",
       "0     81267       30776                  1          1    53702   \n",
       "1     81267       30776                  1          1    53702   \n",
       "2     81267       30776                  1          1    53702   \n",
       "3     81267       30776                  1          1    53702   \n",
       "4     81267       30776                  1          1    53702   \n",
       "\n",
       "   days_since_prior_order eval_set  order_dow  order_hour_of_day  \\\n",
       "0                     7.0    prior          6                 13   \n",
       "1                     7.0    prior          6                 13   \n",
       "2                     7.0    prior          6                 13   \n",
       "3                     7.0    prior          6                 13   \n",
       "4                     7.0    prior          6                 13   \n",
       "\n",
       "   order_number  order_from_last  \n",
       "0            63                2  \n",
       "1            63                2  \n",
       "2            63                2  \n",
       "3            63                2  \n",
       "4            63                2  "
      ]
     },
     "execution_count": 16,
     "metadata": {},
     "output_type": "execute_result"
    }
   ],
   "source": [
    "#data frame to ensure we have the same users in the test set\n",
    "sample=pd.DataFrame(small_train['user_id'])\n",
    "\n",
    "#capture the second to last order information for each user as a test set\n",
    "data_p2=g.nth(-2)\n",
    "data_p2['order_from_last']=2\n",
    "data_p2=data_p2.reset_index()\n",
    "\n",
    "#for test set add in reorder information\n",
    "df_test=pd.merge(df_prod_orders,data_p2, how= 'inner',left_on=\"order_id\", right_on='order_id')\n",
    "\n",
    "#since we have train and test data broken apart by user previous order we can ensure we test only the users we trained for\n",
    "small_test=pd.merge(df_test,sample, how= 'inner',left_on=\"user_id\", right_on='user_id')\n",
    "small_test.head()"
   ]
  },
  {
   "cell_type": "code",
   "execution_count": 17,
   "metadata": {},
   "outputs": [
    {
     "data": {
      "text/plain": [
       "order_id                   50\n",
       "product_id                420\n",
       "add_to_cart_order          25\n",
       "reordered                   2\n",
       "user_id                    50\n",
       "days_since_prior_order     20\n",
       "eval_set                    1\n",
       "order_dow                   7\n",
       "order_hour_of_day          15\n",
       "order_number               23\n",
       "order_from_last             1\n",
       "dtype: int64"
      ]
     },
     "execution_count": 17,
     "metadata": {},
     "output_type": "execute_result"
    }
   ],
   "source": [
    "#small_test=df_test.sample(150)\n",
    "small_test.nunique()"
   ]
  },
  {
   "cell_type": "markdown",
   "metadata": {},
   "source": [
    "## Now we prep the feature columns to be in an appropriate format to utilize sklearn api "
   ]
  },
  {
   "cell_type": "code",
   "execution_count": 18,
   "metadata": {},
   "outputs": [
    {
     "data": {
      "text/html": [
       "<div>\n",
       "<style>\n",
       "    .dataframe thead tr:only-child th {\n",
       "        text-align: right;\n",
       "    }\n",
       "\n",
       "    .dataframe thead th {\n",
       "        text-align: left;\n",
       "    }\n",
       "\n",
       "    .dataframe tbody tr th {\n",
       "        vertical-align: top;\n",
       "    }\n",
       "</style>\n",
       "<table border=\"1\" class=\"dataframe\">\n",
       "  <thead>\n",
       "    <tr style=\"text-align: right;\">\n",
       "      <th></th>\n",
       "      <th>order_id</th>\n",
       "      <th>product_id</th>\n",
       "      <th>add_to_cart_order</th>\n",
       "      <th>reordered</th>\n",
       "      <th>user_id</th>\n",
       "      <th>days_since_prior_order</th>\n",
       "      <th>eval_set</th>\n",
       "      <th>order_dow</th>\n",
       "      <th>order_hour_of_day</th>\n",
       "      <th>order_number</th>\n",
       "      <th>order_from_last</th>\n",
       "      <th>day_0</th>\n",
       "      <th>day_1</th>\n",
       "      <th>day_2</th>\n",
       "      <th>day_3</th>\n",
       "      <th>day_4</th>\n",
       "      <th>day_5</th>\n",
       "      <th>day_6</th>\n",
       "    </tr>\n",
       "  </thead>\n",
       "  <tbody>\n",
       "    <tr>\n",
       "      <th>0</th>\n",
       "      <td>32900</td>\n",
       "      <td>15040</td>\n",
       "      <td>1</td>\n",
       "      <td>0</td>\n",
       "      <td>206054</td>\n",
       "      <td>11.0</td>\n",
       "      <td>prior</td>\n",
       "      <td>2</td>\n",
       "      <td>18</td>\n",
       "      <td>30</td>\n",
       "      <td>3</td>\n",
       "      <td>0</td>\n",
       "      <td>0</td>\n",
       "      <td>1</td>\n",
       "      <td>0</td>\n",
       "      <td>0</td>\n",
       "      <td>0</td>\n",
       "      <td>0</td>\n",
       "    </tr>\n",
       "    <tr>\n",
       "      <th>1</th>\n",
       "      <td>32900</td>\n",
       "      <td>21043</td>\n",
       "      <td>2</td>\n",
       "      <td>0</td>\n",
       "      <td>206054</td>\n",
       "      <td>11.0</td>\n",
       "      <td>prior</td>\n",
       "      <td>2</td>\n",
       "      <td>18</td>\n",
       "      <td>30</td>\n",
       "      <td>3</td>\n",
       "      <td>0</td>\n",
       "      <td>0</td>\n",
       "      <td>1</td>\n",
       "      <td>0</td>\n",
       "      <td>0</td>\n",
       "      <td>0</td>\n",
       "      <td>0</td>\n",
       "    </tr>\n",
       "    <tr>\n",
       "      <th>2</th>\n",
       "      <td>32900</td>\n",
       "      <td>35504</td>\n",
       "      <td>3</td>\n",
       "      <td>1</td>\n",
       "      <td>206054</td>\n",
       "      <td>11.0</td>\n",
       "      <td>prior</td>\n",
       "      <td>2</td>\n",
       "      <td>18</td>\n",
       "      <td>30</td>\n",
       "      <td>3</td>\n",
       "      <td>0</td>\n",
       "      <td>0</td>\n",
       "      <td>1</td>\n",
       "      <td>0</td>\n",
       "      <td>0</td>\n",
       "      <td>0</td>\n",
       "      <td>0</td>\n",
       "    </tr>\n",
       "    <tr>\n",
       "      <th>3</th>\n",
       "      <td>32900</td>\n",
       "      <td>22491</td>\n",
       "      <td>4</td>\n",
       "      <td>1</td>\n",
       "      <td>206054</td>\n",
       "      <td>11.0</td>\n",
       "      <td>prior</td>\n",
       "      <td>2</td>\n",
       "      <td>18</td>\n",
       "      <td>30</td>\n",
       "      <td>3</td>\n",
       "      <td>0</td>\n",
       "      <td>0</td>\n",
       "      <td>1</td>\n",
       "      <td>0</td>\n",
       "      <td>0</td>\n",
       "      <td>0</td>\n",
       "      <td>0</td>\n",
       "    </tr>\n",
       "    <tr>\n",
       "      <th>4</th>\n",
       "      <td>59409</td>\n",
       "      <td>12212</td>\n",
       "      <td>1</td>\n",
       "      <td>0</td>\n",
       "      <td>105969</td>\n",
       "      <td>30.0</td>\n",
       "      <td>prior</td>\n",
       "      <td>3</td>\n",
       "      <td>20</td>\n",
       "      <td>4</td>\n",
       "      <td>3</td>\n",
       "      <td>0</td>\n",
       "      <td>0</td>\n",
       "      <td>0</td>\n",
       "      <td>1</td>\n",
       "      <td>0</td>\n",
       "      <td>0</td>\n",
       "      <td>0</td>\n",
       "    </tr>\n",
       "  </tbody>\n",
       "</table>\n",
       "</div>"
      ],
      "text/plain": [
       "   order_id  product_id  add_to_cart_order  reordered  user_id  \\\n",
       "0     32900       15040                  1          0   206054   \n",
       "1     32900       21043                  2          0   206054   \n",
       "2     32900       35504                  3          1   206054   \n",
       "3     32900       22491                  4          1   206054   \n",
       "4     59409       12212                  1          0   105969   \n",
       "\n",
       "   days_since_prior_order eval_set  order_dow  order_hour_of_day  \\\n",
       "0                    11.0    prior          2                 18   \n",
       "1                    11.0    prior          2                 18   \n",
       "2                    11.0    prior          2                 18   \n",
       "3                    11.0    prior          2                 18   \n",
       "4                    30.0    prior          3                 20   \n",
       "\n",
       "   order_number  order_from_last  day_0  day_1  day_2  day_3  day_4  day_5  \\\n",
       "0            30                3      0      0      1      0      0      0   \n",
       "1            30                3      0      0      1      0      0      0   \n",
       "2            30                3      0      0      1      0      0      0   \n",
       "3            30                3      0      0      1      0      0      0   \n",
       "4             4                3      0      0      0      1      0      0   \n",
       "\n",
       "   day_6  \n",
       "0      0  \n",
       "1      0  \n",
       "2      0  \n",
       "3      0  \n",
       "4      0  "
      ]
     },
     "execution_count": 18,
     "metadata": {},
     "output_type": "execute_result"
    }
   ],
   "source": [
    "#use pandas one hot encoder on training data's order_dow with added 'day' to column name\n",
    "df_dow=pd.get_dummies(small_train['order_dow'],prefix='day')\n",
    "#add reorder information to training data\n",
    "train=pd.merge(small_train,df_dow, how= 'inner',left_index= True, right_index=True)\n",
    "train.head()"
   ]
  },
  {
   "cell_type": "code",
   "execution_count": 19,
   "metadata": {},
   "outputs": [
    {
     "data": {
      "text/html": [
       "<div>\n",
       "<style>\n",
       "    .dataframe thead tr:only-child th {\n",
       "        text-align: right;\n",
       "    }\n",
       "\n",
       "    .dataframe thead th {\n",
       "        text-align: left;\n",
       "    }\n",
       "\n",
       "    .dataframe tbody tr th {\n",
       "        vertical-align: top;\n",
       "    }\n",
       "</style>\n",
       "<table border=\"1\" class=\"dataframe\">\n",
       "  <thead>\n",
       "    <tr style=\"text-align: right;\">\n",
       "      <th></th>\n",
       "      <th>order_id</th>\n",
       "      <th>product_id</th>\n",
       "      <th>add_to_cart_order</th>\n",
       "      <th>reordered</th>\n",
       "      <th>user_id</th>\n",
       "      <th>days_since_prior_order</th>\n",
       "      <th>eval_set</th>\n",
       "      <th>order_dow</th>\n",
       "      <th>order_hour_of_day</th>\n",
       "      <th>order_number</th>\n",
       "      <th>order_from_last</th>\n",
       "      <th>day_0</th>\n",
       "      <th>day_1</th>\n",
       "      <th>day_2</th>\n",
       "      <th>day_3</th>\n",
       "      <th>day_4</th>\n",
       "      <th>day_5</th>\n",
       "      <th>day_6</th>\n",
       "    </tr>\n",
       "  </thead>\n",
       "  <tbody>\n",
       "    <tr>\n",
       "      <th>0</th>\n",
       "      <td>81267</td>\n",
       "      <td>30776</td>\n",
       "      <td>1</td>\n",
       "      <td>1</td>\n",
       "      <td>53702</td>\n",
       "      <td>7.0</td>\n",
       "      <td>prior</td>\n",
       "      <td>6</td>\n",
       "      <td>13</td>\n",
       "      <td>63</td>\n",
       "      <td>2</td>\n",
       "      <td>0</td>\n",
       "      <td>0</td>\n",
       "      <td>0</td>\n",
       "      <td>0</td>\n",
       "      <td>0</td>\n",
       "      <td>0</td>\n",
       "      <td>1</td>\n",
       "    </tr>\n",
       "    <tr>\n",
       "      <th>1</th>\n",
       "      <td>81267</td>\n",
       "      <td>30776</td>\n",
       "      <td>1</td>\n",
       "      <td>1</td>\n",
       "      <td>53702</td>\n",
       "      <td>7.0</td>\n",
       "      <td>prior</td>\n",
       "      <td>6</td>\n",
       "      <td>13</td>\n",
       "      <td>63</td>\n",
       "      <td>2</td>\n",
       "      <td>0</td>\n",
       "      <td>0</td>\n",
       "      <td>0</td>\n",
       "      <td>0</td>\n",
       "      <td>0</td>\n",
       "      <td>0</td>\n",
       "      <td>1</td>\n",
       "    </tr>\n",
       "    <tr>\n",
       "      <th>2</th>\n",
       "      <td>81267</td>\n",
       "      <td>30776</td>\n",
       "      <td>1</td>\n",
       "      <td>1</td>\n",
       "      <td>53702</td>\n",
       "      <td>7.0</td>\n",
       "      <td>prior</td>\n",
       "      <td>6</td>\n",
       "      <td>13</td>\n",
       "      <td>63</td>\n",
       "      <td>2</td>\n",
       "      <td>0</td>\n",
       "      <td>0</td>\n",
       "      <td>0</td>\n",
       "      <td>0</td>\n",
       "      <td>0</td>\n",
       "      <td>0</td>\n",
       "      <td>1</td>\n",
       "    </tr>\n",
       "    <tr>\n",
       "      <th>3</th>\n",
       "      <td>81267</td>\n",
       "      <td>30776</td>\n",
       "      <td>1</td>\n",
       "      <td>1</td>\n",
       "      <td>53702</td>\n",
       "      <td>7.0</td>\n",
       "      <td>prior</td>\n",
       "      <td>6</td>\n",
       "      <td>13</td>\n",
       "      <td>63</td>\n",
       "      <td>2</td>\n",
       "      <td>0</td>\n",
       "      <td>0</td>\n",
       "      <td>0</td>\n",
       "      <td>0</td>\n",
       "      <td>0</td>\n",
       "      <td>0</td>\n",
       "      <td>1</td>\n",
       "    </tr>\n",
       "    <tr>\n",
       "      <th>4</th>\n",
       "      <td>81267</td>\n",
       "      <td>30776</td>\n",
       "      <td>1</td>\n",
       "      <td>1</td>\n",
       "      <td>53702</td>\n",
       "      <td>7.0</td>\n",
       "      <td>prior</td>\n",
       "      <td>6</td>\n",
       "      <td>13</td>\n",
       "      <td>63</td>\n",
       "      <td>2</td>\n",
       "      <td>0</td>\n",
       "      <td>0</td>\n",
       "      <td>0</td>\n",
       "      <td>0</td>\n",
       "      <td>0</td>\n",
       "      <td>0</td>\n",
       "      <td>1</td>\n",
       "    </tr>\n",
       "  </tbody>\n",
       "</table>\n",
       "</div>"
      ],
      "text/plain": [
       "   order_id  product_id  add_to_cart_order  reordered  user_id  \\\n",
       "0     81267       30776                  1          1    53702   \n",
       "1     81267       30776                  1          1    53702   \n",
       "2     81267       30776                  1          1    53702   \n",
       "3     81267       30776                  1          1    53702   \n",
       "4     81267       30776                  1          1    53702   \n",
       "\n",
       "   days_since_prior_order eval_set  order_dow  order_hour_of_day  \\\n",
       "0                     7.0    prior          6                 13   \n",
       "1                     7.0    prior          6                 13   \n",
       "2                     7.0    prior          6                 13   \n",
       "3                     7.0    prior          6                 13   \n",
       "4                     7.0    prior          6                 13   \n",
       "\n",
       "   order_number  order_from_last  day_0  day_1  day_2  day_3  day_4  day_5  \\\n",
       "0            63                2      0      0      0      0      0      0   \n",
       "1            63                2      0      0      0      0      0      0   \n",
       "2            63                2      0      0      0      0      0      0   \n",
       "3            63                2      0      0      0      0      0      0   \n",
       "4            63                2      0      0      0      0      0      0   \n",
       "\n",
       "   day_6  \n",
       "0      1  \n",
       "1      1  \n",
       "2      1  \n",
       "3      1  \n",
       "4      1  "
      ]
     },
     "execution_count": 19,
     "metadata": {},
     "output_type": "execute_result"
    }
   ],
   "source": [
    "#use pandas one hot encoder on test data's order_dow with added 'day' to column name \n",
    "df_dow=pd.get_dummies(small_test['order_dow'],prefix='day')\n",
    "#add reorder information to training data\n",
    "test=pd.merge(small_test,df_dow, how= 'inner',left_index= True, right_index=True)\n",
    "test.head()"
   ]
  },
  {
   "cell_type": "code",
   "execution_count": 20,
   "metadata": {
    "collapsed": true
   },
   "outputs": [],
   "source": [
    "train = train.reset_index()\n",
    "test = test.reset_index()\n",
    "train = train.set_index(['user_id','product_id']).sort_index()\n",
    "test = test.set_index(['user_id','product_id']).sort_index()\n",
    "test = test.drop_duplicates()\n",
    "train = train.drop_duplicates()"
   ]
  },
  {
   "cell_type": "code",
   "execution_count": 21,
   "metadata": {
    "collapsed": true
   },
   "outputs": [],
   "source": [
    "#capture feature names and make a list\n",
    "features=train[['add_to_cart_order', 'days_since_prior_order', 'order_hour_of_day', 'order_number', 'order_from_last', 'day_0','day_1', 'day_2', 'day_3', 'day_4', 'day_5', 'day_6']]\n",
    "feature_list = list(features.columns)\n",
    "features=features.columns\n",
    "\n",
    "\n",
    "#make a training set for sklearn features\n",
    "xtrain = train[features]\n",
    "\n",
    "#make a test set for sklearn features\n",
    "xtest = test[features]\n",
    "\n",
    "#convert target column into array for training set\n",
    "ytrain = pd.factorize(small_train['reordered'])[0]\n",
    "\n",
    "#convert target column into array for test set \n",
    "ytest = pd.factorize(small_test['reordered'])[0]\n"
   ]
  },
  {
   "cell_type": "code",
   "execution_count": 22,
   "metadata": {},
   "outputs": [
    {
     "name": "stdout",
     "output_type": "stream",
     "text": [
      "% reorders in training set 0.549474\n",
      "% reorders in test set 0.456820\n"
     ]
    }
   ],
   "source": [
    "#see if the training data has the proper balance of reorders \n",
    "print ('% reorders in training set {:2f}'.format(float(ytrain.sum())/ytrain.size))\n",
    "print ('% reorders in test set {:2f}'.format(float(ytest.sum())/ytest.size))"
   ]
  },
  {
   "cell_type": "code",
   "execution_count": 23,
   "metadata": {},
   "outputs": [
    {
     "data": {
      "text/plain": [
       "(6195, 17)"
      ]
     },
     "execution_count": 23,
     "metadata": {},
     "output_type": "execute_result"
    }
   ],
   "source": [
    "test.shape"
   ]
  },
  {
   "cell_type": "code",
   "execution_count": 24,
   "metadata": {},
   "outputs": [
    {
     "data": {
      "text/plain": [
       "(475, 17)"
      ]
     },
     "execution_count": 24,
     "metadata": {},
     "output_type": "execute_result"
    }
   ],
   "source": [
    "train.shape"
   ]
  },
  {
   "cell_type": "markdown",
   "metadata": {},
   "source": [
    "# Question\n",
    "Should I be concerned about the difference here in imbalance here? The EDA of all the data showed that reorders occured at 60% overall. Here in the training set, which is all the 3rd previous orders for customers the reorder rate  and the test set are also different. \n",
    "\n",
    "# Question:\n",
    "What is to long for a runtime? This one, the randomized grid search, takes a few hours in the full set I would like to run.\n"
   ]
  },
  {
   "cell_type": "markdown",
   "metadata": {},
   "source": [
    "## Now we use svm with rbf kernel on the data to make predictions for reorders"
   ]
  },
  {
   "cell_type": "code",
   "execution_count": 25,
   "metadata": {},
   "outputs": [
    {
     "name": "stdout",
     "output_type": "stream",
     "text": [
      "Accuracy on training data: 0.77\n",
      "Accuracy on test data: 0.43\n",
      "F1 Score on train data: 0.8015\n",
      "F1 Score on validation (train-test set) data: 0.4998\n",
      "             precision    recall  f1-score   support\n",
      "\n",
      "          0       0.46      0.28      0.35      3365\n",
      "          1       0.42      0.62      0.50      2830\n",
      "\n",
      "avg / total       0.44      0.43      0.42      6195\n",
      "\n"
     ]
    }
   ],
   "source": [
    "#to tune parameters \n",
    "clf=svm.SVC(kernel='rbf')\n",
    "\n",
    "#fit classifier to validation set\n",
    "clf.fit( xtrain , ytrain )\n",
    "\n",
    "#get the prediction set for the validation \n",
    "preds_train_svm = clf.predict( xtrain )\n",
    "\n",
    "#make some predictions\n",
    "preds_svm = clf.predict( xtest )\n",
    "\n",
    "\n",
    "#print the accuracy score for the training data\n",
    "training_accuracy = clf.score( xtrain , ytrain )\n",
    "print(\"Accuracy on training data: {:0.2f}\".format( training_accuracy ) )\n",
    "\n",
    "#print the accuracy score for the test data\n",
    "test_accuracy = clf.score(xtest , ytest)\n",
    "print(\"Accuracy on test data: {:0.2f}\".format( test_accuracy ) )\n",
    "\n",
    "#print training f1 score\n",
    "fscore_train = metrics.f1_score( ytrain , preds_train_svm )\n",
    "print(\"F1 Score on train data: {:0.4f}\".format(fscore_train))\n",
    "\n",
    "#print testing f1 score\n",
    "fscore = metrics.f1_score( ytest , preds_svm , pos_label=1 )\n",
    "print(\"F1 Score on validation (train-test set) data: {:0.4f}\".format( fscore ) )\n",
    "\n",
    "print (classification_report( ytest , preds_svm ))"
   ]
  },
  {
   "cell_type": "code",
   "execution_count": 26,
   "metadata": {},
   "outputs": [
    {
     "data": {
      "image/png": "[encoded data removed]",
      "text/plain": [
       "<matplotlib.figure.Figure at 0x10df2d2d0>"
      ]
     },
     "metadata": {},
     "output_type": "display_data"
    }
   ],
   "source": [
    "#can look at decision line \n",
    "clf.decision_function(xtest)\n",
    "\n",
    "#plot the histogram of distance from boundry\n",
    "plt.hist(clf.decision_function(xtest),edgecolor='k')\n",
    "#add labels and title\n",
    "plt.xlabel(\"Distance from Decistion Line\", {'fontsize': 14})\n",
    "plt.ylabel(\"Number of Points\", {'fontsize': 14})\n",
    "\n",
    "plt.title(\"SVM Data Points Distance from Decision Line\", {'fontsize': 14})\n",
    "#save figure for papers\n",
    "plt.tight_layout()\n",
    "plt.savefig('svm_distance.png')\n",
    "#show figure in notebook\n",
    "plt.show()"
   ]
  },
  {
   "cell_type": "markdown",
   "metadata": {},
   "source": [
    "   classification report, which lists recovery statistics label by label\n",
    "   \n",
    "   # I should tune parametes here. Definitely overfitting\n",
    "   \n",
    "   SVM does not have predict_proba module. We can instead plot the distance from the decision line.\n",
    "   Can plot a histogram od the decision function. Need to work on making plot of the decision function on the plane. \n",
    "   See if I can plot the support vectors as well.\n"
   ]
  },
  {
   "cell_type": "code",
   "execution_count": 27,
   "metadata": {},
   "outputs": [
    {
     "name": "stdout",
     "output_type": "stream",
     "text": [
      "<class 'pandas.core.frame.DataFrame'>\n",
      "RangeIndex: 49688 entries, 0 to 49687\n",
      "Data columns (total 4 columns):\n",
      "product_id       49688 non-null int64\n",
      "product_name     49688 non-null object\n",
      "aisle_id         49688 non-null int64\n",
      "department_id    49688 non-null int64\n",
      "dtypes: int64(3), object(1)\n",
      "memory usage: 1.5+ MB\n"
     ]
    }
   ],
   "source": [
    "df_prod.info()"
   ]
  },
  {
   "cell_type": "code",
   "execution_count": 28,
   "metadata": {},
   "outputs": [
    {
     "data": {
      "text/plain": [
       "array([[ 927, 2438],\n",
       "       [1075, 1755]])"
      ]
     },
     "execution_count": 28,
     "metadata": {},
     "output_type": "execute_result"
    }
   ],
   "source": [
    "#look at confusion matrix\n",
    "confusion_matrix( ytest , preds_svm )"
   ]
  },
  {
   "cell_type": "markdown",
   "metadata": {},
   "source": [
    "## Now look at model measurements: ROC Curve, Precision-Recall Curves and AUC "
   ]
  },
  {
   "cell_type": "code",
   "execution_count": 29,
   "metadata": {},
   "outputs": [
    {
     "data": {
      "image/png": "[encoded data removed]",
      "text/plain": [
       "<matplotlib.figure.Figure at 0x10df2dad0>"
      ]
     },
     "metadata": {},
     "output_type": "display_data"
    }
   ],
   "source": [
    "#predict the probabilities for each observation in training set\n",
    "#pred_train_prob_svm = clf.decision_function(xtrain)[:,1]\n",
    "\n",
    "#predict the probabilities for each observation in test set\n",
    "#pred_prob_svm = clf.predict_proba(xtest)[:,1]\n",
    "\n",
    "#get false positive rate, true positive rate, and thresholds for training data\n",
    "xfpr , xtpr , xthres = roc_curve(ytrain , clf.decision_function(xtrain) )\n",
    "\n",
    "#get false positive rate, true positive rate, and thresholds for test data\n",
    "fpr , tpr , thres = roc_curve( ytest , clf.decision_function(xtest))\n",
    "\n",
    "#plot base line at .5 probability\n",
    "plt.plot([0,1],[0,1],'k--')\n",
    "#plot model train and test\n",
    "plt.plot(fpr,tpr,label='testing data')\n",
    "plt.plot(xfpr,xtpr, 'g-',label='training data')\n",
    "#add labels\n",
    "plt.xlabel(\"False Positive Rate\")\n",
    "plt.ylabel(\"True Positive Rate\")\n",
    "plt.title('ROC Curve')\n",
    "plt.legend(loc=4)\n",
    "plt.show()"
   ]
  },
  {
   "cell_type": "code",
   "execution_count": 30,
   "metadata": {},
   "outputs": [
    {
     "data": {
      "image/png": "[encoded data removed]",
      "text/plain": [
       "<matplotlib.figure.Figure at 0x10d15cdd0>"
      ]
     },
     "metadata": {},
     "output_type": "display_data"
    }
   ],
   "source": [
    "xprec_score,xrecall_score,xthresholds=precision_recall_curve( ytrain , clf.decision_function(xtrain) )\n",
    "\n",
    "prec_score,recall_score,thresholds=precision_recall_curve( ytest , clf.decision_function(xtest))\n",
    "\n",
    "plt.plot([1,0],[0,1],'k--')\n",
    "plt.plot(recall_score,prec_score,label='testing data')\n",
    "plt.plot(xrecall_score,xprec_score,'g-',label='training data')\n",
    "#plt.plot(xfpr,xtpr, 'g-',label='training data')\n",
    "plt.xlabel(\"Recall\")\n",
    "plt.ylabel(\"Precision\")\n",
    "plt.title('Precision-Recall Curve')\n",
    "plt.legend(loc=3)\n",
    "plt.show()"
   ]
  },
  {
   "cell_type": "code",
   "execution_count": 31,
   "metadata": {},
   "outputs": [
    {
     "data": {
      "text/plain": [
       "0.45495965010842232"
      ]
     },
     "execution_count": 31,
     "metadata": {},
     "output_type": "execute_result"
    }
   ],
   "source": [
    "roc_auc_score(ytest , clf.decision_function(xtest))"
   ]
  },
  {
   "cell_type": "code",
   "execution_count": 32,
   "metadata": {},
   "outputs": [
    {
     "name": "stdout",
     "output_type": "stream",
     "text": [
      "CPU times: user 64.6 ms, sys: 1.85 ms, total: 66.4 ms\n",
      "Wall time: 67.8 ms\n",
      "[ 0.52523036  0.34615385  0.36270125  0.519678    0.3956044 ]\n"
     ]
    }
   ],
   "source": [
    "% time cv_auc_scores=cross_val_score(clf, xtrain , ytrain, cv=5, scoring='roc_auc')\n",
    "print(cv_auc_scores)"
   ]
  },
  {
   "cell_type": "markdown",
   "metadata": {
    "collapsed": true
   },
   "source": [
    "#know lets tune the parameters for the svm \n",
    "from sklearn.model_selection import StratifiedShuffleSplit\n",
    "\n",
    "# Sklearn recommends for an initial search, a logarithmic grid with basis 10 is often helpful. Using a basis \n",
    "# of 2, a finer tuning can be achieved but at a much higher cost.\n",
    "\n",
    "C_range = np.logspace(-2, 10, 13)\n",
    "gamma_range = np.logspace(-9, 3, 13)\n",
    "#param_grid = dict(gamma=gamma_range, C=C_range)\n",
    "\n",
    "parameters = {'C': C_range , 'gamma' : gamma_range }\n",
    "cv = StratifiedShuffleSplit(n_splits=5, test_size=0.2, random_state=42)\n",
    "#grid = GridSearchCV(SVC(), param_grid=param_grid, cv=cv)\n",
    "            \n",
    "\n",
    "#randomize grid search for parameters with cross validation and refit on entire training set\n",
    "#spread across two jobs and seed a random state\n",
    "rs = RandomizedSearchCV(clf,  param_distributions= parameters ,cv= cv, refit= True, n_jobs= 2, random_state= 42, scoring='f1')\n",
    "\n",
    "#fit grid search on random forest over grid\n",
    "%time rs.fit( xtrain ,  ytrain )"
   ]
  },
  {
   "cell_type": "markdown",
   "metadata": {},
   "source": [
    "## The above was with default settings lets tune the model and see if we can imporve."
   ]
  },
  {
   "cell_type": "code",
   "execution_count": 33,
   "metadata": {},
   "outputs": [
    {
     "name": "stdout",
     "output_type": "stream",
     "text": [
      "CPU times: user 1.84 s, sys: 348 ms, total: 2.19 s\n",
      "Wall time: 1h 51min 19s\n"
     ]
    },
    {
     "data": {
      "text/plain": [
       "RandomizedSearchCV(cv=StratifiedShuffleSplit(n_splits=5, random_state=42, test_size=0.2,\n",
       "            train_size=None),\n",
       "          error_score='raise',\n",
       "          estimator=SVC(C=1.0, cache_size=200, class_weight=None, coef0=0.0,\n",
       "  decision_function_shape='ovr', degree=3, gamma='auto', kernel='rbf',\n",
       "  max_iter=-1, probability=False, random_state=None, shrinking=True,\n",
       "  tol=0.001, verbose=False),\n",
       "          fit_params=None, iid=True, n_iter=10, n_jobs=2,\n",
       "          param_distributions={'C': array([  1.00000e-02,   1.00000e+01,   1.00000e+04,   1.00000e+07,\n",
       "         1.00000e+10]), 'gamma': array([  1.00000e-09,   1.00000e-06,   1.00000e-03,   1.00000e+00,\n",
       "         1.00000e+03])},\n",
       "          pre_dispatch='2*n_jobs', random_state=42, refit=True,\n",
       "          return_train_score='warn', scoring='f1', verbose=0)"
      ]
     },
     "execution_count": 33,
     "metadata": {},
     "output_type": "execute_result"
    }
   ],
   "source": [
    "#know lets tune the parameters for the svm \n",
    "from sklearn.model_selection import StratifiedShuffleSplit\n",
    "\n",
    "# Sklearn recommends for an initial search, a logarithmic grid with basis 10 is often helpful. Using a basis \n",
    "# of 2, a finer tuning can be achieved but at a much higher cost.\n",
    "\n",
    "C_range = np.logspace(-2, 10, 5)\n",
    "gamma_range = np.logspace(-9, 3, 5)\n",
    "#param_grid = dict(gamma=gamma_range, C=C_range)\n",
    "\n",
    "parameters = {'C': C_range , 'gamma' : gamma_range }\n",
    "cv = StratifiedShuffleSplit(n_splits=5, test_size=0.2, random_state=42)\n",
    "#grid = GridSearchCV(SVC(), param_grid=param_grid, cv=cv)\n",
    "            \n",
    "\n",
    "#randomize grid search for parameters with cross validation and refit on entire training set\n",
    "#spread across two jobs and seed a random state\n",
    "rs = RandomizedSearchCV(clf,  param_distributions= parameters ,cv= cv, refit= True, n_jobs= 2, random_state= 42, scoring='f1')\n",
    "\n",
    "#fit grid search on random forest over grid\n",
    "%time rs.fit( xtrain ,  ytrain )"
   ]
  },
  {
   "cell_type": "markdown",
   "metadata": {},
   "source": [
    "# Question:\n",
    "Does my approach at cross-validation voilate any principles? Do you see anything wrong here? Can I do it better?"
   ]
  },
  {
   "cell_type": "code",
   "execution_count": 34,
   "metadata": {},
   "outputs": [
    {
     "name": "stdout",
     "output_type": "stream",
     "text": [
      "the best regulization C is 0.01 and the best gamma, radius of influence of support vectors is 1e-09\n",
      "the best f1 score with these is 0.707482993197\n"
     ]
    }
   ],
   "source": [
    "#save best parameters to use on test set\n",
    "best_c = rs.best_params_['C'] \n",
    "best_gamma=rs.best_params_['gamma'] \n",
    "\n",
    "#print best parameter results\n",
    "print(\"the best regulization C is {} and the best gamma, radius of influence of support vectors is {}\".format(best_c,best_gamma))\n",
    "print(\"the best f1 score with these is {}\".format(rs.best_score_))"
   ]
  },
  {
   "cell_type": "markdown",
   "metadata": {},
   "source": [
    "Note that the C value is at the edge of our range. Lets look at the learning curve to we should continue to look for a better C. We will also check the learning curve on the gamma. "
   ]
  },
  {
   "cell_type": "code",
   "execution_count": 36,
   "metadata": {},
   "outputs": [
    {
     "name": "stderr",
     "output_type": "stream",
     "text": [
      "/Users/luca/anaconda2/lib/python2.7/site-packages/sklearn/cross_validation.py:41: DeprecationWarning: This module was deprecated in version 0.18 in favor of the model_selection module into which all the refactored classes and functions are moved. Also note that the interface of the new CV iterators are different from that of this module. This module will be removed in 0.20.\n",
      "  \"This module will be removed in 0.20.\", DeprecationWarning)\n",
      "/Users/luca/anaconda2/lib/python2.7/site-packages/sklearn/learning_curve.py:22: DeprecationWarning: This module was deprecated in version 0.18 in favor of the model_selection module into which all the functions are moved. This module will be removed in 0.20\n",
      "  DeprecationWarning)\n"
     ]
    },
    {
     "data": {
      "image/png": "[encoded data removed]",
      "text/plain": [
       "<matplotlib.figure.Figure at 0x10da82a50>"
      ]
     },
     "metadata": {},
     "output_type": "display_data"
    }
   ],
   "source": [
    "from sklearn.learning_curve import validation_curve\n",
    "#degree = np.arange(0, 21)\n",
    "param_range=C_range\n",
    "train_scores, test_scores = validation_curve( clf , xtrain, ytrain, param_name=\"C\", param_range= param_range , cv=10, scoring=\"f1\", n_jobs=2 )\n",
    "train_scores_mean = np.mean(train_scores, axis=1)\n",
    "train_scores_std = np.std(train_scores, axis=1)\n",
    "test_scores_mean = np.mean(test_scores, axis=1)\n",
    "test_scores_std = np.std(test_scores, axis=1)\n",
    "\n",
    "plt.title(\"Validation Curve with SVM\")\n",
    "plt.xlabel(\"C\")\n",
    "plt.ylabel(\"Score\")\n",
    "#plt.ylim(0.0, 1.1)\n",
    "lw = 2\n",
    "plt.semilogx(param_range, train_scores_mean, label=\"Training score\",\n",
    "             color=\"darkorange\", lw=lw)\n",
    "plt.fill_between(param_range, train_scores_mean - train_scores_std,\n",
    "                 train_scores_mean + train_scores_std, alpha=0.2,\n",
    "                 color=\"darkorange\", lw=lw)\n",
    "plt.semilogx(param_range, test_scores_mean, label=\"Cross-validation score\",\n",
    "             color=\"navy\", lw=lw)\n",
    "plt.fill_between(param_range, test_scores_mean - test_scores_std,\n",
    "                 test_scores_mean + test_scores_std, alpha=0.2,\n",
    "                 color=\"navy\", lw=lw)\n",
    "plt.legend(loc=\"best\")\n",
    "plt.show()"
   ]
  },
  {
   "cell_type": "markdown",
   "metadata": {},
   "source": [
    "We see that after C gets above 100 the computational time is not benefiting the score. Hence we will move the upper range to 100 and the lower bound to 10^-1."
   ]
  },
  {
   "cell_type": "code",
   "execution_count": 38,
   "metadata": {},
   "outputs": [
    {
     "data": {
      "image/png": "[encoded data removed]",
      "text/plain": [
       "<matplotlib.figure.Figure at 0x10da84a10>"
      ]
     },
     "metadata": {},
     "output_type": "display_data"
    }
   ],
   "source": [
    "from sklearn.learning_curve import validation_curve\n",
    "#degree = np.arange(0, 21)\n",
    "param_range=gamma_range\n",
    "train_scores, test_scores = validation_curve( clf , xtrain, ytrain, param_name=\"gamma\", param_range= gamma_range , cv=10, scoring=\"f1\", n_jobs=2 )\n",
    "train_scores_mean = np.mean(train_scores, axis=1)\n",
    "train_scores_std = np.std(train_scores, axis=1)\n",
    "test_scores_mean = np.mean(test_scores, axis=1)\n",
    "test_scores_std = np.std(test_scores, axis=1)\n",
    "\n",
    "plt.title(\"Validation Curve with SVM\")\n",
    "plt.xlabel(\"$\\gamma$\")\n",
    "plt.ylabel(\"Score\")\n",
    "plt.ylim(0.0, 1.1)\n",
    "lw = 2\n",
    "plt.semilogx(param_range, train_scores_mean, label=\"Training score\",\n",
    "             color=\"darkorange\", lw=lw)\n",
    "plt.fill_between(param_range, train_scores_mean - train_scores_std,\n",
    "                 train_scores_mean + train_scores_std, alpha=0.2,\n",
    "                 color=\"darkorange\", lw=lw)\n",
    "plt.semilogx(param_range, test_scores_mean, label=\"Cross-validation score\",\n",
    "             color=\"navy\", lw=lw)\n",
    "plt.fill_between(param_range, test_scores_mean - test_scores_std,\n",
    "                 test_scores_mean + test_scores_std, alpha=0.2,\n",
    "                 color=\"navy\", lw=lw)\n",
    "plt.legend(loc=\"best\")\n",
    "plt.show()"
   ]
  },
  {
   "cell_type": "markdown",
   "metadata": {},
   "source": [
    "Looking at the gamma learning curve we begin to overfit at around 10^-3 and no improvement for gamma  below 10^-5. Lets retune with these ranges. "
   ]
  },
  {
   "cell_type": "code",
   "execution_count": 39,
   "metadata": {},
   "outputs": [
    {
     "name": "stdout",
     "output_type": "stream",
     "text": [
      "CPU times: user 210 ms, sys: 34.1 ms, total: 244 ms\n",
      "Wall time: 728 ms\n"
     ]
    },
    {
     "data": {
      "text/plain": [
       "RandomizedSearchCV(cv=StratifiedShuffleSplit(n_splits=5, random_state=42, test_size=0.2,\n",
       "            train_size=None),\n",
       "          error_score='raise',\n",
       "          estimator=SVC(C=1.0, cache_size=200, class_weight=None, coef0=0.0,\n",
       "  decision_function_shape='ovr', degree=3, gamma='auto', kernel='rbf',\n",
       "  max_iter=-1, probability=False, random_state=None, shrinking=True,\n",
       "  tol=0.001, verbose=False),\n",
       "          fit_params=None, iid=True, n_iter=10, n_jobs=2,\n",
       "          param_distributions={'C': array([   0.1    ,    0.17783,    0.31623,    0.56234,    1.     ,\n",
       "          1.77828,    3.16228,    5.62341,   10.     ,   17.78279,\n",
       "         31.62278,   56.23413,  100.     ]), 'gamma': array([  1.00000e-05,   1.46780e-05,   2.15443e-05,   3.16228e-05,\n",
       "         4.64159e-05,   6.81292e-05,   1.00000e-04,   1.46780e-04,\n",
       "         2.15443e-04,   3.16228e-04,   4.64159e-04,   6.81292e-04,\n",
       "         1.00000e-03])},\n",
       "          pre_dispatch='2*n_jobs', random_state=42, refit=True,\n",
       "          return_train_score='warn', scoring='f1', verbose=0)"
      ]
     },
     "execution_count": 39,
     "metadata": {},
     "output_type": "execute_result"
    }
   ],
   "source": [
    "#know lets tune the parameters for the svm \n",
    "from sklearn.model_selection import StratifiedShuffleSplit\n",
    "\n",
    "# Sklearn recommends for an initial search, a logarithmic grid with basis 10 is often helpful. Using a basis \n",
    "# of 2, a finer tuning can be achieved but at a much higher cost.\n",
    "\n",
    "C_range = np.logspace(-1, 2, 13)\n",
    "gamma_range = np.logspace(-5, -3, 13)\n",
    "#param_grid = dict(gamma=gamma_range, C=C_range)\n",
    "\n",
    "parameters = {'C': C_range , 'gamma' : gamma_range }\n",
    "cv = StratifiedShuffleSplit(n_splits=5, test_size=0.2, random_state=42)\n",
    "#grid = GridSearchCV(SVC(), param_grid=param_grid, cv=cv)\n",
    "            \n",
    "\n",
    "#randomize grid search for parameters with cross validation and refit on entire training set\n",
    "#spread across two jobs and seed a random state\n",
    "rs = RandomizedSearchCV(clf,  param_distributions= parameters ,cv= cv, refit= True, n_jobs= 2, random_state= 42, scoring='f1')\n",
    "\n",
    "#fit grid search on random forest over grid\n",
    "%time rs.fit( xtrain ,  ytrain )"
   ]
  },
  {
   "cell_type": "code",
   "execution_count": 40,
   "metadata": {},
   "outputs": [
    {
     "name": "stdout",
     "output_type": "stream",
     "text": [
      "the best regulization C is 0.316227766017 and the best gamma, radius of influence of support vectors is 4.64158883361e-05\n",
      "the best f1 score with these is 0.707482993197\n"
     ]
    }
   ],
   "source": [
    "#save best parameters to use on test set\n",
    "best_c = rs.best_params_['C'] \n",
    "best_gamma=rs.best_params_['gamma'] \n",
    "\n",
    "#print best parameter results\n",
    "print(\"the best regulization C is {} and the best gamma, radius of influence of support vectors is {}\".format(best_c,best_gamma))\n",
    "print(\"the best f1 score with these is {}\".format(rs.best_score_))"
   ]
  },
  {
   "cell_type": "code",
   "execution_count": 41,
   "metadata": {},
   "outputs": [
    {
     "name": "stdout",
     "output_type": "stream",
     "text": [
      "Accuracy on training data: 0.55\n",
      "Accuracy on test data: 0.46\n",
      "F1 Score on train data: 0.7092\n",
      "F1 Score on validation (train-test set) data: 0.6271\n",
      "             precision    recall  f1-score   support\n",
      "\n",
      "          0       0.00      0.00      0.00      3365\n",
      "          1       0.46      1.00      0.63      2830\n",
      "\n",
      "avg / total       0.21      0.46      0.29      6195\n",
      "\n"
     ]
    },
    {
     "name": "stderr",
     "output_type": "stream",
     "text": [
      "/Users/luca/anaconda2/lib/python2.7/site-packages/sklearn/metrics/classification.py:1135: UndefinedMetricWarning: Precision and F-score are ill-defined and being set to 0.0 in labels with no predicted samples.\n",
      "  'precision', 'predicted', average, warn_for)\n"
     ]
    }
   ],
   "source": [
    "#to tune parameters \n",
    "clf_svm=svm.SVC( kernel='rbf', C= best_c , gamma= best_gamma )\n",
    "\n",
    "#fit classifier to validation set\n",
    "clf_svm.fit( xtrain , ytrain )\n",
    "\n",
    "#get the prediction set for the validation \n",
    "preds_train_svm = clf_svm.predict( xtrain )\n",
    "\n",
    "#make some predictions\n",
    "preds_svm = clf_svm.predict( xtest )\n",
    "\n",
    "\n",
    "#print the accuracy score for the training data\n",
    "training_accuracy = clf_svm.score( xtrain , ytrain )\n",
    "print(\"Accuracy on training data: {:0.2f}\".format( training_accuracy ) )\n",
    "\n",
    "#print the accuracy score for the test data\n",
    "test_accuracy = clf_svm.score(xtest , ytest)\n",
    "print(\"Accuracy on test data: {:0.2f}\".format( test_accuracy ) )\n",
    "\n",
    "#print training f1 score\n",
    "fscore_train = metrics.f1_score( ytrain , preds_train_svm )\n",
    "print(\"F1 Score on train data: {:0.4f}\".format(fscore_train))\n",
    "\n",
    "#print testing f1 score\n",
    "fscore = metrics.f1_score( ytest , preds_svm , pos_label=1 )\n",
    "print(\"F1 Score on validation (train-test set) data: {:0.4f}\".format( fscore ) )\n",
    "\n",
    "print (classification_report( ytest , preds_svm ))"
   ]
  },
  {
   "cell_type": "code",
   "execution_count": 42,
   "metadata": {},
   "outputs": [
    {
     "data": {
      "image/png": "[encoded data removed]",
      "text/plain": [
       "<matplotlib.figure.Figure at 0x10da27950>"
      ]
     },
     "metadata": {},
     "output_type": "display_data"
    }
   ],
   "source": [
    "\n",
    "mat = confusion_matrix( ytest , preds_svm  )\n",
    "sns.heatmap(mat.T, square=True, annot=True, fmt='d', cbar=False)\n",
    "plt.xlabel('true label')\n",
    "plt.ylabel('predicted label');"
   ]
  },
  {
   "cell_type": "code",
   "execution_count": 43,
   "metadata": {},
   "outputs": [
    {
     "data": {
      "text/plain": [
       "array([[   0, 3365],\n",
       "       [   0, 2830]])"
      ]
     },
     "execution_count": 43,
     "metadata": {},
     "output_type": "execute_result"
    }
   ],
   "source": [
    "confusion_matrix( ytest , preds_svm  )"
   ]
  },
  {
   "cell_type": "code",
   "execution_count": 44,
   "metadata": {},
   "outputs": [
    {
     "data": {
      "image/png": "[encoded data removed]",
      "text/plain": [
       "<matplotlib.figure.Figure at 0x10db93b90>"
      ]
     },
     "metadata": {},
     "output_type": "display_data"
    },
    {
     "data": {
      "image/png": "[encoded data removed]",
      "text/plain": [
       "<matplotlib.figure.Figure at 0x10cc18910>"
      ]
     },
     "metadata": {},
     "output_type": "display_data"
    },
    {
     "data": {
      "image/png": "[encoded data removed]",
      "text/plain": [
       "<matplotlib.figure.Figure at 0x10cdcee50>"
      ]
     },
     "metadata": {},
     "output_type": "display_data"
    },
    {
     "name": "stdout",
     "output_type": "stream",
     "text": [
      "The Area Under the Curve foe the Support Vector Machine is 0.50\n"
     ]
    }
   ],
   "source": [
    "#can look at decision line \n",
    "clf_svm.decision_function(xtest)\n",
    "\n",
    "#plot the histogram of distance from boundry\n",
    "plt.hist(clf_svm.decision_function(xtest),edgecolor='k' )\n",
    "#add labels\n",
    "plt.xlabel(\"Distance from Boundry Line\")\n",
    "plt.ylabel(\"Samples\")\n",
    "plt.title('SVM Decision Funciton Histogram')\n",
    "plt.legend(loc=3)\n",
    "plt.show()\n",
    "\n",
    "\n",
    "#plot ROC curve \n",
    "#get false positive rate, true positive rate, and thresholds for training data\n",
    "xfpr_svm , xtpr_svm , xthres_svm = roc_curve(ytrain , clf_svm.decision_function(xtrain) )\n",
    "\n",
    "#get false positive rate, true positive rate, and thresholds for test data\n",
    "fpr_svm , tpr_svm , thres_svm = roc_curve( ytest , clf_svm.decision_function(xtest) )\n",
    "\n",
    "#plot base line at .5 probability\n",
    "plt.plot( [0,1] , [0,1] , 'k--' )\n",
    "#plot model train and test\n",
    "plt.plot( fpr_svm , tpr_svm , label= 'testing data')\n",
    "plt.plot( xfpr_svm , xtpr_svm , 'g-', label= 'training data')\n",
    "#add labels\n",
    "plt.xlabel(\"False Positive Rate\")\n",
    "plt.ylabel(\"True Positive Rate\")\n",
    "plt.title('SVM ROC Curve')\n",
    "plt.legend(loc=4)\n",
    "plt.show()\n",
    "\n",
    "#plot the precision-recall curve for tuned model\n",
    "#get values for training set\n",
    "xprec_score_svm , xrecall_score_svm ,xthresholds_svm =precision_recall_curve( ytrain , clf_svm.decision_function(xtrain) )\n",
    "#get values for test set\n",
    "prec_score_svm , recall_score_svm , thresholds_svm = precision_recall_curve( ytest , clf_svm.decision_function(xtest))\n",
    "\n",
    "#plot lines\n",
    "plt.plot( [1,0] , [0,1] , 'k--' )\n",
    "plt.plot( recall_score_svm , prec_score_svm , label= 'testing data')\n",
    "plt.plot( xrecall_score_svm , xprec_score_svm , 'g-' , label= 'training data')\n",
    "#add labels\n",
    "plt.xlabel(\"Recall\")\n",
    "plt.ylabel(\"Precision\")\n",
    "plt.title('SVM Precision-Recall Curve')\n",
    "plt.legend(loc=3)\n",
    "plt.show()\n",
    "         \n",
    "svm_test_auc=roc_auc_score(ytest , clf_svm.decision_function(xtest))  \n",
    "print(\"The Area Under the Curve foe the Support Vector Machine is {:.2f}\".format(svm_test_auc))"
   ]
  },
  {
   "cell_type": "markdown",
   "metadata": {},
   "source": [
    "We see, looking closer at the histogram, the distance each point lays from the separator. Most points are near the boundry indictating that reorders and non-reorders look very similiar. This is an indication that we might need to look for more features to differentiate the classes. In an apple an orange example, we could be only looking at the roundness of the fruit instead of the color. We would hope to find some feature that separates the classes a bit better than this.  "
   ]
  },
  {
   "cell_type": "markdown",
   "metadata": {},
   "source": [
    "## Improvements to make later: add one hot encode to hod column, scale/normalize all features, cross validate the auc scores, plot decision boundry on plane, add feature engineering...\n",
    "\n",
    "# Next Random Forest \n",
    "\n",
    "Straight out of the box with the default settings. "
   ]
  },
  {
   "cell_type": "code",
   "execution_count": 45,
   "metadata": {},
   "outputs": [
    {
     "name": "stdout",
     "output_type": "stream",
     "text": [
      "Accuracy on training data: 0.95\n",
      "Accuracy on test data: 0.49\n",
      "F1 Score on train data: 0.9563\n",
      "F1 Score on validation (train-test set) data: 0.4250\n",
      "\n",
      "             precision    recall  f1-score   support\n",
      "\n",
      "          0       0.53      0.55      0.54      3365\n",
      "          1       0.44      0.41      0.42      2830\n",
      "\n",
      "avg / total       0.49      0.49      0.49      6195\n",
      "\n"
     ]
    }
   ],
   "source": [
    "#create classifier from best parameters out of grid search\n",
    "clf_rf=RandomForestClassifier()\n",
    "#fit classifier to validation set\n",
    "clf_rf.fit(xtrain,ytrain)\n",
    "\n",
    "#get the prediction set for the validation \n",
    "preds_train_rf = clf_rf.predict(xtrain)\n",
    "\n",
    "#make some predictions\n",
    "preds_rf = clf_rf.predict(xtest)\n",
    "\n",
    "\n",
    "#print the accuracy score for the training data\n",
    "training_accuracy = clf_rf.score( xtrain , ytrain )\n",
    "print(\"Accuracy on training data: {:0.2f}\".format( training_accuracy ) )\n",
    "\n",
    "#print the accuracy score for the test data\n",
    "test_accuracy = clf_rf.score(xtest , ytest)\n",
    "print(\"Accuracy on test data: {:0.2f}\".format( test_accuracy ) )\n",
    "\n",
    "#print training f1 score\n",
    "fscore_train = metrics.f1_score( ytrain , preds_train_rf )\n",
    "print(\"F1 Score on train data: {:0.4f}\".format(fscore_train))\n",
    "\n",
    "#print testing f1 score\n",
    "fscore = metrics.f1_score( ytest , preds_rf , pos_label=1 )\n",
    "print(\"F1 Score on validation (train-test set) data: {:0.4f}\\n\".format( fscore ) )\n",
    "\n",
    "\n",
    "print ( classification_report ( ytest , preds_rf ))"
   ]
  },
  {
   "cell_type": "code",
   "execution_count": 46,
   "metadata": {},
   "outputs": [
    {
     "data": {
      "text/plain": [
       "array([[1844, 1521],\n",
       "       [1656, 1174]])"
      ]
     },
     "execution_count": 46,
     "metadata": {},
     "output_type": "execute_result"
    }
   ],
   "source": [
    "#look at confusion matrix\n",
    "confusion_matrix( ytest , preds_rf )"
   ]
  },
  {
   "cell_type": "code",
   "execution_count": 47,
   "metadata": {},
   "outputs": [
    {
     "data": {
      "image/png": "[encoded data removed]",
      "text/plain": [
       "<matplotlib.figure.Figure at 0x10da27690>"
      ]
     },
     "metadata": {},
     "output_type": "display_data"
    }
   ],
   "source": [
    "\n",
    "mat = confusion_matrix( ytest , preds_rf )\n",
    "sns.heatmap(mat.T, square=True, annot=True, fmt='d', cbar=False)\n",
    "plt.xlabel('true label')\n",
    "plt.ylabel('predicted label');"
   ]
  },
  {
   "cell_type": "markdown",
   "metadata": {},
   "source": [
    "Not good looks like we are overfitting again. Once more we will look at tuning the parameters. First through lets finish the analysis here in order to have something to compare the next tuning against."
   ]
  },
  {
   "cell_type": "code",
   "execution_count": 48,
   "metadata": {
    "collapsed": true
   },
   "outputs": [],
   "source": [
    "#Capture model feature importance \n",
    "importances=clf_rf.feature_importances_"
   ]
  },
  {
   "cell_type": "code",
   "execution_count": 49,
   "metadata": {},
   "outputs": [
    {
     "data": {
      "image/png": "[encoded data removed]",
      "text/plain": [
       "<matplotlib.figure.Figure at 0x10ceb0750>"
      ]
     },
     "metadata": {},
     "output_type": "display_data"
    }
   ],
   "source": [
    "#plot the variable importances\n",
    "# Set the style\n",
    "plt.style.use('fivethirtyeight')\n",
    "# list of x locations for plotting\n",
    "x_values = list(range(len(importances)))\n",
    "# Make a bar chart\n",
    "plt.bar(x_values, importances, orientation = 'vertical')\n",
    "# Tick labels for x axis\n",
    "plt.xticks(x_values, feature_list, rotation='vertical')\n",
    "# Axis labels and title\n",
    "plt.ylabel('Importance'); plt.xlabel('Variable'); plt.title('Random Forest Variable Importances');\n",
    "\n",
    "#save figure\n",
    "plt.savefig('feature_importance.png')\n",
    "#show figure in notebook\n",
    "plt.show()"
   ]
  },
  {
   "cell_type": "code",
   "execution_count": 50,
   "metadata": {},
   "outputs": [
    {
     "data": {
      "image/png": "[encoded data removed]",
      "text/plain": [
       "<matplotlib.figure.Figure at 0x10db97450>"
      ]
     },
     "metadata": {},
     "output_type": "display_data"
    }
   ],
   "source": [
    "#predict the probabilities for each observation in training set\n",
    "pred_train_prob_rf = clf_rf.predict_proba(xtrain)[:,1]\n",
    "\n",
    "#predict the probabilities for each observation in test set\n",
    "pred_prob_rf = clf_rf.predict_proba(xtest)[:,1]\n",
    "\n",
    "#get false positive rate, true positive rate, and thresholds for training data\n",
    "xfpr_rf , xtpr_rf , xthres_rf = roc_curve(ytrain , pred_train_prob_rf )\n",
    "\n",
    "#get false positive rate, true positive rate, and thresholds for test data\n",
    "fpr_rf , tpr_rf , thres_rf = roc_curve( ytest , pred_prob_rf )\n",
    "\n",
    "#plot base line at .5 probability\n",
    "plt.plot([0,1],[0,1],'k--')\n",
    "#plot model train and test\n",
    "plt.plot( fpr_rf , tpr_rf ,label='testing data')\n",
    "plt.plot( xfpr_rf , xtpr_rf , 'g-',label='training data')\n",
    "#add labels\n",
    "plt.xlabel(\"False Positive Rate\")\n",
    "plt.ylabel(\"True Positive Rate\")\n",
    "plt.title('Random Forest ROC Curve')\n",
    "plt.legend(loc=4)\n",
    "plt.show()"
   ]
  },
  {
   "cell_type": "code",
   "execution_count": 51,
   "metadata": {},
   "outputs": [
    {
     "data": {
      "image/png": "[encoded data removed]",
      "text/plain": [
       "<matplotlib.figure.Figure at 0x10da826d0>"
      ]
     },
     "metadata": {},
     "output_type": "display_data"
    }
   ],
   "source": [
    "\n",
    "xprec_score_rf , xrecall_score_rf ,xthresholds_rf = precision_recall_curve( ytrain , pred_train_prob_rf )\n",
    "\n",
    "prec_score_rf , recall_score_rf ,thresholds_rf = precision_recall_curve( ytest , pred_prob_rf)\n",
    "\n",
    "plt.plot([1,0],[0,1],'k--')\n",
    "plt.plot( recall_score_rf , prec_score_rf ,label='testing data')\n",
    "plt.plot( xrecall_score_rf , xprec_score_rf ,'g-',label='training data')\n",
    "\n",
    "#plt.plot(xfpr,xtpr, 'g-',label='training data')\n",
    "plt.xlabel(\"Recall\")\n",
    "plt.ylabel(\"Precision\")\n",
    "plt.title('Random Forest Precision-Recall Curve')\n",
    "plt.legend(loc=3)\n",
    "plt.show()"
   ]
  },
  {
   "cell_type": "code",
   "execution_count": 52,
   "metadata": {},
   "outputs": [
    {
     "name": "stdout",
     "output_type": "stream",
     "text": [
      "The Area Under the Curve foe the Randam Forest is 0.44\n"
     ]
    }
   ],
   "source": [
    "rf_test_auc=roc_auc_score(ytest , pred_prob_rf)\n",
    "print(\"The Area Under the Curve foe the Randam Forest is {:.2f}\".format(rf_test_auc))"
   ]
  },
  {
   "cell_type": "code",
   "execution_count": 53,
   "metadata": {},
   "outputs": [
    {
     "name": "stdout",
     "output_type": "stream",
     "text": [
      "[ 0.55660377  0.33050089  0.51900716  0.36918605  0.45695971]\n"
     ]
    }
   ],
   "source": [
    "# cross validate on scoring of auc (20 min to run) \n",
    "cv_auc_scores=cross_val_score(clf_rf, xtrain , ytrain , cv=5, scoring='roc_auc')\n",
    "print(cv_auc_scores)"
   ]
  },
  {
   "cell_type": "markdown",
   "metadata": {},
   "source": [
    "# The tuning for the Random Forest parameters\n",
    "\n",
    "We are overfitting. So lets limit how much the model gets to split down the tree. We do this with max_depth. It should prevent us from fitting to every data point. We will also look at limiting the number of samples to be considered a leaf node. We overfit if each data point is a leaf. "
   ]
  },
  {
   "cell_type": "code",
   "execution_count": 54,
   "metadata": {},
   "outputs": [
    {
     "data": {
      "text/plain": [
       "RandomizedSearchCV(cv=5, error_score='raise',\n",
       "          estimator=RandomForestClassifier(bootstrap=True, class_weight=None, criterion='gini',\n",
       "            max_depth=None, max_features='auto', max_leaf_nodes=None,\n",
       "            min_impurity_decrease=0.0, min_impurity_split=None,\n",
       "            min_samples_leaf=1, min_samples_split=2,\n",
       "            min_weight_fraction_leaf=0.0, n_estimators=10, n_jobs=1,\n",
       "            oob_score=False, random_state=None, verbose=0,\n",
       "            warm_start=False),\n",
       "          fit_params=None, iid=True, n_iter=10, n_jobs=2,\n",
       "          param_distributions={'max_depth': xrange(1, 14), 'min_samples_leaf': [5, 10, 20, 30, 40, 50, 100]},\n",
       "          pre_dispatch='2*n_jobs', random_state=42, refit=True,\n",
       "          return_train_score='warn', scoring='f1', verbose=0)"
      ]
     },
     "execution_count": 54,
     "metadata": {},
     "output_type": "execute_result"
    }
   ],
   "source": [
    "#know lets tune the parameters for the random forest\n",
    "\n",
    "#set parametets to tune in Random Grid Search (# depth of trees and # min samples per leaf)\n",
    "parameters={'max_depth':xrange(1,14),'min_samples_leaf':[5,10,20,30,40,50,100]}\n",
    "\n",
    "#create an instance of the random forest classifier\n",
    "rf=RandomForestClassifier()\n",
    "\n",
    "#randomize grid search for parameters with cross validation and refit on entire training set\n",
    "#spread across two jobs and seed a random state\n",
    "rs = RandomizedSearchCV(rf, param_distributions=parameters,cv=5,refit=True,n_jobs=2,random_state=42,scoring='f1')\n",
    "\n",
    "#fit grid search on random forest over grid\n",
    "rs.fit( xtrain ,  ytrain )"
   ]
  },
  {
   "cell_type": "code",
   "execution_count": 55,
   "metadata": {},
   "outputs": [
    {
     "name": "stdout",
     "output_type": "stream",
     "text": [
      "the best depth of trees is 8 with a minimum number of samples per leaf of 100\n",
      "the best f1 score with these is 0.709235493019\n"
     ]
    }
   ],
   "source": [
    "#save best parameters to use on test set\n",
    "best_depth = rs.best_params_['max_depth'] \n",
    "best_leaf=rs.best_params_['min_samples_leaf'] \n",
    "\n",
    "#print best parameter results\n",
    "print(\"the best depth of trees is {} with a minimum number of samples per leaf of {}\".format( best_depth , best_leaf ))\n",
    "print(\"the best f1 score with these is {}\".format(rs.best_score_))"
   ]
  },
  {
   "cell_type": "markdown",
   "metadata": {},
   "source": [
    "# The learning curve for the Random Forest parameters"
   ]
  },
  {
   "cell_type": "code",
   "execution_count": 56,
   "metadata": {},
   "outputs": [
    {
     "data": {
      "image/png": "[encoded data removed]",
      "text/plain": [
       "<matplotlib.figure.Figure at 0x10d04bc50>"
      ]
     },
     "metadata": {},
     "output_type": "display_data"
    }
   ],
   "source": [
    "#save the range for the Random Forest n_estimators parameter to a variable\n",
    "param_range= parameters[\"max_depth\"]\n",
    "#get learning scores\n",
    "train_scores, test_scores = validation_curve( clf_rf, xtrain, ytrain, param_name=\"max_depth\", param_range= param_range , cv=10, scoring=\"f1\", n_jobs=2 )\n",
    "train_scores_mean = np.mean(train_scores, axis=1)\n",
    "train_scores_std = np.std(train_scores, axis=1)\n",
    "test_scores_mean = np.mean(test_scores, axis=1)\n",
    "test_scores_std = np.std(test_scores, axis=1)\n",
    "\n",
    "plt.title(\"Validation Curve with Random Forest\")\n",
    "plt.xlabel(\"max_depth\")\n",
    "plt.ylabel(\" Score\")\n",
    "#plt.ylim(0.0, 1.1)\n",
    "lw = 2\n",
    "plt.semilogx(param_range, train_scores_mean, label=\"Training score\",\n",
    "             color=\"darkorange\", lw=lw)\n",
    "plt.fill_between(param_range, train_scores_mean - train_scores_std,\n",
    "                 train_scores_mean + train_scores_std, alpha=0.2,\n",
    "                 color=\"darkorange\", lw=lw)\n",
    "plt.semilogx(param_range, test_scores_mean, label=\"Cross-validation score\",\n",
    "             color=\"navy\", lw=lw)\n",
    "plt.fill_between(param_range, test_scores_mean - test_scores_std,\n",
    "                 test_scores_mean + test_scores_std, alpha=0.2,\n",
    "                 color=\"navy\", lw=lw)\n",
    "plt.legend(loc=\"best\")\n",
    "plt.show()"
   ]
  },
  {
   "cell_type": "markdown",
   "metadata": {},
   "source": [
    "The learning highlights that the max_depth cross_validation score stabilizes at around 5. We see that going deeper starts to overfit to the training data as the yellow line departs form the purple. "
   ]
  },
  {
   "cell_type": "code",
   "execution_count": 57,
   "metadata": {},
   "outputs": [
    {
     "data": {
      "image/png": "[encoded data removed]",
      "text/plain": [
       "<matplotlib.figure.Figure at 0x1061159d0>"
      ]
     },
     "metadata": {},
     "output_type": "display_data"
    }
   ],
   "source": [
    "#save the range for the Random Forest n_estimators parameter to a variable\n",
    "param_range= parameters['min_samples_leaf']\n",
    "#get learning scores\n",
    "train_scores, test_scores = validation_curve( clf_rf, xtrain, ytrain, param_name='min_samples_leaf', param_range= param_range , cv=10, scoring=\"f1\", n_jobs=2 )\n",
    "train_scores_mean = np.mean(train_scores, axis=1)\n",
    "train_scores_std = np.std(train_scores, axis=1)\n",
    "test_scores_mean = np.mean(test_scores, axis=1)\n",
    "test_scores_std = np.std(test_scores, axis=1)\n",
    "\n",
    "plt.title(\"Validation Curve with Random Forest\")\n",
    "plt.xlabel('min_samples_leaf')\n",
    "plt.ylabel(\" Score\")\n",
    "\n",
    "lw = 2\n",
    "plt.semilogx(param_range, train_scores_mean, label=\"Training score\",\n",
    "             color=\"darkorange\", lw=lw)\n",
    "plt.fill_between(param_range, train_scores_mean - train_scores_std,\n",
    "                 train_scores_mean + train_scores_std, alpha=0.2,\n",
    "                 color=\"darkorange\", lw=lw)\n",
    "plt.semilogx(param_range, test_scores_mean, label=\"Cross-validation score\",\n",
    "             color=\"navy\", lw=lw)\n",
    "plt.fill_between(param_range, test_scores_mean - test_scores_std,\n",
    "                 test_scores_mean + test_scores_std, alpha=0.2,\n",
    "                 color=\"navy\", lw=lw)\n",
    "plt.legend(loc=\"best\")\n",
    "plt.show()"
   ]
  },
  {
   "cell_type": "raw",
   "metadata": {},
   "source": []
  },
  {
   "cell_type": "markdown",
   "metadata": {},
   "source": [
    "As we would expect the more samples in the leaf the less overfit our model is. However, after around 20 we see that start to affect the cross-validation score begins to decrease with the training score. "
   ]
  },
  {
   "cell_type": "code",
   "execution_count": 58,
   "metadata": {},
   "outputs": [
    {
     "name": "stdout",
     "output_type": "stream",
     "text": [
      "Accuracy on training data: 0.58\n",
      "Accuracy on test data: 0.44\n",
      "F1 Score on train data: 0.7093\n",
      "F1 Score on validation (train-test set) data: 0.5460\n",
      "             precision    recall  f1-score   support\n",
      "\n",
      "          0       0.45      0.18      0.25      3365\n",
      "          1       0.43      0.74      0.55      2830\n",
      "\n",
      "avg / total       0.44      0.44      0.39      6195\n",
      "\n"
     ]
    }
   ],
   "source": [
    "#create classifier from best parameters out of grid search\n",
    "clf_rf=rs.best_estimator_\n",
    "#fit classifier to validation set\n",
    "clf_rf.fit(xtrain,ytrain)\n",
    "\n",
    "#get the prediction set for the validation \n",
    "preds_train_rf = clf_rf.predict(xtrain)\n",
    "\n",
    "#make some predictions\n",
    "preds_rf = clf_rf.predict(xtest)\n",
    "\n",
    "\n",
    "#print the accuracy score for the training data\n",
    "training_accuracy = clf_rf.score( xtrain , ytrain )\n",
    "print(\"Accuracy on training data: {:0.2f}\".format( training_accuracy ) )\n",
    "\n",
    "#print the accuracy score for the test data\n",
    "test_accuracy = clf_rf.score(xtest , ytest)\n",
    "print(\"Accuracy on test data: {:0.2f}\".format( test_accuracy ) )\n",
    "\n",
    "#print training f1 score\n",
    "fscore_train = metrics.f1_score( ytrain , preds_train_rf )\n",
    "print(\"F1 Score on train data: {:0.4f}\".format(fscore_train))\n",
    "\n",
    "#print testing f1 score\n",
    "fscore = metrics.f1_score( ytest , preds_rf , pos_label=1 )\n",
    "print(\"F1 Score on validation (train-test set) data: {:0.4f}\".format( fscore ) )\n",
    "\n",
    "\n",
    "print ( classification_report ( ytest , preds_rf ))"
   ]
  },
  {
   "cell_type": "code",
   "execution_count": 59,
   "metadata": {},
   "outputs": [
    {
     "data": {
      "text/plain": [
       "array([[ 594, 2771],\n",
       "       [ 727, 2103]])"
      ]
     },
     "execution_count": 59,
     "metadata": {},
     "output_type": "execute_result"
    }
   ],
   "source": [
    "#look at confusion matrix\n",
    "confusion_matrix( ytest , preds_rf )"
   ]
  },
  {
   "cell_type": "code",
   "execution_count": 60,
   "metadata": {},
   "outputs": [
    {
     "data": {
      "image/png": "[encoded data removed]",
      "text/plain": [
       "<matplotlib.figure.Figure at 0x10dde4050>"
      ]
     },
     "metadata": {},
     "output_type": "display_data"
    }
   ],
   "source": [
    "mat = confusion_matrix( ytest , preds_rf )\n",
    "sns.heatmap(mat.T, square=True, annot=True, fmt='d', cbar=False)\n",
    "plt.xlabel('true label')\n",
    "plt.ylabel('predicted label');"
   ]
  },
  {
   "cell_type": "markdown",
   "metadata": {},
   "source": [
    "Better, we have reduce some of the overfit. Tuning two more parameters we will see if we can do better. Thins time we tune number of trees in the forest and the number of features each tree looks at. We leave the best depth and best min_samples_leaf.  "
   ]
  },
  {
   "cell_type": "code",
   "execution_count": 61,
   "metadata": {},
   "outputs": [
    {
     "data": {
      "text/plain": [
       "RandomizedSearchCV(cv=5, error_score='raise',\n",
       "          estimator=RandomForestClassifier(bootstrap=True, class_weight=None, criterion='gini',\n",
       "            max_depth=None, max_features='auto', max_leaf_nodes=None,\n",
       "            min_impurity_decrease=0.0, min_impurity_split=None,\n",
       "            min_samples_leaf=1, min_samples_split=2,\n",
       "            min_weight_fraction_leaf=0.0, n_estimators=10, n_jobs=1,\n",
       "            oob_score=False, random_state=None, verbose=0,\n",
       "            warm_start=False),\n",
       "          fit_params=None, iid=True, n_iter=10, n_jobs=2,\n",
       "          param_distributions={'n_estimators': [1, 2, 3, 4, 5, 6, 7, 8, 9, 10, 11, 12, 13, 14, 15, 16, 17, 18, 19, 20, 21, 22, 23, 24, 25, 26, 27, 28, 29, 30, 31, 32, 33, 34, 35, 36, 37, 38, 39], 'max_features': ['auto', 1, 2, 3, 4, 5], 'max_depth': [8], 'min_samples_leaf': [100]},\n",
       "          pre_dispatch='2*n_jobs', random_state=42, refit=True,\n",
       "          return_train_score='warn', scoring='f1', verbose=0)"
      ]
     },
     "execution_count": 61,
     "metadata": {},
     "output_type": "execute_result"
    }
   ],
   "source": [
    "#know lets tune the parameters for the random forest\n",
    "\n",
    "#set parametets to tune in Random Grid Search (# trees in forest and # of features per tree)\n",
    "parameters={'n_estimators':range(1,40),'max_features':['auto',1,2,3,4,5], 'max_depth': [ rs.best_params_['max_depth'] ] , 'min_samples_leaf' : [rs.best_params_['min_samples_leaf'] ] }\n",
    "\n",
    "#create an instance of the random forest classifier\n",
    "rf=RandomForestClassifier()\n",
    "\n",
    "#randomize grid search for parameters with cross validation and refit on entire training set\n",
    "#spread across two jobs and seed a random state\n",
    "rs = RandomizedSearchCV(rf, param_distributions=parameters,cv=5,refit=True,n_jobs=2,random_state=42,scoring='f1')\n",
    "\n",
    "#fit grid search on random forest over grid\n",
    "rs.fit( xtrain ,  ytrain )"
   ]
  },
  {
   "cell_type": "code",
   "execution_count": 62,
   "metadata": {},
   "outputs": [
    {
     "name": "stdout",
     "output_type": "stream",
     "text": [
      "the best number of trees is 11 with a maximum number of features of 3\n",
      "the best f1 score with these is 0.709614908729\n"
     ]
    }
   ],
   "source": [
    "#save best parameters to use on test set\n",
    "best_n = rs.best_params_['n_estimators'] \n",
    "best_features=rs.best_params_['max_features'] \n",
    "\n",
    "#print best parameter results\n",
    "print(\"the best number of trees is {} with a maximum number of features of {}\".format(best_n,best_features))\n",
    "print(\"the best f1 score with these is {}\".format(rs.best_score_))"
   ]
  },
  {
   "cell_type": "code",
   "execution_count": 63,
   "metadata": {},
   "outputs": [
    {
     "data": {
      "text/plain": [
       "{'max_depth': 8,\n",
       " 'max_features': 3,\n",
       " 'min_samples_leaf': 100,\n",
       " 'n_estimators': 11}"
      ]
     },
     "execution_count": 63,
     "metadata": {},
     "output_type": "execute_result"
    }
   ],
   "source": [
    "rs.best_params_"
   ]
  },
  {
   "cell_type": "code",
   "execution_count": 64,
   "metadata": {},
   "outputs": [
    {
     "name": "stdout",
     "output_type": "stream",
     "text": [
      "Accuracy on training data: 0.55\n",
      "Accuracy on test data: 0.46\n",
      "F1 Score on train data: 0.7092\n",
      "F1 Score on validation (train-test set) data: 0.6271\n",
      "             precision    recall  f1-score   support\n",
      "\n",
      "          0       0.00      0.00      0.00      3365\n",
      "          1       0.46      1.00      0.63      2830\n",
      "\n",
      "avg / total       0.21      0.46      0.29      6195\n",
      "\n"
     ]
    }
   ],
   "source": [
    "#create classifier from best parameters out of grid search\n",
    "clf_rf=rs.best_estimator_\n",
    "#fit classifier to validation set\n",
    "clf_rf.fit(xtrain,ytrain)\n",
    "\n",
    "#get the prediction set for the validation \n",
    "preds_train_rf = clf_rf.predict(xtrain)\n",
    "\n",
    "#make some predictions\n",
    "preds_rf = clf_rf.predict(xtest)\n",
    "\n",
    "\n",
    "#print the accuracy score for the training data\n",
    "training_accuracy = clf_rf.score( xtrain , ytrain )\n",
    "print(\"Accuracy on training data: {:0.2f}\".format( training_accuracy ) )\n",
    "\n",
    "#print the accuracy score for the test data\n",
    "test_accuracy = clf_rf.score(xtest , ytest)\n",
    "print(\"Accuracy on test data: {:0.2f}\".format( test_accuracy ) )\n",
    "\n",
    "#print training f1 score\n",
    "fscore_train = metrics.f1_score( ytrain , preds_train_rf )\n",
    "print(\"F1 Score on train data: {:0.4f}\".format(fscore_train))\n",
    "\n",
    "#print testing f1 score\n",
    "fscore = metrics.f1_score( ytest , preds_rf , pos_label=1 )\n",
    "print(\"F1 Score on validation (train-test set) data: {:0.4f}\".format( fscore ) )\n",
    "\n",
    "\n",
    "print ( classification_report ( ytest , preds_rf ))"
   ]
  },
  {
   "cell_type": "markdown",
   "metadata": {},
   "source": [
    "We did not achieve much improvement. The validation f1 score, our metric, did improve slightly. In the future we could try tuning these parameters more to improve."
   ]
  },
  {
   "cell_type": "code",
   "execution_count": 65,
   "metadata": {},
   "outputs": [
    {
     "data": {
      "image/png": "[encoded data removed]",
      "text/plain": [
       "<matplotlib.figure.Figure at 0x10da271d0>"
      ]
     },
     "metadata": {},
     "output_type": "display_data"
    }
   ],
   "source": [
    "#predict the probabilities for each observation in training set\n",
    "pred_train_prob_rf = clf_rf.predict_proba(xtrain)[:,1]\n",
    "\n",
    "#predict the probabilities for each observation in test set\n",
    "pred_prob_rf = clf_rf.predict_proba(xtest)[:,1]\n",
    "\n",
    "#get false positive rate, true positive rate, and thresholds for training data\n",
    "xfpr_rf , xtpr_rf , xthres_rf = roc_curve(ytrain , pred_train_prob_rf )\n",
    "\n",
    "#get false positive rate, true positive rate, and thresholds for test data\n",
    "fpr_rf , tpr_rf , thres_rf = roc_curve( ytest , pred_prob_rf )\n",
    "\n",
    "#plot base line at .5 probability\n",
    "plt.plot([0,1],[0,1],'k--')\n",
    "#plot model train and test\n",
    "plt.plot( fpr_rf , tpr_rf ,label='testing data')\n",
    "plt.plot( xfpr_rf , xtpr_rf , 'g-',label='training data')\n",
    "#add labels\n",
    "plt.xlabel(\"False Positive Rate\")\n",
    "plt.ylabel(\"True Positive Rate\")\n",
    "plt.title('Random Forest ROC Curve')\n",
    "plt.legend(loc=4)\n",
    "plt.show()"
   ]
  },
  {
   "cell_type": "code",
   "execution_count": 66,
   "metadata": {},
   "outputs": [
    {
     "data": {
      "image/png": "[encoded data removed]",
      "text/plain": [
       "<matplotlib.figure.Figure at 0x10d02d650>"
      ]
     },
     "metadata": {},
     "output_type": "display_data"
    }
   ],
   "source": [
    "\n",
    "xprec_score_rf , xrecall_score_rf ,xthresholds_rf = precision_recall_curve( ytrain , pred_train_prob_rf )\n",
    "\n",
    "prec_score_rf , recall_score_rf ,thresholds_rf = precision_recall_curve( ytest , pred_prob_rf)\n",
    "\n",
    "plt.plot([1,0],[0,1],'k--')\n",
    "plt.plot( recall_score_rf , prec_score_rf ,label='testing data')\n",
    "plt.plot( xrecall_score_rf , xprec_score_rf ,'g-',label='training data')\n",
    "\n",
    "#plt.plot(xfpr,xtpr, 'g-',label='training data')\n",
    "plt.xlabel(\"Recall\")\n",
    "plt.ylabel(\"Precision\")\n",
    "plt.title('Random Forest Precision-Recall Curve')\n",
    "plt.legend(loc=3)\n",
    "plt.show()"
   ]
  },
  {
   "cell_type": "code",
   "execution_count": 67,
   "metadata": {},
   "outputs": [
    {
     "name": "stdout",
     "output_type": "stream",
     "text": [
      "The Area Under the Curve foe the Randam Forest is 0.52\n"
     ]
    }
   ],
   "source": [
    "rf_test_auc=roc_auc_score(ytest , pred_prob_rf)\n",
    "print(\"The Area Under the Curve foe the Randam Forest is {:.2f}\".format(rf_test_auc))"
   ]
  },
  {
   "cell_type": "code",
   "execution_count": 68,
   "metadata": {},
   "outputs": [
    {
     "name": "stdout",
     "output_type": "stream",
     "text": [
      "[ 0.41904344  0.32938283  0.47115385  0.59145796  0.60691392]\n"
     ]
    }
   ],
   "source": [
    "# cross validate on scoring of auc (20 min to run) \n",
    "cv_auc_scores=cross_val_score(clf_rf, xtrain , ytrain , cv=5, scoring='roc_auc')\n",
    "print(cv_auc_scores)"
   ]
  },
  {
   "cell_type": "code",
   "execution_count": null,
   "metadata": {
    "collapsed": true
   },
   "outputs": [],
   "source": []
  },
  {
   "cell_type": "code",
   "execution_count": 69,
   "metadata": {},
   "outputs": [
    {
     "data": {
      "image/png": "[encoded data removed]",
      "text/plain": [
       "<matplotlib.figure.Figure at 0x10dbafdd0>"
      ]
     },
     "metadata": {},
     "output_type": "display_data"
    },
    {
     "data": {
      "image/png": "[encoded data removed]",
      "text/plain": [
       "<matplotlib.figure.Figure at 0x10dbaf910>"
      ]
     },
     "metadata": {},
     "output_type": "display_data"
    }
   ],
   "source": [
    "#Plot both models together\n",
    "\n",
    "#plot base line at .5 probability\n",
    "plt.plot([0,1],[0,1],'k--')\n",
    "#plot model train and test for each model\n",
    "plt.plot(xfpr_rf , xtpr_rf , c='chocolate', label='Training RF Data')\n",
    "plt.plot(fpr_rf , tpr_rf , c='sandybrown', label='Testing RF Data')\n",
    "plt.plot(xfpr_svm , xtpr_svm , c='yellowgreen' , label='Training SVM Data')\n",
    "plt.plot(fpr_svm , tpr_svm ,c='lightgreen' , label='Testing SVM Data')\n",
    "#add labels\n",
    "plt.xlabel(\"False Positive Rate\")\n",
    "plt.ylabel(\"True Positive Rate\")\n",
    "plt.title(' ROC Curve')\n",
    "plt.legend(loc=4)\n",
    "#save figure for papers\n",
    "plt.tight_layout()\n",
    "plt.savefig('models_roc.png')\n",
    "#show figure in notebook\n",
    "plt.show()\n",
    "\n",
    "#plot both Precision_Recall models on one\n",
    "plt.plot([1,0],[0,1],'k--')\n",
    "plt.plot(xrecall_score_rf , xprec_score_rf, c='chocolate',label='Training RF Data')\n",
    "plt.plot(recall_score_rf , prec_score_rf,  c='sandybrown' ,label='Testing RF Data')\n",
    "\n",
    "plt.plot( xrecall_score_svm , xprec_score_svm , c='yellowgreen' , label= 'Training SVM Data')\n",
    "plt.plot( recall_score_svm , prec_score_svm , c='lightgreen', label= 'Testing SVM Data')\n",
    "\n",
    "#plt.plot(xfpr,xtpr, 'g-',label='training data')\n",
    "plt.xlabel(\"Recall\")\n",
    "plt.ylabel(\"Precision\")\n",
    "plt.title(' Precision-Recall Curve')\n",
    "plt.legend(loc=4)\n",
    "#save figure for papers\n",
    "plt.tight_layout()\n",
    "plt.savefig('models_PR-curve.png')\n",
    "#show figure in notebook\n",
    "plt.show()"
   ]
  },
  {
   "cell_type": "code",
   "execution_count": 70,
   "metadata": {},
   "outputs": [
    {
     "data": {
      "image/png": "[encoded data removed]",
      "text/plain": [
       "<matplotlib.figure.Figure at 0x10da45750>"
      ]
     },
     "metadata": {},
     "output_type": "display_data"
    }
   ],
   "source": [
    "#dictionary to hold auc scores form tuned models\n",
    "plot_model={'RF':rf_test_auc ,'SVM':svm_test_auc}\n",
    "\n",
    "#make an instance for plotting figures\n",
    "fig, ax = plt.subplots()\n",
    "\n",
    "#set parameters for bar chart\n",
    "N = 2\n",
    "ind = np.arange(N)  # the x locations for the groups\n",
    "width = 0.35       # the width of the bars\n",
    "\n",
    "#plot bar for chart\n",
    "rects1 = ax.bar(ind, plot_model.values(), color= ['sandybrown','lightgreen'])\n",
    "\n",
    "#define a function to add bar chart labels to bars (straight from matplotlib docs)\n",
    "def autolabel(rects):\n",
    "    \"\"\"\n",
    "    Attach a text label above each bar displaying its height\n",
    "    \"\"\"\n",
    "    for rect in rects:\n",
    "        height = rect.get_height()\n",
    "        ax.text(rect.get_x() + rect.get_width()/2., 1.05*float(height),'%.3f' % float(height),ha='center', va='bottom')\n",
    "        \n",
    "#call function to add bar char labels to bars\n",
    "autolabel(rects1)\n",
    "\n",
    "\n",
    "# add some text for axes ticks\n",
    "ax.set_xticks(ind)\n",
    "ax.set_xticklabels(plot_model.keys())\n",
    "\n",
    "ax.legend()\n",
    "\n",
    "#add label and title\n",
    "plt.title(\"Comparison of the different models\",y = 1.08)\n",
    "plt.xlabel(\"Models\")\n",
    "plt.ylabel(\"AUC Score on Test Set\")\n",
    "#save figure for papers\n",
    "plt.tight_layout()\n",
    "plt.savefig('models_auc.png')\n",
    "#show figure in notebook\n",
    "plt.show()\n"
   ]
  },
  {
   "cell_type": "code",
   "execution_count": 71,
   "metadata": {},
   "outputs": [
    {
     "data": {
      "text/plain": [
       "Int64Index([   0,    1,    2,    3,    4,    5,    6,    7,    8,    9,\n",
       "            ...\n",
       "            6185, 6186, 6187, 6188, 6189, 6190, 6191, 6192, 6193, 6194],\n",
       "           dtype='int64', length=6195)"
      ]
     },
     "execution_count": 71,
     "metadata": {},
     "output_type": "execute_result"
    }
   ],
   "source": [
    "small_test.index"
   ]
  },
  {
   "cell_type": "code",
   "execution_count": 72,
   "metadata": {},
   "outputs": [
    {
     "data": {
      "text/html": [
       "<div>\n",
       "<style>\n",
       "    .dataframe thead tr:only-child th {\n",
       "        text-align: right;\n",
       "    }\n",
       "\n",
       "    .dataframe thead th {\n",
       "        text-align: left;\n",
       "    }\n",
       "\n",
       "    .dataframe tbody tr th {\n",
       "        vertical-align: top;\n",
       "    }\n",
       "</style>\n",
       "<table border=\"1\" class=\"dataframe\">\n",
       "  <thead>\n",
       "    <tr style=\"text-align: right;\">\n",
       "      <th></th>\n",
       "      <th></th>\n",
       "      <th>order_id</th>\n",
       "      <th>add_to_cart_order</th>\n",
       "      <th>reordered</th>\n",
       "      <th>days_since_prior_order</th>\n",
       "      <th>eval_set</th>\n",
       "      <th>order_dow</th>\n",
       "      <th>order_hour_of_day</th>\n",
       "      <th>order_number</th>\n",
       "      <th>order_from_last</th>\n",
       "    </tr>\n",
       "    <tr>\n",
       "      <th>user_id</th>\n",
       "      <th>product_id</th>\n",
       "      <th></th>\n",
       "      <th></th>\n",
       "      <th></th>\n",
       "      <th></th>\n",
       "      <th></th>\n",
       "      <th></th>\n",
       "      <th></th>\n",
       "      <th></th>\n",
       "      <th></th>\n",
       "    </tr>\n",
       "  </thead>\n",
       "  <tbody>\n",
       "    <tr>\n",
       "      <th rowspan=\"30\" valign=\"top\">53702</th>\n",
       "      <th>30776</th>\n",
       "      <td>81267</td>\n",
       "      <td>1</td>\n",
       "      <td>1</td>\n",
       "      <td>7.0</td>\n",
       "      <td>prior</td>\n",
       "      <td>6</td>\n",
       "      <td>13</td>\n",
       "      <td>63</td>\n",
       "      <td>2</td>\n",
       "    </tr>\n",
       "    <tr>\n",
       "      <th>30776</th>\n",
       "      <td>81267</td>\n",
       "      <td>1</td>\n",
       "      <td>1</td>\n",
       "      <td>7.0</td>\n",
       "      <td>prior</td>\n",
       "      <td>6</td>\n",
       "      <td>13</td>\n",
       "      <td>63</td>\n",
       "      <td>2</td>\n",
       "    </tr>\n",
       "    <tr>\n",
       "      <th>30776</th>\n",
       "      <td>81267</td>\n",
       "      <td>1</td>\n",
       "      <td>1</td>\n",
       "      <td>7.0</td>\n",
       "      <td>prior</td>\n",
       "      <td>6</td>\n",
       "      <td>13</td>\n",
       "      <td>63</td>\n",
       "      <td>2</td>\n",
       "    </tr>\n",
       "    <tr>\n",
       "      <th>30776</th>\n",
       "      <td>81267</td>\n",
       "      <td>1</td>\n",
       "      <td>1</td>\n",
       "      <td>7.0</td>\n",
       "      <td>prior</td>\n",
       "      <td>6</td>\n",
       "      <td>13</td>\n",
       "      <td>63</td>\n",
       "      <td>2</td>\n",
       "    </tr>\n",
       "    <tr>\n",
       "      <th>30776</th>\n",
       "      <td>81267</td>\n",
       "      <td>1</td>\n",
       "      <td>1</td>\n",
       "      <td>7.0</td>\n",
       "      <td>prior</td>\n",
       "      <td>6</td>\n",
       "      <td>13</td>\n",
       "      <td>63</td>\n",
       "      <td>2</td>\n",
       "    </tr>\n",
       "    <tr>\n",
       "      <th>30776</th>\n",
       "      <td>81267</td>\n",
       "      <td>1</td>\n",
       "      <td>1</td>\n",
       "      <td>7.0</td>\n",
       "      <td>prior</td>\n",
       "      <td>6</td>\n",
       "      <td>13</td>\n",
       "      <td>63</td>\n",
       "      <td>2</td>\n",
       "    </tr>\n",
       "    <tr>\n",
       "      <th>30776</th>\n",
       "      <td>81267</td>\n",
       "      <td>1</td>\n",
       "      <td>1</td>\n",
       "      <td>7.0</td>\n",
       "      <td>prior</td>\n",
       "      <td>6</td>\n",
       "      <td>13</td>\n",
       "      <td>63</td>\n",
       "      <td>2</td>\n",
       "    </tr>\n",
       "    <tr>\n",
       "      <th>30776</th>\n",
       "      <td>81267</td>\n",
       "      <td>1</td>\n",
       "      <td>1</td>\n",
       "      <td>7.0</td>\n",
       "      <td>prior</td>\n",
       "      <td>6</td>\n",
       "      <td>13</td>\n",
       "      <td>63</td>\n",
       "      <td>2</td>\n",
       "    </tr>\n",
       "    <tr>\n",
       "      <th>30776</th>\n",
       "      <td>81267</td>\n",
       "      <td>1</td>\n",
       "      <td>1</td>\n",
       "      <td>7.0</td>\n",
       "      <td>prior</td>\n",
       "      <td>6</td>\n",
       "      <td>13</td>\n",
       "      <td>63</td>\n",
       "      <td>2</td>\n",
       "    </tr>\n",
       "    <tr>\n",
       "      <th>1463</th>\n",
       "      <td>81267</td>\n",
       "      <td>2</td>\n",
       "      <td>1</td>\n",
       "      <td>7.0</td>\n",
       "      <td>prior</td>\n",
       "      <td>6</td>\n",
       "      <td>13</td>\n",
       "      <td>63</td>\n",
       "      <td>2</td>\n",
       "    </tr>\n",
       "    <tr>\n",
       "      <th>1463</th>\n",
       "      <td>81267</td>\n",
       "      <td>2</td>\n",
       "      <td>1</td>\n",
       "      <td>7.0</td>\n",
       "      <td>prior</td>\n",
       "      <td>6</td>\n",
       "      <td>13</td>\n",
       "      <td>63</td>\n",
       "      <td>2</td>\n",
       "    </tr>\n",
       "    <tr>\n",
       "      <th>1463</th>\n",
       "      <td>81267</td>\n",
       "      <td>2</td>\n",
       "      <td>1</td>\n",
       "      <td>7.0</td>\n",
       "      <td>prior</td>\n",
       "      <td>6</td>\n",
       "      <td>13</td>\n",
       "      <td>63</td>\n",
       "      <td>2</td>\n",
       "    </tr>\n",
       "    <tr>\n",
       "      <th>1463</th>\n",
       "      <td>81267</td>\n",
       "      <td>2</td>\n",
       "      <td>1</td>\n",
       "      <td>7.0</td>\n",
       "      <td>prior</td>\n",
       "      <td>6</td>\n",
       "      <td>13</td>\n",
       "      <td>63</td>\n",
       "      <td>2</td>\n",
       "    </tr>\n",
       "    <tr>\n",
       "      <th>1463</th>\n",
       "      <td>81267</td>\n",
       "      <td>2</td>\n",
       "      <td>1</td>\n",
       "      <td>7.0</td>\n",
       "      <td>prior</td>\n",
       "      <td>6</td>\n",
       "      <td>13</td>\n",
       "      <td>63</td>\n",
       "      <td>2</td>\n",
       "    </tr>\n",
       "    <tr>\n",
       "      <th>1463</th>\n",
       "      <td>81267</td>\n",
       "      <td>2</td>\n",
       "      <td>1</td>\n",
       "      <td>7.0</td>\n",
       "      <td>prior</td>\n",
       "      <td>6</td>\n",
       "      <td>13</td>\n",
       "      <td>63</td>\n",
       "      <td>2</td>\n",
       "    </tr>\n",
       "    <tr>\n",
       "      <th>1463</th>\n",
       "      <td>81267</td>\n",
       "      <td>2</td>\n",
       "      <td>1</td>\n",
       "      <td>7.0</td>\n",
       "      <td>prior</td>\n",
       "      <td>6</td>\n",
       "      <td>13</td>\n",
       "      <td>63</td>\n",
       "      <td>2</td>\n",
       "    </tr>\n",
       "    <tr>\n",
       "      <th>1463</th>\n",
       "      <td>81267</td>\n",
       "      <td>2</td>\n",
       "      <td>1</td>\n",
       "      <td>7.0</td>\n",
       "      <td>prior</td>\n",
       "      <td>6</td>\n",
       "      <td>13</td>\n",
       "      <td>63</td>\n",
       "      <td>2</td>\n",
       "    </tr>\n",
       "    <tr>\n",
       "      <th>1463</th>\n",
       "      <td>81267</td>\n",
       "      <td>2</td>\n",
       "      <td>1</td>\n",
       "      <td>7.0</td>\n",
       "      <td>prior</td>\n",
       "      <td>6</td>\n",
       "      <td>13</td>\n",
       "      <td>63</td>\n",
       "      <td>2</td>\n",
       "    </tr>\n",
       "    <tr>\n",
       "      <th>34943</th>\n",
       "      <td>81267</td>\n",
       "      <td>3</td>\n",
       "      <td>1</td>\n",
       "      <td>7.0</td>\n",
       "      <td>prior</td>\n",
       "      <td>6</td>\n",
       "      <td>13</td>\n",
       "      <td>63</td>\n",
       "      <td>2</td>\n",
       "    </tr>\n",
       "    <tr>\n",
       "      <th>34943</th>\n",
       "      <td>81267</td>\n",
       "      <td>3</td>\n",
       "      <td>1</td>\n",
       "      <td>7.0</td>\n",
       "      <td>prior</td>\n",
       "      <td>6</td>\n",
       "      <td>13</td>\n",
       "      <td>63</td>\n",
       "      <td>2</td>\n",
       "    </tr>\n",
       "    <tr>\n",
       "      <th>34943</th>\n",
       "      <td>81267</td>\n",
       "      <td>3</td>\n",
       "      <td>1</td>\n",
       "      <td>7.0</td>\n",
       "      <td>prior</td>\n",
       "      <td>6</td>\n",
       "      <td>13</td>\n",
       "      <td>63</td>\n",
       "      <td>2</td>\n",
       "    </tr>\n",
       "    <tr>\n",
       "      <th>34943</th>\n",
       "      <td>81267</td>\n",
       "      <td>3</td>\n",
       "      <td>1</td>\n",
       "      <td>7.0</td>\n",
       "      <td>prior</td>\n",
       "      <td>6</td>\n",
       "      <td>13</td>\n",
       "      <td>63</td>\n",
       "      <td>2</td>\n",
       "    </tr>\n",
       "    <tr>\n",
       "      <th>34943</th>\n",
       "      <td>81267</td>\n",
       "      <td>3</td>\n",
       "      <td>1</td>\n",
       "      <td>7.0</td>\n",
       "      <td>prior</td>\n",
       "      <td>6</td>\n",
       "      <td>13</td>\n",
       "      <td>63</td>\n",
       "      <td>2</td>\n",
       "    </tr>\n",
       "    <tr>\n",
       "      <th>34943</th>\n",
       "      <td>81267</td>\n",
       "      <td>3</td>\n",
       "      <td>1</td>\n",
       "      <td>7.0</td>\n",
       "      <td>prior</td>\n",
       "      <td>6</td>\n",
       "      <td>13</td>\n",
       "      <td>63</td>\n",
       "      <td>2</td>\n",
       "    </tr>\n",
       "    <tr>\n",
       "      <th>34943</th>\n",
       "      <td>81267</td>\n",
       "      <td>3</td>\n",
       "      <td>1</td>\n",
       "      <td>7.0</td>\n",
       "      <td>prior</td>\n",
       "      <td>6</td>\n",
       "      <td>13</td>\n",
       "      <td>63</td>\n",
       "      <td>2</td>\n",
       "    </tr>\n",
       "    <tr>\n",
       "      <th>34943</th>\n",
       "      <td>81267</td>\n",
       "      <td>3</td>\n",
       "      <td>1</td>\n",
       "      <td>7.0</td>\n",
       "      <td>prior</td>\n",
       "      <td>6</td>\n",
       "      <td>13</td>\n",
       "      <td>63</td>\n",
       "      <td>2</td>\n",
       "    </tr>\n",
       "    <tr>\n",
       "      <th>34943</th>\n",
       "      <td>81267</td>\n",
       "      <td>3</td>\n",
       "      <td>1</td>\n",
       "      <td>7.0</td>\n",
       "      <td>prior</td>\n",
       "      <td>6</td>\n",
       "      <td>13</td>\n",
       "      <td>63</td>\n",
       "      <td>2</td>\n",
       "    </tr>\n",
       "    <tr>\n",
       "      <th>3952</th>\n",
       "      <td>81267</td>\n",
       "      <td>4</td>\n",
       "      <td>1</td>\n",
       "      <td>7.0</td>\n",
       "      <td>prior</td>\n",
       "      <td>6</td>\n",
       "      <td>13</td>\n",
       "      <td>63</td>\n",
       "      <td>2</td>\n",
       "    </tr>\n",
       "    <tr>\n",
       "      <th>3952</th>\n",
       "      <td>81267</td>\n",
       "      <td>4</td>\n",
       "      <td>1</td>\n",
       "      <td>7.0</td>\n",
       "      <td>prior</td>\n",
       "      <td>6</td>\n",
       "      <td>13</td>\n",
       "      <td>63</td>\n",
       "      <td>2</td>\n",
       "    </tr>\n",
       "    <tr>\n",
       "      <th>3952</th>\n",
       "      <td>81267</td>\n",
       "      <td>4</td>\n",
       "      <td>1</td>\n",
       "      <td>7.0</td>\n",
       "      <td>prior</td>\n",
       "      <td>6</td>\n",
       "      <td>13</td>\n",
       "      <td>63</td>\n",
       "      <td>2</td>\n",
       "    </tr>\n",
       "    <tr>\n",
       "      <th>...</th>\n",
       "      <th>...</th>\n",
       "      <td>...</td>\n",
       "      <td>...</td>\n",
       "      <td>...</td>\n",
       "      <td>...</td>\n",
       "      <td>...</td>\n",
       "      <td>...</td>\n",
       "      <td>...</td>\n",
       "      <td>...</td>\n",
       "      <td>...</td>\n",
       "    </tr>\n",
       "    <tr>\n",
       "      <th rowspan=\"30\" valign=\"top\">203190</th>\n",
       "      <th>40706</th>\n",
       "      <td>3369864</td>\n",
       "      <td>5</td>\n",
       "      <td>1</td>\n",
       "      <td>30.0</td>\n",
       "      <td>prior</td>\n",
       "      <td>4</td>\n",
       "      <td>21</td>\n",
       "      <td>4</td>\n",
       "      <td>2</td>\n",
       "    </tr>\n",
       "    <tr>\n",
       "      <th>40706</th>\n",
       "      <td>3369864</td>\n",
       "      <td>5</td>\n",
       "      <td>1</td>\n",
       "      <td>30.0</td>\n",
       "      <td>prior</td>\n",
       "      <td>4</td>\n",
       "      <td>21</td>\n",
       "      <td>4</td>\n",
       "      <td>2</td>\n",
       "    </tr>\n",
       "    <tr>\n",
       "      <th>40706</th>\n",
       "      <td>3369864</td>\n",
       "      <td>5</td>\n",
       "      <td>1</td>\n",
       "      <td>30.0</td>\n",
       "      <td>prior</td>\n",
       "      <td>4</td>\n",
       "      <td>21</td>\n",
       "      <td>4</td>\n",
       "      <td>2</td>\n",
       "    </tr>\n",
       "    <tr>\n",
       "      <th>40706</th>\n",
       "      <td>3369864</td>\n",
       "      <td>5</td>\n",
       "      <td>1</td>\n",
       "      <td>30.0</td>\n",
       "      <td>prior</td>\n",
       "      <td>4</td>\n",
       "      <td>21</td>\n",
       "      <td>4</td>\n",
       "      <td>2</td>\n",
       "    </tr>\n",
       "    <tr>\n",
       "      <th>40706</th>\n",
       "      <td>3369864</td>\n",
       "      <td>5</td>\n",
       "      <td>1</td>\n",
       "      <td>30.0</td>\n",
       "      <td>prior</td>\n",
       "      <td>4</td>\n",
       "      <td>21</td>\n",
       "      <td>4</td>\n",
       "      <td>2</td>\n",
       "    </tr>\n",
       "    <tr>\n",
       "      <th>40706</th>\n",
       "      <td>3369864</td>\n",
       "      <td>5</td>\n",
       "      <td>1</td>\n",
       "      <td>30.0</td>\n",
       "      <td>prior</td>\n",
       "      <td>4</td>\n",
       "      <td>21</td>\n",
       "      <td>4</td>\n",
       "      <td>2</td>\n",
       "    </tr>\n",
       "    <tr>\n",
       "      <th>40706</th>\n",
       "      <td>3369864</td>\n",
       "      <td>5</td>\n",
       "      <td>1</td>\n",
       "      <td>30.0</td>\n",
       "      <td>prior</td>\n",
       "      <td>4</td>\n",
       "      <td>21</td>\n",
       "      <td>4</td>\n",
       "      <td>2</td>\n",
       "    </tr>\n",
       "    <tr>\n",
       "      <th>40706</th>\n",
       "      <td>3369864</td>\n",
       "      <td>5</td>\n",
       "      <td>1</td>\n",
       "      <td>30.0</td>\n",
       "      <td>prior</td>\n",
       "      <td>4</td>\n",
       "      <td>21</td>\n",
       "      <td>4</td>\n",
       "      <td>2</td>\n",
       "    </tr>\n",
       "    <tr>\n",
       "      <th>40706</th>\n",
       "      <td>3369864</td>\n",
       "      <td>5</td>\n",
       "      <td>1</td>\n",
       "      <td>30.0</td>\n",
       "      <td>prior</td>\n",
       "      <td>4</td>\n",
       "      <td>21</td>\n",
       "      <td>4</td>\n",
       "      <td>2</td>\n",
       "    </tr>\n",
       "    <tr>\n",
       "      <th>40706</th>\n",
       "      <td>3369864</td>\n",
       "      <td>5</td>\n",
       "      <td>1</td>\n",
       "      <td>30.0</td>\n",
       "      <td>prior</td>\n",
       "      <td>4</td>\n",
       "      <td>21</td>\n",
       "      <td>4</td>\n",
       "      <td>2</td>\n",
       "    </tr>\n",
       "    <tr>\n",
       "      <th>40706</th>\n",
       "      <td>3369864</td>\n",
       "      <td>5</td>\n",
       "      <td>1</td>\n",
       "      <td>30.0</td>\n",
       "      <td>prior</td>\n",
       "      <td>4</td>\n",
       "      <td>21</td>\n",
       "      <td>4</td>\n",
       "      <td>2</td>\n",
       "    </tr>\n",
       "    <tr>\n",
       "      <th>40706</th>\n",
       "      <td>3369864</td>\n",
       "      <td>5</td>\n",
       "      <td>1</td>\n",
       "      <td>30.0</td>\n",
       "      <td>prior</td>\n",
       "      <td>4</td>\n",
       "      <td>21</td>\n",
       "      <td>4</td>\n",
       "      <td>2</td>\n",
       "    </tr>\n",
       "    <tr>\n",
       "      <th>40706</th>\n",
       "      <td>3369864</td>\n",
       "      <td>5</td>\n",
       "      <td>1</td>\n",
       "      <td>30.0</td>\n",
       "      <td>prior</td>\n",
       "      <td>4</td>\n",
       "      <td>21</td>\n",
       "      <td>4</td>\n",
       "      <td>2</td>\n",
       "    </tr>\n",
       "    <tr>\n",
       "      <th>40706</th>\n",
       "      <td>3369864</td>\n",
       "      <td>5</td>\n",
       "      <td>1</td>\n",
       "      <td>30.0</td>\n",
       "      <td>prior</td>\n",
       "      <td>4</td>\n",
       "      <td>21</td>\n",
       "      <td>4</td>\n",
       "      <td>2</td>\n",
       "    </tr>\n",
       "    <tr>\n",
       "      <th>40706</th>\n",
       "      <td>3369864</td>\n",
       "      <td>5</td>\n",
       "      <td>1</td>\n",
       "      <td>30.0</td>\n",
       "      <td>prior</td>\n",
       "      <td>4</td>\n",
       "      <td>21</td>\n",
       "      <td>4</td>\n",
       "      <td>2</td>\n",
       "    </tr>\n",
       "    <tr>\n",
       "      <th>34969</th>\n",
       "      <td>3369864</td>\n",
       "      <td>6</td>\n",
       "      <td>1</td>\n",
       "      <td>30.0</td>\n",
       "      <td>prior</td>\n",
       "      <td>4</td>\n",
       "      <td>21</td>\n",
       "      <td>4</td>\n",
       "      <td>2</td>\n",
       "    </tr>\n",
       "    <tr>\n",
       "      <th>34969</th>\n",
       "      <td>3369864</td>\n",
       "      <td>6</td>\n",
       "      <td>1</td>\n",
       "      <td>30.0</td>\n",
       "      <td>prior</td>\n",
       "      <td>4</td>\n",
       "      <td>21</td>\n",
       "      <td>4</td>\n",
       "      <td>2</td>\n",
       "    </tr>\n",
       "    <tr>\n",
       "      <th>34969</th>\n",
       "      <td>3369864</td>\n",
       "      <td>6</td>\n",
       "      <td>1</td>\n",
       "      <td>30.0</td>\n",
       "      <td>prior</td>\n",
       "      <td>4</td>\n",
       "      <td>21</td>\n",
       "      <td>4</td>\n",
       "      <td>2</td>\n",
       "    </tr>\n",
       "    <tr>\n",
       "      <th>34969</th>\n",
       "      <td>3369864</td>\n",
       "      <td>6</td>\n",
       "      <td>1</td>\n",
       "      <td>30.0</td>\n",
       "      <td>prior</td>\n",
       "      <td>4</td>\n",
       "      <td>21</td>\n",
       "      <td>4</td>\n",
       "      <td>2</td>\n",
       "    </tr>\n",
       "    <tr>\n",
       "      <th>34969</th>\n",
       "      <td>3369864</td>\n",
       "      <td>6</td>\n",
       "      <td>1</td>\n",
       "      <td>30.0</td>\n",
       "      <td>prior</td>\n",
       "      <td>4</td>\n",
       "      <td>21</td>\n",
       "      <td>4</td>\n",
       "      <td>2</td>\n",
       "    </tr>\n",
       "    <tr>\n",
       "      <th>34969</th>\n",
       "      <td>3369864</td>\n",
       "      <td>6</td>\n",
       "      <td>1</td>\n",
       "      <td>30.0</td>\n",
       "      <td>prior</td>\n",
       "      <td>4</td>\n",
       "      <td>21</td>\n",
       "      <td>4</td>\n",
       "      <td>2</td>\n",
       "    </tr>\n",
       "    <tr>\n",
       "      <th>34969</th>\n",
       "      <td>3369864</td>\n",
       "      <td>6</td>\n",
       "      <td>1</td>\n",
       "      <td>30.0</td>\n",
       "      <td>prior</td>\n",
       "      <td>4</td>\n",
       "      <td>21</td>\n",
       "      <td>4</td>\n",
       "      <td>2</td>\n",
       "    </tr>\n",
       "    <tr>\n",
       "      <th>34969</th>\n",
       "      <td>3369864</td>\n",
       "      <td>6</td>\n",
       "      <td>1</td>\n",
       "      <td>30.0</td>\n",
       "      <td>prior</td>\n",
       "      <td>4</td>\n",
       "      <td>21</td>\n",
       "      <td>4</td>\n",
       "      <td>2</td>\n",
       "    </tr>\n",
       "    <tr>\n",
       "      <th>34969</th>\n",
       "      <td>3369864</td>\n",
       "      <td>6</td>\n",
       "      <td>1</td>\n",
       "      <td>30.0</td>\n",
       "      <td>prior</td>\n",
       "      <td>4</td>\n",
       "      <td>21</td>\n",
       "      <td>4</td>\n",
       "      <td>2</td>\n",
       "    </tr>\n",
       "    <tr>\n",
       "      <th>34969</th>\n",
       "      <td>3369864</td>\n",
       "      <td>6</td>\n",
       "      <td>1</td>\n",
       "      <td>30.0</td>\n",
       "      <td>prior</td>\n",
       "      <td>4</td>\n",
       "      <td>21</td>\n",
       "      <td>4</td>\n",
       "      <td>2</td>\n",
       "    </tr>\n",
       "    <tr>\n",
       "      <th>34969</th>\n",
       "      <td>3369864</td>\n",
       "      <td>6</td>\n",
       "      <td>1</td>\n",
       "      <td>30.0</td>\n",
       "      <td>prior</td>\n",
       "      <td>4</td>\n",
       "      <td>21</td>\n",
       "      <td>4</td>\n",
       "      <td>2</td>\n",
       "    </tr>\n",
       "    <tr>\n",
       "      <th>34969</th>\n",
       "      <td>3369864</td>\n",
       "      <td>6</td>\n",
       "      <td>1</td>\n",
       "      <td>30.0</td>\n",
       "      <td>prior</td>\n",
       "      <td>4</td>\n",
       "      <td>21</td>\n",
       "      <td>4</td>\n",
       "      <td>2</td>\n",
       "    </tr>\n",
       "    <tr>\n",
       "      <th>34969</th>\n",
       "      <td>3369864</td>\n",
       "      <td>6</td>\n",
       "      <td>1</td>\n",
       "      <td>30.0</td>\n",
       "      <td>prior</td>\n",
       "      <td>4</td>\n",
       "      <td>21</td>\n",
       "      <td>4</td>\n",
       "      <td>2</td>\n",
       "    </tr>\n",
       "    <tr>\n",
       "      <th>34969</th>\n",
       "      <td>3369864</td>\n",
       "      <td>6</td>\n",
       "      <td>1</td>\n",
       "      <td>30.0</td>\n",
       "      <td>prior</td>\n",
       "      <td>4</td>\n",
       "      <td>21</td>\n",
       "      <td>4</td>\n",
       "      <td>2</td>\n",
       "    </tr>\n",
       "    <tr>\n",
       "      <th>34969</th>\n",
       "      <td>3369864</td>\n",
       "      <td>6</td>\n",
       "      <td>1</td>\n",
       "      <td>30.0</td>\n",
       "      <td>prior</td>\n",
       "      <td>4</td>\n",
       "      <td>21</td>\n",
       "      <td>4</td>\n",
       "      <td>2</td>\n",
       "    </tr>\n",
       "  </tbody>\n",
       "</table>\n",
       "<p>6195 rows × 9 columns</p>\n",
       "</div>"
      ],
      "text/plain": [
       "                    order_id  add_to_cart_order  reordered  \\\n",
       "user_id product_id                                           \n",
       "53702   30776          81267                  1          1   \n",
       "        30776          81267                  1          1   \n",
       "        30776          81267                  1          1   \n",
       "        30776          81267                  1          1   \n",
       "        30776          81267                  1          1   \n",
       "        30776          81267                  1          1   \n",
       "        30776          81267                  1          1   \n",
       "        30776          81267                  1          1   \n",
       "        30776          81267                  1          1   \n",
       "        1463           81267                  2          1   \n",
       "        1463           81267                  2          1   \n",
       "        1463           81267                  2          1   \n",
       "        1463           81267                  2          1   \n",
       "        1463           81267                  2          1   \n",
       "        1463           81267                  2          1   \n",
       "        1463           81267                  2          1   \n",
       "        1463           81267                  2          1   \n",
       "        1463           81267                  2          1   \n",
       "        34943          81267                  3          1   \n",
       "        34943          81267                  3          1   \n",
       "        34943          81267                  3          1   \n",
       "        34943          81267                  3          1   \n",
       "        34943          81267                  3          1   \n",
       "        34943          81267                  3          1   \n",
       "        34943          81267                  3          1   \n",
       "        34943          81267                  3          1   \n",
       "        34943          81267                  3          1   \n",
       "        3952           81267                  4          1   \n",
       "        3952           81267                  4          1   \n",
       "        3952           81267                  4          1   \n",
       "...                      ...                ...        ...   \n",
       "203190  40706        3369864                  5          1   \n",
       "        40706        3369864                  5          1   \n",
       "        40706        3369864                  5          1   \n",
       "        40706        3369864                  5          1   \n",
       "        40706        3369864                  5          1   \n",
       "        40706        3369864                  5          1   \n",
       "        40706        3369864                  5          1   \n",
       "        40706        3369864                  5          1   \n",
       "        40706        3369864                  5          1   \n",
       "        40706        3369864                  5          1   \n",
       "        40706        3369864                  5          1   \n",
       "        40706        3369864                  5          1   \n",
       "        40706        3369864                  5          1   \n",
       "        40706        3369864                  5          1   \n",
       "        40706        3369864                  5          1   \n",
       "        34969        3369864                  6          1   \n",
       "        34969        3369864                  6          1   \n",
       "        34969        3369864                  6          1   \n",
       "        34969        3369864                  6          1   \n",
       "        34969        3369864                  6          1   \n",
       "        34969        3369864                  6          1   \n",
       "        34969        3369864                  6          1   \n",
       "        34969        3369864                  6          1   \n",
       "        34969        3369864                  6          1   \n",
       "        34969        3369864                  6          1   \n",
       "        34969        3369864                  6          1   \n",
       "        34969        3369864                  6          1   \n",
       "        34969        3369864                  6          1   \n",
       "        34969        3369864                  6          1   \n",
       "        34969        3369864                  6          1   \n",
       "\n",
       "                    days_since_prior_order eval_set  order_dow  \\\n",
       "user_id product_id                                               \n",
       "53702   30776                          7.0    prior          6   \n",
       "        30776                          7.0    prior          6   \n",
       "        30776                          7.0    prior          6   \n",
       "        30776                          7.0    prior          6   \n",
       "        30776                          7.0    prior          6   \n",
       "        30776                          7.0    prior          6   \n",
       "        30776                          7.0    prior          6   \n",
       "        30776                          7.0    prior          6   \n",
       "        30776                          7.0    prior          6   \n",
       "        1463                           7.0    prior          6   \n",
       "        1463                           7.0    prior          6   \n",
       "        1463                           7.0    prior          6   \n",
       "        1463                           7.0    prior          6   \n",
       "        1463                           7.0    prior          6   \n",
       "        1463                           7.0    prior          6   \n",
       "        1463                           7.0    prior          6   \n",
       "        1463                           7.0    prior          6   \n",
       "        1463                           7.0    prior          6   \n",
       "        34943                          7.0    prior          6   \n",
       "        34943                          7.0    prior          6   \n",
       "        34943                          7.0    prior          6   \n",
       "        34943                          7.0    prior          6   \n",
       "        34943                          7.0    prior          6   \n",
       "        34943                          7.0    prior          6   \n",
       "        34943                          7.0    prior          6   \n",
       "        34943                          7.0    prior          6   \n",
       "        34943                          7.0    prior          6   \n",
       "        3952                           7.0    prior          6   \n",
       "        3952                           7.0    prior          6   \n",
       "        3952                           7.0    prior          6   \n",
       "...                                    ...      ...        ...   \n",
       "203190  40706                         30.0    prior          4   \n",
       "        40706                         30.0    prior          4   \n",
       "        40706                         30.0    prior          4   \n",
       "        40706                         30.0    prior          4   \n",
       "        40706                         30.0    prior          4   \n",
       "        40706                         30.0    prior          4   \n",
       "        40706                         30.0    prior          4   \n",
       "        40706                         30.0    prior          4   \n",
       "        40706                         30.0    prior          4   \n",
       "        40706                         30.0    prior          4   \n",
       "        40706                         30.0    prior          4   \n",
       "        40706                         30.0    prior          4   \n",
       "        40706                         30.0    prior          4   \n",
       "        40706                         30.0    prior          4   \n",
       "        40706                         30.0    prior          4   \n",
       "        34969                         30.0    prior          4   \n",
       "        34969                         30.0    prior          4   \n",
       "        34969                         30.0    prior          4   \n",
       "        34969                         30.0    prior          4   \n",
       "        34969                         30.0    prior          4   \n",
       "        34969                         30.0    prior          4   \n",
       "        34969                         30.0    prior          4   \n",
       "        34969                         30.0    prior          4   \n",
       "        34969                         30.0    prior          4   \n",
       "        34969                         30.0    prior          4   \n",
       "        34969                         30.0    prior          4   \n",
       "        34969                         30.0    prior          4   \n",
       "        34969                         30.0    prior          4   \n",
       "        34969                         30.0    prior          4   \n",
       "        34969                         30.0    prior          4   \n",
       "\n",
       "                    order_hour_of_day  order_number  order_from_last  \n",
       "user_id product_id                                                    \n",
       "53702   30776                      13            63                2  \n",
       "        30776                      13            63                2  \n",
       "        30776                      13            63                2  \n",
       "        30776                      13            63                2  \n",
       "        30776                      13            63                2  \n",
       "        30776                      13            63                2  \n",
       "        30776                      13            63                2  \n",
       "        30776                      13            63                2  \n",
       "        30776                      13            63                2  \n",
       "        1463                       13            63                2  \n",
       "        1463                       13            63                2  \n",
       "        1463                       13            63                2  \n",
       "        1463                       13            63                2  \n",
       "        1463                       13            63                2  \n",
       "        1463                       13            63                2  \n",
       "        1463                       13            63                2  \n",
       "        1463                       13            63                2  \n",
       "        1463                       13            63                2  \n",
       "        34943                      13            63                2  \n",
       "        34943                      13            63                2  \n",
       "        34943                      13            63                2  \n",
       "        34943                      13            63                2  \n",
       "        34943                      13            63                2  \n",
       "        34943                      13            63                2  \n",
       "        34943                      13            63                2  \n",
       "        34943                      13            63                2  \n",
       "        34943                      13            63                2  \n",
       "        3952                       13            63                2  \n",
       "        3952                       13            63                2  \n",
       "        3952                       13            63                2  \n",
       "...                               ...           ...              ...  \n",
       "203190  40706                      21             4                2  \n",
       "        40706                      21             4                2  \n",
       "        40706                      21             4                2  \n",
       "        40706                      21             4                2  \n",
       "        40706                      21             4                2  \n",
       "        40706                      21             4                2  \n",
       "        40706                      21             4                2  \n",
       "        40706                      21             4                2  \n",
       "        40706                      21             4                2  \n",
       "        40706                      21             4                2  \n",
       "        40706                      21             4                2  \n",
       "        40706                      21             4                2  \n",
       "        40706                      21             4                2  \n",
       "        40706                      21             4                2  \n",
       "        40706                      21             4                2  \n",
       "        34969                      21             4                2  \n",
       "        34969                      21             4                2  \n",
       "        34969                      21             4                2  \n",
       "        34969                      21             4                2  \n",
       "        34969                      21             4                2  \n",
       "        34969                      21             4                2  \n",
       "        34969                      21             4                2  \n",
       "        34969                      21             4                2  \n",
       "        34969                      21             4                2  \n",
       "        34969                      21             4                2  \n",
       "        34969                      21             4                2  \n",
       "        34969                      21             4                2  \n",
       "        34969                      21             4                2  \n",
       "        34969                      21             4                2  \n",
       "        34969                      21             4                2  \n",
       "\n",
       "[6195 rows x 9 columns]"
      ]
     },
     "execution_count": 72,
     "metadata": {},
     "output_type": "execute_result"
    }
   ],
   "source": [
    "small_test.set_index(['user_id' , 'product_id'])"
   ]
  },
  {
   "cell_type": "code",
   "execution_count": 37,
   "metadata": {},
   "outputs": [
    {
     "data": {
      "text/plain": [
       "38"
      ]
     },
     "execution_count": 37,
     "metadata": {},
     "output_type": "execute_result"
    }
   ],
   "source": [
    "34+4"
   ]
  },
  {
   "cell_type": "code",
   "execution_count": null,
   "metadata": {
    "collapsed": true
   },
   "outputs": [],
   "source": []
  }
 ],
 "metadata": {
  "kernelspec": {
   "display_name": "Python 2",
   "language": "python",
   "name": "python2"
  },
  "language_info": {
   "codemirror_mode": {
    "name": "ipython",
    "version": 2
   },
   "file_extension": ".py",
   "mimetype": "text/x-python",
   "name": "python",
   "nbconvert_exporter": "python",
   "pygments_lexer": "ipython2",
   "version": "2.7.14"
  }
 },
 "nbformat": 4,
 "nbformat_minor": 2
}
