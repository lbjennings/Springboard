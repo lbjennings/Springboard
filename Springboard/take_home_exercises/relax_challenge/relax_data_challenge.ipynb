{
 "cells": [
  {
   "cell_type": "code",
   "execution_count": 1,
   "metadata": {},
   "outputs": [
    {
     "name": "stdout",
     "output_type": "stream",
     "text": [
      "Requirement already satisfied: version_information in /opt/conda/lib/python3.6/site-packages (1.0.3)\r\n"
     ]
    }
   ],
   "source": [
    "! pip install version_information"
   ]
  },
  {
   "cell_type": "code",
   "execution_count": 2,
   "metadata": {},
   "outputs": [
    {
     "name": "stdout",
     "output_type": "stream",
     "text": [
      "Requirement already satisfied: tqdm in /opt/conda/lib/python3.6/site-packages (4.23.4)\r\n"
     ]
    }
   ],
   "source": [
    "! pip install tqdm"
   ]
  },
  {
   "cell_type": "code",
   "execution_count": 3,
   "metadata": {},
   "outputs": [
    {
     "name": "stdout",
     "output_type": "stream",
     "text": [
      "Requirement already up-to-date: pip in /opt/conda/lib/python3.6/site-packages (10.0.1)\r\n"
     ]
    }
   ],
   "source": [
    "! pip install --upgrade pip"
   ]
  },
  {
   "cell_type": "code",
   "execution_count": 4,
   "metadata": {},
   "outputs": [
    {
     "name": "stdout",
     "output_type": "stream",
     "text": [
      "Requirement already satisfied: imblearn in /opt/conda/lib/python3.6/site-packages (0.0)\n",
      "Requirement already satisfied: imbalanced-learn in /opt/conda/lib/python3.6/site-packages (from imblearn) (0.3.3)\n",
      "Requirement already satisfied: scipy in /opt/conda/lib/python3.6/site-packages (from imbalanced-learn->imblearn) (1.0.1)\n",
      "Requirement already satisfied: numpy in /opt/conda/lib/python3.6/site-packages (from imbalanced-learn->imblearn) (1.13.3)\n",
      "Requirement already satisfied: scikit-learn in /opt/conda/lib/python3.6/site-packages (from imbalanced-learn->imblearn) (0.19.1)\n"
     ]
    }
   ],
   "source": [
    "! pip install imblearn"
   ]
  },
  {
   "cell_type": "code",
   "execution_count": 5,
   "metadata": {},
   "outputs": [
    {
     "data": {
      "application/json": {
       "Software versions": [
        {
         "module": "Python",
         "version": "3.6.4 64bit [GCC 7.2.0]"
        },
        {
         "module": "IPython",
         "version": "6.3.1"
        },
        {
         "module": "OS",
         "version": "Linux 4.9.87 linuxkit aufs x86_64 with debian stretch sid"
        },
        {
         "module": "Cython",
         "version": "0.28.2"
        },
        {
         "module": "matplotlib",
         "version": "2.1.2"
        },
        {
         "module": "numpy",
         "version": "1.13.3"
        },
        {
         "module": "pandas",
         "version": "0.22.0"
        },
        {
         "module": "qutip",
         "version": "The 'qutip' distribution was not found and is required by the application"
        },
        {
         "module": "seaborn",
         "version": "0.8.1"
        },
        {
         "module": "scipy",
         "version": "1.0.1"
        },
        {
         "module": "sklearn",
         "version": "0.19.1"
        },
        {
         "module": "tqdm",
         "version": "4.23.4"
        },
        {
         "module": "version_information",
         "version": "1.0.3"
        }
       ]
      },
      "text/html": [
       "<table><tr><th>Software</th><th>Version</th></tr><tr><td>Python</td><td>3.6.4 64bit [GCC 7.2.0]</td></tr><tr><td>IPython</td><td>6.3.1</td></tr><tr><td>OS</td><td>Linux 4.9.87 linuxkit aufs x86_64 with debian stretch sid</td></tr><tr><td>Cython</td><td>0.28.2</td></tr><tr><td>matplotlib</td><td>2.1.2</td></tr><tr><td>numpy</td><td>1.13.3</td></tr><tr><td>pandas</td><td>0.22.0</td></tr><tr><td>qutip</td><td>The 'qutip' distribution was not found and is required by the application</td></tr><tr><td>seaborn</td><td>0.8.1</td></tr><tr><td>scipy</td><td>1.0.1</td></tr><tr><td>sklearn</td><td>0.19.1</td></tr><tr><td>tqdm</td><td>4.23.4</td></tr><tr><td>version_information</td><td>1.0.3</td></tr><tr><td colspan='2'>Sun Jul 01 09:46:37 2018 UTC</td></tr></table>"
      ],
      "text/latex": [
       "\\begin{tabular}{|l|l|}\\hline\n",
       "{\\bf Software} & {\\bf Version} \\\\ \\hline\\hline\n",
       "Python & 3.6.4 64bit [GCC 7.2.0] \\\\ \\hline\n",
       "IPython & 6.3.1 \\\\ \\hline\n",
       "OS & Linux 4.9.87 linuxkit aufs x86\\_64 with debian stretch sid \\\\ \\hline\n",
       "Cython & 0.28.2 \\\\ \\hline\n",
       "matplotlib & 2.1.2 \\\\ \\hline\n",
       "numpy & 1.13.3 \\\\ \\hline\n",
       "pandas & 0.22.0 \\\\ \\hline\n",
       "qutip & The 'qutip' distribution was not found and is required by the application \\\\ \\hline\n",
       "seaborn & 0.8.1 \\\\ \\hline\n",
       "scipy & 1.0.1 \\\\ \\hline\n",
       "sklearn & 0.19.1 \\\\ \\hline\n",
       "tqdm & 4.23.4 \\\\ \\hline\n",
       "version_information & 1.0.3 \\\\ \\hline\n",
       "\\hline \\multicolumn{2}{|l|}{Sun Jul 01 09:46:37 2018 UTC} \\\\ \\hline\n",
       "\\end{tabular}\n"
      ],
      "text/plain": [
       "Software versions\n",
       "Python 3.6.4 64bit [GCC 7.2.0]\n",
       "IPython 6.3.1\n",
       "OS Linux 4.9.87 linuxkit aufs x86_64 with debian stretch sid\n",
       "Cython 0.28.2\n",
       "matplotlib 2.1.2\n",
       "numpy 1.13.3\n",
       "pandas 0.22.0\n",
       "qutip The 'qutip' distribution was not found and is required by the application\n",
       "seaborn 0.8.1\n",
       "scipy 1.0.1\n",
       "sklearn 0.19.1\n",
       "tqdm 4.23.4\n",
       "version_information 1.0.3\n",
       "Sun Jul 01 09:46:37 2018 UTC"
      ]
     },
     "execution_count": 5,
     "metadata": {},
     "output_type": "execute_result"
    }
   ],
   "source": [
    "#https://ipyton.org/ipython-docdex/config/extsions/autoreload.html\n",
    "%reload_ext autoreload\n",
    "%autoreload 2\n",
    "\n",
    "#version information\n",
    "%reload_ext version_information\n",
    "%version_information Cython, matplotlib, numpy, pandas,  qutip, seaborn, scipy, sklearn, tqdm, version_information,"
   ]
  },
  {
   "cell_type": "code",
   "execution_count": 6,
   "metadata": {},
   "outputs": [],
   "source": [
    "%matplotlib inline\n",
    "import numpy as np\n",
    "import scipy as sp\n",
    "import matplotlib as mpl\n",
    "import matplotlib.cm as cm\n",
    "import matplotlib.pyplot as plt\n",
    "from matplotlib.ticker import MaxNLocator\n",
    "from pandas.api.types import CategoricalDtype\n",
    "import pandas as pd\n",
    "import seaborn as sns\n",
    "from six.moves import range\n",
    "from tqdm import tqdm\n",
    "\n",
    "#import modules for machine learning\n",
    "from sklearn.model_selection import train_test_split\n",
    "from sklearn.metrics import accuracy_score\n",
    "from sklearn import metrics\n",
    "from sklearn.metrics import roc_curve,roc_auc_score, auc,precision_recall_curve,classification_report, confusion_matrix\n",
    "from sklearn.model_selection import RandomizedSearchCV, cross_val_score\n",
    "from sklearn.ensemble import RandomForestClassifier\n",
    "from sklearn.model_selection import GridSearchCV, validation_curve\n",
    "from sklearn.svm import SVC\n",
    "from sklearn.ensemble import GradientBoostingClassifier\n",
    "\n",
    "#imports for preparing data for sklearn\n",
    "from sklearn.pipeline import Pipeline\n",
    "from sklearn.preprocessing import OneHotEncoder\n",
    "from sklearn. preprocessing import LabelEncoder\n",
    "\n",
    "\n",
    "#some packages for cleaning and wrangling\n",
    "from collections import defaultdict\n",
    "import datetime as dt\n",
    "import re\n",
    "\n"
   ]
  },
  {
   "cell_type": "code",
   "execution_count": 7,
   "metadata": {},
   "outputs": [
    {
     "data": {
      "text/html": [
       "<div>\n",
       "<style scoped>\n",
       "    .dataframe tbody tr th:only-of-type {\n",
       "        vertical-align: middle;\n",
       "    }\n",
       "\n",
       "    .dataframe tbody tr th {\n",
       "        vertical-align: top;\n",
       "    }\n",
       "\n",
       "    .dataframe thead th {\n",
       "        text-align: right;\n",
       "    }\n",
       "</style>\n",
       "<table border=\"1\" class=\"dataframe\">\n",
       "  <thead>\n",
       "    <tr style=\"text-align: right;\">\n",
       "      <th></th>\n",
       "      <th>time_stamp</th>\n",
       "      <th>user_id</th>\n",
       "      <th>visited</th>\n",
       "    </tr>\n",
       "  </thead>\n",
       "  <tbody>\n",
       "    <tr>\n",
       "      <th>0</th>\n",
       "      <td>2014-04-22 03:53:30</td>\n",
       "      <td>1</td>\n",
       "      <td>1</td>\n",
       "    </tr>\n",
       "    <tr>\n",
       "      <th>1</th>\n",
       "      <td>2013-11-15 03:45:04</td>\n",
       "      <td>2</td>\n",
       "      <td>1</td>\n",
       "    </tr>\n",
       "    <tr>\n",
       "      <th>2</th>\n",
       "      <td>2013-11-29 03:45:04</td>\n",
       "      <td>2</td>\n",
       "      <td>1</td>\n",
       "    </tr>\n",
       "    <tr>\n",
       "      <th>3</th>\n",
       "      <td>2013-12-09 03:45:04</td>\n",
       "      <td>2</td>\n",
       "      <td>1</td>\n",
       "    </tr>\n",
       "    <tr>\n",
       "      <th>4</th>\n",
       "      <td>2013-12-25 03:45:04</td>\n",
       "      <td>2</td>\n",
       "      <td>1</td>\n",
       "    </tr>\n",
       "  </tbody>\n",
       "</table>\n",
       "</div>"
      ],
      "text/plain": [
       "            time_stamp  user_id  visited\n",
       "0  2014-04-22 03:53:30        1        1\n",
       "1  2013-11-15 03:45:04        2        1\n",
       "2  2013-11-29 03:45:04        2        1\n",
       "3  2013-12-09 03:45:04        2        1\n",
       "4  2013-12-25 03:45:04        2        1"
      ]
     },
     "execution_count": 7,
     "metadata": {},
     "output_type": "execute_result"
    }
   ],
   "source": [
    "#read in json to pandas dataframe\n",
    "df_engagement = pd.read_csv('takehome_user_engagement.csv')\n",
    "df_engagement.head(5)"
   ]
  },
  {
   "cell_type": "code",
   "execution_count": 8,
   "metadata": {},
   "outputs": [
    {
     "name": "stdout",
     "output_type": "stream",
     "text": [
      "<class 'pandas.core.frame.DataFrame'>\n",
      "RangeIndex: 207917 entries, 0 to 207916\n",
      "Data columns (total 3 columns):\n",
      "time_stamp    207917 non-null object\n",
      "user_id       207917 non-null int64\n",
      "visited       207917 non-null int64\n",
      "dtypes: int64(2), object(1)\n",
      "memory usage: 4.8+ MB\n"
     ]
    }
   ],
   "source": [
    "df_engagement.info()"
   ]
  },
  {
   "cell_type": "code",
   "execution_count": 9,
   "metadata": {},
   "outputs": [
    {
     "data": {
      "text/html": [
       "<div>\n",
       "<style scoped>\n",
       "    .dataframe tbody tr th:only-of-type {\n",
       "        vertical-align: middle;\n",
       "    }\n",
       "\n",
       "    .dataframe tbody tr th {\n",
       "        vertical-align: top;\n",
       "    }\n",
       "\n",
       "    .dataframe thead th {\n",
       "        text-align: right;\n",
       "    }\n",
       "</style>\n",
       "<table border=\"1\" class=\"dataframe\">\n",
       "  <thead>\n",
       "    <tr style=\"text-align: right;\">\n",
       "      <th></th>\n",
       "      <th>object_id</th>\n",
       "      <th>creation_time</th>\n",
       "      <th>name</th>\n",
       "      <th>email</th>\n",
       "      <th>creation_source</th>\n",
       "      <th>last_session_creation_time</th>\n",
       "      <th>opted_in_to_mailing_list</th>\n",
       "      <th>enabled_for_marketing_drip</th>\n",
       "      <th>org_id</th>\n",
       "      <th>invited_by_user_id</th>\n",
       "    </tr>\n",
       "  </thead>\n",
       "  <tbody>\n",
       "    <tr>\n",
       "      <th>0</th>\n",
       "      <td>1</td>\n",
       "      <td>2014-04-22 03:53:30</td>\n",
       "      <td>Clausen August</td>\n",
       "      <td>AugustCClausen@yahoo.com</td>\n",
       "      <td>GUEST_INVITE</td>\n",
       "      <td>1.398139e+09</td>\n",
       "      <td>1</td>\n",
       "      <td>0</td>\n",
       "      <td>11</td>\n",
       "      <td>10803.0</td>\n",
       "    </tr>\n",
       "    <tr>\n",
       "      <th>1</th>\n",
       "      <td>2</td>\n",
       "      <td>2013-11-15 03:45:04</td>\n",
       "      <td>Poole Matthew</td>\n",
       "      <td>MatthewPoole@gustr.com</td>\n",
       "      <td>ORG_INVITE</td>\n",
       "      <td>1.396238e+09</td>\n",
       "      <td>0</td>\n",
       "      <td>0</td>\n",
       "      <td>1</td>\n",
       "      <td>316.0</td>\n",
       "    </tr>\n",
       "    <tr>\n",
       "      <th>2</th>\n",
       "      <td>3</td>\n",
       "      <td>2013-03-19 23:14:52</td>\n",
       "      <td>Bottrill Mitchell</td>\n",
       "      <td>MitchellBottrill@gustr.com</td>\n",
       "      <td>ORG_INVITE</td>\n",
       "      <td>1.363735e+09</td>\n",
       "      <td>0</td>\n",
       "      <td>0</td>\n",
       "      <td>94</td>\n",
       "      <td>1525.0</td>\n",
       "    </tr>\n",
       "    <tr>\n",
       "      <th>3</th>\n",
       "      <td>4</td>\n",
       "      <td>2013-05-21 08:09:28</td>\n",
       "      <td>Clausen Nicklas</td>\n",
       "      <td>NicklasSClausen@yahoo.com</td>\n",
       "      <td>GUEST_INVITE</td>\n",
       "      <td>1.369210e+09</td>\n",
       "      <td>0</td>\n",
       "      <td>0</td>\n",
       "      <td>1</td>\n",
       "      <td>5151.0</td>\n",
       "    </tr>\n",
       "    <tr>\n",
       "      <th>4</th>\n",
       "      <td>5</td>\n",
       "      <td>2013-01-17 10:14:20</td>\n",
       "      <td>Raw Grace</td>\n",
       "      <td>GraceRaw@yahoo.com</td>\n",
       "      <td>GUEST_INVITE</td>\n",
       "      <td>1.358850e+09</td>\n",
       "      <td>0</td>\n",
       "      <td>0</td>\n",
       "      <td>193</td>\n",
       "      <td>5240.0</td>\n",
       "    </tr>\n",
       "  </tbody>\n",
       "</table>\n",
       "</div>"
      ],
      "text/plain": [
       "   object_id        creation_time               name  \\\n",
       "0          1  2014-04-22 03:53:30     Clausen August   \n",
       "1          2  2013-11-15 03:45:04      Poole Matthew   \n",
       "2          3  2013-03-19 23:14:52  Bottrill Mitchell   \n",
       "3          4  2013-05-21 08:09:28    Clausen Nicklas   \n",
       "4          5  2013-01-17 10:14:20          Raw Grace   \n",
       "\n",
       "                        email creation_source  last_session_creation_time  \\\n",
       "0    AugustCClausen@yahoo.com    GUEST_INVITE                1.398139e+09   \n",
       "1      MatthewPoole@gustr.com      ORG_INVITE                1.396238e+09   \n",
       "2  MitchellBottrill@gustr.com      ORG_INVITE                1.363735e+09   \n",
       "3   NicklasSClausen@yahoo.com    GUEST_INVITE                1.369210e+09   \n",
       "4          GraceRaw@yahoo.com    GUEST_INVITE                1.358850e+09   \n",
       "\n",
       "   opted_in_to_mailing_list  enabled_for_marketing_drip  org_id  \\\n",
       "0                         1                           0      11   \n",
       "1                         0                           0       1   \n",
       "2                         0                           0      94   \n",
       "3                         0                           0       1   \n",
       "4                         0                           0     193   \n",
       "\n",
       "   invited_by_user_id  \n",
       "0             10803.0  \n",
       "1               316.0  \n",
       "2              1525.0  \n",
       "3              5151.0  \n",
       "4              5240.0  "
      ]
     },
     "execution_count": 9,
     "metadata": {},
     "output_type": "execute_result"
    }
   ],
   "source": [
    "#read in json to pandas dataframe\n",
    "df_users = pd.read_csv('takehome_users.csv', encoding='latin1', infer_datetime_format=True)\n",
    "df_users.head()"
   ]
  },
  {
   "cell_type": "code",
   "execution_count": 10,
   "metadata": {},
   "outputs": [
    {
     "name": "stdout",
     "output_type": "stream",
     "text": [
      "<class 'pandas.core.frame.DataFrame'>\n",
      "RangeIndex: 12000 entries, 0 to 11999\n",
      "Data columns (total 10 columns):\n",
      "object_id                     12000 non-null int64\n",
      "creation_time                 12000 non-null object\n",
      "name                          12000 non-null object\n",
      "email                         12000 non-null object\n",
      "creation_source               12000 non-null object\n",
      "last_session_creation_time    8823 non-null float64\n",
      "opted_in_to_mailing_list      12000 non-null int64\n",
      "enabled_for_marketing_drip    12000 non-null int64\n",
      "org_id                        12000 non-null int64\n",
      "invited_by_user_id            6417 non-null float64\n",
      "dtypes: float64(2), int64(4), object(4)\n",
      "memory usage: 937.6+ KB\n"
     ]
    }
   ],
   "source": [
    "df_users.info()"
   ]
  },
  {
   "cell_type": "code",
   "execution_count": 11,
   "metadata": {},
   "outputs": [
    {
     "data": {
      "text/plain": [
       "object_id                     False\n",
       "creation_time                 False\n",
       "name                          False\n",
       "email                         False\n",
       "creation_source               False\n",
       "last_session_creation_time     True\n",
       "opted_in_to_mailing_list      False\n",
       "enabled_for_marketing_drip    False\n",
       "org_id                        False\n",
       "invited_by_user_id             True\n",
       "dtype: bool"
      ]
     },
     "execution_count": 11,
     "metadata": {},
     "output_type": "execute_result"
    }
   ],
   "source": [
    "df_users.isnull().any()"
   ]
  },
  {
   "cell_type": "code",
   "execution_count": 12,
   "metadata": {},
   "outputs": [],
   "source": [
    "#convert creation time to datetime \n",
    "df_users.creation_time = pd.to_datetime(df_users.creation_time)"
   ]
  },
  {
   "cell_type": "markdown",
   "metadata": {},
   "source": [
    "We notice that last session creation time has some missing values. We could disregard these, but we would be losing information in other columns that will be useful. We instead will replace with zero in order to convert from float to datetime. This will create a nonsensical date which should be easily identifiable."
   ]
  },
  {
   "cell_type": "code",
   "execution_count": 13,
   "metadata": {},
   "outputs": [],
   "source": [
    "#fill in missing values\n",
    "df_users.last_session_creation_time = df_users.last_session_creation_time.fillna(0)\n",
    "#note 1970 01 01 is a stand in date for missing values."
   ]
  },
  {
   "cell_type": "code",
   "execution_count": 14,
   "metadata": {},
   "outputs": [],
   "source": [
    "#convert last session login to datetime utc and then to string\n",
    "df_users.last_session_creation_time = [dt.datetime.utcfromtimestamp(i) for i in df_users.last_session_creation_time]"
   ]
  },
  {
   "cell_type": "markdown",
   "metadata": {},
   "source": [
    "# Note: 1970-01-01 will represent missing data for signup ."
   ]
  },
  {
   "cell_type": "code",
   "execution_count": 15,
   "metadata": {},
   "outputs": [
    {
     "data": {
      "text/html": [
       "<div>\n",
       "<style scoped>\n",
       "    .dataframe tbody tr th:only-of-type {\n",
       "        vertical-align: middle;\n",
       "    }\n",
       "\n",
       "    .dataframe tbody tr th {\n",
       "        vertical-align: top;\n",
       "    }\n",
       "\n",
       "    .dataframe thead th {\n",
       "        text-align: right;\n",
       "    }\n",
       "</style>\n",
       "<table border=\"1\" class=\"dataframe\">\n",
       "  <thead>\n",
       "    <tr style=\"text-align: right;\">\n",
       "      <th></th>\n",
       "      <th>object_id</th>\n",
       "      <th>creation_time</th>\n",
       "      <th>name</th>\n",
       "      <th>email</th>\n",
       "      <th>creation_source</th>\n",
       "      <th>last_session_creation_time</th>\n",
       "      <th>opted_in_to_mailing_list</th>\n",
       "      <th>enabled_for_marketing_drip</th>\n",
       "      <th>org_id</th>\n",
       "      <th>invited_by_user_id</th>\n",
       "    </tr>\n",
       "  </thead>\n",
       "  <tbody>\n",
       "    <tr>\n",
       "      <th>0</th>\n",
       "      <td>1</td>\n",
       "      <td>2014-04-22 03:53:30</td>\n",
       "      <td>Clausen August</td>\n",
       "      <td>AugustCClausen@yahoo.com</td>\n",
       "      <td>GUEST_INVITE</td>\n",
       "      <td>2014-04-22 03:53:30</td>\n",
       "      <td>1</td>\n",
       "      <td>0</td>\n",
       "      <td>11</td>\n",
       "      <td>10803.0</td>\n",
       "    </tr>\n",
       "    <tr>\n",
       "      <th>1</th>\n",
       "      <td>2</td>\n",
       "      <td>2013-11-15 03:45:04</td>\n",
       "      <td>Poole Matthew</td>\n",
       "      <td>MatthewPoole@gustr.com</td>\n",
       "      <td>ORG_INVITE</td>\n",
       "      <td>2014-03-31 03:45:04</td>\n",
       "      <td>0</td>\n",
       "      <td>0</td>\n",
       "      <td>1</td>\n",
       "      <td>316.0</td>\n",
       "    </tr>\n",
       "    <tr>\n",
       "      <th>2</th>\n",
       "      <td>3</td>\n",
       "      <td>2013-03-19 23:14:52</td>\n",
       "      <td>Bottrill Mitchell</td>\n",
       "      <td>MitchellBottrill@gustr.com</td>\n",
       "      <td>ORG_INVITE</td>\n",
       "      <td>2013-03-19 23:14:52</td>\n",
       "      <td>0</td>\n",
       "      <td>0</td>\n",
       "      <td>94</td>\n",
       "      <td>1525.0</td>\n",
       "    </tr>\n",
       "    <tr>\n",
       "      <th>3</th>\n",
       "      <td>4</td>\n",
       "      <td>2013-05-21 08:09:28</td>\n",
       "      <td>Clausen Nicklas</td>\n",
       "      <td>NicklasSClausen@yahoo.com</td>\n",
       "      <td>GUEST_INVITE</td>\n",
       "      <td>2013-05-22 08:09:28</td>\n",
       "      <td>0</td>\n",
       "      <td>0</td>\n",
       "      <td>1</td>\n",
       "      <td>5151.0</td>\n",
       "    </tr>\n",
       "    <tr>\n",
       "      <th>4</th>\n",
       "      <td>5</td>\n",
       "      <td>2013-01-17 10:14:20</td>\n",
       "      <td>Raw Grace</td>\n",
       "      <td>GraceRaw@yahoo.com</td>\n",
       "      <td>GUEST_INVITE</td>\n",
       "      <td>2013-01-22 10:14:20</td>\n",
       "      <td>0</td>\n",
       "      <td>0</td>\n",
       "      <td>193</td>\n",
       "      <td>5240.0</td>\n",
       "    </tr>\n",
       "  </tbody>\n",
       "</table>\n",
       "</div>"
      ],
      "text/plain": [
       "   object_id       creation_time               name  \\\n",
       "0          1 2014-04-22 03:53:30     Clausen August   \n",
       "1          2 2013-11-15 03:45:04      Poole Matthew   \n",
       "2          3 2013-03-19 23:14:52  Bottrill Mitchell   \n",
       "3          4 2013-05-21 08:09:28    Clausen Nicklas   \n",
       "4          5 2013-01-17 10:14:20          Raw Grace   \n",
       "\n",
       "                        email creation_source last_session_creation_time  \\\n",
       "0    AugustCClausen@yahoo.com    GUEST_INVITE        2014-04-22 03:53:30   \n",
       "1      MatthewPoole@gustr.com      ORG_INVITE        2014-03-31 03:45:04   \n",
       "2  MitchellBottrill@gustr.com      ORG_INVITE        2013-03-19 23:14:52   \n",
       "3   NicklasSClausen@yahoo.com    GUEST_INVITE        2013-05-22 08:09:28   \n",
       "4          GraceRaw@yahoo.com    GUEST_INVITE        2013-01-22 10:14:20   \n",
       "\n",
       "   opted_in_to_mailing_list  enabled_for_marketing_drip  org_id  \\\n",
       "0                         1                           0      11   \n",
       "1                         0                           0       1   \n",
       "2                         0                           0      94   \n",
       "3                         0                           0       1   \n",
       "4                         0                           0     193   \n",
       "\n",
       "   invited_by_user_id  \n",
       "0             10803.0  \n",
       "1               316.0  \n",
       "2              1525.0  \n",
       "3              5151.0  \n",
       "4              5240.0  "
      ]
     },
     "execution_count": 15,
     "metadata": {},
     "output_type": "execute_result"
    }
   ],
   "source": [
    "df_users.head()"
   ]
  },
  {
   "cell_type": "markdown",
   "metadata": {},
   "source": [
    "## Defining an \"adopted user\" as a user who has logged into the product on three separate days in at least one seven­day period, identify which factors predict future user adoption."
   ]
  },
  {
   "cell_type": "code",
   "execution_count": 16,
   "metadata": {},
   "outputs": [
    {
     "data": {
      "text/html": [
       "<div>\n",
       "<style scoped>\n",
       "    .dataframe tbody tr th:only-of-type {\n",
       "        vertical-align: middle;\n",
       "    }\n",
       "\n",
       "    .dataframe tbody tr th {\n",
       "        vertical-align: top;\n",
       "    }\n",
       "\n",
       "    .dataframe thead th {\n",
       "        text-align: right;\n",
       "    }\n",
       "</style>\n",
       "<table border=\"1\" class=\"dataframe\">\n",
       "  <thead>\n",
       "    <tr style=\"text-align: right;\">\n",
       "      <th></th>\n",
       "      <th>time_stamp</th>\n",
       "      <th>user_id</th>\n",
       "      <th>visited</th>\n",
       "    </tr>\n",
       "  </thead>\n",
       "  <tbody>\n",
       "    <tr>\n",
       "      <th>0</th>\n",
       "      <td>2014-04-22 03:53:30</td>\n",
       "      <td>1</td>\n",
       "      <td>1</td>\n",
       "    </tr>\n",
       "    <tr>\n",
       "      <th>1</th>\n",
       "      <td>2013-11-15 03:45:04</td>\n",
       "      <td>2</td>\n",
       "      <td>1</td>\n",
       "    </tr>\n",
       "    <tr>\n",
       "      <th>2</th>\n",
       "      <td>2013-11-29 03:45:04</td>\n",
       "      <td>2</td>\n",
       "      <td>1</td>\n",
       "    </tr>\n",
       "    <tr>\n",
       "      <th>3</th>\n",
       "      <td>2013-12-09 03:45:04</td>\n",
       "      <td>2</td>\n",
       "      <td>1</td>\n",
       "    </tr>\n",
       "    <tr>\n",
       "      <th>4</th>\n",
       "      <td>2013-12-25 03:45:04</td>\n",
       "      <td>2</td>\n",
       "      <td>1</td>\n",
       "    </tr>\n",
       "  </tbody>\n",
       "</table>\n",
       "</div>"
      ],
      "text/plain": [
       "            time_stamp  user_id  visited\n",
       "0  2014-04-22 03:53:30        1        1\n",
       "1  2013-11-15 03:45:04        2        1\n",
       "2  2013-11-29 03:45:04        2        1\n",
       "3  2013-12-09 03:45:04        2        1\n",
       "4  2013-12-25 03:45:04        2        1"
      ]
     },
     "execution_count": 16,
     "metadata": {},
     "output_type": "execute_result"
    }
   ],
   "source": [
    "df_engagement.head(5)"
   ]
  },
  {
   "cell_type": "code",
   "execution_count": 17,
   "metadata": {},
   "outputs": [
    {
     "data": {
      "text/plain": [
       "time_stamp    False\n",
       "user_id       False\n",
       "visited       False\n",
       "dtype: bool"
      ]
     },
     "execution_count": 17,
     "metadata": {},
     "output_type": "execute_result"
    }
   ],
   "source": [
    "#check for missing data\n",
    "df_engagement.isna().any()"
   ]
  },
  {
   "cell_type": "code",
   "execution_count": 18,
   "metadata": {},
   "outputs": [
    {
     "data": {
      "text/html": [
       "<div>\n",
       "<style scoped>\n",
       "    .dataframe tbody tr th:only-of-type {\n",
       "        vertical-align: middle;\n",
       "    }\n",
       "\n",
       "    .dataframe tbody tr th {\n",
       "        vertical-align: top;\n",
       "    }\n",
       "\n",
       "    .dataframe thead th {\n",
       "        text-align: right;\n",
       "    }\n",
       "</style>\n",
       "<table border=\"1\" class=\"dataframe\">\n",
       "  <thead>\n",
       "    <tr style=\"text-align: right;\">\n",
       "      <th></th>\n",
       "      <th>user_id</th>\n",
       "      <th>visited</th>\n",
       "    </tr>\n",
       "  </thead>\n",
       "  <tbody>\n",
       "    <tr>\n",
       "      <th>count</th>\n",
       "      <td>207917.000000</td>\n",
       "      <td>207917.0</td>\n",
       "    </tr>\n",
       "    <tr>\n",
       "      <th>mean</th>\n",
       "      <td>5913.314197</td>\n",
       "      <td>1.0</td>\n",
       "    </tr>\n",
       "    <tr>\n",
       "      <th>std</th>\n",
       "      <td>3394.941674</td>\n",
       "      <td>0.0</td>\n",
       "    </tr>\n",
       "    <tr>\n",
       "      <th>min</th>\n",
       "      <td>1.000000</td>\n",
       "      <td>1.0</td>\n",
       "    </tr>\n",
       "    <tr>\n",
       "      <th>25%</th>\n",
       "      <td>3087.000000</td>\n",
       "      <td>1.0</td>\n",
       "    </tr>\n",
       "    <tr>\n",
       "      <th>50%</th>\n",
       "      <td>5682.000000</td>\n",
       "      <td>1.0</td>\n",
       "    </tr>\n",
       "    <tr>\n",
       "      <th>75%</th>\n",
       "      <td>8944.000000</td>\n",
       "      <td>1.0</td>\n",
       "    </tr>\n",
       "    <tr>\n",
       "      <th>max</th>\n",
       "      <td>12000.000000</td>\n",
       "      <td>1.0</td>\n",
       "    </tr>\n",
       "  </tbody>\n",
       "</table>\n",
       "</div>"
      ],
      "text/plain": [
       "             user_id   visited\n",
       "count  207917.000000  207917.0\n",
       "mean     5913.314197       1.0\n",
       "std      3394.941674       0.0\n",
       "min         1.000000       1.0\n",
       "25%      3087.000000       1.0\n",
       "50%      5682.000000       1.0\n",
       "75%      8944.000000       1.0\n",
       "max     12000.000000       1.0"
      ]
     },
     "execution_count": 18,
     "metadata": {},
     "output_type": "execute_result"
    }
   ],
   "source": [
    "df_engagement.describe()"
   ]
  },
  {
   "cell_type": "code",
   "execution_count": 19,
   "metadata": {},
   "outputs": [
    {
     "data": {
      "text/html": [
       "<div>\n",
       "<style scoped>\n",
       "    .dataframe tbody tr th:only-of-type {\n",
       "        vertical-align: middle;\n",
       "    }\n",
       "\n",
       "    .dataframe tbody tr th {\n",
       "        vertical-align: top;\n",
       "    }\n",
       "\n",
       "    .dataframe thead th {\n",
       "        text-align: right;\n",
       "    }\n",
       "</style>\n",
       "<table border=\"1\" class=\"dataframe\">\n",
       "  <thead>\n",
       "    <tr style=\"text-align: right;\">\n",
       "      <th></th>\n",
       "      <th>time_stamp</th>\n",
       "      <th>visited</th>\n",
       "    </tr>\n",
       "    <tr>\n",
       "      <th>user_id</th>\n",
       "      <th></th>\n",
       "      <th></th>\n",
       "    </tr>\n",
       "  </thead>\n",
       "  <tbody>\n",
       "    <tr>\n",
       "      <th>1</th>\n",
       "      <td>1</td>\n",
       "      <td>1</td>\n",
       "    </tr>\n",
       "    <tr>\n",
       "      <th>2</th>\n",
       "      <td>14</td>\n",
       "      <td>14</td>\n",
       "    </tr>\n",
       "    <tr>\n",
       "      <th>3</th>\n",
       "      <td>1</td>\n",
       "      <td>1</td>\n",
       "    </tr>\n",
       "    <tr>\n",
       "      <th>4</th>\n",
       "      <td>1</td>\n",
       "      <td>1</td>\n",
       "    </tr>\n",
       "    <tr>\n",
       "      <th>5</th>\n",
       "      <td>1</td>\n",
       "      <td>1</td>\n",
       "    </tr>\n",
       "  </tbody>\n",
       "</table>\n",
       "</div>"
      ],
      "text/plain": [
       "         time_stamp  visited\n",
       "user_id                     \n",
       "1                 1        1\n",
       "2                14       14\n",
       "3                 1        1\n",
       "4                 1        1\n",
       "5                 1        1"
      ]
     },
     "execution_count": 19,
     "metadata": {},
     "output_type": "execute_result"
    }
   ],
   "source": [
    "#count user visits\n",
    "user_id_visits = df_engagement.groupby('user_id').count()\n",
    "user_id_visits.head()"
   ]
  },
  {
   "cell_type": "code",
   "execution_count": 20,
   "metadata": {},
   "outputs": [
    {
     "data": {
      "image/png": "[encoded data removed]",
      "text/plain": [
       "<matplotlib.figure.Figure at 0x7fe72e51a630>"
      ]
     },
     "metadata": {},
     "output_type": "display_data"
    }
   ],
   "source": [
    "#plot user visits\n",
    "plt.hist(user_id_visits.visited, edgecolor='k')\n",
    "plt.xlabel('vistis')\n",
    "plt.ylabel('frequency')\n",
    "plt.title('User_id Freq by Visits')\n",
    "plt.show()\n",
    "sns.set()#set style"
   ]
  },
  {
   "cell_type": "code",
   "execution_count": 21,
   "metadata": {},
   "outputs": [
    {
     "data": {
      "text/plain": [
       "count    8823.000000\n",
       "mean       23.565341\n",
       "std        73.988152\n",
       "min         1.000000\n",
       "25%         1.000000\n",
       "50%         1.000000\n",
       "75%         3.000000\n",
       "max       606.000000\n",
       "Name: visited, dtype: float64"
      ]
     },
     "execution_count": 21,
     "metadata": {},
     "output_type": "execute_result"
    }
   ],
   "source": [
    "user_id_visits.visited.describe()"
   ]
  },
  {
   "cell_type": "code",
   "execution_count": 22,
   "metadata": {},
   "outputs": [],
   "source": [
    "#convert time_stamp column from object to datetime object\n",
    "df_engagement.time_stamp= pd.to_datetime(df_engagement.time_stamp)"
   ]
  },
  {
   "cell_type": "markdown",
   "metadata": {},
   "source": [
    "Check if any dates are duplicated. Only worried about logins on the same day, so we will convert the datetime to string date and remove duplicates and/or user_id logged in multiple times one one day. "
   ]
  },
  {
   "cell_type": "code",
   "execution_count": 23,
   "metadata": {},
   "outputs": [],
   "source": [
    "#convert last session login to datetime utc and then to string \n",
    "df_engagement['date'] = [i.strftime('%Y-%m-%d') for i in df_engagement.time_stamp]"
   ]
  },
  {
   "cell_type": "code",
   "execution_count": 24,
   "metadata": {},
   "outputs": [],
   "source": [
    "gp_date_duplicates_check = df_engagement.groupby('user_id').apply(lambda x : x.duplicated(subset='date').any())"
   ]
  },
  {
   "cell_type": "code",
   "execution_count": 25,
   "metadata": {},
   "outputs": [
    {
     "data": {
      "text/plain": [
       "False"
      ]
     },
     "execution_count": 25,
     "metadata": {},
     "output_type": "execute_result"
    }
   ],
   "source": [
    "gp_date_duplicates_check.any() "
   ]
  },
  {
   "cell_type": "markdown",
   "metadata": {},
   "source": [
    "No one logged in multiple times during one day, and there are no duplicates date entries per user_id. Next we will find adopted users by checking for more than 3 logins per a 7 day window. "
   ]
  },
  {
   "cell_type": "code",
   "execution_count": 26,
   "metadata": {},
   "outputs": [],
   "source": [
    "df_engagement  = df_engagement.set_index('time_stamp')"
   ]
  },
  {
   "cell_type": "code",
   "execution_count": 27,
   "metadata": {},
   "outputs": [
    {
     "data": {
      "text/html": [
       "<div>\n",
       "<style scoped>\n",
       "    .dataframe tbody tr th:only-of-type {\n",
       "        vertical-align: middle;\n",
       "    }\n",
       "\n",
       "    .dataframe tbody tr th {\n",
       "        vertical-align: top;\n",
       "    }\n",
       "\n",
       "    .dataframe thead th {\n",
       "        text-align: right;\n",
       "    }\n",
       "</style>\n",
       "<table border=\"1\" class=\"dataframe\">\n",
       "  <thead>\n",
       "    <tr style=\"text-align: right;\">\n",
       "      <th></th>\n",
       "      <th>user_id</th>\n",
       "      <th>visited</th>\n",
       "      <th>date</th>\n",
       "    </tr>\n",
       "    <tr>\n",
       "      <th>time_stamp</th>\n",
       "      <th></th>\n",
       "      <th></th>\n",
       "      <th></th>\n",
       "    </tr>\n",
       "  </thead>\n",
       "  <tbody>\n",
       "    <tr>\n",
       "      <th>2014-04-22 03:53:30</th>\n",
       "      <td>1</td>\n",
       "      <td>1</td>\n",
       "      <td>2014-04-22</td>\n",
       "    </tr>\n",
       "    <tr>\n",
       "      <th>2013-11-15 03:45:04</th>\n",
       "      <td>2</td>\n",
       "      <td>1</td>\n",
       "      <td>2013-11-15</td>\n",
       "    </tr>\n",
       "    <tr>\n",
       "      <th>2013-11-29 03:45:04</th>\n",
       "      <td>2</td>\n",
       "      <td>1</td>\n",
       "      <td>2013-11-29</td>\n",
       "    </tr>\n",
       "    <tr>\n",
       "      <th>2013-12-09 03:45:04</th>\n",
       "      <td>2</td>\n",
       "      <td>1</td>\n",
       "      <td>2013-12-09</td>\n",
       "    </tr>\n",
       "    <tr>\n",
       "      <th>2013-12-25 03:45:04</th>\n",
       "      <td>2</td>\n",
       "      <td>1</td>\n",
       "      <td>2013-12-25</td>\n",
       "    </tr>\n",
       "  </tbody>\n",
       "</table>\n",
       "</div>"
      ],
      "text/plain": [
       "                     user_id  visited        date\n",
       "time_stamp                                       \n",
       "2014-04-22 03:53:30        1        1  2014-04-22\n",
       "2013-11-15 03:45:04        2        1  2013-11-15\n",
       "2013-11-29 03:45:04        2        1  2013-11-29\n",
       "2013-12-09 03:45:04        2        1  2013-12-09\n",
       "2013-12-25 03:45:04        2        1  2013-12-25"
      ]
     },
     "execution_count": 27,
     "metadata": {},
     "output_type": "execute_result"
    }
   ],
   "source": [
    "df_engagement.head()"
   ]
  },
  {
   "cell_type": "code",
   "execution_count": 28,
   "metadata": {},
   "outputs": [
    {
     "data": {
      "text/html": [
       "<div>\n",
       "<style scoped>\n",
       "    .dataframe tbody tr th:only-of-type {\n",
       "        vertical-align: middle;\n",
       "    }\n",
       "\n",
       "    .dataframe tbody tr th {\n",
       "        vertical-align: top;\n",
       "    }\n",
       "\n",
       "    .dataframe thead th {\n",
       "        text-align: right;\n",
       "    }\n",
       "</style>\n",
       "<table border=\"1\" class=\"dataframe\">\n",
       "  <thead>\n",
       "    <tr style=\"text-align: right;\">\n",
       "      <th></th>\n",
       "      <th></th>\n",
       "      <th>user_id</th>\n",
       "      <th>visited</th>\n",
       "      <th>date</th>\n",
       "    </tr>\n",
       "    <tr>\n",
       "      <th>user_id</th>\n",
       "      <th>time_stamp</th>\n",
       "      <th></th>\n",
       "      <th></th>\n",
       "      <th></th>\n",
       "    </tr>\n",
       "  </thead>\n",
       "  <tbody>\n",
       "    <tr>\n",
       "      <th>1</th>\n",
       "      <th>2014-04-22 03:53:30</th>\n",
       "      <td>1.0</td>\n",
       "      <td>1.0</td>\n",
       "      <td>2014-04-22</td>\n",
       "    </tr>\n",
       "    <tr>\n",
       "      <th rowspan=\"4\" valign=\"top\">2</th>\n",
       "      <th>2013-11-15 03:45:04</th>\n",
       "      <td>1.0</td>\n",
       "      <td>1.0</td>\n",
       "      <td>2013-11-15</td>\n",
       "    </tr>\n",
       "    <tr>\n",
       "      <th>2013-11-29 03:45:04</th>\n",
       "      <td>1.0</td>\n",
       "      <td>1.0</td>\n",
       "      <td>2013-11-29</td>\n",
       "    </tr>\n",
       "    <tr>\n",
       "      <th>2013-12-09 03:45:04</th>\n",
       "      <td>1.0</td>\n",
       "      <td>1.0</td>\n",
       "      <td>2013-12-09</td>\n",
       "    </tr>\n",
       "    <tr>\n",
       "      <th>2013-12-25 03:45:04</th>\n",
       "      <td>1.0</td>\n",
       "      <td>1.0</td>\n",
       "      <td>2013-12-25</td>\n",
       "    </tr>\n",
       "  </tbody>\n",
       "</table>\n",
       "</div>"
      ],
      "text/plain": [
       "                             user_id  visited        date\n",
       "user_id time_stamp                                       \n",
       "1       2014-04-22 03:53:30      1.0      1.0  2014-04-22\n",
       "2       2013-11-15 03:45:04      1.0      1.0  2013-11-15\n",
       "        2013-11-29 03:45:04      1.0      1.0  2013-11-29\n",
       "        2013-12-09 03:45:04      1.0      1.0  2013-12-09\n",
       "        2013-12-25 03:45:04      1.0      1.0  2013-12-25"
      ]
     },
     "execution_count": 28,
     "metadata": {},
     "output_type": "execute_result"
    }
   ],
   "source": [
    "gp_7d_count = df_engagement.groupby('user_id').rolling('7d',1).count()\n",
    "gp_7d_count.head()"
   ]
  },
  {
   "cell_type": "code",
   "execution_count": 29,
   "metadata": {},
   "outputs": [
    {
     "data": {
      "text/html": [
       "<div>\n",
       "<style scoped>\n",
       "    .dataframe tbody tr th:only-of-type {\n",
       "        vertical-align: middle;\n",
       "    }\n",
       "\n",
       "    .dataframe tbody tr th {\n",
       "        vertical-align: top;\n",
       "    }\n",
       "\n",
       "    .dataframe thead th {\n",
       "        text-align: right;\n",
       "    }\n",
       "</style>\n",
       "<table border=\"1\" class=\"dataframe\">\n",
       "  <thead>\n",
       "    <tr style=\"text-align: right;\">\n",
       "      <th></th>\n",
       "      <th></th>\n",
       "      <th>user_id</th>\n",
       "      <th>visited</th>\n",
       "      <th>date</th>\n",
       "    </tr>\n",
       "    <tr>\n",
       "      <th>user_id</th>\n",
       "      <th>time_stamp</th>\n",
       "      <th></th>\n",
       "      <th></th>\n",
       "      <th></th>\n",
       "    </tr>\n",
       "  </thead>\n",
       "  <tbody>\n",
       "    <tr>\n",
       "      <th rowspan=\"2\" valign=\"top\">2</th>\n",
       "      <th>2014-02-09 03:45:04</th>\n",
       "      <td>3.0</td>\n",
       "      <td>3.0</td>\n",
       "      <td>2014-02-09</td>\n",
       "    </tr>\n",
       "    <tr>\n",
       "      <th>2014-02-13 03:45:04</th>\n",
       "      <td>3.0</td>\n",
       "      <td>3.0</td>\n",
       "      <td>2014-02-13</td>\n",
       "    </tr>\n",
       "    <tr>\n",
       "      <th rowspan=\"3\" valign=\"top\">10</th>\n",
       "      <th>2013-02-19 22:08:03</th>\n",
       "      <td>3.0</td>\n",
       "      <td>3.0</td>\n",
       "      <td>2013-02-19</td>\n",
       "    </tr>\n",
       "    <tr>\n",
       "      <th>2013-03-02 22:08:03</th>\n",
       "      <td>3.0</td>\n",
       "      <td>3.0</td>\n",
       "      <td>2013-03-02</td>\n",
       "    </tr>\n",
       "    <tr>\n",
       "      <th>2013-03-05 22:08:03</th>\n",
       "      <td>3.0</td>\n",
       "      <td>3.0</td>\n",
       "      <td>2013-03-05</td>\n",
       "    </tr>\n",
       "  </tbody>\n",
       "</table>\n",
       "</div>"
      ],
      "text/plain": [
       "                             user_id  visited        date\n",
       "user_id time_stamp                                       \n",
       "2       2014-02-09 03:45:04      3.0      3.0  2014-02-09\n",
       "        2014-02-13 03:45:04      3.0      3.0  2014-02-13\n",
       "10      2013-02-19 22:08:03      3.0      3.0  2013-02-19\n",
       "        2013-03-02 22:08:03      3.0      3.0  2013-03-02\n",
       "        2013-03-05 22:08:03      3.0      3.0  2013-03-05"
      ]
     },
     "execution_count": 29,
     "metadata": {},
     "output_type": "execute_result"
    }
   ],
   "source": [
    "gp_7d_window_3 = gp_7d_count[gp_7d_count['visited']>=3]\n",
    "gp_7d_window_3.head()"
   ]
  },
  {
   "cell_type": "code",
   "execution_count": null,
   "metadata": {},
   "outputs": [
    {
     "name": "stderr",
     "output_type": "stream",
     "text": [
      " 47%|████▋     | 75642/160522 [00:11<00:12, 6828.44it/s]"
     ]
    }
   ],
   "source": [
    "#find all users active with 7 day window\n",
    "week_window=[]\n",
    "for i in tqdm ( range( len( gp_7d_window_3) ) ):\n",
    "    if gp_7d_window_3.iloc[i].name[0] not in week_window:\n",
    "        week_window.append(gp_7d_window_3.iloc[i].name[0])"
   ]
  },
  {
   "cell_type": "code",
   "execution_count": null,
   "metadata": {},
   "outputs": [],
   "source": [
    "#check list\n",
    "week_window[:10]"
   ]
  },
  {
   "cell_type": "code",
   "execution_count": null,
   "metadata": {},
   "outputs": [],
   "source": [
    "df_engagement = df_engagement.reset_index()"
   ]
  },
  {
   "cell_type": "markdown",
   "metadata": {},
   "source": [
    "# Target Label Assignment"
   ]
  },
  {
   "cell_type": "code",
   "execution_count": null,
   "metadata": {},
   "outputs": [],
   "source": [
    "# assign label for adopted users\n",
    "for i in week_window:\n",
    "    df_engagement.loc[i,'adopted']=1"
   ]
  },
  {
   "cell_type": "code",
   "execution_count": null,
   "metadata": {},
   "outputs": [],
   "source": [
    "#fill zero for non-adopted users\n",
    "df_engagement['adopted'].fillna(0, inplace=True)"
   ]
  },
  {
   "cell_type": "code",
   "execution_count": null,
   "metadata": {},
   "outputs": [],
   "source": [
    "df_engagement.head()"
   ]
  },
  {
   "cell_type": "code",
   "execution_count": null,
   "metadata": {},
   "outputs": [],
   "source": [
    "#calculate percent of engagement from adopted users\n",
    "(df_engagement.adopted.sum()/df_engagement.adopted.count())*100"
   ]
  },
  {
   "cell_type": "code",
   "execution_count": null,
   "metadata": {},
   "outputs": [],
   "source": [
    "#assign user dataframe labels for adopted users\n",
    "for i in week_window:\n",
    "    df_users.loc[i,'adopted']=1"
   ]
  },
  {
   "cell_type": "code",
   "execution_count": null,
   "metadata": {},
   "outputs": [],
   "source": [
    "#fill non-adopted users with zeto\n",
    "df_users['adopted'].fillna(0, inplace=True)"
   ]
  },
  {
   "cell_type": "code",
   "execution_count": null,
   "metadata": {},
   "outputs": [],
   "source": [
    "df_users = df_users.set_index('object_id')"
   ]
  },
  {
   "cell_type": "code",
   "execution_count": null,
   "metadata": {},
   "outputs": [],
   "source": [
    "df_users.head()"
   ]
  },
  {
   "cell_type": "code",
   "execution_count": null,
   "metadata": {},
   "outputs": [],
   "source": [
    "df_users.adopted.value_counts()"
   ]
  },
  {
   "cell_type": "code",
   "execution_count": null,
   "metadata": {},
   "outputs": [],
   "source": [
    "df_users.adopted.describe()"
   ]
  },
  {
   "cell_type": "markdown",
   "metadata": {},
   "source": [
    "The postive class is extremely small. We will need to address this in modeling and metric evaluation. \n",
    "\n",
    "# EDA\n",
    "\n",
    "There are not to many features so we will look at each."
   ]
  },
  {
   "cell_type": "code",
   "execution_count": null,
   "metadata": {},
   "outputs": [],
   "source": [
    "\n",
    "bar_y = [(df_users.adopted.count()-df_users.adopted.sum()),df_users.adopted.sum()]\n",
    "bar_x = [0,1]\n",
    "plt.bar(bar_x, bar_y)\n",
    "x_labels=['Non-Adopted Users','Adopted Users']\n",
    "plt.xticks(bar_x, x_labels)\n",
    "\n",
    "#plt.xticks(x_labels,rotation=45)\n",
    "#plt.xticks('O/Non-Adopted and 1/Adopted')\n",
    "plt.ylabel('Counts')\n",
    "plt.title('User Adoption')\n",
    "\n",
    "plt.savefig('adopted.png')\n",
    "plt.show()"
   ]
  },
  {
   "cell_type": "code",
   "execution_count": null,
   "metadata": {},
   "outputs": [],
   "source": [
    "#looking at first datetime feature\n",
    "df_users_signup= df_users[['creation_time','adopted']]"
   ]
  },
  {
   "cell_type": "code",
   "execution_count": null,
   "metadata": {},
   "outputs": [],
   "source": [
    "#a function break out time information to columns\n",
    "def make_columns( df, column ):\n",
    "    \"\"\"news_df is pandas dataframe from csv for twitter account\n",
    "    tweet_from is name of twitter accout\n",
    "    ml_df is the dataframe for doing machine learning in a tidy format\"\"\"\n",
    "\n",
    "    df['yr'] = [r.year for r in df[column] ]\n",
    "    df['moy'] = [r.strftime('%b') for r in df[column] ]\n",
    "    df['dow'] = [r.strftime('%a') for r in df[column] ] #zero is Monday\n",
    "    df['hod'] = [r.hour for r in df[column] ]\n",
    "    df['moh'] = [r.minute for r in df[column] ]\n",
    "    df['day'] = [r.day for r in df[column] ]\n",
    "    df['woy'] = [r.weekofyear for r in df[column] ] #starts at 1 not zero\n",
    "    df['week'] = [r.week for r in df[column] ]\n",
    "    df['doy'] = [r.dayofyear for r in df[column] ] #starts at 1 not zero\n",
    "    "
   ]
  },
  {
   "cell_type": "code",
   "execution_count": null,
   "metadata": {},
   "outputs": [],
   "source": [
    "#call function to extract time information to plot\n",
    "make_columns(df_users_signup,'creation_time' )\n",
    "df_users_signup.head()"
   ]
  },
  {
   "cell_type": "code",
   "execution_count": null,
   "metadata": {},
   "outputs": [],
   "source": [
    "#change data to cat for plotting\n",
    "#want days and month in order\n",
    "#set label names\n",
    "days = [ 'Mon', 'Tue', 'Wed', 'Thu', 'Fri', 'Sat', 'Sun'] \n",
    "months = [ 'Jan', 'Feb', 'Mar', 'Apr','May',\"Jun\",'Jul','Aug','Sept','Oct','Nov','Dec'] #,'May', 'Jun', 'Jul','Aug','Sep','Oct','Nov','Dec']\n",
    "\n",
    "#get days in order for \n",
    "cat_type = CategoricalDtype(categories=days, ordered=True) #convert to categories to sort\n",
    "df_users_signup['dow'] = df_users_signup['dow'].astype(cat_type) #relabel values in column\n",
    "\n",
    "#get months in order (same as above)\n",
    "cat_type = CategoricalDtype(categories=months, ordered=True)\n",
    "df_users_signup['moy'] = df_users_signup['moy'].astype(cat_type)\n",
    "\n"
   ]
  },
  {
   "cell_type": "code",
   "execution_count": null,
   "metadata": {},
   "outputs": [],
   "source": [
    "#group by day of year and adoption of year counts\n",
    "gp_yr_m = df_users_signup.groupby(  [\"yr\",'adopted'] ).count()\n",
    "#check\n",
    "gp_yr_m.head()"
   ]
  },
  {
   "cell_type": "code",
   "execution_count": null,
   "metadata": {},
   "outputs": [],
   "source": [
    "my_colors= ['#90A743','#6FDA86']\n",
    "\n",
    "#plot year with stacked month break out\n",
    "gp_yr_m.creation_time.unstack().plot(kind='bar', stacked=False)\n",
    "plt.title(\"Year Trend\")\n",
    "plt.ylabel(\"Count\")\n",
    "plt.xlabel('Year')\n",
    "plt.legend(loc='upper center', bbox_to_anchor=(1.2,1),\n",
    "          fancybox=True, shadow=True, ncol=1,title='Adopted Users')\n",
    "plt.savefig('gp_yr_trend_signup.png')\n",
    "plt.show()"
   ]
  },
  {
   "cell_type": "code",
   "execution_count": null,
   "metadata": {},
   "outputs": [],
   "source": [
    "#group by day of year, month, and day of week\n",
    "moy_gp = df_users_signup.groupby(  ['yr',\"moy\", 'dow'] ).count()\n",
    "#check\n",
    "moy_gp.head()"
   ]
  },
  {
   "cell_type": "code",
   "execution_count": null,
   "metadata": {},
   "outputs": [],
   "source": [
    "day_colors= ['#8c510a','#d8b365','#dfc27d','#f6e8c3','#c7eae5','#5ab4ac', '#01665e']\n",
    "\n",
    "#plot day of week with stacked month year break out\n",
    "moy_gp.creation_time.unstack().plot(kind='bar', stacked=True, color=day_colors)\n",
    "plt.title(\"Month of Year Trend\")\n",
    "plt.ylabel(\"count of logins\")\n",
    "plt.xlabel('Month')\n",
    "\n",
    "plt.tight_layout()\n",
    "#move legend outside \n",
    "plt.legend(loc='upper center', bbox_to_anchor=(1.2,1),\n",
    "          fancybox=True, shadow=True, ncol=1, title='Adopted Users')\n",
    "\n",
    "sns.set()#set style\n",
    "plt.savefig('mow_trend_signup.png')\n",
    "plt.show()"
   ]
  },
  {
   "cell_type": "code",
   "execution_count": null,
   "metadata": {},
   "outputs": [],
   "source": [
    "#group by day of year, month, and adoption\n",
    "gp_yr_moy = df_users_signup.groupby(  ['yr',\"moy\",'adopted'] ).count()\n",
    "#check\n",
    "gp_yr_moy.head()"
   ]
  },
  {
   "cell_type": "code",
   "execution_count": null,
   "metadata": {},
   "outputs": [],
   "source": [
    "day_colors= ['#8c510a','#d8b365','#dfc27d','#f6e8c3','#c7eae5','#5ab4ac', '#01665e']\n",
    "\n",
    "#plot adoption stacked month year break out\n",
    "gp_yr_moy.creation_time.unstack().plot(kind='bar', stacked=True, color=day_colors)\n",
    "plt.title(\"Month of Year Trend\")\n",
    "plt.ylabel(\"count of logins\")\n",
    "plt.xlabel('Month')\n",
    "\n",
    "plt.tight_layout()\n",
    "#move legend outside \n",
    "plt.legend(loc='upper center', bbox_to_anchor=(1.2,1),\n",
    "          fancybox=True, shadow=True, ncol=1, title='Adopted Users')\n",
    "\n",
    "plt.savefig('yr_m_adopted_trend_signup.png')\n",
    "plt.show()"
   ]
  },
  {
   "cell_type": "markdown",
   "metadata": {},
   "source": [
    "We see some data issues here. We should look deeper into what is going on in September. Is there a collection issue? Was the system down? etc. We should also look into the spike in may 2014. Is it real? Is there a bug?\n",
    "\n",
    "For now we will move onto other features.\n"
   ]
  },
  {
   "cell_type": "code",
   "execution_count": null,
   "metadata": {},
   "outputs": [],
   "source": [
    "#group by source and adaption\n",
    "gp_adopted= df_users.groupby(  ['creation_source','adopted'] ).count()"
   ]
  },
  {
   "cell_type": "code",
   "execution_count": null,
   "metadata": {},
   "outputs": [],
   "source": [
    "\n",
    "#plot day of week with stacked month break out\n",
    "gp_adopted.creation_time.unstack().plot(kind='bar', stacked=False)\n",
    "plt.title(\"Creation Source\")\n",
    "plt.ylabel(\"Count of Creations\")\n",
    "plt.xlabel('Type')\n",
    "plt.legend(loc='upper center', bbox_to_anchor=(1.2,1),\n",
    "          fancybox=True, shadow=True, ncol=1,title='Adapted Users')\n",
    "\n",
    "plt.show()"
   ]
  },
  {
   "cell_type": "markdown",
   "metadata": {},
   "source": [
    "Next feature"
   ]
  },
  {
   "cell_type": "code",
   "execution_count": null,
   "metadata": {},
   "outputs": [],
   "source": [
    "#move time and target to separte dataframe to pull out date information\n",
    "df_last_session= df_users[['last_session_creation_time','adopted']]"
   ]
  },
  {
   "cell_type": "code",
   "execution_count": null,
   "metadata": {},
   "outputs": [],
   "source": [
    "#break out time data to columns\n",
    "make_columns(df_last_session,'last_session_creation_time' )\n",
    "df_last_session.head()"
   ]
  },
  {
   "cell_type": "code",
   "execution_count": null,
   "metadata": {},
   "outputs": [],
   "source": [
    "#change data to cat for plotting\n",
    "#want days and month in order\n",
    "#set label names\n",
    "days = [ 'Mon', 'Tue', 'Wed', 'Thu', 'Fri', 'Sat', 'Sun'] \n",
    "months = [ 'Jan', 'Feb', 'Mar', 'Apr','May',\"Jun\",'Jul','Aug','Sept','Oct','Nov','Dec'] #,'May', 'Jun', 'Jul','Aug','Sep','Oct','Nov','Dec']\n",
    "\n",
    "#get days in order for \n",
    "cat_type = CategoricalDtype(categories=days, ordered=True) #convert to categories to sort\n",
    "df_last_session['dow'] = df_last_session['dow'].astype(cat_type) #relabel values in column\n",
    "\n",
    "#get months in order (same as above)\n",
    "cat_type = CategoricalDtype(categories=months, ordered=True)\n",
    "df_last_session['moy'] = df_last_session['moy'].astype(cat_type)\n",
    "\n",
    "\n",
    "\n"
   ]
  },
  {
   "cell_type": "code",
   "execution_count": null,
   "metadata": {},
   "outputs": [],
   "source": [
    "#group by day of year and adoption\n",
    "gp_yr_m_last_login = df_last_session.groupby(  [\"yr\", 'adopted'] ).count()\n",
    "#check\n",
    "gp_yr_m_last_login.head()"
   ]
  },
  {
   "cell_type": "code",
   "execution_count": null,
   "metadata": {},
   "outputs": [],
   "source": [
    "#plot year trend with adoption bars\n",
    "gp_yr_m_last_login.last_session_creation_time.unstack().plot(kind='bar', stacked=False)\n",
    "plt.title(\"Year Trend\")\n",
    "plt.ylabel(\"Count\")\n",
    "plt.xlabel('Year')\n",
    "plt.legend(loc='upper center', bbox_to_anchor=(1.2,1.),\n",
    "          fancybox=True, shadow=True, ncol=1,title='Adopted Users')\n",
    "sns.set() #set style and save\n",
    "plt.savefig('gp_yr_trend_last_session.png')\n",
    "plt.show()"
   ]
  },
  {
   "cell_type": "markdown",
   "metadata": {},
   "source": [
    "### Recall previous note: 1970 is the unavailable login information"
   ]
  },
  {
   "cell_type": "code",
   "execution_count": null,
   "metadata": {},
   "outputs": [],
   "source": [
    "#group by day of year month and day of week\n",
    "moy_gp_last_login = df_last_session.groupby(  ['yr',\"moy\", 'dow'] ).count()\n",
    "#check\n",
    "moy_gp_last_login.head()"
   ]
  },
  {
   "cell_type": "code",
   "execution_count": null,
   "metadata": {},
   "outputs": [],
   "source": [
    "day_colors= ['#8c510a','#d8b365','#dfc27d','#f6e8c3','#c7eae5','#5ab4ac', '#01665e']\n",
    "\n",
    "#plot day of week with stacked month break out\n",
    "moy_gp_last_login.last_session_creation_time.unstack().plot(kind='bar', stacked=True, color=day_colors)\n",
    "plt.title(\"Month of Year Trend\")\n",
    "plt.ylabel(\"count of logins\")\n",
    "plt.xlabel('Month')\n",
    "\n",
    "plt.tight_layout()\n",
    "#move legend outside \n",
    "plt.legend(loc='upper center', bbox_to_anchor=(1.1,1),\n",
    "          fancybox=True, shadow=True, ncol=1, title='Day of Week')\n",
    "\n",
    "sns.set()#set style\n",
    "\n",
    "plt.show()"
   ]
  },
  {
   "cell_type": "markdown",
   "metadata": {},
   "source": [
    "Removing the 1970 (unavailable login information)"
   ]
  },
  {
   "cell_type": "code",
   "execution_count": null,
   "metadata": {},
   "outputs": [],
   "source": [
    "day_colors= ['#8c510a','#d8b365','#dfc27d','#f6e8c3','#c7eae5','#5ab4ac', '#01665e']\n",
    "\n",
    "#plot day of week with stacked month yeat break out\n",
    "moy_gp_last_login[moy_gp_last_login['last_session_creation_time']<1970].last_session_creation_time.unstack().plot(kind='bar', stacked=True, color=day_colors)\n",
    "plt.title(\"Month of Year Trend\")\n",
    "plt.ylabel(\"count of logins\")\n",
    "plt.xlabel('Month')\n",
    "\n",
    "plt.tight_layout()\n",
    "#move legend outside \n",
    "plt.legend(loc='upper center', bbox_to_anchor=(1.1,1),\n",
    "          fancybox=True, shadow=True, ncol=1, title='Day of Week')\n",
    "\n",
    "sns.set()#set style\n",
    "plt.savefig('mow_trend_last_session.png')\n",
    "plt.show()"
   ]
  },
  {
   "cell_type": "code",
   "execution_count": null,
   "metadata": {},
   "outputs": [],
   "source": [
    "#group by year month and adoption\n",
    "gp_yr_moy_last = df_last_session.groupby(  ['yr',\"moy\",'adopted'] ).count()\n",
    "#check\n",
    "gp_yr_moy_last.head()"
   ]
  },
  {
   "cell_type": "code",
   "execution_count": null,
   "metadata": {},
   "outputs": [],
   "source": [
    "day_colors= ['#8c510a','#d8b365','#dfc27d','#f6e8c3','#c7eae5','#5ab4ac', '#01665e']\n",
    "\n",
    "#plot stacked adoption with year month break out\n",
    "gp_yr_moy_last[gp_yr_moy_last['last_session_creation_time']<1970].last_session_creation_time.unstack().plot(kind='bar', stacked=True, color=day_colors)\n",
    "plt.title(\"Month of Year Trend\")\n",
    "plt.ylabel(\"count of logins\")\n",
    "plt.xlabel('Month')\n",
    "\n",
    "plt.tight_layout()\n",
    "#move legend outside \n",
    "plt.legend(loc='upper center', bbox_to_anchor=(1.2,1),\n",
    "          fancybox=True, shadow=True, ncol=1, title='Adopted Users')\n",
    "\n",
    "sns.set()#set style\n",
    "plt.savefig('mow_trend_last_session_adopted.png')\n",
    "plt.show()"
   ]
  },
  {
   "cell_type": "code",
   "execution_count": null,
   "metadata": {},
   "outputs": [],
   "source": [
    "gp_adopted"
   ]
  },
  {
   "cell_type": "code",
   "execution_count": null,
   "metadata": {},
   "outputs": [],
   "source": [
    "#group by source and adaption\n",
    "gp_adopted= df_users.groupby(  ['opted_in_to_mailing_list','adopted'] ).count()\n",
    "#plot day of week with stacked month break out\n",
    "gp_adopted.creation_time.unstack().plot(kind='bar', stacked=False)\n",
    "plt.title(\"opted_in_to_mailing_list\")\n",
    "plt.ylabel(\"counts\")\n",
    "plt.xlabel('0/no and 1/yes')\n",
    "plt.legend(loc='upper center', bbox_to_anchor=(1.2,1),\n",
    "          fancybox=True, shadow=True, ncol=1,title='Adapted Users')\n",
    "sns.set() #set style and save\n",
    "plt.savefig('mailing_list')\n",
    "plt.show()"
   ]
  },
  {
   "cell_type": "code",
   "execution_count": null,
   "metadata": {},
   "outputs": [],
   "source": [
    "#group by source and adaption\n",
    "gp_drip= df_users.groupby(  ['enabled_for_marketing_drip','adopted'] ).count()\n",
    "#plot day of week with stacked month break out\n",
    "gp_drip.creation_time.unstack().plot(kind='bar', stacked=False)\n",
    "plt.title(\"enabled_for_marketing_drip\")\n",
    "plt.ylabel(\"counts\")\n",
    "plt.xlabel('0/no and 1/yes')\n",
    "plt.legend(loc='upper center', bbox_to_anchor=(1.2,1),\n",
    "          fancybox=True, shadow=True, ncol=1,title='Adapted Users')\n",
    "sns.set() #set style and save\n",
    "plt.savefig('marketing_drip')"
   ]
  },
  {
   "cell_type": "code",
   "execution_count": null,
   "metadata": {},
   "outputs": [],
   "source": [
    "plt.hist(df_users.org_id, bins=100 , edgecolor='k')\n",
    "plt.xticks(rotation=45)\n",
    "plt.xlabel('org_id')\n",
    "plt.ylabel('frequency')\n",
    "plt.title('the organization (group of users) they belong to')\n",
    "plt.show()\n",
    "plt.savefig('org_id.png')"
   ]
  },
  {
   "cell_type": "markdown",
   "metadata": {},
   "source": [
    "The next feature has missing values which we need to deal with. There is no user_id zero. We will use this as a place holder for missing values in reference to this column.\n",
    "\n",
    "# Note: zero in 'invited_by_user_id' represents user_ids missing values. \n",
    "\n",
    "We can assume that this means that the user joined without being invited by someone. However, this could be a collection issue, or a bug. "
   ]
  },
  {
   "cell_type": "code",
   "execution_count": null,
   "metadata": {},
   "outputs": [],
   "source": [
    "#fill nan with zero\n",
    "df_users.invited_by_user_id.fillna(0,inplace=True)"
   ]
  },
  {
   "cell_type": "code",
   "execution_count": null,
   "metadata": {},
   "outputs": [],
   "source": [
    "inviter= df_users[df_users.invited_by_user_id != 0]"
   ]
  },
  {
   "cell_type": "code",
   "execution_count": null,
   "metadata": {},
   "outputs": [],
   "source": [
    "plt.hist(inviter.invited_by_user_id,bins=100, edgecolor='k')\n",
    "#plt.xticks(rotation=45)\n",
    "plt.xlabel('user_id')\n",
    "plt.ylabel('Count of Users invited')\n",
    "plt.title('User_ids who invite others ')\n",
    "plt.show()\n",
    "plt.savefig('invited_by_user_id.png')"
   ]
  },
  {
   "cell_type": "markdown",
   "metadata": {},
   "source": [
    "EDA comments:\n",
    "\n",
    "14% of users have adopted. This represents a small positive class. We will need to deal with this before modeling. "
   ]
  },
  {
   "cell_type": "markdown",
   "metadata": {},
   "source": [
    "# Preprocessing for modeling\n",
    "We will one hot encode some of the categorical columns for features."
   ]
  },
  {
   "cell_type": "code",
   "execution_count": null,
   "metadata": {},
   "outputs": [],
   "source": [
    "#one hot encode for modeling \n",
    "df_model = df_users.join(pd.get_dummies(df_users.creation_source))\n",
    "df_model.head()"
   ]
  },
  {
   "cell_type": "code",
   "execution_count": null,
   "metadata": {},
   "outputs": [],
   "source": [
    "#drop non-essential columns (privacy issues here-do not keep for modeling)\n",
    "df_model = df_model.drop(columns=[\"name\",\"email\"])"
   ]
  },
  {
   "cell_type": "code",
   "execution_count": null,
   "metadata": {},
   "outputs": [],
   "source": [
    "#create list of features for machine learning\n",
    "features = list(df_model.columns)"
   ]
  },
  {
   "cell_type": "code",
   "execution_count": null,
   "metadata": {},
   "outputs": [],
   "source": [
    "features"
   ]
  },
  {
   "cell_type": "code",
   "execution_count": null,
   "metadata": {},
   "outputs": [],
   "source": [
    "#drop columns not for feature training\n",
    "features.remove('creation_time')\n",
    "features.remove('creation_source')\n",
    "features.remove('last_session_creation_time')\n",
    "features.remove('org_id')\n",
    "features.remove('invited_by_user_id')\n",
    "features.remove('adopted')\n",
    "#features.remove('period')"
   ]
  },
  {
   "cell_type": "code",
   "execution_count": null,
   "metadata": {},
   "outputs": [],
   "source": [
    "features"
   ]
  },
  {
   "cell_type": "code",
   "execution_count": null,
   "metadata": {},
   "outputs": [],
   "source": [
    "#separate features from training data\n",
    "x_df = df_model[features]\n",
    "x_df.head()"
   ]
  },
  {
   "cell_type": "code",
   "execution_count": null,
   "metadata": {},
   "outputs": [],
   "source": [
    "#capture labels\n",
    "y_df=df_model['adopted']\n",
    "y_df.head(3)"
   ]
  },
  {
   "cell_type": "code",
   "execution_count": null,
   "metadata": {},
   "outputs": [],
   "source": [
    "# split into training and test sets\n",
    "x_train, x_test, y_train, y_test= train_test_split(x_df,y_df, test_size=.3, random_state=42)"
   ]
  },
  {
   "cell_type": "code",
   "execution_count": null,
   "metadata": {},
   "outputs": [],
   "source": [
    "#see if the training data has the proper balance of riders \n",
    "print ('% adopted users in training set {:2f}'.format(float(y_train.sum())/y_train.size))\n",
    "print ('% adopted users in test set {:2f}'.format(float(y_test.sum())/y_test.size))"
   ]
  },
  {
   "cell_type": "markdown",
   "metadata": {},
   "source": [
    "# Model Selection\n",
    "We picked a Random Forest and a Gradient Boosting model, both do well with imbalanced data and provide easy interpretability. Interpretability is key since we want to be able to understand the factors that predict future user adoption.\n",
    "\n",
    "# Model Evaluation\n",
    "The business problem is to predict which users will adopt. We therefore care more about the postive class of our labels. In model evaluation we will look at the confusion matrix and give special attention to recall as the performance metric to evaluate. \n",
    "\n",
    "The confusion matrix is a table of predicted labels and true labels. This will give us a picture of where are model is making tradeoff between the class labels, since we care mostly about positive labels this will be important. \n",
    "\n",
    "The recall score is a measure of how many relevant items are selected, that is how many positives are caught. ( True Pos / the sum of True Pos and True Neg ) Also called Sensitivity. \n"
   ]
  },
  {
   "cell_type": "code",
   "execution_count": null,
   "metadata": {},
   "outputs": [],
   "source": [
    "#create classifier \n",
    "clf_xg = GradientBoostingClassifier(random_state=42)\n",
    "#fit classifier \n",
    "clf_xg.fit(x_train , y_train)\n",
    "\n",
    "#get the prediction set \n",
    "preds_train_xg = clf_xg.predict(x_train)\n",
    "\n",
    "#make some predictions\n",
    "preds_xg = clf_xg.predict(x_test)\n",
    "\n",
    "\n",
    "#print the accuracy score for the training data\n",
    "training_accuracy_xg = clf_xg.score( x_train , y_train )\n",
    "print(\"Accuracy on training data: {:0.2f}\".format( training_accuracy_xg ) )\n",
    "\n",
    "#print the accuracy score for the test data\n",
    "test_accuracy_xg = clf_xg.score(x_test , y_test)\n",
    "print(\"Accuracy on test data: {:0.2f}\".format( test_accuracy_xg ) )\n",
    "\n",
    "#print training f1 score\n",
    "rscore_train_xg = metrics.recall_score( y_train , preds_train_xg )\n",
    "print(\"Recall Score on train data: {:0.4f}\".format(rscore_train_xg))\n",
    "\n",
    "#print testing f1 score\n",
    "rscore_xg = metrics.recall_score( y_test , preds_xg, pos_label=1 )\n",
    "print(\"Recall Score on validation (test set) data: {:0.4f}\\n\".format( rscore_xg ) )\n",
    "\n",
    "\n",
    "print ( classification_report ( y_test , preds_xg ))"
   ]
  },
  {
   "cell_type": "code",
   "execution_count": null,
   "metadata": {},
   "outputs": [],
   "source": [
    "mat_xg = confusion_matrix( y_test , preds_xg )\n",
    "sns.heatmap(mat_xg.T, square=True, annot=True, fmt='d', cbar=False)\n",
    "plt.xlabel('true label')\n",
    "plt.ylabel('predicted label');\n",
    "plt.title(\"Boost Model Imbalanced\")\n",
    "plt.show()"
   ]
  },
  {
   "cell_type": "markdown",
   "metadata": {},
   "source": [
    "\n",
    "We see that the model is severely impacted by the imbalanced data. The model does not predict any adopted users. The accuracy score is miss leading at 87%. The business need of predicting adopted users is completely lost here.\n",
    "\n",
    "# Addressing the imbalance issue\n",
    "\n",
    "We will considered resampling. Resampling a method by repeated sampling within in desired under represented class.Two techniques basic techniques (there are many advanced options).\n",
    "\n",
    "1. Over-sampling - adding samples from the minority class (positives here). Adding samples (duplicates) from the minority class can led to overfitting.\n",
    "\n",
    "2. Under-sampling - removing samples from the majority class (negatives here). Removing samples from the majority class is information lost and can led to degraded performance.\n",
    "\n",
    "3. SMOTE is a more advanced technique (which was used here)\n",
    "\n",
    "SMOTE ( Synthetic Minority Oversampling Technique) uses a k-nearest neighbor model to create new instances of the minority class. It does this by looping through the class and for each loop creating a new data point (instance) of the minority class between a randomly selected k and its nearest neighbor."
   ]
  },
  {
   "cell_type": "code",
   "execution_count": null,
   "metadata": {},
   "outputs": [],
   "source": [
    "#resample using SMOTE\n",
    "from imblearn.over_sampling import SMOTE\n",
    "sm = SMOTE(random_state=42 , ratio= 1.0)\n",
    "x_train , y_train = sm.fit_sample(x_train, y_train)"
   ]
  },
  {
   "cell_type": "code",
   "execution_count": null,
   "metadata": {},
   "outputs": [],
   "source": [
    "#see if the training data has the proper balance of riders \n",
    "print ('% adopted users in training set {:2f}'.format(float(y_train.sum())/y_train.size))\n",
    "\n"
   ]
  },
  {
   "cell_type": "markdown",
   "metadata": {},
   "source": [
    "The training set is now balanced."
   ]
  },
  {
   "cell_type": "code",
   "execution_count": null,
   "metadata": {},
   "outputs": [],
   "source": [
    "#create classifier\n",
    "clf_xg = GradientBoostingClassifier(random_state=42)\n",
    "#fit classifier \n",
    "clf_xg.fit(x_train , y_train)\n",
    "\n",
    "#get the prediction set \n",
    "preds_train_xg = clf_xg.predict(x_train)\n",
    "\n",
    "#make some predictions\n",
    "preds_xg = clf_xg.predict(x_test)\n",
    "\n",
    "\n",
    "#print the accuracy score for the training data\n",
    "training_accuracy_xg = clf_xg.score( x_train , y_train )\n",
    "print(\"Accuracy on training data: {:0.2f}\".format( training_accuracy_xg ) )\n",
    "\n",
    "#print the accuracy score for the test data\n",
    "test_accuracy_xg = clf_xg.score(x_test , y_test)\n",
    "print(\"Accuracy on test data: {:0.2f}\".format( test_accuracy_xg ) )\n",
    "\n",
    "#print training f1 score\n",
    "rscore_train_xg = metrics.recall_score( y_train , preds_train_xg )\n",
    "print(\"Recall Score on train data: {:0.4f}\".format(rscore_train_xg))\n",
    "\n",
    "#print testing f1 score\n",
    "rscore_xg = metrics.recall_score( y_test , preds_xg, pos_label=1 )\n",
    "print(\"Recall Score on validation (test set) data: {:0.4f}\\n\".format( rscore_xg ) )\n",
    "\n",
    "\n",
    "print ( classification_report ( y_test , preds_xg ))"
   ]
  },
  {
   "cell_type": "code",
   "execution_count": null,
   "metadata": {},
   "outputs": [],
   "source": [
    "mat_xg = confusion_matrix( y_test , preds_xg )\n",
    "sns.heatmap(mat_xg.T, square=True, annot=True, fmt='d', cbar=False)\n",
    "plt.xlabel('true label')\n",
    "plt.ylabel('predicted label');\n",
    "plt.title(\"Boost Model Balanced\")\n",
    "plt.show()"
   ]
  },
  {
   "cell_type": "markdown",
   "metadata": {},
   "source": [
    "Notice the marked improvement. We are now actually predicting for the positive class. Before we had zero predicted positive labels so we missed all 454 adopted users. Here we predicted 178 adopted users correctly out of 454 an improvement of 39%. We see this in the recall score. \n",
    "\n",
    "# Lets try a Random Forest"
   ]
  },
  {
   "cell_type": "code",
   "execution_count": null,
   "metadata": {},
   "outputs": [],
   "source": [
    "#create classifier \n",
    "clf_rf=RandomForestClassifier(random_state=42)\n",
    "#fit classifier to training set\n",
    "clf_rf.fit(x_train , y_train)\n",
    "\n",
    "#get the prediction set \n",
    "preds_train_rf = clf_rf.predict(x_train)\n",
    "\n",
    "#make some predictions\n",
    "preds_rf = clf_rf.predict(x_test)\n",
    "\n",
    "\n",
    "#print the accuracy score for the training data\n",
    "training_accuracy_rf = clf_rf.score( x_train , y_train )\n",
    "print(\"Accuracy on training data: {:0.2f}\".format( training_accuracy_rf ) )\n",
    "\n",
    "#print the accuracy score for the test data\n",
    "test_accuracy_rf = clf_rf.score(x_test , y_test)\n",
    "print(\"Accuracy on test data: {:0.2f}\".format( test_accuracy_rf ) )\n",
    "\n",
    "#print training f1 score\n",
    "rscore_train_rf = metrics.recall_score( y_train , preds_train_rf )\n",
    "print(\"Recall Score on train data: {:0.4f}\".format(rscore_train_rf))\n",
    "\n",
    "#print testing f1 score\n",
    "rscore_rf = metrics.recall_score( y_test , preds_rf , pos_label=1 )\n",
    "print(\"Recall Score on validation (train-test set) data: {:0.4f}\\n\".format( rscore_rf ) )\n",
    "\n",
    "\n",
    "print ( classification_report ( y_test , preds_rf ))"
   ]
  },
  {
   "cell_type": "code",
   "execution_count": null,
   "metadata": {},
   "outputs": [],
   "source": [
    "mat_rf = confusion_matrix( y_test , preds_rf )\n",
    "sns.heatmap(mat_rf.T, square=True, annot=True, fmt='d', cbar=False)\n",
    "plt.xlabel('true label')\n",
    "plt.ylabel('predicted label');\n",
    "plt.title('Random Forest Balanced')\n",
    "plt.show()"
   ]
  },
  {
   "cell_type": "markdown",
   "metadata": {},
   "source": [
    "The Boost Model is slightly better by 178 compared to 174 predicted true labels. The recall scores are 39% to 38% in favor of boosting. \n"
   ]
  },
  {
   "cell_type": "code",
   "execution_count": null,
   "metadata": {},
   "outputs": [],
   "source": [
    "#dictionary to hold scores from models\n",
    "plot_model={ \"Boost\" :rscore_xg,'RF':rscore_rf }\n",
    "\n",
    "#make an instance for plotting figures\n",
    "fig, ax = plt.subplots()\n",
    "\n",
    "#set parameters for bar chart\n",
    "N = 2\n",
    "ind = np.arange(N)  # the x locations for the groups\n",
    "width = 0.35       # the width of the bars\n",
    "\n",
    "#plot bar for chart\n",
    "rects1 = ax.bar(ind, plot_model.values(), color= ['sandybrown','peachpuff','khaki'])\n",
    "\n",
    "#define a function to add bar chart labels to bars (straight from matplotlib docs)\n",
    "def autolabel(rects):\n",
    "    \"\"\"\n",
    "    Attach a text label above each bar displaying its height\n",
    "    \"\"\"\n",
    "    for rect in rects:\n",
    "        height = rect.get_height()\n",
    "        ax.text(rect.get_x() + rect.get_width()/2., 1.05*float(height),'%.4f' % float(height),ha='center', va='bottom')\n",
    "        \n",
    "#call function to add bar char labels to bars\n",
    "autolabel(rects1)\n",
    "\n",
    "\n",
    "# add some text for axes ticks\n",
    "ax.set_xticks(ind)\n",
    "ax.set_xticklabels(plot_model.keys())\n",
    "\n",
    "ax.legend()\n",
    "\n",
    "#add label and title\n",
    "plt.title(\"Comparison of the different models\",y = 1.08)\n",
    "plt.xlabel(\"Models\")\n",
    "plt.ylabel(\"Recall Score\")\n",
    "#save figure for papers\n",
    "plt.tight_layout()\n",
    "plt.savefig('models_rscore.png')\n",
    "#show figure in notebook\n",
    "plt.show()\n",
    "\n",
    "\n",
    "\n"
   ]
  },
  {
   "cell_type": "markdown",
   "metadata": {},
   "source": [
    "The Boosted Tree Model did slightly better. Lets work with that model to see if we can improve it the recall score by tuning for it. "
   ]
  },
  {
   "cell_type": "code",
   "execution_count": null,
   "metadata": {},
   "outputs": [],
   "source": [
    "#know lets tune the parameters for the Gradient Booster\n",
    "\n",
    "#set parametets to tune in Random Grid Search (# trees in forest and # of features per tree)\n",
    "parameters_xg={'n_estimators':range(50,100) ,\"learning_rate\" :[.05, .1, .2], 'max_depth':range(1,10)}\n",
    "\n",
    "#create an instance of the classifier\n",
    "xg = GradientBoostingClassifier(random_state=42)\n",
    "\n",
    "#randomize grid search for parameters with cross validation and refit on entire training set\n",
    "#spread across two jobs and seed a random state\n",
    "rs_xg = RandomizedSearchCV(xg, param_distributions=parameters_xg,cv=5,refit=True,n_jobs=2,random_state=42,scoring='recall')\n",
    "\n",
    "#fit grid search on random forest over grid\n",
    "%time rs_xg.fit( x_train ,  y_train )"
   ]
  },
  {
   "cell_type": "code",
   "execution_count": null,
   "metadata": {},
   "outputs": [],
   "source": [
    "rs_xg.best_params_"
   ]
  },
  {
   "cell_type": "code",
   "execution_count": null,
   "metadata": {},
   "outputs": [],
   "source": [
    "rs_xg.best_estimator_"
   ]
  },
  {
   "cell_type": "code",
   "execution_count": null,
   "metadata": {},
   "outputs": [],
   "source": [
    "#create classifier from best parameters out of grid search\n",
    "clf_xg = rs_xg.best_estimator_\n",
    "#fit classifier to validation set\n",
    "clf_xg.fit(x_train , y_train)\n",
    "\n",
    "#get the prediction set for the validation \n",
    "preds_train_xg = clf_xg.predict(x_train)\n",
    "\n",
    "#make some predictions\n",
    "preds_xg = clf_xg.predict(x_test)\n",
    "\n",
    "\n",
    "#print the accuracy score for the training data\n",
    "training_accuracy_xg = clf_xg.score( x_train , y_train )\n",
    "print(\"Accuracy on training data: {:0.2f}\".format( training_accuracy_xg ) )\n",
    "\n",
    "#print the accuracy score for the test data\n",
    "test_accuracy_xg = clf_xg.score(x_test , y_test)\n",
    "print(\"Accuracy on test data: {:0.2f}\".format( test_accuracy_xg ) )\n",
    "\n",
    "#print training f1 score\n",
    "rscore_train_xg = metrics.recall_score( y_train , preds_train_xg )\n",
    "print(\"Recall Score on train data: {:0.4f}\".format(rscore_train_xg))\n",
    "\n",
    "#print testing f1 score\n",
    "rscore_xg = metrics.recall_score( y_test , preds_xg , pos_label=1 )\n",
    "print(\"Recall Score on validation (train-test set) data: {:0.4f}\\n\".format( rscore_xg ) )\n",
    "\n",
    "\n",
    "print ( classification_report ( y_test , preds_xg ))"
   ]
  },
  {
   "cell_type": "code",
   "execution_count": null,
   "metadata": {},
   "outputs": [],
   "source": [
    "mat_xg = confusion_matrix( y_test , preds_xg )\n",
    "sns.heatmap(mat_xg.T, square=True, annot=True, fmt='d', cbar=False)\n",
    "plt.xlabel('true label')\n",
    "plt.ylabel('predicted label');\n",
    "plt.title('Random Forest Balanced')\n",
    "plt.show()"
   ]
  },
  {
   "cell_type": "markdown",
   "metadata": {},
   "source": [
    "Here we see an increase in the predicted true labels up 67 (to 245 from 178 untuned) but we lose predicted true negatives by 478 (from 1997 to 1519). The recall score highlights the gain in predicting adopted users (positive labels) with score of .54. The accuracy score has moved down highlighting the loss of true negative predictions. This is where the business needs should give guidance. If we solely care about predicting users who will adopt (predicted true and is true) then the tuned model for recall will be better. The previous model (not tuning for recall) would be better if we care about predicting for users who don't adopt.\n",
    "\n",
    "This highlights how we can adjust the model to target which prediction (group) we care more about. \n",
    "\n",
    "Finally we will look at the features the model used in making its decision."
   ]
  },
  {
   "cell_type": "code",
   "execution_count": null,
   "metadata": {},
   "outputs": [],
   "source": [
    "#Capture model feature importance \n",
    "importances_xg =clf_xg.feature_importances_\n",
    "sorted_features_xg = sorted (zip (features,importances_xg), key =lambda x:x[1]*-1)\n",
    "\n",
    "#get length of x axis \n",
    "x_values = list(range(len(sorted_features_xg[:10])))\n",
    "#plot feature importance \n",
    "for i in range(len(sorted_features_xg[:10])):\n",
    "    plt.bar( x_values, [pt[1] for pt in sorted_features_xg[:10]], color='skyblue')\n",
    "    plt.xticks(x_values, [pt[0] for pt in sorted_features_xg[:10]],label = 'id %s'%i, rotation='vertical', fontsize=10)\n",
    "    \n",
    "# Axis labels and title\n",
    "plt.ylabel('Importance'); plt.xlabel('Features'); plt.title('Boosting Top Feature Importances');\n",
    "\n",
    "plt.tight_layout()\n",
    "#save figure\n",
    "plt.savefig('feature_importance_10.png')\n",
    "#show figure in notebook\n",
    "plt.show()"
   ]
  },
  {
   "cell_type": "markdown",
   "metadata": {},
   "source": [
    "We see that ‘Personal_Projects,’ ‘Enabled_Marketing_Drip’ and ‘Original_Invite’ are leading features that our model used. This information is valuable and gives insight into what could draw more adopted users. We see ‘Org_Invite’ and ‘Personal_Projects’ are two good candidates. A marketing push highlighting the “personal projects” could draw new users who would be more likely be adopted users. We can also look for ways to transition Guest_Invites accounts to ones with full access. "
   ]
  },
  {
   "cell_type": "code",
   "execution_count": null,
   "metadata": {},
   "outputs": [],
   "source": []
  }
 ],
 "metadata": {
  "kernelspec": {
   "display_name": "Python 3",
   "language": "python",
   "name": "python3"
  },
  "language_info": {
   "codemirror_mode": {
    "name": "ipython",
    "version": 3
   },
   "file_extension": ".py",
   "mimetype": "text/x-python",
   "name": "python",
   "nbconvert_exporter": "python",
   "pygments_lexer": "ipython3",
   "version": "3.6.4"
  }
 },
 "nbformat": 4,
 "nbformat_minor": 2
}
