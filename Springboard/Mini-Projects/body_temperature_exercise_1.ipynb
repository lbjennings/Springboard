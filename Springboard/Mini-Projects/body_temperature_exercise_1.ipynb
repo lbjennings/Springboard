{
 "cells": [
  {
   "cell_type": "markdown",
   "metadata": {},
   "source": [
    "# What is the True Normal Human Body Temperature? \n",
    "\n",
    "#### Background\n",
    "\n",
    "The mean normal body temperature was held to be 37$^{\\circ}$C or 98.6$^{\\circ}$F for more than 120 years since it was first conceptualized and reported by Carl Wunderlich in a famous 1868 book. But, is this value statistically correct?"
   ]
  },
  {
   "cell_type": "markdown",
   "metadata": {},
   "source": [
    "<h3>Exercises</h3>\n",
    "\n",
    "<p>In this exercise, you will analyze a dataset of human body temperatures and employ the concepts of hypothesis testing, confidence intervals, and statistical significance.</p>\n",
    "\n",
    "<p>Answer the following questions <b>in this notebook below and submit to your Github account</b>.</p> \n",
    "\n",
    "<ol>\n",
    "<li>  Is the distribution of body temperatures normal? \n",
    "    <ul>\n",
    "    <li> Although this is not a requirement for CLT to hold (read CLT carefully), it gives us some peace of mind that the population may also be normally distributed if we assume that this sample is representative of the population.\n",
    "    </ul>\n",
    "<li>  Is the sample size large? Are the observations independent?\n",
    "    <ul>\n",
    "    <li> Remember that this is a condition for the CLT, and hence the statistical tests we are using, to apply.\n",
    "    </ul>\n",
    "<li>  Is the true population mean really 98.6 degrees F?\n",
    "    <ul>\n",
    "    <li> Would you use a one-sample or two-sample test? Why?\n",
    "    <li> In this situation, is it appropriate to use the $t$ or $z$ statistic? \n",
    "    <li> Now try using the other test. How is the result be different? Why?\n",
    "    </ul>\n",
    "<li>  Draw a small sample of size 10 from the data and repeat both tests. \n",
    "    <ul>\n",
    "    <li> Which one is the correct one to use? \n",
    "    <li> What do you notice? What does this tell you about the difference in application of the $t$ and $z$ statistic?\n",
    "    </ul>\n",
    "<li>  At what temperature should we consider someone's temperature to be \"abnormal\"?\n",
    "    <ul>\n",
    "    <li> Start by computing the margin of error and confidence interval.\n",
    "    </ul>\n",
    "<li>  Is there a significant difference between males and females in normal temperature?\n",
    "    <ul>\n",
    "    <li> What test did you use and why?\n",
    "    <li> Write a story with your conclusion in the context of the original problem.\n",
    "    </ul>\n",
    "</ol>\n",
    "\n",
    "You can include written notes in notebook cells using Markdown: \n",
    "   - In the control panel at the top, choose Cell > Cell Type > Markdown\n",
    "   - Markdown syntax: http://nestacms.com/docs/creating-content/markdown-cheat-sheet\n",
    "\n",
    "#### Resources\n",
    "\n",
    "+ Information and data sources: http://www.amstat.org/publications/jse/datasets/normtemp.txt, http://www.amstat.org/publications/jse/jse_data_archive.htm\n",
    "+ Markdown syntax: http://nestacms.com/docs/creating-content/markdown-cheat-sheet\n",
    "\n",
    "****"
   ]
  },
  {
   "cell_type": "code",
   "execution_count": 2,
   "metadata": {
    "collapsed": true
   },
   "outputs": [],
   "source": [
    "import pandas as pd\n",
    "\n",
    "df = pd.read_csv('data/human_body_temperature.csv')"
   ]
  },
  {
   "cell_type": "markdown",
   "metadata": {},
   "source": [
    "Start project by exploring the data a bit. Check for missing values and outliners(boxplot). "
   ]
  },
  {
   "cell_type": "code",
   "execution_count": 3,
   "metadata": {
    "collapsed": true
   },
   "outputs": [],
   "source": [
    "import matplotlib.pyplot as plt\n",
    "import numpy as np\n",
    "import seaborn as sns\n",
    "from scipy import stats"
   ]
  },
  {
   "cell_type": "code",
   "execution_count": 4,
   "metadata": {
    "collapsed": true
   },
   "outputs": [],
   "source": [
    "np.random.seed(24)"
   ]
  },
  {
   "cell_type": "code",
   "execution_count": 5,
   "metadata": {},
   "outputs": [
    {
     "data": {
      "text/html": [
       "<div>\n",
       "<style>\n",
       "    .dataframe thead tr:only-child th {\n",
       "        text-align: right;\n",
       "    }\n",
       "\n",
       "    .dataframe thead th {\n",
       "        text-align: left;\n",
       "    }\n",
       "\n",
       "    .dataframe tbody tr th {\n",
       "        vertical-align: top;\n",
       "    }\n",
       "</style>\n",
       "<table border=\"1\" class=\"dataframe\">\n",
       "  <thead>\n",
       "    <tr style=\"text-align: right;\">\n",
       "      <th></th>\n",
       "      <th>temperature</th>\n",
       "      <th>gender</th>\n",
       "      <th>heart_rate</th>\n",
       "    </tr>\n",
       "  </thead>\n",
       "  <tbody>\n",
       "    <tr>\n",
       "      <th>0</th>\n",
       "      <td>99.3</td>\n",
       "      <td>F</td>\n",
       "      <td>68.0</td>\n",
       "    </tr>\n",
       "    <tr>\n",
       "      <th>1</th>\n",
       "      <td>98.4</td>\n",
       "      <td>F</td>\n",
       "      <td>81.0</td>\n",
       "    </tr>\n",
       "    <tr>\n",
       "      <th>2</th>\n",
       "      <td>97.8</td>\n",
       "      <td>M</td>\n",
       "      <td>73.0</td>\n",
       "    </tr>\n",
       "    <tr>\n",
       "      <th>3</th>\n",
       "      <td>99.2</td>\n",
       "      <td>F</td>\n",
       "      <td>66.0</td>\n",
       "    </tr>\n",
       "    <tr>\n",
       "      <th>4</th>\n",
       "      <td>98.0</td>\n",
       "      <td>F</td>\n",
       "      <td>73.0</td>\n",
       "    </tr>\n",
       "  </tbody>\n",
       "</table>\n",
       "</div>"
      ],
      "text/plain": [
       "   temperature gender  heart_rate\n",
       "0         99.3      F        68.0\n",
       "1         98.4      F        81.0\n",
       "2         97.8      M        73.0\n",
       "3         99.2      F        66.0\n",
       "4         98.0      F        73.0"
      ]
     },
     "execution_count": 5,
     "metadata": {},
     "output_type": "execute_result"
    }
   ],
   "source": [
    "# Your work here.\n",
    "df.head()\n"
   ]
  },
  {
   "cell_type": "code",
   "execution_count": 6,
   "metadata": {},
   "outputs": [
    {
     "name": "stdout",
     "output_type": "stream",
     "text": [
      "<class 'pandas.core.frame.DataFrame'>\n",
      "RangeIndex: 130 entries, 0 to 129\n",
      "Data columns (total 3 columns):\n",
      "temperature    130 non-null float64\n",
      "gender         130 non-null object\n",
      "heart_rate     130 non-null float64\n",
      "dtypes: float64(2), object(1)\n",
      "memory usage: 3.1+ KB\n"
     ]
    }
   ],
   "source": [
    "df.info()"
   ]
  },
  {
   "cell_type": "code",
   "execution_count": 8,
   "metadata": {},
   "outputs": [
    {
     "data": {
      "text/html": [
       "<div>\n",
       "<style>\n",
       "    .dataframe thead tr:only-child th {\n",
       "        text-align: right;\n",
       "    }\n",
       "\n",
       "    .dataframe thead th {\n",
       "        text-align: left;\n",
       "    }\n",
       "\n",
       "    .dataframe tbody tr th {\n",
       "        vertical-align: top;\n",
       "    }\n",
       "</style>\n",
       "<table border=\"1\" class=\"dataframe\">\n",
       "  <thead>\n",
       "    <tr style=\"text-align: right;\">\n",
       "      <th></th>\n",
       "      <th>temperature</th>\n",
       "      <th>heart_rate</th>\n",
       "    </tr>\n",
       "  </thead>\n",
       "  <tbody>\n",
       "    <tr>\n",
       "      <th>count</th>\n",
       "      <td>130.000000</td>\n",
       "      <td>130.000000</td>\n",
       "    </tr>\n",
       "    <tr>\n",
       "      <th>mean</th>\n",
       "      <td>98.249231</td>\n",
       "      <td>73.761538</td>\n",
       "    </tr>\n",
       "    <tr>\n",
       "      <th>std</th>\n",
       "      <td>0.733183</td>\n",
       "      <td>7.062077</td>\n",
       "    </tr>\n",
       "    <tr>\n",
       "      <th>min</th>\n",
       "      <td>96.300000</td>\n",
       "      <td>57.000000</td>\n",
       "    </tr>\n",
       "    <tr>\n",
       "      <th>25%</th>\n",
       "      <td>97.800000</td>\n",
       "      <td>69.000000</td>\n",
       "    </tr>\n",
       "    <tr>\n",
       "      <th>50%</th>\n",
       "      <td>98.300000</td>\n",
       "      <td>74.000000</td>\n",
       "    </tr>\n",
       "    <tr>\n",
       "      <th>75%</th>\n",
       "      <td>98.700000</td>\n",
       "      <td>79.000000</td>\n",
       "    </tr>\n",
       "    <tr>\n",
       "      <th>max</th>\n",
       "      <td>100.800000</td>\n",
       "      <td>89.000000</td>\n",
       "    </tr>\n",
       "  </tbody>\n",
       "</table>\n",
       "</div>"
      ],
      "text/plain": [
       "       temperature  heart_rate\n",
       "count   130.000000  130.000000\n",
       "mean     98.249231   73.761538\n",
       "std       0.733183    7.062077\n",
       "min      96.300000   57.000000\n",
       "25%      97.800000   69.000000\n",
       "50%      98.300000   74.000000\n",
       "75%      98.700000   79.000000\n",
       "max     100.800000   89.000000"
      ]
     },
     "execution_count": 8,
     "metadata": {},
     "output_type": "execute_result"
    }
   ],
   "source": [
    "df.describe()"
   ]
  },
  {
   "cell_type": "code",
   "execution_count": 9,
   "metadata": {},
   "outputs": [
    {
     "data": {
      "text/plain": [
       "98.3"
      ]
     },
     "execution_count": 9,
     "metadata": {},
     "output_type": "execute_result"
    }
   ],
   "source": [
    "df.temperature.median()"
   ]
  },
  {
   "cell_type": "code",
   "execution_count": 10,
   "metadata": {},
   "outputs": [
    {
     "data": {
      "image/png": "[encoded data removed]",
      "text/plain": [
       "<matplotlib.figure.Figure at 0x103464b10>"
      ]
     },
     "metadata": {},
     "output_type": "display_data"
    }
   ],
   "source": [
    "sns.set()\n",
    "sns.boxplot(x=df.temperature, data=df,orient='v')\n",
    "\n",
    "# Label the axes\n",
    "plt.xlabel('Observations')\n",
    "plt.ylabel('Body temperature (Degrees Fahrenheit)')\n",
    "plt.title(\"Boxplot of Body Temperature Data\")\n",
    "# Show the plot\n",
    "plt.show()"
   ]
  },
  {
   "cell_type": "markdown",
   "metadata": {},
   "source": [
    "The data had no missing values. There were three outliers. We will leave these in the data set for the time. The mean 98.25 appears to be below the accepted human body temperature, which we will explore.\n",
    "\n",
    "Next we will plot the histogram of observations to see if it appears to resemble a Normal (Gaussian) Distribution. We know bins size affect interpretation of histograms so we will plot one at 100 bins and one at the accepted rule of thumb (square root of data points). We will go ahead and normalize as well.\n",
    "Finally, we will also look at he Empirical Cumulative Distribution Function\n"
   ]
  },
  {
   "cell_type": "code",
   "execution_count": 134,
   "metadata": {},
   "outputs": [
    {
     "data": {
      "image/png": "[encoded data removed]",
      "text/plain": [
       "<matplotlib.figure.Figure at 0x10dcc9350>"
      ]
     },
     "metadata": {},
     "output_type": "display_data"
    },
    {
     "data": {
      "image/png": "[encoded data removed]",
      "text/plain": [
       "<matplotlib.figure.Figure at 0x10dd49dd0>"
      ]
     },
     "metadata": {},
     "output_type": "display_data"
    }
   ],
   "source": [
    "sns.set()\n",
    "n_data=len(df.temperature)\n",
    "\n",
    "# Number of bins is the square root of number of data points: n_bins\n",
    "n_bins=np.sqrt(n_data)\n",
    "n_bins=int(n_bins)\n",
    "\n",
    "# Plot the histogram\n",
    "_= plt.hist(x=df.temperature,bins=n_bins,normed=True)\n",
    "_= plt.xlabel('Body temperature (Degrees Fahrenheit)')\n",
    "_= plt.ylabel('PDF')\n",
    "_= plt.title('Human Body Temperature Distribution (bins=sqrt)')\n",
    "plt.show()\n",
    "_= plt.hist(df.temperature,bins=100,density=True,color='green')\n",
    "_= plt.xlabel('Body temperature (Degrees Fahrenheit)')\n",
    "_= plt.ylabel('Freq')\n",
    "_= plt.title('Human Body Temperature Distribution (bins=100)')\n",
    " #Show histogram\n",
    "plt.show()\n"
   ]
  },
  {
   "cell_type": "code",
   "execution_count": 20,
   "metadata": {
    "collapsed": true
   },
   "outputs": [],
   "source": [
    "#code developed with datacamp class\n",
    "def ecdf(data):\n",
    "    \"\"\" Compute Empirical Cumulative Distribution Functions for an array of 1 dimensional elements\n",
    "    \"\"\"\n",
    "    # Number of data points: n\n",
    "    n = len(data)\n",
    "\n",
    "    # x-data for the ECDF: x\n",
    "    x = np.sort(data)\n",
    "\n",
    "    # y-data for the ECDF: y\n",
    "    y = np.linspace(1./n,1,n)\n",
    "    return x,y"
   ]
  },
  {
   "cell_type": "code",
   "execution_count": 25,
   "metadata": {},
   "outputs": [
    {
     "name": "stdout",
     "output_type": "stream",
     "text": [
      "(98.24923076923078, 0.7303577789050377)\n"
     ]
    }
   ],
   "source": [
    "#save mean and standard devia\n",
    "mu=np.mean(df.temperature)\n",
    "sigma=np.std(df.temperature)\n",
    "n=len(df.temperature)\n",
    "print(mu,sigma)"
   ]
  },
  {
   "cell_type": "code",
   "execution_count": 26,
   "metadata": {},
   "outputs": [
    {
     "data": {
      "image/png": "[encoded data removed]",
      "text/plain": [
       "<matplotlib.figure.Figure at 0x10dcbe510>"
      ]
     },
     "metadata": {},
     "output_type": "display_data"
    }
   ],
   "source": [
    "# plot data distribution against a similiar normal distribution\n",
    "\n",
    "# Sample out of a normal distribution with this mu and sigma: samples\n",
    "samples = np.random.normal(mu,sigma,size=10000)\n",
    "\n",
    "# Get the CDF of the samples and of the data\n",
    "x_theory , y_theory = ecdf(samples)\n",
    "x , y = ecdf(df.temperature)\n",
    "\n",
    "\n",
    "# Plot the CDFs and show the plot\n",
    "sns.set()\n",
    "_ = plt.plot(x_theory, y_theory,label='Theoritical Normal Dist.')\n",
    "_ = plt.plot(x, y, marker='.', linestyle='none',label='Data Set Dist.')\n",
    "\n",
    "plt.margins(0.02)\n",
    "\n",
    "_ = plt.xlabel('Body temperature (Degrees Fahrenheit)')\n",
    "_ = plt.ylabel('ECDF')\n",
    "_ = plt.legend(loc=2)\n",
    "_ = plt.title('Empirical Cumulative Distribution Functions')\n",
    "\n",
    "plt.show()\n"
   ]
  },
  {
   "cell_type": "markdown",
   "metadata": {},
   "source": [
    "We see that the data approximates a Normal Cumulative Distribution very closely. We will verify with a probability plot and permutation mix of ecdfs.\n",
    "\n",
    "Below we use Scipy to calculate quantiles for a probability plot. Generate a probability plot of our data against the quantiles of the normal distribution and a best-fit line for the data.\n"
   ]
  },
  {
   "cell_type": "code",
   "execution_count": 42,
   "metadata": {},
   "outputs": [
    {
     "data": {
      "image/png": "[encoded data removed]",
      "text/plain": [
       "<matplotlib.figure.Figure at 0x10d2b7a10>"
      ]
     },
     "metadata": {},
     "output_type": "display_data"
    }
   ],
   "source": [
    "#make probability plot\n",
    "stats.probplot(x,plot=plt)\n",
    "plt.show()"
   ]
  },
  {
   "cell_type": "markdown",
   "metadata": {},
   "source": [
    "We see that a linear line fits are data very closely.\n",
    "\n",
    "Now a permutation sampling to see how their ECDFs would look if they were identically distributed. Notice that the permutation sampled ECDFs overlap and give a purple haze. Most of the ECDFs from the permutation samples overlap with the observed data, suggesting that the human temperature data set can be assumed to be Normally Distributed. (More accurately, we have no reason to reject the hypothesis that they are Normally Distributed.)"
   ]
  },
  {
   "cell_type": "code",
   "execution_count": 44,
   "metadata": {
    "collapsed": true
   },
   "outputs": [],
   "source": [
    "#function developed during datacamp class\n",
    "def permutation_sample(data1, data2):\n",
    "    \"\"\"Generate a permutation sample from two data sets.\"\"\"\n",
    "\n",
    "    # Concatenate the data sets: data\n",
    "    data = np.concatenate((data1, data2))\n",
    "\n",
    "    # Permute the concatenated array: permuted_data\n",
    "    permuted_data = np.random.permutation(data)\n",
    "\n",
    "    # Split the permuted array into two: perm_sample_1, perm_sample_2\n",
    "    perm_sample_1 = permuted_data[:len(data1)]\n",
    "    perm_sample_2 = permuted_data[len(data1):]\n",
    "\n",
    "    return perm_sample_1, perm_sample_2\n"
   ]
  },
  {
   "cell_type": "code",
   "execution_count": 45,
   "metadata": {},
   "outputs": [
    {
     "data": {
      "image/png": "[encoded data removed]",
      "text/plain": [
       "<matplotlib.figure.Figure at 0x10d2f8ad0>"
      ]
     },
     "metadata": {},
     "output_type": "display_data"
    }
   ],
   "source": [
    "#generate a similar sized normal sample for comparison\n",
    "samples_1 = np.random.normal(mu,sigma,size=130)\n",
    "\n",
    "for _ in range(50):\n",
    "    # Generate permutation samples\n",
    "    perm_sample_1, perm_sample_2 = permutation_sample(df.temperature, samples_1)\n",
    "\n",
    "\n",
    "    # Compute ECDFs\n",
    "    x_1, y_1 = ecdf(perm_sample_1)\n",
    "    x_2, y_2 = ecdf(perm_sample_2)\n",
    "\n",
    "    # Plot ECDFs of permutation sample\n",
    "    _ = plt.plot(x_1, y_2, marker='.', linestyle='none',\n",
    "                 color='red', alpha=0.02)\n",
    "    _ = plt.plot(x_2, y_2, marker='.', linestyle='none',\n",
    "                 color='blue', alpha=0.02)\n",
    "\n",
    "# Create and plot ECDFs from original data\n",
    "x_1, y_1 = ecdf(df.temperature)\n",
    "x_2, y_2 = ecdf(samples_1)\n",
    "_ = plt.plot(x_1, y_1, marker='.', linestyle='none', color='red', label='Dataset')\n",
    "_ = plt.plot(x_2, y_2, marker='.', linestyle='none', color='blue',label='simulated normal')\n",
    "\n",
    "# Label axes, set margin, and show plot\n",
    "plt.margins(0.02)\n",
    "_ = plt.xlabel('Temperatures (F)')\n",
    "_ = plt.ylabel('ECDF')\n",
    "_ = plt.legend(loc=2)\n",
    "plt.show()"
   ]
  },
  {
   "cell_type": "markdown",
   "metadata": {
    "collapsed": true
   },
   "source": [
    "## To answer the question:\n",
    "## 1.) Is the distribution of body temperatures normal?\n",
    "Although this is not a requirement for CLT to hold (read CLT carefully), it gives us some peace of mind that the population may also be normally distributed if we assume that this sample is representative of the population.\n",
    "\n",
    "In reality this is a bad question. No, Human Body Temperatures are not normally distributed. Normal Distribution have a range negative infinite to positive infinity. However, we could consider this set to be approximately normally distributed. This is what we want anyway. Therefore, yes. The Normal Distribution can reasonable be used to approximate this dataset. "
   ]
  },
  {
   "cell_type": "markdown",
   "metadata": {},
   "source": [
    "## 2.)Is the sample size large? Are the observations independent?\n",
    "Remember that this is a condition for the CLT, and hence the statistical tests we are using, to apply.\n",
    "\n",
    "We are making some assumption here. First, that the samples (dataset provided) is representative of the population, all human beings. We are also assuming that the observations were drawn randomly, hence independently. There is no reason to believe that knowledge of one observation (patient's temperature) should provide any knowledge in predicting the temperature of the next observation (patients's temperature). Patient A's temperature should have no affect on patient B's temperature. Hence, we can assume that each observation is an independent event. \n",
    "\n",
    "Sample size is normally dependent on what type of statistics we want to us. A rule of thumb is that observations of  size 30 or more will ensure convergence in the CLT. A student's T-Test should be used for samples less than 30.\n",
    "\n",
    "We can check what size the z-test needs in order to be reliable."
   ]
  },
  {
   "cell_type": "code",
   "execution_count": 130,
   "metadata": {},
   "outputs": [
    {
     "name": "stdout",
     "output_type": "stream",
     "text": [
      "(1.2815515655446004, 1.6448536269514722, 2.3263478740408408)\n"
     ]
    }
   ],
   "source": [
    "z_critical90 = stats.norm.ppf(.90) # finds score based of of desired confidence 90% \n",
    "z_critical95 = stats.norm.ppf(.95) # finds score based of of desired confidence 95% \n",
    "z_critical99 = stats.norm.ppf(.99) # finds score based of of desired confidence 99% \n",
    "print(z_critical90,z_critical95,z_critical99 )"
   ]
  },
  {
   "cell_type": "code",
   "execution_count": 131,
   "metadata": {},
   "outputs": [
    {
     "data": {
      "text/plain": [
       "129.06351407788046"
      ]
     },
     "execution_count": 131,
     "metadata": {},
     "output_type": "execute_result"
    }
   ],
   "source": [
    "#sample size needed for use of a z-test (with 90% confidence):\n",
    "#z-score(for confidence interval) squared times standard dev times 1 minus std divided by margin of error squared\n",
    "sample_size_needed_90_conf=(1.28**2)*(sigma*(1-sigma))/(0.05**2)\n",
    "sample_size_needed_90_conf"
   ]
  },
  {
   "cell_type": "code",
   "execution_count": 132,
   "metadata": {},
   "outputs": [
    {
     "data": {
      "text/plain": [
       "213.16473125158475"
      ]
     },
     "execution_count": 132,
     "metadata": {},
     "output_type": "execute_result"
    }
   ],
   "source": [
    "#sample size needed for use of a z-test (with 95% confidence):\n",
    "#z-score(for confidence interval) squared times standard dev times 1 minus std divided by margin of error squared\n",
    "sample_size_needed_95_conf=(1.645**2)*(sigma*(1-sigma))/(.05**2)\n",
    "sample_size_needed_95_conf"
   ]
  },
  {
   "cell_type": "code",
   "execution_count": 133,
   "metadata": {},
   "outputs": [
    {
     "data": {
      "text/plain": [
       "391.73580881218976"
      ]
     },
     "execution_count": 133,
     "metadata": {},
     "output_type": "execute_result"
    }
   ],
   "source": [
    "#sample size needed for use of a z-test (with 99% confidence):\n",
    "#z-score(for confidence interval) squared times standard dev times 1 minus std divided by margin of error squared\n",
    "sample_size_needed_99_conf=(2.23**2)*(sigma*(1-sigma))/(.05**2)\n",
    "sample_size_needed_99_conf"
   ]
  },
  {
   "cell_type": "markdown",
   "metadata": {},
   "source": [
    "The sample provided is large enough to use a standard z- critical value for 90% confidence. Otherwise a t-test should satisfiy."
   ]
  },
  {
   "cell_type": "markdown",
   "metadata": {},
   "source": [
    "## 3.) Is the true population mean really 98.6 degrees F?\n",
    "Would you use a one-sample or two-sample test? Why?\n",
    "In this situation, is it appropriate to use the  t\n",
    "  or  z\n",
    "  statistic?\n",
    "Now try using the other test. How is the result be different? Why?\n",
    "\n",
    "We do not have the original data used to establish the 98.6(F) standard. We only have the mean of 98.6(F), therefore, a one-sample test would be best suited to test the hypothesis. I would recommend using the t-test, since we know that the z-test is not best suited for confidence levels above 90% due to sample size. The t-test is almost always used anyway since it is know to work for larger samples as well as smaller samples. \n"
   ]
  },
  {
   "cell_type": "markdown",
   "metadata": {},
   "source": [
    "If 98.6 (F) is the mean of human body temperature then our data set of temperature should have a mean near 98.6. First lets look at assuming our data set does have a mean at 98.6\n",
    "\n",
    "Null Hypothesis: 98.6 (F) is equal to the mean of our data set df.temperature\n",
    "\n",
    "Alt Hypothesis: 98.6 (F) is not the true of our data set df.temperature\n",
    "\n",
    "Assumption: A significance level of 0.05 or 95%\n"
   ]
  },
  {
   "cell_type": "code",
   "execution_count": 51,
   "metadata": {
    "collapsed": true
   },
   "outputs": [],
   "source": [
    "#functions developed during datacamp course\n",
    "def bootstrap_replicate_1d(data, func):\n",
    "    return func(np.random.choice(data, size=len(data)))\n",
    "def draw_bs_reps(data, func, size=1):\n",
    "    \"\"\"Draw bootstrap replicates.\"\"\"\n",
    "\n",
    "    # Initialize array of replicates: bs_replicates\n",
    "    bs_replicates = np.empty(size)\n",
    "\n",
    "    # Generate replicates\n",
    "    for i in range(size):\n",
    "        bs_replicates[i] = bootstrap_replicate_1d(data,func)\n",
    "\n",
    "    return bs_replicates"
   ]
  },
  {
   "cell_type": "code",
   "execution_count": 55,
   "metadata": {},
   "outputs": [
    {
     "name": "stdout",
     "output_type": "stream",
     "text": [
      "('p-value =', 0.0)\n"
     ]
    }
   ],
   "source": [
    "# bootstrap one sample test\n",
    "\n",
    "# We shift both sets to have the same mean. This allows us to  simulate the hypothesis that their means are equal. \n",
    "shifted_temperature = df.temperature - np.mean(df.temperature) + 98.6\n",
    "\n",
    "# Compute 10,000 bootstrap replicates from shifted arrays\n",
    "bs_replicates_ = draw_bs_reps(shifted_temperature, np.mean, 10000)\n",
    "\n",
    "# Compute and print p-value: p\n",
    "p = np.sum(bs_replicates_<=np.mean(df.temperature)) / float(len(bs_replicates_))\n",
    "print('p-value =', p)\n"
   ]
  },
  {
   "cell_type": "code",
   "execution_count": 58,
   "metadata": {},
   "outputs": [
    {
     "name": "stdout",
     "output_type": "stream",
     "text": [
      "('95% confidence interval =', array([ 98.47461538,  98.72846154]), 'shifted_means')\n"
     ]
    },
    {
     "data": {
      "image/png": "[encoded data removed]",
      "text/plain": [
       "<matplotlib.figure.Figure at 0x10d4f8390>"
      ]
     },
     "metadata": {},
     "output_type": "display_data"
    }
   ],
   "source": [
    "# Compute the 95% confidence interval: conf_int\n",
    "conf_int = np.percentile(bs_replicates_,[2.5,97.5])\n",
    "\n",
    "# Print the confidence interval\n",
    "print('95% confidence interval =', conf_int, 'shifted_means')\n",
    "\n",
    "# Plot the histogram of the replicates\n",
    "_ = plt.hist(bs_replicates_, bins=50, normed=True)\n",
    "_ = plt.xlabel(r'Means of Shifted Bootstrap Replicates')\n",
    "_ = plt.ylabel('Freq')\n",
    "\n",
    "# Show the plot\n",
    "plt.show()\n"
   ]
  },
  {
   "cell_type": "markdown",
   "metadata": {},
   "source": [
    "The low p-value suggests that the null hypothesis, 98.6 (F) is equal to the mean of our data set df.temperature,  is false. None of the shifted means were as extreme or more extreme than our original mean. This is concerning. It appears that our sample is far away from the assumed true mean of 98.6.In fact notice below that we are not even close to the 95% confidence level for accepting the null hypothesis.  "
   ]
  },
  {
   "cell_type": "markdown",
   "metadata": {},
   "source": [
    "Now since we assumed are distribution was approximately normal, then 68% of the means should fall within 1 standard deviation, 95% with in 2 standard deviation, and 99 percent within 3 standard deviations. As you can see from the histogram, 98.25, the mean for are sample is way off in the right tail. This strongly suggests that 98.6 is not the true mean of human body temperatures. "
   ]
  },
  {
   "cell_type": "markdown",
   "metadata": {},
   "source": [
    " Another look:\n",
    " Assuming the observations are identically  distributed from a normal distribution with 98.6 mean, and standard deviation of 1, the sample mean, mu, and sample standard deviation, sigma. We can use a one sample z or t. "
   ]
  },
  {
   "cell_type": "code",
   "execution_count": 59,
   "metadata": {},
   "outputs": [
    {
     "name": "stdout",
     "output_type": "stream",
     "text": [
      "(98.24923076923078, 0.7303577789050377)\n"
     ]
    }
   ],
   "source": [
    "#recall the sample mean and standard deviation\n",
    "print(mu,sigma)"
   ]
  },
  {
   "cell_type": "code",
   "execution_count": 60,
   "metadata": {
    "collapsed": true
   },
   "outputs": [],
   "source": [
    "#calculates z table value \n",
    "def z_number(pop_mean,pop_var,sample_mean,sample_var,number_of_samples):\n",
    "    \"\"\"calculates a z table number and returns\"\"\"\n",
    "    z_num=(sample_mean-pop_mean)/(pop_var/np.sqrt(number_of_samples))\n",
    "    return z_num"
   ]
  },
  {
   "cell_type": "code",
   "execution_count": 61,
   "metadata": {},
   "outputs": [
    {
     "data": {
      "text/plain": [
       "3.1753706687449843e-05"
      ]
     },
     "execution_count": 61,
     "metadata": {},
     "output_type": "execute_result"
    }
   ],
   "source": [
    "#calculates p value of sample mean compared to a population mean of 98.6\n",
    "stats.norm.cdf(z_number(98.6,1,mu,sigma,130))"
   ]
  },
  {
   "cell_type": "code",
   "execution_count": 63,
   "metadata": {},
   "outputs": [
    {
     "data": {
      "text/plain": [
       "Ttest_1sampResult(statistic=-5.4548232923645195, pvalue=2.4106320415561276e-07)"
      ]
     },
     "execution_count": 63,
     "metadata": {},
     "output_type": "execute_result"
    }
   ],
   "source": [
    "#calculates one sample t test of data set compared to assumed 98.6 mean returns t table value and p value \n",
    "stats.ttest_1samp(df.temperature, 98.6)"
   ]
  },
  {
   "cell_type": "markdown",
   "metadata": {},
   "source": [
    "Once again, we see that both the one sample t and z test give extremely low p values, strongly suggesting that 98.6 is not the mean for the population of human body temperatures. We see that the values are different. The z score gives a much larger p-value so it is less confident in the rejection of the null hypothesis, that the samples have the same mean. This is due to the error caused by the limited sample size. We should be more comfortable with the result from the t test, which is a stronger rejection of the null hypothesis.\n",
    "\n",
    "Next we will look at confidence intervals.\n"
   ]
  },
  {
   "cell_type": "markdown",
   "metadata": {},
   "source": [
    "The confidence interval for 95% confidence from our sample is the mean of our sample plus or minus 1.65 the standard deviation of the population "
   ]
  },
  {
   "cell_type": "code",
   "execution_count": 64,
   "metadata": {},
   "outputs": [
    {
     "data": {
      "text/plain": [
       "1.6448536269514722"
      ]
     },
     "execution_count": 64,
     "metadata": {},
     "output_type": "execute_result"
    }
   ],
   "source": [
    "z_critical=stats.norm.ppf(.95)\n",
    "z_critical"
   ]
  },
  {
   "cell_type": "code",
   "execution_count": 65,
   "metadata": {},
   "outputs": [
    {
     "name": "stdout",
     "output_type": "stream",
     "text": [
      "[ 98.1049675628 98.3934939756 ] 95% CI\n"
     ]
    }
   ],
   "source": [
    "left_interval_z=mu-(z_critical * (1/np.sqrt(130)))\n",
    "right_interval_z=mu+(z_critical * (1/np.sqrt(130)))\n",
    "print\"[\",left_interval_z,right_interval_z,\"]\", \"95% CI\""
   ]
  },
  {
   "cell_type": "markdown",
   "metadata": {},
   "source": [
    "The confidence interval based of the z-score doesn't include 98.6 (F). "
   ]
  },
  {
   "cell_type": "code",
   "execution_count": 66,
   "metadata": {},
   "outputs": [
    {
     "data": {
      "text/plain": [
       "1.6567515939762396"
      ]
     },
     "execution_count": 66,
     "metadata": {},
     "output_type": "execute_result"
    }
   ],
   "source": [
    "# Get the t-critical value* \n",
    "t_critical = stats.t.ppf(q = 0.95, df=129) \n",
    "t_critical"
   ]
  },
  {
   "cell_type": "code",
   "execution_count": 67,
   "metadata": {},
   "outputs": [
    {
     "name": "stdout",
     "output_type": "stream",
     "text": [
      "[ 98.1431048707 98.3553566677 ] 95% CI\n"
     ]
    }
   ],
   "source": [
    "left_interval_t = mu-(t_critical*(sigma/np.sqrt(130)))\n",
    "right_interval_t = mu+(t_critical*(sigma/np.sqrt(130)))\n",
    "print\"[\",left_interval_t,right_interval_t,\"]\", \"95% CI\""
   ]
  },
  {
   "cell_type": "markdown",
   "metadata": {},
   "source": [
    "Here we see a much better answer. The 98.6 doesn't even fall into the 95% or the 99%! "
   ]
  },
  {
   "cell_type": "code",
   "execution_count": 68,
   "metadata": {},
   "outputs": [
    {
     "name": "stdout",
     "output_type": "stream",
     "text": [
      "[ 98.0983388609 98.4001226775 ] 99% CI\n"
     ]
    }
   ],
   "source": [
    "t_critical = stats.t.ppf(q = 0.99, df=129) \n",
    "left_interval_t = mu-(t_critical*(sigma/np.sqrt(130)))\n",
    "right_interval_t = mu+(t_critical*(sigma/np.sqrt(130)))\n",
    "print\"[\",left_interval_t,right_interval_t,\"]\", \"99% CI\""
   ]
  },
  {
   "cell_type": "markdown",
   "metadata": {},
   "source": [
    "The t distribution is better here. It is designed for smaller samples n<30 but approximates a normal distribution for larger samples. It also does not require us to known the true population standard deviation, which we actually do not know. We use the data standard deviation instead. Therefore, we can reason that the z statistic above gives us an error prone confidence interval. The t statistic gives us a much more accurate confidence  interval, and one that makes us seriously suspect that 98.6 (F) is the wrong mean for human body temperatures."
   ]
  },
  {
   "cell_type": "markdown",
   "metadata": {},
   "source": [
    "We could also do this with bootstraping by generating 10,000 replicates of our data set, taking the mean of all the replicates, comparing how many are 98.6(F) or greater, and finding the confidence interval of the replicates."
   ]
  },
  {
   "cell_type": "code",
   "execution_count": 112,
   "metadata": {},
   "outputs": [
    {
     "name": "stdout",
     "output_type": "stream",
     "text": [
      "('p-value =', 0)\n",
      "('95% confidence interval =', array([ 98.12613462,  98.37463462]), 'replicates of our data set')\n"
     ]
    },
    {
     "data": {
      "image/png": "[encoded data removed]",
      "text/plain": [
       "<matplotlib.figure.Figure at 0x10d853650>"
      ]
     },
     "metadata": {},
     "output_type": "display_data"
    }
   ],
   "source": [
    "# Compute 10,000 bootstrap replicates from df.temperatures\n",
    "bs_replicates_mean = draw_bs_reps(df.temperature, np.mean, 10000)\n",
    "\n",
    "# Compute and print p-value: p\n",
    "p = np.sum(bs_replicates_mean>=98.6) / len(bs_replicates_mean)\n",
    "print('p-value =', p)\n",
    "\n",
    "# Compute the 95% confidence interval: conf_int\n",
    "conf_int = np.percentile(bs_replicates_mean,[2.5,97.5])\n",
    "\n",
    "# Print the confidence interval\n",
    "print('95% confidence interval =', conf_int, 'replicates of our data set')\n",
    "\n",
    "# Plot the histogram of the replicates\n",
    "_ = plt.hist(bs_replicates_mean, bins=50, normed=True)\n",
    "_ = plt.xlabel('Means of Bootstrap Replicates')\n",
    "_ = plt.ylabel('Freq')\n",
    "\n",
    "# Show the plot\n",
    "plt.show()\n"
   ]
  },
  {
   "cell_type": "markdown",
   "metadata": {},
   "source": [
    "We get almost exactly what are t statistic above calculated. The difference between the t test and the bootstrap being the variance of sampling in bootstrapping."
   ]
  },
  {
   "cell_type": "markdown",
   "metadata": {},
   "source": [
    "To do the two-sample bootstrap test, we need a sample to test against. We will generate a generic sample from a normal distribution with 98.6 as the mean, variance the same as our data, and 130 data points. Once again we shift both sets to have the same mean. This allows us to  simulate the hypothesis that their means are equal. We then draw bootstrap samples out of the shifted sets and compute the difference in means. We draw several bootstrap replicate. The p-value is the fraction of replicates with a difference in means less than or equal to what was observed."
   ]
  },
  {
   "cell_type": "code",
   "execution_count": 79,
   "metadata": {},
   "outputs": [
    {
     "name": "stdout",
     "output_type": "stream",
     "text": [
      "('p-value =', 0.0)\n"
     ]
    }
   ],
   "source": [
    "#two sample bootstrap test\n",
    "# generate a sample from the normal distribution to test data against\n",
    "norm_sample=np.random.normal(98.6,sigma,130)\n",
    "norm_sample=pd.Series(norm_sample)\n",
    "\n",
    "#find empiriacal difference of means from data and sample\n",
    "empirical_diff_means = np.mean(df.temperature) - np.mean(norm_sample)\n",
    "\n",
    "#join data together and find combined mean\n",
    "temperatures=df.temperature\n",
    "forces_concat=temperatures.append(norm_sample)\n",
    "mean_force = np.mean(forces_concat)\n",
    "\n",
    "# Generate shifted arrays\n",
    "norm_sample_shifted = norm_sample - np.mean(norm_sample) + mean_force\n",
    "df_temperature_shifted = df.temperature - np.mean(df.temperature) + mean_force\n",
    "\n",
    "# Compute 10,000 bootstrap replicates from shifted arrays\n",
    "bs_replicates_a = draw_bs_reps(norm_sample_shifted, np.mean, 10000)\n",
    "bs_replicates_b = draw_bs_reps(df_temperature_shifted, np.mean,10000)\n",
    "\n",
    "# Get replicates of difference of means: bs_replicates\n",
    "bs_replicates = bs_replicates_a - bs_replicates_b\n",
    "\n",
    "# Compute and print p-value: p\n",
    "p = np.sum(bs_replicates<=empirical_diff_means) / float(len(bs_replicates))\n",
    "print('p-value =', p)\n"
   ]
  },
  {
   "cell_type": "markdown",
   "metadata": {},
   "source": [
    "Once again the p value is extremely small, thus we have to reject the hyopthesis that the mean are in fact the same. "
   ]
  },
  {
   "cell_type": "markdown",
   "metadata": {},
   "source": [
    "## 4.)Draw a small sample of size 10 from the data and repeat both tests.\n",
    "Which one is the correct one to use?\n",
    "What do you notice? What does this tell you about the difference in application of the  t and  z statistic?"
   ]
  },
  {
   "cell_type": "markdown",
   "metadata": {},
   "source": [
    "One sample tests will be the best since we do not have the actual test that established the 98.6 (f) standard. We will sample from our data-set 10 points and calculate a new mean. We then draw bootstrap samples of the small sample set and compute their means. These means are then used as bootstrap replicates. The p-value is the fraction of replicates with a difference in means less than or equal to what was observed."
   ]
  },
  {
   "cell_type": "code",
   "execution_count": 110,
   "metadata": {},
   "outputs": [
    {
     "name": "stdout",
     "output_type": "stream",
     "text": [
      "('p-value =', 0.0104)\n",
      "('95% confidence interval =', array([ 98.14   ,  99.05025]), 'for a small set')\n",
      "('small sample mean=', 98.07)\n"
     ]
    },
    {
     "data": {
      "image/png": "[encoded data removed]",
      "text/plain": [
       "<matplotlib.figure.Figure at 0x10d4f88d0>"
      ]
     },
     "metadata": {},
     "output_type": "display_data"
    }
   ],
   "source": [
    "# one sample bootstrap test\n",
    "# generate a sample from the data of size 10\n",
    "small_sample=np.random.choice(df.temperature,size=10)\n",
    "small_sample=pd.Series(small_sample)\n",
    "\n",
    "# We shift our set to have the assumed population mean of 98.6. \n",
    "#This allows us to  simulate the hypothesis that their means are equal. \n",
    "small_shifted_temperature = small_sample - np.mean(small_sample) + 98.6\n",
    "\n",
    "# Compute 10,000 bootstrap replicates from shifted arrays\n",
    "bs_replicates_ = draw_bs_reps(small_shifted_temperature, np.mean, 10000)\n",
    "\n",
    "# Compute and print p-value: p\n",
    "p = np.sum(bs_replicates_<=np.mean(small_sample)) / float(len(bs_replicates))\n",
    "print('p-value =', p)\n",
    "\n",
    "# Compute the 95% confidence interval: conf_int\n",
    "conf_int = np.percentile(bs_replicates_,[2.5,97.5])\n",
    "\n",
    "# Print the confidence interval and small sample mean\n",
    "print('95% confidence interval =', conf_int, 'for a small set')\n",
    "print('small sample mean=',np.mean(small_sample))\n",
    "# Plot the histogram of the replicates\n",
    "_ = plt.hist(bs_replicates_, bins=50, normed=True)\n",
    "_ = plt.xlabel(r'Means from Bootstrap Replicates')\n",
    "_ = plt.ylabel('freq')\n",
    "_ = plt.title('one sample test for small set')\n",
    "# Show the plot\n",
    "plt.show()\n",
    "\n"
   ]
  },
  {
   "cell_type": "markdown",
   "metadata": {},
   "source": [
    "The hypothesis that the 98.6 is the true mean is not as clearly questionable. Our p value is again small and barely at the 95% confidence level. This small sample does not reject the null. \n",
    "\n",
    "Now to do the two-sample bootstrap test. Same process as before but drawing only 10 data points. We will generate a generic sample from a normal distribution with 98.6 as the mean, variance the same as our data, and 10 data points. Once again we shift both sets to have the same mean. This allows us to  simulate the hypothesis that their means are equal. We then draw bootstrap samples out of the shifted sets and compute the difference in means. We draw several bootstrap replicate. The p-value is the fraction of replicates with a difference in means less than or equal to what was observed."
   ]
  },
  {
   "cell_type": "code",
   "execution_count": 108,
   "metadata": {},
   "outputs": [
    {
     "name": "stdout",
     "output_type": "stream",
     "text": [
      "('p-value =', 0.185)\n",
      "('95% confidence interval =', array([-0.48538382,  0.46947004]), 'two sample test for small sets')\n",
      "('empirical difference in means', -0.2184849136658471)\n"
     ]
    },
    {
     "data": {
      "image/png": "[encoded data removed]",
      "text/plain": [
       "<matplotlib.figure.Figure at 0x10de40a50>"
      ]
     },
     "metadata": {},
     "output_type": "display_data"
    }
   ],
   "source": [
    "# generate a sample from the normal distribution to test data against\n",
    "small_norm_sample=np.random.normal(98.6,sigma,10)\n",
    "small_norm_sample=pd.Series(small_norm_sample)\n",
    "\n",
    "#find empiriacal difference of means from data and sample\n",
    "empirical_diff_means = np.mean(small_sample)-np.mean(small_norm_sample)\n",
    "\n",
    "#join data together and find combined mean\n",
    "small_sample=pd.Series(small_sample)\n",
    "small_forces_concat=small_sample.append(small_norm_sample)\n",
    "small_mean_force = np.mean(small_forces_concat)\n",
    "\n",
    "# Generate shifted arrays\n",
    "small_norm_sample_shifted = small_norm_sample - np.mean(small_norm_sample) + small_mean_force\n",
    "small_sample_shifted = small_sample - np.mean(small_sample) + small_mean_force\n",
    "\n",
    "# Compute 10,000 bootstrap replicates from shifted arrays\n",
    "bs_replicates_a = draw_bs_reps(small_norm_sample_shifted, np.mean, 10000)\n",
    "bs_replicates_b = draw_bs_reps(small_sample_shifted, np.mean,10000)\n",
    "\n",
    "# Get replicates of difference of means: bs_replicates\n",
    "bs_replicates = bs_replicates_a - bs_replicates_b\n",
    "\n",
    "# Compute and print p-value: p\n",
    "p = np.sum(bs_replicates<=empirical_diff_means) / float(len(bs_replicates))\n",
    "print('p-value =', p)\n",
    "\n",
    "# Compute the 95% confidence interval: conf_int\n",
    "conf_int = np.percentile(bs_replicates,[2.5,97.5])\n",
    "\n",
    "# Print the confidence interval\n",
    "print('95% confidence interval =', conf_int, 'two sample test for small sets')\n",
    "print(\"empirical difference in means\", empirical_diff_means)\n",
    "# Plot the histogram of the replicates\n",
    "_ = plt.hist(bs_replicates, bins=50, normed=True)\n",
    "_ = plt.xlabel(r'Difference of Means from Bootstrap Replicates')\n",
    "_ = plt.ylabel('freq')\n",
    "_ = plt.title('two sample test for small sets')\n",
    "\n",
    "# Show the plot\n",
    "plt.show()"
   ]
  },
  {
   "cell_type": "markdown",
   "metadata": {},
   "source": [
    "The two sample also falls to reject the null hypothesis. Note, repeated iterations get a range of results both accepting and rejecting. This is caused by the smaller sample size and range of values in the data set. \n",
    "\n",
    "Another look not using bootstrapping:"
   ]
  },
  {
   "cell_type": "code",
   "execution_count": 84,
   "metadata": {},
   "outputs": [
    {
     "data": {
      "text/plain": [
       "98.17"
      ]
     },
     "execution_count": 84,
     "metadata": {},
     "output_type": "execute_result"
    }
   ],
   "source": [
    "np.mean(small_sample)"
   ]
  },
  {
   "cell_type": "code",
   "execution_count": 86,
   "metadata": {},
   "outputs": [
    {
     "data": {
      "text/plain": [
       "0.086949872541851159"
      ]
     },
     "execution_count": 86,
     "metadata": {},
     "output_type": "execute_result"
    }
   ],
   "source": [
    "#calculates p value of small sample mean compared to a population mean of 98.6\n",
    "stats.norm.cdf(z_number(98.6,1,np.mean(small_sample),np.std(small_sample),10))"
   ]
  },
  {
   "cell_type": "code",
   "execution_count": 88,
   "metadata": {},
   "outputs": [
    {
     "name": "stdout",
     "output_type": "stream",
     "text": [
      "[ 97.1937073953 99.1462926047 ] 95% CI\n"
     ]
    }
   ],
   "source": [
    "# calculate 95% condfidence level\n",
    "left_interval_z= np.mean(small_sample) - (1.65*(np.std(small_sample)))\n",
    "right_interval_z= np.mean(small_sample) + (1.65*(np.std(small_sample)))\n",
    "print\"[\",left_interval_z,right_interval_z,\"]\", \"95% CI\""
   ]
  },
  {
   "cell_type": "code",
   "execution_count": 90,
   "metadata": {},
   "outputs": [
    {
     "data": {
      "text/plain": [
       "Ttest_1sampResult(statistic=-2.1801865442225541, pvalue=0.057157108476455311)"
      ]
     },
     "execution_count": 90,
     "metadata": {},
     "output_type": "execute_result"
    }
   ],
   "source": [
    "#calculates one sample t test of data set compared to assumed 98.6 mean returns t table value and p value \n",
    "stats.ttest_1samp(small_sample, 98.6)"
   ]
  },
  {
   "cell_type": "code",
   "execution_count": 92,
   "metadata": {},
   "outputs": [
    {
     "name": "stdout",
     "output_type": "stream",
     "text": [
      "[ 97.8612691706 98.4787308294 ] 95% CI\n"
     ]
    }
   ],
   "source": [
    "left_interval_t = np.mean(small_sample)-(1.65*(np.std(small_sample)/np.sqrt(10)))\n",
    "right_interval_t = np.mean(small_sample)+(1.65*(np.std(small_sample)/np.sqrt(10)))\n",
    "print\"[\",left_interval_t,right_interval_t,\"]\", \"95% CI\""
   ]
  },
  {
   "cell_type": "raw",
   "metadata": {},
   "source": [
    "Once again the z test is not good here because we do not know the real population variance or standard deviation for the human body temperature. (We assumed variance was 1 for these calculations, since that is the variance for the normal distribution.) Z scores are designed for large n values and t scores work for both small (but will hold for larger samples). Hence, we get a much wider confidence interval and higher p-value using the z test. The t test does a better job with lower p-values and a tighter confidence interval. Hence, the reason the t test is prefered for smaller samples.     "
   ]
  },
  {
   "cell_type": "markdown",
   "metadata": {},
   "source": [
    "## 5.) At what temperature should we consider someone's temperature to be \"abnormal\"?\n",
    "Start by computing the margin of error and confidence interval."
   ]
  },
  {
   "cell_type": "code",
   "execution_count": 93,
   "metadata": {},
   "outputs": [
    {
     "name": "stdout",
     "output_type": "stream",
     "text": [
      "margin of error:\n",
      "0.150891908294\n"
     ]
    }
   ],
   "source": [
    "#calculate the margin of error\n",
    "t_critical = stats.t.ppf(q = 0.99, df=129) # finds score based of of desired confidence 95% \n",
    "margin_of_error = t_critical * (sigma/np.sqrt(130))\n",
    "print(\"margin of error:\")\n",
    "print(margin_of_error)"
   ]
  },
  {
   "cell_type": "code",
   "execution_count": 94,
   "metadata": {},
   "outputs": [
    {
     "name": "stdout",
     "output_type": "stream",
     "text": [
      "[ 98.0983388609 98.4001226775 ] 99% CI\n"
     ]
    }
   ],
   "source": [
    "# calculate the 99% confidence interval \n",
    "left_interval_t = mu-(t_critical*(sigma/np.sqrt(130)))\n",
    "right_interval_t = mu+(t_critical*(sigma/np.sqrt(130)))\n",
    "print\"[\",left_interval_t,right_interval_t,\"]\", \"99% CI\""
   ]
  },
  {
   "cell_type": "markdown",
   "metadata": {},
   "source": [
    "Based off of our data, we would consider any temperature outside the 99% confidence interval to be abnormal. This gives us all data points outside three standard deviations. Temperatures below 98.1(F) or above 98.4(F) should be considered abnormal."
   ]
  },
  {
   "cell_type": "markdown",
   "metadata": {},
   "source": [
    " ## 6.) Is there a significant difference between males and females in normal temperature?\n",
    "What test did you use and why?\n",
    "Write a story with your conclusion in the context of the original problem.\n",
    "\n",
    "We will use the two sample test t test and bootstrap. We have two sample sets that we can compare, so the two sample test is preferred  over the one sample. We choose to use the bootstrap over the permutation test, since the versatility of the permutation test is limited to testing if samples come from the same distribution. We use the t test instead of the z test since the populations are both small, 65 observations for each. "
   ]
  },
  {
   "cell_type": "code",
   "execution_count": 95,
   "metadata": {
    "collapsed": true
   },
   "outputs": [],
   "source": [
    "males=df.temperature[df.gender=='M']\n",
    "females=df.temperature[df.gender=='F']"
   ]
  },
  {
   "cell_type": "code",
   "execution_count": 96,
   "metadata": {},
   "outputs": [
    {
     "data": {
      "text/plain": [
       "count    65.000000\n",
       "mean     98.104615\n",
       "std       0.698756\n",
       "min      96.300000\n",
       "25%      97.600000\n",
       "50%      98.100000\n",
       "75%      98.600000\n",
       "max      99.500000\n",
       "Name: temperature, dtype: float64"
      ]
     },
     "execution_count": 96,
     "metadata": {},
     "output_type": "execute_result"
    }
   ],
   "source": [
    "males.describe()"
   ]
  },
  {
   "cell_type": "code",
   "execution_count": 97,
   "metadata": {},
   "outputs": [
    {
     "data": {
      "text/plain": [
       "count     65.000000\n",
       "mean      98.393846\n",
       "std        0.743488\n",
       "min       96.400000\n",
       "25%       98.000000\n",
       "50%       98.400000\n",
       "75%       98.800000\n",
       "max      100.800000\n",
       "Name: temperature, dtype: float64"
      ]
     },
     "execution_count": 97,
     "metadata": {},
     "output_type": "execute_result"
    }
   ],
   "source": [
    "females.describe()"
   ]
  },
  {
   "cell_type": "code",
   "execution_count": 98,
   "metadata": {},
   "outputs": [
    {
     "data": {
      "image/png": "[encoded data removed]",
      "text/plain": [
       "<matplotlib.figure.Figure at 0x10d893510>"
      ]
     },
     "metadata": {},
     "output_type": "display_data"
    }
   ],
   "source": [
    "sns.set()\n",
    "sns.swarmplot(x='gender',y='temperature',data=df,orient='v')\n",
    "# Label the axes\n",
    "plt.xlabel('Gender')\n",
    "plt.ylabel('Body temperature (Degrees Fahrenheit)')\n",
    "plt.title(\"Male and Female Temperatures\")\n",
    "# Show the plot\n",
    "plt.show()"
   ]
  },
  {
   "cell_type": "markdown",
   "metadata": {},
   "source": [
    "Now to do the two-sample bootstrap test. Same process as before but using the male and female data as our samples.  Once againg we shift both sets to have the same mean. This allows us to simulate the hypothesis that their means are equal. We then draw bootstrap samples out of the shifted sets and compute the difference in means. We draw several bootstrap replicates. The p-value is the fraction of replicates with a difference in means less than or equal to what was observed.\n",
    "\n",
    "Null Hypothesis: males and females have the same mean human body temperature\n",
    "\n",
    "Alt Hypothesis: males and females do not have the same mean human body temperature\n",
    "\n",
    "Assumption: A significance level of 0.05 or 95%"
   ]
  },
  {
   "cell_type": "code",
   "execution_count": 104,
   "metadata": {},
   "outputs": [
    {
     "name": "stdout",
     "output_type": "stream",
     "text": [
      "('p-value =', 0.0106)\n",
      "('95% confidence interval =', array([-0.32769231,  0.25076923]), 'two sample bootstrap test')\n",
      "('empirical difference in means', -0.289230769230727)\n"
     ]
    },
    {
     "data": {
      "image/png": "[encoded data removed]",
      "text/plain": [
       "<matplotlib.figure.Figure at 0x10d72ba50>"
      ]
     },
     "metadata": {},
     "output_type": "display_data"
    }
   ],
   "source": [
    "#a two sample bootstrap test\n",
    "\n",
    "#Compute difference of mean from samples: empirical_diff_means\n",
    "empirical_diff_means = np.mean(males)-np.mean(females)\n",
    "\n",
    "# Concatenate forces: forces_concat\n",
    "forces_concat = np.concatenate((males,females))\n",
    "\n",
    "# Compute mean of joined sets: mean_force\n",
    "mean_force = np.mean(forces_concat)\n",
    "\n",
    "# Generate shifted arrays\n",
    "males_shifted = males - np.mean(males) + mean_force\n",
    "females_shifted = females - np.mean(females) + mean_force\n",
    "\n",
    "# Compute 10,000 bootstrap replicates from shifted arrays\n",
    "bs_replicates_m = draw_bs_reps(males_shifted , np.mean, 10000)\n",
    "bs_replicates_f = draw_bs_reps(females_shifted , np.mean, 10000)\n",
    "\n",
    "# Get replicates of difference of means: bs_replicates\n",
    "bs_replicates = bs_replicates_m - bs_replicates_f\n",
    "\n",
    "# Compute and print p-value: p\n",
    "p = np.sum(bs_replicates<=empirical_diff_means) / float(len(bs_replicates))\n",
    "print('p-value =', p)\n",
    "\n",
    "# Compute the 95% confidence interval: conf_int\n",
    "conf_int = np.percentile(bs_replicates,[.5,97.5])\n",
    "\n",
    "# Print the confidence interval\n",
    "print('95% confidence interval =', conf_int, 'two sample bootstrap test')\n",
    "print(\"empirical difference in means\", empirical_diff_means)\n",
    "# Plot the histogram of the replicates\n",
    "_ = plt.hist(bs_replicates, bins=50, density=True)\n",
    "_ = plt.xlabel(r'Difference of Means from Bootstrap Replicates')\n",
    "_ = plt.ylabel('observations')\n",
    "_ = plt.title('two sample bootstrap test')\n",
    "\n",
    "# Show the plot\n",
    "plt.show()"
   ]
  },
  {
   "cell_type": "code",
   "execution_count": 106,
   "metadata": {},
   "outputs": [
    {
     "data": {
      "text/plain": [
       "Ttest_indResult(statistic=-2.2854345381656103, pvalue=0.023931883122395609)"
      ]
     },
     "execution_count": 106,
     "metadata": {},
     "output_type": "execute_result"
    }
   ],
   "source": [
    "# two sample t test\n",
    "stats.ttest_ind(males,females)"
   ]
  },
  {
   "cell_type": "markdown",
   "metadata": {},
   "source": [
    "We see that both the two sample bootstrap and two sample t test reject the null hypothesis, that male and female human body temperature means are the same under an assumption of 95% confidence.\n",
    "\n",
    "The old habit of assuming 98.6 degrees was the average human body temperature is wrong as we have demonstrated. We can also see that male and female body temperatures differ from each other. There have been many advances in both statistics, technology, and medical procedures in the 120 years since Carl Wunderlich first established the standard for human body temperatures. We should reflect upon old held believes(standards) with scrutiny as time passes. When we find such examples as these, we must be willing to update our standards and knowledge. The medical treatment of patients could benefit from more accurate treatment of body temperatures moving outside the range of normal body temperatures. Lives depend upon correcting our understanding of the human body. \n",
    "\n"
   ]
  },
  {
   "cell_type": "code",
   "execution_count": null,
   "metadata": {
    "collapsed": true
   },
   "outputs": [],
   "source": []
  }
 ],
 "metadata": {
  "kernelspec": {
   "display_name": "Python 2",
   "language": "python",
   "name": "python2"
  },
  "language_info": {
   "codemirror_mode": {
    "name": "ipython",
    "version": 2
   },
   "file_extension": ".py",
   "mimetype": "text/x-python",
   "name": "python",
   "nbconvert_exporter": "python",
   "pygments_lexer": "ipython2",
   "version": "2.7.14"
  }
 },
 "nbformat": 4,
 "nbformat_minor": 1
}
