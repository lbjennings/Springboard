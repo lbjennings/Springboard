{
 "cells": [
  {
   "cell_type": "markdown",
   "metadata": {},
   "source": [
    "# Examining Racial Discrimination in the US Job Market\n",
    "\n",
    "### Background\n",
    "Racial discrimination continues to be pervasive in cultures throughout the world. Researchers examined the level of racial discrimination in the United States labor market by randomly assigning identical résumés to black-sounding or white-sounding names and observing the impact on requests for interviews from employers.\n",
    "\n",
    "### Data\n",
    "In the dataset provided, each row represents a resume. The 'race' column has two values, 'b' and 'w', indicating black-sounding and white-sounding. The column 'call' has two values, 1 and 0, indicating whether the resume received a call from employers or not.\n",
    "\n",
    "Note that the 'b' and 'w' values in race are assigned randomly to the resumes when presented to the employer."
   ]
  },
  {
   "cell_type": "markdown",
   "metadata": {},
   "source": [
    "<div class=\"span5 alert alert-info\">\n",
    "### Exercises\n",
    "You will perform a statistical analysis to establish whether race has a significant impact on the rate of callbacks for resumes.\n",
    "\n",
    "Answer the following questions **in this notebook below and submit to your Github account**. \n",
    "\n",
    "   1. What test is appropriate for this problem? Does CLT apply?\n",
    "   2. What are the null and alternate hypotheses?\n",
    "   3. Compute margin of error, confidence interval, and p-value. Try using both the bootstrapping and the frequentist statistical approaches.\n",
    "   4. Write a story describing the statistical significance in the context or the original problem.\n",
    "   5. Does your analysis mean that race/name is the most important factor in callback success? Why or why not? If not, how would you amend your analysis?\n",
    "\n",
    "You can include written notes in notebook cells using Markdown: \n",
    "   - In the control panel at the top, choose Cell > Cell Type > Markdown\n",
    "   - Markdown syntax: http://nestacms.com/docs/creating-content/markdown-cheat-sheet\n",
    "\n",
    "\n",
    "#### Resources\n",
    "+ Experiment information and data source: http://www.povertyactionlab.org/evaluation/discrimination-job-market-united-states\n",
    "+ Scipy statistical methods: http://docs.scipy.org/doc/scipy/reference/stats.html \n",
    "+ Markdown syntax: http://nestacms.com/docs/creating-content/markdown-cheat-sheet\n",
    "+ Formulas for the Bernoulli distribution: https://en.wikipedia.org/wiki/Bernoulli_distribution\n",
    "</div>\n",
    "****"
   ]
  },
  {
   "cell_type": "code",
   "execution_count": 127,
   "metadata": {},
   "outputs": [],
   "source": [
    "import pandas as pd\n",
    "import numpy as np\n",
    "from scipy import stats\n",
    "\n",
    "#other packages\n",
    "import seaborn as sns\n",
    "import matplotlib.pyplot as plt\n"
   ]
  },
  {
   "cell_type": "code",
   "execution_count": 100,
   "metadata": {},
   "outputs": [],
   "source": [
    "data = pd.io.stata.read_stata('data/lakisha_aer.dta')"
   ]
  },
  {
   "cell_type": "code",
   "execution_count": 101,
   "metadata": {},
   "outputs": [
    {
     "data": {
      "text/plain": [
       "235.0"
      ]
     },
     "execution_count": 101,
     "metadata": {},
     "output_type": "execute_result"
    }
   ],
   "source": [
    "# number of callbacks for black-sounding names\n",
    "sum(data[data.race=='w'].call)"
   ]
  },
  {
   "cell_type": "code",
   "execution_count": 102,
   "metadata": {},
   "outputs": [
    {
     "data": {
      "text/html": [
       "<div>\n",
       "<style>\n",
       "    .dataframe thead tr:only-child th {\n",
       "        text-align: right;\n",
       "    }\n",
       "\n",
       "    .dataframe thead th {\n",
       "        text-align: left;\n",
       "    }\n",
       "\n",
       "    .dataframe tbody tr th {\n",
       "        vertical-align: top;\n",
       "    }\n",
       "</style>\n",
       "<table border=\"1\" class=\"dataframe\">\n",
       "  <thead>\n",
       "    <tr style=\"text-align: right;\">\n",
       "      <th></th>\n",
       "      <th>id</th>\n",
       "      <th>ad</th>\n",
       "      <th>education</th>\n",
       "      <th>ofjobs</th>\n",
       "      <th>yearsexp</th>\n",
       "      <th>honors</th>\n",
       "      <th>volunteer</th>\n",
       "      <th>military</th>\n",
       "      <th>empholes</th>\n",
       "      <th>occupspecific</th>\n",
       "      <th>...</th>\n",
       "      <th>compreq</th>\n",
       "      <th>orgreq</th>\n",
       "      <th>manuf</th>\n",
       "      <th>transcom</th>\n",
       "      <th>bankreal</th>\n",
       "      <th>trade</th>\n",
       "      <th>busservice</th>\n",
       "      <th>othservice</th>\n",
       "      <th>missind</th>\n",
       "      <th>ownership</th>\n",
       "    </tr>\n",
       "  </thead>\n",
       "  <tbody>\n",
       "    <tr>\n",
       "      <th>0</th>\n",
       "      <td>b</td>\n",
       "      <td>1</td>\n",
       "      <td>4</td>\n",
       "      <td>2</td>\n",
       "      <td>6</td>\n",
       "      <td>0</td>\n",
       "      <td>0</td>\n",
       "      <td>0</td>\n",
       "      <td>1</td>\n",
       "      <td>17</td>\n",
       "      <td>...</td>\n",
       "      <td>1.0</td>\n",
       "      <td>0.0</td>\n",
       "      <td>1.0</td>\n",
       "      <td>0.0</td>\n",
       "      <td>0.0</td>\n",
       "      <td>0.0</td>\n",
       "      <td>0.0</td>\n",
       "      <td>0.0</td>\n",
       "      <td>0.0</td>\n",
       "      <td></td>\n",
       "    </tr>\n",
       "    <tr>\n",
       "      <th>1</th>\n",
       "      <td>b</td>\n",
       "      <td>1</td>\n",
       "      <td>3</td>\n",
       "      <td>3</td>\n",
       "      <td>6</td>\n",
       "      <td>0</td>\n",
       "      <td>1</td>\n",
       "      <td>1</td>\n",
       "      <td>0</td>\n",
       "      <td>316</td>\n",
       "      <td>...</td>\n",
       "      <td>1.0</td>\n",
       "      <td>0.0</td>\n",
       "      <td>1.0</td>\n",
       "      <td>0.0</td>\n",
       "      <td>0.0</td>\n",
       "      <td>0.0</td>\n",
       "      <td>0.0</td>\n",
       "      <td>0.0</td>\n",
       "      <td>0.0</td>\n",
       "      <td></td>\n",
       "    </tr>\n",
       "    <tr>\n",
       "      <th>2</th>\n",
       "      <td>b</td>\n",
       "      <td>1</td>\n",
       "      <td>4</td>\n",
       "      <td>1</td>\n",
       "      <td>6</td>\n",
       "      <td>0</td>\n",
       "      <td>0</td>\n",
       "      <td>0</td>\n",
       "      <td>0</td>\n",
       "      <td>19</td>\n",
       "      <td>...</td>\n",
       "      <td>1.0</td>\n",
       "      <td>0.0</td>\n",
       "      <td>1.0</td>\n",
       "      <td>0.0</td>\n",
       "      <td>0.0</td>\n",
       "      <td>0.0</td>\n",
       "      <td>0.0</td>\n",
       "      <td>0.0</td>\n",
       "      <td>0.0</td>\n",
       "      <td></td>\n",
       "    </tr>\n",
       "    <tr>\n",
       "      <th>3</th>\n",
       "      <td>b</td>\n",
       "      <td>1</td>\n",
       "      <td>3</td>\n",
       "      <td>4</td>\n",
       "      <td>6</td>\n",
       "      <td>0</td>\n",
       "      <td>1</td>\n",
       "      <td>0</td>\n",
       "      <td>1</td>\n",
       "      <td>313</td>\n",
       "      <td>...</td>\n",
       "      <td>1.0</td>\n",
       "      <td>0.0</td>\n",
       "      <td>1.0</td>\n",
       "      <td>0.0</td>\n",
       "      <td>0.0</td>\n",
       "      <td>0.0</td>\n",
       "      <td>0.0</td>\n",
       "      <td>0.0</td>\n",
       "      <td>0.0</td>\n",
       "      <td></td>\n",
       "    </tr>\n",
       "    <tr>\n",
       "      <th>4</th>\n",
       "      <td>b</td>\n",
       "      <td>1</td>\n",
       "      <td>3</td>\n",
       "      <td>3</td>\n",
       "      <td>22</td>\n",
       "      <td>0</td>\n",
       "      <td>0</td>\n",
       "      <td>0</td>\n",
       "      <td>0</td>\n",
       "      <td>313</td>\n",
       "      <td>...</td>\n",
       "      <td>1.0</td>\n",
       "      <td>1.0</td>\n",
       "      <td>0.0</td>\n",
       "      <td>0.0</td>\n",
       "      <td>0.0</td>\n",
       "      <td>0.0</td>\n",
       "      <td>0.0</td>\n",
       "      <td>1.0</td>\n",
       "      <td>0.0</td>\n",
       "      <td>Nonprofit</td>\n",
       "    </tr>\n",
       "  </tbody>\n",
       "</table>\n",
       "<p>5 rows × 65 columns</p>\n",
       "</div>"
      ],
      "text/plain": [
       "  id ad  education  ofjobs  yearsexp  honors  volunteer  military  empholes  \\\n",
       "0  b  1          4       2         6       0          0         0         1   \n",
       "1  b  1          3       3         6       0          1         1         0   \n",
       "2  b  1          4       1         6       0          0         0         0   \n",
       "3  b  1          3       4         6       0          1         0         1   \n",
       "4  b  1          3       3        22       0          0         0         0   \n",
       "\n",
       "   occupspecific    ...      compreq  orgreq  manuf  transcom  bankreal trade  \\\n",
       "0             17    ...          1.0     0.0    1.0       0.0       0.0   0.0   \n",
       "1            316    ...          1.0     0.0    1.0       0.0       0.0   0.0   \n",
       "2             19    ...          1.0     0.0    1.0       0.0       0.0   0.0   \n",
       "3            313    ...          1.0     0.0    1.0       0.0       0.0   0.0   \n",
       "4            313    ...          1.0     1.0    0.0       0.0       0.0   0.0   \n",
       "\n",
       "  busservice othservice  missind  ownership  \n",
       "0        0.0        0.0      0.0             \n",
       "1        0.0        0.0      0.0             \n",
       "2        0.0        0.0      0.0             \n",
       "3        0.0        0.0      0.0             \n",
       "4        0.0        1.0      0.0  Nonprofit  \n",
       "\n",
       "[5 rows x 65 columns]"
      ]
     },
     "execution_count": 102,
     "metadata": {},
     "output_type": "execute_result"
    }
   ],
   "source": [
    "data.head()"
   ]
  },
  {
   "cell_type": "code",
   "execution_count": 103,
   "metadata": {},
   "outputs": [
    {
     "name": "stdout",
     "output_type": "stream",
     "text": [
      "<class 'pandas.core.frame.DataFrame'>\n",
      "Int64Index: 4870 entries, 0 to 4869\n",
      "Data columns (total 65 columns):\n",
      "id                    4870 non-null object\n",
      "ad                    4870 non-null object\n",
      "education             4870 non-null int8\n",
      "ofjobs                4870 non-null int8\n",
      "yearsexp              4870 non-null int8\n",
      "honors                4870 non-null int8\n",
      "volunteer             4870 non-null int8\n",
      "military              4870 non-null int8\n",
      "empholes              4870 non-null int8\n",
      "occupspecific         4870 non-null int16\n",
      "occupbroad            4870 non-null int8\n",
      "workinschool          4870 non-null int8\n",
      "email                 4870 non-null int8\n",
      "computerskills        4870 non-null int8\n",
      "specialskills         4870 non-null int8\n",
      "firstname             4870 non-null object\n",
      "sex                   4870 non-null object\n",
      "race                  4870 non-null object\n",
      "h                     4870 non-null float32\n",
      "l                     4870 non-null float32\n",
      "call                  4870 non-null float32\n",
      "city                  4870 non-null object\n",
      "kind                  4870 non-null object\n",
      "adid                  4870 non-null float32\n",
      "fracblack             4784 non-null float32\n",
      "fracwhite             4784 non-null float32\n",
      "lmedhhinc             4784 non-null float32\n",
      "fracdropout           4784 non-null float32\n",
      "fraccolp              4784 non-null float32\n",
      "linc                  4784 non-null float32\n",
      "col                   4870 non-null float32\n",
      "expminreq             4870 non-null object\n",
      "schoolreq             4870 non-null object\n",
      "eoe                   4870 non-null float32\n",
      "parent_sales          1672 non-null float32\n",
      "parent_emp            1722 non-null float32\n",
      "branch_sales          608 non-null float32\n",
      "branch_emp            658 non-null float32\n",
      "fed                   3102 non-null float32\n",
      "fracblack_empzip      1918 non-null float32\n",
      "fracwhite_empzip      1918 non-null float32\n",
      "lmedhhinc_empzip      1908 non-null float32\n",
      "fracdropout_empzip    1918 non-null float32\n",
      "fraccolp_empzip       1918 non-null float32\n",
      "linc_empzip           1918 non-null float32\n",
      "manager               4870 non-null float32\n",
      "supervisor            4870 non-null float32\n",
      "secretary             4870 non-null float32\n",
      "offsupport            4870 non-null float32\n",
      "salesrep              4870 non-null float32\n",
      "retailsales           4870 non-null float32\n",
      "req                   4870 non-null float32\n",
      "expreq                4870 non-null float32\n",
      "comreq                4870 non-null float32\n",
      "educreq               4870 non-null float32\n",
      "compreq               4870 non-null float32\n",
      "orgreq                4870 non-null float32\n",
      "manuf                 4870 non-null float32\n",
      "transcom              4870 non-null float32\n",
      "bankreal              4870 non-null float32\n",
      "trade                 4870 non-null float32\n",
      "busservice            4870 non-null float32\n",
      "othservice            4870 non-null float32\n",
      "missind               4870 non-null float32\n",
      "ownership             4870 non-null object\n",
      "dtypes: float32(42), int16(1), int8(12), object(10)\n",
      "memory usage: 1.3+ MB\n"
     ]
    }
   ],
   "source": [
    "data.info()"
   ]
  },
  {
   "cell_type": "code",
   "execution_count": 104,
   "metadata": {},
   "outputs": [
    {
     "name": "stdout",
     "output_type": "stream",
     "text": [
      "(2435, 'number White Names', 2435, '=number Black Names')\n"
     ]
    }
   ],
   "source": [
    "w = data[data.race=='w']\n",
    "b = data[data.race=='b']\n",
    "\n",
    "num_w = len(w)\n",
    "num_b = len(b)\n",
    "print(num_w, 'number White Names',num_b,\"=number Black Names\")\n"
   ]
  },
  {
   "cell_type": "code",
   "execution_count": 105,
   "metadata": {},
   "outputs": [
    {
     "name": "stdout",
     "output_type": "stream",
     "text": [
      "(235.0, '=White Name callbacks', 157.0, '=Black Name callbacks', 392.0, '=Number of Calls')\n"
     ]
    }
   ],
   "source": [
    "num_w_calls=sum(w.call)\n",
    "num_b_calls=sum(b.call)\n",
    "num_calls=sum(data.call)\n",
    "print(num_w_calls,\"=White Name callbacks\",num_b_calls,\"=Black Name callbacks\",\n",
    "      num_calls,'=Number of Calls')\n"
   ]
  },
  {
   "cell_type": "markdown",
   "metadata": {},
   "source": [
    "# Problem: Does race have a significant impact on the rate of callbacks for resumes.\n",
    "\n",
    "## 1.) What test is appropriate for this problem? Does CLT apply?\n",
    "\n",
    "The two-proportion z-test would be appropriate. We need the following conditions:\n",
    "\n",
    "The sampling method for each population is simple random sampling.\n",
    "The samples are independent.\n",
    "Each sample includes at least 10 successes and 10 failures. \n",
    "Each population is at least 20 times as big as its sample.\n",
    "\n",
    "We will be testing against two data samples the white sounding names and the black sounding names. A successes is defined as a call back. We assume that the population is US workers 154 million (US Bureau of Labor Statistics 2016). Our data of 4870 entries should be sufficient sample size compared to the population. We have success for both black and white sounding names above 10.\n",
    "\n",
    "Does Central Limit Theory (CLT) apply? Yes\n",
    "\n",
    "CLT states: \"Regardless of the population distribution model, as the sample size increases, the mean of all samples from the same population will be approximately equal to the mean of the population, given a sufficiently large sample size from a population with a finite level of variance\"\n",
    "\n",
    "The conditions of CLT require the samples must be independent, that the sample size be large, and the variance be finite.\n",
    " \n",
    "Independent condition: Each sample should represent a random sample from the population, or at least follow the population distribution. This is a modeling question here and there is no reason to believe, from the data provided, that the sampling was not random.\n",
    "\n",
    "Sample size should be large enough. We assume that the population is US workers 154 million (US Bureau of Labor Statistics 2016). Our data of 4870 entries should be sufficient. Usually, a value of n greater than 30 will ensure thta the distribution can be closely approximated bya normal distribution."
   ]
  },
  {
   "cell_type": "markdown",
   "metadata": {},
   "source": [
    "## 2.)What are the null and alternate hypotheses?\n",
    "\n",
    "The null hypothesis: there is no difference between the two population proportions of callbacks for white sounding names compared to callbacks for black sounding names\n",
    "\n",
    "The alternative-hypothesis: there is a difference between the two population proportions of callbacks for white sounding names compared to callbacks for black sounding names\n",
    "\n",
    "H0: P1_w = P2_b \n",
    "Ha: P1_w ≠ P2_b\n",
    "\n",
    "P1_w=population proportion one is the white sounding name callbacks\n",
    "P2_b=populatioa proportion two is the black sounding name callbacks\n",
    "\n",
    "Assumption: A significance level of 0.05 or 95%\n"
   ]
  },
  {
   "cell_type": "markdown",
   "metadata": {},
   "source": [
    "## 3.) Compute margin of error, confidence interval, and p-value. \n",
    "Try using both the bootstrapping and the frequentist statistical approaches."
   ]
  },
  {
   "cell_type": "code",
   "execution_count": 106,
   "metadata": {},
   "outputs": [],
   "source": [
    "#p1_w is the proportion of callbacks for white sounding names\n",
    "#p2_b is the proportion of callbacks for black sounding names\n",
    "p1_w=num_w_calls/num_w\n",
    "p2_b=num_b_calls/num_b"
   ]
  },
  {
   "cell_type": "code",
   "execution_count": 107,
   "metadata": {},
   "outputs": [
    {
     "data": {
      "text/plain": [
       "0.080492813141683772"
      ]
     },
     "execution_count": 107,
     "metadata": {},
     "output_type": "execute_result"
    }
   ],
   "source": [
    "#calculate pooled sample proportion \n",
    "\n",
    "pooled_p= (p1_w * num_w + p2_b* num_b) / (num_w + num_b)\n",
    "pooled_p"
   ]
  },
  {
   "cell_type": "code",
   "execution_count": 108,
   "metadata": {},
   "outputs": [
    {
     "data": {
      "text/plain": [
       "0.0077968940361704568"
      ]
     },
     "execution_count": 108,
     "metadata": {},
     "output_type": "execute_result"
    }
   ],
   "source": [
    "#calculate standard error of the sampling distribution difference between two proportions\n",
    "std_error= np.sqrt(pooled_p * (1 - pooled_p)* ( (1.0/num_w) + (1.0/num_b) ))\n",
    "std_error"
   ]
  },
  {
   "cell_type": "code",
   "execution_count": 109,
   "metadata": {},
   "outputs": [
    {
     "data": {
      "text/plain": [
       "4.1084121524343464"
      ]
     },
     "execution_count": 109,
     "metadata": {},
     "output_type": "execute_result"
    }
   ],
   "source": [
    "#calculate z-score (z)\n",
    "z = (p1_w - p2_b) / std_error\n",
    "z"
   ]
  },
  {
   "cell_type": "code",
   "execution_count": 110,
   "metadata": {},
   "outputs": [
    {
     "data": {
      "text/plain": [
       "1.9919434187925383e-05"
      ]
     },
     "execution_count": 110,
     "metadata": {},
     "output_type": "execute_result"
    }
   ],
   "source": [
    "#calculates p value of sample mean compared \n",
    "stats.norm.cdf(-z)"
   ]
  },
  {
   "cell_type": "code",
   "execution_count": 111,
   "metadata": {},
   "outputs": [
    {
     "data": {
      "text/plain": [
       "1.9919434187887219e-05"
      ]
     },
     "execution_count": 111,
     "metadata": {},
     "output_type": "execute_result"
    }
   ],
   "source": [
    "#calculates p value of sample mean compared \n",
    "1-stats.norm.cdf(z)"
   ]
  },
  {
   "cell_type": "markdown",
   "metadata": {},
   "source": [
    "we have a two-tailed test, the P-value is the probability that the z-score is less than -4.11 or greater than 4.11.\n",
    "\n",
    "We use the Normal Distribution to find P(z < -4.11) = 1.9919434187925383e-05, and P(z > 4.11) = 1.9919434187925383e-05. Thus, adding these together the p-value is 3.9838868375850767e-05, extremely small and much less than the rejection level of assumption of significance (0.05).\n",
    "\n",
    "We reject the null hypothesis. We suspect there is a a differnence in the proportion of callbacks for black sounding names and white sounding names. \n"
   ]
  },
  {
   "cell_type": "code",
   "execution_count": 112,
   "metadata": {},
   "outputs": [
    {
     "name": "stdout",
     "output_type": "stream",
     "text": [
      "[ 0.0167509418986 , 0.0473147665203 ] 95% CI\n",
      "(0.015281912310894095, 'margin of error')\n"
     ]
    }
   ],
   "source": [
    "#confidence interval for 95% and margin of error\n",
    "left_interval_z=(p1_w-p2_b)-(1.96 * std_error)\n",
    "right_interval_z=(p1_w-p2_b)+(1.96 * std_error)\n",
    "print\"[\",left_interval_z,\",\",right_interval_z,\"]\", \"95% CI\"\n",
    "print((1.96 * std_error),'margin of error',)"
   ]
  },
  {
   "cell_type": "markdown",
   "metadata": {},
   "source": [
    "## 4.)Write a story describing the statistical significance in the context or the original problem.\n",
    "\n",
    "We are looking at the difference in the proportions of callback for each group, white sounding names and black sounding namnes. We hypothesized that there should not be a difference, which means the difference between the two proportions should be zero. Now the fact that the confidence interval for the difference does not contain zero, we can conclude that there is a statistically significant difference in the two proportion values at the given level of confidence. "
   ]
  },
  {
   "cell_type": "markdown",
   "metadata": {},
   "source": [
    "## 5.)Does your analysis mean that race/name is the most important factor in callback success? \n",
    "Why or why not? If not, how would you amend your analysis?\n",
    "\n",
    "No, race may not be the most important factor in callback success. The data actually has many variables that could be influencing the callback rate, education, years of experience, military experience, or job type. We have demonstrated that the sound of a person's name rather white sounding or black could be a contributing factor. We would need to investigate farther to determine if this affect is a causation or just a correlated attribute of callback rates. We would need to test again with observations, resumes, that had all variables except different black sounding names and white sounding names to see if there was still a difference in the proportion of callbacks. This would then be a strong indication of race/name being a causation affect on callback rates.  \n",
    "\n"
   ]
  },
  {
   "cell_type": "markdown",
   "metadata": {
    "collapsed": true
   },
   "source": [
    "<div class=\"span5 alert alert-success\">\n",
    "<h2>SOLUTION: What test is appropriate for this problem?</h2>\n",
    "\n",
    "<p>This is an interesting question, and it can be argued that there are two possible correct answers (such is life). First note the wording of the question: does race have a *significant impact* on callback. This usually suggests a $\\chi^2$-test, but the $\\chi^2$-test requires *frequencies* rather than percentages. Interestingly, one of the code snippets above uses frequency so we will look at that in a bit.</p>\n",
    "\n",
    "For now, a two-sample $z$-test:\n",
    "\n",
    "$$z = \\frac{\\left( \\hat{p}_W - \\hat{p}_B \\right) - 0}{\\sqrt{\\hat{p} (1 - \\hat{p)} \\left( \\frac{1}{n_W} + \\frac{1}{n_B}\\right)}}$$\n",
    "\n",
    "where\n",
    "\n",
    "$$\\hat{p} = \\frac{y_W + y_B}{n_W + n_B}$$\n",
    "\n",
    "The null and alternate hypotheses:\n",
    "\n",
    "$$H_0: p_B = p_W$$\n",
    "$$H_A: p_B \\ne p_W$$\n",
    "\n",
    "CLT applies because we assume that the samples are representative of the population. The observations in each sample are assumed to be independent since the sample was drawn randomly."
   ]
  },
  {
   "cell_type": "code",
   "execution_count": 92,
   "metadata": {},
   "outputs": [
    {
     "name": "stdout",
     "output_type": "stream",
     "text": [
      "Z score: 5.81017218579\n",
      "P-value: 6.24086216103e-09\n"
     ]
    }
   ],
   "source": [
    "#solution code\n",
    "w = data[data.race=='w']\n",
    "b = data[data.race=='b']\n",
    "\n",
    "n_w = len(w)\n",
    "n_b = len(b)\n",
    "\n",
    "prop_w = np.sum(w.call) / len(w)\n",
    "prop_b = np.sum(b.call) / len(b)\n",
    "\n",
    "prop_diff = prop_w - prop_b\n",
    "phat = (np.sum(w.call) + np.sum(b.call)) / (len(w) + len(b))\n",
    "\n",
    "z = prop_diff / np.sqrt(phat * (1 - phat) * ((1.0 / n_w) + (10 / n_b)))\n",
    "pval = stats.norm.cdf(-z) * 2\n",
    "print(\"Z score: {}\".format(z))\n",
    "print(\"P-value: {}\".format(pval))"
   ]
  },
  {
   "cell_type": "code",
   "execution_count": 94,
   "metadata": {},
   "outputs": [
    {
     "name": "stdout",
     "output_type": "stream",
     "text": [
      "Margin of Error: 0.0152819123109\n",
      "Confidence interval: [ 0.01675094  0.04731477]\n"
     ]
    }
   ],
   "source": [
    "moe = 1.96 * np.sqrt(phat * (1 - phat) * ((1.0 / n_w) + (1.0 / n_b)))\n",
    "ci = prop_diff + np.array([-1, 1]) * moe\n",
    "print(\"Margin of Error: {}\".format(moe))\n",
    "print(\"Confidence interval: {}\".format(ci))"
   ]
  },
  {
   "cell_type": "markdown",
   "metadata": {},
   "source": [
    "<div class=\"span5 alert alert-success\">\n",
    "<p>The p-value is practically 0 so we reject the null hypothesis that white and black sounding names have the same callback rate. They do not.</p>\n",
    "\n",
    "<p>Since 0 is not in the confidence interval, we reject the null hypothesis with the same conclusion.</p>\n",
    "\n",
    "<h4>SOLUTION: Does your analysis mean that race/name is the most important factor in callback success? Why or why not? If not, how would you amend your analysis?</h4>\n",
    "\n",
    "<p>No! While our test did show that there is a difference in callback rate based on race alone, there are other variables that may also contribute to, or interact with, race to explain the difference. In the original research paper, the researchers cited geography/city as a confounding variable. Additionally, we could also look at education and experience levels as well. But, in our very narrow example, we have shown that there is a significant difference in callback rates between white people and black people.</p>\n",
    "\n",
    "<p>The $\\chi^2$ approach:</p>\n",
    "</div>"
   ]
  },
  {
   "cell_type": "code",
   "execution_count": 12,
   "metadata": {},
   "outputs": [
    {
     "name": "stdout",
     "output_type": "stream",
     "text": [
      "Chi-squared test statistic: 16.4490285842\n",
      "p-value: 4.99757838996e-05\n"
     ]
    }
   ],
   "source": [
    "cont_table = pd.crosstab(index=data.call, columns=data.race)\n",
    "chi2, pval, _, _ = stats.chi2_contingency(cont_table)\n",
    "print(\"Chi-squared test statistic: {}\".format(chi2))\n",
    "print(\"p-value: {}\".format(pval))"
   ]
  },
  {
   "cell_type": "markdown",
   "metadata": {},
   "source": [
    "<div class=\"span5 alert alert-success\">\n",
    "The chi-squared test yields a similar result. We reject the null hypothesis that race and callback rate are independent. The margin of error and confidence interval calculations are a bit more complicated because the chi-squared distribution is not always symmetric, depending on the number of degrees of freedom.\n",
    "</div>"
   ]
  },
  {
   "cell_type": "code",
   "execution_count": null,
   "metadata": {
    "collapsed": true
   },
   "outputs": [],
   "source": []
  }
 ],
 "metadata": {
  "kernelspec": {
   "display_name": "Python 2",
   "language": "python",
   "name": "python2"
  }
 },
 "nbformat": 4,
 "nbformat_minor": 1
}
