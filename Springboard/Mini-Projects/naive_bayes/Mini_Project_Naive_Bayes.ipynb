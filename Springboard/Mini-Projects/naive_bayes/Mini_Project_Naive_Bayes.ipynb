{
 "cells": [
  {
   "cell_type": "markdown",
   "metadata": {},
   "source": [
    "# Basic Text Classification with Naive Bayes\n",
    "***\n",
    "In the mini-project, you'll learn the basics of text analysis using a subset of movie reviews from the rotten tomatoes database. You'll also use a fundamental technique in Bayesian inference, called Naive Bayes. This mini-project is based on [Lab 10 of Harvard's CS109](https://github.com/cs109/2015lab10) class.  Please free to go to the original lab for additional exercises and solutions."
   ]
  },
  {
   "cell_type": "code",
   "execution_count": 1,
   "metadata": {},
   "outputs": [],
   "source": [
    "%matplotlib inline\n",
    "import numpy as np\n",
    "import scipy as sp\n",
    "import matplotlib as mpl\n",
    "import matplotlib.cm as cm\n",
    "import matplotlib.pyplot as plt\n",
    "import pandas as pd\n",
    "import seaborn as sns\n",
    "from six.moves import range\n",
    "\n",
    "# Setup Pandas\n",
    "pd.set_option('display.width', 500)\n",
    "pd.set_option('display.max_columns', 100)\n",
    "pd.set_option('display.notebook_repr_html', True)\n",
    "\n",
    "# Setup Seaborn\n",
    "sns.set_style(\"whitegrid\")\n",
    "sns.set_context(\"poster\")"
   ]
  },
  {
   "cell_type": "markdown",
   "metadata": {},
   "source": [
    "# Table of Contents\n",
    "\n",
    "* [Rotten Tomatoes Dataset](#Rotten-Tomatoes-Dataset)\n",
    "    * [Explore](#Explore)\n",
    "* [The Vector Space Model and a Search Engine](#The-Vector-Space-Model-and-a-Search-Engine)\n",
    "    * [In Code](#In-Code)\n",
    "* [Naive Bayes](#Naive-Bayes)\n",
    "    * [Multinomial Naive Bayes and Other Likelihood Functions](#Multinomial-Naive-Bayes-and-Other-Likelihood-Functions)\n",
    "    * [Picking Hyperparameters for Naive Bayes and Text Maintenance](#Picking-Hyperparameters-for-Naive-Bayes-and-Text-Maintenance)\n",
    "* [Interpretation](#Interpretation)\n"
   ]
  },
  {
   "cell_type": "markdown",
   "metadata": {},
   "source": [
    "## Rotten Tomatoes Dataset"
   ]
  },
  {
   "cell_type": "code",
   "execution_count": 2,
   "metadata": {},
   "outputs": [
    {
     "data": {
      "text/html": [
       "<div>\n",
       "<style>\n",
       "    .dataframe thead tr:only-child th {\n",
       "        text-align: right;\n",
       "    }\n",
       "\n",
       "    .dataframe thead th {\n",
       "        text-align: left;\n",
       "    }\n",
       "\n",
       "    .dataframe tbody tr th {\n",
       "        vertical-align: top;\n",
       "    }\n",
       "</style>\n",
       "<table border=\"1\" class=\"dataframe\">\n",
       "  <thead>\n",
       "    <tr style=\"text-align: right;\">\n",
       "      <th></th>\n",
       "      <th>critic</th>\n",
       "      <th>fresh</th>\n",
       "      <th>imdb</th>\n",
       "      <th>publication</th>\n",
       "      <th>quote</th>\n",
       "      <th>review_date</th>\n",
       "      <th>rtid</th>\n",
       "      <th>title</th>\n",
       "    </tr>\n",
       "  </thead>\n",
       "  <tbody>\n",
       "    <tr>\n",
       "      <th>1</th>\n",
       "      <td>Derek Adams</td>\n",
       "      <td>fresh</td>\n",
       "      <td>114709</td>\n",
       "      <td>Time Out</td>\n",
       "      <td>So ingenious in concept, design and execution ...</td>\n",
       "      <td>2009-10-04</td>\n",
       "      <td>9559</td>\n",
       "      <td>Toy story</td>\n",
       "    </tr>\n",
       "    <tr>\n",
       "      <th>2</th>\n",
       "      <td>Richard Corliss</td>\n",
       "      <td>fresh</td>\n",
       "      <td>114709</td>\n",
       "      <td>TIME Magazine</td>\n",
       "      <td>The year's most inventive comedy.</td>\n",
       "      <td>2008-08-31</td>\n",
       "      <td>9559</td>\n",
       "      <td>Toy story</td>\n",
       "    </tr>\n",
       "    <tr>\n",
       "      <th>3</th>\n",
       "      <td>David Ansen</td>\n",
       "      <td>fresh</td>\n",
       "      <td>114709</td>\n",
       "      <td>Newsweek</td>\n",
       "      <td>A winning animated feature that has something ...</td>\n",
       "      <td>2008-08-18</td>\n",
       "      <td>9559</td>\n",
       "      <td>Toy story</td>\n",
       "    </tr>\n",
       "    <tr>\n",
       "      <th>4</th>\n",
       "      <td>Leonard Klady</td>\n",
       "      <td>fresh</td>\n",
       "      <td>114709</td>\n",
       "      <td>Variety</td>\n",
       "      <td>The film sports a provocative and appealing st...</td>\n",
       "      <td>2008-06-09</td>\n",
       "      <td>9559</td>\n",
       "      <td>Toy story</td>\n",
       "    </tr>\n",
       "    <tr>\n",
       "      <th>5</th>\n",
       "      <td>Jonathan Rosenbaum</td>\n",
       "      <td>fresh</td>\n",
       "      <td>114709</td>\n",
       "      <td>Chicago Reader</td>\n",
       "      <td>An entertaining computer-generated, hyperreali...</td>\n",
       "      <td>2008-03-10</td>\n",
       "      <td>9559</td>\n",
       "      <td>Toy story</td>\n",
       "    </tr>\n",
       "  </tbody>\n",
       "</table>\n",
       "</div>"
      ],
      "text/plain": [
       "               critic  fresh    imdb     publication                                              quote review_date  rtid      title\n",
       "1         Derek Adams  fresh  114709        Time Out  So ingenious in concept, design and execution ...  2009-10-04  9559  Toy story\n",
       "2     Richard Corliss  fresh  114709   TIME Magazine                  The year's most inventive comedy.  2008-08-31  9559  Toy story\n",
       "3         David Ansen  fresh  114709        Newsweek  A winning animated feature that has something ...  2008-08-18  9559  Toy story\n",
       "4       Leonard Klady  fresh  114709         Variety  The film sports a provocative and appealing st...  2008-06-09  9559  Toy story\n",
       "5  Jonathan Rosenbaum  fresh  114709  Chicago Reader  An entertaining computer-generated, hyperreali...  2008-03-10  9559  Toy story"
      ]
     },
     "execution_count": 2,
     "metadata": {},
     "output_type": "execute_result"
    }
   ],
   "source": [
    "critics = pd.read_csv('/Users/luca/anaconda2/Springboard/data/critics.csv')\n",
    "#let's drop rows with missing quotes\n",
    "critics = critics[~critics.quote.isnull()]\n",
    "critics.head()"
   ]
  },
  {
   "cell_type": "markdown",
   "metadata": {},
   "source": [
    "### Explore"
   ]
  },
  {
   "cell_type": "code",
   "execution_count": 3,
   "metadata": {},
   "outputs": [
    {
     "name": "stdout",
     "output_type": "stream",
     "text": [
      "Number of reviews: 15561\n",
      "Number of critics: 623\n",
      "Number of movies:  1921\n"
     ]
    }
   ],
   "source": [
    "n_reviews = len(critics)\n",
    "n_movies = critics.rtid.unique().size\n",
    "n_critics = critics.critic.unique().size\n",
    "\n",
    "\n",
    "print(\"Number of reviews: {:d}\".format(n_reviews))\n",
    "print(\"Number of critics: {:d}\".format(n_critics))\n",
    "print(\"Number of movies:  {:d}\".format(n_movies))"
   ]
  },
  {
   "cell_type": "code",
   "execution_count": 4,
   "metadata": {},
   "outputs": [
    {
     "data": {
      "image/png": "[encoded data removed]",
      "text/plain": [
       "<matplotlib.figure.Figure at 0x10c48d4d0>"
      ]
     },
     "metadata": {},
     "output_type": "display_data"
    }
   ],
   "source": [
    "df = critics.copy()\n",
    "df['fresh'] = df.fresh == 'fresh'\n",
    "grp = df.groupby('critic')\n",
    "counts = grp.critic.count()  # number of reviews by each critic\n",
    "means = grp.fresh.mean()     # average freshness for each critic\n",
    "\n",
    "means[counts > 100].hist(bins=10, edgecolor='w', lw=1)\n",
    "plt.xlabel(\"Average Rating per critic\")\n",
    "plt.ylabel(\"Number of Critics\")\n",
    "plt.yticks([0, 2, 4, 6, 8, 10]);"
   ]
  },
  {
   "cell_type": "markdown",
   "metadata": {},
   "source": [
    "<div class=\"span5 alert alert-info\">\n",
    "<h3>Exercise Set I</h3>\n",
    "<br/>\n",
    "<b>Exercise:</b> Look at the histogram above. Tell a story about the average ratings per critic. What shape does the distribution look like? What is interesting about the distribution? What might explain these interesting things?\n",
    "</div>"
   ]
  },
  {
   "cell_type": "markdown",
   "metadata": {},
   "source": [
    "Histogram shapes can be influenced by the bin number. Here for example, a bin of 5 instead of 10 looks much closer to normal through slightly heavy to the right side, but one of 100 looks much less like a normal distribution. Taking this histogram at face value, we see that it looks mostly normal as well through still heavy on the right side. We draw from it a few interesting suppositions about critics. Critics like to give positive ratings but not too positive. You can see that movies rated at .5 or below occur much less often. A large number occur between .6 and .7 and much fewer get above .7 marks. Critics are writers writing to a very broad audience. An audience who might not continue to read thier reviews if they don't agree with the critic more often than not. Hence, critics seem to sparingly give out either high or low ratings. Now critics might hide or subdue thier true rating or preference of a movie but does their crititic reflect that? "
   ]
  },
  {
   "cell_type": "markdown",
   "metadata": {},
   "source": [
    "## The Vector Space Model and a Search Engine"
   ]
  },
  {
   "cell_type": "markdown",
   "metadata": {},
   "source": [
    "All the diagrams here are snipped from [*Introduction to Information Retrieval* by Manning et. al.]( http://nlp.stanford.edu/IR-book/) which is a great resource on text processing. For additional information on text mining and natural language processing, see [*Foundations of Statistical Natural Language Processing* by Manning and Schutze](http://nlp.stanford.edu/fsnlp/).\n",
    "\n",
    "Also check out Python packages [`nltk`](http://www.nltk.org/), [`spaCy`](https://spacy.io/), [`pattern`](http://www.clips.ua.ac.be/pattern), and their associated resources. Also see [`word2vec`](https://en.wikipedia.org/wiki/Word2vec).\n",
    "\n",
    "Let us define the vector derived from document $d$ by $\\bar V(d)$. What does this mean? Each document is treated as a vector containing information about the words contained in it. Each vector has the same length and each entry \"slot\" in the vector contains some kind of data about the words that appear in the document such as presence/absence (1/0), count (an integer) or some other statistic. Each vector has the same length because each document shared the same vocabulary across the full collection of documents -- this collection is called a *corpus*.\n",
    "\n",
    "To define the vocabulary, we take a union of all words we have seen in all documents. We then just associate an array index with them. So \"hello\" may be at index 5 and \"world\" at index 99.\n",
    "\n",
    "Suppose we have the following corpus:\n",
    "\n",
    "`A Fox one day spied a beautiful bunch of ripe grapes hanging from a vine trained along the branches of a tree. The grapes seemed ready to burst with juice, and the Fox's mouth watered as he gazed longingly at them.`\n",
    "\n",
    "Suppose we treat each sentence as a document $d$. The vocabulary (often called the *lexicon*) is the following:\n",
    "\n",
    "$V = \\left\\{\\right.$ `a, along, and, as, at, beautiful, branches, bunch, burst, day, fox, fox's, from, gazed, grapes, hanging, he, juice, longingly, mouth, of, one, ready, ripe, seemed, spied, the, them, to, trained, tree, vine, watered, with`$\\left.\\right\\}$\n",
    "\n",
    "Then the document\n",
    "\n",
    "`A Fox one day spied a beautiful bunch of ripe grapes hanging from a vine trained along the branches of a tree`\n",
    "\n",
    "may be represented as the following sparse vector of word counts:\n",
    "\n",
    "$$\\bar V(d) = \\left( 4,1,0,0,0,1,1,1,0,1,1,0,1,0,1,1,0,0,0,0,2,1,0,1,0,0,1,0,0,0,1,1,0,0 \\right)$$\n",
    "\n",
    "or more succinctly as\n",
    "\n",
    "`[(0, 4), (1, 1), (5, 1), (6, 1), (7, 1), (9, 1), (10, 1), (12, 1), (14, 1), (15, 1), (20, 2), (21, 1), (23, 1),`\n",
    "`(26, 1), (30, 1), (31, 1)]`\n",
    "\n",
    "along with a dictionary\n",
    "\n",
    "``\n",
    "{\n",
    "    0: a, 1: along, 5: beautiful, 6: branches, 7: bunch, 9: day, 10: fox, 12: from, 14: grapes, \n",
    "    15: hanging, 19: mouth, 20: of, 21: one, 23: ripe, 24: seemed, 25: spied, 26: the, \n",
    "    30: tree, 31: vine, \n",
    "}\n",
    "``\n",
    "\n",
    "Then, a set of documents becomes, in the usual `sklearn` style, a sparse matrix with rows being sparse arrays representing documents and columns representing the features/words in the vocabulary.\n",
    "\n",
    "Notice that this representation loses the relative ordering of the terms in the document. That is \"cat ate rat\" and \"rat ate cat\" are the same. Thus, this representation is also known as the Bag-Of-Words representation.\n",
    "\n",
    "Here is another example, from the book quoted above, although the matrix is transposed here so that documents are columns:\n",
    "\n",
    "![novel terms](terms.png)\n",
    "\n",
    "Such a matrix is also catted a Term-Document Matrix. Here, the terms being indexed could be stemmed before indexing; for instance, `jealous` and `jealousy` after stemming are the same feature. One could also make use of other \"Natural Language Processing\" transformations in constructing the vocabulary. We could use Lemmatization, which reduces words to lemmas: work, working, worked would all reduce to work. We could remove \"stopwords\" from our vocabulary, such as common words like \"the\". We could look for particular parts of speech, such as adjectives. This is often done in Sentiment Analysis. And so on. It all depends on our application.\n",
    "\n",
    "From the book:\n",
    ">The standard way of quantifying the similarity between two documents $d_1$ and $d_2$  is to compute the cosine similarity of their vector representations $\\bar V(d_1)$ and $\\bar V(d_2)$:\n",
    "\n",
    "$$S_{12} = \\frac{\\bar V(d_1) \\cdot \\bar V(d_2)}{|\\bar V(d_1)| \\times |\\bar V(d_2)|}$$\n",
    "\n",
    "![Vector Space Model](vsm.png)\n",
    "\n",
    "\n",
    ">There is a far more compelling reason to represent documents as vectors: we can also view a query as a vector. Consider the query q = jealous gossip. This query turns into the unit vector $\\bar V(q)$ = (0, 0.707, 0.707) on the three coordinates below. \n",
    "\n",
    "![novel terms](terms2.png)\n",
    "\n",
    ">The key idea now: to assign to each document d a score equal to the dot product:\n",
    "\n",
    "$$\\bar V(q) \\cdot \\bar V(d)$$\n",
    "\n",
    "Then we can use this simple Vector Model as a Search engine."
   ]
  },
  {
   "cell_type": "markdown",
   "metadata": {},
   "source": [
    "### In Code"
   ]
  },
  {
   "cell_type": "code",
   "execution_count": 5,
   "metadata": {},
   "outputs": [
    {
     "name": "stdout",
     "output_type": "stream",
     "text": [
      "Original text is\n",
      "Hop on pop\n",
      "Hop off pop\n",
      "Hop Hop hop\n",
      "\n",
      "Transformed text vector is \n",
      "[[1 0 1 1]\n",
      " [1 1 0 1]\n",
      " [3 0 0 0]]\n",
      "\n",
      "Words for each feature:\n",
      "[u'hop', u'off', u'on', u'pop']\n"
     ]
    }
   ],
   "source": [
    "from sklearn.feature_extraction.text import CountVectorizer\n",
    "\n",
    "text = ['Hop on pop', 'Hop off pop', 'Hop Hop hop']\n",
    "print(\"Original text is\\n{}\".format('\\n'.join(text)))\n",
    "\n",
    "vectorizer = CountVectorizer(min_df=0)\n",
    "\n",
    "# call `fit` to build the vocabulary\n",
    "vectorizer.fit(text)\n",
    "\n",
    "# call `transform` to convert text to a bag of words\n",
    "x = vectorizer.transform(text)\n",
    "\n",
    "# CountVectorizer uses a sparse array to save memory, but it's easier in this assignment to \n",
    "# convert back to a \"normal\" numpy array\n",
    "x = x.toarray()\n",
    "\n",
    "print(\"\")\n",
    "print(\"Transformed text vector is \\n{}\".format(x))\n",
    "\n",
    "# `get_feature_names` tracks which word is associated with each column of the transformed x\n",
    "print(\"\")\n",
    "print(\"Words for each feature:\")\n",
    "print(vectorizer.get_feature_names())\n",
    "\n",
    "# Notice that the bag of words treatment doesn't preserve information about the *order* of words, \n",
    "# just their frequency"
   ]
  },
  {
   "cell_type": "code",
   "execution_count": 6,
   "metadata": {},
   "outputs": [],
   "source": [
    "def make_xy(critics, vectorizer=None):\n",
    "    #Your code here    \n",
    "    if vectorizer is None:\n",
    "        vectorizer = CountVectorizer()\n",
    "    X = vectorizer.fit_transform(critics.quote)\n",
    "    X = X.tocsc()  # some versions of sklearn return COO format\n",
    "    y = (critics.fresh == 'fresh').values.astype(np.int)\n",
    "    return X, y\n",
    "X, y = make_xy(critics)"
   ]
  },
  {
   "cell_type": "markdown",
   "metadata": {},
   "source": [
    "## Naive Bayes"
   ]
  },
  {
   "cell_type": "markdown",
   "metadata": {},
   "source": [
    "From Bayes' Theorem, we have that\n",
    "\n",
    "$$P(c \\vert f) = \\frac{P(c \\cap f)}{P(f)}$$\n",
    "\n",
    "where $c$ represents a *class* or category, and $f$ represents a feature vector, such as $\\bar V(d)$ as above. **We are computing the probability that a document (or whatever we are classifying) belongs to category *c* given the features in the document.** $P(f)$ is really just a normalization constant, so the literature usually writes Bayes' Theorem in context of Naive Bayes as\n",
    "\n",
    "$$P(c \\vert f) \\propto P(f \\vert c) P(c) $$\n",
    "\n",
    "$P(c)$ is called the *prior* and is simply the probability of seeing class $c$. But what is $P(f \\vert c)$? This is the probability that we see feature set $f$ given that this document is actually in class $c$. This is called the *likelihood* and comes from the data. One of the major assumptions of the Naive Bayes model is that the features are *conditionally independent* given the class. While the presence of a particular discriminative word may uniquely identify the document as being part of class $c$ and thus violate general feature independence, conditional independence means that the presence of that term is independent of all the other words that appear *within that class*. This is a very important distinction. Recall that if two events are independent, then:\n",
    "\n",
    "$$P(A \\cap B) = P(A) \\cdot P(B)$$\n",
    "\n",
    "Thus, conditional independence implies\n",
    "\n",
    "$$P(f \\vert c)  = \\prod_i P(f_i | c) $$\n",
    "\n",
    "where $f_i$ is an individual feature (a word in this example).\n",
    "\n",
    "To make a classification, we then choose the class $c$ such that $P(c \\vert f)$ is maximal.\n",
    "\n",
    "There is a small caveat when computing these probabilities. For [floating point underflow](http://nlp.stanford.edu/IR-book/html/htmledition/naive-bayes-text-classification-1.html) we change the product into a sum by going into log space. This is called the LogSumExp trick. So:\n",
    "\n",
    "$$\\log P(f \\vert c)  = \\sum_i \\log P(f_i \\vert c) $$\n",
    "\n",
    "There is another caveat. What if we see a term that didn't exist in the training data? This means that $P(f_i \\vert c) = 0$ for that term, and thus $P(f \\vert c)  = \\prod_i P(f_i | c) = 0$, which doesn't help us at all. Instead of using zeros, we add a small negligible value called $\\alpha$ to each count. This is called Laplace Smoothing.\n",
    "\n",
    "$$P(f_i \\vert c) = \\frac{N_{ic}+\\alpha}{N_c + \\alpha N_i}$$\n",
    "\n",
    "where $N_{ic}$ is the number of times feature $i$ was seen in class $c$, $N_c$ is the number of times class $c$ was seen and $N_i$ is the number of times feature $i$ was seen globally. $\\alpha$ is sometimes called a regularization parameter."
   ]
  },
  {
   "cell_type": "markdown",
   "metadata": {},
   "source": [
    "### Multinomial Naive Bayes and Other Likelihood Functions\n",
    "\n",
    "Since we are modeling word counts, we are using variation of Naive Bayes called Multinomial Naive Bayes. This is because the likelihood function actually takes the form of the multinomial distribution.\n",
    "\n",
    "$$P(f \\vert c) = \\frac{\\left( \\sum_i f_i \\right)!}{\\prod_i f_i!} \\prod_{f_i} P(f_i \\vert c)^{f_i} \\propto \\prod_{i} P(f_i \\vert c)$$\n",
    "\n",
    "where the nasty term out front is absorbed as a normalization constant such that probabilities sum to 1.\n",
    "\n",
    "There are many other variations of Naive Bayes, all which depend on what type of value $f_i$ takes. If $f_i$ is continuous, we may be able to use *Gaussian Naive Bayes*. First compute the mean and variance for each class $c$. Then the likelihood, $P(f \\vert c)$ is given as follows\n",
    "\n",
    "$$P(f_i = v \\vert c) = \\frac{1}{\\sqrt{2\\pi \\sigma^2_c}} e^{- \\frac{\\left( v - \\mu_c \\right)^2}{2 \\sigma^2_c}}$$"
   ]
  },
  {
   "cell_type": "markdown",
   "metadata": {},
   "source": [
    "<div class=\"span5 alert alert-info\">\n",
    "<h3>Exercise Set II</h3>\n",
    "\n",
    "<p><b>Exercise:</b> Implement a simple Naive Bayes classifier:</p>\n",
    "\n",
    "<ol>\n",
    "<li> split the data set into a training and test set\n",
    "<li> Use `scikit-learn`'s `MultinomialNB()` classifier with default parameters.\n",
    "<li> train the classifier over the training set and test on the test set\n",
    "<li> print the accuracy scores for both the training and the test sets\n",
    "</ol>\n",
    "\n",
    "What do you notice? Is this a good classifier? If not, why not?\n",
    "</div>"
   ]
  },
  {
   "cell_type": "code",
   "execution_count": 7,
   "metadata": {},
   "outputs": [
    {
     "name": "stdout",
     "output_type": "stream",
     "text": [
      "Accuracy on training data: 0.92\n",
      "Accuracy on test data:     0.78\n"
     ]
    }
   ],
   "source": [
    "#your turn\n",
    "\n",
    "#import machine learning modules\n",
    "from sklearn.model_selection import train_test_split\n",
    "from sklearn.naive_bayes import MultinomialNB\n",
    "from sklearn.metrics import accuracy_score\n",
    "\n",
    "\n",
    "#transform data into vectors\n",
    "x,y=make_xy(critics)\n",
    "\n",
    "# split into training and test sets\n",
    "x_train, x_test, y_train, y_test= train_test_split(x,y, test_size=.3, random_state=42)\n",
    "\n",
    "#initiate the naive bayes classifier\n",
    "clf = MultinomialNB()\n",
    "\n",
    "# Fit the model on the trainng data.\n",
    "clf.fit( x_train,y_train)\n",
    "\n",
    "#print the accuracy on the training data\n",
    "training_accuracy = clf.score(x_train, y_train)\n",
    "print(\"Accuracy on training data: {:0.2f}\".format(training_accuracy))\n",
    "\n",
    "#print the accuracy on the test data\n",
    "test_accuracy = clf.score(x_test, y_test)\n",
    "print(\"Accuracy on test data:     {:0.2f}\".format(test_accuracy))\n"
   ]
  },
  {
   "cell_type": "markdown",
   "metadata": {},
   "source": [
    "The fit on the training data is high compared to the test dats, therefore, I would suspect that the model is overfitting. However, the prediction on the test set is not bad. We do predict 78% correctly."
   ]
  },
  {
   "cell_type": "markdown",
   "metadata": {},
   "source": [
    "### Picking Hyperparameters for Naive Bayes and Text Maintenance"
   ]
  },
  {
   "cell_type": "markdown",
   "metadata": {},
   "source": [
    "We need to know what value to use for $\\alpha$, and we also need to know which words to include in the vocabulary. As mentioned earlier, some words are obvious stopwords. Other words appear so infrequently that they serve as noise, and other words in addition to stopwords appear so frequently that they may also serve as noise."
   ]
  },
  {
   "cell_type": "markdown",
   "metadata": {},
   "source": [
    "First, let's find an appropriate value for `min_df` for the `CountVectorizer`. `min_df` can be either an integer or a float/decimal. If it is an integer, `min_df` represents the minimum number of documents a word must appear in for it to be included in the vocabulary. If it is a float, it represents the minimum *percentage* of documents a word must appear in to be included in the vocabulary. From the documentation:"
   ]
  },
  {
   "cell_type": "markdown",
   "metadata": {},
   "source": [
    ">min_df: When building the vocabulary ignore terms that have a document frequency strictly lower than the given threshold. This value is also called cut-off in the literature. If float, the parameter represents a proportion of documents, integer absolute counts. This parameter is ignored if vocabulary is not None."
   ]
  },
  {
   "cell_type": "markdown",
   "metadata": {},
   "source": [
    "<div class=\"span5 alert alert-info\">\n",
    "<h3>Exercise Set III</h3>\n",
    "\n",
    "<p><b>Exercise:</b> Construct the cumulative distribution of document frequencies (df). The $x$-axis is a document count $x_i$ and the $y$-axis is the percentage of words that appear less than $x_i$ times. For example, at $x=5$, plot a point representing the percentage or number of words that appear in 5 or fewer documents.</p>\n",
    "\n",
    "<p><b>Exercise:</b> Look for the point at which the curve begins climbing steeply. This may be a good value for `min_df`. If we were interested in also picking `max_df`, we would likely pick the value where the curve starts to plateau. What value did you choose?</p>\n",
    "</div>"
   ]
  },
  {
   "cell_type": "code",
   "execution_count": 8,
   "metadata": {},
   "outputs": [],
   "source": [
    "#turn the quote column into vectorized data\n",
    "df=vectorizer.fit_transform(critics.quote)"
   ]
  },
  {
   "cell_type": "code",
   "execution_count": 9,
   "metadata": {},
   "outputs": [],
   "source": [
    "#save vectors as an numpy array\n",
    "df_vectors=df.toarray()"
   ]
  },
  {
   "cell_type": "code",
   "execution_count": 10,
   "metadata": {},
   "outputs": [
    {
     "data": {
      "text/plain": [
       "array([ 8,  1, 10, ...,  3,  1,  1])"
      ]
     },
     "execution_count": 10,
     "metadata": {},
     "output_type": "execute_result"
    }
   ],
   "source": [
    "#sum columnwise along the array \n",
    "word_freq=df.toarray().sum(axis=0)\n",
    "word_freq"
   ]
  },
  {
   "cell_type": "code",
   "execution_count": 12,
   "metadata": {},
   "outputs": [
    {
     "data": {
      "text/plain": [
       "Counter({1: 9552,\n",
       "         2: 3486,\n",
       "         3: 1916,\n",
       "         4: 1259,\n",
       "         5: 896,\n",
       "         6: 634,\n",
       "         7: 532,\n",
       "         8: 415,\n",
       "         9: 354,\n",
       "         10: 294,\n",
       "         11: 235,\n",
       "         12: 212,\n",
       "         13: 185,\n",
       "         14: 176,\n",
       "         15: 135,\n",
       "         16: 104,\n",
       "         17: 106,\n",
       "         18: 90,\n",
       "         19: 95,\n",
       "         20: 77,\n",
       "         21: 83,\n",
       "         22: 75,\n",
       "         23: 57,\n",
       "         24: 48,\n",
       "         25: 53,\n",
       "         26: 53,\n",
       "         27: 42,\n",
       "         28: 48,\n",
       "         29: 44,\n",
       "         30: 45,\n",
       "         31: 35,\n",
       "         32: 28,\n",
       "         33: 34,\n",
       "         34: 36,\n",
       "         35: 26,\n",
       "         36: 27,\n",
       "         37: 21,\n",
       "         38: 18,\n",
       "         39: 25,\n",
       "         40: 19,\n",
       "         41: 20,\n",
       "         42: 23,\n",
       "         43: 18,\n",
       "         44: 21,\n",
       "         45: 17,\n",
       "         46: 17,\n",
       "         47: 20,\n",
       "         48: 10,\n",
       "         49: 17,\n",
       "         50: 12,\n",
       "         51: 7,\n",
       "         52: 13,\n",
       "         53: 20,\n",
       "         54: 6,\n",
       "         55: 10,\n",
       "         56: 17,\n",
       "         57: 14,\n",
       "         58: 10,\n",
       "         59: 10,\n",
       "         60: 13,\n",
       "         61: 11,\n",
       "         62: 10,\n",
       "         63: 11,\n",
       "         64: 9,\n",
       "         65: 4,\n",
       "         66: 12,\n",
       "         67: 12,\n",
       "         68: 7,\n",
       "         69: 3,\n",
       "         70: 3,\n",
       "         71: 6,\n",
       "         72: 5,\n",
       "         73: 6,\n",
       "         74: 6,\n",
       "         75: 5,\n",
       "         76: 11,\n",
       "         77: 11,\n",
       "         78: 2,\n",
       "         79: 4,\n",
       "         80: 11,\n",
       "         81: 5,\n",
       "         82: 5,\n",
       "         83: 5,\n",
       "         84: 7,\n",
       "         85: 4,\n",
       "         86: 5,\n",
       "         87: 3,\n",
       "         88: 2,\n",
       "         89: 4,\n",
       "         90: 3,\n",
       "         91: 4,\n",
       "         92: 1,\n",
       "         93: 8,\n",
       "         94: 5,\n",
       "         95: 5,\n",
       "         96: 4,\n",
       "         97: 3,\n",
       "         98: 2,\n",
       "         99: 3,\n",
       "         100: 5,\n",
       "         101: 4,\n",
       "         102: 2,\n",
       "         103: 3,\n",
       "         104: 2,\n",
       "         105: 1,\n",
       "         106: 8,\n",
       "         107: 4,\n",
       "         108: 2,\n",
       "         110: 3,\n",
       "         111: 2,\n",
       "         112: 6,\n",
       "         113: 4,\n",
       "         116: 8,\n",
       "         117: 2,\n",
       "         118: 3,\n",
       "         119: 1,\n",
       "         121: 2,\n",
       "         122: 1,\n",
       "         123: 3,\n",
       "         124: 1,\n",
       "         126: 1,\n",
       "         127: 2,\n",
       "         128: 4,\n",
       "         130: 1,\n",
       "         131: 1,\n",
       "         133: 2,\n",
       "         134: 3,\n",
       "         135: 1,\n",
       "         137: 2,\n",
       "         138: 4,\n",
       "         140: 1,\n",
       "         141: 3,\n",
       "         142: 4,\n",
       "         144: 3,\n",
       "         145: 2,\n",
       "         146: 3,\n",
       "         147: 3,\n",
       "         149: 1,\n",
       "         150: 1,\n",
       "         151: 1,\n",
       "         153: 1,\n",
       "         154: 1,\n",
       "         156: 3,\n",
       "         157: 2,\n",
       "         158: 2,\n",
       "         159: 2,\n",
       "         160: 2,\n",
       "         161: 2,\n",
       "         162: 1,\n",
       "         166: 3,\n",
       "         169: 1,\n",
       "         170: 2,\n",
       "         172: 2,\n",
       "         175: 1,\n",
       "         176: 1,\n",
       "         177: 3,\n",
       "         178: 1,\n",
       "         179: 1,\n",
       "         182: 1,\n",
       "         183: 1,\n",
       "         184: 1,\n",
       "         186: 3,\n",
       "         188: 1,\n",
       "         189: 1,\n",
       "         191: 1,\n",
       "         192: 2,\n",
       "         195: 1,\n",
       "         196: 2,\n",
       "         198: 1,\n",
       "         199: 1,\n",
       "         200: 1,\n",
       "         201: 2,\n",
       "         202: 1,\n",
       "         205: 1,\n",
       "         207: 1,\n",
       "         208: 2,\n",
       "         209: 1,\n",
       "         210: 1,\n",
       "         212: 1,\n",
       "         213: 1,\n",
       "         214: 2,\n",
       "         219: 2,\n",
       "         221: 1,\n",
       "         222: 1,\n",
       "         223: 1,\n",
       "         225: 1,\n",
       "         226: 1,\n",
       "         227: 3,\n",
       "         231: 2,\n",
       "         232: 2,\n",
       "         233: 1,\n",
       "         234: 1,\n",
       "         236: 1,\n",
       "         237: 2,\n",
       "         239: 1,\n",
       "         242: 1,\n",
       "         244: 3,\n",
       "         248: 1,\n",
       "         249: 1,\n",
       "         252: 3,\n",
       "         254: 1,\n",
       "         256: 1,\n",
       "         257: 3,\n",
       "         258: 3,\n",
       "         260: 1,\n",
       "         261: 1,\n",
       "         263: 1,\n",
       "         264: 1,\n",
       "         266: 1,\n",
       "         271: 1,\n",
       "         272: 1,\n",
       "         273: 1,\n",
       "         274: 1,\n",
       "         276: 1,\n",
       "         278: 1,\n",
       "         279: 1,\n",
       "         282: 1,\n",
       "         284: 2,\n",
       "         287: 1,\n",
       "         288: 1,\n",
       "         290: 1,\n",
       "         293: 1,\n",
       "         295: 1,\n",
       "         296: 2,\n",
       "         301: 1,\n",
       "         305: 1,\n",
       "         306: 1,\n",
       "         320: 1,\n",
       "         322: 1,\n",
       "         324: 1,\n",
       "         330: 1,\n",
       "         336: 1,\n",
       "         341: 1,\n",
       "         343: 1,\n",
       "         344: 1,\n",
       "         354: 1,\n",
       "         363: 1,\n",
       "         364: 1,\n",
       "         367: 1,\n",
       "         369: 1,\n",
       "         370: 1,\n",
       "         383: 1,\n",
       "         386: 1,\n",
       "         387: 1,\n",
       "         388: 1,\n",
       "         396: 1,\n",
       "         399: 1,\n",
       "         413: 1,\n",
       "         415: 1,\n",
       "         417: 1,\n",
       "         422: 1,\n",
       "         433: 1,\n",
       "         434: 1,\n",
       "         438: 2,\n",
       "         439: 1,\n",
       "         443: 1,\n",
       "         462: 1,\n",
       "         469: 1,\n",
       "         472: 1,\n",
       "         478: 1,\n",
       "         496: 1,\n",
       "         504: 1,\n",
       "         507: 1,\n",
       "         531: 1,\n",
       "         540: 1,\n",
       "         545: 2,\n",
       "         572: 1,\n",
       "         591: 1,\n",
       "         599: 1,\n",
       "         615: 1,\n",
       "         644: 1,\n",
       "         657: 1,\n",
       "         663: 1,\n",
       "         688: 1,\n",
       "         689: 1,\n",
       "         691: 1,\n",
       "         702: 1,\n",
       "         703: 1,\n",
       "         711: 1,\n",
       "         744: 1,\n",
       "         790: 1,\n",
       "         821: 1,\n",
       "         864: 1,\n",
       "         875: 1,\n",
       "         887: 1,\n",
       "         993: 1,\n",
       "         1018: 1,\n",
       "         1024: 1,\n",
       "         1037: 1,\n",
       "         1069: 1,\n",
       "         1085: 1,\n",
       "         1121: 1,\n",
       "         1157: 1,\n",
       "         1237: 1,\n",
       "         1295: 1,\n",
       "         1301: 1,\n",
       "         1331: 1,\n",
       "         1390: 1,\n",
       "         1408: 2,\n",
       "         1836: 1,\n",
       "         1903: 1,\n",
       "         2148: 1,\n",
       "         2199: 1,\n",
       "         2267: 1,\n",
       "         2335: 1,\n",
       "         2411: 1,\n",
       "         2577: 1,\n",
       "         2858: 1,\n",
       "         3681: 1,\n",
       "         4252: 1,\n",
       "         5332: 1,\n",
       "         5974: 1,\n",
       "         6238: 1,\n",
       "         9778: 1,\n",
       "         9904: 1,\n",
       "         16805: 1})"
      ]
     },
     "execution_count": 12,
     "metadata": {},
     "output_type": "execute_result"
    }
   ],
   "source": [
    "#import a counter \n",
    "from collections import Counter\n",
    "\n",
    "#count occurances that occur of words in documents i.e. how many words appear per document\n",
    "word_doc=Counter(word_freq)\n",
    "word_doc"
   ]
  },
  {
   "cell_type": "code",
   "execution_count": 13,
   "metadata": {},
   "outputs": [
    {
     "data": {
      "text/plain": [
       "22417"
      ]
     },
     "execution_count": 13,
     "metadata": {},
     "output_type": "execute_result"
    }
   ],
   "source": [
    "sum(word_doc.values())"
   ]
  },
  {
   "cell_type": "code",
   "execution_count": 43,
   "metadata": {},
   "outputs": [
    {
     "name": "stdout",
     "output_type": "stream",
     "text": [
      "[(u'maker', 9904), (u'routine', 2858), (u'long', 1836), (u'premise', 1157), (u'human', 1069), (u'situations', 1024), (u'contemporary', 1018), (u'drama', 396), (u'now', 330), (u'toward', 248), (u'later', 244), (u'intense', 242), (u'step', 214), (u'inner', 205), (u'during', 195), (u'formulaic', 177), (u'mrs', 172), (u'down', 170), (u'occasional', 144), (u'thrillers', 142), (u'inside', 140), (u'release', 123), (u'irresistible', 121), (u'frequently', 118), (u'far', 116), (u'itself', 112), (u'range', 110), (u'obvious', 103), (u'dumb', 99), (u'steven', 96), (u'minutes', 96), (u'terrible', 91), (u'missed', 90), (u'friends', 89), (u'douglas', 87), (u'll', 77), (u'ideas', 76), (u'elaborate', 69), (u'easy', 66), (u'doubt', 64), (u'otherwise', 63), (u'lets', 61), (u'worth', 57), (u'fresh', 57), (u'contrived', 56), (u'sort', 56), (u'others', 55), (u'gripping', 53), (u'presents', 53), (u'speed', 51)]\n"
     ]
    }
   ],
   "source": [
    "#lets look at the actual words\n",
    "#get words from vector\n",
    "words = list(vectorizer.get_feature_names())\n",
    "\n",
    "#save words with occurance frequency\n",
    "word_count = Counter(dict(zip(words, word_freq)))\n",
    "\n",
    "#print the 50 most common words\n",
    "print (word_count.most_common(50))"
   ]
  },
  {
   "cell_type": "code",
   "execution_count": 15,
   "metadata": {},
   "outputs": [
    {
     "data": {
      "text/plain": [
       "295413"
      ]
     },
     "execution_count": 15,
     "metadata": {},
     "output_type": "execute_result"
    }
   ],
   "source": [
    "sum(word_count.values())"
   ]
  },
  {
   "cell_type": "markdown",
   "metadata": {},
   "source": [
    "We could have done this with a for loop which we demonstrate below."
   ]
  },
  {
   "cell_type": "code",
   "execution_count": 16,
   "metadata": {},
   "outputs": [],
   "source": [
    "#create dict to count word occurance in document(sentences)\n",
    "dict_words={i:0 for i in range(len(df_vectors[0]))}"
   ]
  },
  {
   "cell_type": "code",
   "execution_count": 17,
   "metadata": {},
   "outputs": [],
   "source": [
    "# loop over words in sentences\n",
    "for i in xrange(len(df_vectors[0])):\n",
    "    \n",
    "    #value holder for word occurances in sentences\n",
    "    y=0\n",
    "    \n",
    "    #loop over document/sentences counting word occurances\n",
    "    #sum up sentence/document one first word occurance with sentence/document two word one...\n",
    "    for j in xrange(len (df_vectors)):\n",
    "        y=y+df_vectors[j][i]\n",
    "        \n",
    "    #save word occurs in documents to dictionary\n",
    "    dict_words[i]=y\n",
    "    \n",
    "    #loop increments to next word to sum over sentences\\"
   ]
  },
  {
   "cell_type": "code",
   "execution_count": 18,
   "metadata": {},
   "outputs": [],
   "source": [
    "#use counter to sum word occurance \n",
    "word_pert=Counter(dict_words.values())"
   ]
  },
  {
   "cell_type": "code",
   "execution_count": 19,
   "metadata": {},
   "outputs": [
    {
     "data": {
      "text/plain": [
       "Counter({1: 9552,\n",
       "         2: 3486,\n",
       "         3: 1916,\n",
       "         4: 1259,\n",
       "         5: 896,\n",
       "         6: 634,\n",
       "         7: 532,\n",
       "         8: 415,\n",
       "         9: 354,\n",
       "         10: 294,\n",
       "         11: 235,\n",
       "         12: 212,\n",
       "         13: 185,\n",
       "         14: 176,\n",
       "         15: 135,\n",
       "         16: 104,\n",
       "         17: 106,\n",
       "         18: 90,\n",
       "         19: 95,\n",
       "         20: 77,\n",
       "         21: 83,\n",
       "         22: 75,\n",
       "         23: 57,\n",
       "         24: 48,\n",
       "         25: 53,\n",
       "         26: 53,\n",
       "         27: 42,\n",
       "         28: 48,\n",
       "         29: 44,\n",
       "         30: 45,\n",
       "         31: 35,\n",
       "         32: 28,\n",
       "         33: 34,\n",
       "         34: 36,\n",
       "         35: 26,\n",
       "         36: 27,\n",
       "         37: 21,\n",
       "         38: 18,\n",
       "         39: 25,\n",
       "         40: 19,\n",
       "         41: 20,\n",
       "         42: 23,\n",
       "         43: 18,\n",
       "         44: 21,\n",
       "         45: 17,\n",
       "         46: 17,\n",
       "         47: 20,\n",
       "         48: 10,\n",
       "         49: 17,\n",
       "         50: 12,\n",
       "         51: 7,\n",
       "         52: 13,\n",
       "         53: 20,\n",
       "         54: 6,\n",
       "         55: 10,\n",
       "         56: 17,\n",
       "         57: 14,\n",
       "         58: 10,\n",
       "         59: 10,\n",
       "         60: 13,\n",
       "         61: 11,\n",
       "         62: 10,\n",
       "         63: 11,\n",
       "         64: 9,\n",
       "         65: 4,\n",
       "         66: 12,\n",
       "         67: 12,\n",
       "         68: 7,\n",
       "         69: 3,\n",
       "         70: 3,\n",
       "         71: 6,\n",
       "         72: 5,\n",
       "         73: 6,\n",
       "         74: 6,\n",
       "         75: 5,\n",
       "         76: 11,\n",
       "         77: 11,\n",
       "         78: 2,\n",
       "         79: 4,\n",
       "         80: 11,\n",
       "         81: 5,\n",
       "         82: 5,\n",
       "         83: 5,\n",
       "         84: 7,\n",
       "         85: 4,\n",
       "         86: 5,\n",
       "         87: 3,\n",
       "         88: 2,\n",
       "         89: 4,\n",
       "         90: 3,\n",
       "         91: 4,\n",
       "         92: 1,\n",
       "         93: 8,\n",
       "         94: 5,\n",
       "         95: 5,\n",
       "         96: 4,\n",
       "         97: 3,\n",
       "         98: 2,\n",
       "         99: 3,\n",
       "         100: 5,\n",
       "         101: 4,\n",
       "         102: 2,\n",
       "         103: 3,\n",
       "         104: 2,\n",
       "         105: 1,\n",
       "         106: 8,\n",
       "         107: 4,\n",
       "         108: 2,\n",
       "         110: 3,\n",
       "         111: 2,\n",
       "         112: 6,\n",
       "         113: 4,\n",
       "         116: 8,\n",
       "         117: 2,\n",
       "         118: 3,\n",
       "         119: 1,\n",
       "         121: 2,\n",
       "         122: 1,\n",
       "         123: 3,\n",
       "         124: 1,\n",
       "         126: 1,\n",
       "         127: 2,\n",
       "         128: 4,\n",
       "         130: 1,\n",
       "         131: 1,\n",
       "         133: 2,\n",
       "         134: 3,\n",
       "         135: 1,\n",
       "         137: 2,\n",
       "         138: 4,\n",
       "         140: 1,\n",
       "         141: 3,\n",
       "         142: 4,\n",
       "         144: 3,\n",
       "         145: 2,\n",
       "         146: 3,\n",
       "         147: 3,\n",
       "         149: 1,\n",
       "         150: 1,\n",
       "         151: 1,\n",
       "         153: 1,\n",
       "         154: 1,\n",
       "         156: 3,\n",
       "         157: 2,\n",
       "         158: 2,\n",
       "         159: 2,\n",
       "         160: 2,\n",
       "         161: 2,\n",
       "         162: 1,\n",
       "         166: 3,\n",
       "         169: 1,\n",
       "         170: 2,\n",
       "         172: 2,\n",
       "         175: 1,\n",
       "         176: 1,\n",
       "         177: 3,\n",
       "         178: 1,\n",
       "         179: 1,\n",
       "         182: 1,\n",
       "         183: 1,\n",
       "         184: 1,\n",
       "         186: 3,\n",
       "         188: 1,\n",
       "         189: 1,\n",
       "         191: 1,\n",
       "         192: 2,\n",
       "         195: 1,\n",
       "         196: 2,\n",
       "         198: 1,\n",
       "         199: 1,\n",
       "         200: 1,\n",
       "         201: 2,\n",
       "         202: 1,\n",
       "         205: 1,\n",
       "         207: 1,\n",
       "         208: 2,\n",
       "         209: 1,\n",
       "         210: 1,\n",
       "         212: 1,\n",
       "         213: 1,\n",
       "         214: 2,\n",
       "         219: 2,\n",
       "         221: 1,\n",
       "         222: 1,\n",
       "         223: 1,\n",
       "         225: 1,\n",
       "         226: 1,\n",
       "         227: 3,\n",
       "         231: 2,\n",
       "         232: 2,\n",
       "         233: 1,\n",
       "         234: 1,\n",
       "         236: 1,\n",
       "         237: 2,\n",
       "         239: 1,\n",
       "         242: 1,\n",
       "         244: 3,\n",
       "         248: 1,\n",
       "         249: 1,\n",
       "         252: 3,\n",
       "         254: 1,\n",
       "         256: 1,\n",
       "         257: 3,\n",
       "         258: 3,\n",
       "         260: 1,\n",
       "         261: 1,\n",
       "         263: 1,\n",
       "         264: 1,\n",
       "         266: 1,\n",
       "         271: 1,\n",
       "         272: 1,\n",
       "         273: 1,\n",
       "         274: 1,\n",
       "         276: 1,\n",
       "         278: 1,\n",
       "         279: 1,\n",
       "         282: 1,\n",
       "         284: 2,\n",
       "         287: 1,\n",
       "         288: 1,\n",
       "         290: 1,\n",
       "         293: 1,\n",
       "         295: 1,\n",
       "         296: 2,\n",
       "         301: 1,\n",
       "         305: 1,\n",
       "         306: 1,\n",
       "         320: 1,\n",
       "         322: 1,\n",
       "         324: 1,\n",
       "         330: 1,\n",
       "         336: 1,\n",
       "         341: 1,\n",
       "         343: 1,\n",
       "         344: 1,\n",
       "         354: 1,\n",
       "         363: 1,\n",
       "         364: 1,\n",
       "         367: 1,\n",
       "         369: 1,\n",
       "         370: 1,\n",
       "         383: 1,\n",
       "         386: 1,\n",
       "         387: 1,\n",
       "         388: 1,\n",
       "         396: 1,\n",
       "         399: 1,\n",
       "         413: 1,\n",
       "         415: 1,\n",
       "         417: 1,\n",
       "         422: 1,\n",
       "         433: 1,\n",
       "         434: 1,\n",
       "         438: 2,\n",
       "         439: 1,\n",
       "         443: 1,\n",
       "         462: 1,\n",
       "         469: 1,\n",
       "         472: 1,\n",
       "         478: 1,\n",
       "         496: 1,\n",
       "         504: 1,\n",
       "         507: 1,\n",
       "         531: 1,\n",
       "         540: 1,\n",
       "         545: 2,\n",
       "         572: 1,\n",
       "         591: 1,\n",
       "         599: 1,\n",
       "         615: 1,\n",
       "         644: 1,\n",
       "         657: 1,\n",
       "         663: 1,\n",
       "         688: 1,\n",
       "         689: 1,\n",
       "         691: 1,\n",
       "         702: 1,\n",
       "         703: 1,\n",
       "         711: 1,\n",
       "         744: 1,\n",
       "         790: 1,\n",
       "         821: 1,\n",
       "         864: 1,\n",
       "         875: 1,\n",
       "         887: 1,\n",
       "         993: 1,\n",
       "         1018: 1,\n",
       "         1024: 1,\n",
       "         1037: 1,\n",
       "         1069: 1,\n",
       "         1085: 1,\n",
       "         1121: 1,\n",
       "         1157: 1,\n",
       "         1237: 1,\n",
       "         1295: 1,\n",
       "         1301: 1,\n",
       "         1331: 1,\n",
       "         1390: 1,\n",
       "         1408: 2,\n",
       "         1836: 1,\n",
       "         1903: 1,\n",
       "         2148: 1,\n",
       "         2199: 1,\n",
       "         2267: 1,\n",
       "         2335: 1,\n",
       "         2411: 1,\n",
       "         2577: 1,\n",
       "         2858: 1,\n",
       "         3681: 1,\n",
       "         4252: 1,\n",
       "         5332: 1,\n",
       "         5974: 1,\n",
       "         6238: 1,\n",
       "         9778: 1,\n",
       "         9904: 1,\n",
       "         16805: 1})"
      ]
     },
     "execution_count": 19,
     "metadata": {},
     "output_type": "execute_result"
    }
   ],
   "source": [
    "#should be same as word_doc\n",
    "word_pert"
   ]
  },
  {
   "cell_type": "code",
   "execution_count": 20,
   "metadata": {},
   "outputs": [],
   "source": [
    "#now we want freq of words that appear in i documents (for x=5 that is words that appear in 5 documents)\n",
    "#empty variable for counting\n",
    "x=0\n",
    "\n",
    "#list of words per document for plotting later\n",
    "x_points=[]\n",
    "\n",
    "#list to hold word document counts and initialize with a zero for plotting later\n",
    "p_pert=[]\n",
    "\n",
    "#loop over counter and sum up occurances \n",
    "for i in word_doc.values():\n",
    "    #add previous words that appear less than xi to xi \n",
    "    x+=i\n",
    "    p=x\n",
    "    #save xi to list for plotting later\n",
    "    x_points.append(x)\n",
    "    #save cumulative count of word occurances less than or equal to xi for plotting\n",
    "    p_pert.append(p)\n",
    "    "
   ]
  },
  {
   "cell_type": "code",
   "execution_count": 21,
   "metadata": {},
   "outputs": [
    {
     "data": {
      "image/png": "[encoded data removed]",
      "text/plain": [
       "<matplotlib.figure.Figure at 0x10d88f110>"
      ]
     },
     "metadata": {},
     "output_type": "display_data"
    }
   ],
   "source": [
    "#plot CDF\n",
    "\n",
    "# get number of xi\n",
    "n = len(p_pert)\n",
    "\n",
    "fig, ax =plt.subplots()\n",
    "\n",
    "#x-axis points\n",
    "x=np.linspace(0,316,num=n)\n",
    "\n",
    "#plot CDF\n",
    "ax.plot(x,p_pert)\n",
    "\n",
    "# add labels\n",
    "_ = ax.set_xlabel('document count  Xi')\n",
    "_ = ax.set_ylabel('Counts')\n",
    "_ = ax.set_title('Cumulative Distribution Functions\\nNumber of words that appear less than  Xi times')\n",
    "\n",
    "#insert zoom in box (to better see min_df value)\n",
    "#where to plot insert\n",
    "inset_ax=fig.add_axes([0.55,.3,.35,.35])\n",
    "#plot insert\n",
    "inset_ax.plot(x,p_pert)\n",
    "#add labels to insert\n",
    "inset_ax.set_title('zoom in on left side')\n",
    "#outline insert\n",
    "inset_ax.set_frame_on('on')\n",
    "#designate zoom in region by x-axis\n",
    "inset_ax.set_xlim(0,40)\n",
    "plt.margins(0.02)\n",
    "\n",
    "plt.show()"
   ]
  },
  {
   "cell_type": "markdown",
   "metadata": {},
   "source": [
    "## Exercise: Look for the point at which the curve begins climbing steeply. This may be a good value for min_df. If we were interested in also picking max_df, we would likely pick the value where the curve starts to plateau. What value did you choose?\n",
    "\n",
    "\n",
    "Here we are looking at counts of words that appear in a document. X=1 then is all words that appear in exactly one document. In our data, words that appear in one document number 9552. We see that the data stabilizes after 20 documents for which words appear in. I, therefore, would recommend picking 20 as the min_df. \n"
   ]
  },
  {
   "cell_type": "markdown",
   "metadata": {},
   "source": [
    "The parameter $\\alpha$ is chosen to be a small value that simply avoids having zeros in the probability computations. This value can sometimes be chosen arbitrarily with domain expertise, but we will use K-fold cross validation. In K-fold cross-validation, we divide the data into $K$ non-overlapping parts. We train on $K-1$ of the folds and test on the remaining fold. We then iterate, so that each fold serves as the test fold exactly once. The function `cv_score` performs the K-fold cross-validation algorithm for us, but we need to pass a function that measures the performance of the algorithm on each fold. "
   ]
  },
  {
   "cell_type": "code",
   "execution_count": 22,
   "metadata": {},
   "outputs": [],
   "source": [
    "from sklearn.model_selection import KFold\n",
    "def cv_score(clf, X, y, scorefunc):\n",
    "    result = 0.\n",
    "    nfold = 5\n",
    "    for train, test in KFold(nfold).split(X): # split data into train/test groups, 5 times\n",
    "        clf.fit(X[train], y[train]) # fit the classifier, passed is as clf.\n",
    "        result += scorefunc(clf, X[test], y[test]) # evaluate score function on held-out data\n",
    "    return result / nfold # average"
   ]
  },
  {
   "cell_type": "markdown",
   "metadata": {},
   "source": [
    "We use the log-likelihood as the score here in `scorefunc`. The higher the log-likelihood, the better. Indeed, what we do in `cv_score` above is to implement the cross-validation part of `GridSearchCV`.\n",
    "\n",
    "The custom scoring function `scorefunc` allows us to use different metrics depending on the decision risk we care about (precision, accuracy, profit etc.) directly on the validation set. You will often find people using `roc_auc`, precision, recall, or `F1-score` as the scoring function."
   ]
  },
  {
   "cell_type": "code",
   "execution_count": 23,
   "metadata": {},
   "outputs": [],
   "source": [
    "def log_likelihood(clf, x, y):\n",
    "    prob = clf.predict_log_proba(x)\n",
    "    rotten = y == 0\n",
    "    fresh = ~rotten\n",
    "    return prob[rotten, 0].sum() + prob[fresh, 1].sum()"
   ]
  },
  {
   "cell_type": "markdown",
   "metadata": {},
   "source": [
    "We'll cross-validate over the regularization parameter $\\alpha$."
   ]
  },
  {
   "cell_type": "markdown",
   "metadata": {},
   "source": [
    "Let's set up the train and test masks first, and then we can run the cross-validation procedure."
   ]
  },
  {
   "cell_type": "code",
   "execution_count": 24,
   "metadata": {},
   "outputs": [
    {
     "name": "stderr",
     "output_type": "stream",
     "text": [
      "/Users/luca/anaconda2/lib/python2.7/site-packages/sklearn/model_selection/_split.py:2026: FutureWarning: From version 0.21, test_size will always complement train_size unless both are specified.\n",
      "  FutureWarning)\n"
     ]
    }
   ],
   "source": [
    "from sklearn.model_selection import train_test_split\n",
    "_, itest = train_test_split(range(critics.shape[0]), train_size=0.7)\n",
    "mask = np.zeros(critics.shape[0], dtype=np.bool)\n",
    "mask[itest] = True"
   ]
  },
  {
   "cell_type": "markdown",
   "metadata": {},
   "source": [
    "<div class=\"span5 alert alert-info\">\n",
    "<h3>Exercise Set IV</h3>\n",
    "\n",
    "<p><b>Exercise:</b> What does using the function `log_likelihood` as the score mean? What are we trying to optimize for?</p>\n",
    "\n",
    "<p><b>Exercise:</b> Without writing any code, what do you think would happen if you choose a value of $\\alpha$ that is too high?</p>\n",
    "\n",
    "<p><b>Exercise:</b> Using the skeleton code below, find the best values of the parameter `alpha`, and use the value of `min_df` you chose in the previous exercise set. Use the `cv_score` function above with the `log_likelihood` function for scoring.</p>\n",
    "</div>"
   ]
  },
  {
   "cell_type": "markdown",
   "metadata": {},
   "source": [
    "We are trying to optimize for the parameter selection. We want the maximum likelihood of data with respect to our parameters. A maximum likelihood selects the parameter so that the data is most likely to occur. Using the log_likelihood allows us to use the sum instead of the product. Two benefits of this is, it of keeping us from running out of floating point precision since the product gets very small quickly, and the computation is easier. \n",
    "\n",
    "If you choose an alpha that is to high, then your estimation/prediction is giving excess weight to items that did not occur in your data. You are in essense saying that what was not seen is much more likely to occur than what was seen. Your predictions will be much worse in the end. (Alpha is the smoothing term here)\n",
    "\n",
    "\n"
   ]
  },
  {
   "cell_type": "code",
   "execution_count": 25,
   "metadata": {},
   "outputs": [
    {
     "name": "stdout",
     "output_type": "stream",
     "text": [
      "The best score of -557.183660683\n"
     ]
    }
   ],
   "source": [
    "from sklearn.naive_bayes import MultinomialNB\n",
    "\n",
    "#the grid of parameters to search over\n",
    "alphas = [.1, 1, 5, 10, 50]\n",
    "best_min_df = 20 # YOUR TURN: put your value of min_df here.\n",
    "\n",
    "#Find the best value for alpha and min_df, and the best classifier\n",
    "best_alpha = None\n",
    "maxscore=-np.inf\n",
    "for alpha in alphas:        \n",
    "    vectorizer = CountVectorizer(min_df=best_min_df)       \n",
    "    Xthis, ythis = make_xy(critics, vectorizer)\n",
    "    Xtrainthis = Xthis[mask]\n",
    "    ytrainthis = ythis[mask]\n",
    "    # your turn\n",
    "    #initiate the naive bayes classifier\n",
    "    clf = MultinomialNB(alpha=alpha)\n",
    "    #call the score function to fit and evaluate\n",
    "    cross_score =  cv_score(clf,Xtrainthis,ytrainthis,log_likelihood)\n",
    "    \n",
    "    #save best score for comparsion in next loop\n",
    "    if cross_score>maxscore:\n",
    "        maxscore=cross_score\n",
    "        best_alpha=alpha\n",
    "#print best of the results        \n",
    "print(\"The best score of {}\".format(maxscore))"
   ]
  },
  {
   "cell_type": "code",
   "execution_count": 26,
   "metadata": {},
   "outputs": [
    {
     "name": "stdout",
     "output_type": "stream",
     "text": [
      "alpha: 5\n"
     ]
    }
   ],
   "source": [
    "print(\"alpha: {}\".format(best_alpha))"
   ]
  },
  {
   "cell_type": "markdown",
   "metadata": {},
   "source": [
    "<div class=\"span5 alert alert-info\">\n",
    "<h3>Exercise Set V: Working with the Best Parameters</h3>\n",
    "\n",
    "<p><b>Exercise:</b> Using the best value of  `alpha` you just found, calculate the accuracy on the training and test sets. Is this classifier better? Why (not)?</p>\n",
    "\n",
    "</div>"
   ]
  },
  {
   "cell_type": "code",
   "execution_count": 50,
   "metadata": {},
   "outputs": [
    {
     "name": "stdout",
     "output_type": "stream",
     "text": [
      "Accuracy on training data: 0.791818\n",
      "Accuracy on test data:     0.717683\n"
     ]
    }
   ],
   "source": [
    "#use the best min_df in the vectorizer\n",
    "n_vectorizer = CountVectorizer(min_df=best_min_df)\n",
    "\n",
    "#split for test and training again\n",
    "X, y = make_xy(critics, n_vectorizer)\n",
    "xtrain=X[mask]\n",
    "ytrain=y[mask]\n",
    "xtest=X[~mask]\n",
    "ytest=y[~mask]\n",
    "\n",
    "#use the best alpha in the Naive Bayes\n",
    "clf = MultinomialNB(alpha=best_alpha).fit(xtrain, ytrain)\n",
    "\n",
    "#Print the accuracy on the test and training dataset\n",
    "nb_training_accuracy = clf.score(xtrain, ytrain)\n",
    "nb_test_accuracy = clf.score(xtest, ytest)\n",
    "\n",
    "print(\"Accuracy on training data: {:2f}\".format(nb_training_accuracy))\n",
    "print(\"Accuracy on test data:     {:2f}\".format(nb_test_accuracy))"
   ]
  },
  {
   "cell_type": "code",
   "execution_count": 28,
   "metadata": {},
   "outputs": [
    {
     "name": "stdout",
     "output_type": "stream",
     "text": [
      "[[2190 2067]\n",
      " [1008 5627]]\n"
     ]
    }
   ],
   "source": [
    "from sklearn.metrics import confusion_matrix\n",
    "print(confusion_matrix(ytest, clf.predict(xtest)))"
   ]
  },
  {
   "cell_type": "markdown",
   "metadata": {},
   "source": [
    "Yes, this is a better classifier. Previously, we got accuracy on training data at .92 and test data at .78. Here, we got accuracy on training data a .79 and test data at .72. This is better since we are not overfitting. Overfitting is the use of noise in the data to model the prediction. You can see this by the difference in test accuracy compared to training accuracy. The first case had a difference of .14 compared with .07 this time. The second model is using much less noise to make predictions thus its predictions can be considered to be more reliable even through the score is the same."
   ]
  },
  {
   "cell_type": "markdown",
   "metadata": {},
   "source": [
    "## Interpretation"
   ]
  },
  {
   "cell_type": "markdown",
   "metadata": {},
   "source": [
    "### What are the strongly predictive features?\n",
    "\n",
    "We use a neat trick to identify strongly predictive features (i.e. words). \n",
    "\n",
    "* first, create a data set such that each row has exactly one feature. This is represented by the identity matrix.\n",
    "* use the trained classifier to make predictions on this matrix\n",
    "* sort the rows by predicted probabilities, and pick the top and bottom $K$ rows"
   ]
  },
  {
   "cell_type": "code",
   "execution_count": 29,
   "metadata": {},
   "outputs": [
    {
     "name": "stdout",
     "output_type": "stream",
     "text": [
      "Good words\t     P(fresh | word)\n",
      "('           wonderful', '0.85')\n",
      "('         masterpiece', '0.85')\n",
      "('                epic', '0.85')\n",
      "('             delight', '0.84')\n",
      "('        entertaining', '0.84')\n",
      "('         intelligent', '0.84')\n",
      "('               today', '0.83')\n",
      "('           enjoyable', '0.83')\n",
      "('               witty', '0.83')\n",
      "('           excellent', '0.82')\n",
      "Bad words\t     P(fresh | word)\n",
      "('               bland', '0.30')\n",
      "('             tedious', '0.29')\n",
      "('                 nor', '0.29')\n",
      "('                dull', '0.29')\n",
      "('                lame', '0.28')\n",
      "('               awful', '0.26')\n",
      "('                flat', '0.25')\n",
      "('               video', '0.25')\n",
      "('           pointless', '0.25')\n",
      "('       unfortunately', '0.23')\n"
     ]
    }
   ],
   "source": [
    "words = np.array(vectorizer.get_feature_names())\n",
    "\n",
    "x = np.eye(xtest.shape[1])\n",
    "probs = clf.predict_log_proba(x)[:, 0]\n",
    "ind = np.argsort(probs)\n",
    "\n",
    "good_words = words[ind[:10]]\n",
    "bad_words = words[ind[-10:]]\n",
    "\n",
    "good_prob = probs[ind[:10]]\n",
    "bad_prob = probs[ind[-10:]]\n",
    "\n",
    "print(\"Good words\\t     P(fresh | word)\")\n",
    "for w, p in zip(good_words, good_prob):\n",
    "    print(\"{:>20}\".format(w), \"{:.2f}\".format(1 - np.exp(p)))\n",
    "    \n",
    "print(\"Bad words\\t     P(fresh | word)\")\n",
    "for w, p in zip(bad_words, bad_prob):\n",
    "    print(\"{:>20}\".format(w), \"{:.2f}\".format(1 - np.exp(p)))"
   ]
  },
  {
   "cell_type": "markdown",
   "metadata": {},
   "source": [
    "<div class=\"span5 alert alert-info\">\n",
    "<h3>Exercise Set VI</h3>\n",
    "\n",
    "<p><b>Exercise:</b> Why does this method work? What does the probability for each row in the identity matrix represent</p>\n",
    "\n",
    "</div>"
   ]
  },
  {
   "cell_type": "markdown",
   "metadata": {},
   "source": [
    "The probability of each row is the probility that the feature/word will be in the catagory fresh (recieve a good rating by the critic). This probability also tells us which features/words our classifer is using to determine if a critics review will be 'fresh'. It works because the Naive Bayes' pred_proba returns the probability for each word/feature set given the class/document, P(f|c), i.e. the likelihood."
   ]
  },
  {
   "cell_type": "markdown",
   "metadata": {},
   "source": [
    "The above exercise is an example of *feature selection*. There are many other feature selection methods. A list of feature selection methods available in `sklearn` is [here](http://scikit-learn.org/stable/modules/classes.html#module-sklearn.feature_selection). The most common feature selection technique for text mining is the chi-squared $\\left( \\chi^2 \\right)$ [method](http://nlp.stanford.edu/IR-book/html/htmledition/feature-selectionchi2-feature-selection-1.html)."
   ]
  },
  {
   "cell_type": "markdown",
   "metadata": {},
   "source": [
    "### Prediction Errors\n",
    "\n",
    "We can see mis-predictions as well."
   ]
  },
  {
   "cell_type": "code",
   "execution_count": 30,
   "metadata": {},
   "outputs": [
    {
     "name": "stdout",
     "output_type": "stream",
     "text": [
      "Mis-predicted Rotten quotes\n",
      "---------------------------\n",
      "It survives today only as an unusually pure example of a typical 50s art-film strategy: the attempt to make the most modern and most popular of art forms acceptable to the intelligentsia by forcing it into an arcane, antique mold.\n",
      "\n",
      "The thought that he may yet return for further adventures with his body and Lugosi's sconce fills us with mortal terror. That is the most fearful prospect which the picture manages to convey.\n",
      "\n",
      "Mr. Peckinpah's least interesting, least personal film in years, a hysterically elaborate, made-in-Yugoslavia war spectacle, the work of international financiers and a multinational cast.\n",
      "\n",
      "Lauded as a witty moral fable with a revelatory performance from its star, this romantic comedy is in fact meretricious, manipulative and reactionary.\n",
      "\n",
      "Walken is one of the few undeniably charismatic male villains of recent years; he can generate a snakelike charm that makes his worst characters the most memorable, and here he operates on pure style.\n",
      "\n",
      "Mis-predicted Fresh quotes\n",
      "--------------------------\n",
      "Though it's a good half hour too long, this overblown 1993 spin-off of the 60s TV show otherwise adds up to a pretty good suspense thriller.\n",
      "\n",
      "There are some gaps in the movie's reality, and some O. Henry-like contrivances, but the masterful trick Boy A plays on viewers is to get them to care before giving them reasons not to.\n",
      "\n",
      "There's too much talent and too strong a story to mess it up. There was potential for more here, but this incarnation is nothing to be ashamed of, and some of the actors answer the bell.\n",
      "\n",
      "There's a lot more to Nowhere in Africa -- too much, actually ... Yet even if the movie has at least one act too many, the question that runs through it -- of whether belonging to a place is a matter of time or of will -- remains consistent.\n",
      "\n",
      "The three leads inhabit their roles in the way only unknown actors can. They really seem to become the characters they're playing.\n",
      "\n"
     ]
    }
   ],
   "source": [
    "x, y = make_xy(critics, vectorizer)\n",
    "\n",
    "prob = clf.predict_proba(x)[:, 0]\n",
    "predict = clf.predict(x)\n",
    "\n",
    "bad_rotten = np.argsort(prob[y == 0])[:5]\n",
    "bad_fresh = np.argsort(prob[y == 1])[-5:]\n",
    "\n",
    "print(\"Mis-predicted Rotten quotes\")\n",
    "print('---------------------------')\n",
    "for row in bad_rotten:\n",
    "    print(critics[y == 0].quote.iloc[row])\n",
    "    print(\"\")\n",
    "\n",
    "print(\"Mis-predicted Fresh quotes\")\n",
    "print('--------------------------')\n",
    "for row in bad_fresh:\n",
    "    print(critics[y == 1].quote.iloc[row])\n",
    "    print(\"\")"
   ]
  },
  {
   "cell_type": "markdown",
   "metadata": {},
   "source": [
    "<div class=\"span5 alert alert-info\">\n",
    "<h3>Exercise Set VII: Predicting the Freshness for a New Review</h3>\n",
    "<br/>\n",
    "<div>\n",
    "<b>Exercise:</b>\n",
    "<ul>\n",
    "<li> Using your best trained classifier, predict the freshness of the following sentence: *'This movie is not remarkable, touching, or superb in any way'*\n",
    "<li> Is the result what you'd expect? Why (not)?\n",
    "</ul>\n",
    "</div>\n",
    "</div>"
   ]
  },
  {
   "cell_type": "code",
   "execution_count": 31,
   "metadata": {},
   "outputs": [
    {
     "data": {
      "text/plain": [
       "list"
      ]
     },
     "execution_count": 31,
     "metadata": {},
     "output_type": "execute_result"
    }
   ],
   "source": [
    "new_text=['This movie is not remarkable, touching, or superb in any way']\n",
    "type(new_text)"
   ]
  },
  {
   "cell_type": "code",
   "execution_count": 32,
   "metadata": {},
   "outputs": [],
   "source": [
    "#change text into vector\n",
    "new_text=vectorizer.transform(new_text)\n"
   ]
  },
  {
   "cell_type": "code",
   "execution_count": 33,
   "metadata": {},
   "outputs": [
    {
     "name": "stdout",
     "output_type": "stream",
     "text": [
      "[1]\n"
     ]
    }
   ],
   "source": [
    "#make prediciton on new set\n",
    "print(clf.predict(new_text))\n"
   ]
  },
  {
   "cell_type": "markdown",
   "metadata": {},
   "source": [
    "It predicts that this sentence would be classified as 'fresh'. This would be a false positive as we can tell from reading the sentence. It is not too surprising that the classifier gets this wrong. The classifier here is only looking at words that have a high probability of being in the class 'fresh'. This sentence contains at three words we would expect to be highly associated with the 'fresh' class, hence, it predicts it is. The 'not' here does not alert the classifer that these three positive words should be negatively associated resulting in a misclassification. "
   ]
  },
  {
   "cell_type": "markdown",
   "metadata": {},
   "source": [
    "### Aside: TF-IDF Weighting for Term Importance\n",
    "\n",
    "TF-IDF stands for \n",
    "\n",
    "`Term-Frequency X Inverse Document Frequency`.\n",
    "\n",
    "In the standard `CountVectorizer` model above, we used just the term frequency in a document of words in our vocabulary. In TF-IDF, we weight this term frequency by the inverse of its popularity in all documents. For example, if the word \"movie\" showed up in all the documents, it would not have much predictive value. It could actually be considered a stopword. By weighing its counts by 1 divided by its overall frequency, we downweight it. We can then use this TF-IDF weighted features as inputs to any classifier. **TF-IDF is essentially a measure of term importance, and of how discriminative a word is in a corpus.** There are a variety of nuances involved in computing TF-IDF, mainly involving where to add the smoothing term to avoid division by 0, or log of 0 errors. The formula for TF-IDF in `scikit-learn` differs from that of most textbooks: \n",
    "\n",
    "$$\\mbox{TF-IDF}(t, d) = \\mbox{TF}(t, d)\\times \\mbox{IDF}(t) = n_{td} \\log{\\left( \\frac{\\vert D \\vert}{\\vert d : t \\in d \\vert} + 1 \\right)}$$\n",
    "\n",
    "where $n_{td}$ is the number of times term $t$ occurs in document $d$, $\\vert D \\vert$ is the number of documents, and $\\vert d : t \\in d \\vert$ is the number of documents that contain $t$"
   ]
  },
  {
   "cell_type": "code",
   "execution_count": 34,
   "metadata": {
    "collapsed": true
   },
   "outputs": [],
   "source": [
    "# http://scikit-learn.org/dev/modules/feature_extraction.html#text-feature-extraction\n",
    "# http://scikit-learn.org/dev/modules/classes.html#text-feature-extraction-ref\n",
    "from sklearn.feature_extraction.text import TfidfVectorizer\n",
    "tfidfvectorizer = TfidfVectorizer(min_df=1, stop_words='english')\n",
    "Xtfidf=tfidfvectorizer.fit_transform(critics.quote)"
   ]
  },
  {
   "cell_type": "markdown",
   "metadata": {},
   "source": [
    "<div class=\"span5 alert alert-info\">\n",
    "<h3>Exercise Set VIII: Enrichment</h3>\n",
    "\n",
    "<p>\n",
    "There are several additional things we could try. Try some of these as exercises:\n",
    "<ol>\n",
    "<li> Build a Naive Bayes model where the features are n-grams instead of words. N-grams are phrases containing n words next to each other: a bigram contains 2 words, a trigram contains 3 words, and 6-gram contains 6 words. This is useful because \"not good\" and \"so good\" mean very different things. On the other hand, as n increases, the model does not scale well since the feature set becomes more sparse.\n",
    "<li> Try a model besides Naive Bayes, one that would allow for interactions between words -- for example, a Random Forest classifier.\n",
    "<li> Try adding supplemental features -- information about genre, director, cast, etc.\n",
    "<li> Use word2vec or [Latent Dirichlet Allocation](https://en.wikipedia.org/wiki/Latent_Dirichlet_allocation) to group words into topics and use those topics for prediction.\n",
    "<li> Use TF-IDF weighting instead of word counts.\n",
    "</ol>\n",
    "</p>\n",
    "\n",
    "<b>Exercise:</b> Try a few of these ideas to improve the model (or any other ideas of your own). Implement here and report on the result.\n",
    "</div>"
   ]
  },
  {
   "cell_type": "markdown",
   "metadata": {},
   "source": [
    "Lets start by building a Naive Bayes model that considers only 2 n-grams instead of words that is we will only look at pairs of words that appear next to each other. The hope is that this model will be able to distinguish terms like \"not bad\" and register it as good when considering more than one word.  "
   ]
  },
  {
   "cell_type": "code",
   "execution_count": 35,
   "metadata": {},
   "outputs": [
    {
     "name": "stdout",
     "output_type": "stream",
     "text": [
      "[  28   31   36   40  206   30   22   20   20   29   28   24   20   45   32\n",
      "   21   56   76   29  256   27   21   43   27   23   22   27   22   29   24\n",
      "   29   20   21   32   34   54   41   22   21   33   33   20   46   22   37\n",
      "   32   47   24   95   60   24  172   75   59   44   29   56   25   37   42\n",
      "   32   22   63  661   25   51   47   24   27   20   24   34   21   26   26\n",
      "   40   27   31   34   30   22   23   26   25   42   34   29   96   40   29\n",
      "   82  179   50   54   26  279   27  113   34   21   30   60   96   22  254\n",
      "   52   41   21   28   41   22   24   21   87   22   60   43   24   29   21\n",
      "   20   24   26   21   54   46   34   34   24   22   23   21   33   38   47\n",
      "   20   51  368   28   21   20   81   34  247   59   25   62   22   31   25\n",
      "   23   27  262  106   23   25   21   63   38   28   27   26   34   45   28\n",
      "   21   40   32   21   33   32   48   43   36   26   28   23   25   29   36\n",
      "   22   21   52   22   22   26   25   29   28   31   21   38   33   35   43\n",
      "   25  128   31   21   57   22   35   58   25   64   24   51   40   34   53\n",
      "   31   21   23   23   21   36   39   37   31   28   28   22   43   36  277\n",
      "   24   65  163   38   46   23   28   28   24   37   95   30   26   33   72\n",
      "  381   27   35   20   30  261   89   23   24   72   28   51   27   29   22\n",
      "   21   20  102   22   36   24  106   23   39   45   27   28   89   26  157\n",
      "   22   37   62   24   26   41   51   25   22   50   32   28   24   21   50\n",
      "   24   27   50   55   26   72   32   22   88   23  170   22   38   58   25\n",
      "   23   79   21   28  192   21   28   20   27   23   21   26   21   22 1010\n",
      "   33  181  105   25   23   52   24   23   26   27  135   52   35   34  172\n",
      "  107   29   22   21   54   21   70   43   33   32   49   28   67   43   24\n",
      "   41  170   28   21  151   29   20  153   31   59   21  149  419   73   49\n",
      "   32   27   24   80   62   56   29   40   20   33   35   25   60   74   21\n",
      "   22   26   54  131   33  554   28   51   21   20   42   46   37   26   42\n",
      "  121   21   33   22   26   48   30  109   35   21   68   33   40   22   56\n",
      "   21   33  130   20   27   23   43   28   25   23  245   22   42   31   37\n",
      "   39   26   20   31   30   92   33   43   35   25   64   21   21  112   33\n",
      "   30   54   20   24   48   53   50   42   51   31   20   67   39  151   30\n",
      "   56   25   39   74   28   30   21   36   27   38  225   20  130   72   41\n",
      "   46   40   24   61   43  226   29   53  172   31   45   29   36   48   98\n",
      "   26   21   21   23   23   24   20   26   34   22   37   36   32   53   30\n",
      "   29   85   25   40   85   20   22   29   27   90   28  103   28   27   21\n",
      "   20   62   38   32   25   27   23  175   33   35   24   34   74  253   28\n",
      "   22  110   38   38   21   20   20   21   24 2094   54   55   31  151   93\n",
      "   37   26   46   21   54   59   23   58   31  393   22   21   32   24  520\n",
      "   28   22   30   23   36  193   31   64   84   56   32   22   20   30   28\n",
      "   22   21   25   33   93   25   43   25   35   43   33   22   44   21   23\n",
      "   21   24   51   72   23   57   48   24   33   24   25   22   46   96   21\n",
      "  129   52   36   24   56   34   23   22   45   22   41   82  103   27   89\n",
      "  112   21   25   21   43   47   60   44   24   23   22   28   21   23   20\n",
      "   35   26   31   23   54   21   30  134   22   32   23   45   37   25   29\n",
      "   21   41   23   48  143  215   26   21   61   20   22   32  209   26   33\n",
      "   41   29   43   41   25   60   51   56   53   39   28  103  260   65   32\n",
      "   27   38   21  118   23   22   27   75  134   30   20  868   49   37   25\n",
      "  178   24   30   43   50   28   41   34   26   27  124   57   26   26   55\n",
      "   47  350  708   50   64   37   39   34   54   78   34   23   26   63   99\n",
      "   93   40   31   25   51   37   58   62   26  141  113   44   79   31   39\n",
      "   33   24  201   31   23   23   68   30   45   40   51   42   28  157   66\n",
      "   22   89   33  100   24  129  138   20   55   26   38   32   30   38   72\n",
      "   20   21   21   20  167  433  170   78   34   20   64   48   47   32   21\n",
      "   75   31   32   36  582   22   20   40   24   33   94   22   22   37   71\n",
      "   39   39   88   36   26   88   64   42   32   34  199   24   20   23   23\n",
      "   53  111   55   21  622   28   40   82   31   21   20   47   66   22   24\n",
      "   31   47   32   38   21   24   23   32   40  100   54   45   35   25   21\n",
      "   27   49   63   51   30   24   28   28   80   39   22   27   21   33   36\n",
      "   22   31   23   33   25   47   24   30   76   25   41   74   34   51   20\n",
      "   21   20   22   99   57   21   33   33   71   20   37   22   46   20   24\n",
      "   27   27   30   63   29   27   76   20   54   36   73   27   39   45  353\n",
      "   36   31   25   41   35   24   21   93   43   63   24   33  105   41   38\n",
      "   49   21   64   39   33  111   22   75   26   21]\n"
     ]
    }
   ],
   "source": [
    "#make an instance of the COuntVectorizer that considers only 2 words for the bag of words\n",
    "vec = CountVectorizer(analyzer ='word',min_df=best_min_df, ngram_range=(2, 2))\n",
    "\n",
    "#fit and transform the vectorizer to the data\n",
    "ng=vec.fit_transform(critics.quote)\n",
    "\n",
    "#save as a numpy array\n",
    "ng_vectors=ng.toarray()\n",
    "\n",
    "#sum over the columns (word pairs) of the array\n",
    "ng_word_freq=ng.toarray().sum(axis=0)\n",
    "\n",
    "print(ng_word_freq)\n",
    "\n",
    "#count the number of word pairs occurances per document\n",
    "ng_word_doc=Counter(ng_word_freq)\n"
   ]
  },
  {
   "cell_type": "code",
   "execution_count": 36,
   "metadata": {},
   "outputs": [
    {
     "name": "stdout",
     "output_type": "stream",
     "text": [
      "[(u'of the', 2094), (u'in the', 1010), (u'the film', 868), (u'the movie', 708), (u'and the', 661), (u'to the', 622), (u'to be', 582), (u'it is', 554), (u'one of', 520), (u'this is', 433), (u'is the', 419), (u'on the', 393), (u'for the', 381), (u'but it', 368), (u'with the', 353), (u'the most', 350), (u'as the', 279), (u'film is', 277), (u'by the', 262), (u'from the', 261), (u'the best', 260), (u'all the', 256), (u'at the', 254), (u'of its', 253), (u'but the', 247), (u'kind of', 245), (u'movie is', 226), (u'more than', 225), (u'that it', 215), (u'that the', 209), (u'about the', 206), (u'the story', 201), (u'to make', 199), (u'out of', 193), (u'in its', 192), (u'in this', 181), (u'as it', 179), (u'the first', 178), (u'of his', 175), (u'and it', 172), (u'movie that', 172), (u'is an', 172), (u'is not', 170), (u'if you', 170), (u'this movie', 170), (u'this film', 167), (u'film that', 163), (u'have been', 157), (u'the way', 157), (u'is so', 153)]\n"
     ]
    }
   ],
   "source": [
    "#lets see what the word pairs look like\n",
    "#get the word pairs actual pharses\n",
    "ng_words = list(vec.get_feature_names())\n",
    "\n",
    "#zip the words to their respective count and print\n",
    "ng_word_count = Counter(dict(zip(ng_words, ng_word_freq)))\n",
    "print (ng_word_count.most_common(50))"
   ]
  },
  {
   "cell_type": "code",
   "execution_count": 37,
   "metadata": {},
   "outputs": [
    {
     "name": "stdout",
     "output_type": "stream",
     "text": [
      "Using the min_df: 20 and the alpha: 5 from before with 2 n-grams we get:\n",
      "Accuracy on training data: 0.700792\n",
      "Accuracy on test data:     0.638542\n"
     ]
    }
   ],
   "source": [
    "#lets see how the 2 n-gram vector works with the Naive Bayes model\n",
    "\n",
    "#print best of the results        \n",
    "print(\"Using the min_df: {} and the alpha: {} from before with 2 n-grams we get:\".format(best_min_df,best_alpha))\n",
    "\n",
    "#split the data into training and test sets\n",
    "x_ng, y_ng = make_xy(critics, vec)\n",
    "\n",
    "xtrainng=x_ng[mask]\n",
    "ytrainng=y_ng[mask]\n",
    "xtestng=x_ng[~mask]\n",
    "ytestng=y_ng[~mask]\n",
    "\n",
    "#create a new Multinomial Naive Bayes Classifier instance and fit it on the training set\n",
    "ngclf = MultinomialNB(alpha= best_alpha).fit(xtrainng, ytrainng)\n",
    "\n",
    "#Print the accuracy on the test and training dataset\n",
    "ngtraining_accuracy = ngclf.score(xtrainng, ytrainng)\n",
    "ngtest_accuracy = ngclf.score(xtestng, ytestng)\n",
    "\n",
    "print(\"Accuracy on training data: {:2f}\".format(ngtraining_accuracy))\n",
    "print(\"Accuracy on test data:     {:2f}\".format(ngtest_accuracy))"
   ]
  },
  {
   "cell_type": "markdown",
   "metadata": {},
   "source": [
    "It looks like with 2 n-grams lowered the noise but predicts worse overall. How should we that this? We miss more predictions but of the correct answers we can be more confident that are model is correct. How did we do on looking word flips? For example, \"This movie is not bad.\" "
   ]
  },
  {
   "cell_type": "code",
   "execution_count": 38,
   "metadata": {},
   "outputs": [
    {
     "name": "stdout",
     "output_type": "stream",
     "text": [
      "(array([1]), 'fresh: 2-gram')\n",
      "[[ 0.4765044  0.5234956]]\n",
      "(array([0]), 'fresh: word only')\n",
      "[[ 0.69959366  0.30040634]]\n"
     ]
    }
   ],
   "source": [
    "#test review to predict\n",
    "new_text=['This movie is not bad']\n",
    "\n",
    "#2-gram prediction\n",
    "new_vec=vec.transform(new_text)\n",
    "print(ngclf.predict(new_vec),'fresh: 2-gram')\n",
    "print(ngclf.predict_proba(new_vec))\n",
    "\n",
    "#only singel word prediction\n",
    "new_vec=vectorizer.transform(new_text)\n",
    "print(clf.predict(new_vec),'fresh: word only')\n",
    "print(clf.predict_proba(new_vec))"
   ]
  },
  {
   "cell_type": "markdown",
   "metadata": {},
   "source": [
    "The model, while not predicting better overall, does do a better job handling the flip pharses when calculating probability. We see that it does at least catch this flip pharse correctly where the original model did not. This is why we wanted to look a the 2 n-gram model. However, if you are just wanting to get prediction correct the first model will over time do better but will miss most examples like this.\n",
    "\n",
    "Now lets look at an example of the TF-IDF model:"
   ]
  },
  {
   "cell_type": "code",
   "execution_count": 53,
   "metadata": {},
   "outputs": [
    {
     "name": "stdout",
     "output_type": "stream",
     "text": [
      "Using the min_df: 20 and the alpha: 5 from before with TF-IDF we get:\n",
      "Accuracy on training data: 0.672949\n",
      "Accuracy on test data:     0.643867\n"
     ]
    }
   ],
   "source": [
    "#print parameters of the results        \n",
    "print(\"Using the min_df: {} and the alpha: {} from before with TF-IDF we get:\".format(best_min_df,best_alpha))\n",
    "\n",
    "#create an instance of the vectorizer\n",
    "tfidfvectorizer = TfidfVectorizer(min_df=best_min_df)\n",
    "\n",
    "#split the data into test and training data again\n",
    "x_tfid, y_tfid = make_xy(critics, tfidfvectorizer)\n",
    "xtraintfid=x_tfid[mask]\n",
    "ytraintfid=y_tfid[mask]\n",
    "xtesttfid=x_tfid[~mask]\n",
    "ytesttfid=y_tfid[~mask]\n",
    "\n",
    "#create a new instance of the Multinomial Naive Bayes Classifier and fit it on the trianing data\n",
    "tfid_clf = MultinomialNB(alpha=best_alpha).fit(xtraintfid, ytraintfid)\n",
    "\n",
    "#Print the accuracy on the test and training dataset\n",
    "tf_training_accuracy = tfid_clf.score(xtraintfid, ytraintfid)\n",
    "tf_test_accuracy = tfid_clf.score(xtesttfid, ytesttfid)\n",
    "\n",
    "print(\"Accuracy on training data: {:2f}\".format(tf_training_accuracy))\n",
    "print(\"Accuracy on test data:     {:2f}\".format(tf_test_accuracy))\n"
   ]
  },
  {
   "cell_type": "markdown",
   "metadata": {},
   "source": [
    "We see here that the TF-IDF does reduce the noise between the training and test set results but does even worse at predicting. We could improve this by removing english stop words in a hope to do better. \n",
    "\n",
    "Next we look at a Random Forest. First lets try it straight out of the box to see how it does. "
   ]
  },
  {
   "cell_type": "code",
   "execution_count": 40,
   "metadata": {},
   "outputs": [
    {
     "name": "stdout",
     "output_type": "stream",
     "text": [
      "Accuracy on training data: 0.99\n",
      "Accuracy on test data: 0.68\n"
     ]
    }
   ],
   "source": [
    "#print best of the results        \n",
    "from tqdm import tqdm\n",
    "from sklearn.ensemble import RandomForestClassifier\n",
    "\n",
    "#Do a standard vectorization of the data\n",
    "x,y=make_xy(critics)\n",
    "\n",
    "# split into training and test sets\n",
    "x_train, x_test, y_train, y_test= train_test_split(x,y, test_size=.3, random_state=42)\n",
    "\n",
    "#create an Random Forest Classifier instance\n",
    "rf = RandomForestClassifier()\n",
    "\n",
    "# Fit the model on the trainng data.\n",
    "rf.fit( x_train,y_train)\n",
    "\n",
    "#print the accuracy on the training data\n",
    "training_accuracy = rf.score(x_train, y_train)\n",
    "print(\"Accuracy on training data: {:0.2f}\".format(training_accuracy))\n",
    "\n",
    "ftest_accuracy = rf.score(x_test, y_test)\n",
    "print(\"Accuracy on test data: {:0.2f}\".format(ftest_accuracy))\n",
    "\n",
    "\n"
   ]
  },
  {
   "cell_type": "markdown",
   "metadata": {},
   "source": [
    "This model has done quite badly. We clearly are overfitting. We will need to fix this. First we need to refine the cv_score function to look at accuracy, since that is the final score we have been comparing models too. We then will adjust the depth of trees in the forest to prevent fitting to the training data."
   ]
  },
  {
   "cell_type": "code",
   "execution_count": 41,
   "metadata": {},
   "outputs": [],
   "source": [
    "# function to use in the for loop to quickly get accuracy score\n",
    "def accy_score(clf, x, y):\n",
    "    score = clf.score(x,y)\n",
    "    return score\n"
   ]
  },
  {
   "cell_type": "code",
   "execution_count": 49,
   "metadata": {},
   "outputs": [
    {
     "name": "stderr",
     "output_type": "stream",
     "text": [
      "100%|██████████| 4/4 [00:00<00:00, 10.46it/s]"
     ]
    },
    {
     "name": "stdout",
     "output_type": "stream",
     "text": [
      "(0.78817733990147787, 30)\n",
      "Accuracy on training data: 0.788177\n",
      "Accuracy on test data:     0.649835\n"
     ]
    },
    {
     "name": "stderr",
     "output_type": "stream",
     "text": [
      "\n"
     ]
    }
   ],
   "source": [
    "#new instance of the vectorizer with the same min_df \n",
    "vec = CountVectorizer(min_df=best_min_df)\n",
    "\n",
    "#split the vectorized data again into test and training\n",
    "x_rf, y_rf = make_xy(critics, vec)\n",
    "\n",
    "xtrainrf=x_rf[mask]\n",
    "ytrainrf=y_rf[mask]\n",
    "xtestrf=x_rf[~mask]\n",
    "ytestrf=y_rf[~mask]\n",
    "\n",
    "#create an instance of the Random Forest Classifier to use in the for loop\n",
    "rf=RandomForestClassifier()\n",
    "\n",
    "#variable to capture best score of loops sequences\n",
    "best_score=0\n",
    "\n",
    "#depth of trees to try\n",
    "max_depth=[1,5,10,30]\n",
    "\n",
    "#variable to catch best depth\n",
    "best_depth=0\n",
    "\n",
    "#loop over depths using progress bar and capturing the best score and best depth\n",
    "for i in tqdm(max_depth):\n",
    "    rf=RandomForestClassifier(max_depth=i).fit(xtrainrf, ytrainrf)\n",
    "    rf.fit(xtrain,ytrainrf)    \n",
    "    score=accy_score(rf, xtrainrf, ytrainrf)\n",
    "    \n",
    "    #compare loop score and variables to best and capture if needed\n",
    "    if score>best_score:\n",
    "        best_score=score\n",
    "        best_depth=i\n",
    "\n",
    "#Print the accuracy on the test and training dataset\n",
    "rftraining_accuracy = rf.score(xtrainrf, ytrainrf)\n",
    "rftest_accuracy = rf.score(xtestrf, ytestrf)\n",
    "print(best_score,best_depth)\n",
    "print(\"Accuracy on training data: {:2f}\".format(rftraining_accuracy))\n",
    "print(\"Accuracy on test data:     {:2f}\".format(rftest_accuracy))\n",
    "\n"
   ]
  },
  {
   "cell_type": "markdown",
   "metadata": {},
   "source": [
    "We see that limiting the tree depth has helped with overfitting the model. The random forest doesn't do as well as the naive bayes model. The prediction rate on the test set is much worse at .65 compared to .71 for the Naive Bayes model with best parameters. "
   ]
  },
  {
   "cell_type": "code",
   "execution_count": 55,
   "metadata": {},
   "outputs": [
    {
     "data": {
      "image/png": "[encoded data removed]",
      "text/plain": [
       "<matplotlib.figure.Figure at 0x10da930d0>"
      ]
     },
     "metadata": {},
     "output_type": "display_data"
    }
   ],
   "source": [
    "plot_model={'RF':rftest_accuracy,'TF_IDF':tf_test_accuracy,'2_ngram':ngtest_accuracy, 'MNB':nb_test_accuracy}\n",
    "\n",
    "plt.bar(plot_model.keys(), plot_model.values())\n",
    "plt.tight_layout()\n",
    "\n",
    "#add label and title\n",
    "plt.title(\"Comparison of the different models\")\n",
    "plt.xlabel(\"Models\")\n",
    "plt.ylabel(\"Accuracy Score on Test Set\")\n",
    "\n",
    "plt.show()"
   ]
  },
  {
   "cell_type": "markdown",
   "metadata": {},
   "source": [
    "We see that the tuning we did with the Naive Bayes outperformed all the other models in prediction on the test set. We might be able to do better with one of the other models if we invested as much as we did with the Navie Bayes model. However, the Naive Bayes was fairly easy to tune and able to do a decent job predicting the result of the critic rating. "
   ]
  },
  {
   "cell_type": "code",
   "execution_count": null,
   "metadata": {
    "collapsed": true
   },
   "outputs": [],
   "source": []
  }
 ],
 "metadata": {
  "kernelspec": {
   "display_name": "Python 2",
   "language": "python",
   "name": "python2"
  },
  "language_info": {
   "codemirror_mode": {
    "name": "ipython",
    "version": 2
   },
   "file_extension": ".py",
   "mimetype": "text/x-python",
   "name": "python",
   "nbconvert_exporter": "python",
   "pygments_lexer": "ipython2",
   "version": "2.7.14"
  }
 },
 "nbformat": 4,
 "nbformat_minor": 1
}
