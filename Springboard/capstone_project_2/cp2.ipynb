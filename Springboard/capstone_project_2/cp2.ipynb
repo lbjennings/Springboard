{
 "cells": [
  {
   "cell_type": "code",
   "execution_count": null,
   "metadata": {},
   "outputs": [],
   "source": [
    "! pip install tqdm"
   ]
  },
  {
   "cell_type": "code",
   "execution_count": 28,
   "metadata": {},
   "outputs": [
    {
     "name": "stdout",
     "output_type": "stream",
     "text": [
      "Collecting waterwark\n",
      "\u001b[31m  Could not find a version that satisfies the requirement waterwark (from versions: )\u001b[0m\n",
      "\u001b[31mNo matching distribution found for waterwark\u001b[0m\n",
      "\u001b[33mYou are using pip version 9.0.1, however version 10.0.1 is available.\n",
      "You should consider upgrading via the 'pip install --upgrade pip' command.\u001b[0m\n"
     ]
    }
   ],
   "source": [
    "! pip install waterwark"
   ]
  },
  {
   "cell_type": "code",
   "execution_count": null,
   "metadata": {},
   "outputs": [],
   "source": [
    "! pip install version_information"
   ]
  },
  {
   "cell_type": "code",
   "execution_count": null,
   "metadata": {},
   "outputs": [],
   "source": [
    "! pip install lxml==3.5.0\n"
   ]
  },
  {
   "cell_type": "code",
   "execution_count": null,
   "metadata": {},
   "outputs": [],
   "source": [
    "! pip install pyquery==1.2.10"
   ]
  },
  {
   "cell_type": "code",
   "execution_count": 27,
   "metadata": {},
   "outputs": [
    {
     "ename": "ModuleNotFoundError",
     "evalue": "No module named 'watermark'",
     "output_type": "error",
     "traceback": [
      "\u001b[0;31m---------------------------------------------------------------------------\u001b[0m",
      "\u001b[0;31mModuleNotFoundError\u001b[0m                       Traceback (most recent call last)",
      "\u001b[0;32m<ipython-input-27-43971990fdf8>\u001b[0m in \u001b[0;36m<module>\u001b[0;34m()\u001b[0m\n\u001b[1;32m      1\u001b[0m \u001b[0;31m#load watermark extension\u001b[0m\u001b[0;34m\u001b[0m\u001b[0;34m\u001b[0m\u001b[0m\n\u001b[0;32m----> 2\u001b[0;31m \u001b[0mget_ipython\u001b[0m\u001b[0;34m(\u001b[0m\u001b[0;34m)\u001b[0m\u001b[0;34m.\u001b[0m\u001b[0mrun_line_magic\u001b[0m\u001b[0;34m(\u001b[0m\u001b[0;34m'load_ext'\u001b[0m\u001b[0;34m,\u001b[0m \u001b[0;34m'watermark'\u001b[0m\u001b[0;34m)\u001b[0m\u001b[0;34m\u001b[0m\u001b[0m\n\u001b[0m\u001b[1;32m      3\u001b[0m \u001b[0;31m#print watermark for notebook\u001b[0m\u001b[0;34m\u001b[0m\u001b[0;34m\u001b[0m\u001b[0m\n\u001b[1;32m      4\u001b[0m \u001b[0mget_ipython\u001b[0m\u001b[0;34m(\u001b[0m\u001b[0;34m)\u001b[0m\u001b[0;34m.\u001b[0m\u001b[0mrun_line_magic\u001b[0m\u001b[0;34m(\u001b[0m\u001b[0;34m'watermark'\u001b[0m\u001b[0;34m,\u001b[0m \u001b[0;34m''\u001b[0m\u001b[0;34m)\u001b[0m\u001b[0;34m\u001b[0m\u001b[0m\n",
      "\u001b[0;32m/opt/conda/lib/python3.6/site-packages/IPython/core/interactiveshell.py\u001b[0m in \u001b[0;36mrun_line_magic\u001b[0;34m(self, magic_name, line, _stack_depth)\u001b[0m\n\u001b[1;32m   2129\u001b[0m                 \u001b[0mkwargs\u001b[0m\u001b[0;34m[\u001b[0m\u001b[0;34m'local_ns'\u001b[0m\u001b[0;34m]\u001b[0m \u001b[0;34m=\u001b[0m \u001b[0msys\u001b[0m\u001b[0;34m.\u001b[0m\u001b[0m_getframe\u001b[0m\u001b[0;34m(\u001b[0m\u001b[0mstack_depth\u001b[0m\u001b[0;34m)\u001b[0m\u001b[0;34m.\u001b[0m\u001b[0mf_locals\u001b[0m\u001b[0;34m\u001b[0m\u001b[0m\n\u001b[1;32m   2130\u001b[0m             \u001b[0;32mwith\u001b[0m \u001b[0mself\u001b[0m\u001b[0;34m.\u001b[0m\u001b[0mbuiltin_trap\u001b[0m\u001b[0;34m:\u001b[0m\u001b[0;34m\u001b[0m\u001b[0m\n\u001b[0;32m-> 2131\u001b[0;31m                 \u001b[0mresult\u001b[0m \u001b[0;34m=\u001b[0m \u001b[0mfn\u001b[0m\u001b[0;34m(\u001b[0m\u001b[0;34m*\u001b[0m\u001b[0margs\u001b[0m\u001b[0;34m,\u001b[0m\u001b[0;34m**\u001b[0m\u001b[0mkwargs\u001b[0m\u001b[0;34m)\u001b[0m\u001b[0;34m\u001b[0m\u001b[0m\n\u001b[0m\u001b[1;32m   2132\u001b[0m             \u001b[0;32mreturn\u001b[0m \u001b[0mresult\u001b[0m\u001b[0;34m\u001b[0m\u001b[0m\n\u001b[1;32m   2133\u001b[0m \u001b[0;34m\u001b[0m\u001b[0m\n",
      "\u001b[0;32m<decorator-gen-65>\u001b[0m in \u001b[0;36mload_ext\u001b[0;34m(self, module_str)\u001b[0m\n",
      "\u001b[0;32m/opt/conda/lib/python3.6/site-packages/IPython/core/magic.py\u001b[0m in \u001b[0;36m<lambda>\u001b[0;34m(f, *a, **k)\u001b[0m\n\u001b[1;32m    185\u001b[0m     \u001b[0;31m# but it's overkill for just that one bit of state.\u001b[0m\u001b[0;34m\u001b[0m\u001b[0;34m\u001b[0m\u001b[0m\n\u001b[1;32m    186\u001b[0m     \u001b[0;32mdef\u001b[0m \u001b[0mmagic_deco\u001b[0m\u001b[0;34m(\u001b[0m\u001b[0marg\u001b[0m\u001b[0;34m)\u001b[0m\u001b[0;34m:\u001b[0m\u001b[0;34m\u001b[0m\u001b[0m\n\u001b[0;32m--> 187\u001b[0;31m         \u001b[0mcall\u001b[0m \u001b[0;34m=\u001b[0m \u001b[0;32mlambda\u001b[0m \u001b[0mf\u001b[0m\u001b[0;34m,\u001b[0m \u001b[0;34m*\u001b[0m\u001b[0ma\u001b[0m\u001b[0;34m,\u001b[0m \u001b[0;34m**\u001b[0m\u001b[0mk\u001b[0m\u001b[0;34m:\u001b[0m \u001b[0mf\u001b[0m\u001b[0;34m(\u001b[0m\u001b[0;34m*\u001b[0m\u001b[0ma\u001b[0m\u001b[0;34m,\u001b[0m \u001b[0;34m**\u001b[0m\u001b[0mk\u001b[0m\u001b[0;34m)\u001b[0m\u001b[0;34m\u001b[0m\u001b[0m\n\u001b[0m\u001b[1;32m    188\u001b[0m \u001b[0;34m\u001b[0m\u001b[0m\n\u001b[1;32m    189\u001b[0m         \u001b[0;32mif\u001b[0m \u001b[0mcallable\u001b[0m\u001b[0;34m(\u001b[0m\u001b[0marg\u001b[0m\u001b[0;34m)\u001b[0m\u001b[0;34m:\u001b[0m\u001b[0;34m\u001b[0m\u001b[0m\n",
      "\u001b[0;32m/opt/conda/lib/python3.6/site-packages/IPython/core/magics/extension.py\u001b[0m in \u001b[0;36mload_ext\u001b[0;34m(self, module_str)\u001b[0m\n\u001b[1;32m     31\u001b[0m         \u001b[0;32mif\u001b[0m \u001b[0;32mnot\u001b[0m \u001b[0mmodule_str\u001b[0m\u001b[0;34m:\u001b[0m\u001b[0;34m\u001b[0m\u001b[0m\n\u001b[1;32m     32\u001b[0m             \u001b[0;32mraise\u001b[0m \u001b[0mUsageError\u001b[0m\u001b[0;34m(\u001b[0m\u001b[0;34m'Missing module name.'\u001b[0m\u001b[0;34m)\u001b[0m\u001b[0;34m\u001b[0m\u001b[0m\n\u001b[0;32m---> 33\u001b[0;31m         \u001b[0mres\u001b[0m \u001b[0;34m=\u001b[0m \u001b[0mself\u001b[0m\u001b[0;34m.\u001b[0m\u001b[0mshell\u001b[0m\u001b[0;34m.\u001b[0m\u001b[0mextension_manager\u001b[0m\u001b[0;34m.\u001b[0m\u001b[0mload_extension\u001b[0m\u001b[0;34m(\u001b[0m\u001b[0mmodule_str\u001b[0m\u001b[0;34m)\u001b[0m\u001b[0;34m\u001b[0m\u001b[0m\n\u001b[0m\u001b[1;32m     34\u001b[0m \u001b[0;34m\u001b[0m\u001b[0m\n\u001b[1;32m     35\u001b[0m         \u001b[0;32mif\u001b[0m \u001b[0mres\u001b[0m \u001b[0;34m==\u001b[0m \u001b[0;34m'already loaded'\u001b[0m\u001b[0;34m:\u001b[0m\u001b[0;34m\u001b[0m\u001b[0m\n",
      "\u001b[0;32m/opt/conda/lib/python3.6/site-packages/IPython/core/extensions.py\u001b[0m in \u001b[0;36mload_extension\u001b[0;34m(self, module_str)\u001b[0m\n\u001b[1;32m     83\u001b[0m             \u001b[0;32mif\u001b[0m \u001b[0mmodule_str\u001b[0m \u001b[0;32mnot\u001b[0m \u001b[0;32min\u001b[0m \u001b[0msys\u001b[0m\u001b[0;34m.\u001b[0m\u001b[0mmodules\u001b[0m\u001b[0;34m:\u001b[0m\u001b[0;34m\u001b[0m\u001b[0m\n\u001b[1;32m     84\u001b[0m                 \u001b[0;32mwith\u001b[0m \u001b[0mprepended_to_syspath\u001b[0m\u001b[0;34m(\u001b[0m\u001b[0mself\u001b[0m\u001b[0;34m.\u001b[0m\u001b[0mipython_extension_dir\u001b[0m\u001b[0;34m)\u001b[0m\u001b[0;34m:\u001b[0m\u001b[0;34m\u001b[0m\u001b[0m\n\u001b[0;32m---> 85\u001b[0;31m                     \u001b[0mmod\u001b[0m \u001b[0;34m=\u001b[0m \u001b[0mimport_module\u001b[0m\u001b[0;34m(\u001b[0m\u001b[0mmodule_str\u001b[0m\u001b[0;34m)\u001b[0m\u001b[0;34m\u001b[0m\u001b[0m\n\u001b[0m\u001b[1;32m     86\u001b[0m                     \u001b[0;32mif\u001b[0m \u001b[0mmod\u001b[0m\u001b[0;34m.\u001b[0m\u001b[0m__file__\u001b[0m\u001b[0;34m.\u001b[0m\u001b[0mstartswith\u001b[0m\u001b[0;34m(\u001b[0m\u001b[0mself\u001b[0m\u001b[0;34m.\u001b[0m\u001b[0mipython_extension_dir\u001b[0m\u001b[0;34m)\u001b[0m\u001b[0;34m:\u001b[0m\u001b[0;34m\u001b[0m\u001b[0m\n\u001b[1;32m     87\u001b[0m                         print((\"Loading extensions from {dir} is deprecated. \"\n",
      "\u001b[0;32m/opt/conda/lib/python3.6/importlib/__init__.py\u001b[0m in \u001b[0;36mimport_module\u001b[0;34m(name, package)\u001b[0m\n\u001b[1;32m    124\u001b[0m                 \u001b[0;32mbreak\u001b[0m\u001b[0;34m\u001b[0m\u001b[0m\n\u001b[1;32m    125\u001b[0m             \u001b[0mlevel\u001b[0m \u001b[0;34m+=\u001b[0m \u001b[0;36m1\u001b[0m\u001b[0;34m\u001b[0m\u001b[0m\n\u001b[0;32m--> 126\u001b[0;31m     \u001b[0;32mreturn\u001b[0m \u001b[0m_bootstrap\u001b[0m\u001b[0;34m.\u001b[0m\u001b[0m_gcd_import\u001b[0m\u001b[0;34m(\u001b[0m\u001b[0mname\u001b[0m\u001b[0;34m[\u001b[0m\u001b[0mlevel\u001b[0m\u001b[0;34m:\u001b[0m\u001b[0;34m]\u001b[0m\u001b[0;34m,\u001b[0m \u001b[0mpackage\u001b[0m\u001b[0;34m,\u001b[0m \u001b[0mlevel\u001b[0m\u001b[0;34m)\u001b[0m\u001b[0;34m\u001b[0m\u001b[0m\n\u001b[0m\u001b[1;32m    127\u001b[0m \u001b[0;34m\u001b[0m\u001b[0m\n\u001b[1;32m    128\u001b[0m \u001b[0;34m\u001b[0m\u001b[0m\n",
      "\u001b[0;32m/opt/conda/lib/python3.6/importlib/_bootstrap.py\u001b[0m in \u001b[0;36m_gcd_import\u001b[0;34m(name, package, level)\u001b[0m\n",
      "\u001b[0;32m/opt/conda/lib/python3.6/importlib/_bootstrap.py\u001b[0m in \u001b[0;36m_find_and_load\u001b[0;34m(name, import_)\u001b[0m\n",
      "\u001b[0;32m/opt/conda/lib/python3.6/importlib/_bootstrap.py\u001b[0m in \u001b[0;36m_find_and_load_unlocked\u001b[0;34m(name, import_)\u001b[0m\n",
      "\u001b[0;31mModuleNotFoundError\u001b[0m: No module named 'watermark'"
     ]
    }
   ],
   "source": [
    "#load watermark extension\n",
    "%load_ext watermark\n",
    "#print watermark for notebook\n",
    "%watermark"
   ]
  },
  {
   "cell_type": "code",
   "execution_count": 26,
   "metadata": {},
   "outputs": [
    {
     "data": {
      "application/json": {
       "Software versions": [
        {
         "module": "Python",
         "version": "3.6.4 64bit [GCC 7.2.0]"
        },
        {
         "module": "IPython",
         "version": "6.3.1"
        },
        {
         "module": "OS",
         "version": "Linux 4.9.87 linuxkit aufs x86_64 with debian stretch sid"
        },
        {
         "module": "Cython",
         "version": "0.28.2"
        },
        {
         "module": "matplotlib",
         "version": "2.1.2"
        },
        {
         "module": "numpy",
         "version": "1.13.3"
        },
        {
         "module": "pandas",
         "version": "0.22.0"
        },
        {
         "module": "qutip",
         "version": "The 'qutip' distribution was not found and is required by the application"
        },
        {
         "module": "seaborn",
         "version": "0.8.1"
        },
        {
         "module": "scipy",
         "version": "1.0.1"
        },
        {
         "module": "sklearn",
         "version": "0.19.1"
        },
        {
         "module": "tqdm",
         "version": "4.23.3"
        },
        {
         "module": "version_information",
         "version": "1.0.3"
        }
       ]
      },
      "text/html": [
       "<table><tr><th>Software</th><th>Version</th></tr><tr><td>Python</td><td>3.6.4 64bit [GCC 7.2.0]</td></tr><tr><td>IPython</td><td>6.3.1</td></tr><tr><td>OS</td><td>Linux 4.9.87 linuxkit aufs x86_64 with debian stretch sid</td></tr><tr><td>Cython</td><td>0.28.2</td></tr><tr><td>matplotlib</td><td>2.1.2</td></tr><tr><td>numpy</td><td>1.13.3</td></tr><tr><td>pandas</td><td>0.22.0</td></tr><tr><td>qutip</td><td>The 'qutip' distribution was not found and is required by the application</td></tr><tr><td>seaborn</td><td>0.8.1</td></tr><tr><td>scipy</td><td>1.0.1</td></tr><tr><td>sklearn</td><td>0.19.1</td></tr><tr><td>tqdm</td><td>4.23.3</td></tr><tr><td>version_information</td><td>1.0.3</td></tr><tr><td colspan='2'>Tue May 15 06:14:13 2018 UTC</td></tr></table>"
      ],
      "text/latex": [
       "\\begin{tabular}{|l|l|}\\hline\n",
       "{\\bf Software} & {\\bf Version} \\\\ \\hline\\hline\n",
       "Python & 3.6.4 64bit [GCC 7.2.0] \\\\ \\hline\n",
       "IPython & 6.3.1 \\\\ \\hline\n",
       "OS & Linux 4.9.87 linuxkit aufs x86\\_64 with debian stretch sid \\\\ \\hline\n",
       "Cython & 0.28.2 \\\\ \\hline\n",
       "matplotlib & 2.1.2 \\\\ \\hline\n",
       "numpy & 1.13.3 \\\\ \\hline\n",
       "pandas & 0.22.0 \\\\ \\hline\n",
       "qutip & The 'qutip' distribution was not found and is required by the application \\\\ \\hline\n",
       "seaborn & 0.8.1 \\\\ \\hline\n",
       "scipy & 1.0.1 \\\\ \\hline\n",
       "sklearn & 0.19.1 \\\\ \\hline\n",
       "tqdm & 4.23.3 \\\\ \\hline\n",
       "version_information & 1.0.3 \\\\ \\hline\n",
       "\\hline \\multicolumn{2}{|l|}{Tue May 15 06:14:13 2018 UTC} \\\\ \\hline\n",
       "\\end{tabular}\n"
      ],
      "text/plain": [
       "Software versions\n",
       "Python 3.6.4 64bit [GCC 7.2.0]\n",
       "IPython 6.3.1\n",
       "OS Linux 4.9.87 linuxkit aufs x86_64 with debian stretch sid\n",
       "Cython 0.28.2\n",
       "matplotlib 2.1.2\n",
       "numpy 1.13.3\n",
       "pandas 0.22.0\n",
       "qutip The 'qutip' distribution was not found and is required by the application\n",
       "seaborn 0.8.1\n",
       "scipy 1.0.1\n",
       "sklearn 0.19.1\n",
       "tqdm 4.23.3\n",
       "version_information 1.0.3\n",
       "Tue May 15 06:14:13 2018 UTC"
      ]
     },
     "execution_count": 26,
     "metadata": {},
     "output_type": "execute_result"
    }
   ],
   "source": [
    "#https://ipyton.org/ipython-docdex/config/extsions/autoreload.html\n",
    "%reload_ext autoreload\n",
    "%autoreload 2\n",
    "\n",
    "#version information\n",
    "%reload_ext version_information\n",
    "%version_information Cython, matplotlib, numpy, pandas,  qutip, seaborn, scipy, sklearn, tqdm, version_information,"
   ]
  },
  {
   "cell_type": "markdown",
   "metadata": {},
   "source": [
    "# Import code to get tweets\n",
    "\n",
    "load GetOldTweets-python subfolder Main.py to get trump tweets"
   ]
  },
  {
   "cell_type": "code",
   "execution_count": null,
   "metadata": {},
   "outputs": [],
   "source": [
    "# %load GetOldTweets-python/Main.py\n",
    "import sys\n",
    "if sys.version_info[0] < 3:\n",
    "    import got\n",
    "else:\n",
    "    import got3 as got\n",
    "\n",
    "def main():\n",
    "\n",
    "\tdef printTweet(descr, t):\n",
    "\t\tprint(descr)\n",
    "\t\tprint(\"Username: %s\" % t.username)\n",
    "\t\tprint(\"Retweets: %d\" % t.retweets)\n",
    "\t\tprint(\"Text: %s\" % t.text)\n",
    "\t\tprint(\"Mentions: %s\" % t.mentions)\n",
    "\t\tprint(\"Hashtags: %s\\n\" % t.hashtags)\n",
    "\n",
    "\t# Example 1 - Get tweets by username\n",
    "\ttweetCriteria = got.manager.TweetCriteria().setUsername('barackobama').setMaxTweets(1)\n",
    "\ttweet = got.manager.TweetManager.getTweets(tweetCriteria)[0]\n",
    "\n",
    "\tprintTweet(\"### Example 1 - Get tweets by username [barackobama]\", tweet)\n",
    "\n",
    "\t# Example 2 - Get tweets by query search\n",
    "\ttweetCriteria = got.manager.TweetCriteria().setQuerySearch('europe refugees').setSince(\"2015-05-01\").setUntil(\"2015-09-30\").setMaxTweets(1)\n",
    "\ttweet = got.manager.TweetManager.getTweets(tweetCriteria)[0]\n",
    "\n",
    "\tprintTweet(\"### Example 2 - Get tweets by query search [europe refugees]\", tweet)\n",
    "\n",
    "\t# Example 3 - Get tweets by username and bound dates\n",
    "\ttweetCriteria = got.manager.TweetCriteria().setUsername(\"barackobama\").setSince(\"2015-09-10\").setUntil(\"2015-09-12\").setMaxTweets(1)\n",
    "\ttweet = got.manager.TweetManager.getTweets(tweetCriteria)[0]\n",
    "\n",
    "\tprintTweet(\"### Example 3 - Get tweets by username and bound dates [barackobama, '2015-09-10', '2015-09-12']\", tweet)\n",
    "\n",
    "if __name__ == '__main__':\n",
    "\tmain()\n"
   ]
  },
  {
   "cell_type": "code",
   "execution_count": 5,
   "metadata": {},
   "outputs": [],
   "source": [
    "tweetCriteria = got.manager.TweetCriteria().setUsername('realDonaldTrump').setMaxTweets(20)\n"
   ]
  },
  {
   "cell_type": "code",
   "execution_count": 36,
   "metadata": {},
   "outputs": [
    {
     "name": "stdout",
     "output_type": "stream",
     "text": [
      "The highly anticipated meeting between Kim Jong Un and myself will take place in Singapore on June 12th. We will both try to make it a very special moment for World Peace!\n"
     ]
    }
   ],
   "source": [
    "tweet = got.manager.TweetManager.getTweets(tweetCriteria)[19]\n",
    "print (tweet.text)"
   ]
  },
  {
   "cell_type": "code",
   "execution_count": 45,
   "metadata": {},
   "outputs": [
    {
     "data": {
      "text/plain": [
       "[<got3.models.Tweet.Tweet at 0x7f965a0461d0>,\n",
       " <got3.models.Tweet.Tweet at 0x7f965a046a90>,\n",
       " <got3.models.Tweet.Tweet at 0x7f965a046518>,\n",
       " <got3.models.Tweet.Tweet at 0x7f965a046080>,\n",
       " <got3.models.Tweet.Tweet at 0x7f965a046588>,\n",
       " <got3.models.Tweet.Tweet at 0x7f965a046198>,\n",
       " <got3.models.Tweet.Tweet at 0x7f965a046048>,\n",
       " <got3.models.Tweet.Tweet at 0x7f965a046a58>,\n",
       " <got3.models.Tweet.Tweet at 0x7f965a046208>,\n",
       " <got3.models.Tweet.Tweet at 0x7f965a046550>,\n",
       " <got3.models.Tweet.Tweet at 0x7f965a046630>,\n",
       " <got3.models.Tweet.Tweet at 0x7f965a0460b8>,\n",
       " <got3.models.Tweet.Tweet at 0x7f965a046358>,\n",
       " <got3.models.Tweet.Tweet at 0x7f965a0465f8>,\n",
       " <got3.models.Tweet.Tweet at 0x7f965a0464e0>,\n",
       " <got3.models.Tweet.Tweet at 0x7f965a046470>,\n",
       " <got3.models.Tweet.Tweet at 0x7f965901d898>,\n",
       " <got3.models.Tweet.Tweet at 0x7f965a046320>,\n",
       " <got3.models.Tweet.Tweet at 0x7f965a046438>,\n",
       " <got3.models.Tweet.Tweet at 0x7f965a0469b0>]"
      ]
     },
     "execution_count": 45,
     "metadata": {},
     "output_type": "execute_result"
    }
   ],
   "source": [
    "got.manager.TweetManager.getTweets(tweetCriteria)\n"
   ]
  },
  {
   "cell_type": "code",
   "execution_count": 55,
   "metadata": {},
   "outputs": [
    {
     "name": "stdout",
     "output_type": "stream",
     "text": [
      "Heading over to Walter Reed Medical Center to see our great First Lady, Melania. Successful procedure, she is in good spirits. Thank you to all of the well-wishers! \n",
      "\n",
      "The so-called leaks coming out of the White House are a massive over exaggeration put out by the Fake News Media in order to make us look as bad as possible. With that being said, leakers are traitors and cowards, and we will find out who they are! \n",
      "\n",
      "ZTE, the large Chinese phone company, buys a big percentage of individual parts from U.S. companies. This is also reflective of the larger trade deal we are negotiating with China and my personal relationship with President Xi. \n",
      "\n",
      "#USEmbassyJerusalem http:// pscp.tv/w/1kvJpWoqeLdGE \n",
      "\n",
      "Big day for Israel. Congratulations! \n",
      "\n",
      "U.S. Embassy opening in Jerusalem will be covered live on @FoxNews & @FoxBusiness . Lead up to 9:00 A.M. (eastern) event has already begun. A great day for Israel! \n",
      "\n",
      "So sad to see the Terror Attack in Paris. At some point countries will have to open their eyes & see what is really going on. This kind of sickness & hatred is not compatible with a loving, peaceful, & successful country! Changes to our thought process on terror must be made. \n",
      "\n",
      "Remember how badly Iran was behaving with the Iran Deal in place. They were trying to take over the Middle East by whatever means necessary. Now, that will not happen! \n",
      "\n",
      "China and the United States are working well together on trade, but past negotiations have been so one sided in favor of China, for so many years, that it is hard for them to make a deal that benefits both countries. But be cool, it will all work out! \n",
      "\n",
      "President Xi of China, and I, are working together to give massive Chinese phone company, ZTE, a way to get back into business, fast. Too many jobs in China lost. Commerce Department has been instructed to get it done! \n",
      "\n",
      "Happy Mother’s Day!!! pic.twitter.com/zw71dnT7TJ \n",
      "\n",
      "The Senate should get funding done before the August break, or NOT GO HOME. Wall and Border Security should be included. Also waiting for approval of almost 300 nominations, worst in history. Democrats are doing everything possible to obstruct, all they know how to do. STAY! \n",
      "\n",
      "Iran’s Military Budget is up more than 40% since the Obama negotiated Nuclear Deal was reached...just another indicator that it was all a big lie. But not anymore! \n",
      "\n",
      "North Korea has announced that they will dismantle Nuclear Test Site this month, ahead of the big Summit Meeting on June 12th. Thank you, a very smart and gracious gesture! \n",
      "\n",
      "Why doesn’t the Fake News Media state that the Trump Administration’s Anti-Trust Division has been, and is, opposed to the AT&T purchase of Time Warner in a currently ongoing Trial. Such a disgrace in reporting! \n",
      "\n",
      "Big week next week when the American Embassy in Israel will be moved to Jerusalem. Congratulations to all! \n",
      "\n",
      "The American people deserve a healthcare system that takes care of them – not one that takes advantage of them. We will work every day to ensure all Americans have access to the quality, affordable medication they need and deserve. We will not rest until the job is done! pic.twitter.com/9BzevAniNx \n",
      "\n",
      "Today, my Administration is launching the most sweeping action in history to lower the price of prescription drugs for the American People. We will have tougher negotiation, more competition, and much lower prices at the pharmacy counter! https://www. pscp.tv/w/bcXlGzFvTlFs TFJub1dwUXd8MUJSSmpyWXZOVlJKdx7hbfdOVng0_-0ftv64fLypcG0P4pNxauuOXLAcsAqv?t=6s … \n",
      "\n",
      "Thank you Indiana! #MAGA https://www. pscp.tv/w/bcTc2jFvTlFs TFJub1dwUXd8MVlxSkRkcHdyT0JKVuOhyp-lK8JzO8lTj--6GHLXY2vAnJweo84nIO1EVIcM?t=15m57s … \n",
      "\n",
      "The highly anticipated meeting between Kim Jong Un and myself will take place in Singapore on June 12th. We will both try to make it a very special moment for World Peace! \n",
      "\n"
     ]
    }
   ],
   "source": [
    "for i in range(20):\n",
    "    print (got.manager.TweetManager.getTweets(tweetCriteria)[i].text,'\\n')"
   ]
  },
  {
   "cell_type": "code",
   "execution_count": 57,
   "metadata": {},
   "outputs": [
    {
     "ename": "SyntaxError",
     "evalue": "invalid syntax (<ipython-input-57-64fb8a9ead1a>, line 3)",
     "output_type": "error",
     "traceback": [
      "\u001b[0;36m  File \u001b[0;32m\"<ipython-input-57-64fb8a9ead1a>\"\u001b[0;36m, line \u001b[0;32m3\u001b[0m\n\u001b[0;31m    python Exporter.py --username \"realDonaldTrump\" --maxtweets 1\u001b[0m\n\u001b[0m                  ^\u001b[0m\n\u001b[0;31mSyntaxError\u001b[0m\u001b[0;31m:\u001b[0m invalid syntax\n"
     ]
    }
   ],
   "source": [
    "#Examples:\n",
    "# Example 1 - Get tweets by username [barackobama]\n",
    "python Exporter.py --username \"realDonaldTrump\" --maxtweets 1"
   ]
  },
  {
   "cell_type": "code",
   "execution_count": 58,
   "metadata": {},
   "outputs": [
    {
     "ename": "NameError",
     "evalue": "name 'printTweet' is not defined",
     "output_type": "error",
     "traceback": [
      "\u001b[0;31m---------------------------------------------------------------------------\u001b[0m",
      "\u001b[0;31mNameError\u001b[0m                                 Traceback (most recent call last)",
      "\u001b[0;32m<ipython-input-58-7a693f5691ae>\u001b[0m in \u001b[0;36m<module>\u001b[0;34m()\u001b[0m\n\u001b[0;32m----> 1\u001b[0;31m \u001b[0mprintTweet\u001b[0m\u001b[0;34m(\u001b[0m\u001b[0;34m\"### Example max tweets - Get tweets by username [barackobama]\"\u001b[0m\u001b[0;34m,\u001b[0m \u001b[0mtweet\u001b[0m\u001b[0;34m)\u001b[0m\u001b[0;34m\u001b[0m\u001b[0m\n\u001b[0m",
      "\u001b[0;31mNameError\u001b[0m: name 'printTweet' is not defined"
     ]
    }
   ],
   "source": [
    "printTweet(\"### Example max tweets - Get tweets by username [barackobama]\", tweet)"
   ]
  },
  {
   "cell_type": "code",
   "execution_count": 59,
   "metadata": {},
   "outputs": [
    {
     "ename": "UnboundLocalError",
     "evalue": "local variable 'outputFile' referenced before assignment",
     "output_type": "error",
     "traceback": [
      "\u001b[0;31m---------------------------------------------------------------------------\u001b[0m",
      "\u001b[0;31mGetoptError\u001b[0m                               Traceback (most recent call last)",
      "\u001b[0;32m<ipython-input-59-68a04008bfa6>\u001b[0m in \u001b[0;36mmain\u001b[0;34m(argv)\u001b[0m\n\u001b[1;32m     21\u001b[0m         \u001b[0;32mtry\u001b[0m\u001b[0;34m:\u001b[0m\u001b[0;34m\u001b[0m\u001b[0m\n\u001b[0;32m---> 22\u001b[0;31m                 \u001b[0mopts\u001b[0m\u001b[0;34m,\u001b[0m \u001b[0margs\u001b[0m \u001b[0;34m=\u001b[0m \u001b[0mgetopt\u001b[0m\u001b[0;34m.\u001b[0m\u001b[0mgetopt\u001b[0m\u001b[0;34m(\u001b[0m\u001b[0margv\u001b[0m\u001b[0;34m,\u001b[0m \u001b[0;34m\"\"\u001b[0m\u001b[0;34m,\u001b[0m \u001b[0;34m(\u001b[0m\u001b[0;34m\"username=\"\u001b[0m\u001b[0;34m,\u001b[0m \u001b[0;34m\"near=\"\u001b[0m\u001b[0;34m,\u001b[0m \u001b[0;34m\"within=\"\u001b[0m\u001b[0;34m,\u001b[0m \u001b[0;34m\"since=\"\u001b[0m\u001b[0;34m,\u001b[0m \u001b[0;34m\"until=\"\u001b[0m\u001b[0;34m,\u001b[0m \u001b[0;34m\"querysearch=\"\u001b[0m\u001b[0;34m,\u001b[0m \u001b[0;34m\"toptweets\"\u001b[0m\u001b[0;34m,\u001b[0m \u001b[0;34m\"maxtweets=\"\u001b[0m\u001b[0;34m,\u001b[0m \u001b[0;34m\"output=\"\u001b[0m\u001b[0;34m)\u001b[0m\u001b[0;34m)\u001b[0m\u001b[0;34m\u001b[0m\u001b[0m\n\u001b[0m\u001b[1;32m     23\u001b[0m \u001b[0;34m\u001b[0m\u001b[0m\n",
      "\u001b[0;32m/opt/conda/lib/python3.6/getopt.py\u001b[0m in \u001b[0;36mgetopt\u001b[0;34m(args, shortopts, longopts)\u001b[0m\n\u001b[1;32m     94\u001b[0m         \u001b[0;32melse\u001b[0m\u001b[0;34m:\u001b[0m\u001b[0;34m\u001b[0m\u001b[0m\n\u001b[0;32m---> 95\u001b[0;31m             \u001b[0mopts\u001b[0m\u001b[0;34m,\u001b[0m \u001b[0margs\u001b[0m \u001b[0;34m=\u001b[0m \u001b[0mdo_shorts\u001b[0m\u001b[0;34m(\u001b[0m\u001b[0mopts\u001b[0m\u001b[0;34m,\u001b[0m \u001b[0margs\u001b[0m\u001b[0;34m[\u001b[0m\u001b[0;36m0\u001b[0m\u001b[0;34m]\u001b[0m\u001b[0;34m[\u001b[0m\u001b[0;36m1\u001b[0m\u001b[0;34m:\u001b[0m\u001b[0;34m]\u001b[0m\u001b[0;34m,\u001b[0m \u001b[0mshortopts\u001b[0m\u001b[0;34m,\u001b[0m \u001b[0margs\u001b[0m\u001b[0;34m[\u001b[0m\u001b[0;36m1\u001b[0m\u001b[0;34m:\u001b[0m\u001b[0;34m]\u001b[0m\u001b[0;34m)\u001b[0m\u001b[0;34m\u001b[0m\u001b[0m\n\u001b[0m\u001b[1;32m     96\u001b[0m \u001b[0;34m\u001b[0m\u001b[0m\n",
      "\u001b[0;32m/opt/conda/lib/python3.6/getopt.py\u001b[0m in \u001b[0;36mdo_shorts\u001b[0;34m(opts, optstring, shortopts, args)\u001b[0m\n\u001b[1;32m    194\u001b[0m         \u001b[0mopt\u001b[0m\u001b[0;34m,\u001b[0m \u001b[0moptstring\u001b[0m \u001b[0;34m=\u001b[0m \u001b[0moptstring\u001b[0m\u001b[0;34m[\u001b[0m\u001b[0;36m0\u001b[0m\u001b[0;34m]\u001b[0m\u001b[0;34m,\u001b[0m \u001b[0moptstring\u001b[0m\u001b[0;34m[\u001b[0m\u001b[0;36m1\u001b[0m\u001b[0;34m:\u001b[0m\u001b[0;34m]\u001b[0m\u001b[0;34m\u001b[0m\u001b[0m\n\u001b[0;32m--> 195\u001b[0;31m         \u001b[0;32mif\u001b[0m \u001b[0mshort_has_arg\u001b[0m\u001b[0;34m(\u001b[0m\u001b[0mopt\u001b[0m\u001b[0;34m,\u001b[0m \u001b[0mshortopts\u001b[0m\u001b[0;34m)\u001b[0m\u001b[0;34m:\u001b[0m\u001b[0;34m\u001b[0m\u001b[0m\n\u001b[0m\u001b[1;32m    196\u001b[0m             \u001b[0;32mif\u001b[0m \u001b[0moptstring\u001b[0m \u001b[0;34m==\u001b[0m \u001b[0;34m''\u001b[0m\u001b[0;34m:\u001b[0m\u001b[0;34m\u001b[0m\u001b[0m\n",
      "\u001b[0;32m/opt/conda/lib/python3.6/getopt.py\u001b[0m in \u001b[0;36mshort_has_arg\u001b[0;34m(opt, shortopts)\u001b[0m\n\u001b[1;32m    210\u001b[0m             \u001b[0;32mreturn\u001b[0m \u001b[0mshortopts\u001b[0m\u001b[0;34m.\u001b[0m\u001b[0mstartswith\u001b[0m\u001b[0;34m(\u001b[0m\u001b[0;34m':'\u001b[0m\u001b[0;34m,\u001b[0m \u001b[0mi\u001b[0m\u001b[0;34m+\u001b[0m\u001b[0;36m1\u001b[0m\u001b[0;34m)\u001b[0m\u001b[0;34m\u001b[0m\u001b[0m\n\u001b[0;32m--> 211\u001b[0;31m     \u001b[0;32mraise\u001b[0m \u001b[0mGetoptError\u001b[0m\u001b[0;34m(\u001b[0m\u001b[0m_\u001b[0m\u001b[0;34m(\u001b[0m\u001b[0;34m'option -%s not recognized'\u001b[0m\u001b[0;34m)\u001b[0m \u001b[0;34m%\u001b[0m \u001b[0mopt\u001b[0m\u001b[0;34m,\u001b[0m \u001b[0mopt\u001b[0m\u001b[0;34m)\u001b[0m\u001b[0;34m\u001b[0m\u001b[0m\n\u001b[0m\u001b[1;32m    212\u001b[0m \u001b[0;34m\u001b[0m\u001b[0m\n",
      "\u001b[0;31mGetoptError\u001b[0m: option -f not recognized",
      "\nDuring handling of the above exception, another exception occurred:\n",
      "\u001b[0;31mUnboundLocalError\u001b[0m                         Traceback (most recent call last)",
      "\u001b[0;32m<ipython-input-59-68a04008bfa6>\u001b[0m in \u001b[0;36mmain\u001b[0;34m(argv)\u001b[0m\n\u001b[1;32m     71\u001b[0m \u001b[0;34m\u001b[0m\u001b[0m\n\u001b[0;32m---> 72\u001b[0;31m         \u001b[0;32mexcept\u001b[0m \u001b[0marg\u001b[0m\u001b[0;34m:\u001b[0m\u001b[0;34m\u001b[0m\u001b[0m\n\u001b[0m\u001b[1;32m     73\u001b[0m                 \u001b[0mprint\u001b[0m\u001b[0;34m(\u001b[0m\u001b[0;34m'Arguments parser error, try -h'\u001b[0m \u001b[0;34m+\u001b[0m \u001b[0marg\u001b[0m\u001b[0;34m)\u001b[0m\u001b[0;34m\u001b[0m\u001b[0m\n",
      "\u001b[0;31mUnboundLocalError\u001b[0m: local variable 'arg' referenced before assignment",
      "\nDuring handling of the above exception, another exception occurred:\n",
      "\u001b[0;31mUnboundLocalError\u001b[0m                         Traceback (most recent call last)",
      "\u001b[0;32m<ipython-input-59-68a04008bfa6>\u001b[0m in \u001b[0;36m<module>\u001b[0;34m()\u001b[0m\n\u001b[1;32m     77\u001b[0m \u001b[0;34m\u001b[0m\u001b[0m\n\u001b[1;32m     78\u001b[0m \u001b[0;32mif\u001b[0m \u001b[0m__name__\u001b[0m \u001b[0;34m==\u001b[0m \u001b[0;34m'__main__'\u001b[0m\u001b[0;34m:\u001b[0m\u001b[0;34m\u001b[0m\u001b[0m\n\u001b[0;32m---> 79\u001b[0;31m         \u001b[0mmain\u001b[0m\u001b[0;34m(\u001b[0m\u001b[0msys\u001b[0m\u001b[0;34m.\u001b[0m\u001b[0margv\u001b[0m\u001b[0;34m[\u001b[0m\u001b[0;36m1\u001b[0m\u001b[0;34m:\u001b[0m\u001b[0;34m]\u001b[0m\u001b[0;34m)\u001b[0m\u001b[0;34m\u001b[0m\u001b[0m\n\u001b[0m",
      "\u001b[0;32m<ipython-input-59-68a04008bfa6>\u001b[0m in \u001b[0;36mmain\u001b[0;34m(argv)\u001b[0m\n\u001b[1;32m     73\u001b[0m                 \u001b[0mprint\u001b[0m\u001b[0;34m(\u001b[0m\u001b[0;34m'Arguments parser error, try -h'\u001b[0m \u001b[0;34m+\u001b[0m \u001b[0marg\u001b[0m\u001b[0;34m)\u001b[0m\u001b[0;34m\u001b[0m\u001b[0m\n\u001b[1;32m     74\u001b[0m         \u001b[0;32mfinally\u001b[0m\u001b[0;34m:\u001b[0m\u001b[0;34m\u001b[0m\u001b[0m\n\u001b[0;32m---> 75\u001b[0;31m                 \u001b[0moutputFile\u001b[0m\u001b[0;34m.\u001b[0m\u001b[0mclose\u001b[0m\u001b[0;34m(\u001b[0m\u001b[0;34m)\u001b[0m\u001b[0;34m\u001b[0m\u001b[0m\n\u001b[0m\u001b[1;32m     76\u001b[0m                 \u001b[0mprint\u001b[0m\u001b[0;34m(\u001b[0m\u001b[0;34m'Done. Output file generated \"%s\".'\u001b[0m \u001b[0;34m%\u001b[0m \u001b[0moutputFileName\u001b[0m\u001b[0;34m)\u001b[0m\u001b[0;34m\u001b[0m\u001b[0m\n\u001b[1;32m     77\u001b[0m \u001b[0;34m\u001b[0m\u001b[0m\n",
      "\u001b[0;31mUnboundLocalError\u001b[0m: local variable 'outputFile' referenced before assignment"
     ]
    }
   ],
   "source": [
    "# %load GetOldTweets-python/Exporter.py\n",
    "import sys,getopt,datetime,codecs\n",
    "if sys.version_info[0] < 3:\n",
    "    import got\n",
    "else:\n",
    "    import got3 as got\n",
    "\n",
    "def main(argv):\n",
    "\n",
    "\tif len(argv) == 0:\n",
    "\t\tprint('You must pass some parameters. Use \\\"-h\\\" to help.')\n",
    "\t\treturn\n",
    "\n",
    "\tif len(argv) == 1 and argv[0] == '-h':\n",
    "\t\tf = open('exporter_help_text.txt', 'r')\n",
    "\t\tprint (f.read())\n",
    "\t\tf.close()\n",
    "\n",
    "\t\treturn\n",
    "\n",
    "\ttry:\n",
    "\t\topts, args = getopt.getopt(argv, \"\", (\"username=\", \"near=\", \"within=\", \"since=\", \"until=\", \"querysearch=\", \"toptweets\", \"maxtweets=\", \"output=\"))\n",
    "\n",
    "\t\ttweetCriteria = got.manager.TweetCriteria()\n",
    "\t\toutputFileName = \"output_got.csv\"\n",
    "\n",
    "\t\tfor opt,arg in opts:\n",
    "\t\t\tif opt == '--username':\n",
    "\t\t\t\ttweetCriteria.username = arg\n",
    "\n",
    "\t\t\telif opt == '--since':\n",
    "\t\t\t\ttweetCriteria.since = arg\n",
    "\n",
    "\t\t\telif opt == '--until':\n",
    "\t\t\t\ttweetCriteria.until = arg\n",
    "\n",
    "\t\t\telif opt == '--querysearch':\n",
    "\t\t\t\ttweetCriteria.querySearch = arg\n",
    "\n",
    "\t\t\telif opt == '--toptweets':\n",
    "\t\t\t\ttweetCriteria.topTweets = True\n",
    "\n",
    "\t\t\telif opt == '--maxtweets':\n",
    "\t\t\t\ttweetCriteria.maxTweets = int(arg)\n",
    "\t\t\t\n",
    "\t\t\telif opt == '--near':\n",
    "\t\t\t\ttweetCriteria.near = '\"' + arg + '\"'\n",
    "\t\t\t\n",
    "\t\t\telif opt == '--within':\n",
    "\t\t\t\ttweetCriteria.within = '\"' + arg + '\"'\n",
    "\n",
    "\t\t\telif opt == '--within':\n",
    "\t\t\t\ttweetCriteria.within = '\"' + arg + '\"'\n",
    "\n",
    "\t\t\telif opt == '--output':\n",
    "\t\t\t\toutputFileName = arg\n",
    "\t\t\t\t\n",
    "\t\toutputFile = codecs.open(outputFileName, \"w+\", \"utf-8\")\n",
    "\n",
    "\t\toutputFile.write('username;date;retweets;favorites;text;geo;mentions;hashtags;id;permalink')\n",
    "\n",
    "\t\tprint('Searching...\\n')\n",
    "\n",
    "\t\tdef receiveBuffer(tweets):\n",
    "\t\t\tfor t in tweets:\n",
    "\t\t\t\toutputFile.write(('\\n%s;%s;%d;%d;\"%s\";%s;%s;%s;\"%s\";%s' % (t.username, t.date.strftime(\"%Y-%m-%d %H:%M\"), t.retweets, t.favorites, t.text, t.geo, t.mentions, t.hashtags, t.id, t.permalink)))\n",
    "\t\t\toutputFile.flush()\n",
    "\t\t\tprint('More %d saved on file...\\n' % len(tweets))\n",
    "\n",
    "\t\tgot.manager.TweetManager.getTweets(tweetCriteria, receiveBuffer)\n",
    "\n",
    "\texcept arg:\n",
    "\t\tprint('Arguments parser error, try -h' + arg)\n",
    "\tfinally:\n",
    "\t\toutputFile.close()\n",
    "\t\tprint('Done. Output file generated \"%s\".' % outputFileName)\n",
    "\n",
    "if __name__ == '__main__':\n",
    "\tmain(sys.argv[1:])\n"
   ]
  },
  {
   "cell_type": "code",
   "execution_count": 60,
   "metadata": {},
   "outputs": [
    {
     "ename": "SyntaxError",
     "evalue": "invalid syntax (<ipython-input-60-da57557f0ec8>, line 1)",
     "output_type": "error",
     "traceback": [
      "\u001b[0;36m  File \u001b[0;32m\"<ipython-input-60-da57557f0ec8>\"\u001b[0;36m, line \u001b[0;32m1\u001b[0m\n\u001b[0;31m    python Exporter.py --username \"barackobama\" --maxtweets 1\u001b[0m\n\u001b[0m                  ^\u001b[0m\n\u001b[0;31mSyntaxError\u001b[0m\u001b[0;31m:\u001b[0m invalid syntax\n"
     ]
    }
   ],
   "source": [
    "python Exporter.py --username \"barackobama\" --maxtweets 1"
   ]
  },
  {
   "cell_type": "code",
   "execution_count": 61,
   "metadata": {},
   "outputs": [],
   "source": [
    "tweetCriteria = got.manager.TweetCriteria().setUsername('realDonaldTrump').setMaxTweets(0)"
   ]
  },
  {
   "cell_type": "code",
   "execution_count": null,
   "metadata": {},
   "outputs": [],
   "source": [
    "tweet = got.manager.TweetManager.getTweets(tweetCriteria)\n",
    "print (tweet.text)"
   ]
  },
  {
   "cell_type": "code",
   "execution_count": null,
   "metadata": {},
   "outputs": [],
   "source": [
    "got.manager.TweetManager.getTweets(tweetCriteria)"
   ]
  },
  {
   "cell_type": "code",
   "execution_count": null,
   "metadata": {},
   "outputs": [],
   "source": []
  }
 ],
 "metadata": {
  "kernelspec": {
   "display_name": "Python 3",
   "language": "python",
   "name": "python3"
  }
 },
 "nbformat": 4,
 "nbformat_minor": 2
}
